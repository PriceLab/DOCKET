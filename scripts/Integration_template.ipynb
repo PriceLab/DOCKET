{
 "cells": [
  {
   "cell_type": "markdown",
   "metadata": {},
   "source": [
    "#### In this example, we integrated the two datasets as listed in <font color='red'>Data_file1</font>  and  <font color='red'>Data_file2</font>  by merging them using the identifier of  <font color='red'>Common_index</font>. For example, we integrated the mutation data of AML  and the drug response data in the GDSC dataset, and statistically assessed whether the mutation of one gene will be associated with the sensitivity or resistance of one drug."
   ]
  },
  {
   "cell_type": "code",
   "execution_count": null,
   "metadata": {},
   "outputs": [],
   "source": [
    "import Docket_integration\n",
    "\n",
    "import matplotlib.pyplot as plt\n",
    "import pandas as pd\n",
    "import scipy\n",
    "import numpy as np\n",
    "import json"
   ]
  },
  {
   "cell_type": "markdown",
   "metadata": {},
   "source": [
    "#### Parameters"
   ]
  },
  {
   "cell_type": "code",
   "execution_count": null,
   "metadata": {},
   "outputs": [],
   "source": [
    "input_data1 = {\n",
    "             \"Data_file1\": \"../Data/LUAD_GDSC_MUT.csv\",\n",
    "             \"Data_file2\": \"../Data/LUAD_GDSC_Drug.csv\",\n",
    "             \"Common_index\": [\"COSMIC_identifier\", \"COSMIC_identifier\"],\n",
    "             \"Features_1\":\"HGNC_gene_symbol\",                                     #Features for Data_file1\n",
    "             \"Features_2\": ['Drug_identifier',\"IC50\"],                             #Features for Data_file2\n",
    "             \"Label_1\": 'MUT',\n",
    "             \"Label_2\": 'Drug'\n",
    "            }\n"
   ]
  },
  {
   "cell_type": "code",
   "execution_count": null,
   "metadata": {},
   "outputs": [],
   "source": [
    "input_data2 = {\n",
    "             \"Genelist\": ['PIK3CA_MUT','TP53_MUT','KRAS_MUT','EGFR_MUT'],   #Select the genes mutations for analysis\n",
    "             \"Druglist\":[],                                                        #If no drug is selected, all drugs will be used!\n",
    "             \"Output_SEN_File1\": \"../Output/LUAD_Sensitivity.csv\",                      #The output file for drugs which show sensitivity to the gene mutations\n",
    "             \"Output_RES_File2\": \"../Output/LUAD_Resistance.csv\"  ,                      #The output file for drugs which show resistance to the gene mutations\n",
    "             \"Drug_annotation\" : \"../Data/GDSC_Drug_anno.csv\"\n",
    "            }"
   ]
  },
  {
   "cell_type": "code",
   "execution_count": null,
   "metadata": {},
   "outputs": [],
   "source": [
    "Merged_mat = Docket_integration.merge_data(input_data1)\n",
    "result = Docket_integration.Integration_mutation_drugResponse(Merged_mat, input_data1, input_data2)"
   ]
  },
  {
   "cell_type": "code",
   "execution_count": null,
   "metadata": {},
   "outputs": [],
   "source": [
    "Drug_annotation = pd.read_csv(input_data2['Drug_annotation'])\n",
    "Drug_annotation.index = Drug_annotation['Drug_identifier']\n",
    "\n",
    "temp = list(result['F2'].values)\n",
    "\n",
    "temp_new_id = []\n",
    "Drug_Name_list = []\n",
    "Drug_Putative_Target_list = []\n",
    "pathway_list = []\n",
    "\n",
    "for i in temp:\n",
    "    temp_new_id.append(i.split('_')[0])\n",
    "    Drug_Name_list.append(Drug_annotation.loc[Drug_annotation['Drug_identifier'] == int(i.split('_')[0])]['Drug_Name'].values[0])\n",
    "    Drug_Putative_Target_list.append(Drug_annotation.loc[Drug_annotation['Drug_identifier'] == int(i.split('_')[0])]['Drug_Putative_Target'].values[0])\n",
    "    pathway_list.append(Drug_annotation.loc[Drug_annotation['Drug_identifier'] == int(i.split('_')[0])]['Drug_Targeted_process_or_pathway'].values[0])\n",
    "\n",
    "result['Drug'] = Drug_Name_list\n",
    "result['Target'] = Drug_Putative_Target_list\n",
    "result['Pathway'] = pathway_list\n",
    "\n",
    "import plotly.express as px\n",
    "\n",
    "fig = px.scatter(result, \"SE\", \"-logP\", hover_data=['F1','F2','Drug'],color=\"Pathway\")\n",
    "fig.show()"
   ]
  },
  {
   "cell_type": "code",
   "execution_count": null,
   "metadata": {},
   "outputs": [],
   "source": [
    "result.loc[result['FDR'] < 0.05]"
   ]
  }
 ],
 "metadata": {
  "kernelspec": {
   "display_name": "Python 3",
   "language": "python",
   "name": "python3"
  },
  "language_info": {
   "codemirror_mode": {
    "name": "ipython",
    "version": 3
   },
   "file_extension": ".py",
   "mimetype": "text/x-python",
   "name": "python",
   "nbconvert_exporter": "python",
   "pygments_lexer": "ipython3",
   "version": "3.7.3"
  }
 },
 "nbformat": 4,
 "nbformat_minor": 2
}
