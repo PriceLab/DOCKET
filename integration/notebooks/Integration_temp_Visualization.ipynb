{
 "cells": [
  {
   "cell_type": "markdown",
   "metadata": {},
   "source": [
    "### About this notebook: \n",
    "<font color='grey'>Compare the similarity of gene mutations by estimating the ratio of identical muation sites between two data sets. <br/>In this example, we compare the gene mutations between patient derived somatic mutations from LUAD in the TCGA project and the cell line derived variants of LUAD in the GDSC project, and check the highly frequently altered somatic mutations from the patient derived samples, and similar genes in the cell line derived variants. \n",
    "</font>"
   ]
  },
  {
   "cell_type": "code",
   "execution_count": null,
   "metadata": {},
   "outputs": [],
   "source": [
    "import sys\n",
    "import pandas as pd\n",
    "import json\n",
    "sys.path.append('../scripts/')\n",
    "import Docket_integration"
   ]
  },
  {
   "cell_type": "markdown",
   "metadata": {},
   "source": [
    "### Define the input directory and the output directory: \n",
    "<font color='grey'> \n",
    "    \"input_dir\": directory of input data<br/>\n",
    "    \"output_dir\":directory of output data<br/>\n",
    "</font>"
   ]
  },
  {
   "cell_type": "code",
   "execution_count": null,
   "metadata": {},
   "outputs": [],
   "source": [
    "directories = {\"input_dir\":\"../Output_BRCA\",\n",
    "              \"output_dir\":\"../Output_BRCA\"\n",
    "              }"
   ]
  },
  {
   "cell_type": "markdown",
   "metadata": {},
   "source": [
    "### Parameters: "
   ]
  },
  {
   "cell_type": "code",
   "execution_count": null,
   "metadata": {},
   "outputs": [],
   "source": [
    "input_data = {\n",
    "                \"input_file\":\"mut_drug_pair_annotated.csv\",\n",
    "                \"columns_forFilter\":\"p\",\n",
    "                \"threshold\":\"0.05\",\n",
    "                \"F1\":[\"F1\"],\n",
    "                \"F2\":[\"Drug_Name\",\"Drug_Putative_Target\",\"Drug_Targeted_process_or_pathway\"],\n",
    "                \"Label_for_edge\":\"SE\"\n",
    "             }"
   ]
  },
  {
   "cell_type": "code",
   "execution_count": null,
   "metadata": {},
   "outputs": [],
   "source": [
    "result = pd.read_csv(directories[\"output_dir\"] +input_data['input_file'])\n",
    "result = result.loc[result[input_data[\"columns_forFilter\"]] < float(input_data[\"threshold\"])]"
   ]
  },
  {
   "cell_type": "code",
   "execution_count": null,
   "metadata": {},
   "outputs": [],
   "source": [
    "Docket_integration.cytoscape_plot(result, input_data['F1'][0],input_data['F2'][0],input_data['Label_for_edge'],'category')"
   ]
  },
  {
   "cell_type": "code",
   "execution_count": null,
   "metadata": {},
   "outputs": [],
   "source": [
    "Docket_integration.cytoscape_plot(result, input_data['F1'][0],input_data['F2'][1],input_data['Label_for_edge'],'category')"
   ]
  },
  {
   "cell_type": "code",
   "execution_count": null,
   "metadata": {},
   "outputs": [],
   "source": [
    "Docket_integration.cytoscape_plot(result, input_data['F1'][0],input_data['F2'][2],input_data['Label_for_edge'],'category')"
   ]
  }
 ],
 "metadata": {
  "kernelspec": {
   "display_name": "Python 3",
   "language": "python",
   "name": "python3"
  },
  "language_info": {
   "codemirror_mode": {
    "name": "ipython",
    "version": 3
   },
   "file_extension": ".py",
   "mimetype": "text/x-python",
   "name": "python",
   "nbconvert_exporter": "python",
   "pygments_lexer": "ipython3",
   "version": "3.7.3"
  }
 },
 "nbformat": 4,
 "nbformat_minor": 2
}
