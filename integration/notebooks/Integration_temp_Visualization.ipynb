{
 "cells": [
  {
   "cell_type": "code",
   "execution_count": null,
   "metadata": {},
   "outputs": [],
   "source": [
    "import sys\n",
    "import pandas as pd\n",
    "import json\n",
    "sys.path.append('../scripts/')\n",
    "import Docket_integration"
   ]
  },
  {
   "cell_type": "code",
   "execution_count": null,
   "metadata": {},
   "outputs": [],
   "source": [
    "input_data = {\n",
    "                \"input_file\":\"../Output/LUAD_GDSC_mut_drug_pair_annotated.csv\",\n",
    "                \"columns_forFilter\":\"p\",\n",
    "                \"threshold\":\"0.05\",\n",
    "                \"F1\":[\"F1\"],\n",
    "                \"F2\":[\"Drug_Name\",\"Drug_Putative_Target\",\"Drug_Targeted_process_or_pathway\"],\n",
    "                \"Label_for_edge\":\"SE\"\n",
    "             }"
   ]
  },
  {
   "cell_type": "code",
   "execution_count": null,
   "metadata": {},
   "outputs": [],
   "source": [
    "result = pd.read_csv(input_data['input_file'])\n",
    "result = result.loc[result[input_data[\"columns_forFilter\"]] < float(input_data[\"threshold\"])]"
   ]
  },
  {
   "cell_type": "code",
   "execution_count": null,
   "metadata": {},
   "outputs": [],
   "source": [
    "Docket_integration.cytoscape_plot(result, input_data['F1'][0],input_data['F2'][0],input_data['Label_for_edge'],'category')"
   ]
  },
  {
   "cell_type": "code",
   "execution_count": null,
   "metadata": {},
   "outputs": [],
   "source": [
    "Docket_integration.cytoscape_plot(result, input_data['F1'][0],input_data['F2'][1],input_data['Label_for_edge'],'category')"
   ]
  },
  {
   "cell_type": "code",
   "execution_count": null,
   "metadata": {},
   "outputs": [],
   "source": [
    "Docket_integration.cytoscape_plot(result, input_data['F1'][0],input_data['F2'][2],input_data['Label_for_edge'],'category')"
   ]
  }
 ],
 "metadata": {
  "kernelspec": {
   "display_name": "Python 3",
   "language": "python",
   "name": "python3"
  },
  "language_info": {
   "codemirror_mode": {
    "name": "ipython",
    "version": 3
   },
   "file_extension": ".py",
   "mimetype": "text/x-python",
   "name": "python",
   "nbconvert_exporter": "python",
   "pygments_lexer": "ipython3",
   "version": "3.7.3"
  }
 },
 "nbformat": 4,
 "nbformat_minor": 2
}
