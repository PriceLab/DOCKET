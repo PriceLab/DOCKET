{
 "cells": [
  {
   "cell_type": "markdown",
   "metadata": {},
   "source": [
    "### About this notebook: \n",
    "<font color='grey'>This notebook aims to integrate mutation data and drug response data, and to find which drugs show sensitivity or resistance to a gene mutation. <br/>\n",
    "Considering the variants in GDSC dataset are without normal samples, we then used TCGA somatic mutations as well as Cosmic dataset to filter the mutation site in GDSC.\n",
    "<br/></font>"
   ]
  },
  {
   "cell_type": "code",
   "execution_count": null,
   "metadata": {},
   "outputs": [],
   "source": [
    "import sys\n",
    "import matplotlib.pyplot as plt\n",
    "import pandas as pd\n",
    "import scipy\n",
    "from scipy import stats \n",
    "import numpy as np\n",
    "import json\n",
    "import statsmodels.stats.multitest as multi\n",
    "import matplotlib.pyplot as plt\n",
    "import math\n",
    "sys.path.append('../scripts/')\n",
    "import Docket_integration"
   ]
  },
  {
   "cell_type": "markdown",
   "metadata": {},
   "source": [
    "### Define the input directory and the output directory: \n",
    "<font color='grey'> \n",
    "    \"input_dir\": directory of input data<br/>\n",
    "    \"output_dir\":directory of output data<br/>\n",
    "</font>"
   ]
  },
  {
   "cell_type": "code",
   "execution_count": null,
   "metadata": {},
   "outputs": [],
   "source": [
    "directories = {\"input_dir\":\"../Data/Data_input_for_LUAD\",\n",
    "               \"output_dir\":\"../Data/Data_output_for_LUAD/\"}\n"
   ]
  },
  {
   "cell_type": "markdown",
   "metadata": {},
   "source": [
    "### About the input file and the output files: \n",
    "<font color='grey'> \n",
    "    <font color='green'> input_data;<br/></font>\n",
    "        \"input_file_1\": The mutation matrix;<br/>\n",
    "        \"input_file_2\": The drug response matrix;<br/>\n",
    "        \"input_file_TCGA_cosmic\": Variants observed in TCGA and Cosmic as tumor related somatic mutations.<br/>\n",
    "        \"output_file\": The merged data table ;<br/>\n",
    "</font>\n",
    "\n",
    "<font color='grey'> \n",
    "    <font color='green'> input_data2;<br/></font>\n",
    "        \"Genelist\": The list of genes selected for analysis;<br/>\n",
    "        \"Druglist\": The list of drugs selected for analysis, if it is empty, all drugs from the input data will be used;<br/>\n",
    "        \"Output\": The association between drug response and mutations;<br/>\n",
    "</font>"
   ]
  },
  {
   "cell_type": "code",
   "execution_count": null,
   "metadata": {},
   "outputs": [],
   "source": [
    "input_data = {\n",
    "         \"input_file_1\": \"Mut_site_GDSC.csv\",\n",
    "         \"input_file_2\": \"Drug_GDSC_matirx.csv\",\n",
    "         \"input_file_TCGA_cosmic\":\"../Dataset/variants.xlsx\",\n",
    "         \"Sample_label\":\"COSMIC_identifier\",\n",
    "         \"Gene_label\":\"HGNC_gene_symbol\",\n",
    "         \"output_file\": \"GDSC_mut_TCGA_cosmic_drug_merge.csv\",\n",
    "         \"Genelist\": ['PIK3CA','TP53','KRAS','EGFR'],   #Select the genes mutations for analysis\n",
    "         \"Druglist\":[],                                                        #If no drug is selected, all drugs will be used!\n",
    "        \"Output\": \"mut_cancerRelated_drug_pair.csv\" \n",
    "           }\n"
   ]
  },
  {
   "cell_type": "markdown",
   "metadata": {},
   "source": [
    "### Data processing --  Step 1: \n",
    "<font color='grey'> \n",
    "    Read tables;<br/>\n",
    "    Compare tables;<br/>\n",
    "    Merge tables;<br/>\n",
    "    \n",
    "</font>"
   ]
  },
  {
   "cell_type": "code",
   "execution_count": null,
   "metadata": {},
   "outputs": [],
   "source": [
    "mut_GDSC = pd.read_csv(directories['input_dir']+'/'+input_data['input_file_1'])  #Read files\n",
    "drug_matrix = pd.read_csv(directories['input_dir']+'/'+input_data['input_file_2'], index_col = \"Unnamed: 0\")\n",
    "\n",
    "Mut_CEF = pd.read_excel(input_data['input_file_TCGA_cosmic'])\n",
    "Mut_CEF['new_id'] = Mut_CEF['Gene'] + Mut_CEF['AA']\n",
    "mut_GDSC_sele = mut_GDSC.loc[mut_GDSC['new_id'].isin(list(Mut_CEF['new_id']))]\n"
   ]
  },
  {
   "cell_type": "code",
   "execution_count": null,
   "metadata": {},
   "outputs": [],
   "source": [
    "Mut_TCGA_matrix = Docket_integration.generate_mutation_matrix(mut_GDSC_sele,input_data['Sample_label'],input_data['Gene_label'],'') #Generate gene mutation matrix "
   ]
  },
  {
   "cell_type": "code",
   "execution_count": null,
   "metadata": {},
   "outputs": [],
   "source": [
    "label_for_merge = Docket_integration.matrix_comp(Mut_TCGA_matrix,drug_matrix )   "
   ]
  },
  {
   "cell_type": "code",
   "execution_count": null,
   "metadata": {},
   "outputs": [],
   "source": [
    "if label_for_merge[0] > 0.9:\n",
    "    Merged_mat = Docket_integration.merge_matrix(Mut_TCGA_matrix, drug_matrix, 'Row','Row')\n",
    "elif label_for_merge[1] == 1:\n",
    "    Merged_mat = Docket_integration.merge_matrix(Mut_TCGA_matrix, drug_matrix, 'Col','Col')\n",
    "    \n",
    "Merged_mat.to_csv(directories['output_dir']+'/'+input_data['output_file'])\n"
   ]
  },
  {
   "cell_type": "markdown",
   "metadata": {},
   "source": [
    "### Data processing --  Step 2: \n",
    "<font color='grey'> \n",
    "    Integrating two datasets through statistical modeling;<br/>\n",
    "</font>"
   ]
  },
  {
   "cell_type": "code",
   "execution_count": null,
   "metadata": {},
   "outputs": [],
   "source": [
    "if len(input_data['Genelist']) > 0:\n",
    "    Features_groupA = input_data['Genelist']\n",
    "else:\n",
    "    Features_groupA = list(Mut_TCGA_matrix.columns.values)\n",
    "\n",
    "if len(input_data['Druglist']) > 0:\n",
    "    Features_groupB = input_data['Druglist']\n",
    "else:\n",
    "    Features_groupB = list(drug_matrix.columns.values)\n",
    "\n",
    "\n",
    "result = Docket_integration.Integration_category_numeric(Merged_mat, Features_groupA, Features_groupB)"
   ]
  },
  {
   "cell_type": "code",
   "execution_count": null,
   "metadata": {},
   "outputs": [],
   "source": [
    "result.to_csv(directories['output_dir']+input_data['Output'])\n"
   ]
  },
  {
   "cell_type": "code",
   "execution_count": null,
   "metadata": {},
   "outputs": [],
   "source": [
    "result.loc[result['FDR'] < 0.05].sort_values(by = ['FDR'])\n"
   ]
  },
  {
   "cell_type": "code",
   "execution_count": null,
   "metadata": {},
   "outputs": [],
   "source": []
  }
 ],
 "metadata": {
  "kernelspec": {
   "display_name": "Python 3",
   "language": "python",
   "name": "python3"
  },
  "language_info": {
   "codemirror_mode": {
    "name": "ipython",
    "version": 3
   },
   "file_extension": ".py",
   "mimetype": "text/x-python",
   "name": "python",
   "nbconvert_exporter": "python",
   "pygments_lexer": "ipython3",
   "version": "3.7.4"
  }
 },
 "nbformat": 4,
 "nbformat_minor": 2
}
