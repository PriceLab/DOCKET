{
 "cells": [
  {
   "cell_type": "code",
   "execution_count": null,
   "metadata": {},
   "outputs": [],
   "source": [
    "import sys\n",
    "import matplotlib.pyplot as plt\n",
    "import pandas as pd\n",
    "import scipy\n",
    "from scipy import stats \n",
    "import numpy as np\n",
    "import json\n",
    "import statsmodels.stats.multitest as multi\n",
    "import matplotlib.pyplot as plt\n",
    "import math\n",
    "sys.path.append('../scripts/')\n",
    "import Docket_integration"
   ]
  },
  {
   "cell_type": "code",
   "execution_count": null,
   "metadata": {},
   "outputs": [],
   "source": [
    "input_data = {\"input_file_1\":\"../data/LUAD_GDSC_mut_matrix.csv\",\n",
    "\"input_file_2\":\"../data/LUAD_GDSC_expr_mat.csv\",\n",
    "\"output_file\":\"../Output/LUAD_GDSC_mut_expr_merge.csv\",\n",
    "}"
   ]
  },
  {
   "cell_type": "code",
   "execution_count": null,
   "metadata": {},
   "outputs": [],
   "source": [
    "input_data2 = {\"Mutlist\": [\"KRAS\"],\n",
    "\"Exprlist\": [],\n",
    "\"Output\":\"../Output/LUAD_GDSC_mut_exp_pair.csv\",\n",
    "}"
   ]
  },
  {
   "cell_type": "code",
   "execution_count": null,
   "metadata": {},
   "outputs": [],
   "source": [
    "Mut_mat = pd.read_csv(input_data['input_file_1'], index_col = \"Unnamed: 0\")\n",
    "drug_matrix = pd.read_csv(input_data['input_file_2'], index_col = \"Unnamed: 0\")"
   ]
  },
  {
   "cell_type": "code",
   "execution_count": null,
   "metadata": {},
   "outputs": [],
   "source": [
    "label_for_merge = Docket_integration.matrix_comp(Mut_mat,drug_matrix )   "
   ]
  },
  {
   "cell_type": "code",
   "execution_count": null,
   "metadata": {},
   "outputs": [],
   "source": [
    "if label_for_merge[0] > 0.9:\n",
    "    Merged_mat = Docket_integration.merge_matrix(Mut_mat, drug_matrix, 'Row','Row')\n",
    "elif label_for_merge[1] > 0.9:\n",
    "    Merged_mat = Docket_integration.merge_matrix(Mut_mat, drug_matrix, 'Col','Col')\n",
    "    \n",
    "Merged_mat.to_csv(input_data['output_file'])"
   ]
  },
  {
   "cell_type": "code",
   "execution_count": null,
   "metadata": {},
   "outputs": [],
   "source": [
    "if len(input_data2['Mutlist']) > 0:\n",
    "    Features_groupA = input_data2['Mutlist']\n",
    "else:\n",
    "    Features_groupA = list(Mut_mat.columns.values)\n",
    "\n",
    "if len(input_data2['Exprlist']) > 0:\n",
    "    Features_groupB = input_data2['Exprlist']\n",
    "else:\n",
    "    Features_groupB = list(drug_matrix.columns.values)\n",
    "\n",
    "\n",
    "result = Docket_integration.Integration_category_numeric(Merged_mat, Features_groupA, Features_groupB)"
   ]
  },
  {
   "cell_type": "code",
   "execution_count": null,
   "metadata": {},
   "outputs": [],
   "source": [
    "result.to_csv(input_data2['Output'])"
   ]
  },
  {
   "cell_type": "code",
   "execution_count": null,
   "metadata": {},
   "outputs": [],
   "source": [
    "result.sort_values(by = ['p'])"
   ]
  },
  {
   "cell_type": "code",
   "execution_count": null,
   "metadata": {},
   "outputs": [],
   "source": [
    "result.loc[result['FDR'] < 0.05].sort_values(by = ['FDR'])"
   ]
  }
 ],
 "metadata": {
  "kernelspec": {
   "display_name": "Python 3",
   "language": "python",
   "name": "python3"
  },
  "language_info": {
   "codemirror_mode": {
    "name": "ipython",
    "version": 3
   },
   "file_extension": ".py",
   "mimetype": "text/x-python",
   "name": "python",
   "nbconvert_exporter": "python",
   "pygments_lexer": "ipython3",
   "version": "3.7.3"
  }
 },
 "nbformat": 4,
 "nbformat_minor": 2
}
