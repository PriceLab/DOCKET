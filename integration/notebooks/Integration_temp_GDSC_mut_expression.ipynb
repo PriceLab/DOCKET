{
 "cells": [
  {
   "cell_type": "markdown",
   "metadata": {},
   "source": [
    "### About this notebook: \n",
    "<font color='grey'>\n",
    "</font>"
   ]
  },
  {
   "cell_type": "code",
   "execution_count": null,
   "metadata": {},
   "outputs": [],
   "source": [
    "import sys\n",
    "import matplotlib.pyplot as plt\n",
    "import pandas as pd\n",
    "import scipy\n",
    "from scipy import stats \n",
    "import numpy as np\n",
    "import json\n",
    "import statsmodels.stats.multitest as multi\n",
    "import matplotlib.pyplot as plt\n",
    "import math\n",
    "sys.path.append('../scripts/')\n",
    "import Docket_integration"
   ]
  },
  {
   "cell_type": "markdown",
   "metadata": {},
   "source": [
    "### Define the input directory and the output directory: \n",
    "<font color='grey'> \n",
    "    \"input_dir\": directory of input data<br/>\n",
    "    \"output_dir\":directory of output data<br/>\n",
    "</font>"
   ]
  },
  {
   "cell_type": "code",
   "execution_count": null,
   "metadata": {},
   "outputs": [],
   "source": [
    "directories = {\"input_dir\":\"../data/Data_input_for_LUAD\",\n",
    "               \"output_dir\":\"../Output_LUAD\"}"
   ]
  },
  {
   "cell_type": "markdown",
   "metadata": {},
   "source": [
    "### About the input file and the output files: \n",
    "<font color='grey'> \n",
    "    \"input_file_1\": the mutation matrix;<br/>\n",
    "    \"input_file_2\": the expression matrix;<br/>\n",
    "    \"File_out\": the merged file;<br/>\n",
    "</font>"
   ]
  },
  {
   "cell_type": "code",
   "execution_count": null,
   "metadata": {},
   "outputs": [],
   "source": [
    "input_data = {\"input_file_1\":\"Mut_GDSC_matrix.csv\",\n",
    "\"input_file_2\":\"Exp_GDSC_matrix.csv\",\n",
    "\"output_file\":\"mut_expr_merge.csv\",\n",
    "}"
   ]
  },
  {
   "cell_type": "code",
   "execution_count": null,
   "metadata": {},
   "outputs": [],
   "source": [
    "input_data2 = {\"Mutlist\": [\"TP53\"],\n",
    "\"Exprlist\": [],\n",
    "\"Output\":\"mut_exp_pair.csv\",\n",
    "}"
   ]
  },
  {
   "cell_type": "markdown",
   "metadata": {},
   "source": [
    "### Data processing --  Step 1: \n",
    "<font color='grey'> \n",
    "    Read tables;<br/>\n",
    "    Merge tables;<br/>\n",
    "    \n",
    "</font>"
   ]
  },
  {
   "cell_type": "code",
   "execution_count": null,
   "metadata": {},
   "outputs": [],
   "source": [
    "Mut_mat = pd.read_csv(directories['input_dir'] + '/' + input_data['input_file_1'], index_col = \"Unnamed: 0\")\n",
    "Expr_matrix = pd.read_csv(directories['input_dir'] + '/' + input_data['input_file_2'], index_col = \"Unnamed: 0\")"
   ]
  },
  {
   "cell_type": "code",
   "execution_count": null,
   "metadata": {},
   "outputs": [],
   "source": [
    "label_for_merge = Docket_integration.matrix_comp(Mut_mat,Expr_matrix )   "
   ]
  },
  {
   "cell_type": "code",
   "execution_count": null,
   "metadata": {},
   "outputs": [],
   "source": [
    "if label_for_merge[0] > 0.9:\n",
    "    Merged_mat = Docket_integration.merge_matrix(Mut_mat, Expr_matrix, 'Row','Row')\n",
    "elif label_for_merge[1] > 0.9:\n",
    "    Merged_mat = Docket_integration.merge_matrix(Mut_mat, Expr_matrix, 'Col','Col')\n",
    "    \n",
    "Merged_mat.to_csv(directories['output_dir'] + '/' +input_data['output_file'])"
   ]
  },
  {
   "cell_type": "markdown",
   "metadata": {},
   "source": [
    "### Data processing --  Step 2: \n",
    "<font color='grey'> \n",
    "    Integrating two datasets through statistical modeling;<br/>\n",
    "</font>"
   ]
  },
  {
   "cell_type": "code",
   "execution_count": null,
   "metadata": {},
   "outputs": [],
   "source": [
    "if len(input_data2['Mutlist']) > 0:\n",
    "    Features_groupA = input_data2['Mutlist']\n",
    "    Features_groupA = list(set(Features_groupA).intersection(set(list(Mut_mat.columns.values))))\n",
    "else:\n",
    "    Features_groupA = list(Mut_mat.columns.values)\n",
    "\n",
    "if len(input_data2['Exprlist']) > 0:\n",
    "    Features_groupB = input_data2['Exprlist']\n",
    "    Features_groupB = list(set(Features_groupB).intersection(set(list(Expr_matrix.columns.values))))\n",
    "else:\n",
    "    Features_groupB = list(Expr_matrix.columns.values)\n",
    "\n",
    "\n",
    "result = Docket_integration.Integration_category_numeric(Merged_mat, Features_groupA, Features_groupB)"
   ]
  },
  {
   "cell_type": "code",
   "execution_count": null,
   "metadata": {},
   "outputs": [],
   "source": [
    "result.to_csv(directories['output_dir'] + '/' + input_data2['Output'])"
   ]
  },
  {
   "cell_type": "code",
   "execution_count": null,
   "metadata": {},
   "outputs": [],
   "source": [
    "result.sort_values(by = ['p'])"
   ]
  },
  {
   "cell_type": "code",
   "execution_count": null,
   "metadata": {},
   "outputs": [],
   "source": [
    "result.loc[result['FDR'] < 0.05].sort_values(by = ['FDR'])"
   ]
  }
 ],
 "metadata": {
  "kernelspec": {
   "display_name": "Python 3",
   "language": "python",
   "name": "python3"
  },
  "language_info": {
   "codemirror_mode": {
    "name": "ipython",
    "version": 3
   },
   "file_extension": ".py",
   "mimetype": "text/x-python",
   "name": "python",
   "nbconvert_exporter": "python",
   "pygments_lexer": "ipython3",
   "version": "3.7.3"
  }
 },
 "nbformat": 4,
 "nbformat_minor": 2
}
