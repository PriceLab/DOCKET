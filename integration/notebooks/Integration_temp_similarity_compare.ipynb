{
 "cells": [
  {
   "cell_type": "markdown",
   "metadata": {},
   "source": [
    "### About this notebook: \n",
    "<font color='grey'>Compare the similarity of gene mutations by estimating the ratio of identical muation sites between two data sets. <br/>In this example, we compare the gene mutations between patient derived somatic mutations from LUAD in the TCGA project and the cell line derived variants of LUAD in the GDSC project, and check the highly frequently altered somatic mutations from the patient derived samples, and similar genes in the cell line derived variants. \n",
    "</font>"
   ]
  },
  {
   "cell_type": "code",
   "execution_count": null,
   "metadata": {},
   "outputs": [],
   "source": [
    "import sys\n",
    "import os\n",
    "import pandas as pd\n",
    "import json\n",
    "import pandas as pd\n",
    "sys.path.append('../scripts/')\n",
    "import Docket_integration\n"
   ]
  },
  {
   "cell_type": "markdown",
   "metadata": {},
   "source": [
    "### Define the input directory and the output directory: \n",
    "<font color='grey'> \n",
    "    \"input_dir\": directory of input data<br/>\n",
    "    \"output_dir\":directory of output data<br/>\n",
    "</font>"
   ]
  },
  {
   "cell_type": "code",
   "execution_count": null,
   "metadata": {},
   "outputs": [],
   "source": [
    "directories = {\"input_dir\":\"../data/Data_input_for_LUAD\",\n",
    "               \"output_dir\":\"../Output_LUAD\"}"
   ]
  },
  {
   "cell_type": "markdown",
   "metadata": {},
   "source": [
    "### About the input file and the output files: \n",
    "<font color='grey'> \n",
    "    \"File1\": the mutation file from the cell line data;<br/>\n",
    "    \"File2\": the mutation file from the patient derived somatic mutations;<br/>\n",
    "    \"File_out\": the output file for the list of genes which show high similarity between two files;<br/>\n",
    "    \"Disease_type\": The tumor types of the mutation data\n",
    "</font>"
   ]
  },
  {
   "cell_type": "code",
   "execution_count": null,
   "metadata": {},
   "outputs": [],
   "source": [
    "input_data = {\n",
    "    \"File1\":\"Mut_site_GDSC.csv\",\n",
    "    \"File2\":\"Mut_site_TCGA.csv\",\n",
    "    \"File_out\": \"Mut_similarity.csv\",\n",
    "    \"Disease_type\":\"LUAD\",\n",
    "    \"Sample_label\":\"sample_barcode_tumor\",\n",
    "    \"Gene_label\":\"Hugo_Symbol\"\n",
    "}"
   ]
  },
  {
   "cell_type": "code",
   "execution_count": null,
   "metadata": {},
   "outputs": [],
   "source": [
    "output_dir = directories['output_dir']\n",
    "if os.path.exists(output_dir) == False:\n",
    "    os.mkdir(output_dir)"
   ]
  },
  {
   "cell_type": "markdown",
   "metadata": {},
   "source": [
    "### Processing the data Step 1: \n",
    "<font color='grey'> \n",
    "    Get the highly frequently mutated genes in TCGA (File2)\n",
    "</font>"
   ]
  },
  {
   "cell_type": "code",
   "execution_count": null,
   "metadata": {},
   "outputs": [],
   "source": [
    "mut_GDSC = pd.read_csv(directories['input_dir']+'/'+input_data['File1'])  #Read files\n",
    "Mut_TCGA = pd.read_csv(directories['input_dir']+'/'+input_data['File2'])\n",
    "\n",
    "Mut_TCGA_matrix = Docket_integration.generate_mutation_matrix(Mut_TCGA,input_data['Sample_label'],input_data['Gene_label'],'') #Generate gene mutation matrix \n",
    "x = Mut_TCGA_matrix.sum()/Mut_TCGA_matrix.shape[0] #Calculate the mutation frequency for each gene\n",
    "x_df = pd.DataFrame({'Gene':x.index.values,'Freq':x.values}) #Create a dataframe with genes and their mutation frequency\n",
    "x_df = x_df.sort_values(by = 'Freq',ascending = False) #"
   ]
  },
  {
   "cell_type": "markdown",
   "metadata": {},
   "source": [
    "### Processing the data Step 2: \n",
    "<font color='grey'> \n",
    "    Compare the similarity of genes in their mutation sites between GDSC (File1) and  TCGA (File2)<br/>\n",
    "    Three similarity scores are calculated:<br/>\n",
    "    <font color='green'> \n",
    "    Sim1_TCGA_GDSC: len(A_and_B) / (len(A)+ len(B)) <br/>\n",
    "    </font>\n",
    "    It measures the percentage of shared mutation site bewteen two datasets<br/>\n",
    "    <font color='green'> \n",
    "    Sim2_TCGA_GDSC: len(A_and_B) / len(A)  <br/>\n",
    "    </font>\n",
    "    It measures the ratio of shared mutation site in GDSC dataset<br/>\n",
    "    <font color='green'> \n",
    "    Sim3_TCGA_GDSC: len(set(A_and_B)) / len(set(list(A) + list(B)))<br/>\n",
    "    </font>\n",
    "    It measures the jaccard coeffiency of unique varients between the GDSC dataset and TCGA dataset\n",
    "</font>"
   ]
  },
  {
   "cell_type": "code",
   "execution_count": null,
   "metadata": {},
   "outputs": [],
   "source": [
    "def shared_gene(A,B):\n",
    "    shared_list = []\n",
    "    for i in A:\n",
    "        if i in B:\n",
    "            shared_list.append(i)\n",
    "    return(shared_list)"
   ]
  },
  {
   "cell_type": "code",
   "execution_count": null,
   "metadata": {},
   "outputs": [],
   "source": [
    "Genelist = []\n",
    "coef = []\n",
    "coef2 = []\n",
    "coef3 = []\n",
    "for gene in list(x_df.loc[x_df['Freq']>0.03]['Gene'].values):\n",
    "    A = mut_GDSC.loc[mut_GDSC['HGNC_gene_symbol'] == gene]['new_id'].values\n",
    "    B = Mut_TCGA.loc[Mut_TCGA['Hugo_Symbol'] == gene]['new_id'].values\n",
    "    A_and_B = shared_gene(A,B)\n",
    "    if len(A) > 0:\n",
    "        similarity1 = len(A_and_B) / (len(A)+ len(B))\n",
    "        similarity2 = len(A_and_B) / len(A)\n",
    "        similarity3 = len(set(A_and_B)) / len(set(list(A) + list(B)))\n",
    "\n",
    "        Genelist.append(gene)\n",
    "        coef.append(similarity1)\n",
    "        coef2.append(similarity2)\n",
    "        coef3.append(similarity3)\n",
    "    "
   ]
  },
  {
   "cell_type": "markdown",
   "metadata": {},
   "source": [
    "### Processing the data Step 3: \n",
    "<font color='grey'> \n",
    "    Select genes which show similarity of mutation sites between two datasets\n",
    "</font>"
   ]
  },
  {
   "cell_type": "code",
   "execution_count": null,
   "metadata": {},
   "outputs": [],
   "source": [
    "result = pd.DataFrame({\"Gene\":Genelist,\"Sim1_TCGA_GDSC\":coef,'Sim2_TCGA_GDSC':coef2, \"Sim3_TCGA_GDSC\":coef3})\n",
    "result = result.sort_values(by = ['Sim1_TCGA_GDSC'], ascending = False)\n",
    "result = result.loc[result['Sim2_TCGA_GDSC'] > 0.1]\n",
    "result = result.loc[result['Sim3_TCGA_GDSC'] > 0.05]\n",
    "result = x_df.merge(result, left_on='Gene', right_on='Gene')\n",
    "result['Disease'] = input_data['Disease_type'] \n",
    "result_sort = result.sort_values(by = ['Sim2_TCGA_GDSC'], ascending=False)"
   ]
  },
  {
   "cell_type": "markdown",
   "metadata": {},
   "source": [
    "### Processing the data Step 3: \n",
    "<font color='grey'> \n",
    "    Output the knowledge graph table about the gene similarity in the level of mutation for the disease type\n",
    "</font>"
   ]
  },
  {
   "cell_type": "code",
   "execution_count": null,
   "metadata": {},
   "outputs": [],
   "source": [
    "result_sort.to_csv(directories['output_dir']+'/'+input_data['File_out'])"
   ]
  },
  {
   "cell_type": "code",
   "execution_count": null,
   "metadata": {},
   "outputs": [],
   "source": []
  }
 ],
 "metadata": {
  "kernelspec": {
   "display_name": "Python 3",
   "language": "python",
   "name": "python3"
  },
  "language_info": {
   "codemirror_mode": {
    "name": "ipython",
    "version": 3
   },
   "file_extension": ".py",
   "mimetype": "text/x-python",
   "name": "python",
   "nbconvert_exporter": "python",
   "pygments_lexer": "ipython3",
   "version": "3.7.3"
  }
 },
 "nbformat": 4,
 "nbformat_minor": 2
}
