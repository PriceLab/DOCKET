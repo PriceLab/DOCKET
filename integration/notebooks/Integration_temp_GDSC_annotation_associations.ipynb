{
 "cells": [
  {
   "cell_type": "markdown",
   "metadata": {},
   "source": [
    "### About this notebook: \n",
    "<font color='grey'>Annotate the associations using external knoledges such as drug target or target signaling.<br/>\n",
    "</font>"
   ]
  },
  {
   "cell_type": "code",
   "execution_count": null,
   "metadata": {},
   "outputs": [],
   "source": [
    "import sys\n",
    "import matplotlib.pyplot as plt\n",
    "import pandas as pd\n",
    "import scipy\n",
    "from scipy import stats \n",
    "import numpy as np\n",
    "import json\n",
    "import statsmodels.stats.multitest as multi\n",
    "import matplotlib.pyplot as plt\n",
    "import math\n",
    "sys.path.append('../scripts/')\n",
    "import Docket_integration\n"
   ]
  },
  {
   "cell_type": "markdown",
   "metadata": {},
   "source": [
    "### Define the input directory and the output directory: \n",
    "<font color='grey'> \n",
    "    \"input_dir\": directory of input data<br/>\n",
    "    \"output_dir\":directory of output data<br/>\n",
    "</font>"
   ]
  },
  {
   "cell_type": "code",
   "execution_count": null,
   "metadata": {},
   "outputs": [],
   "source": [
    "directories = {\"input_dir\":\"../Data_input_for_BRCA\",\n",
    "               \"output_dir\":\"../Output_BRCA\"}"
   ]
  },
  {
   "cell_type": "markdown",
   "metadata": {},
   "source": [
    "### Input file,  output file and parameters: \n"
   ]
  },
  {
   "cell_type": "code",
   "execution_count": null,
   "metadata": {},
   "outputs": [],
   "source": [
    "input_data = {'Association_file': \"mut_drug_pair.csv\",\n",
    "              'Annotation_file': \"GDSC_Drug_anno.csv\",\n",
    "              'list_forAnnotate1':['Drug_identifier','Drug_Name'],\n",
    "              'list_forAnnotate2':['Drug_identifier','Drug_Putative_Target'],\n",
    "              'list_forAnnotate3':['Drug_identifier','Drug_Targeted_process_or_pathway'],\n",
    "              'obj_for_annotation':'F2',\n",
    "              'obj1':'F1',\n",
    "              'obj2':'F2',\n",
    "              'SizeEffect':'SE',\n",
    "              'pvalue':'-logP',\n",
    "              'output_file':\"mut_drug_pair_annotated.csv\"\n",
    "             }"
   ]
  },
  {
   "cell_type": "code",
   "execution_count": null,
   "metadata": {},
   "outputs": [],
   "source": [
    "input_data2 = {'Feature1': 'F1',\n",
    "               'Feature2': 'Drug_Targeted_process_or_pathway',\n",
    "               'Threshold_p': \"0.05\",\n",
    "               'output_sen':\"mut_drug_pair_annotated_enriched_sen.csv\",\n",
    "               'output_res':\"mut_drug_pair_annotated_enriched_res.csv\"\n",
    "              }"
   ]
  },
  {
   "cell_type": "code",
   "execution_count": null,
   "metadata": {},
   "outputs": [],
   "source": [
    "result = pd.read_csv(directories['output_dir']+'/'+input_data['Association_file'])\n",
    "Drug_annotation = pd.read_csv(directories['input_dir']+'/'+input_data['Annotation_file'])\n",
    "\n",
    "list_forAnnotate = input_data['list_forAnnotate1']\n",
    "result_annotate = Docket_integration.Annotation_feature(result, input_data['obj_for_annotation'], Drug_annotation, list_forAnnotate, input_data['obj1'],input_data['obj2'],input_data['SizeEffect'],input_data['pvalue'])\n",
    "\n",
    "list_forAnnotate = input_data['list_forAnnotate2']\n",
    "result_annotate = Docket_integration.Annotation_feature(result_annotate, input_data['obj_for_annotation'], Drug_annotation, list_forAnnotate, input_data['obj1'],input_data['obj2'],input_data['SizeEffect'],input_data['pvalue'])\n",
    "\n",
    "list_forAnnotate = input_data['list_forAnnotate3']\n",
    "result_annotate = Docket_integration.Annotation_feature(result_annotate, input_data['obj_for_annotation'], Drug_annotation, list_forAnnotate, input_data['obj1'],input_data['obj2'],input_data['SizeEffect'],input_data['pvalue'])\n"
   ]
  },
  {
   "cell_type": "code",
   "execution_count": null,
   "metadata": {},
   "outputs": [],
   "source": [
    "result"
   ]
  },
  {
   "cell_type": "code",
   "execution_count": null,
   "metadata": {},
   "outputs": [],
   "source": [
    "result_annotate.to_csv(directories['output_dir']+'/'+input_data['output_file'])\n"
   ]
  },
  {
   "cell_type": "code",
   "execution_count": null,
   "metadata": {},
   "outputs": [],
   "source": [
    "sen = Docket_integration.enrichment_forSignificance_sen_all(result_annotate, input_data2['Feature1'],input_data2['Feature2'], 0.05)\n",
    "res = Docket_integration.enrichment_forSignificance_res_all(result_annotate, input_data2['Feature1'],input_data2['Feature2'], 0.05)"
   ]
  },
  {
   "cell_type": "code",
   "execution_count": null,
   "metadata": {},
   "outputs": [],
   "source": [
    "sen.to_csv(directories['output_dir'] + '/' + input_data2['output_sen'])\n",
    "res.to_csv(directories['output_dir'] + '/' + input_data2['output_res'])"
   ]
  },
  {
   "cell_type": "code",
   "execution_count": null,
   "metadata": {},
   "outputs": [],
   "source": [
    "print(\"Sensitivity pairs:\")\n",
    "print(sen)\n",
    "print(\"\\nResistance pairs:\")\n",
    "print(res)"
   ]
  }
 ],
 "metadata": {
  "kernelspec": {
   "display_name": "Python 3",
   "language": "python",
   "name": "python3"
  },
  "language_info": {
   "codemirror_mode": {
    "name": "ipython",
    "version": 3
   },
   "file_extension": ".py",
   "mimetype": "text/x-python",
   "name": "python",
   "nbconvert_exporter": "python",
   "pygments_lexer": "ipython3",
   "version": "3.7.3"
  }
 },
 "nbformat": 4,
 "nbformat_minor": 2
}
