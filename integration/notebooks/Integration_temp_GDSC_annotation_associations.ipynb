{
 "cells": [
  {
   "cell_type": "markdown",
   "metadata": {},
   "source": [
    "### About this notebook: \n",
    "<font color='grey'>Annotate the associations using external knoledges such as drug target or target signaling.<br/>\n",
    "</font>"
   ]
  },
  {
   "cell_type": "code",
   "execution_count": 2,
   "metadata": {},
   "outputs": [],
   "source": [
    "import sys\n",
    "import matplotlib.pyplot as plt\n",
    "import pandas as pd\n",
    "import scipy\n",
    "from scipy import stats \n",
    "import numpy as np\n",
    "import json\n",
    "import statsmodels.stats.multitest as multi\n",
    "import matplotlib.pyplot as plt\n",
    "import math\n",
    "sys.path.append('../scripts/')\n",
    "import Docket_integration\n"
   ]
  },
  {
   "cell_type": "markdown",
   "metadata": {},
   "source": [
    "### Define the input directory and the output directory: \n",
    "<font color='grey'> \n",
    "    \"input_dir\": directory of input data<br/>\n",
    "    \"output_dir\":directory of output data<br/>\n",
    "</font>"
   ]
  },
  {
   "cell_type": "code",
   "execution_count": 10,
   "metadata": {},
   "outputs": [],
   "source": [
    "directories = {\"input_dir\":\"../Data_input_for_BRCA\",\n",
    "               \"output_dir\":\"../Output_BRCA\"}"
   ]
  },
  {
   "cell_type": "markdown",
   "metadata": {},
   "source": [
    "### Input file,  output file and parameters: \n"
   ]
  },
  {
   "cell_type": "code",
   "execution_count": 11,
   "metadata": {},
   "outputs": [],
   "source": [
    "input_data = {'Association_file': \"mut_drug_pair.csv\",\n",
    "              'Annotation_file': \"GDSC_Drug_anno.csv\",\n",
    "              'list_forAnnotate1':['Drug_identifier','Drug_Name'],\n",
    "              'list_forAnnotate2':['Drug_identifier','Drug_Putative_Target'],\n",
    "              'list_forAnnotate3':['Drug_identifier','Drug_Targeted_process_or_pathway'],\n",
    "              'obj_for_annotation':'F2',\n",
    "              'obj1':'F1',\n",
    "              'obj2':'F2',\n",
    "              'SizeEffect':'SE',\n",
    "              'pvalue':'-logP',\n",
    "              'output_file':\"mut_drug_pair_annotated.csv\"\n",
    "             }"
   ]
  },
  {
   "cell_type": "code",
   "execution_count": 12,
   "metadata": {},
   "outputs": [],
   "source": [
    "input_data2 = {'Feature1': 'F1',\n",
    "               'Feature2': 'Drug_Targeted_process_or_pathway',\n",
    "               'Threshold_p': \"0.05\",\n",
    "               'output_sen':\"mut_drug_pair_annotated_enriched_sen.csv\",\n",
    "               'output_res':\"mut_drug_pair_annotated_enriched_res.csv\"\n",
    "              }"
   ]
  },
  {
   "cell_type": "code",
   "execution_count": 13,
   "metadata": {},
   "outputs": [
    {
     "data": {
      "application/vnd.plotly.v1+json": {
       "config": {
        "plotlyServerURL": "https://plot.ly"
       },
       "data": [
        {
         "customdata": [
          [
           "TP53",
           1001,
           "AICAR"
          ],
          [
           "BRAF",
           1001,
           "AICAR"
          ],
          [
           "PIK3CA",
           1001,
           "AICAR"
          ]
         ],
         "hoverlabel": {
          "namelength": 0
         },
         "hovertemplate": "Drug_Name=%{customdata[2]}<br>SE=%{x}<br>-logP=%{y}<br>F1=%{customdata[0]}<br>F2=%{customdata[1]}",
         "legendgroup": "AICAR",
         "marker": {
          "color": "#636efa",
          "symbol": "circle"
         },
         "mode": "markers",
         "name": "AICAR",
         "showlegend": true,
         "type": "scatter",
         "x": [
          0.2164671889350487,
          0.1836705671367028,
          0.09885130145768066
         ],
         "xaxis": "x",
         "y": [
          0.5591548756653676,
          0.3104695981497278,
          0.27762719543379805
         ],
         "yaxis": "y"
        },
        {
         "customdata": [
          [
           "TP53",
           1003,
           "Camptothecin"
          ],
          [
           "BRAF",
           1003,
           "Camptothecin"
          ],
          [
           "PIK3CA",
           1003,
           "Camptothecin"
          ]
         ],
         "hoverlabel": {
          "namelength": 0
         },
         "hovertemplate": "Drug_Name=%{customdata[2]}<br>SE=%{x}<br>-logP=%{y}<br>F1=%{customdata[0]}<br>F2=%{customdata[1]}",
         "legendgroup": "Camptothecin",
         "marker": {
          "color": "#EF553B",
          "symbol": "circle"
         },
         "mode": "markers",
         "name": "Camptothecin",
         "showlegend": true,
         "type": "scatter",
         "x": [
          0.2303200689985821,
          0.23721488931129456,
          0.16840761890954775
         ],
         "xaxis": "x",
         "y": [
          0.6028724863027771,
          0.4162839084296125,
          0.5131594943757254
         ],
         "yaxis": "y"
        },
        {
         "customdata": [
          [
           "TP53",
           1004,
           "Vinblastine"
          ],
          [
           "BRAF",
           1004,
           "Vinblastine"
          ],
          [
           "PIK3CA",
           1004,
           "Vinblastine"
          ]
         ],
         "hoverlabel": {
          "namelength": 0
         },
         "hovertemplate": "Drug_Name=%{customdata[2]}<br>SE=%{x}<br>-logP=%{y}<br>F1=%{customdata[0]}<br>F2=%{customdata[1]}",
         "legendgroup": "Vinblastine",
         "marker": {
          "color": "#00cc96",
          "symbol": "circle"
         },
         "mode": "markers",
         "name": "Vinblastine",
         "showlegend": true,
         "type": "scatter",
         "x": [
          -0.7258507100839087,
          0.8441156864545071,
          -0.266879386558866
         ],
         "xaxis": "x",
         "y": [
          2.9370871839329817,
          2.189683788254114,
          0.9088436741892346
         ],
         "yaxis": "y"
        },
        {
         "customdata": [
          [
           "TP53",
           1005,
           "Cisplatin"
          ],
          [
           "BRAF",
           1005,
           "Cisplatin"
          ],
          [
           "PIK3CA",
           1005,
           "Cisplatin"
          ]
         ],
         "hoverlabel": {
          "namelength": 0
         },
         "hovertemplate": "Drug_Name=%{customdata[2]}<br>SE=%{x}<br>-logP=%{y}<br>F1=%{customdata[0]}<br>F2=%{customdata[1]}",
         "legendgroup": "Cisplatin",
         "marker": {
          "color": "#ab63fa",
          "symbol": "circle"
         },
         "mode": "markers",
         "name": "Cisplatin",
         "showlegend": true,
         "type": "scatter",
         "x": [
          -0.38561441871278396,
          0.24715375741205345,
          0.3564167637637551
         ],
         "xaxis": "x",
         "y": [
          1.1657206845516472,
          0.43672576310683575,
          1.3375342427282018
         ],
         "yaxis": "y"
        },
        {
         "customdata": [
          [
           "TP53",
           1006,
           "Cytarabine"
          ],
          [
           "BRAF",
           1006,
           "Cytarabine"
          ],
          [
           "PIK3CA",
           1006,
           "Cytarabine"
          ]
         ],
         "hoverlabel": {
          "namelength": 0
         },
         "hovertemplate": "Drug_Name=%{customdata[2]}<br>SE=%{x}<br>-logP=%{y}<br>F1=%{customdata[0]}<br>F2=%{customdata[1]}",
         "legendgroup": "Cytarabine",
         "marker": {
          "color": "#FFA15A",
          "symbol": "circle"
         },
         "mode": "markers",
         "name": "Cytarabine",
         "showlegend": true,
         "type": "scatter",
         "x": [
          0.13577959454504826,
          -0.32038019507329746,
          0.5023153345686648
         ],
         "xaxis": "x",
         "y": [
          0.32423405971283353,
          0.5952798128192859,
          2.1928137228181117
         ],
         "yaxis": "y"
        },
        {
         "customdata": [
          [
           "TP53",
           1007,
           "Docetaxel"
          ],
          [
           "BRAF",
           1007,
           "Docetaxel"
          ],
          [
           "PIK3CA",
           1007,
           "Docetaxel"
          ]
         ],
         "hoverlabel": {
          "namelength": 0
         },
         "hovertemplate": "Drug_Name=%{customdata[2]}<br>SE=%{x}<br>-logP=%{y}<br>F1=%{customdata[0]}<br>F2=%{customdata[1]}",
         "legendgroup": "Docetaxel",
         "marker": {
          "color": "#19d3f3",
          "symbol": "circle"
         },
         "mode": "markers",
         "name": "Docetaxel",
         "showlegend": true,
         "type": "scatter",
         "x": [
          -0.36189787756725056,
          0.5553787265646171,
          -0.1197894035743284
         ],
         "xaxis": "x",
         "y": [
          1.0707719070201915,
          1.204763176775731,
          0.344885875359196
         ],
         "yaxis": "y"
        },
        {
         "customdata": [
          [
           "TP53",
           1008,
           "Methotrexate"
          ],
          [
           "BRAF",
           1008,
           "Methotrexate"
          ],
          [
           "PIK3CA",
           1008,
           "Methotrexate"
          ]
         ],
         "hoverlabel": {
          "namelength": 0
         },
         "hovertemplate": "Drug_Name=%{customdata[2]}<br>SE=%{x}<br>-logP=%{y}<br>F1=%{customdata[0]}<br>F2=%{customdata[1]}",
         "legendgroup": "Methotrexate",
         "marker": {
          "color": "#FF6692",
          "symbol": "circle"
         },
         "mode": "markers",
         "name": "Methotrexate",
         "showlegend": true,
         "type": "scatter",
         "x": [
          0.2838913437485846,
          -0.2630463638583418,
          0.30649077822134657
         ],
         "xaxis": "x",
         "y": [
          0.7816635758681034,
          0.4699424460402954,
          1.090036808592457
         ],
         "yaxis": "y"
        },
        {
         "customdata": [
          [
           "TP53",
           1009,
           "ATRA"
          ],
          [
           "BRAF",
           1009,
           "ATRA"
          ],
          [
           "PIK3CA",
           1009,
           "ATRA"
          ]
         ],
         "hoverlabel": {
          "namelength": 0
         },
         "hovertemplate": "Drug_Name=%{customdata[2]}<br>SE=%{x}<br>-logP=%{y}<br>F1=%{customdata[0]}<br>F2=%{customdata[1]}",
         "legendgroup": "ATRA",
         "marker": {
          "color": "#B6E880",
          "symbol": "circle"
         },
         "mode": "markers",
         "name": "ATRA",
         "showlegend": true,
         "type": "scatter",
         "x": [
          0.2932537463584444,
          0.2172881315521388,
          -0.10923780705740864
         ],
         "xaxis": "x",
         "y": [
          0.8145306725904617,
          0.3760597656877949,
          0.31060727205798805
         ],
         "yaxis": "y"
        },
        {
         "customdata": [
          [
           "TP53",
           1010,
           "Gefitinib"
          ],
          [
           "BRAF",
           1010,
           "Gefitinib"
          ],
          [
           "PIK3CA",
           1010,
           "Gefitinib"
          ]
         ],
         "hoverlabel": {
          "namelength": 0
         },
         "hovertemplate": "Drug_Name=%{customdata[2]}<br>SE=%{x}<br>-logP=%{y}<br>F1=%{customdata[0]}<br>F2=%{customdata[1]}",
         "legendgroup": "Gefitinib",
         "marker": {
          "color": "#FF97FF",
          "symbol": "circle"
         },
         "mode": "markers",
         "name": "Gefitinib",
         "showlegend": true,
         "type": "scatter",
         "x": [
          0.2013495911037234,
          0.3854868648679641,
          0.05289068407648172
         ],
         "xaxis": "x",
         "y": [
          0.5125989295437111,
          0.7483540230961332,
          0.1405526791098737
         ],
         "yaxis": "y"
        },
        {
         "customdata": [
          [
           "TP53",
           1011,
           "ABT-263"
          ],
          [
           "BRAF",
           1011,
           "ABT-263"
          ],
          [
           "PIK3CA",
           1011,
           "ABT-263"
          ]
         ],
         "hoverlabel": {
          "namelength": 0
         },
         "hovertemplate": "Drug_Name=%{customdata[2]}<br>SE=%{x}<br>-logP=%{y}<br>F1=%{customdata[0]}<br>F2=%{customdata[1]}",
         "legendgroup": "ABT-263",
         "marker": {
          "color": "#FECB52",
          "symbol": "circle"
         },
         "mode": "markers",
         "name": "ABT-263",
         "showlegend": true,
         "type": "scatter",
         "x": [
          0.020628357718394826,
          0.5756926367372082,
          0.6979234378716055
         ],
         "xaxis": "x",
         "y": [
          0.04159864334917062,
          1.259423654919272,
          3.5301510352871652
         ],
         "yaxis": "y"
        },
        {
         "customdata": [
          [
           "TP53",
           1012,
           "Vorinostat"
          ],
          [
           "BRAF",
           1012,
           "Vorinostat"
          ],
          [
           "PIK3CA",
           1012,
           "Vorinostat"
          ]
         ],
         "hoverlabel": {
          "namelength": 0
         },
         "hovertemplate": "Drug_Name=%{customdata[2]}<br>SE=%{x}<br>-logP=%{y}<br>F1=%{customdata[0]}<br>F2=%{customdata[1]}",
         "legendgroup": "Vorinostat",
         "marker": {
          "color": "#636efa",
          "symbol": "circle"
         },
         "mode": "markers",
         "name": "Vorinostat",
         "showlegend": true,
         "type": "scatter",
         "x": [
          0.3109974004804897,
          -0.03283972995676917,
          0.17007907590403465
         ],
         "xaxis": "x",
         "y": [
          0.8781726150411341,
          0.0498045977970342,
          0.5192527668856798
         ],
         "yaxis": "y"
        },
        {
         "customdata": [
          [
           "TP53",
           1013,
           "Nilotinib"
          ],
          [
           "BRAF",
           1013,
           "Nilotinib"
          ],
          [
           "PIK3CA",
           1013,
           "Nilotinib"
          ]
         ],
         "hoverlabel": {
          "namelength": 0
         },
         "hovertemplate": "Drug_Name=%{customdata[2]}<br>SE=%{x}<br>-logP=%{y}<br>F1=%{customdata[0]}<br>F2=%{customdata[1]}",
         "legendgroup": "Nilotinib",
         "marker": {
          "color": "#EF553B",
          "symbol": "circle"
         },
         "mode": "markers",
         "name": "Nilotinib",
         "showlegend": true,
         "type": "scatter",
         "x": [
          0.33988173156329604,
          -0.24373141994259745,
          0.4833862916669237
         ],
         "xaxis": "x",
         "y": [
          0.9090884130388078,
          0.4248381752343169,
          1.8816503258182289
         ],
         "yaxis": "y"
        },
        {
         "customdata": [
          [
           "TP53",
           1014,
           "RDEA119"
          ],
          [
           "BRAF",
           1014,
           "RDEA119"
          ],
          [
           "PIK3CA",
           1014,
           "RDEA119"
          ]
         ],
         "hoverlabel": {
          "namelength": 0
         },
         "hovertemplate": "Drug_Name=%{customdata[2]}<br>SE=%{x}<br>-logP=%{y}<br>F1=%{customdata[0]}<br>F2=%{customdata[1]}",
         "legendgroup": "RDEA119",
         "marker": {
          "color": "#00cc96",
          "symbol": "circle"
         },
         "mode": "markers",
         "name": "RDEA119",
         "showlegend": true,
         "type": "scatter",
         "x": [
          -0.13757128435055285,
          -0.6948969941125357,
          0.4560853436431832
         ],
         "xaxis": "x",
         "y": [
          0.3104200723791245,
          1.6383815280830163,
          1.8235456314623903
         ],
         "yaxis": "y"
        },
        {
         "customdata": [
          [
           "TP53",
           1015,
           "CI-1040"
          ],
          [
           "BRAF",
           1015,
           "CI-1040"
          ],
          [
           "PIK3CA",
           1015,
           "CI-1040"
          ]
         ],
         "hoverlabel": {
          "namelength": 0
         },
         "hovertemplate": "Drug_Name=%{customdata[2]}<br>SE=%{x}<br>-logP=%{y}<br>F1=%{customdata[0]}<br>F2=%{customdata[1]}",
         "legendgroup": "CI-1040",
         "marker": {
          "color": "#ab63fa",
          "symbol": "circle"
         },
         "mode": "markers",
         "name": "CI-1040",
         "showlegend": true,
         "type": "scatter",
         "x": [
          0.3915269153117749,
          -0.8858515305708566,
          0.3373621196792346
         ],
         "xaxis": "x",
         "y": [
          1.1899181874450646,
          2.35607140084786,
          1.2405010504706908
         ],
         "yaxis": "y"
        },
        {
         "customdata": [
          [
           "TP53",
           1016,
           "Temsirolimus"
          ],
          [
           "BRAF",
           1016,
           "Temsirolimus"
          ],
          [
           "PIK3CA",
           1016,
           "Temsirolimus"
          ]
         ],
         "hoverlabel": {
          "namelength": 0
         },
         "hovertemplate": "Drug_Name=%{customdata[2]}<br>SE=%{x}<br>-logP=%{y}<br>F1=%{customdata[0]}<br>F2=%{customdata[1]}",
         "legendgroup": "Temsirolimus",
         "marker": {
          "color": "#FFA15A",
          "symbol": "circle"
         },
         "mode": "markers",
         "name": "Temsirolimus",
         "showlegend": true,
         "type": "scatter",
         "x": [
          -0.08757790226834017,
          0.2955691013527655,
          -0.07738756300953208
         ],
         "xaxis": "x",
         "y": [
          0.199312534347044,
          0.5399719153639282,
          0.21183408507064236
         ],
         "yaxis": "y"
        },
        {
         "customdata": [
          [
           "TP53",
           1017,
           "Olaparib"
          ],
          [
           "BRAF",
           1017,
           "Olaparib"
          ],
          [
           "PIK3CA",
           1017,
           "Olaparib"
          ],
          [
           "TP53",
           1495,
           "Olaparib"
          ],
          [
           "BRAF",
           1495,
           "Olaparib"
          ],
          [
           "PIK3CA",
           1495,
           "Olaparib"
          ]
         ],
         "hoverlabel": {
          "namelength": 0
         },
         "hovertemplate": "Drug_Name=%{customdata[2]}<br>SE=%{x}<br>-logP=%{y}<br>F1=%{customdata[0]}<br>F2=%{customdata[1]}",
         "legendgroup": "Olaparib",
         "marker": {
          "color": "#19d3f3",
          "symbol": "circle"
         },
         "mode": "markers",
         "name": "Olaparib",
         "showlegend": true,
         "type": "scatter",
         "x": [
          0.4971445793554566,
          0.018596610972321133,
          -0.08478784873503731,
          -0.10685414044745913,
          0.3613419096219465,
          -0.1236289732459075
         ],
         "xaxis": "x",
         "y": [
          1.6589255940962508,
          0.027909758764933214,
          0.2341620926772423,
          0.24884745213140155,
          0.6916316387683646,
          0.36026043170443217
         ],
         "yaxis": "y"
        },
        {
         "customdata": [
          [
           "TP53",
           1018,
           "ABT-888"
          ],
          [
           "BRAF",
           1018,
           "ABT-888"
          ],
          [
           "PIK3CA",
           1018,
           "ABT-888"
          ]
         ],
         "hoverlabel": {
          "namelength": 0
         },
         "hovertemplate": "Drug_Name=%{customdata[2]}<br>SE=%{x}<br>-logP=%{y}<br>F1=%{customdata[0]}<br>F2=%{customdata[1]}",
         "legendgroup": "ABT-888",
         "marker": {
          "color": "#FF6692",
          "symbol": "circle"
         },
         "mode": "markers",
         "name": "ABT-888",
         "showlegend": true,
         "type": "scatter",
         "x": [
          0.3727864808626999,
          0.027262459267936856,
          0.16086792456775093
         ],
         "xaxis": "x",
         "y": [
          1.113946231552215,
          0.041177142123152,
          0.4859317951375473
         ],
         "yaxis": "y"
        },
        {
         "customdata": [
          [
           "TP53",
           1019,
           "Bosutinib"
          ],
          [
           "BRAF",
           1019,
           "Bosutinib"
          ],
          [
           "PIK3CA",
           1019,
           "Bosutinib"
          ]
         ],
         "hoverlabel": {
          "namelength": 0
         },
         "hovertemplate": "Drug_Name=%{customdata[2]}<br>SE=%{x}<br>-logP=%{y}<br>F1=%{customdata[0]}<br>F2=%{customdata[1]}",
         "legendgroup": "Bosutinib",
         "marker": {
          "color": "#B6E880",
          "symbol": "circle"
         },
         "mode": "markers",
         "name": "Bosutinib",
         "showlegend": true,
         "type": "scatter",
         "x": [
          0.1201919801851552,
          -0.2254551289213639,
          0.07927978473924559
         ],
         "xaxis": "x",
         "y": [
          0.2826102121919244,
          0.3924234911570115,
          0.2175078415997308
         ],
         "yaxis": "y"
        },
        {
         "customdata": [
          [
           "TP53",
           1020,
           "Lenalidomide"
          ],
          [
           "BRAF",
           1020,
           "Lenalidomide"
          ],
          [
           "PIK3CA",
           1020,
           "Lenalidomide"
          ]
         ],
         "hoverlabel": {
          "namelength": 0
         },
         "hovertemplate": "Drug_Name=%{customdata[2]}<br>SE=%{x}<br>-logP=%{y}<br>F1=%{customdata[0]}<br>F2=%{customdata[1]}",
         "legendgroup": "Lenalidomide",
         "marker": {
          "color": "#FF97FF",
          "symbol": "circle"
         },
         "mode": "markers",
         "name": "Lenalidomide",
         "showlegend": true,
         "type": "scatter",
         "x": [
          0.05516908173624351,
          0.10449369266340933,
          0.21068563402267965
         ],
         "xaxis": "x",
         "y": [
          0.12150054108287542,
          0.16694683086093334,
          0.6737719209944956
         ],
         "yaxis": "y"
        },
        {
         "customdata": [
          [
           "TP53",
           1021,
           "Axitinib"
          ],
          [
           "BRAF",
           1021,
           "Axitinib"
          ],
          [
           "PIK3CA",
           1021,
           "Axitinib"
          ]
         ],
         "hoverlabel": {
          "namelength": 0
         },
         "hovertemplate": "Drug_Name=%{customdata[2]}<br>SE=%{x}<br>-logP=%{y}<br>F1=%{customdata[0]}<br>F2=%{customdata[1]}",
         "legendgroup": "Axitinib",
         "marker": {
          "color": "#FECB52",
          "symbol": "circle"
         },
         "mode": "markers",
         "name": "Axitinib",
         "showlegend": true,
         "type": "scatter",
         "x": [
          -0.16799099432903405,
          0.33964760658015786,
          0.2401341185299336
         ],
         "xaxis": "x",
         "y": [
          0.4140517050826173,
          0.6393716096483371,
          0.793815879577273
         ],
         "yaxis": "y"
        },
        {
         "customdata": [
          [
           "TP53",
           1022,
           "AZD7762"
          ],
          [
           "BRAF",
           1022,
           "AZD7762"
          ],
          [
           "PIK3CA",
           1022,
           "AZD7762"
          ]
         ],
         "hoverlabel": {
          "namelength": 0
         },
         "hovertemplate": "Drug_Name=%{customdata[2]}<br>SE=%{x}<br>-logP=%{y}<br>F1=%{customdata[0]}<br>F2=%{customdata[1]}",
         "legendgroup": "AZD7762",
         "marker": {
          "color": "#636efa",
          "symbol": "circle"
         },
         "mode": "markers",
         "name": "AZD7762",
         "showlegend": true,
         "type": "scatter",
         "x": [
          -0.2655415592017245,
          0.5332208266756888,
          0.5310504243729424
         ],
         "xaxis": "x",
         "y": [
          0.7186579768347908,
          1.1403713772140631,
          2.3862422664884955
         ],
         "yaxis": "y"
        },
        {
         "customdata": [
          [
           "TP53",
           1023,
           "GW 441756"
          ],
          [
           "BRAF",
           1023,
           "GW 441756"
          ],
          [
           "PIK3CA",
           1023,
           "GW 441756"
          ]
         ],
         "hoverlabel": {
          "namelength": 0
         },
         "hovertemplate": "Drug_Name=%{customdata[2]}<br>SE=%{x}<br>-logP=%{y}<br>F1=%{customdata[0]}<br>F2=%{customdata[1]}",
         "legendgroup": "GW 441756",
         "marker": {
          "color": "#EF553B",
          "symbol": "circle"
         },
         "mode": "markers",
         "name": "GW 441756",
         "showlegend": true,
         "type": "scatter",
         "x": [
          -0.0235811726478509,
          0.3485507996910047,
          0.26241808966223945
         ],
         "xaxis": "x",
         "y": [
          0.050278587632911785,
          0.6600864702485278,
          0.8892524367737218
         ],
         "yaxis": "y"
        },
        {
         "customdata": [
          [
           "TP53",
           1024,
           "CEP-701"
          ],
          [
           "BRAF",
           1024,
           "CEP-701"
          ],
          [
           "PIK3CA",
           1024,
           "CEP-701"
          ]
         ],
         "hoverlabel": {
          "namelength": 0
         },
         "hovertemplate": "Drug_Name=%{customdata[2]}<br>SE=%{x}<br>-logP=%{y}<br>F1=%{customdata[0]}<br>F2=%{customdata[1]}",
         "legendgroup": "CEP-701",
         "marker": {
          "color": "#00cc96",
          "symbol": "circle"
         },
         "mode": "markers",
         "name": "CEP-701",
         "showlegend": true,
         "type": "scatter",
         "x": [
          -0.06912434674801994,
          0.030322892501715895,
          0.15504605998669346
         ],
         "xaxis": "x",
         "y": [
          0.1544095806844952,
          0.045902691184960064,
          0.4651952945992158
         ],
         "yaxis": "y"
        },
        {
         "customdata": [
          [
           "TP53",
           1025,
           "SB 216763"
          ],
          [
           "BRAF",
           1025,
           "SB 216763"
          ],
          [
           "PIK3CA",
           1025,
           "SB 216763"
          ]
         ],
         "hoverlabel": {
          "namelength": 0
         },
         "hovertemplate": "Drug_Name=%{customdata[2]}<br>SE=%{x}<br>-logP=%{y}<br>F1=%{customdata[0]}<br>F2=%{customdata[1]}",
         "legendgroup": "SB 216763",
         "marker": {
          "color": "#ab63fa",
          "symbol": "circle"
         },
         "mode": "markers",
         "name": "SB 216763",
         "showlegend": true,
         "type": "scatter",
         "x": [
          0.9323290221452072,
          -1.0420822853966736,
          0.09731930089366952
         ],
         "xaxis": "x",
         "y": [
          4.314417073107663,
          2.9976297208021263,
          0.2583984492186282
         ],
         "yaxis": "y"
        },
        {
         "customdata": [
          [
           "TP53",
           1026,
           "17-AAG"
          ],
          [
           "BRAF",
           1026,
           "17-AAG"
          ],
          [
           "PIK3CA",
           1026,
           "17-AAG"
          ]
         ],
         "hoverlabel": {
          "namelength": 0
         },
         "hovertemplate": "Drug_Name=%{customdata[2]}<br>SE=%{x}<br>-logP=%{y}<br>F1=%{customdata[0]}<br>F2=%{customdata[1]}",
         "legendgroup": "17-AAG",
         "marker": {
          "color": "#FFA15A",
          "symbol": "circle"
         },
         "mode": "markers",
         "name": "17-AAG",
         "showlegend": true,
         "type": "scatter",
         "x": [
          0.010975533594567915,
          0.3396367005052868,
          -0.30433497610481564
         ],
         "xaxis": "x",
         "y": [
          0.02192405461584039,
          0.6365821603313464,
          1.0401753152773332
         ],
         "yaxis": "y"
        },
        {
         "customdata": [
          [
           "TP53",
           1028,
           "VX-702"
          ],
          [
           "BRAF",
           1028,
           "VX-702"
          ],
          [
           "PIK3CA",
           1028,
           "VX-702"
          ]
         ],
         "hoverlabel": {
          "namelength": 0
         },
         "hovertemplate": "Drug_Name=%{customdata[2]}<br>SE=%{x}<br>-logP=%{y}<br>F1=%{customdata[0]}<br>F2=%{customdata[1]}",
         "legendgroup": "VX-702",
         "marker": {
          "color": "#19d3f3",
          "symbol": "circle"
         },
         "mode": "markers",
         "name": "VX-702",
         "showlegend": true,
         "type": "scatter",
         "x": [
          0.6079401137069731,
          -0.2441120958817401,
          0.2815768604368734
         ],
         "xaxis": "x",
         "y": [
          2.2304758159860336,
          0.4304428476634764,
          0.974544952907699
         ],
         "yaxis": "y"
        },
        {
         "customdata": [
          [
           "TP53",
           1029,
           "AMG-706"
          ],
          [
           "BRAF",
           1029,
           "AMG-706"
          ],
          [
           "PIK3CA",
           1029,
           "AMG-706"
          ]
         ],
         "hoverlabel": {
          "namelength": 0
         },
         "hovertemplate": "Drug_Name=%{customdata[2]}<br>SE=%{x}<br>-logP=%{y}<br>F1=%{customdata[0]}<br>F2=%{customdata[1]}",
         "legendgroup": "AMG-706",
         "marker": {
          "color": "#FF6692",
          "symbol": "circle"
         },
         "mode": "markers",
         "name": "AMG-706",
         "showlegend": true,
         "type": "scatter",
         "x": [
          0.16847362548565956,
          0.3670554655664179,
          0.4918814892099061
         ],
         "xaxis": "x",
         "y": [
          0.3913061222144649,
          0.700768713951488,
          2.038362424987998
         ],
         "yaxis": "y"
        },
        {
         "customdata": [
          [
           "TP53",
           1030,
           "KU-55933"
          ],
          [
           "BRAF",
           1030,
           "KU-55933"
          ],
          [
           "PIK3CA",
           1030,
           "KU-55933"
          ]
         ],
         "hoverlabel": {
          "namelength": 0
         },
         "hovertemplate": "Drug_Name=%{customdata[2]}<br>SE=%{x}<br>-logP=%{y}<br>F1=%{customdata[0]}<br>F2=%{customdata[1]}",
         "legendgroup": "KU-55933",
         "marker": {
          "color": "#B6E880",
          "symbol": "circle"
         },
         "mode": "markers",
         "name": "KU-55933",
         "showlegend": true,
         "type": "scatter",
         "x": [
          0.236123231714484,
          0.6121137259226166,
          0.41234659817648095
         ],
         "xaxis": "x",
         "y": [
          0.5836479458297759,
          1.3703729255621038,
          1.5771776448996369
         ],
         "yaxis": "y"
        },
        {
         "customdata": [
          [
           "TP53",
           1031,
           "Elesclomol"
          ],
          [
           "BRAF",
           1031,
           "Elesclomol"
          ],
          [
           "PIK3CA",
           1031,
           "Elesclomol"
          ]
         ],
         "hoverlabel": {
          "namelength": 0
         },
         "hovertemplate": "Drug_Name=%{customdata[2]}<br>SE=%{x}<br>-logP=%{y}<br>F1=%{customdata[0]}<br>F2=%{customdata[1]}",
         "legendgroup": "Elesclomol",
         "marker": {
          "color": "#FF97FF",
          "symbol": "circle"
         },
         "mode": "markers",
         "name": "Elesclomol",
         "showlegend": true,
         "type": "scatter",
         "x": [
          -0.1656925516975306,
          -0.14830727532863394,
          -0.08561665673796587
         ],
         "xaxis": "x",
         "y": [
          0.4074706970427057,
          0.2444938228330341,
          0.23668598899839896
         ],
         "yaxis": "y"
        },
        {
         "customdata": [
          [
           "TP53",
           1032,
           "Afatinib"
          ],
          [
           "BRAF",
           1032,
           "Afatinib"
          ],
          [
           "PIK3CA",
           1032,
           "Afatinib"
          ]
         ],
         "hoverlabel": {
          "namelength": 0
         },
         "hovertemplate": "Drug_Name=%{customdata[2]}<br>SE=%{x}<br>-logP=%{y}<br>F1=%{customdata[0]}<br>F2=%{customdata[1]}",
         "legendgroup": "Afatinib",
         "marker": {
          "color": "#FECB52",
          "symbol": "circle"
         },
         "mode": "markers",
         "name": "Afatinib",
         "showlegend": true,
         "type": "scatter",
         "x": [
          -0.13898763217609905,
          -0.5268965064048091,
          -0.021696931899550798
         ],
         "xaxis": "x",
         "y": [
          0.33294821037876465,
          1.1222676420506832,
          0.05549701335228474
         ],
         "yaxis": "y"
        },
        {
         "customdata": [
          [
           "TP53",
           1033,
           "Vismodegib"
          ],
          [
           "BRAF",
           1033,
           "Vismodegib"
          ],
          [
           "PIK3CA",
           1033,
           "Vismodegib"
          ]
         ],
         "hoverlabel": {
          "namelength": 0
         },
         "hovertemplate": "Drug_Name=%{customdata[2]}<br>SE=%{x}<br>-logP=%{y}<br>F1=%{customdata[0]}<br>F2=%{customdata[1]}",
         "legendgroup": "Vismodegib",
         "marker": {
          "color": "#636efa",
          "symbol": "circle"
         },
         "mode": "markers",
         "name": "Vismodegib",
         "showlegend": true,
         "type": "scatter",
         "x": [
          0.10547295843841707,
          0.07800678225545049,
          -0.0487077559689116
         ],
         "xaxis": "x",
         "y": [
          0.2443875804711597,
          0.1222672290081092,
          0.12877960548609144
         ],
         "yaxis": "y"
        },
        {
         "customdata": [
          [
           "TP53",
           1036,
           "PLX4720"
          ],
          [
           "BRAF",
           1036,
           "PLX4720"
          ],
          [
           "PIK3CA",
           1036,
           "PLX4720"
          ]
         ],
         "hoverlabel": {
          "namelength": 0
         },
         "hovertemplate": "Drug_Name=%{customdata[2]}<br>SE=%{x}<br>-logP=%{y}<br>F1=%{customdata[0]}<br>F2=%{customdata[1]}",
         "legendgroup": "PLX4720",
         "marker": {
          "color": "#EF553B",
          "symbol": "circle"
         },
         "mode": "markers",
         "name": "PLX4720",
         "showlegend": true,
         "type": "scatter",
         "x": [
          0.7336673456325035,
          -0.8043440126552232,
          -0.02159150967642997
         ],
         "xaxis": "x",
         "y": [
          2.7570725715893487,
          2.0280418272078133,
          0.05363129612419455
         ],
         "yaxis": "y"
        },
        {
         "customdata": [
          [
           "TP53",
           1037,
           "BX-795"
          ],
          [
           "BRAF",
           1037,
           "BX-795"
          ],
          [
           "PIK3CA",
           1037,
           "BX-795"
          ]
         ],
         "hoverlabel": {
          "namelength": 0
         },
         "hovertemplate": "Drug_Name=%{customdata[2]}<br>SE=%{x}<br>-logP=%{y}<br>F1=%{customdata[0]}<br>F2=%{customdata[1]}",
         "legendgroup": "BX-795",
         "marker": {
          "color": "#00cc96",
          "symbol": "circle"
         },
         "mode": "markers",
         "name": "BX-795",
         "showlegend": true,
         "type": "scatter",
         "x": [
          -0.07786398004192042,
          0.2917495232032541,
          0.32672565302748896
         ],
         "xaxis": "x",
         "y": [
          0.1659936915437549,
          0.5293410652368594,
          1.1434897179706387
         ],
         "yaxis": "y"
        },
        {
         "customdata": [
          [
           "TP53",
           1038,
           "NU-7441"
          ],
          [
           "BRAF",
           1038,
           "NU-7441"
          ],
          [
           "PIK3CA",
           1038,
           "NU-7441"
          ]
         ],
         "hoverlabel": {
          "namelength": 0
         },
         "hovertemplate": "Drug_Name=%{customdata[2]}<br>SE=%{x}<br>-logP=%{y}<br>F1=%{customdata[0]}<br>F2=%{customdata[1]}",
         "legendgroup": "NU-7441",
         "marker": {
          "color": "#ab63fa",
          "symbol": "circle"
         },
         "mode": "markers",
         "name": "NU-7441",
         "showlegend": true,
         "type": "scatter",
         "x": [
          0.27708611049383963,
          0.5016905048778041,
          0.3027558805182448
         ],
         "xaxis": "x",
         "y": [
          0.7106981138148192,
          1.0466073139083327,
          1.033041645532356
         ],
         "yaxis": "y"
        },
        {
         "customdata": [
          [
           "TP53",
           1039,
           "SL 0101-1"
          ],
          [
           "BRAF",
           1039,
           "SL 0101-1"
          ],
          [
           "PIK3CA",
           1039,
           "SL 0101-1"
          ]
         ],
         "hoverlabel": {
          "namelength": 0
         },
         "hovertemplate": "Drug_Name=%{customdata[2]}<br>SE=%{x}<br>-logP=%{y}<br>F1=%{customdata[0]}<br>F2=%{customdata[1]}",
         "legendgroup": "SL 0101-1",
         "marker": {
          "color": "#FFA15A",
          "symbol": "circle"
         },
         "mode": "markers",
         "name": "SL 0101-1",
         "showlegend": true,
         "type": "scatter",
         "x": [
          0.2883284880695083,
          0.3097184198972085,
          -0.21976841715553586
         ],
         "xaxis": "x",
         "y": [
          0.7470088916891474,
          0.5688650919116308,
          0.6854754464050734
         ],
         "yaxis": "y"
        },
        {
         "customdata": [
          [
           "TP53",
           104,
           "Bortezomib"
          ],
          [
           "PIK3CA",
           104,
           "Bortezomib"
          ]
         ],
         "hoverlabel": {
          "namelength": 0
         },
         "hovertemplate": "Drug_Name=%{customdata[2]}<br>SE=%{x}<br>-logP=%{y}<br>F1=%{customdata[0]}<br>F2=%{customdata[1]}",
         "legendgroup": "Bortezomib",
         "marker": {
          "color": "#19d3f3",
          "symbol": "circle"
         },
         "mode": "markers",
         "name": "Bortezomib",
         "showlegend": true,
         "type": "scatter",
         "x": [
          -0.1159269305943876,
          -0.13907457275181165
         ],
         "xaxis": "x",
         "y": [
          0.15212901205062093,
          0.18508018824599087
         ],
         "yaxis": "y"
        },
        {
         "customdata": [
          [
           "TP53",
           1042,
           "BIRB 0796"
          ],
          [
           "BRAF",
           1042,
           "BIRB 0796"
          ],
          [
           "PIK3CA",
           1042,
           "BIRB 0796"
          ]
         ],
         "hoverlabel": {
          "namelength": 0
         },
         "hovertemplate": "Drug_Name=%{customdata[2]}<br>SE=%{x}<br>-logP=%{y}<br>F1=%{customdata[0]}<br>F2=%{customdata[1]}",
         "legendgroup": "BIRB 0796",
         "marker": {
          "color": "#FF6692",
          "symbol": "circle"
         },
         "mode": "markers",
         "name": "BIRB 0796",
         "showlegend": true,
         "type": "scatter",
         "x": [
          -0.19973748077833944,
          0.09415431559159858,
          0.28735909562232115
         ],
         "xaxis": "x",
         "y": [
          0.47754559267998203,
          0.1487329400533628,
          0.9645258290782092
         ],
         "yaxis": "y"
        },
        {
         "customdata": [
          [
           "TP53",
           1043,
           "JNK Inhibitor VIII"
          ],
          [
           "BRAF",
           1043,
           "JNK Inhibitor VIII"
          ],
          [
           "PIK3CA",
           1043,
           "JNK Inhibitor VIII"
          ]
         ],
         "hoverlabel": {
          "namelength": 0
         },
         "hovertemplate": "Drug_Name=%{customdata[2]}<br>SE=%{x}<br>-logP=%{y}<br>F1=%{customdata[0]}<br>F2=%{customdata[1]}",
         "legendgroup": "JNK Inhibitor VIII",
         "marker": {
          "color": "#B6E880",
          "symbol": "circle"
         },
         "mode": "markers",
         "name": "JNK Inhibitor VIII",
         "showlegend": true,
         "type": "scatter",
         "x": [
          0.3822540836774589,
          0.2416518028681908,
          0.2428146509348435
         ],
         "xaxis": "x",
         "y": [
          1.0755873569082062,
          0.4236031789510992,
          0.7767219069065456
         ],
         "yaxis": "y"
        },
        {
         "customdata": [
          [
           "TP53",
           1046,
           "681640.00"
          ],
          [
           "BRAF",
           1046,
           "681640.00"
          ],
          [
           "PIK3CA",
           1046,
           "681640.00"
          ]
         ],
         "hoverlabel": {
          "namelength": 0
         },
         "hovertemplate": "Drug_Name=%{customdata[2]}<br>SE=%{x}<br>-logP=%{y}<br>F1=%{customdata[0]}<br>F2=%{customdata[1]}",
         "legendgroup": "681640.00",
         "marker": {
          "color": "#FF97FF",
          "symbol": "circle"
         },
         "mode": "markers",
         "name": "681640.00",
         "showlegend": true,
         "type": "scatter",
         "x": [
          0.0433944894895263,
          0.23434508326568776,
          0.0797241802394248
         ],
         "xaxis": "x",
         "y": [
          0.08683793402883516,
          0.4012639665245947,
          0.19295133840202786
         ],
         "yaxis": "y"
        },
        {
         "customdata": [
          [
           "TP53",
           1047,
           "Nutlin-3a"
          ],
          [
           "BRAF",
           1047,
           "Nutlin-3a"
          ],
          [
           "PIK3CA",
           1047,
           "Nutlin-3a"
          ]
         ],
         "hoverlabel": {
          "namelength": 0
         },
         "hovertemplate": "Drug_Name=%{customdata[2]}<br>SE=%{x}<br>-logP=%{y}<br>F1=%{customdata[0]}<br>F2=%{customdata[1]}",
         "legendgroup": "Nutlin-3a",
         "marker": {
          "color": "#FECB52",
          "symbol": "circle"
         },
         "mode": "markers",
         "name": "Nutlin-3a",
         "showlegend": true,
         "type": "scatter",
         "x": [
          0.95333122914582,
          -0.2633999866650979,
          -0.364071149657636
         ],
         "xaxis": "x",
         "y": [
          4.246050361746564,
          0.468707445705623,
          1.324978367608629
         ],
         "yaxis": "y"
        },
        {
         "customdata": [
          [
           "TP53",
           1049,
           "PD-173074"
          ],
          [
           "BRAF",
           1049,
           "PD-173074"
          ],
          [
           "PIK3CA",
           1049,
           "PD-173074"
          ]
         ],
         "hoverlabel": {
          "namelength": 0
         },
         "hovertemplate": "Drug_Name=%{customdata[2]}<br>SE=%{x}<br>-logP=%{y}<br>F1=%{customdata[0]}<br>F2=%{customdata[1]}",
         "legendgroup": "PD-173074",
         "marker": {
          "color": "#636efa",
          "symbol": "circle"
         },
         "mode": "markers",
         "name": "PD-173074",
         "showlegend": true,
         "type": "scatter",
         "x": [
          -0.0022409013905336887,
          0.3831893228125297,
          -0.0572042239659886
         ],
         "xaxis": "x",
         "y": [
          0.004437911101997071,
          0.7395021817446492,
          0.1482402267578977
         ],
         "yaxis": "y"
        },
        {
         "customdata": [
          [
           "TP53",
           1050,
           "ZM-447439"
          ],
          [
           "BRAF",
           1050,
           "ZM-447439"
          ],
          [
           "PIK3CA",
           1050,
           "ZM-447439"
          ]
         ],
         "hoverlabel": {
          "namelength": 0
         },
         "hovertemplate": "Drug_Name=%{customdata[2]}<br>SE=%{x}<br>-logP=%{y}<br>F1=%{customdata[0]}<br>F2=%{customdata[1]}",
         "legendgroup": "ZM-447439",
         "marker": {
          "color": "#EF553B",
          "symbol": "circle"
         },
         "mode": "markers",
         "name": "ZM-447439",
         "showlegend": true,
         "type": "scatter",
         "x": [
          -0.204665115202622,
          0.5399820225703053,
          0.25501262560678817
         ],
         "xaxis": "x",
         "y": [
          0.4829580120978965,
          1.1426182958464015,
          0.7635151275664352
         ],
         "yaxis": "y"
        },
        {
         "customdata": [
          [
           "TP53",
           1052,
           "RO-3306"
          ],
          [
           "BRAF",
           1052,
           "RO-3306"
          ],
          [
           "PIK3CA",
           1052,
           "RO-3306"
          ]
         ],
         "hoverlabel": {
          "namelength": 0
         },
         "hovertemplate": "Drug_Name=%{customdata[2]}<br>SE=%{x}<br>-logP=%{y}<br>F1=%{customdata[0]}<br>F2=%{customdata[1]}",
         "legendgroup": "RO-3306",
         "marker": {
          "color": "#00cc96",
          "symbol": "circle"
         },
         "mode": "markers",
         "name": "RO-3306",
         "showlegend": true,
         "type": "scatter",
         "x": [
          0.09599136396314983,
          0.5041355355217452,
          0.28923867094106004
         ],
         "xaxis": "x",
         "y": [
          0.20822436596225274,
          1.0533743164932512,
          0.9727893318206764
         ],
         "yaxis": "y"
        },
        {
         "customdata": [
          [
           "TP53",
           1053,
           "MK-2206"
          ],
          [
           "BRAF",
           1053,
           "MK-2206"
          ],
          [
           "PIK3CA",
           1053,
           "MK-2206"
          ]
         ],
         "hoverlabel": {
          "namelength": 0
         },
         "hovertemplate": "Drug_Name=%{customdata[2]}<br>SE=%{x}<br>-logP=%{y}<br>F1=%{customdata[0]}<br>F2=%{customdata[1]}",
         "legendgroup": "MK-2206",
         "marker": {
          "color": "#ab63fa",
          "symbol": "circle"
         },
         "mode": "markers",
         "name": "MK-2206",
         "showlegend": true,
         "type": "scatter",
         "x": [
          -0.7199085618022034,
          0.5868078001817177,
          -0.4838350016311144
         ],
         "xaxis": "x",
         "y": [
          2.663786004924821,
          1.2897054501764176,
          1.9221607288532592
         ],
         "yaxis": "y"
        },
        {
         "customdata": [
          [
           "TP53",
           1054,
           "PD-0332991"
          ],
          [
           "BRAF",
           1054,
           "PD-0332991"
          ],
          [
           "PIK3CA",
           1054,
           "PD-0332991"
          ]
         ],
         "hoverlabel": {
          "namelength": 0
         },
         "hovertemplate": "Drug_Name=%{customdata[2]}<br>SE=%{x}<br>-logP=%{y}<br>F1=%{customdata[0]}<br>F2=%{customdata[1]}",
         "legendgroup": "PD-0332991",
         "marker": {
          "color": "#FFA15A",
          "symbol": "circle"
         },
         "mode": "markers",
         "name": "PD-0332991",
         "showlegend": true,
         "type": "scatter",
         "x": [
          0.0565473834313777,
          0.4940181614783978,
          -0.327599775589658
         ],
         "xaxis": "x",
         "y": [
          0.11766552607352875,
          1.0230208202057471,
          1.112261659426919
         ],
         "yaxis": "y"
        },
        {
         "customdata": [
          [
           "TP53",
           1057,
           "NVP-BEZ235"
          ],
          [
           "BRAF",
           1057,
           "NVP-BEZ235"
          ],
          [
           "PIK3CA",
           1057,
           "NVP-BEZ235"
          ]
         ],
         "hoverlabel": {
          "namelength": 0
         },
         "hovertemplate": "Drug_Name=%{customdata[2]}<br>SE=%{x}<br>-logP=%{y}<br>F1=%{customdata[0]}<br>F2=%{customdata[1]}",
         "legendgroup": "NVP-BEZ235",
         "marker": {
          "color": "#19d3f3",
          "symbol": "circle"
         },
         "mode": "markers",
         "name": "NVP-BEZ235",
         "showlegend": true,
         "type": "scatter",
         "x": [
          -0.12112447624983542,
          0.6994577849651239,
          0.08371968906958396
         ],
         "xaxis": "x",
         "y": [
          0.2690985513840494,
          1.6538017467142114,
          0.22381243277324828
         ],
         "yaxis": "y"
        },
        {
         "customdata": [
          [
           "TP53",
           1058,
           "GDC0941"
          ],
          [
           "BRAF",
           1058,
           "GDC0941"
          ],
          [
           "PIK3CA",
           1058,
           "GDC0941"
          ]
         ],
         "hoverlabel": {
          "namelength": 0
         },
         "hovertemplate": "Drug_Name=%{customdata[2]}<br>SE=%{x}<br>-logP=%{y}<br>F1=%{customdata[0]}<br>F2=%{customdata[1]}",
         "legendgroup": "GDC0941",
         "marker": {
          "color": "#FF6692",
          "symbol": "circle"
         },
         "mode": "markers",
         "name": "GDC0941",
         "showlegend": true,
         "type": "scatter",
         "x": [
          -0.6611797410990978,
          0.1822887867009466,
          -0.4412901788967598
         ],
         "xaxis": "x",
         "y": [
          2.3456671279222654,
          0.30658362393587874,
          1.7382585978286371
         ],
         "yaxis": "y"
        },
        {
         "customdata": [
          [
           "TP53",
           1059,
           "AZD8055"
          ],
          [
           "BRAF",
           1059,
           "AZD8055"
          ],
          [
           "PIK3CA",
           1059,
           "AZD8055"
          ]
         ],
         "hoverlabel": {
          "namelength": 0
         },
         "hovertemplate": "Drug_Name=%{customdata[2]}<br>SE=%{x}<br>-logP=%{y}<br>F1=%{customdata[0]}<br>F2=%{customdata[1]}",
         "legendgroup": "AZD8055",
         "marker": {
          "color": "#B6E880",
          "symbol": "circle"
         },
         "mode": "markers",
         "name": "AZD8055",
         "showlegend": true,
         "type": "scatter",
         "x": [
          0.37304890526153495,
          0.7126175226726176,
          -0.1896812393100995
         ],
         "xaxis": "x",
         "y": [
          1.04134355686958,
          1.6986864295269593,
          0.5722373698117219
         ],
         "yaxis": "y"
        },
        {
         "customdata": [
          [
           "PIK3CA",
           106,
           "XMD8-85"
          ]
         ],
         "hoverlabel": {
          "namelength": 0
         },
         "hovertemplate": "Drug_Name=%{customdata[2]}<br>SE=%{x}<br>-logP=%{y}<br>F1=%{customdata[0]}<br>F2=%{customdata[1]}",
         "legendgroup": "XMD8-85",
         "marker": {
          "color": "#FF97FF",
          "symbol": "circle"
         },
         "mode": "markers",
         "name": "XMD8-85",
         "showlegend": true,
         "type": "scatter",
         "x": [
          0.5488984772396416
         ],
         "xaxis": "x",
         "y": [
          0.9072321531145946
         ],
         "yaxis": "y"
        },
        {
         "customdata": [
          [
           "TP53",
           1060,
           "PD-0325901"
          ],
          [
           "BRAF",
           1060,
           "PD-0325901"
          ],
          [
           "PIK3CA",
           1060,
           "PD-0325901"
          ]
         ],
         "hoverlabel": {
          "namelength": 0
         },
         "hovertemplate": "Drug_Name=%{customdata[2]}<br>SE=%{x}<br>-logP=%{y}<br>F1=%{customdata[0]}<br>F2=%{customdata[1]}",
         "legendgroup": "PD-0325901",
         "marker": {
          "color": "#FECB52",
          "symbol": "circle"
         },
         "mode": "markers",
         "name": "PD-0325901",
         "showlegend": true,
         "type": "scatter",
         "x": [
          0.02919449018670003,
          -0.7294113590167515,
          0.5842705101126385
         ],
         "xaxis": "x",
         "y": [
          0.05936894774871836,
          1.7568156463067428,
          2.650984406047576
         ],
         "yaxis": "y"
        },
        {
         "customdata": [
          [
           "TP53",
           1061,
           "SB590885"
          ],
          [
           "BRAF",
           1061,
           "SB590885"
          ],
          [
           "PIK3CA",
           1061,
           "SB590885"
          ]
         ],
         "hoverlabel": {
          "namelength": 0
         },
         "hovertemplate": "Drug_Name=%{customdata[2]}<br>SE=%{x}<br>-logP=%{y}<br>F1=%{customdata[0]}<br>F2=%{customdata[1]}",
         "legendgroup": "SB590885",
         "marker": {
          "color": "#636efa",
          "symbol": "circle"
         },
         "mode": "markers",
         "name": "SB590885",
         "showlegend": true,
         "type": "scatter",
         "x": [
          0.5360776741161664,
          -0.9062336924633724,
          0.0911385870805718
         ],
         "xaxis": "x",
         "y": [
          1.7100277699714823,
          2.423576323691069,
          0.2394748903985723
         ],
         "yaxis": "y"
        },
        {
         "customdata": [
          [
           "TP53",
           1062,
           "AZD6244"
          ],
          [
           "BRAF",
           1062,
           "AZD6244"
          ],
          [
           "PIK3CA",
           1062,
           "AZD6244"
          ],
          [
           "TP53",
           1498,
           "AZD6244"
          ],
          [
           "BRAF",
           1498,
           "AZD6244"
          ],
          [
           "PIK3CA",
           1498,
           "AZD6244"
          ]
         ],
         "hoverlabel": {
          "namelength": 0
         },
         "hovertemplate": "Drug_Name=%{customdata[2]}<br>SE=%{x}<br>-logP=%{y}<br>F1=%{customdata[0]}<br>F2=%{customdata[1]}",
         "legendgroup": "AZD6244",
         "marker": {
          "color": "#EF553B",
          "symbol": "circle"
         },
         "mode": "markers",
         "name": "AZD6244",
         "showlegend": true,
         "type": "scatter",
         "x": [
          -0.24294576952016575,
          -0.06957230983508443,
          0.0429825786501618,
          0.14119742694865225,
          -0.6513579280925361,
          0.3644084918696247
         ],
         "xaxis": "x",
         "y": [
          0.6017383111911855,
          0.10774713713268146,
          0.10685910822886946,
          0.3402685863433288,
          1.5045783775330324,
          1.3915369311199564
         ],
         "yaxis": "y"
        },
        {
         "customdata": [
          [
           "TP53",
           1066,
           "AZD6482"
          ],
          [
           "PIK3CA",
           1066,
           "AZD6482"
          ],
          [
           "TP53",
           156,
           "AZD6482"
          ],
          [
           "PIK3CA",
           156,
           "AZD6482"
          ]
         ],
         "hoverlabel": {
          "namelength": 0
         },
         "hovertemplate": "Drug_Name=%{customdata[2]}<br>SE=%{x}<br>-logP=%{y}<br>F1=%{customdata[0]}<br>F2=%{customdata[1]}",
         "legendgroup": "AZD6482",
         "marker": {
          "color": "#00cc96",
          "symbol": "circle"
         },
         "mode": "markers",
         "name": "AZD6482",
         "showlegend": true,
         "type": "scatter",
         "x": [
          0.059745953788860384,
          -0.5669853862245811,
          -0.7374877370653277,
          -0.15970237208456303
         ],
         "xaxis": "x",
         "y": [
          0.12516254799265522,
          2.5297395549154755,
          3.0394965623302306,
          0.4891199930870194
         ],
         "yaxis": "y"
        },
        {
         "customdata": [
          [
           "TP53",
           1067,
           "CCT007093"
          ],
          [
           "BRAF",
           1067,
           "CCT007093"
          ],
          [
           "PIK3CA",
           1067,
           "CCT007093"
          ]
         ],
         "hoverlabel": {
          "namelength": 0
         },
         "hovertemplate": "Drug_Name=%{customdata[2]}<br>SE=%{x}<br>-logP=%{y}<br>F1=%{customdata[0]}<br>F2=%{customdata[1]}",
         "legendgroup": "CCT007093",
         "marker": {
          "color": "#ab63fa",
          "symbol": "circle"
         },
         "mode": "markers",
         "name": "CCT007093",
         "showlegend": true,
         "type": "scatter",
         "x": [
          0.2884245966061276,
          0.4142063417131758,
          -0.4806350774176279
         ],
         "xaxis": "x",
         "y": [
          0.8008344575006368,
          0.8213079891334257,
          2.0718586456199364
         ],
         "yaxis": "y"
        },
        {
         "customdata": [
          [
           "TP53",
           1069,
           "EHT 1864"
          ],
          [
           "BRAF",
           1069,
           "EHT 1864"
          ],
          [
           "PIK3CA",
           1069,
           "EHT 1864"
          ]
         ],
         "hoverlabel": {
          "namelength": 0
         },
         "hovertemplate": "Drug_Name=%{customdata[2]}<br>SE=%{x}<br>-logP=%{y}<br>F1=%{customdata[0]}<br>F2=%{customdata[1]}",
         "legendgroup": "EHT 1864",
         "marker": {
          "color": "#FFA15A",
          "symbol": "circle"
         },
         "mode": "markers",
         "name": "EHT 1864",
         "showlegend": true,
         "type": "scatter",
         "x": [
          0.6952427064408601,
          0.18620833203966985,
          -0.6509027850859396
         ],
         "xaxis": "x",
         "y": [
          2.7558302314758905,
          0.3159225103002202,
          3.3236894196591145
         ],
         "yaxis": "y"
        },
        {
         "customdata": [
          [
           "TP53",
           1072,
           "BMS-708163"
          ],
          [
           "BRAF",
           1072,
           "BMS-708163"
          ],
          [
           "PIK3CA",
           1072,
           "BMS-708163"
          ],
          [
           "TP53",
           205,
           "BMS-708163"
          ],
          [
           "PIK3CA",
           205,
           "BMS-708163"
          ]
         ],
         "hoverlabel": {
          "namelength": 0
         },
         "hovertemplate": "Drug_Name=%{customdata[2]}<br>SE=%{x}<br>-logP=%{y}<br>F1=%{customdata[0]}<br>F2=%{customdata[1]}",
         "legendgroup": "BMS-708163",
         "marker": {
          "color": "#19d3f3",
          "symbol": "circle"
         },
         "mode": "markers",
         "name": "BMS-708163",
         "showlegend": true,
         "type": "scatter",
         "x": [
          -0.27962476169245537,
          0.871443717890368,
          0.11684379812781745,
          0.2699920682169452,
          -0.04413186768592766
         ],
         "xaxis": "x",
         "y": [
          0.7700238995679506,
          2.302567708403956,
          0.33775840806797985,
          0.7805390896453961,
          0.11835166724318735
         ],
         "yaxis": "y"
        },
        {
         "customdata": [
          [
           "TP53",
           1091,
           "BMS-536924"
          ],
          [
           "BRAF",
           1091,
           "BMS-536924"
          ],
          [
           "PIK3CA",
           1091,
           "BMS-536924"
          ],
          [
           "PIK3CA",
           62,
           "BMS-536924"
          ]
         ],
         "hoverlabel": {
          "namelength": 0
         },
         "hovertemplate": "Drug_Name=%{customdata[2]}<br>SE=%{x}<br>-logP=%{y}<br>F1=%{customdata[0]}<br>F2=%{customdata[1]}",
         "legendgroup": "BMS-536924",
         "marker": {
          "color": "#FF6692",
          "symbol": "circle"
         },
         "mode": "markers",
         "name": "BMS-536924",
         "showlegend": true,
         "type": "scatter",
         "x": [
          0.18051197060757465,
          0.2259527012216142,
          -0.037780140425609086,
          0.4420578356009118
         ],
         "xaxis": "x",
         "y": [
          0.4538169355493537,
          0.3949187183704635,
          0.0998977202997428,
          0.6621785907137658
         ],
         "yaxis": "y"
        },
        {
         "customdata": [
          [
           "PIK3CA",
           11,
           "Paclitaxel"
          ]
         ],
         "hoverlabel": {
          "namelength": 0
         },
         "hovertemplate": "Drug_Name=%{customdata[2]}<br>SE=%{x}<br>-logP=%{y}<br>F1=%{customdata[0]}<br>F2=%{customdata[1]}",
         "legendgroup": "Paclitaxel",
         "marker": {
          "color": "#B6E880",
          "symbol": "circle"
         },
         "mode": "markers",
         "name": "Paclitaxel",
         "showlegend": true,
         "type": "scatter",
         "x": [
          0.36529283441450544
         ],
         "xaxis": "x",
         "y": [
          0.5233386463467561
         ],
         "yaxis": "y"
        },
        {
         "customdata": [
          [
           "PIK3CA",
           110,
           "Roscovitine"
          ]
         ],
         "hoverlabel": {
          "namelength": 0
         },
         "hovertemplate": "Drug_Name=%{customdata[2]}<br>SE=%{x}<br>-logP=%{y}<br>F1=%{customdata[0]}<br>F2=%{customdata[1]}",
         "legendgroup": "Roscovitine",
         "marker": {
          "color": "#FF97FF",
          "symbol": "circle"
         },
         "mode": "markers",
         "name": "Roscovitine",
         "showlegend": true,
         "type": "scatter",
         "x": [
          0.6116235933184893
         ],
         "xaxis": "x",
         "y": [
          1.0496180331102538
         ],
         "yaxis": "y"
        },
        {
         "customdata": [
          [
           "PIK3CA",
           111,
           "Salubrinal"
          ]
         ],
         "hoverlabel": {
          "namelength": 0
         },
         "hovertemplate": "Drug_Name=%{customdata[2]}<br>SE=%{x}<br>-logP=%{y}<br>F1=%{customdata[0]}<br>F2=%{customdata[1]}",
         "legendgroup": "Salubrinal",
         "marker": {
          "color": "#FECB52",
          "symbol": "circle"
         },
         "mode": "markers",
         "name": "Salubrinal",
         "showlegend": true,
         "type": "scatter",
         "x": [
          0.7539363403048971
         ],
         "xaxis": "x",
         "y": [
          1.4106385803066162
         ],
         "yaxis": "y"
        },
        {
         "customdata": [
          [
           "TP53",
           1114,
           "Cetuximab"
          ],
          [
           "PIK3CA",
           1114,
           "Cetuximab"
          ]
         ],
         "hoverlabel": {
          "namelength": 0
         },
         "hovertemplate": "Drug_Name=%{customdata[2]}<br>SE=%{x}<br>-logP=%{y}<br>F1=%{customdata[0]}<br>F2=%{customdata[1]}",
         "legendgroup": "Cetuximab",
         "marker": {
          "color": "#636efa",
          "symbol": "circle"
         },
         "mode": "markers",
         "name": "Cetuximab",
         "showlegend": true,
         "type": "scatter",
         "x": [
          -0.03312962093982305,
          0.11299286749446745
         ],
         "xaxis": "x",
         "y": [
          0.06808055031308498,
          0.3227163139825026
         ],
         "yaxis": "y"
        },
        {
         "customdata": [
          [
           "TP53",
           1129,
           "PF-4708671"
          ],
          [
           "BRAF",
           1129,
           "PF-4708671"
          ],
          [
           "PIK3CA",
           1129,
           "PF-4708671"
          ]
         ],
         "hoverlabel": {
          "namelength": 0
         },
         "hovertemplate": "Drug_Name=%{customdata[2]}<br>SE=%{x}<br>-logP=%{y}<br>F1=%{customdata[0]}<br>F2=%{customdata[1]}",
         "legendgroup": "PF-4708671",
         "marker": {
          "color": "#EF553B",
          "symbol": "circle"
         },
         "mode": "markers",
         "name": "PF-4708671",
         "showlegend": true,
         "type": "scatter",
         "x": [
          0.6882866843017489,
          0.17647892856231642,
          -0.3171947402882332
         ],
         "xaxis": "x",
         "y": [
          2.4952393460087015,
          0.2956016784513591,
          1.0990162045341971
         ],
         "yaxis": "y"
        },
        {
         "customdata": [
          [
           "TP53",
           1133,
           "JNJ-26854165"
          ],
          [
           "BRAF",
           1133,
           "JNJ-26854165"
          ],
          [
           "PIK3CA",
           1133,
           "JNJ-26854165"
          ]
         ],
         "hoverlabel": {
          "namelength": 0
         },
         "hovertemplate": "Drug_Name=%{customdata[2]}<br>SE=%{x}<br>-logP=%{y}<br>F1=%{customdata[0]}<br>F2=%{customdata[1]}",
         "legendgroup": "JNJ-26854165",
         "marker": {
          "color": "#00cc96",
          "symbol": "circle"
         },
         "mode": "markers",
         "name": "JNJ-26854165",
         "showlegend": true,
         "type": "scatter",
         "x": [
          -0.5025251221289989,
          0.20250276188860503,
          0.14510725249201106
         ],
         "xaxis": "x",
         "y": [
          1.5661265099551798,
          0.3454412724477228,
          0.4163431872246653
         ],
         "yaxis": "y"
        },
        {
         "customdata": [
          [
           "PIK3CA",
           1142,
           "HG-5-113-01"
          ]
         ],
         "hoverlabel": {
          "namelength": 0
         },
         "hovertemplate": "Drug_Name=%{customdata[2]}<br>SE=%{x}<br>-logP=%{y}<br>F1=%{customdata[0]}<br>F2=%{customdata[1]}",
         "legendgroup": "HG-5-113-01",
         "marker": {
          "color": "#ab63fa",
          "symbol": "circle"
         },
         "mode": "markers",
         "name": "HG-5-113-01",
         "showlegend": true,
         "type": "scatter",
         "x": [
          0.02163273456783392
         ],
         "xaxis": "x",
         "y": [
          0.041546580517059783
         ],
         "yaxis": "y"
        },
        {
         "customdata": [
          [
           "PIK3CA",
           1143,
           "HG-5-88-01"
          ]
         ],
         "hoverlabel": {
          "namelength": 0
         },
         "hovertemplate": "Drug_Name=%{customdata[2]}<br>SE=%{x}<br>-logP=%{y}<br>F1=%{customdata[0]}<br>F2=%{customdata[1]}",
         "legendgroup": "HG-5-88-01",
         "marker": {
          "color": "#FFA15A",
          "symbol": "circle"
         },
         "mode": "markers",
         "name": "HG-5-88-01",
         "showlegend": true,
         "type": "scatter",
         "x": [
          0.5491146640198891
         ],
         "xaxis": "x",
         "y": [
          1.6763167517424225
         ],
         "yaxis": "y"
        },
        {
         "customdata": [
          [
           "TP53",
           1149,
           "TW 37"
          ],
          [
           "BRAF",
           1149,
           "TW 37"
          ],
          [
           "PIK3CA",
           1149,
           "TW 37"
          ]
         ],
         "hoverlabel": {
          "namelength": 0
         },
         "hovertemplate": "Drug_Name=%{customdata[2]}<br>SE=%{x}<br>-logP=%{y}<br>F1=%{customdata[0]}<br>F2=%{customdata[1]}",
         "legendgroup": "TW 37",
         "marker": {
          "color": "#19d3f3",
          "symbol": "circle"
         },
         "mode": "markers",
         "name": "TW 37",
         "showlegend": true,
         "type": "scatter",
         "x": [
          -0.12440022814421595,
          -0.2902584811783416,
          0.35844117219366856
         ],
         "xaxis": "x",
         "y": [
          0.27723413488526283,
          0.5260996880855549,
          1.2968714300887858
         ],
         "yaxis": "y"
        },
        {
         "customdata": [
          [
           "PIK3CA",
           1158,
           "XMD11-85h"
          ]
         ],
         "hoverlabel": {
          "namelength": 0
         },
         "hovertemplate": "Drug_Name=%{customdata[2]}<br>SE=%{x}<br>-logP=%{y}<br>F1=%{customdata[0]}<br>F2=%{customdata[1]}",
         "legendgroup": "XMD11-85h",
         "marker": {
          "color": "#FF6692",
          "symbol": "circle"
         },
         "mode": "markers",
         "name": "XMD11-85h",
         "showlegend": true,
         "type": "scatter",
         "x": [
          0.6043531858259571
         ],
         "xaxis": "x",
         "y": [
          1.931996921102052
         ],
         "yaxis": "y"
        },
        {
         "customdata": [
          [
           "PIK3CA",
           1161,
           "ZG-10"
          ]
         ],
         "hoverlabel": {
          "namelength": 0
         },
         "hovertemplate": "Drug_Name=%{customdata[2]}<br>SE=%{x}<br>-logP=%{y}<br>F1=%{customdata[0]}<br>F2=%{customdata[1]}",
         "legendgroup": "ZG-10",
         "marker": {
          "color": "#B6E880",
          "symbol": "circle"
         },
         "mode": "markers",
         "name": "ZG-10",
         "showlegend": true,
         "type": "scatter",
         "x": [
          0.5202957812465964
         ],
         "xaxis": "x",
         "y": [
          1.5504303680298872
         ],
         "yaxis": "y"
        },
        {
         "customdata": [
          [
           "PIK3CA",
           1164,
           "XMD8-92"
          ]
         ],
         "hoverlabel": {
          "namelength": 0
         },
         "hovertemplate": "Drug_Name=%{customdata[2]}<br>SE=%{x}<br>-logP=%{y}<br>F1=%{customdata[0]}<br>F2=%{customdata[1]}",
         "legendgroup": "XMD8-92",
         "marker": {
          "color": "#FF97FF",
          "symbol": "circle"
         },
         "mode": "markers",
         "name": "XMD8-92",
         "showlegend": true,
         "type": "scatter",
         "x": [
          0.14757836359615514
         ],
         "xaxis": "x",
         "y": [
          0.31823323508828283
         ],
         "yaxis": "y"
        },
        {
         "customdata": [
          [
           "PIK3CA",
           1166,
           "QL-VIII-58"
          ]
         ],
         "hoverlabel": {
          "namelength": 0
         },
         "hovertemplate": "Drug_Name=%{customdata[2]}<br>SE=%{x}<br>-logP=%{y}<br>F1=%{customdata[0]}<br>F2=%{customdata[1]}",
         "legendgroup": "QL-VIII-58",
         "marker": {
          "color": "#FECB52",
          "symbol": "circle"
         },
         "mode": "markers",
         "name": "QL-VIII-58",
         "showlegend": true,
         "type": "scatter",
         "x": [
          -0.7111796158213498
         ],
         "xaxis": "x",
         "y": [
          2.484316771180796
         ],
         "yaxis": "y"
        },
        {
         "customdata": [
          [
           "TP53",
           1170,
           "CCT018159"
          ],
          [
           "BRAF",
           1170,
           "CCT018159"
          ],
          [
           "PIK3CA",
           1170,
           "CCT018159"
          ]
         ],
         "hoverlabel": {
          "namelength": 0
         },
         "hovertemplate": "Drug_Name=%{customdata[2]}<br>SE=%{x}<br>-logP=%{y}<br>F1=%{customdata[0]}<br>F2=%{customdata[1]}",
         "legendgroup": "CCT018159",
         "marker": {
          "color": "#636efa",
          "symbol": "circle"
         },
         "mode": "markers",
         "name": "CCT018159",
         "showlegend": true,
         "type": "scatter",
         "x": [
          0.2110880746387252,
          -0.7496155928901449,
          0.10062179627851138
         ],
         "xaxis": "x",
         "y": [
          0.5099747146870102,
          1.8280246933202984,
          0.27433739210462665
         ],
         "yaxis": "y"
        },
        {
         "customdata": [
          [
           "TP53",
           1175,
           "AG-014699"
          ],
          [
           "BRAF",
           1175,
           "AG-014699"
          ],
          [
           "PIK3CA",
           1175,
           "AG-014699"
          ]
         ],
         "hoverlabel": {
          "namelength": 0
         },
         "hovertemplate": "Drug_Name=%{customdata[2]}<br>SE=%{x}<br>-logP=%{y}<br>F1=%{customdata[0]}<br>F2=%{customdata[1]}",
         "legendgroup": "AG-014699",
         "marker": {
          "color": "#EF553B",
          "symbol": "circle"
         },
         "mode": "markers",
         "name": "AG-014699",
         "showlegend": true,
         "type": "scatter",
         "x": [
          0.3459078778258412,
          -0.09291286526018884,
          -0.17192589580940304
         ],
         "xaxis": "x",
         "y": [
          0.9429985536266614,
          0.1466407866212367,
          0.508468048125255
         ],
         "yaxis": "y"
        },
        {
         "customdata": [
          [
           "PIK3CA",
           119,
           "Lapatinib"
          ]
         ],
         "hoverlabel": {
          "namelength": 0
         },
         "hovertemplate": "Drug_Name=%{customdata[2]}<br>SE=%{x}<br>-logP=%{y}<br>F1=%{customdata[0]}<br>F2=%{customdata[1]}",
         "legendgroup": "Lapatinib",
         "marker": {
          "color": "#00cc96",
          "symbol": "circle"
         },
         "mode": "markers",
         "name": "Lapatinib",
         "showlegend": true,
         "type": "scatter",
         "x": [
          -0.55785807692026
         ],
         "xaxis": "x",
         "y": [
          0.9269896140102606
         ],
         "yaxis": "y"
        },
        {
         "customdata": [
          [
           "TP53",
           1192,
           "GSK269962A"
          ],
          [
           "BRAF",
           1192,
           "GSK269962A"
          ],
          [
           "PIK3CA",
           1192,
           "GSK269962A"
          ],
          [
           "TP53",
           127,
           "GSK269962A"
          ],
          [
           "PIK3CA",
           127,
           "GSK269962A"
          ]
         ],
         "hoverlabel": {
          "namelength": 0
         },
         "hovertemplate": "Drug_Name=%{customdata[2]}<br>SE=%{x}<br>-logP=%{y}<br>F1=%{customdata[0]}<br>F2=%{customdata[1]}",
         "legendgroup": "GSK269962A",
         "marker": {
          "color": "#ab63fa",
          "symbol": "circle"
         },
         "mode": "markers",
         "name": "GSK269962A",
         "showlegend": true,
         "type": "scatter",
         "x": [
          0.14636210558260676,
          -0.1845558929863222,
          -0.12556590441293294,
          0.7883954673127965,
          0.26570206546498826
         ],
         "xaxis": "x",
         "y": [
          0.35580921340573063,
          0.3133226526111478,
          0.3693799366814588,
          1.5542636747396266,
          0.3816430679645907
         ],
         "yaxis": "y"
        },
        {
         "customdata": [
          [
           "TP53",
           1194,
           "SB-505124"
          ],
          [
           "BRAF",
           1194,
           "SB-505124"
          ],
          [
           "PIK3CA",
           1194,
           "SB-505124"
          ]
         ],
         "hoverlabel": {
          "namelength": 0
         },
         "hovertemplate": "Drug_Name=%{customdata[2]}<br>SE=%{x}<br>-logP=%{y}<br>F1=%{customdata[0]}<br>F2=%{customdata[1]}",
         "legendgroup": "SB-505124",
         "marker": {
          "color": "#FFA15A",
          "symbol": "circle"
         },
         "mode": "markers",
         "name": "SB-505124",
         "showlegend": true,
         "type": "scatter",
         "x": [
          0.16594571894006094,
          0.5188934353928767,
          -0.1514868830741444
         ],
         "xaxis": "x",
         "y": [
          0.4112848907133325,
          1.1040479315285463,
          0.4595070779611001
         ],
         "yaxis": "y"
        },
        {
         "customdata": [
          [
           "TP53",
           1199,
           "Tamoxifen"
          ],
          [
           "BRAF",
           1199,
           "Tamoxifen"
          ],
          [
           "PIK3CA",
           1199,
           "Tamoxifen"
          ]
         ],
         "hoverlabel": {
          "namelength": 0
         },
         "hovertemplate": "Drug_Name=%{customdata[2]}<br>SE=%{x}<br>-logP=%{y}<br>F1=%{customdata[0]}<br>F2=%{customdata[1]}",
         "legendgroup": "Tamoxifen",
         "marker": {
          "color": "#19d3f3",
          "symbol": "circle"
         },
         "mode": "markers",
         "name": "Tamoxifen",
         "showlegend": true,
         "type": "scatter",
         "x": [
          0.19555653537416,
          0.20027857190384304,
          -0.43154045097913823
         ],
         "xaxis": "x",
         "y": [
          0.49889831235847,
          0.34380391395569804,
          1.7839732989301067
         ],
         "yaxis": "y"
        },
        {
         "customdata": [
          [
           "PIK3CA",
           1203,
           "QL-XII-61"
          ]
         ],
         "hoverlabel": {
          "namelength": 0
         },
         "hovertemplate": "Drug_Name=%{customdata[2]}<br>SE=%{x}<br>-logP=%{y}<br>F1=%{customdata[0]}<br>F2=%{customdata[1]}",
         "legendgroup": "QL-XII-61",
         "marker": {
          "color": "#FF6692",
          "symbol": "circle"
         },
         "mode": "markers",
         "name": "QL-XII-61",
         "showlegend": true,
         "type": "scatter",
         "x": [
          -0.4055897651243724
         ],
         "xaxis": "x",
         "y": [
          1.0283160936760614
         ],
         "yaxis": "y"
        },
        {
         "customdata": [
          [
           "TP53",
           1218,
           "JQ1"
          ],
          [
           "BRAF",
           1218,
           "JQ1"
          ],
          [
           "PIK3CA",
           1218,
           "JQ1"
          ],
          [
           "TP53",
           163,
           "JQ1"
          ],
          [
           "PIK3CA",
           163,
           "JQ1"
          ]
         ],
         "hoverlabel": {
          "namelength": 0
         },
         "hovertemplate": "Drug_Name=%{customdata[2]}<br>SE=%{x}<br>-logP=%{y}<br>F1=%{customdata[0]}<br>F2=%{customdata[1]}",
         "legendgroup": "JQ1",
         "marker": {
          "color": "#B6E880",
          "symbol": "circle"
         },
         "mode": "markers",
         "name": "JQ1",
         "showlegend": true,
         "type": "scatter",
         "x": [
          0.3623137434832931,
          -0.27321070382728746,
          0.14989865332291386,
          -0.10707563723064098,
          0.4797000671504309
         ],
         "xaxis": "x",
         "y": [
          1.07701695852526,
          0.4925020179489183,
          0.4505323426288866,
          0.2502987046500866,
          2.0842597340211357
         ],
         "yaxis": "y"
        },
        {
         "customdata": [
          [
           "TP53",
           1219,
           "PFI-1"
          ],
          [
           "BRAF",
           1219,
           "PFI-1"
          ],
          [
           "PIK3CA",
           1219,
           "PFI-1"
          ]
         ],
         "hoverlabel": {
          "namelength": 0
         },
         "hovertemplate": "Drug_Name=%{customdata[2]}<br>SE=%{x}<br>-logP=%{y}<br>F1=%{customdata[0]}<br>F2=%{customdata[1]}",
         "legendgroup": "PFI-1",
         "marker": {
          "color": "#FF97FF",
          "symbol": "circle"
         },
         "mode": "markers",
         "name": "PFI-1",
         "showlegend": true,
         "type": "scatter",
         "x": [
          -0.31208968768474143,
          0.31190651270590514,
          -0.02221210373156269
         ],
         "xaxis": "x",
         "y": [
          0.889413301563465,
          0.5784660200720646,
          0.05760640381414831
         ],
         "yaxis": "y"
        },
        {
         "customdata": [
          [
           "TP53",
           1230,
           "IOX2"
          ],
          [
           "BRAF",
           1230,
           "IOX2"
          ],
          [
           "PIK3CA",
           1230,
           "IOX2"
          ]
         ],
         "hoverlabel": {
          "namelength": 0
         },
         "hovertemplate": "Drug_Name=%{customdata[2]}<br>SE=%{x}<br>-logP=%{y}<br>F1=%{customdata[0]}<br>F2=%{customdata[1]}",
         "legendgroup": "IOX2",
         "marker": {
          "color": "#FECB52",
          "symbol": "circle"
         },
         "mode": "markers",
         "name": "IOX2",
         "showlegend": true,
         "type": "scatter",
         "x": [
          0.30138538228311923,
          0.20242671871224724,
          0.3439912468175366
         ],
         "xaxis": "x",
         "y": [
          0.8503874957506828,
          0.34801668375569056,
          1.2959592507546822
         ],
         "yaxis": "y"
        },
        {
         "customdata": [
          [
           "TP53",
           1236,
           "UNC0638"
          ],
          [
           "BRAF",
           1236,
           "UNC0638"
          ],
          [
           "PIK3CA",
           1236,
           "UNC0638"
          ],
          [
           "TP53",
           245,
           "UNC0638"
          ],
          [
           "PIK3CA",
           245,
           "UNC0638"
          ]
         ],
         "hoverlabel": {
          "namelength": 0
         },
         "hovertemplate": "Drug_Name=%{customdata[2]}<br>SE=%{x}<br>-logP=%{y}<br>F1=%{customdata[0]}<br>F2=%{customdata[1]}",
         "legendgroup": "UNC0638",
         "marker": {
          "color": "#636efa",
          "symbol": "circle"
         },
         "mode": "markers",
         "name": "UNC0638",
         "showlegend": true,
         "type": "scatter",
         "x": [
          -0.15469694854304145,
          -0.40511893506630586,
          0.2094244143322593,
          -0.28433016179116954,
          0.2211530789460648
         ],
         "xaxis": "x",
         "y": [
          0.3791823329469789,
          0.800026869136815,
          0.6794142690872703,
          0.8369696889719235,
          0.7515965702808363
         ],
         "yaxis": "y"
        },
        {
         "customdata": [
          [
           "TP53",
           1239,
           "YK 4-279"
          ],
          [
           "PIK3CA",
           1239,
           "YK 4-279"
          ]
         ],
         "hoverlabel": {
          "namelength": 0
         },
         "hovertemplate": "Drug_Name=%{customdata[2]}<br>SE=%{x}<br>-logP=%{y}<br>F1=%{customdata[0]}<br>F2=%{customdata[1]}",
         "legendgroup": "YK 4-279",
         "marker": {
          "color": "#EF553B",
          "symbol": "circle"
         },
         "mode": "markers",
         "name": "YK 4-279",
         "showlegend": true,
         "type": "scatter",
         "x": [
          -0.033466191045250684,
          -0.3004942544162996
         ],
         "xaxis": "x",
         "y": [
          0.06809664461574637,
          0.9919030700522584
         ],
         "yaxis": "y"
        },
        {
         "customdata": [
          [
           "TP53",
           1241,
           "CHIR-99021"
          ],
          [
           "BRAF",
           1241,
           "CHIR-99021"
          ],
          [
           "PIK3CA",
           1241,
           "CHIR-99021"
          ],
          [
           "TP53",
           154,
           "CHIR-99021"
          ],
          [
           "PIK3CA",
           154,
           "CHIR-99021"
          ]
         ],
         "hoverlabel": {
          "namelength": 0
         },
         "hovertemplate": "Drug_Name=%{customdata[2]}<br>SE=%{x}<br>-logP=%{y}<br>F1=%{customdata[0]}<br>F2=%{customdata[1]}",
         "legendgroup": "CHIR-99021",
         "marker": {
          "color": "#00cc96",
          "symbol": "circle"
         },
         "mode": "markers",
         "name": "CHIR-99021",
         "showlegend": true,
         "type": "scatter",
         "x": [
          -0.06837084065218475,
          0.1973200774530231,
          0.2260796105653309,
          0.041203802371923115,
          0.3233071287416291
         ],
         "xaxis": "x",
         "y": [
          0.1531563564108923,
          0.33740401314162,
          0.7417249810619162,
          0.09007004527233149,
          1.1910289198977964
         ],
         "yaxis": "y"
        },
        {
         "customdata": [
          [
           "TP53",
           1242,
           "(5Z)-7-Oxozeaenol"
          ],
          [
           "BRAF",
           1242,
           "(5Z)-7-Oxozeaenol"
          ],
          [
           "PIK3CA",
           1242,
           "(5Z)-7-Oxozeaenol"
          ]
         ],
         "hoverlabel": {
          "namelength": 0
         },
         "hovertemplate": "Drug_Name=%{customdata[2]}<br>SE=%{x}<br>-logP=%{y}<br>F1=%{customdata[0]}<br>F2=%{customdata[1]}",
         "legendgroup": "(5Z)-7-Oxozeaenol",
         "marker": {
          "color": "#ab63fa",
          "symbol": "circle"
         },
         "mode": "markers",
         "name": "(5Z)-7-Oxozeaenol",
         "showlegend": true,
         "type": "scatter",
         "x": [
          0.1477956416217368,
          -0.5327786664778889,
          -0.09168445901353846
         ],
         "xaxis": "x",
         "y": [
          0.35849906503427365,
          1.141494758465191,
          0.2571804876861649
         ],
         "yaxis": "y"
        },
        {
         "customdata": [
          [
           "TP53",
           1243,
           "piperlongumine"
          ],
          [
           "BRAF",
           1243,
           "piperlongumine"
          ],
          [
           "PIK3CA",
           1243,
           "piperlongumine"
          ]
         ],
         "hoverlabel": {
          "namelength": 0
         },
         "hovertemplate": "Drug_Name=%{customdata[2]}<br>SE=%{x}<br>-logP=%{y}<br>F1=%{customdata[0]}<br>F2=%{customdata[1]}",
         "legendgroup": "piperlongumine",
         "marker": {
          "color": "#FFA15A",
          "symbol": "circle"
         },
         "mode": "markers",
         "name": "piperlongumine",
         "showlegend": true,
         "type": "scatter",
         "x": [
          -0.19042944917275695,
          0.3404264225965796,
          -0.4465358777641187
         ],
         "xaxis": "x",
         "y": [
          0.4834024057593331,
          0.6437135444731419,
          1.8749690808416608
         ],
         "yaxis": "y"
        },
        {
         "customdata": [
          [
           "TP53",
           1248,
           "FK866"
          ],
          [
           "BRAF",
           1248,
           "FK866"
          ],
          [
           "PIK3CA",
           1248,
           "FK866"
          ]
         ],
         "hoverlabel": {
          "namelength": 0
         },
         "hovertemplate": "Drug_Name=%{customdata[2]}<br>SE=%{x}<br>-logP=%{y}<br>F1=%{customdata[0]}<br>F2=%{customdata[1]}",
         "legendgroup": "FK866",
         "marker": {
          "color": "#19d3f3",
          "symbol": "circle"
         },
         "mode": "markers",
         "name": "FK866",
         "showlegend": true,
         "type": "scatter",
         "x": [
          0.5546735731126051,
          -0.5412897853513478,
          -0.034446170934199265
         ],
         "xaxis": "x",
         "y": [
          1.9538528889350888,
          1.1660925107477862,
          0.09011701063480347
         ],
         "yaxis": "y"
        },
        {
         "customdata": [
          [
           "TP53",
           1259,
           "BMN-673"
          ],
          [
           "BRAF",
           1259,
           "BMN-673"
          ],
          [
           "PIK3CA",
           1259,
           "BMN-673"
          ]
         ],
         "hoverlabel": {
          "namelength": 0
         },
         "hovertemplate": "Drug_Name=%{customdata[2]}<br>SE=%{x}<br>-logP=%{y}<br>F1=%{customdata[0]}<br>F2=%{customdata[1]}",
         "legendgroup": "BMN-673",
         "marker": {
          "color": "#FF6692",
          "symbol": "circle"
         },
         "mode": "markers",
         "name": "BMN-673",
         "showlegend": true,
         "type": "scatter",
         "x": [
          0.1737264170955257,
          0.27716190290982623,
          -0.0971684007275006
         ],
         "xaxis": "x",
         "y": [
          0.4338680019233165,
          0.501932877558024,
          0.2762821231230284
         ],
         "yaxis": "y"
        },
        {
         "customdata": [
          [
           "TP53",
           1261,
           "rTRAIL"
          ],
          [
           "BRAF",
           1261,
           "rTRAIL"
          ],
          [
           "PIK3CA",
           1261,
           "rTRAIL"
          ]
         ],
         "hoverlabel": {
          "namelength": 0
         },
         "hovertemplate": "Drug_Name=%{customdata[2]}<br>SE=%{x}<br>-logP=%{y}<br>F1=%{customdata[0]}<br>F2=%{customdata[1]}",
         "legendgroup": "rTRAIL",
         "marker": {
          "color": "#B6E880",
          "symbol": "circle"
         },
         "mode": "markers",
         "name": "rTRAIL",
         "showlegend": true,
         "type": "scatter",
         "x": [
          -0.2739215466361617,
          -0.2037354326502293,
          0.7619582523180098
         ],
         "xaxis": "x",
         "y": [
          0.7532403518352981,
          0.35058892888277865,
          4.3697787544873545
         ],
         "yaxis": "y"
        },
        {
         "customdata": [
          [
           "TP53",
           1262,
           "UNC1215"
          ],
          [
           "BRAF",
           1262,
           "UNC1215"
          ],
          [
           "PIK3CA",
           1262,
           "UNC1215"
          ]
         ],
         "hoverlabel": {
          "namelength": 0
         },
         "hovertemplate": "Drug_Name=%{customdata[2]}<br>SE=%{x}<br>-logP=%{y}<br>F1=%{customdata[0]}<br>F2=%{customdata[1]}",
         "legendgroup": "UNC1215",
         "marker": {
          "color": "#FF97FF",
          "symbol": "circle"
         },
         "mode": "markers",
         "name": "UNC1215",
         "showlegend": true,
         "type": "scatter",
         "x": [
          0.404929750777443,
          -0.5254851094698842,
          0.20121884611806254
         ],
         "xaxis": "x",
         "y": [
          1.2509940310838032,
          1.120591582543703,
          0.6417648476799221
         ],
         "yaxis": "y"
        },
        {
         "customdata": [
          [
           "TP53",
           1264,
           "SGC0946"
          ],
          [
           "BRAF",
           1264,
           "SGC0946"
          ],
          [
           "PIK3CA",
           1264,
           "SGC0946"
          ]
         ],
         "hoverlabel": {
          "namelength": 0
         },
         "hovertemplate": "Drug_Name=%{customdata[2]}<br>SE=%{x}<br>-logP=%{y}<br>F1=%{customdata[0]}<br>F2=%{customdata[1]}",
         "legendgroup": "SGC0946",
         "marker": {
          "color": "#FECB52",
          "symbol": "circle"
         },
         "mode": "markers",
         "name": "SGC0946",
         "showlegend": true,
         "type": "scatter",
         "x": [
          0.130597326519373,
          -0.10843070641249106,
          0.1403738623757011
         ],
         "xaxis": "x",
         "y": [
          0.31143381518469365,
          0.1740453438944954,
          0.4172180751244313
         ],
         "yaxis": "y"
        },
        {
         "customdata": [
          [
           "TP53",
           1268,
           "XAV 939"
          ],
          [
           "BRAF",
           1268,
           "XAV 939"
          ],
          [
           "PIK3CA",
           1268,
           "XAV 939"
          ]
         ],
         "hoverlabel": {
          "namelength": 0
         },
         "hovertemplate": "Drug_Name=%{customdata[2]}<br>SE=%{x}<br>-logP=%{y}<br>F1=%{customdata[0]}<br>F2=%{customdata[1]}",
         "legendgroup": "XAV 939",
         "marker": {
          "color": "#636efa",
          "symbol": "circle"
         },
         "mode": "markers",
         "name": "XAV 939",
         "showlegend": true,
         "type": "scatter",
         "x": [
          -0.3904751572112895,
          0.5555932673536811,
          -0.1826257342142446
         ],
         "xaxis": "x",
         "y": [
          1.1956753434183292,
          1.2103603116070818,
          0.5744662420809641
         ],
         "yaxis": "y"
        },
        {
         "customdata": [
          [
           "TP53",
           133,
           "Doxorubicin"
          ],
          [
           "PIK3CA",
           133,
           "Doxorubicin"
          ]
         ],
         "hoverlabel": {
          "namelength": 0
         },
         "hovertemplate": "Drug_Name=%{customdata[2]}<br>SE=%{x}<br>-logP=%{y}<br>F1=%{customdata[0]}<br>F2=%{customdata[1]}",
         "legendgroup": "Doxorubicin",
         "marker": {
          "color": "#EF553B",
          "symbol": "circle"
         },
         "mode": "markers",
         "name": "Doxorubicin",
         "showlegend": true,
         "type": "scatter",
         "x": [
          0.4417547711187964,
          -0.1377821429253306
         ],
         "xaxis": "x",
         "y": [
          1.4219582586829602,
          0.4210947379743735
         ],
         "yaxis": "y"
        },
        {
         "customdata": [
          [
           "TP53",
           134,
           "Etoposide"
          ],
          [
           "PIK3CA",
           134,
           "Etoposide"
          ]
         ],
         "hoverlabel": {
          "namelength": 0
         },
         "hovertemplate": "Drug_Name=%{customdata[2]}<br>SE=%{x}<br>-logP=%{y}<br>F1=%{customdata[0]}<br>F2=%{customdata[1]}",
         "legendgroup": "Etoposide",
         "marker": {
          "color": "#00cc96",
          "symbol": "circle"
         },
         "mode": "markers",
         "name": "Etoposide",
         "showlegend": true,
         "type": "scatter",
         "x": [
          0.3208110007821713,
          -0.3058570489423049
         ],
         "xaxis": "x",
         "y": [
          0.92169728817515,
          1.1054641482391765
         ],
         "yaxis": "y"
        },
        {
         "customdata": [
          [
           "TP53",
           135,
           "Gemcitabine"
          ],
          [
           "PIK3CA",
           135,
           "Gemcitabine"
          ]
         ],
         "hoverlabel": {
          "namelength": 0
         },
         "hovertemplate": "Drug_Name=%{customdata[2]}<br>SE=%{x}<br>-logP=%{y}<br>F1=%{customdata[0]}<br>F2=%{customdata[1]}",
         "legendgroup": "Gemcitabine",
         "marker": {
          "color": "#ab63fa",
          "symbol": "circle"
         },
         "mode": "markers",
         "name": "Gemcitabine",
         "showlegend": true,
         "type": "scatter",
         "x": [
          0.4183692506363973,
          -0.16599839626427487
         ],
         "xaxis": "x",
         "y": [
          1.31886599334575,
          0.5247646434899808
         ],
         "yaxis": "y"
        },
        {
         "customdata": [
          [
           "TP53",
           136,
           "Mitomycin C"
          ],
          [
           "PIK3CA",
           136,
           "Mitomycin C"
          ]
         ],
         "hoverlabel": {
          "namelength": 0
         },
         "hovertemplate": "Drug_Name=%{customdata[2]}<br>SE=%{x}<br>-logP=%{y}<br>F1=%{customdata[0]}<br>F2=%{customdata[1]}",
         "legendgroup": "Mitomycin C",
         "marker": {
          "color": "#FFA15A",
          "symbol": "circle"
         },
         "mode": "markers",
         "name": "Mitomycin C",
         "showlegend": true,
         "type": "scatter",
         "x": [
          0.5858697406668021,
          -0.3198691518102364
         ],
         "xaxis": "x",
         "y": [
          2.1372636178835616,
          1.2065155460055226
         ],
         "yaxis": "y"
        },
        {
         "customdata": [
          [
           "TP53",
           1371,
           "PLX4720 (rescreen)"
          ],
          [
           "BRAF",
           1371,
           "PLX4720 (rescreen)"
          ],
          [
           "PIK3CA",
           1371,
           "PLX4720 (rescreen)"
          ]
         ],
         "hoverlabel": {
          "namelength": 0
         },
         "hovertemplate": "Drug_Name=%{customdata[2]}<br>SE=%{x}<br>-logP=%{y}<br>F1=%{customdata[0]}<br>F2=%{customdata[1]}",
         "legendgroup": "PLX4720 (rescreen)",
         "marker": {
          "color": "#19d3f3",
          "symbol": "circle"
         },
         "mode": "markers",
         "name": "PLX4720 (rescreen)",
         "showlegend": true,
         "type": "scatter",
         "x": [
          0.3878516313579289,
          -0.904594347442828,
          0.2157747834726668
         ],
         "xaxis": "x",
         "y": [
          1.1848283735801437,
          2.4424697798281945,
          0.7051158918313086
         ],
         "yaxis": "y"
        },
        {
         "customdata": [
          [
           "TP53",
           1372,
           "Trametinib"
          ],
          [
           "BRAF",
           1372,
           "Trametinib"
          ],
          [
           "PIK3CA",
           1372,
           "Trametinib"
          ]
         ],
         "hoverlabel": {
          "namelength": 0
         },
         "hovertemplate": "Drug_Name=%{customdata[2]}<br>SE=%{x}<br>-logP=%{y}<br>F1=%{customdata[0]}<br>F2=%{customdata[1]}",
         "legendgroup": "Trametinib",
         "marker": {
          "color": "#FF6692",
          "symbol": "circle"
         },
         "mode": "markers",
         "name": "Trametinib",
         "showlegend": true,
         "type": "scatter",
         "x": [
          -0.012158310133068577,
          -0.6665681454714281,
          0.31783015941868525
         ],
         "xaxis": "x",
         "y": [
          0.025706080336789297,
          1.5544057387464023,
          1.1543347816839198
         ],
         "yaxis": "y"
        },
        {
         "customdata": [
          [
           "TP53",
           1373,
           "Dabrafenib"
          ],
          [
           "BRAF",
           1373,
           "Dabrafenib"
          ],
          [
           "PIK3CA",
           1373,
           "Dabrafenib"
          ]
         ],
         "hoverlabel": {
          "namelength": 0
         },
         "hovertemplate": "Drug_Name=%{customdata[2]}<br>SE=%{x}<br>-logP=%{y}<br>F1=%{customdata[0]}<br>F2=%{customdata[1]}",
         "legendgroup": "Dabrafenib",
         "marker": {
          "color": "#B6E880",
          "symbol": "circle"
         },
         "mode": "markers",
         "name": "Dabrafenib",
         "showlegend": true,
         "type": "scatter",
         "x": [
          0.8328633809129042,
          -1.2149809374606295,
          0.03152259626051896
         ],
         "xaxis": "x",
         "y": [
          3.691963480360876,
          3.9187465642667454,
          0.08217127325334278
         ],
         "yaxis": "y"
        },
        {
         "customdata": [
          [
           "TP53",
           1375,
           "Temozolomide"
          ],
          [
           "BRAF",
           1375,
           "Temozolomide"
          ],
          [
           "PIK3CA",
           1375,
           "Temozolomide"
          ]
         ],
         "hoverlabel": {
          "namelength": 0
         },
         "hovertemplate": "Drug_Name=%{customdata[2]}<br>SE=%{x}<br>-logP=%{y}<br>F1=%{customdata[0]}<br>F2=%{customdata[1]}",
         "legendgroup": "Temozolomide",
         "marker": {
          "color": "#FF97FF",
          "symbol": "circle"
         },
         "mode": "markers",
         "name": "Temozolomide",
         "showlegend": true,
         "type": "scatter",
         "x": [
          0.06979143425128867,
          -0.18292795468502568,
          0.3203607977675331
         ],
         "xaxis": "x",
         "y": [
          0.1565646408562439,
          0.3096396507898379,
          1.1667277713874171
         ],
         "yaxis": "y"
        },
        {
         "customdata": [
          [
           "TP53",
           1377,
           "Afatinib (rescreen)"
          ],
          [
           "BRAF",
           1377,
           "Afatinib (rescreen)"
          ],
          [
           "PIK3CA",
           1377,
           "Afatinib (rescreen)"
          ]
         ],
         "hoverlabel": {
          "namelength": 0
         },
         "hovertemplate": "Drug_Name=%{customdata[2]}<br>SE=%{x}<br>-logP=%{y}<br>F1=%{customdata[0]}<br>F2=%{customdata[1]}",
         "legendgroup": "Afatinib (rescreen)",
         "marker": {
          "color": "#FECB52",
          "symbol": "circle"
         },
         "mode": "markers",
         "name": "Afatinib (rescreen)",
         "showlegend": true,
         "type": "scatter",
         "x": [
          -0.11775387541157635,
          -0.7292039454438056,
          -0.38099723266358504
         ],
         "xaxis": "x",
         "y": [
          0.2782243265331751,
          1.7712273408077386,
          1.4934150388305576
         ],
         "yaxis": "y"
        },
        {
         "customdata": [
          [
           "TP53",
           1378,
           "Bleomycin (50 uM)"
          ],
          [
           "BRAF",
           1378,
           "Bleomycin (50 uM)"
          ],
          [
           "PIK3CA",
           1378,
           "Bleomycin (50 uM)"
          ]
         ],
         "hoverlabel": {
          "namelength": 0
         },
         "hovertemplate": "Drug_Name=%{customdata[2]}<br>SE=%{x}<br>-logP=%{y}<br>F1=%{customdata[0]}<br>F2=%{customdata[1]}",
         "legendgroup": "Bleomycin (50 uM)",
         "marker": {
          "color": "#636efa",
          "symbol": "circle"
         },
         "mode": "markers",
         "name": "Bleomycin (50 uM)",
         "showlegend": true,
         "type": "scatter",
         "x": [
          -0.0562540789913586,
          0.564773118450848,
          -0.018542226219512372
         ],
         "xaxis": "x",
         "y": [
          0.12528929761941945,
          1.2399826313145694,
          0.04816006437283607
         ],
         "yaxis": "y"
        },
        {
         "customdata": [
          [
           "TP53",
           140,
           "Vinorelbine"
          ],
          [
           "PIK3CA",
           140,
           "Vinorelbine"
          ]
         ],
         "hoverlabel": {
          "namelength": 0
         },
         "hovertemplate": "Drug_Name=%{customdata[2]}<br>SE=%{x}<br>-logP=%{y}<br>F1=%{customdata[0]}<br>F2=%{customdata[1]}",
         "legendgroup": "Vinorelbine",
         "marker": {
          "color": "#EF553B",
          "symbol": "circle"
         },
         "mode": "markers",
         "name": "Vinorelbine",
         "showlegend": true,
         "type": "scatter",
         "x": [
          -0.31230131572865205,
          -0.018643098474157252
         ],
         "xaxis": "x",
         "y": [
          0.8901914922591299,
          0.04813516740816074
         ],
         "yaxis": "y"
        },
        {
         "customdata": [
          [
           "TP53",
           147,
           "NSC-87877"
          ],
          [
           "PIK3CA",
           147,
           "NSC-87877"
          ]
         ],
         "hoverlabel": {
          "namelength": 0
         },
         "hovertemplate": "Drug_Name=%{customdata[2]}<br>SE=%{x}<br>-logP=%{y}<br>F1=%{customdata[0]}<br>F2=%{customdata[1]}",
         "legendgroup": "NSC-87877",
         "marker": {
          "color": "#00cc96",
          "symbol": "circle"
         },
         "mode": "markers",
         "name": "NSC-87877",
         "showlegend": true,
         "type": "scatter",
         "x": [
          0.5665882543887963,
          -0.024500865311274343
         ],
         "xaxis": "x",
         "y": [
          2.0249386269602403,
          0.06372396710879369
         ],
         "yaxis": "y"
        },
        {
         "customdata": [
          [
           "TP53",
           1494,
           "SN-38"
          ],
          [
           "BRAF",
           1494,
           "SN-38"
          ],
          [
           "PIK3CA",
           1494,
           "SN-38"
          ]
         ],
         "hoverlabel": {
          "namelength": 0
         },
         "hovertemplate": "Drug_Name=%{customdata[2]}<br>SE=%{x}<br>-logP=%{y}<br>F1=%{customdata[0]}<br>F2=%{customdata[1]}",
         "legendgroup": "SN-38",
         "marker": {
          "color": "#ab63fa",
          "symbol": "circle"
         },
         "mode": "markers",
         "name": "SN-38",
         "showlegend": true,
         "type": "scatter",
         "x": [
          0.3528118547802795,
          0.4178007116307277,
          0.021912558337805168
         ],
         "xaxis": "x",
         "y": [
          1.048025493109813,
          0.8336192529288543,
          0.05715549747149368
         ],
         "yaxis": "y"
        },
        {
         "customdata": [
          [
           "TP53",
           150,
           "Bicalutamide"
          ],
          [
           "PIK3CA",
           150,
           "Bicalutamide"
          ],
          [
           "TP53",
           1502,
           "Bicalutamide"
          ],
          [
           "PIK3CA",
           1502,
           "Bicalutamide"
          ]
         ],
         "hoverlabel": {
          "namelength": 0
         },
         "hovertemplate": "Drug_Name=%{customdata[2]}<br>SE=%{x}<br>-logP=%{y}<br>F1=%{customdata[0]}<br>F2=%{customdata[1]}",
         "legendgroup": "Bicalutamide",
         "marker": {
          "color": "#FFA15A",
          "symbol": "circle"
         },
         "mode": "markers",
         "name": "Bicalutamide",
         "showlegend": true,
         "type": "scatter",
         "x": [
          0.9165176558662368,
          0.1857518869812493,
          0.17834799547995653,
          -0.0885201316479824
         ],
         "xaxis": "x",
         "y": [
          4.378060768910991,
          0.6011043842486788,
          0.42117243306018176,
          0.2455647471537556
         ],
         "yaxis": "y"
        },
        {
         "customdata": [
          [
           "TP53",
           151,
           "QS11"
          ],
          [
           "PIK3CA",
           151,
           "QS11"
          ]
         ],
         "hoverlabel": {
          "namelength": 0
         },
         "hovertemplate": "Drug_Name=%{customdata[2]}<br>SE=%{x}<br>-logP=%{y}<br>F1=%{customdata[0]}<br>F2=%{customdata[1]}",
         "legendgroup": "QS11",
         "marker": {
          "color": "#19d3f3",
          "symbol": "circle"
         },
         "mode": "markers",
         "name": "QS11",
         "showlegend": true,
         "type": "scatter",
         "x": [
          0.4401697439701043,
          -0.14099379828231573
         ],
         "xaxis": "x",
         "y": [
          1.414860742196961,
          0.4325806641524756
         ],
         "yaxis": "y"
        },
        {
         "customdata": [
          [
           "TP53",
           152,
           "CP466722"
          ],
          [
           "PIK3CA",
           152,
           "CP466722"
          ]
         ],
         "hoverlabel": {
          "namelength": 0
         },
         "hovertemplate": "Drug_Name=%{customdata[2]}<br>SE=%{x}<br>-logP=%{y}<br>F1=%{customdata[0]}<br>F2=%{customdata[1]}",
         "legendgroup": "CP466722",
         "marker": {
          "color": "#FF6692",
          "symbol": "circle"
         },
         "mode": "markers",
         "name": "CP466722",
         "showlegend": true,
         "type": "scatter",
         "x": [
          0.06847601414258131,
          -0.21492866822839268
         ],
         "xaxis": "x",
         "y": [
          0.16170311697140988,
          0.7251596935832548
         ],
         "yaxis": "y"
        },
        {
         "customdata": [
          [
           "TP53",
           1526,
           "RDEA119 (rescreen)"
          ],
          [
           "PIK3CA",
           1526,
           "RDEA119 (rescreen)"
          ]
         ],
         "hoverlabel": {
          "namelength": 0
         },
         "hovertemplate": "Drug_Name=%{customdata[2]}<br>SE=%{x}<br>-logP=%{y}<br>F1=%{customdata[0]}<br>F2=%{customdata[1]}",
         "legendgroup": "RDEA119 (rescreen)",
         "marker": {
          "color": "#B6E880",
          "symbol": "circle"
         },
         "mode": "markers",
         "name": "RDEA119 (rescreen)",
         "showlegend": true,
         "type": "scatter",
         "x": [
          0.2579701952358781,
          0.4258619307762863
         ],
         "xaxis": "x",
         "y": [
          0.6554637177732044,
          1.719129308477169
         ],
         "yaxis": "y"
        },
        {
         "customdata": [
          [
           "TP53",
           1527,
           "GDC0941 (rescreen)"
          ],
          [
           "PIK3CA",
           1527,
           "GDC0941 (rescreen)"
          ]
         ],
         "hoverlabel": {
          "namelength": 0
         },
         "hovertemplate": "Drug_Name=%{customdata[2]}<br>SE=%{x}<br>-logP=%{y}<br>F1=%{customdata[0]}<br>F2=%{customdata[1]}",
         "legendgroup": "GDC0941 (rescreen)",
         "marker": {
          "color": "#FF97FF",
          "symbol": "circle"
         },
         "mode": "markers",
         "name": "GDC0941 (rescreen)",
         "showlegend": true,
         "type": "scatter",
         "x": [
          -0.6972162036297485,
          -0.9567417532528771
         ],
         "xaxis": "x",
         "y": [
          2.5675546349014513,
          6.463545069540375
         ],
         "yaxis": "y"
        },
        {
         "customdata": [
          [
           "TP53",
           1529,
           "MLN4924"
          ],
          [
           "PIK3CA",
           1529,
           "MLN4924"
          ]
         ],
         "hoverlabel": {
          "namelength": 0
         },
         "hovertemplate": "Drug_Name=%{customdata[2]}<br>SE=%{x}<br>-logP=%{y}<br>F1=%{customdata[0]}<br>F2=%{customdata[1]}",
         "legendgroup": "MLN4924",
         "marker": {
          "color": "#FECB52",
          "symbol": "circle"
         },
         "mode": "markers",
         "name": "MLN4924",
         "showlegend": true,
         "type": "scatter",
         "x": [
          0.3526421890799005,
          0.4073852133287041
         ],
         "xaxis": "x",
         "y": [
          0.9437263656852608,
          1.4065240352618846
         ],
         "yaxis": "y"
        },
        {
         "customdata": [
          [
           "TP53",
           153,
           "Midostaurin"
          ],
          [
           "PIK3CA",
           153,
           "Midostaurin"
          ]
         ],
         "hoverlabel": {
          "namelength": 0
         },
         "hovertemplate": "Drug_Name=%{customdata[2]}<br>SE=%{x}<br>-logP=%{y}<br>F1=%{customdata[0]}<br>F2=%{customdata[1]}",
         "legendgroup": "Midostaurin",
         "marker": {
          "color": "#636efa",
          "symbol": "circle"
         },
         "mode": "markers",
         "name": "Midostaurin",
         "showlegend": true,
         "type": "scatter",
         "x": [
          0.2913667479554541,
          0.11499146296986885
         ],
         "xaxis": "x",
         "y": [
          0.8144546070453155,
          0.33403246658091224
         ],
         "yaxis": "y"
        },
        {
         "customdata": [
          [
           "TP53",
           155,
           "AP-24534"
          ],
          [
           "PIK3CA",
           155,
           "AP-24534"
          ]
         ],
         "hoverlabel": {
          "namelength": 0
         },
         "hovertemplate": "Drug_Name=%{customdata[2]}<br>SE=%{x}<br>-logP=%{y}<br>F1=%{customdata[0]}<br>F2=%{customdata[1]}",
         "legendgroup": "AP-24534",
         "marker": {
          "color": "#EF553B",
          "symbol": "circle"
         },
         "mode": "markers",
         "name": "AP-24534",
         "showlegend": true,
         "type": "scatter",
         "x": [
          0.40131446881145455,
          0.2770893732786763
         ],
         "xaxis": "x",
         "y": [
          1.2409388533821315,
          0.970192837232804
         ],
         "yaxis": "y"
        },
        {
         "customdata": [
          [
           "TP53",
           157,
           "JNK-9L"
          ],
          [
           "PIK3CA",
           157,
           "JNK-9L"
          ]
         ],
         "hoverlabel": {
          "namelength": 0
         },
         "hovertemplate": "Drug_Name=%{customdata[2]}<br>SE=%{x}<br>-logP=%{y}<br>F1=%{customdata[0]}<br>F2=%{customdata[1]}",
         "legendgroup": "JNK-9L",
         "marker": {
          "color": "#00cc96",
          "symbol": "circle"
         },
         "mode": "markers",
         "name": "JNK-9L",
         "showlegend": true,
         "type": "scatter",
         "x": [
          0.2921817150446868,
          0.04805433417664876
         ],
         "xaxis": "x",
         "y": [
          0.8173562588994373,
          0.1286893314857678
         ],
         "yaxis": "y"
        },
        {
         "customdata": [
          [
           "TP53",
           158,
           "PF-562271"
          ],
          [
           "PIK3CA",
           158,
           "PF-562271"
          ]
         ],
         "hoverlabel": {
          "namelength": 0
         },
         "hovertemplate": "Drug_Name=%{customdata[2]}<br>SE=%{x}<br>-logP=%{y}<br>F1=%{customdata[0]}<br>F2=%{customdata[1]}",
         "legendgroup": "PF-562271",
         "marker": {
          "color": "#ab63fa",
          "symbol": "circle"
         },
         "mode": "markers",
         "name": "PF-562271",
         "showlegend": true,
         "type": "scatter",
         "x": [
          0.4033836820414215,
          0.04542704719431494
         ],
         "xaxis": "x",
         "y": [
          1.2496620166397967,
          0.12125954532036505
         ],
         "yaxis": "y"
        },
        {
         "customdata": [
          [
           "TP53",
           159,
           "HG-6-64-1"
          ],
          [
           "PIK3CA",
           159,
           "HG-6-64-1"
          ]
         ],
         "hoverlabel": {
          "namelength": 0
         },
         "hovertemplate": "Drug_Name=%{customdata[2]}<br>SE=%{x}<br>-logP=%{y}<br>F1=%{customdata[0]}<br>F2=%{customdata[1]}",
         "legendgroup": "HG-6-64-1",
         "marker": {
          "color": "#FFA15A",
          "symbol": "circle"
         },
         "mode": "markers",
         "name": "HG-6-64-1",
         "showlegend": true,
         "type": "scatter",
         "x": [
          -0.004070019884753889,
          0.2862543852776462
         ],
         "xaxis": "x",
         "y": [
          0.008560419726659118,
          1.0125156116201541
         ],
         "yaxis": "y"
        },
        {
         "customdata": [
          [
           "TP53",
           164,
           "JQ12"
          ],
          [
           "PIK3CA",
           164,
           "JQ12"
          ]
         ],
         "hoverlabel": {
          "namelength": 0
         },
         "hovertemplate": "Drug_Name=%{customdata[2]}<br>SE=%{x}<br>-logP=%{y}<br>F1=%{customdata[0]}<br>F2=%{customdata[1]}",
         "legendgroup": "JQ12",
         "marker": {
          "color": "#19d3f3",
          "symbol": "circle"
         },
         "mode": "markers",
         "name": "JQ12",
         "showlegend": true,
         "type": "scatter",
         "x": [
          0.09649263092283246,
          -0.15601086925489385
         ],
         "xaxis": "x",
         "y": [
          0.2231683473464945,
          0.4757508531438108
         ],
         "yaxis": "y"
        },
        {
         "customdata": [
          [
           "TP53",
           165,
           "DMOG"
          ],
          [
           "PIK3CA",
           165,
           "DMOG"
          ]
         ],
         "hoverlabel": {
          "namelength": 0
         },
         "hovertemplate": "Drug_Name=%{customdata[2]}<br>SE=%{x}<br>-logP=%{y}<br>F1=%{customdata[0]}<br>F2=%{customdata[1]}",
         "legendgroup": "DMOG",
         "marker": {
          "color": "#FF6692",
          "symbol": "circle"
         },
         "mode": "markers",
         "name": "DMOG",
         "showlegend": true,
         "type": "scatter",
         "x": [
          -0.0810026579818422,
          0.3264195635068398
         ],
         "xaxis": "x",
         "y": [
          0.1844282578148425,
          1.2065734608785297
         ],
         "yaxis": "y"
        },
        {
         "customdata": [
          [
           "TP53",
           166,
           "FTI-277"
          ],
          [
           "PIK3CA",
           166,
           "FTI-277"
          ]
         ],
         "hoverlabel": {
          "namelength": 0
         },
         "hovertemplate": "Drug_Name=%{customdata[2]}<br>SE=%{x}<br>-logP=%{y}<br>F1=%{customdata[0]}<br>F2=%{customdata[1]}",
         "legendgroup": "FTI-277",
         "marker": {
          "color": "#B6E880",
          "symbol": "circle"
         },
         "mode": "markers",
         "name": "FTI-277",
         "showlegend": true,
         "type": "scatter",
         "x": [
          -0.07137910387522299,
          -0.2865109164822198
         ],
         "xaxis": "x",
         "y": [
          0.16093395754983575,
          1.0137105716950674
         ],
         "yaxis": "y"
        },
        {
         "customdata": [
          [
           "TP53",
           167,
           "OSU-03012"
          ],
          [
           "PIK3CA",
           167,
           "OSU-03012"
          ]
         ],
         "hoverlabel": {
          "namelength": 0
         },
         "hovertemplate": "Drug_Name=%{customdata[2]}<br>SE=%{x}<br>-logP=%{y}<br>F1=%{customdata[0]}<br>F2=%{customdata[1]}",
         "legendgroup": "OSU-03012",
         "marker": {
          "color": "#FF97FF",
          "symbol": "circle"
         },
         "mode": "markers",
         "name": "OSU-03012",
         "showlegend": true,
         "type": "scatter",
         "x": [
          0.3652958528361305,
          -0.32794842534341084
         ],
         "xaxis": "x",
         "y": [
          1.0975786356930473,
          1.2480963527838744
         ],
         "yaxis": "y"
        },
        {
         "customdata": [
          [
           "PIK3CA",
           17,
           "Cyclopamine"
          ]
         ],
         "hoverlabel": {
          "namelength": 0
         },
         "hovertemplate": "Drug_Name=%{customdata[2]}<br>SE=%{x}<br>-logP=%{y}<br>F1=%{customdata[0]}<br>F2=%{customdata[1]}",
         "legendgroup": "Cyclopamine",
         "marker": {
          "color": "#FECB52",
          "symbol": "circle"
         },
         "mode": "markers",
         "name": "Cyclopamine",
         "showlegend": true,
         "type": "scatter",
         "x": [
          0.943773906274196
         ],
         "xaxis": "x",
         "y": [
          1.98916861250144
         ],
         "yaxis": "y"
        },
        {
         "customdata": [
          [
           "TP53",
           170,
           "Shikonin"
          ],
          [
           "PIK3CA",
           170,
           "Shikonin"
          ]
         ],
         "hoverlabel": {
          "namelength": 0
         },
         "hovertemplate": "Drug_Name=%{customdata[2]}<br>SE=%{x}<br>-logP=%{y}<br>F1=%{customdata[0]}<br>F2=%{customdata[1]}",
         "legendgroup": "Shikonin",
         "marker": {
          "color": "#636efa",
          "symbol": "circle"
         },
         "mode": "markers",
         "name": "Shikonin",
         "showlegend": true,
         "type": "scatter",
         "x": [
          0.10926562166155053,
          0.019170091775023292
         ],
         "xaxis": "x",
         "y": [
          0.2559806322903918,
          0.049528451501387495
         ],
         "yaxis": "y"
        },
        {
         "customdata": [
          [
           "TP53",
           171,
           "AKT inhibitor VIII"
          ],
          [
           "PIK3CA",
           171,
           "AKT inhibitor VIII"
          ]
         ],
         "hoverlabel": {
          "namelength": 0
         },
         "hovertemplate": "Drug_Name=%{customdata[2]}<br>SE=%{x}<br>-logP=%{y}<br>F1=%{customdata[0]}<br>F2=%{customdata[1]}",
         "legendgroup": "AKT inhibitor VIII",
         "marker": {
          "color": "#EF553B",
          "symbol": "circle"
         },
         "mode": "markers",
         "name": "AKT inhibitor VIII",
         "showlegend": true,
         "type": "scatter",
         "x": [
          -0.4903200682800158,
          -0.4438820346861469
         ],
         "xaxis": "x",
         "y": [
          1.6406757192717778,
          1.85870195623025
         ],
         "yaxis": "y"
        },
        {
         "customdata": [
          [
           "TP53",
           172,
           "Embelin"
          ],
          [
           "PIK3CA",
           172,
           "Embelin"
          ]
         ],
         "hoverlabel": {
          "namelength": 0
         },
         "hovertemplate": "Drug_Name=%{customdata[2]}<br>SE=%{x}<br>-logP=%{y}<br>F1=%{customdata[0]}<br>F2=%{customdata[1]}",
         "legendgroup": "Embelin",
         "marker": {
          "color": "#00cc96",
          "symbol": "circle"
         },
         "mode": "markers",
         "name": "Embelin",
         "showlegend": true,
         "type": "scatter",
         "x": [
          -0.2129660502210399,
          0.21211463141030948
         ],
         "xaxis": "x",
         "y": [
          0.5545536926746554,
          0.7079366243383097
         ],
         "yaxis": "y"
        },
        {
         "customdata": [
          [
           "TP53",
           173,
           "FH535"
          ],
          [
           "PIK3CA",
           173,
           "FH535"
          ]
         ],
         "hoverlabel": {
          "namelength": 0
         },
         "hovertemplate": "Drug_Name=%{customdata[2]}<br>SE=%{x}<br>-logP=%{y}<br>F1=%{customdata[0]}<br>F2=%{customdata[1]}",
         "legendgroup": "FH535",
         "marker": {
          "color": "#ab63fa",
          "symbol": "circle"
         },
         "mode": "markers",
         "name": "FH535",
         "showlegend": true,
         "type": "scatter",
         "x": [
          0.09735356847777303,
          0.1370679583674107
         ],
         "xaxis": "x",
         "y": [
          0.2261080651114871,
          0.4185514381492326
         ],
         "yaxis": "y"
        },
        {
         "customdata": [
          [
           "TP53",
           175,
           "PAC-1"
          ],
          [
           "PIK3CA",
           175,
           "PAC-1"
          ]
         ],
         "hoverlabel": {
          "namelength": 0
         },
         "hovertemplate": "Drug_Name=%{customdata[2]}<br>SE=%{x}<br>-logP=%{y}<br>F1=%{customdata[0]}<br>F2=%{customdata[1]}",
         "legendgroup": "PAC-1",
         "marker": {
          "color": "#FFA15A",
          "symbol": "circle"
         },
         "mode": "markers",
         "name": "PAC-1",
         "showlegend": true,
         "type": "scatter",
         "x": [
          0.07636503295411244,
          0.06722766741616319
         ],
         "xaxis": "x",
         "y": [
          0.1736195330751379,
          0.18843585031645885
         ],
         "yaxis": "y"
        },
        {
         "customdata": [
          [
           "TP53",
           176,
           "IPA-3"
          ],
          [
           "PIK3CA",
           176,
           "IPA-3"
          ]
         ],
         "hoverlabel": {
          "namelength": 0
         },
         "hovertemplate": "Drug_Name=%{customdata[2]}<br>SE=%{x}<br>-logP=%{y}<br>F1=%{customdata[0]}<br>F2=%{customdata[1]}",
         "legendgroup": "IPA-3",
         "marker": {
          "color": "#19d3f3",
          "symbol": "circle"
         },
         "mode": "markers",
         "name": "IPA-3",
         "showlegend": true,
         "type": "scatter",
         "x": [
          0.2318556965690517,
          -0.7038886132114489
         ],
         "xaxis": "x",
         "y": [
          0.6148309801467312,
          3.9473851409632266
         ],
         "yaxis": "y"
        },
        {
         "customdata": [
          [
           "TP53",
           177,
           "GSK-650394"
          ],
          [
           "PIK3CA",
           177,
           "GSK-650394"
          ]
         ],
         "hoverlabel": {
          "namelength": 0
         },
         "hovertemplate": "Drug_Name=%{customdata[2]}<br>SE=%{x}<br>-logP=%{y}<br>F1=%{customdata[0]}<br>F2=%{customdata[1]}",
         "legendgroup": "GSK-650394",
         "marker": {
          "color": "#FF6692",
          "symbol": "circle"
         },
         "mode": "markers",
         "name": "GSK-650394",
         "showlegend": true,
         "type": "scatter",
         "x": [
          0.510336110406983,
          -0.4144634302519293
         ],
         "xaxis": "x",
         "y": [
          1.7447682646929663,
          1.7325343869048198
         ],
         "yaxis": "y"
        },
        {
         "customdata": [
          [
           "TP53",
           178,
           "BAY 61-3606"
          ],
          [
           "PIK3CA",
           178,
           "BAY 61-3606"
          ]
         ],
         "hoverlabel": {
          "namelength": 0
         },
         "hovertemplate": "Drug_Name=%{customdata[2]}<br>SE=%{x}<br>-logP=%{y}<br>F1=%{customdata[0]}<br>F2=%{customdata[1]}",
         "legendgroup": "BAY 61-3606",
         "marker": {
          "color": "#B6E880",
          "symbol": "circle"
         },
         "mode": "markers",
         "name": "BAY 61-3606",
         "showlegend": true,
         "type": "scatter",
         "x": [
          0.2547180334069145,
          -0.1198497988045117
         ],
         "xaxis": "x",
         "y": [
          0.6903799362357361,
          0.35842229491352506
         ],
         "yaxis": "y"
        },
        {
         "customdata": [
          [
           "TP53",
           179,
           "5-Fluorouracil"
          ],
          [
           "PIK3CA",
           179,
           "5-Fluorouracil"
          ]
         ],
         "hoverlabel": {
          "namelength": 0
         },
         "hovertemplate": "Drug_Name=%{customdata[2]}<br>SE=%{x}<br>-logP=%{y}<br>F1=%{customdata[0]}<br>F2=%{customdata[1]}",
         "legendgroup": "5-Fluorouracil",
         "marker": {
          "color": "#FF97FF",
          "symbol": "circle"
         },
         "mode": "markers",
         "name": "5-Fluorouracil",
         "showlegend": true,
         "type": "scatter",
         "x": [
          0.16585421214692614,
          -0.056181396468577886
         ],
         "xaxis": "x",
         "y": [
          0.4336401977274874,
          0.1563347805789008
         ],
         "yaxis": "y"
        },
        {
         "customdata": [
          [
           "TP53",
           180,
           "Thapsigargin"
          ],
          [
           "PIK3CA",
           180,
           "Thapsigargin"
          ]
         ],
         "hoverlabel": {
          "namelength": 0
         },
         "hovertemplate": "Drug_Name=%{customdata[2]}<br>SE=%{x}<br>-logP=%{y}<br>F1=%{customdata[0]}<br>F2=%{customdata[1]}",
         "legendgroup": "Thapsigargin",
         "marker": {
          "color": "#FECB52",
          "symbol": "circle"
         },
         "mode": "markers",
         "name": "Thapsigargin",
         "showlegend": true,
         "type": "scatter",
         "x": [
          0.08912877233893468,
          0.4128206488253775
         ],
         "xaxis": "x",
         "y": [
          0.2052874230040453,
          1.7226478099875937
         ],
         "yaxis": "y"
        },
        {
         "customdata": [
          [
           "TP53",
           182,
           "Obatoclax Mesylate"
          ],
          [
           "PIK3CA",
           182,
           "Obatoclax Mesylate"
          ]
         ],
         "hoverlabel": {
          "namelength": 0
         },
         "hovertemplate": "Drug_Name=%{customdata[2]}<br>SE=%{x}<br>-logP=%{y}<br>F1=%{customdata[0]}<br>F2=%{customdata[1]}",
         "legendgroup": "Obatoclax Mesylate",
         "marker": {
          "color": "#636efa",
          "symbol": "circle"
         },
         "mode": "markers",
         "name": "Obatoclax Mesylate",
         "showlegend": true,
         "type": "scatter",
         "x": [
          0.5111435373478846,
          -0.1447610604782195
         ],
         "xaxis": "x",
         "y": [
          1.7487552172560188,
          0.4461556992454883
         ],
         "yaxis": "y"
        },
        {
         "customdata": [
          [
           "TP53",
           184,
           "BMS-754807"
          ],
          [
           "PIK3CA",
           184,
           "BMS-754807"
          ]
         ],
         "hoverlabel": {
          "namelength": 0
         },
         "hovertemplate": "Drug_Name=%{customdata[2]}<br>SE=%{x}<br>-logP=%{y}<br>F1=%{customdata[0]}<br>F2=%{customdata[1]}",
         "legendgroup": "BMS-754807",
         "marker": {
          "color": "#EF553B",
          "symbol": "circle"
         },
         "mode": "markers",
         "name": "BMS-754807",
         "showlegend": true,
         "type": "scatter",
         "x": [
          0.3483066006457061,
          -0.04105976927919272
         ],
         "xaxis": "x",
         "y": [
          1.0303720260985587,
          0.11137097615737064
         ],
         "yaxis": "y"
        },
        {
         "customdata": [
          [
           "TP53",
           185,
           "OSI-906"
          ],
          [
           "PIK3CA",
           185,
           "OSI-906"
          ]
         ],
         "hoverlabel": {
          "namelength": 0
         },
         "hovertemplate": "Drug_Name=%{customdata[2]}<br>SE=%{x}<br>-logP=%{y}<br>F1=%{customdata[0]}<br>F2=%{customdata[1]}",
         "legendgroup": "OSI-906",
         "marker": {
          "color": "#00cc96",
          "symbol": "circle"
         },
         "mode": "markers",
         "name": "OSI-906",
         "showlegend": true,
         "type": "scatter",
         "x": [
          0.2484676355545193,
          0.14478564949987993
         ],
         "xaxis": "x",
         "y": [
          0.6694404288303182,
          0.4462446667411164
         ],
         "yaxis": "y"
        },
        {
         "customdata": [
          [
           "TP53",
           186,
           "Bexarotene"
          ],
          [
           "PIK3CA",
           186,
           "Bexarotene"
          ]
         ],
         "hoverlabel": {
          "namelength": 0
         },
         "hovertemplate": "Drug_Name=%{customdata[2]}<br>SE=%{x}<br>-logP=%{y}<br>F1=%{customdata[0]}<br>F2=%{customdata[1]}",
         "legendgroup": "Bexarotene",
         "marker": {
          "color": "#ab63fa",
          "symbol": "circle"
         },
         "mode": "markers",
         "name": "Bexarotene",
         "showlegend": true,
         "type": "scatter",
         "x": [
          0.35778554625481995,
          -0.012670176903384504
         ],
         "xaxis": "x",
         "y": [
          1.0676555046757097,
          0.033148734645329116
         ],
         "yaxis": "y"
        },
        {
         "customdata": [
          [
           "TP53",
           190,
           "Bleomycin"
          ],
          [
           "PIK3CA",
           190,
           "Bleomycin"
          ]
         ],
         "hoverlabel": {
          "namelength": 0
         },
         "hovertemplate": "Drug_Name=%{customdata[2]}<br>SE=%{x}<br>-logP=%{y}<br>F1=%{customdata[0]}<br>F2=%{customdata[1]}",
         "legendgroup": "Bleomycin",
         "marker": {
          "color": "#FFA15A",
          "symbol": "circle"
         },
         "mode": "markers",
         "name": "Bleomycin",
         "showlegend": true,
         "type": "scatter",
         "x": [
          0.43137661458604,
          -0.013999870547482873
         ],
         "xaxis": "x",
         "y": [
          1.3757782145847968,
          0.03668993607310605
         ],
         "yaxis": "y"
        },
        {
         "customdata": [
          [
           "TP53",
           192,
           "LFM-A13"
          ],
          [
           "PIK3CA",
           192,
           "LFM-A13"
          ]
         ],
         "hoverlabel": {
          "namelength": 0
         },
         "hovertemplate": "Drug_Name=%{customdata[2]}<br>SE=%{x}<br>-logP=%{y}<br>F1=%{customdata[0]}<br>F2=%{customdata[1]}",
         "legendgroup": "LFM-A13",
         "marker": {
          "color": "#19d3f3",
          "symbol": "circle"
         },
         "mode": "markers",
         "name": "LFM-A13",
         "showlegend": true,
         "type": "scatter",
         "x": [
          0.31253130217770825,
          0.007937712351118396
         ],
         "xaxis": "x",
         "y": [
          0.8944487584759052,
          0.020641772651513884
         ],
         "yaxis": "y"
        },
        {
         "customdata": [
          [
           "TP53",
           193,
           "GW-2580"
          ],
          [
           "PIK3CA",
           193,
           "GW-2580"
          ]
         ],
         "hoverlabel": {
          "namelength": 0
         },
         "hovertemplate": "Drug_Name=%{customdata[2]}<br>SE=%{x}<br>-logP=%{y}<br>F1=%{customdata[0]}<br>F2=%{customdata[1]}",
         "legendgroup": "GW-2580",
         "marker": {
          "color": "#FF6692",
          "symbol": "circle"
         },
         "mode": "markers",
         "name": "GW-2580",
         "showlegend": true,
         "type": "scatter",
         "x": [
          0.18784419932421512,
          0.1466071268601812
         ],
         "xaxis": "x",
         "y": [
          0.5003656280438715,
          0.4452317700482439
         ],
         "yaxis": "y"
        },
        {
         "customdata": [
          [
           "TP53",
           194,
           "AUY922"
          ],
          [
           "PIK3CA",
           194,
           "AUY922"
          ]
         ],
         "hoverlabel": {
          "namelength": 0
         },
         "hovertemplate": "Drug_Name=%{customdata[2]}<br>SE=%{x}<br>-logP=%{y}<br>F1=%{customdata[0]}<br>F2=%{customdata[1]}",
         "legendgroup": "AUY922",
         "marker": {
          "color": "#B6E880",
          "symbol": "circle"
         },
         "mode": "markers",
         "name": "AUY922",
         "showlegend": true,
         "type": "scatter",
         "x": [
          0.4370034975377688,
          -0.04135368703423042
         ],
         "xaxis": "x",
         "y": [
          1.4007309352871824,
          0.11220983161166727
         ],
         "yaxis": "y"
        },
        {
         "customdata": [
          [
           "TP53",
           196,
           "Phenformin"
          ],
          [
           "PIK3CA",
           196,
           "Phenformin"
          ]
         ],
         "hoverlabel": {
          "namelength": 0
         },
         "hovertemplate": "Drug_Name=%{customdata[2]}<br>SE=%{x}<br>-logP=%{y}<br>F1=%{customdata[0]}<br>F2=%{customdata[1]}",
         "legendgroup": "Phenformin",
         "marker": {
          "color": "#FF97FF",
          "symbol": "circle"
         },
         "mode": "markers",
         "name": "Phenformin",
         "showlegend": true,
         "type": "scatter",
         "x": [
          0.31631280865130235,
          0.03472650429845354
         ],
         "xaxis": "x",
         "y": [
          0.9604789007453842,
          0.09404047737045083
         ],
         "yaxis": "y"
        },
        {
         "customdata": [
          [
           "TP53",
           197,
           "Bryostatin 1"
          ],
          [
           "PIK3CA",
           197,
           "Bryostatin 1"
          ]
         ],
         "hoverlabel": {
          "namelength": 0
         },
         "hovertemplate": "Drug_Name=%{customdata[2]}<br>SE=%{x}<br>-logP=%{y}<br>F1=%{customdata[0]}<br>F2=%{customdata[1]}",
         "legendgroup": "Bryostatin 1",
         "marker": {
          "color": "#FECB52",
          "symbol": "circle"
         },
         "mode": "markers",
         "name": "Bryostatin 1",
         "showlegend": true,
         "type": "scatter",
         "x": [
          0.2840473302632234,
          -0.2671054712645722
         ],
         "xaxis": "x",
         "y": [
          0.7915407861625428,
          0.9496168542517432
         ],
         "yaxis": "y"
        },
        {
         "customdata": [
          [
           "TP53",
           199,
           "Pazopanib"
          ],
          [
           "PIK3CA",
           199,
           "Pazopanib"
          ]
         ],
         "hoverlabel": {
          "namelength": 0
         },
         "hovertemplate": "Drug_Name=%{customdata[2]}<br>SE=%{x}<br>-logP=%{y}<br>F1=%{customdata[0]}<br>F2=%{customdata[1]}",
         "legendgroup": "Pazopanib",
         "marker": {
          "color": "#636efa",
          "symbol": "circle"
         },
         "mode": "markers",
         "name": "Pazopanib",
         "showlegend": true,
         "type": "scatter",
         "x": [
          -0.10940500165914437,
          -0.2647031130136361
         ],
         "xaxis": "x",
         "y": [
          0.2572078917928667,
          0.9385129224757732
         ],
         "yaxis": "y"
        },
        {
         "customdata": [
          [
           "TP53",
           200,
           "LAQ824"
          ],
          [
           "PIK3CA",
           200,
           "LAQ824"
          ]
         ],
         "hoverlabel": {
          "namelength": 0
         },
         "hovertemplate": "Drug_Name=%{customdata[2]}<br>SE=%{x}<br>-logP=%{y}<br>F1=%{customdata[0]}<br>F2=%{customdata[1]}",
         "legendgroup": "LAQ824",
         "marker": {
          "color": "#EF553B",
          "symbol": "circle"
         },
         "mode": "markers",
         "name": "LAQ824",
         "showlegend": true,
         "type": "scatter",
         "x": [
          0.048890700452150035,
          -0.2708395938546925
         ],
         "xaxis": "x",
         "y": [
          0.10806722601004662,
          0.966977211679134
         ],
         "yaxis": "y"
        },
        {
         "customdata": [
          [
           "TP53",
           201,
           "Epothilone B"
          ],
          [
           "PIK3CA",
           201,
           "Epothilone B"
          ]
         ],
         "hoverlabel": {
          "namelength": 0
         },
         "hovertemplate": "Drug_Name=%{customdata[2]}<br>SE=%{x}<br>-logP=%{y}<br>F1=%{customdata[0]}<br>F2=%{customdata[1]}",
         "legendgroup": "Epothilone B",
         "marker": {
          "color": "#00cc96",
          "symbol": "circle"
         },
         "mode": "markers",
         "name": "Epothilone B",
         "showlegend": true,
         "type": "scatter",
         "x": [
          0.04197457495500016,
          -0.1578498992363207
         ],
         "xaxis": "x",
         "y": [
          0.09211986381430988,
          0.4941828416204305
         ],
         "yaxis": "y"
        },
        {
         "customdata": [
          [
           "TP53",
           202,
           "GSK-1904529A"
          ],
          [
           "PIK3CA",
           202,
           "GSK-1904529A"
          ]
         ],
         "hoverlabel": {
          "namelength": 0
         },
         "hovertemplate": "Drug_Name=%{customdata[2]}<br>SE=%{x}<br>-logP=%{y}<br>F1=%{customdata[0]}<br>F2=%{customdata[1]}",
         "legendgroup": "GSK-1904529A",
         "marker": {
          "color": "#ab63fa",
          "symbol": "circle"
         },
         "mode": "markers",
         "name": "GSK-1904529A",
         "showlegend": true,
         "type": "scatter",
         "x": [
          -0.01694117300545062,
          0.08030871383306303
         ],
         "xaxis": "x",
         "y": [
          0.03622580267335816,
          0.2287916798839557
         ],
         "yaxis": "y"
        },
        {
         "customdata": [
          [
           "TP53",
           203,
           "BMS-345541"
          ],
          [
           "PIK3CA",
           203,
           "BMS-345541"
          ]
         ],
         "hoverlabel": {
          "namelength": 0
         },
         "hovertemplate": "Drug_Name=%{customdata[2]}<br>SE=%{x}<br>-logP=%{y}<br>F1=%{customdata[0]}<br>F2=%{customdata[1]}",
         "legendgroup": "BMS-345541",
         "marker": {
          "color": "#FFA15A",
          "symbol": "circle"
         },
         "mode": "markers",
         "name": "BMS-345541",
         "showlegend": true,
         "type": "scatter",
         "x": [
          0.1574278570626889,
          -0.08871005601525002
         ],
         "xaxis": "x",
         "y": [
          0.4080631726053032,
          0.2571044738726504
         ],
         "yaxis": "y"
        },
        {
         "customdata": [
          [
           "TP53",
           204,
           "Tipifarnib"
          ],
          [
           "PIK3CA",
           204,
           "Tipifarnib"
          ]
         ],
         "hoverlabel": {
          "namelength": 0
         },
         "hovertemplate": "Drug_Name=%{customdata[2]}<br>SE=%{x}<br>-logP=%{y}<br>F1=%{customdata[0]}<br>F2=%{customdata[1]}",
         "legendgroup": "Tipifarnib",
         "marker": {
          "color": "#19d3f3",
          "symbol": "circle"
         },
         "mode": "markers",
         "name": "Tipifarnib",
         "showlegend": true,
         "type": "scatter",
         "x": [
          -0.16534747719146992,
          -0.2244887503624504
         ],
         "xaxis": "x",
         "y": [
          0.4110025167644613,
          0.7600713852369848
         ],
         "yaxis": "y"
        },
        {
         "customdata": [
          [
           "TP53",
           206,
           "Ruxolitinib"
          ],
          [
           "PIK3CA",
           206,
           "Ruxolitinib"
          ]
         ],
         "hoverlabel": {
          "namelength": 0
         },
         "hovertemplate": "Drug_Name=%{customdata[2]}<br>SE=%{x}<br>-logP=%{y}<br>F1=%{customdata[0]}<br>F2=%{customdata[1]}",
         "legendgroup": "Ruxolitinib",
         "marker": {
          "color": "#FF6692",
          "symbol": "circle"
         },
         "mode": "markers",
         "name": "Ruxolitinib",
         "showlegend": true,
         "type": "scatter",
         "x": [
          0.8032276368360859,
          0.21171147289675307
         ],
         "xaxis": "x",
         "y": [
          3.7607946175056703,
          0.7116240771997958
         ],
         "yaxis": "y"
        },
        {
         "customdata": [
          [
           "TP53",
           207,
           "AS601245"
          ],
          [
           "PIK3CA",
           207,
           "AS601245"
          ]
         ],
         "hoverlabel": {
          "namelength": 0
         },
         "hovertemplate": "Drug_Name=%{customdata[2]}<br>SE=%{x}<br>-logP=%{y}<br>F1=%{customdata[0]}<br>F2=%{customdata[1]}",
         "legendgroup": "AS601245",
         "marker": {
          "color": "#B6E880",
          "symbol": "circle"
         },
         "mode": "markers",
         "name": "AS601245",
         "showlegend": true,
         "type": "scatter",
         "x": [
          0.006744785204433652,
          0.1679375701700755
         ],
         "xaxis": "x",
         "y": [
          0.014269611912263678,
          0.5321202234808148
         ],
         "yaxis": "y"
        },
        {
         "customdata": [
          [
           "TP53",
           208,
           "SB-715992"
          ],
          [
           "PIK3CA",
           208,
           "SB-715992"
          ]
         ],
         "hoverlabel": {
          "namelength": 0
         },
         "hovertemplate": "Drug_Name=%{customdata[2]}<br>SE=%{x}<br>-logP=%{y}<br>F1=%{customdata[0]}<br>F2=%{customdata[1]}",
         "legendgroup": "SB-715992",
         "marker": {
          "color": "#FF97FF",
          "symbol": "circle"
         },
         "mode": "markers",
         "name": "SB-715992",
         "showlegend": true,
         "type": "scatter",
         "x": [
          -0.4693821299195195,
          -0.0057329521071175895
         ],
         "xaxis": "x",
         "y": [
          1.6451937647176924,
          0.01495824384615691
         ],
         "yaxis": "y"
        },
        {
         "customdata": [
          [
           "TP53",
           211,
           "TL-2-105"
          ],
          [
           "PIK3CA",
           211,
           "TL-2-105"
          ]
         ],
         "hoverlabel": {
          "namelength": 0
         },
         "hovertemplate": "Drug_Name=%{customdata[2]}<br>SE=%{x}<br>-logP=%{y}<br>F1=%{customdata[0]}<br>F2=%{customdata[1]}",
         "legendgroup": "TL-2-105",
         "marker": {
          "color": "#FECB52",
          "symbol": "circle"
         },
         "mode": "markers",
         "name": "TL-2-105",
         "showlegend": true,
         "type": "scatter",
         "x": [
          0.3664389725842435,
          -0.21665207728698305
         ],
         "xaxis": "x",
         "y": [
          1.1672735609644929,
          0.7324465803485211
         ],
         "yaxis": "y"
        },
        {
         "customdata": [
          [
           "TP53",
           219,
           "AT-7519"
          ],
          [
           "PIK3CA",
           219,
           "AT-7519"
          ]
         ],
         "hoverlabel": {
          "namelength": 0
         },
         "hovertemplate": "Drug_Name=%{customdata[2]}<br>SE=%{x}<br>-logP=%{y}<br>F1=%{customdata[0]}<br>F2=%{customdata[1]}",
         "legendgroup": "AT-7519",
         "marker": {
          "color": "#636efa",
          "symbol": "circle"
         },
         "mode": "markers",
         "name": "AT-7519",
         "showlegend": true,
         "type": "scatter",
         "x": [
          -0.4773893218284554,
          0.1796491486226521
         ],
         "xaxis": "x",
         "y": [
          1.6855025573718243,
          0.5814585363744563
         ],
         "yaxis": "y"
        },
        {
         "customdata": [
          [
           "TP53",
           221,
           "TAK-715"
          ],
          [
           "PIK3CA",
           221,
           "TAK-715"
          ]
         ],
         "hoverlabel": {
          "namelength": 0
         },
         "hovertemplate": "Drug_Name=%{customdata[2]}<br>SE=%{x}<br>-logP=%{y}<br>F1=%{customdata[0]}<br>F2=%{customdata[1]}",
         "legendgroup": "TAK-715",
         "marker": {
          "color": "#EF553B",
          "symbol": "circle"
         },
         "mode": "markers",
         "name": "TAK-715",
         "showlegend": true,
         "type": "scatter",
         "x": [
          0.26535327567725553,
          -0.3432324577357656
         ],
         "xaxis": "x",
         "y": [
          0.7667069884538356,
          1.3394074072287276
         ],
         "yaxis": "y"
        },
        {
         "customdata": [
          [
           "TP53",
           222,
           "BX-912"
          ],
          [
           "PIK3CA",
           222,
           "BX-912"
          ]
         ],
         "hoverlabel": {
          "namelength": 0
         },
         "hovertemplate": "Drug_Name=%{customdata[2]}<br>SE=%{x}<br>-logP=%{y}<br>F1=%{customdata[0]}<br>F2=%{customdata[1]}",
         "legendgroup": "BX-912",
         "marker": {
          "color": "#00cc96",
          "symbol": "circle"
         },
         "mode": "markers",
         "name": "BX-912",
         "showlegend": true,
         "type": "scatter",
         "x": [
          -0.2012523108804169,
          0.21033410635480893
         ],
         "xaxis": "x",
         "y": [
          0.545489579367119,
          0.7058558488485285
         ],
         "yaxis": "y"
        },
        {
         "customdata": [
          [
           "TP53",
           223,
           "ZSTK474"
          ],
          [
           "PIK3CA",
           223,
           "ZSTK474"
          ]
         ],
         "hoverlabel": {
          "namelength": 0
         },
         "hovertemplate": "Drug_Name=%{customdata[2]}<br>SE=%{x}<br>-logP=%{y}<br>F1=%{customdata[0]}<br>F2=%{customdata[1]}",
         "legendgroup": "ZSTK474",
         "marker": {
          "color": "#ab63fa",
          "symbol": "circle"
         },
         "mode": "markers",
         "name": "ZSTK474",
         "showlegend": true,
         "type": "scatter",
         "x": [
          -0.2058323437669054,
          -0.594819581163545
         ],
         "xaxis": "x",
         "y": [
          0.5604884185361253,
          3.0222943057756795
         ],
         "yaxis": "y"
        },
        {
         "customdata": [
          [
           "TP53",
           224,
           "AS605240"
          ],
          [
           "PIK3CA",
           224,
           "AS605240"
          ]
         ],
         "hoverlabel": {
          "namelength": 0
         },
         "hovertemplate": "Drug_Name=%{customdata[2]}<br>SE=%{x}<br>-logP=%{y}<br>F1=%{customdata[0]}<br>F2=%{customdata[1]}",
         "legendgroup": "AS605240",
         "marker": {
          "color": "#FFA15A",
          "symbol": "circle"
         },
         "mode": "markers",
         "name": "AS605240",
         "showlegend": true,
         "type": "scatter",
         "x": [
          0.3350367920154452,
          -0.4422936294034053
         ],
         "xaxis": "x",
         "y": [
          1.0358097623077418,
          1.9207118538500971
         ],
         "yaxis": "y"
        },
        {
         "customdata": [
          [
           "TP53",
           225,
           "Genentech Cpd 10"
          ],
          [
           "PIK3CA",
           225,
           "Genentech Cpd 10"
          ]
         ],
         "hoverlabel": {
          "namelength": 0
         },
         "hovertemplate": "Drug_Name=%{customdata[2]}<br>SE=%{x}<br>-logP=%{y}<br>F1=%{customdata[0]}<br>F2=%{customdata[1]}",
         "legendgroup": "Genentech Cpd 10",
         "marker": {
          "color": "#19d3f3",
          "symbol": "circle"
         },
         "mode": "markers",
         "name": "Genentech Cpd 10",
         "showlegend": true,
         "type": "scatter",
         "x": [
          -0.19074749359023385,
          -0.04508351059213562
         ],
         "xaxis": "x",
         "y": [
          0.5115474565837614,
          0.12370503820915887
         ],
         "yaxis": "y"
        },
        {
         "customdata": [
          [
           "TP53",
           226,
           "GSK1070916"
          ],
          [
           "PIK3CA",
           226,
           "GSK1070916"
          ]
         ],
         "hoverlabel": {
          "namelength": 0
         },
         "hovertemplate": "Drug_Name=%{customdata[2]}<br>SE=%{x}<br>-logP=%{y}<br>F1=%{customdata[0]}<br>F2=%{customdata[1]}",
         "legendgroup": "GSK1070916",
         "marker": {
          "color": "#FF6692",
          "symbol": "circle"
         },
         "mode": "markers",
         "name": "GSK1070916",
         "showlegend": true,
         "type": "scatter",
         "x": [
          -0.5159699788962246,
          0.11284539106017545
         ],
         "xaxis": "x",
         "y": [
          1.8863266636927556,
          0.3369420936732012
         ],
         "yaxis": "y"
        },
        {
         "customdata": [
          [
           "TP53",
           228,
           "KIN001-102"
          ],
          [
           "PIK3CA",
           228,
           "KIN001-102"
          ]
         ],
         "hoverlabel": {
          "namelength": 0
         },
         "hovertemplate": "Drug_Name=%{customdata[2]}<br>SE=%{x}<br>-logP=%{y}<br>F1=%{customdata[0]}<br>F2=%{customdata[1]}",
         "legendgroup": "KIN001-102",
         "marker": {
          "color": "#B6E880",
          "symbol": "circle"
         },
         "mode": "markers",
         "name": "KIN001-102",
         "showlegend": true,
         "type": "scatter",
         "x": [
          -0.3424386725325676,
          -0.4623999242890736
         ],
         "xaxis": "x",
         "y": [
          1.06621482153072,
          2.0510248096717705
         ],
         "yaxis": "y"
        },
        {
         "customdata": [
          [
           "TP53",
           229,
           "LY317615"
          ],
          [
           "PIK3CA",
           229,
           "LY317615"
          ]
         ],
         "hoverlabel": {
          "namelength": 0
         },
         "hovertemplate": "Drug_Name=%{customdata[2]}<br>SE=%{x}<br>-logP=%{y}<br>F1=%{customdata[0]}<br>F2=%{customdata[1]}",
         "legendgroup": "LY317615",
         "marker": {
          "color": "#FF97FF",
          "symbol": "circle"
         },
         "mode": "markers",
         "name": "LY317615",
         "showlegend": true,
         "type": "scatter",
         "x": [
          -0.08473247644991498,
          -0.1716820272790074
         ],
         "xaxis": "x",
         "y": [
          0.2035803259831601,
          0.5504283386537329
         ],
         "yaxis": "y"
        },
        {
         "customdata": [
          [
           "TP53",
           230,
           "GSK429286A"
          ],
          [
           "PIK3CA",
           230,
           "GSK429286A"
          ]
         ],
         "hoverlabel": {
          "namelength": 0
         },
         "hovertemplate": "Drug_Name=%{customdata[2]}<br>SE=%{x}<br>-logP=%{y}<br>F1=%{customdata[0]}<br>F2=%{customdata[1]}",
         "legendgroup": "GSK429286A",
         "marker": {
          "color": "#FECB52",
          "symbol": "circle"
         },
         "mode": "markers",
         "name": "GSK429286A",
         "showlegend": true,
         "type": "scatter",
         "x": [
          0.07143419188255343,
          0.3248154294048384
         ],
         "xaxis": "x",
         "y": [
          0.16922153167046633,
          1.2419792028731171
         ],
         "yaxis": "y"
        },
        {
         "customdata": [
          [
           "TP53",
           231,
           "FMK"
          ],
          [
           "PIK3CA",
           231,
           "FMK"
          ]
         ],
         "hoverlabel": {
          "namelength": 0
         },
         "hovertemplate": "Drug_Name=%{customdata[2]}<br>SE=%{x}<br>-logP=%{y}<br>F1=%{customdata[0]}<br>F2=%{customdata[1]}",
         "legendgroup": "FMK",
         "marker": {
          "color": "#636efa",
          "symbol": "circle"
         },
         "mode": "markers",
         "name": "FMK",
         "showlegend": true,
         "type": "scatter",
         "x": [
          0.2764568980686249,
          0.012366502678815948
         ],
         "xaxis": "x",
         "y": [
          0.8075484483570592,
          0.032543485549924964
         ],
         "yaxis": "y"
        },
        {
         "customdata": [
          [
           "TP53",
           235,
           "QL-XII-47"
          ],
          [
           "PIK3CA",
           235,
           "QL-XII-47"
          ]
         ],
         "hoverlabel": {
          "namelength": 0
         },
         "hovertemplate": "Drug_Name=%{customdata[2]}<br>SE=%{x}<br>-logP=%{y}<br>F1=%{customdata[0]}<br>F2=%{customdata[1]}",
         "legendgroup": "QL-XII-47",
         "marker": {
          "color": "#EF553B",
          "symbol": "circle"
         },
         "mode": "markers",
         "name": "QL-XII-47",
         "showlegend": true,
         "type": "scatter",
         "x": [
          -0.19765224275245288,
          -0.8140696454180403
         ],
         "xaxis": "x",
         "y": [
          0.5337855020354593,
          5.125239971494211
         ],
         "yaxis": "y"
        },
        {
         "customdata": [
          [
           "TP53",
           238,
           "CAL-101"
          ],
          [
           "PIK3CA",
           238,
           "CAL-101"
          ]
         ],
         "hoverlabel": {
          "namelength": 0
         },
         "hovertemplate": "Drug_Name=%{customdata[2]}<br>SE=%{x}<br>-logP=%{y}<br>F1=%{customdata[0]}<br>F2=%{customdata[1]}",
         "legendgroup": "CAL-101",
         "marker": {
          "color": "#00cc96",
          "symbol": "circle"
         },
         "mode": "markers",
         "name": "CAL-101",
         "showlegend": true,
         "type": "scatter",
         "x": [
          -0.11323025546455892,
          0.1595055726214326
         ],
         "xaxis": "x",
         "y": [
          0.2803409908731386,
          0.5039971108083469
         ],
         "yaxis": "y"
        },
        {
         "customdata": [
          [
           "TP53",
           249,
           "XL-184"
          ],
          [
           "PIK3CA",
           249,
           "XL-184"
          ]
         ],
         "hoverlabel": {
          "namelength": 0
         },
         "hovertemplate": "Drug_Name=%{customdata[2]}<br>SE=%{x}<br>-logP=%{y}<br>F1=%{customdata[0]}<br>F2=%{customdata[1]}",
         "legendgroup": "XL-184",
         "marker": {
          "color": "#ab63fa",
          "symbol": "circle"
         },
         "mode": "markers",
         "name": "XL-184",
         "showlegend": true,
         "type": "scatter",
         "x": [
          -0.24791142695751975,
          0.021614571853437004
         ],
         "xaxis": "x",
         "y": [
          0.7040754363712015,
          0.05756036406451767
         ],
         "yaxis": "y"
        },
        {
         "customdata": [
          [
           "TP53",
           252,
           "WZ3105"
          ],
          [
           "PIK3CA",
           252,
           "WZ3105"
          ]
         ],
         "hoverlabel": {
          "namelength": 0
         },
         "hovertemplate": "Drug_Name=%{customdata[2]}<br>SE=%{x}<br>-logP=%{y}<br>F1=%{customdata[0]}<br>F2=%{customdata[1]}",
         "legendgroup": "WZ3105",
         "marker": {
          "color": "#FFA15A",
          "symbol": "circle"
         },
         "mode": "markers",
         "name": "WZ3105",
         "showlegend": true,
         "type": "scatter",
         "x": [
          -0.2462552885481869,
          0.4448423058008899
         ],
         "xaxis": "x",
         "y": [
          0.6954653217503636,
          1.880133340164508
         ],
         "yaxis": "y"
        },
        {
         "customdata": [
          [
           "TP53",
           253,
           "XMD14-99"
          ],
          [
           "PIK3CA",
           253,
           "XMD14-99"
          ]
         ],
         "hoverlabel": {
          "namelength": 0
         },
         "hovertemplate": "Drug_Name=%{customdata[2]}<br>SE=%{x}<br>-logP=%{y}<br>F1=%{customdata[0]}<br>F2=%{customdata[1]}",
         "legendgroup": "XMD14-99",
         "marker": {
          "color": "#19d3f3",
          "symbol": "circle"
         },
         "mode": "markers",
         "name": "XMD14-99",
         "showlegend": true,
         "type": "scatter",
         "x": [
          0.6215721717929981,
          -0.0271211874042366
         ],
         "xaxis": "x",
         "y": [
          2.4833709239379598,
          0.07120511640598706
         ],
         "yaxis": "y"
        },
        {
         "customdata": [
          [
           "TP53",
           254,
           "AC220"
          ],
          [
           "PIK3CA",
           254,
           "AC220"
          ]
         ],
         "hoverlabel": {
          "namelength": 0
         },
         "hovertemplate": "Drug_Name=%{customdata[2]}<br>SE=%{x}<br>-logP=%{y}<br>F1=%{customdata[0]}<br>F2=%{customdata[1]}",
         "legendgroup": "AC220",
         "marker": {
          "color": "#FF6692",
          "symbol": "circle"
         },
         "mode": "markers",
         "name": "AC220",
         "showlegend": true,
         "type": "scatter",
         "x": [
          0.2986761903986138,
          0.1714228368203831
         ],
         "xaxis": "x",
         "y": [
          0.8879495498243762,
          0.536031947542932
         ],
         "yaxis": "y"
        },
        {
         "customdata": [
          [
           "TP53",
           255,
           "CP724714"
          ],
          [
           "PIK3CA",
           255,
           "CP724714"
          ]
         ],
         "hoverlabel": {
          "namelength": 0
         },
         "hovertemplate": "Drug_Name=%{customdata[2]}<br>SE=%{x}<br>-logP=%{y}<br>F1=%{customdata[0]}<br>F2=%{customdata[1]}",
         "legendgroup": "CP724714",
         "marker": {
          "color": "#B6E880",
          "symbol": "circle"
         },
         "mode": "markers",
         "name": "CP724714",
         "showlegend": true,
         "type": "scatter",
         "x": [
          0.20556574317237888,
          -0.2939745335358578
         ],
         "xaxis": "x",
         "y": [
          0.5574550953809521,
          1.0568458000819354
         ],
         "yaxis": "y"
        },
        {
         "customdata": [
          [
           "TP53",
           256,
           "JW-7-24-1"
          ],
          [
           "PIK3CA",
           256,
           "JW-7-24-1"
          ]
         ],
         "hoverlabel": {
          "namelength": 0
         },
         "hovertemplate": "Drug_Name=%{customdata[2]}<br>SE=%{x}<br>-logP=%{y}<br>F1=%{customdata[0]}<br>F2=%{customdata[1]}",
         "legendgroup": "JW-7-24-1",
         "marker": {
          "color": "#FF97FF",
          "symbol": "circle"
         },
         "mode": "markers",
         "name": "JW-7-24-1",
         "showlegend": true,
         "type": "scatter",
         "x": [
          -0.21861022148962125,
          -0.0007422368288004628
         ],
         "xaxis": "x",
         "y": [
          0.6006384965953753,
          0.0018849679537913985
         ],
         "yaxis": "y"
        },
        {
         "customdata": [
          [
           "TP53",
           257,
           "NPK76-II-72-1"
          ],
          [
           "PIK3CA",
           257,
           "NPK76-II-72-1"
          ]
         ],
         "hoverlabel": {
          "namelength": 0
         },
         "hovertemplate": "Drug_Name=%{customdata[2]}<br>SE=%{x}<br>-logP=%{y}<br>F1=%{customdata[0]}<br>F2=%{customdata[1]}",
         "legendgroup": "NPK76-II-72-1",
         "marker": {
          "color": "#FECB52",
          "symbol": "circle"
         },
         "mode": "markers",
         "name": "NPK76-II-72-1",
         "showlegend": true,
         "type": "scatter",
         "x": [
          -0.3018355824244713,
          0.2143435423758997
         ],
         "xaxis": "x",
         "y": [
          0.9037716325857872,
          0.7226913968310047
         ],
         "yaxis": "y"
        },
        {
         "customdata": [
          [
           "TP53",
           258,
           "STF-62247"
          ],
          [
           "PIK3CA",
           258,
           "STF-62247"
          ]
         ],
         "hoverlabel": {
          "namelength": 0
         },
         "hovertemplate": "Drug_Name=%{customdata[2]}<br>SE=%{x}<br>-logP=%{y}<br>F1=%{customdata[0]}<br>F2=%{customdata[1]}",
         "legendgroup": "STF-62247",
         "marker": {
          "color": "#636efa",
          "symbol": "circle"
         },
         "mode": "markers",
         "name": "STF-62247",
         "showlegend": true,
         "type": "scatter",
         "x": [
          0.2327430050689911,
          0.3834915442967562
         ],
         "xaxis": "x",
         "y": [
          0.6511025829401627,
          1.5637845759734694
         ],
         "yaxis": "y"
        },
        {
         "customdata": [
          [
           "TP53",
           260,
           "NG-25"
          ],
          [
           "PIK3CA",
           260,
           "NG-25"
          ]
         ],
         "hoverlabel": {
          "namelength": 0
         },
         "hovertemplate": "Drug_Name=%{customdata[2]}<br>SE=%{x}<br>-logP=%{y}<br>F1=%{customdata[0]}<br>F2=%{customdata[1]}",
         "legendgroup": "NG-25",
         "marker": {
          "color": "#EF553B",
          "symbol": "circle"
         },
         "mode": "markers",
         "name": "NG-25",
         "showlegend": true,
         "type": "scatter",
         "x": [
          -0.10484948782260044,
          -0.2118776093993532
         ],
         "xaxis": "x",
         "y": [
          0.2573190213162609,
          0.7123209167729517
         ],
         "yaxis": "y"
        },
        {
         "customdata": [
          [
           "TP53",
           261,
           "TL-1-85"
          ],
          [
           "PIK3CA",
           261,
           "TL-1-85"
          ]
         ],
         "hoverlabel": {
          "namelength": 0
         },
         "hovertemplate": "Drug_Name=%{customdata[2]}<br>SE=%{x}<br>-logP=%{y}<br>F1=%{customdata[0]}<br>F2=%{customdata[1]}",
         "legendgroup": "TL-1-85",
         "marker": {
          "color": "#00cc96",
          "symbol": "circle"
         },
         "mode": "markers",
         "name": "TL-1-85",
         "showlegend": true,
         "type": "scatter",
         "x": [
          0.04537059324460632,
          0.17521380412230048
         ],
         "xaxis": "x",
         "y": [
          0.10452020713949844,
          0.5641200585596564
         ],
         "yaxis": "y"
        },
        {
         "customdata": [
          [
           "TP53",
           262,
           "VX-11e"
          ],
          [
           "PIK3CA",
           262,
           "VX-11e"
          ]
         ],
         "hoverlabel": {
          "namelength": 0
         },
         "hovertemplate": "Drug_Name=%{customdata[2]}<br>SE=%{x}<br>-logP=%{y}<br>F1=%{customdata[0]}<br>F2=%{customdata[1]}",
         "legendgroup": "VX-11e",
         "marker": {
          "color": "#ab63fa",
          "symbol": "circle"
         },
         "mode": "markers",
         "name": "VX-11e",
         "showlegend": true,
         "type": "scatter",
         "x": [
          0.4864548349455161,
          0.21257793624376006
         ],
         "xaxis": "x",
         "y": [
          1.7317032498777822,
          0.7152609156021102
         ],
         "yaxis": "y"
        },
        {
         "customdata": [
          [
           "TP53",
           263,
           "FR-180204"
          ],
          [
           "PIK3CA",
           263,
           "FR-180204"
          ]
         ],
         "hoverlabel": {
          "namelength": 0
         },
         "hovertemplate": "Drug_Name=%{customdata[2]}<br>SE=%{x}<br>-logP=%{y}<br>F1=%{customdata[0]}<br>F2=%{customdata[1]}",
         "legendgroup": "FR-180204",
         "marker": {
          "color": "#FFA15A",
          "symbol": "circle"
         },
         "mode": "markers",
         "name": "FR-180204",
         "showlegend": true,
         "type": "scatter",
         "x": [
          0.3264267468789649,
          0.3250060103491939
         ],
         "xaxis": "x",
         "y": [
          1.0008890918436268,
          1.24297094401909
         ],
         "yaxis": "y"
        },
        {
         "customdata": [
          [
           "TP53",
           265,
           "Tubastatin A"
          ],
          [
           "PIK3CA",
           265,
           "Tubastatin A"
          ]
         ],
         "hoverlabel": {
          "namelength": 0
         },
         "hovertemplate": "Drug_Name=%{customdata[2]}<br>SE=%{x}<br>-logP=%{y}<br>F1=%{customdata[0]}<br>F2=%{customdata[1]}",
         "legendgroup": "Tubastatin A",
         "marker": {
          "color": "#19d3f3",
          "symbol": "circle"
         },
         "mode": "markers",
         "name": "Tubastatin A",
         "showlegend": true,
         "type": "scatter",
         "x": [
          0.41672158622272987,
          -0.01021293219575655
         ],
         "xaxis": "x",
         "y": [
          1.3915238351526762,
          0.0268017319183976
         ],
         "yaxis": "y"
        },
        {
         "customdata": [
          [
           "TP53",
           266,
           "Zibotentan, ZD4054"
          ],
          [
           "PIK3CA",
           266,
           "Zibotentan, ZD4054"
          ]
         ],
         "hoverlabel": {
          "namelength": 0
         },
         "hovertemplate": "Drug_Name=%{customdata[2]}<br>SE=%{x}<br>-logP=%{y}<br>F1=%{customdata[0]}<br>F2=%{customdata[1]}",
         "legendgroup": "Zibotentan, ZD4054",
         "marker": {
          "color": "#FF6692",
          "symbol": "circle"
         },
         "mode": "markers",
         "name": "Zibotentan, ZD4054",
         "showlegend": true,
         "type": "scatter",
         "x": [
          0.2906911481518341,
          -0.01692423069180095
         ],
         "xaxis": "x",
         "y": [
          0.8610215304571682,
          0.04479935774644205
         ],
         "yaxis": "y"
        },
        {
         "customdata": [
          [
           "TP53",
           268,
           "YM155"
          ],
          [
           "PIK3CA",
           268,
           "YM155"
          ]
         ],
         "hoverlabel": {
          "namelength": 0
         },
         "hovertemplate": "Drug_Name=%{customdata[2]}<br>SE=%{x}<br>-logP=%{y}<br>F1=%{customdata[0]}<br>F2=%{customdata[1]}",
         "legendgroup": "YM155",
         "marker": {
          "color": "#B6E880",
          "symbol": "circle"
         },
         "mode": "markers",
         "name": "YM155",
         "showlegend": true,
         "type": "scatter",
         "x": [
          -0.4425676766640653,
          -0.054036359242847366
         ],
         "xaxis": "x",
         "y": [
          1.5135710923421233,
          0.14995948182659305
         ],
         "yaxis": "y"
        },
        {
         "customdata": [
          [
           "TP53",
           269,
           "NSC-207895"
          ],
          [
           "PIK3CA",
           269,
           "NSC-207895"
          ]
         ],
         "hoverlabel": {
          "namelength": 0
         },
         "hovertemplate": "Drug_Name=%{customdata[2]}<br>SE=%{x}<br>-logP=%{y}<br>F1=%{customdata[0]}<br>F2=%{customdata[1]}",
         "legendgroup": "NSC-207895",
         "marker": {
          "color": "#FF97FF",
          "symbol": "circle"
         },
         "mode": "markers",
         "name": "NSC-207895",
         "showlegend": true,
         "type": "scatter",
         "x": [
          0.002395164691752365,
          0.2856074912155499
         ],
         "xaxis": "x",
         "y": [
          0.0052661191147106035,
          1.0451335470418794
         ],
         "yaxis": "y"
        },
        {
         "customdata": [
          [
           "TP53",
           271,
           "VNLG/124"
          ],
          [
           "PIK3CA",
           271,
           "VNLG/124"
          ]
         ],
         "hoverlabel": {
          "namelength": 0
         },
         "hovertemplate": "Drug_Name=%{customdata[2]}<br>SE=%{x}<br>-logP=%{y}<br>F1=%{customdata[0]}<br>F2=%{customdata[1]}",
         "legendgroup": "VNLG/124",
         "marker": {
          "color": "#FECB52",
          "symbol": "circle"
         },
         "mode": "markers",
         "name": "VNLG/124",
         "showlegend": true,
         "type": "scatter",
         "x": [
          0.4146026556382104,
          0.3616783012065089
         ],
         "xaxis": "x",
         "y": [
          1.381724900737381,
          1.4402470490428143
         ],
         "yaxis": "y"
        },
        {
         "customdata": [
          [
           "TP53",
           272,
           "AR-42"
          ],
          [
           "PIK3CA",
           272,
           "AR-42"
          ]
         ],
         "hoverlabel": {
          "namelength": 0
         },
         "hovertemplate": "Drug_Name=%{customdata[2]}<br>SE=%{x}<br>-logP=%{y}<br>F1=%{customdata[0]}<br>F2=%{customdata[1]}",
         "legendgroup": "AR-42",
         "marker": {
          "color": "#636efa",
          "symbol": "circle"
         },
         "mode": "markers",
         "name": "AR-42",
         "showlegend": true,
         "type": "scatter",
         "x": [
          0.10693678817307424,
          0.08257910907424719
         ],
         "xaxis": "x",
         "y": [
          0.2630177035524013,
          0.2375183020839586
         ],
         "yaxis": "y"
        },
        {
         "customdata": [
          [
           "TP53",
           273,
           "CUDC-101"
          ],
          [
           "PIK3CA",
           273,
           "CUDC-101"
          ]
         ],
         "hoverlabel": {
          "namelength": 0
         },
         "hovertemplate": "Drug_Name=%{customdata[2]}<br>SE=%{x}<br>-logP=%{y}<br>F1=%{customdata[0]}<br>F2=%{customdata[1]}",
         "legendgroup": "CUDC-101",
         "marker": {
          "color": "#EF553B",
          "symbol": "circle"
         },
         "mode": "markers",
         "name": "CUDC-101",
         "showlegend": true,
         "type": "scatter",
         "x": [
          -0.2177284977328936,
          0.020987226897190243
         ],
         "xaxis": "x",
         "y": [
          0.6000189289684359,
          0.05584478885531684
         ],
         "yaxis": "y"
        },
        {
         "customdata": [
          [
           "TP53",
           274,
           "PXD101, Belinostat"
          ],
          [
           "PIK3CA",
           274,
           "PXD101, Belinostat"
          ]
         ],
         "hoverlabel": {
          "namelength": 0
         },
         "hovertemplate": "Drug_Name=%{customdata[2]}<br>SE=%{x}<br>-logP=%{y}<br>F1=%{customdata[0]}<br>F2=%{customdata[1]}",
         "legendgroup": "PXD101, Belinostat",
         "marker": {
          "color": "#00cc96",
          "symbol": "circle"
         },
         "mode": "markers",
         "name": "PXD101, Belinostat",
         "showlegend": true,
         "type": "scatter",
         "x": [
          0.02918326706921468,
          -0.021980159014102787
         ],
         "xaxis": "x",
         "y": [
          0.06606408960323769,
          0.058561370547491484
         ],
         "yaxis": "y"
        },
        {
         "customdata": [
          [
           "TP53",
           275,
           "I-BET 151"
          ],
          [
           "PIK3CA",
           275,
           "I-BET 151"
          ]
         ],
         "hoverlabel": {
          "namelength": 0
         },
         "hovertemplate": "Drug_Name=%{customdata[2]}<br>SE=%{x}<br>-logP=%{y}<br>F1=%{customdata[0]}<br>F2=%{customdata[1]}",
         "legendgroup": "I-BET 151",
         "marker": {
          "color": "#ab63fa",
          "symbol": "circle"
         },
         "mode": "markers",
         "name": "I-BET 151",
         "showlegend": true,
         "type": "scatter",
         "x": [
          0.2513808403660158,
          0.10422034225661413
         ],
         "xaxis": "x",
         "y": [
          0.7163863950071082,
          0.3079065795408557
         ],
         "yaxis": "y"
        },
        {
         "customdata": [
          [
           "TP53",
           276,
           "CAY10603"
          ],
          [
           "PIK3CA",
           276,
           "CAY10603"
          ]
         ],
         "hoverlabel": {
          "namelength": 0
         },
         "hovertemplate": "Drug_Name=%{customdata[2]}<br>SE=%{x}<br>-logP=%{y}<br>F1=%{customdata[0]}<br>F2=%{customdata[1]}",
         "legendgroup": "CAY10603",
         "marker": {
          "color": "#FFA15A",
          "symbol": "circle"
         },
         "mode": "markers",
         "name": "CAY10603",
         "showlegend": true,
         "type": "scatter",
         "x": [
          -0.2857792905638569,
          -0.051379945300027235
         ],
         "xaxis": "x",
         "y": [
          0.8424268550047961,
          0.14210992406022135
         ],
         "yaxis": "y"
        },
        {
         "customdata": [
          [
           "TP53",
           277,
           "ABT-869"
          ],
          [
           "PIK3CA",
           277,
           "ABT-869"
          ]
         ],
         "hoverlabel": {
          "namelength": 0
         },
         "hovertemplate": "Drug_Name=%{customdata[2]}<br>SE=%{x}<br>-logP=%{y}<br>F1=%{customdata[0]}<br>F2=%{customdata[1]}",
         "legendgroup": "ABT-869",
         "marker": {
          "color": "#19d3f3",
          "symbol": "circle"
         },
         "mode": "markers",
         "name": "ABT-869",
         "showlegend": true,
         "type": "scatter",
         "x": [
          0.7199757165530255,
          -0.02554737186311944
         ],
         "xaxis": "x",
         "y": [
          3.129735804975561,
          0.06694097924266408
         ],
         "yaxis": "y"
        },
        {
         "customdata": [
          [
           "TP53",
           279,
           "BIX02189"
          ],
          [
           "PIK3CA",
           279,
           "BIX02189"
          ]
         ],
         "hoverlabel": {
          "namelength": 0
         },
         "hovertemplate": "Drug_Name=%{customdata[2]}<br>SE=%{x}<br>-logP=%{y}<br>F1=%{customdata[0]}<br>F2=%{customdata[1]}",
         "legendgroup": "BIX02189",
         "marker": {
          "color": "#FF6692",
          "symbol": "circle"
         },
         "mode": "markers",
         "name": "BIX02189",
         "showlegend": true,
         "type": "scatter",
         "x": [
          -0.2240518566344098,
          0.05781691801883225
         ],
         "xaxis": "x",
         "y": [
          0.6213699837299218,
          0.16121790571032246
         ],
         "yaxis": "y"
        },
        {
         "customdata": [
          [
           "TP53",
           281,
           "CH5424802"
          ],
          [
           "PIK3CA",
           281,
           "CH5424802"
          ]
         ],
         "hoverlabel": {
          "namelength": 0
         },
         "hovertemplate": "Drug_Name=%{customdata[2]}<br>SE=%{x}<br>-logP=%{y}<br>F1=%{customdata[0]}<br>F2=%{customdata[1]}",
         "legendgroup": "CH5424802",
         "marker": {
          "color": "#B6E880",
          "symbol": "circle"
         },
         "mode": "markers",
         "name": "CH5424802",
         "showlegend": true,
         "type": "scatter",
         "x": [
          -0.4140814019192233,
          0.3749728632252376
         ],
         "xaxis": "x",
         "y": [
          1.3734439016023858,
          1.4722211763938617
         ],
         "yaxis": "y"
        },
        {
         "customdata": [
          [
           "TP53",
           282,
           "EKB-569"
          ],
          [
           "PIK3CA",
           282,
           "EKB-569"
          ]
         ],
         "hoverlabel": {
          "namelength": 0
         },
         "hovertemplate": "Drug_Name=%{customdata[2]}<br>SE=%{x}<br>-logP=%{y}<br>F1=%{customdata[0]}<br>F2=%{customdata[1]}",
         "legendgroup": "EKB-569",
         "marker": {
          "color": "#FF97FF",
          "symbol": "circle"
         },
         "mode": "markers",
         "name": "EKB-569",
         "showlegend": true,
         "type": "scatter",
         "x": [
          -0.2048242710365078,
          -0.14417454029621854
         ],
         "xaxis": "x",
         "y": [
          0.5550301852680145,
          0.4365837803343101
         ],
         "yaxis": "y"
        },
        {
         "customdata": [
          [
           "TP53",
           283,
           "GSK2126458"
          ],
          [
           "PIK3CA",
           283,
           "GSK2126458"
          ]
         ],
         "hoverlabel": {
          "namelength": 0
         },
         "hovertemplate": "Drug_Name=%{customdata[2]}<br>SE=%{x}<br>-logP=%{y}<br>F1=%{customdata[0]}<br>F2=%{customdata[1]}",
         "legendgroup": "GSK2126458",
         "marker": {
          "color": "#FECB52",
          "symbol": "circle"
         },
         "mode": "markers",
         "name": "GSK2126458",
         "showlegend": true,
         "type": "scatter",
         "x": [
          -0.17257997183276094,
          -0.5490519684351627
         ],
         "xaxis": "x",
         "y": [
          0.4526297566619991,
          2.5812707570358446
         ],
         "yaxis": "y"
        },
        {
         "customdata": [
          [
           "TP53",
           286,
           "KIN001-236"
          ],
          [
           "PIK3CA",
           286,
           "KIN001-236"
          ]
         ],
         "hoverlabel": {
          "namelength": 0
         },
         "hovertemplate": "Drug_Name=%{customdata[2]}<br>SE=%{x}<br>-logP=%{y}<br>F1=%{customdata[0]}<br>F2=%{customdata[1]}",
         "legendgroup": "KIN001-236",
         "marker": {
          "color": "#636efa",
          "symbol": "circle"
         },
         "mode": "markers",
         "name": "KIN001-236",
         "showlegend": true,
         "type": "scatter",
         "x": [
          0.4134678358702568,
          -0.17536883544556206
         ],
         "xaxis": "x",
         "y": [
          1.3764897449055122,
          0.5647233958732769
         ],
         "yaxis": "y"
        },
        {
         "customdata": [
          [
           "TP53",
           287,
           "KIN001-244"
          ],
          [
           "PIK3CA",
           287,
           "KIN001-244"
          ]
         ],
         "hoverlabel": {
          "namelength": 0
         },
         "hovertemplate": "Drug_Name=%{customdata[2]}<br>SE=%{x}<br>-logP=%{y}<br>F1=%{customdata[0]}<br>F2=%{customdata[1]}",
         "legendgroup": "KIN001-244",
         "marker": {
          "color": "#EF553B",
          "symbol": "circle"
         },
         "mode": "markers",
         "name": "KIN001-244",
         "showlegend": true,
         "type": "scatter",
         "x": [
          -0.18769195169997907,
          0.18717523428258706
         ],
         "xaxis": "x",
         "y": [
          0.5017941903582194,
          0.6112476611588354
         ],
         "yaxis": "y"
        },
        {
         "customdata": [
          [
           "TP53",
           288,
           "KIN001-055"
          ],
          [
           "PIK3CA",
           288,
           "KIN001-055"
          ]
         ],
         "hoverlabel": {
          "namelength": 0
         },
         "hovertemplate": "Drug_Name=%{customdata[2]}<br>SE=%{x}<br>-logP=%{y}<br>F1=%{customdata[0]}<br>F2=%{customdata[1]}",
         "legendgroup": "KIN001-055",
         "marker": {
          "color": "#00cc96",
          "symbol": "circle"
         },
         "mode": "markers",
         "name": "KIN001-055",
         "showlegend": true,
         "type": "scatter",
         "x": [
          0.06571943436496852,
          0.3940742866974382
         ],
         "xaxis": "x",
         "y": [
          0.1547376572386145,
          1.6254210824553104
         ],
         "yaxis": "y"
        },
        {
         "customdata": [
          [
           "TP53",
           29,
           "AZ628"
          ],
          [
           "PIK3CA",
           29,
           "AZ628"
          ]
         ],
         "hoverlabel": {
          "namelength": 0
         },
         "hovertemplate": "Drug_Name=%{customdata[2]}<br>SE=%{x}<br>-logP=%{y}<br>F1=%{customdata[0]}<br>F2=%{customdata[1]}",
         "legendgroup": "AZ628",
         "marker": {
          "color": "#ab63fa",
          "symbol": "circle"
         },
         "mode": "markers",
         "name": "AZ628",
         "showlegend": true,
         "type": "scatter",
         "x": [
          0.8766370342623628,
          0.6928508547306641
         ],
         "xaxis": "x",
         "y": [
          1.8263927424920439,
          1.2877827838406009
         ],
         "yaxis": "y"
        },
        {
         "customdata": [
          [
           "TP53",
           290,
           "KIN001-260"
          ],
          [
           "PIK3CA",
           290,
           "KIN001-260"
          ]
         ],
         "hoverlabel": {
          "namelength": 0
         },
         "hovertemplate": "Drug_Name=%{customdata[2]}<br>SE=%{x}<br>-logP=%{y}<br>F1=%{customdata[0]}<br>F2=%{customdata[1]}",
         "legendgroup": "KIN001-260",
         "marker": {
          "color": "#FFA15A",
          "symbol": "circle"
         },
         "mode": "markers",
         "name": "KIN001-260",
         "showlegend": true,
         "type": "scatter",
         "x": [
          0.2103171008976039,
          0.4348904312132988
         ],
         "xaxis": "x",
         "y": [
          0.5752937600762609,
          1.873809504149468
         ],
         "yaxis": "y"
        },
        {
         "customdata": [
          [
           "TP53",
           291,
           "KIN001-266"
          ],
          [
           "PIK3CA",
           291,
           "KIN001-266"
          ]
         ],
         "hoverlabel": {
          "namelength": 0
         },
         "hovertemplate": "Drug_Name=%{customdata[2]}<br>SE=%{x}<br>-logP=%{y}<br>F1=%{customdata[0]}<br>F2=%{customdata[1]}",
         "legendgroup": "KIN001-266",
         "marker": {
          "color": "#19d3f3",
          "symbol": "circle"
         },
         "mode": "markers",
         "name": "KIN001-266",
         "showlegend": true,
         "type": "scatter",
         "x": [
          0.15090634281648074,
          0.2195246253595004
         ],
         "xaxis": "x",
         "y": [
          0.3885406897883302,
          0.7446482528182142
         ],
         "yaxis": "y"
        },
        {
         "customdata": [
          [
           "TP53",
           292,
           "Masitinib"
          ],
          [
           "PIK3CA",
           292,
           "Masitinib"
          ]
         ],
         "hoverlabel": {
          "namelength": 0
         },
         "hovertemplate": "Drug_Name=%{customdata[2]}<br>SE=%{x}<br>-logP=%{y}<br>F1=%{customdata[0]}<br>F2=%{customdata[1]}",
         "legendgroup": "Masitinib",
         "marker": {
          "color": "#FF6692",
          "symbol": "circle"
         },
         "mode": "markers",
         "name": "Masitinib",
         "showlegend": true,
         "type": "scatter",
         "x": [
          0.3160325960441476,
          0.023280114599846188
         ],
         "xaxis": "x",
         "y": [
          0.9554372705684232,
          0.060826905287078
         ],
         "yaxis": "y"
        },
        {
         "customdata": [
          [
           "TP53",
           293,
           "MP470"
          ],
          [
           "PIK3CA",
           293,
           "MP470"
          ]
         ],
         "hoverlabel": {
          "namelength": 0
         },
         "hovertemplate": "Drug_Name=%{customdata[2]}<br>SE=%{x}<br>-logP=%{y}<br>F1=%{customdata[0]}<br>F2=%{customdata[1]}",
         "legendgroup": "MP470",
         "marker": {
          "color": "#B6E880",
          "symbol": "circle"
         },
         "mode": "markers",
         "name": "MP470",
         "showlegend": true,
         "type": "scatter",
         "x": [
          0.5562900559810467,
          -0.41405576974087627
         ],
         "xaxis": "x",
         "y": [
          2.098901503396221,
          1.6945129287927108
         ],
         "yaxis": "y"
        },
        {
         "customdata": [
          [
           "TP53",
           294,
           "MPS-1-IN-1"
          ],
          [
           "PIK3CA",
           294,
           "MPS-1-IN-1"
          ]
         ],
         "hoverlabel": {
          "namelength": 0
         },
         "hovertemplate": "Drug_Name=%{customdata[2]}<br>SE=%{x}<br>-logP=%{y}<br>F1=%{customdata[0]}<br>F2=%{customdata[1]}",
         "legendgroup": "MPS-1-IN-1",
         "marker": {
          "color": "#FF97FF",
          "symbol": "circle"
         },
         "mode": "markers",
         "name": "MPS-1-IN-1",
         "showlegend": true,
         "type": "scatter",
         "x": [
          0.08650815546513699,
          0.3720165304949079
         ],
         "xaxis": "x",
         "y": [
          0.20823791899066826,
          1.4982120074735144
         ],
         "yaxis": "y"
        },
        {
         "customdata": [
          [
           "TP53",
           295,
           "NVP-BHG712"
          ],
          [
           "PIK3CA",
           295,
           "NVP-BHG712"
          ]
         ],
         "hoverlabel": {
          "namelength": 0
         },
         "hovertemplate": "Drug_Name=%{customdata[2]}<br>SE=%{x}<br>-logP=%{y}<br>F1=%{customdata[0]}<br>F2=%{customdata[1]}",
         "legendgroup": "NVP-BHG712",
         "marker": {
          "color": "#FECB52",
          "symbol": "circle"
         },
         "mode": "markers",
         "name": "NVP-BHG712",
         "showlegend": true,
         "type": "scatter",
         "x": [
          0.26984670916505715,
          0.18702491305367813
         ],
         "xaxis": "x",
         "y": [
          0.7831433590286923,
          0.6106481165004102
         ],
         "yaxis": "y"
        },
        {
         "customdata": [
          [
           "TP53",
           298,
           "OSI-930"
          ],
          [
           "PIK3CA",
           298,
           "OSI-930"
          ]
         ],
         "hoverlabel": {
          "namelength": 0
         },
         "hovertemplate": "Drug_Name=%{customdata[2]}<br>SE=%{x}<br>-logP=%{y}<br>F1=%{customdata[0]}<br>F2=%{customdata[1]}",
         "legendgroup": "OSI-930",
         "marker": {
          "color": "#636efa",
          "symbol": "circle"
         },
         "mode": "markers",
         "name": "OSI-930",
         "showlegend": true,
         "type": "scatter",
         "x": [
          0.4253159504856191,
          -0.23812201584821424
         ],
         "xaxis": "x",
         "y": [
          1.425468378770636,
          0.8041044140301985
         ],
         "yaxis": "y"
        },
        {
         "customdata": [
          [
           "TP53",
           299,
           "OSI-027"
          ],
          [
           "PIK3CA",
           299,
           "OSI-027"
          ]
         ],
         "hoverlabel": {
          "namelength": 0
         },
         "hovertemplate": "Drug_Name=%{customdata[2]}<br>SE=%{x}<br>-logP=%{y}<br>F1=%{customdata[0]}<br>F2=%{customdata[1]}",
         "legendgroup": "OSI-027",
         "marker": {
          "color": "#EF553B",
          "symbol": "circle"
         },
         "mode": "markers",
         "name": "OSI-027",
         "showlegend": true,
         "type": "scatter",
         "x": [
          0.15563791343646682,
          -0.2793191940973186
         ],
         "xaxis": "x",
         "y": [
          0.4011821038698731,
          0.9879479184807672
         ],
         "yaxis": "y"
        },
        {
         "customdata": [
          [
           "TP53",
           3,
           "Rapamycin"
          ],
          [
           "PIK3CA",
           3,
           "Rapamycin"
          ]
         ],
         "hoverlabel": {
          "namelength": 0
         },
         "hovertemplate": "Drug_Name=%{customdata[2]}<br>SE=%{x}<br>-logP=%{y}<br>F1=%{customdata[0]}<br>F2=%{customdata[1]}",
         "legendgroup": "Rapamycin",
         "marker": {
          "color": "#00cc96",
          "symbol": "circle"
         },
         "mode": "markers",
         "name": "Rapamycin",
         "showlegend": true,
         "type": "scatter",
         "x": [
          0.4854231381775856,
          -0.0603566788979512
         ],
         "xaxis": "x",
         "y": [
          0.7956329377424388,
          0.07657821098053158
         ],
         "yaxis": "y"
        },
        {
         "customdata": [
          [
           "TP53",
           30,
           "Sorafenib"
          ],
          [
           "PIK3CA",
           30,
           "Sorafenib"
          ]
         ],
         "hoverlabel": {
          "namelength": 0
         },
         "hovertemplate": "Drug_Name=%{customdata[2]}<br>SE=%{x}<br>-logP=%{y}<br>F1=%{customdata[0]}<br>F2=%{customdata[1]}",
         "legendgroup": "Sorafenib",
         "marker": {
          "color": "#ab63fa",
          "symbol": "circle"
         },
         "mode": "markers",
         "name": "Sorafenib",
         "showlegend": true,
         "type": "scatter",
         "x": [
          0.5709576902286203,
          0.4232749329101763
         ],
         "xaxis": "x",
         "y": [
          0.9853852022011976,
          0.6683228800515372
         ],
         "yaxis": "y"
        },
        {
         "customdata": [
          [
           "TP53",
           300,
           "CX-5461"
          ],
          [
           "PIK3CA",
           300,
           "CX-5461"
          ]
         ],
         "hoverlabel": {
          "namelength": 0
         },
         "hovertemplate": "Drug_Name=%{customdata[2]}<br>SE=%{x}<br>-logP=%{y}<br>F1=%{customdata[0]}<br>F2=%{customdata[1]}",
         "legendgroup": "CX-5461",
         "marker": {
          "color": "#FFA15A",
          "symbol": "circle"
         },
         "mode": "markers",
         "name": "CX-5461",
         "showlegend": true,
         "type": "scatter",
         "x": [
          0.1863671933637881,
          0.20505106755851865
         ],
         "xaxis": "x",
         "y": [
          0.4975822360779205,
          0.6838793127540999
         ],
         "yaxis": "y"
        },
        {
         "customdata": [
          [
           "TP53",
           301,
           "PHA-793887"
          ],
          [
           "PIK3CA",
           301,
           "PHA-793887"
          ]
         ],
         "hoverlabel": {
          "namelength": 0
         },
         "hovertemplate": "Drug_Name=%{customdata[2]}<br>SE=%{x}<br>-logP=%{y}<br>F1=%{customdata[0]}<br>F2=%{customdata[1]}",
         "legendgroup": "PHA-793887",
         "marker": {
          "color": "#19d3f3",
          "symbol": "circle"
         },
         "mode": "markers",
         "name": "PHA-793887",
         "showlegend": true,
         "type": "scatter",
         "x": [
          -0.20987521991740266,
          0.2435773755440515
         ],
         "xaxis": "x",
         "y": [
          0.5716119224319882,
          0.8276291338268948
         ],
         "yaxis": "y"
        },
        {
         "customdata": [
          [
           "TP53",
           302,
           "PI-103"
          ],
          [
           "PIK3CA",
           302,
           "PI-103"
          ]
         ],
         "hoverlabel": {
          "namelength": 0
         },
         "hovertemplate": "Drug_Name=%{customdata[2]}<br>SE=%{x}<br>-logP=%{y}<br>F1=%{customdata[0]}<br>F2=%{customdata[1]}",
         "legendgroup": "PI-103",
         "marker": {
          "color": "#FF6692",
          "symbol": "circle"
         },
         "mode": "markers",
         "name": "PI-103",
         "showlegend": true,
         "type": "scatter",
         "x": [
          -0.07272178283168834,
          0.14170626403209444
         ],
         "xaxis": "x",
         "y": [
          0.1719084538143628,
          0.4278545841792872
         ],
         "yaxis": "y"
        },
        {
         "customdata": [
          [
           "TP53",
           303,
           "PIK-93"
          ],
          [
           "PIK3CA",
           303,
           "PIK-93"
          ]
         ],
         "hoverlabel": {
          "namelength": 0
         },
         "hovertemplate": "Drug_Name=%{customdata[2]}<br>SE=%{x}<br>-logP=%{y}<br>F1=%{customdata[0]}<br>F2=%{customdata[1]}",
         "legendgroup": "PIK-93",
         "marker": {
          "color": "#B6E880",
          "symbol": "circle"
         },
         "mode": "markers",
         "name": "PIK-93",
         "showlegend": true,
         "type": "scatter",
         "x": [
          -0.6104670105015879,
          -0.4634528581179856
         ],
         "xaxis": "x",
         "y": [
          2.4262998124121675,
          2.05796827464206
         ],
         "yaxis": "y"
        },
        {
         "customdata": [
          [
           "TP53",
           304,
           "SB52334"
          ],
          [
           "PIK3CA",
           304,
           "SB52334"
          ]
         ],
         "hoverlabel": {
          "namelength": 0
         },
         "hovertemplate": "Drug_Name=%{customdata[2]}<br>SE=%{x}<br>-logP=%{y}<br>F1=%{customdata[0]}<br>F2=%{customdata[1]}",
         "legendgroup": "SB52334",
         "marker": {
          "color": "#FF97FF",
          "symbol": "circle"
         },
         "mode": "markers",
         "name": "SB52334",
         "showlegend": true,
         "type": "scatter",
         "x": [
          -0.18417750064245525,
          -0.3966586317539437
         ],
         "xaxis": "x",
         "y": [
          0.4906423556900125,
          1.6406437936684093
         ],
         "yaxis": "y"
        },
        {
         "customdata": [
          [
           "TP53",
           305,
           "TPCA-1"
          ],
          [
           "PIK3CA",
           305,
           "TPCA-1"
          ]
         ],
         "hoverlabel": {
          "namelength": 0
         },
         "hovertemplate": "Drug_Name=%{customdata[2]}<br>SE=%{x}<br>-logP=%{y}<br>F1=%{customdata[0]}<br>F2=%{customdata[1]}",
         "legendgroup": "TPCA-1",
         "marker": {
          "color": "#FECB52",
          "symbol": "circle"
         },
         "mode": "markers",
         "name": "TPCA-1",
         "showlegend": true,
         "type": "scatter",
         "x": [
          -0.5481209584530626,
          -0.003045465513018061
         ],
         "xaxis": "x",
         "y": [
          2.062225430944925,
          0.007918586462759614
         ],
         "yaxis": "y"
        },
        {
         "customdata": [
          [
           "TP53",
           306,
           "TG101348"
          ],
          [
           "PIK3CA",
           306,
           "TG101348"
          ]
         ],
         "hoverlabel": {
          "namelength": 0
         },
         "hovertemplate": "Drug_Name=%{customdata[2]}<br>SE=%{x}<br>-logP=%{y}<br>F1=%{customdata[0]}<br>F2=%{customdata[1]}",
         "legendgroup": "TG101348",
         "marker": {
          "color": "#636efa",
          "symbol": "circle"
         },
         "mode": "markers",
         "name": "TG101348",
         "showlegend": true,
         "type": "scatter",
         "x": [
          -0.25689612352098506,
          0.27416961361609216
         ],
         "xaxis": "x",
         "y": [
          0.7331807343191268,
          0.9641794889575708
         ],
         "yaxis": "y"
        },
        {
         "customdata": [
          [
           "TP53",
           308,
           "XL-880"
          ],
          [
           "PIK3CA",
           308,
           "XL-880"
          ]
         ],
         "hoverlabel": {
          "namelength": 0
         },
         "hovertemplate": "Drug_Name=%{customdata[2]}<br>SE=%{x}<br>-logP=%{y}<br>F1=%{customdata[0]}<br>F2=%{customdata[1]}",
         "legendgroup": "XL-880",
         "marker": {
          "color": "#EF553B",
          "symbol": "circle"
         },
         "mode": "markers",
         "name": "XL-880",
         "showlegend": true,
         "type": "scatter",
         "x": [
          -0.4238948586420177,
          0.2211721067965924
         ],
         "xaxis": "x",
         "y": [
          1.4249278975755295,
          0.7516778921630423
         ],
         "yaxis": "y"
        },
        {
         "customdata": [
          [
           "TP53",
           309,
           "Y-39983"
          ],
          [
           "PIK3CA",
           309,
           "Y-39983"
          ]
         ],
         "hoverlabel": {
          "namelength": 0
         },
         "hovertemplate": "Drug_Name=%{customdata[2]}<br>SE=%{x}<br>-logP=%{y}<br>F1=%{customdata[0]}<br>F2=%{customdata[1]}",
         "legendgroup": "Y-39983",
         "marker": {
          "color": "#00cc96",
          "symbol": "circle"
         },
         "mode": "markers",
         "name": "Y-39983",
         "showlegend": true,
         "type": "scatter",
         "x": [
          -0.3231980715055488,
          0.49737004362194204
         ],
         "xaxis": "x",
         "y": [
          0.9879175608542732,
          2.288094773524296
         ],
         "yaxis": "y"
        },
        {
         "customdata": [
          [
           "TP53",
           310,
           "YM201636"
          ],
          [
           "PIK3CA",
           310,
           "YM201636"
          ]
         ],
         "hoverlabel": {
          "namelength": 0
         },
         "hovertemplate": "Drug_Name=%{customdata[2]}<br>SE=%{x}<br>-logP=%{y}<br>F1=%{customdata[0]}<br>F2=%{customdata[1]}",
         "legendgroup": "YM201636",
         "marker": {
          "color": "#ab63fa",
          "symbol": "circle"
         },
         "mode": "markers",
         "name": "YM201636",
         "showlegend": true,
         "type": "scatter",
         "x": [
          -0.3174837745884886,
          -0.15676481994072075
         ],
         "xaxis": "x",
         "y": [
          0.9651239197531956,
          0.4937103906742426
         ],
         "yaxis": "y"
        },
        {
         "customdata": [
          [
           "TP53",
           312,
           "AV-951"
          ],
          [
           "PIK3CA",
           312,
           "AV-951"
          ]
         ],
         "hoverlabel": {
          "namelength": 0
         },
         "hovertemplate": "Drug_Name=%{customdata[2]}<br>SE=%{x}<br>-logP=%{y}<br>F1=%{customdata[0]}<br>F2=%{customdata[1]}",
         "legendgroup": "AV-951",
         "marker": {
          "color": "#FFA15A",
          "symbol": "circle"
         },
         "mode": "markers",
         "name": "AV-951",
         "showlegend": true,
         "type": "scatter",
         "x": [
          0.43272036216744814,
          0.32244726663308626
         ],
         "xaxis": "x",
         "y": [
          1.4602354849825907,
          1.1960923028325705
         ],
         "yaxis": "y"
        },
        {
         "customdata": [
          [
           "PIK3CA",
           32,
           "VX-680"
          ]
         ],
         "hoverlabel": {
          "namelength": 0
         },
         "hovertemplate": "Drug_Name=%{customdata[2]}<br>SE=%{x}<br>-logP=%{y}<br>F1=%{customdata[0]}<br>F2=%{customdata[1]}",
         "legendgroup": "VX-680",
         "marker": {
          "color": "#19d3f3",
          "symbol": "circle"
         },
         "mode": "markers",
         "name": "VX-680",
         "showlegend": true,
         "type": "scatter",
         "x": [
          0.13875731793617224
         ],
         "xaxis": "x",
         "y": [
          0.17442145875601126
         ],
         "yaxis": "y"
        },
        {
         "customdata": [
          [
           "TP53",
           326,
           "GSK690693"
          ],
          [
           "PIK3CA",
           326,
           "GSK690693"
          ]
         ],
         "hoverlabel": {
          "namelength": 0
         },
         "hovertemplate": "Drug_Name=%{customdata[2]}<br>SE=%{x}<br>-logP=%{y}<br>F1=%{customdata[0]}<br>F2=%{customdata[1]}",
         "legendgroup": "GSK690693",
         "marker": {
          "color": "#FF6692",
          "symbol": "circle"
         },
         "mode": "markers",
         "name": "GSK690693",
         "showlegend": true,
         "type": "scatter",
         "x": [
          -0.18179115129312587,
          -0.7569435611756532
         ],
         "xaxis": "x",
         "y": [
          0.48127782822967,
          4.359075057751369
         ],
         "yaxis": "y"
        },
        {
         "customdata": [
          [
           "TP53",
           328,
           "SNX-2112"
          ],
          [
           "PIK3CA",
           328,
           "SNX-2112"
          ]
         ],
         "hoverlabel": {
          "namelength": 0
         },
         "hovertemplate": "Drug_Name=%{customdata[2]}<br>SE=%{x}<br>-logP=%{y}<br>F1=%{customdata[0]}<br>F2=%{customdata[1]}",
         "legendgroup": "SNX-2112",
         "marker": {
          "color": "#B6E880",
          "symbol": "circle"
         },
         "mode": "markers",
         "name": "SNX-2112",
         "showlegend": true,
         "type": "scatter",
         "x": [
          -0.09928862786839072,
          -0.14376625729682993
         ],
         "xaxis": "x",
         "y": [
          0.2422501909538261,
          0.44573803985355803
         ],
         "yaxis": "y"
        },
        {
         "customdata": [
          [
           "TP53",
           329,
           "QL-XI-92"
          ],
          [
           "PIK3CA",
           329,
           "QL-XI-92"
          ]
         ],
         "hoverlabel": {
          "namelength": 0
         },
         "hovertemplate": "Drug_Name=%{customdata[2]}<br>SE=%{x}<br>-logP=%{y}<br>F1=%{customdata[0]}<br>F2=%{customdata[1]}",
         "legendgroup": "QL-XI-92",
         "marker": {
          "color": "#FF97FF",
          "symbol": "circle"
         },
         "mode": "markers",
         "name": "QL-XI-92",
         "showlegend": true,
         "type": "scatter",
         "x": [
          0.3145011999402654,
          0.07215816934558031
         ],
         "xaxis": "x",
         "y": [
          0.9494060760244578,
          0.2003266408952676
         ],
         "yaxis": "y"
        },
        {
         "customdata": [
          [
           "TP53",
           330,
           "XMD13-2"
          ],
          [
           "PIK3CA",
           330,
           "XMD13-2"
          ]
         ],
         "hoverlabel": {
          "namelength": 0
         },
         "hovertemplate": "Drug_Name=%{customdata[2]}<br>SE=%{x}<br>-logP=%{y}<br>F1=%{customdata[0]}<br>F2=%{customdata[1]}",
         "legendgroup": "XMD13-2",
         "marker": {
          "color": "#FECB52",
          "symbol": "circle"
         },
         "mode": "markers",
         "name": "XMD13-2",
         "showlegend": true,
         "type": "scatter",
         "x": [
          -0.1307036552869441,
          -0.04417118232253363
         ],
         "xaxis": "x",
         "y": [
          0.3283537387338969,
          0.11846288924235035
         ],
         "yaxis": "y"
        },
        {
         "customdata": [
          [
           "TP53",
           331,
           "QL-X-138"
          ],
          [
           "PIK3CA",
           331,
           "QL-X-138"
          ]
         ],
         "hoverlabel": {
          "namelength": 0
         },
         "hovertemplate": "Drug_Name=%{customdata[2]}<br>SE=%{x}<br>-logP=%{y}<br>F1=%{customdata[0]}<br>F2=%{customdata[1]}",
         "legendgroup": "QL-X-138",
         "marker": {
          "color": "#636efa",
          "symbol": "circle"
         },
         "mode": "markers",
         "name": "QL-X-138",
         "showlegend": true,
         "type": "scatter",
         "x": [
          -0.09040687412882653,
          -0.2923934683535259
         ],
         "xaxis": "x",
         "y": [
          0.21775045123773729,
          1.0493230031677132
         ],
         "yaxis": "y"
        },
        {
         "customdata": [
          [
           "TP53",
           332,
           "XMD15-27"
          ],
          [
           "PIK3CA",
           332,
           "XMD15-27"
          ]
         ],
         "hoverlabel": {
          "namelength": 0
         },
         "hovertemplate": "Drug_Name=%{customdata[2]}<br>SE=%{x}<br>-logP=%{y}<br>F1=%{customdata[0]}<br>F2=%{customdata[1]}",
         "legendgroup": "XMD15-27",
         "marker": {
          "color": "#EF553B",
          "symbol": "circle"
         },
         "mode": "markers",
         "name": "XMD15-27",
         "showlegend": true,
         "type": "scatter",
         "x": [
          0.3691991459668675,
          0.08772838204728706
         ],
         "xaxis": "x",
         "y": [
          1.1741975429084237,
          0.24823261444354885
         ],
         "yaxis": "y"
        },
        {
         "customdata": [
          [
           "TP53",
           333,
           "T0901317"
          ],
          [
           "PIK3CA",
           333,
           "T0901317"
          ]
         ],
         "hoverlabel": {
          "namelength": 0
         },
         "hovertemplate": "Drug_Name=%{customdata[2]}<br>SE=%{x}<br>-logP=%{y}<br>F1=%{customdata[0]}<br>F2=%{customdata[1]}",
         "legendgroup": "T0901317",
         "marker": {
          "color": "#00cc96",
          "symbol": "circle"
         },
         "mode": "markers",
         "name": "T0901317",
         "showlegend": true,
         "type": "scatter",
         "x": [
          0.4174313674311538,
          -0.01420146466128758
         ],
         "xaxis": "x",
         "y": [
          1.3888654794570312,
          0.03668467279583811
         ],
         "yaxis": "y"
        },
        {
         "customdata": [
          [
           "TP53",
           34,
           "Imatinib"
          ],
          [
           "PIK3CA",
           34,
           "Imatinib"
          ]
         ],
         "hoverlabel": {
          "namelength": 0
         },
         "hovertemplate": "Drug_Name=%{customdata[2]}<br>SE=%{x}<br>-logP=%{y}<br>F1=%{customdata[0]}<br>F2=%{customdata[1]}",
         "legendgroup": "Imatinib",
         "marker": {
          "color": "#ab63fa",
          "symbol": "circle"
         },
         "mode": "markers",
         "name": "Imatinib",
         "showlegend": true,
         "type": "scatter",
         "x": [
          1.5201581463981857,
          1.0131077114803857
         ],
         "xaxis": "x",
         "y": [
          5.010132734769189,
          2.304051538620369
         ],
         "yaxis": "y"
        },
        {
         "customdata": [
          [
           "TP53",
           341,
           "EX-527"
          ],
          [
           "PIK3CA",
           341,
           "EX-527"
          ]
         ],
         "hoverlabel": {
          "namelength": 0
         },
         "hovertemplate": "Drug_Name=%{customdata[2]}<br>SE=%{x}<br>-logP=%{y}<br>F1=%{customdata[0]}<br>F2=%{customdata[1]}",
         "legendgroup": "EX-527",
         "marker": {
          "color": "#FFA15A",
          "symbol": "circle"
         },
         "mode": "markers",
         "name": "EX-527",
         "showlegend": true,
         "type": "scatter",
         "x": [
          0.3360529622486624,
          0.027268824023288105
         ],
         "xaxis": "x",
         "y": [
          1.0399628284386786,
          0.07314537270681752
         ],
         "yaxis": "y"
        },
        {
         "customdata": [
          [
           "TP53",
           344,
           "THZ-2-49"
          ],
          [
           "PIK3CA",
           344,
           "THZ-2-49"
          ]
         ],
         "hoverlabel": {
          "namelength": 0
         },
         "hovertemplate": "Drug_Name=%{customdata[2]}<br>SE=%{x}<br>-logP=%{y}<br>F1=%{customdata[0]}<br>F2=%{customdata[1]}",
         "legendgroup": "THZ-2-49",
         "marker": {
          "color": "#19d3f3",
          "symbol": "circle"
         },
         "mode": "markers",
         "name": "THZ-2-49",
         "showlegend": true,
         "type": "scatter",
         "x": [
          -0.5327176907131195,
          -0.009719546445641436
         ],
         "xaxis": "x",
         "y": [
          1.9769696675315376,
          0.025490727248182018
         ],
         "yaxis": "y"
        },
        {
         "customdata": [
          [
           "TP53",
           345,
           "KIN001-270"
          ],
          [
           "PIK3CA",
           345,
           "KIN001-270"
          ]
         ],
         "hoverlabel": {
          "namelength": 0
         },
         "hovertemplate": "Drug_Name=%{customdata[2]}<br>SE=%{x}<br>-logP=%{y}<br>F1=%{customdata[0]}<br>F2=%{customdata[1]}",
         "legendgroup": "KIN001-270",
         "marker": {
          "color": "#FF6692",
          "symbol": "circle"
         },
         "mode": "markers",
         "name": "KIN001-270",
         "showlegend": true,
         "type": "scatter",
         "x": [
          0.12637745657410182,
          0.310755289676477
         ],
         "xaxis": "x",
         "y": [
          0.3172178244143375,
          1.1697526413912178
         ],
         "yaxis": "y"
        },
        {
         "customdata": [
          [
           "TP53",
           346,
           "THZ-2-102-1"
          ],
          [
           "PIK3CA",
           346,
           "THZ-2-102-1"
          ]
         ],
         "hoverlabel": {
          "namelength": 0
         },
         "hovertemplate": "Drug_Name=%{customdata[2]}<br>SE=%{x}<br>-logP=%{y}<br>F1=%{customdata[0]}<br>F2=%{customdata[1]}",
         "legendgroup": "THZ-2-102-1",
         "marker": {
          "color": "#B6E880",
          "symbol": "circle"
         },
         "mode": "markers",
         "name": "THZ-2-102-1",
         "showlegend": true,
         "type": "scatter",
         "x": [
          -0.8473507672029894,
          0.4249409495450705
         ],
         "xaxis": "x",
         "y": [
          4.114946521775595,
          1.81167910002297
         ],
         "yaxis": "y"
        },
        {
         "customdata": [
          [
           "TP53",
           35,
           "NVP-TAE684"
          ],
          [
           "PIK3CA",
           35,
           "NVP-TAE684"
          ]
         ],
         "hoverlabel": {
          "namelength": 0
         },
         "hovertemplate": "Drug_Name=%{customdata[2]}<br>SE=%{x}<br>-logP=%{y}<br>F1=%{customdata[0]}<br>F2=%{customdata[1]}",
         "legendgroup": "NVP-TAE684",
         "marker": {
          "color": "#FF97FF",
          "symbol": "circle"
         },
         "mode": "markers",
         "name": "NVP-TAE684",
         "showlegend": true,
         "type": "scatter",
         "x": [
          0.5966112181954762,
          0.755145531607577
         ],
         "xaxis": "x",
         "y": [
          1.0457784218999495,
          1.4583726356334918
         ],
         "yaxis": "y"
        },
        {
         "customdata": [
          [
           "TP53",
           37,
           "Crizotinib"
          ],
          [
           "PIK3CA",
           37,
           "Crizotinib"
          ]
         ],
         "hoverlabel": {
          "namelength": 0
         },
         "hovertemplate": "Drug_Name=%{customdata[2]}<br>SE=%{x}<br>-logP=%{y}<br>F1=%{customdata[0]}<br>F2=%{customdata[1]}",
         "legendgroup": "Crizotinib",
         "marker": {
          "color": "#FECB52",
          "symbol": "circle"
         },
         "mode": "markers",
         "name": "Crizotinib",
         "showlegend": true,
         "type": "scatter",
         "x": [
          0.43227331146124,
          0.29105488177083344
         ],
         "xaxis": "x",
         "y": [
          0.6862306858306952,
          0.42447793221761615
         ],
         "yaxis": "y"
        },
        {
         "customdata": [
          [
           "TP53",
           38,
           "AZD-0530"
          ],
          [
           "PIK3CA",
           38,
           "AZD-0530"
          ]
         ],
         "hoverlabel": {
          "namelength": 0
         },
         "hovertemplate": "Drug_Name=%{customdata[2]}<br>SE=%{x}<br>-logP=%{y}<br>F1=%{customdata[0]}<br>F2=%{customdata[1]}",
         "legendgroup": "AZD-0530",
         "marker": {
          "color": "#636efa",
          "symbol": "circle"
         },
         "mode": "markers",
         "name": "AZD-0530",
         "showlegend": true,
         "type": "scatter",
         "x": [
          0.6931151492925605,
          0.6059213284367199
         ],
         "xaxis": "x",
         "y": [
          1.28848251713315,
          1.068110862539814
         ],
         "yaxis": "y"
        },
        {
         "customdata": [
          [
           "PIK3CA",
           41,
           "S-Trityl-L-cysteine"
          ]
         ],
         "hoverlabel": {
          "namelength": 0
         },
         "hovertemplate": "Drug_Name=%{customdata[2]}<br>SE=%{x}<br>-logP=%{y}<br>F1=%{customdata[0]}<br>F2=%{customdata[1]}",
         "legendgroup": "S-Trityl-L-cysteine",
         "marker": {
          "color": "#EF553B",
          "symbol": "circle"
         },
         "mode": "markers",
         "name": "S-Trityl-L-cysteine",
         "showlegend": true,
         "type": "scatter",
         "x": [
          0.6152854235297491
         ],
         "xaxis": "x",
         "y": [
          1.0203957861501445
         ],
         "yaxis": "y"
        },
        {
         "customdata": [
          [
           "PIK3CA",
           45,
           "Z-LLNle-CHO"
          ]
         ],
         "hoverlabel": {
          "namelength": 0
         },
         "hovertemplate": "Drug_Name=%{customdata[2]}<br>SE=%{x}<br>-logP=%{y}<br>F1=%{customdata[0]}<br>F2=%{customdata[1]}",
         "legendgroup": "Z-LLNle-CHO",
         "marker": {
          "color": "#00cc96",
          "symbol": "circle"
         },
         "mode": "markers",
         "name": "Z-LLNle-CHO",
         "showlegend": true,
         "type": "scatter",
         "x": [
          1.1280858528660012
         ],
         "xaxis": "x",
         "y": [
          2.5881863179262625
         ],
         "yaxis": "y"
        },
        {
         "customdata": [
          [
           "PIK3CA",
           5,
           "Sunitinib"
          ]
         ],
         "hoverlabel": {
          "namelength": 0
         },
         "hovertemplate": "Drug_Name=%{customdata[2]}<br>SE=%{x}<br>-logP=%{y}<br>F1=%{customdata[0]}<br>F2=%{customdata[1]}",
         "legendgroup": "Sunitinib",
         "marker": {
          "color": "#ab63fa",
          "symbol": "circle"
         },
         "mode": "markers",
         "name": "Sunitinib",
         "showlegend": true,
         "type": "scatter",
         "x": [
          0.8068557545309262
         ],
         "xaxis": "x",
         "y": [
          1.5024296935506842
         ],
         "yaxis": "y"
        },
        {
         "customdata": [
          [
           "PIK3CA",
           51,
           "Dasatinib"
          ]
         ],
         "hoverlabel": {
          "namelength": 0
         },
         "hovertemplate": "Drug_Name=%{customdata[2]}<br>SE=%{x}<br>-logP=%{y}<br>F1=%{customdata[0]}<br>F2=%{customdata[1]}",
         "legendgroup": "Dasatinib",
         "marker": {
          "color": "#FFA15A",
          "symbol": "circle"
         },
         "mode": "markers",
         "name": "Dasatinib",
         "showlegend": true,
         "type": "scatter",
         "x": [
          0.17624153394714392
         ],
         "xaxis": "x",
         "y": [
          0.22638286568053656
         ],
         "yaxis": "y"
        },
        {
         "customdata": [
          [
           "PIK3CA",
           52,
           "GNF-2"
          ]
         ],
         "hoverlabel": {
          "namelength": 0
         },
         "hovertemplate": "Drug_Name=%{customdata[2]}<br>SE=%{x}<br>-logP=%{y}<br>F1=%{customdata[0]}<br>F2=%{customdata[1]}",
         "legendgroup": "GNF-2",
         "marker": {
          "color": "#19d3f3",
          "symbol": "circle"
         },
         "mode": "markers",
         "name": "GNF-2",
         "showlegend": true,
         "type": "scatter",
         "x": [
          0.3717916510111928
         ],
         "xaxis": "x",
         "y": [
          0.5346580993555407
         ],
         "yaxis": "y"
        },
        {
         "customdata": [
          [
           "PIK3CA",
           53,
           "CGP-60474"
          ]
         ],
         "hoverlabel": {
          "namelength": 0
         },
         "hovertemplate": "Drug_Name=%{customdata[2]}<br>SE=%{x}<br>-logP=%{y}<br>F1=%{customdata[0]}<br>F2=%{customdata[1]}",
         "legendgroup": "CGP-60474",
         "marker": {
          "color": "#FF6692",
          "symbol": "circle"
         },
         "mode": "markers",
         "name": "CGP-60474",
         "showlegend": true,
         "type": "scatter",
         "x": [
          1.0486771244404585
         ],
         "xaxis": "x",
         "y": [
          2.2796536402626644
         ],
         "yaxis": "y"
        },
        {
         "customdata": [
          [
           "PIK3CA",
           54,
           "CGP-082996"
          ]
         ],
         "hoverlabel": {
          "namelength": 0
         },
         "hovertemplate": "Drug_Name=%{customdata[2]}<br>SE=%{x}<br>-logP=%{y}<br>F1=%{customdata[0]}<br>F2=%{customdata[1]}",
         "legendgroup": "CGP-082996",
         "marker": {
          "color": "#B6E880",
          "symbol": "circle"
         },
         "mode": "markers",
         "name": "CGP-082996",
         "showlegend": true,
         "type": "scatter",
         "x": [
          0.4051836390990455
         ],
         "xaxis": "x",
         "y": [
          0.594071207132379
         ],
         "yaxis": "y"
        },
        {
         "customdata": [
          [
           "PIK3CA",
           55,
           "A-770041"
          ]
         ],
         "hoverlabel": {
          "namelength": 0
         },
         "hovertemplate": "Drug_Name=%{customdata[2]}<br>SE=%{x}<br>-logP=%{y}<br>F1=%{customdata[0]}<br>F2=%{customdata[1]}",
         "legendgroup": "A-770041",
         "marker": {
          "color": "#FF97FF",
          "symbol": "circle"
         },
         "mode": "markers",
         "name": "A-770041",
         "showlegend": true,
         "type": "scatter",
         "x": [
          0.4612676581783433
         ],
         "xaxis": "x",
         "y": [
          0.6987304609096326
         ],
         "yaxis": "y"
        },
        {
         "customdata": [
          [
           "PIK3CA",
           56,
           "WH-4-023"
          ]
         ],
         "hoverlabel": {
          "namelength": 0
         },
         "hovertemplate": "Drug_Name=%{customdata[2]}<br>SE=%{x}<br>-logP=%{y}<br>F1=%{customdata[0]}<br>F2=%{customdata[1]}",
         "legendgroup": "WH-4-023",
         "marker": {
          "color": "#FECB52",
          "symbol": "circle"
         },
         "mode": "markers",
         "name": "WH-4-023",
         "showlegend": true,
         "type": "scatter",
         "x": [
          0.5143889198164415
         ],
         "xaxis": "x",
         "y": [
          0.8037760416978683
         ],
         "yaxis": "y"
        },
        {
         "customdata": [
          [
           "PIK3CA",
           59,
           "WZ-1-84"
          ]
         ],
         "hoverlabel": {
          "namelength": 0
         },
         "hovertemplate": "Drug_Name=%{customdata[2]}<br>SE=%{x}<br>-logP=%{y}<br>F1=%{customdata[0]}<br>F2=%{customdata[1]}",
         "legendgroup": "WZ-1-84",
         "marker": {
          "color": "#636efa",
          "symbol": "circle"
         },
         "mode": "markers",
         "name": "WZ-1-84",
         "showlegend": true,
         "type": "scatter",
         "x": [
          -0.6193844699440596
         ],
         "xaxis": "x",
         "y": [
          1.0296987560936124
         ],
         "yaxis": "y"
        },
        {
         "customdata": [
          [
           "TP53",
           6,
           "PHA-665752"
          ],
          [
           "PIK3CA",
           6,
           "PHA-665752"
          ]
         ],
         "hoverlabel": {
          "namelength": 0
         },
         "hovertemplate": "Drug_Name=%{customdata[2]}<br>SE=%{x}<br>-logP=%{y}<br>F1=%{customdata[0]}<br>F2=%{customdata[1]}",
         "legendgroup": "PHA-665752",
         "marker": {
          "color": "#EF553B",
          "symbol": "circle"
         },
         "mode": "markers",
         "name": "PHA-665752",
         "showlegend": true,
         "type": "scatter",
         "x": [
          1.187166361699289,
          0.5610406450561112
         ],
         "xaxis": "x",
         "y": [
          3.035774100786577,
          0.962480814272858
         ],
         "yaxis": "y"
        },
        {
         "customdata": [
          [
           "PIK3CA",
           60,
           "BI-2536"
          ]
         ],
         "hoverlabel": {
          "namelength": 0
         },
         "hovertemplate": "Drug_Name=%{customdata[2]}<br>SE=%{x}<br>-logP=%{y}<br>F1=%{customdata[0]}<br>F2=%{customdata[1]}",
         "legendgroup": "BI-2536",
         "marker": {
          "color": "#00cc96",
          "symbol": "circle"
         },
         "mode": "markers",
         "name": "BI-2536",
         "showlegend": true,
         "type": "scatter",
         "x": [
          0.014663281042141424
         ],
         "xaxis": "x",
         "y": [
          0.01715607302803989
         ],
         "yaxis": "y"
        },
        {
         "customdata": [
          [
           "PIK3CA",
           63,
           "BMS-509744"
          ]
         ],
         "hoverlabel": {
          "namelength": 0
         },
         "hovertemplate": "Drug_Name=%{customdata[2]}<br>SE=%{x}<br>-logP=%{y}<br>F1=%{customdata[0]}<br>F2=%{customdata[1]}",
         "legendgroup": "BMS-509744",
         "marker": {
          "color": "#ab63fa",
          "symbol": "circle"
         },
         "mode": "markers",
         "name": "BMS-509744",
         "showlegend": true,
         "type": "scatter",
         "x": [
          0.380515395759108
         ],
         "xaxis": "x",
         "y": [
          0.5499766609033654
         ],
         "yaxis": "y"
        },
        {
         "customdata": [
          [
           "PIK3CA",
           64,
           "CMK"
          ]
         ],
         "hoverlabel": {
          "namelength": 0
         },
         "hovertemplate": "Drug_Name=%{customdata[2]}<br>SE=%{x}<br>-logP=%{y}<br>F1=%{customdata[0]}<br>F2=%{customdata[1]}",
         "legendgroup": "CMK",
         "marker": {
          "color": "#FFA15A",
          "symbol": "circle"
         },
         "mode": "markers",
         "name": "CMK",
         "showlegend": true,
         "type": "scatter",
         "x": [
          0.6647505190930162
         ],
         "xaxis": "x",
         "y": [
          1.135437600088685
         ],
         "yaxis": "y"
        },
        {
         "customdata": [
          [
           "TP53",
           71,
           "Pyrimethamine"
          ],
          [
           "PIK3CA",
           71,
           "Pyrimethamine"
          ]
         ],
         "hoverlabel": {
          "namelength": 0
         },
         "hovertemplate": "Drug_Name=%{customdata[2]}<br>SE=%{x}<br>-logP=%{y}<br>F1=%{customdata[0]}<br>F2=%{customdata[1]}",
         "legendgroup": "Pyrimethamine",
         "marker": {
          "color": "#19d3f3",
          "symbol": "circle"
         },
         "mode": "markers",
         "name": "Pyrimethamine",
         "showlegend": true,
         "type": "scatter",
         "x": [
          0.49668017885963106,
          0.9666100174314766
         ],
         "xaxis": "x",
         "y": [
          0.8196199205877773,
          2.1328866976840217
         ],
         "yaxis": "y"
        },
        {
         "customdata": [
          [
           "PIK3CA",
           83,
           "JW-7-52-1"
          ]
         ],
         "hoverlabel": {
          "namelength": 0
         },
         "hovertemplate": "Drug_Name=%{customdata[2]}<br>SE=%{x}<br>-logP=%{y}<br>F1=%{customdata[0]}<br>F2=%{customdata[1]}",
         "legendgroup": "JW-7-52-1",
         "marker": {
          "color": "#FF6692",
          "symbol": "circle"
         },
         "mode": "markers",
         "name": "JW-7-52-1",
         "showlegend": true,
         "type": "scatter",
         "x": [
          0.5020362209517462
         ],
         "xaxis": "x",
         "y": [
          0.7788177188135955
         ],
         "yaxis": "y"
        },
        {
         "customdata": [
          [
           "PIK3CA",
           86,
           "A-443654"
          ]
         ],
         "hoverlabel": {
          "namelength": 0
         },
         "hovertemplate": "Drug_Name=%{customdata[2]}<br>SE=%{x}<br>-logP=%{y}<br>F1=%{customdata[0]}<br>F2=%{customdata[1]}",
         "legendgroup": "A-443654",
         "marker": {
          "color": "#B6E880",
          "symbol": "circle"
         },
         "mode": "markers",
         "name": "A-443654",
         "showlegend": true,
         "type": "scatter",
         "x": [
          -0.7521584199480401
         ],
         "xaxis": "x",
         "y": [
          1.3543788782883603
         ],
         "yaxis": "y"
        },
        {
         "customdata": [
          [
           "PIK3CA",
           87,
           "GW843682X"
          ]
         ],
         "hoverlabel": {
          "namelength": 0
         },
         "hovertemplate": "Drug_Name=%{customdata[2]}<br>SE=%{x}<br>-logP=%{y}<br>F1=%{customdata[0]}<br>F2=%{customdata[1]}",
         "legendgroup": "GW843682X",
         "marker": {
          "color": "#FF97FF",
          "symbol": "circle"
         },
         "mode": "markers",
         "name": "GW843682X",
         "showlegend": true,
         "type": "scatter",
         "x": [
          0.17848913014866966
         ],
         "xaxis": "x",
         "y": [
          0.22956731060361255
         ],
         "yaxis": "y"
        },
        {
         "customdata": [
          [
           "TP53",
           88,
           "MS-275"
          ],
          [
           "PIK3CA",
           88,
           "MS-275"
          ]
         ],
         "hoverlabel": {
          "namelength": 0
         },
         "hovertemplate": "Drug_Name=%{customdata[2]}<br>SE=%{x}<br>-logP=%{y}<br>F1=%{customdata[0]}<br>F2=%{customdata[1]}",
         "legendgroup": "MS-275",
         "marker": {
          "color": "#FECB52",
          "symbol": "circle"
         },
         "mode": "markers",
         "name": "MS-275",
         "showlegend": true,
         "type": "scatter",
         "x": [
          -0.2071119551121688,
          0.06152100006686927
         ],
         "xaxis": "x",
         "y": [
          0.2871793592060117,
          0.07811075127988851
         ],
         "yaxis": "y"
        },
        {
         "customdata": [
          [
           "TP53",
           89,
           "Parthenolide"
          ],
          [
           "PIK3CA",
           89,
           "Parthenolide"
          ]
         ],
         "hoverlabel": {
          "namelength": 0
         },
         "hovertemplate": "Drug_Name=%{customdata[2]}<br>SE=%{x}<br>-logP=%{y}<br>F1=%{customdata[0]}<br>F2=%{customdata[1]}",
         "legendgroup": "Parthenolide",
         "marker": {
          "color": "#636efa",
          "symbol": "circle"
         },
         "mode": "markers",
         "name": "Parthenolide",
         "showlegend": true,
         "type": "scatter",
         "x": [
          0.698118456533709,
          0.3873060314819418
         ],
         "xaxis": "x",
         "y": [
          1.3017667705773128,
          0.5984617133838674
         ],
         "yaxis": "y"
        },
        {
         "customdata": [
          [
           "TP53",
           9,
           "MG-132"
          ],
          [
           "PIK3CA",
           9,
           "MG-132"
          ]
         ],
         "hoverlabel": {
          "namelength": 0
         },
         "hovertemplate": "Drug_Name=%{customdata[2]}<br>SE=%{x}<br>-logP=%{y}<br>F1=%{customdata[0]}<br>F2=%{customdata[1]}",
         "legendgroup": "MG-132",
         "marker": {
          "color": "#EF553B",
          "symbol": "circle"
         },
         "mode": "markers",
         "name": "MG-132",
         "showlegend": true,
         "type": "scatter",
         "x": [
          0.4550688669090628,
          -0.011289631906718368
         ],
         "xaxis": "x",
         "y": [
          0.7323845918195663,
          0.013901812511683265
         ],
         "yaxis": "y"
        },
        {
         "customdata": [
          [
           "TP53",
           91,
           "KIN001-135"
          ],
          [
           "PIK3CA",
           91,
           "KIN001-135"
          ]
         ],
         "hoverlabel": {
          "namelength": 0
         },
         "hovertemplate": "Drug_Name=%{customdata[2]}<br>SE=%{x}<br>-logP=%{y}<br>F1=%{customdata[0]}<br>F2=%{customdata[1]}",
         "legendgroup": "KIN001-135",
         "marker": {
          "color": "#00cc96",
          "symbol": "circle"
         },
         "mode": "markers",
         "name": "KIN001-135",
         "showlegend": true,
         "type": "scatter",
         "x": [
          -0.19781678465609207,
          0.22447632213832971
         ],
         "xaxis": "x",
         "y": [
          0.2727584538881529,
          0.3145291723184413
         ],
         "yaxis": "y"
        },
        {
         "customdata": [
          [
           "TP53",
           94,
           "TGX221"
          ],
          [
           "PIK3CA",
           94,
           "TGX221"
          ]
         ],
         "hoverlabel": {
          "namelength": 0
         },
         "hovertemplate": "Drug_Name=%{customdata[2]}<br>SE=%{x}<br>-logP=%{y}<br>F1=%{customdata[0]}<br>F2=%{customdata[1]}",
         "legendgroup": "TGX221",
         "marker": {
          "color": "#ab63fa",
          "symbol": "circle"
         },
         "mode": "markers",
         "name": "TGX221",
         "showlegend": true,
         "type": "scatter",
         "x": [
          -0.19693412818181816,
          0.6091878482492022
         ],
         "xaxis": "x",
         "y": [
          0.2713969602739342,
          1.0759994282997711
         ],
         "yaxis": "y"
        }
       ],
       "layout": {
        "legend": {
         "title": {
          "text": "Drug_Name"
         },
         "tracegroupgap": 0
        },
        "margin": {
         "t": 60
        },
        "template": {
         "data": {
          "bar": [
           {
            "error_x": {
             "color": "#2a3f5f"
            },
            "error_y": {
             "color": "#2a3f5f"
            },
            "marker": {
             "line": {
              "color": "#E5ECF6",
              "width": 0.5
             }
            },
            "type": "bar"
           }
          ],
          "barpolar": [
           {
            "marker": {
             "line": {
              "color": "#E5ECF6",
              "width": 0.5
             }
            },
            "type": "barpolar"
           }
          ],
          "carpet": [
           {
            "aaxis": {
             "endlinecolor": "#2a3f5f",
             "gridcolor": "white",
             "linecolor": "white",
             "minorgridcolor": "white",
             "startlinecolor": "#2a3f5f"
            },
            "baxis": {
             "endlinecolor": "#2a3f5f",
             "gridcolor": "white",
             "linecolor": "white",
             "minorgridcolor": "white",
             "startlinecolor": "#2a3f5f"
            },
            "type": "carpet"
           }
          ],
          "choropleth": [
           {
            "colorbar": {
             "outlinewidth": 0,
             "ticks": ""
            },
            "type": "choropleth"
           }
          ],
          "contour": [
           {
            "colorbar": {
             "outlinewidth": 0,
             "ticks": ""
            },
            "colorscale": [
             [
              0,
              "#0d0887"
             ],
             [
              0.1111111111111111,
              "#46039f"
             ],
             [
              0.2222222222222222,
              "#7201a8"
             ],
             [
              0.3333333333333333,
              "#9c179e"
             ],
             [
              0.4444444444444444,
              "#bd3786"
             ],
             [
              0.5555555555555556,
              "#d8576b"
             ],
             [
              0.6666666666666666,
              "#ed7953"
             ],
             [
              0.7777777777777778,
              "#fb9f3a"
             ],
             [
              0.8888888888888888,
              "#fdca26"
             ],
             [
              1,
              "#f0f921"
             ]
            ],
            "type": "contour"
           }
          ],
          "contourcarpet": [
           {
            "colorbar": {
             "outlinewidth": 0,
             "ticks": ""
            },
            "type": "contourcarpet"
           }
          ],
          "heatmap": [
           {
            "colorbar": {
             "outlinewidth": 0,
             "ticks": ""
            },
            "colorscale": [
             [
              0,
              "#0d0887"
             ],
             [
              0.1111111111111111,
              "#46039f"
             ],
             [
              0.2222222222222222,
              "#7201a8"
             ],
             [
              0.3333333333333333,
              "#9c179e"
             ],
             [
              0.4444444444444444,
              "#bd3786"
             ],
             [
              0.5555555555555556,
              "#d8576b"
             ],
             [
              0.6666666666666666,
              "#ed7953"
             ],
             [
              0.7777777777777778,
              "#fb9f3a"
             ],
             [
              0.8888888888888888,
              "#fdca26"
             ],
             [
              1,
              "#f0f921"
             ]
            ],
            "type": "heatmap"
           }
          ],
          "heatmapgl": [
           {
            "colorbar": {
             "outlinewidth": 0,
             "ticks": ""
            },
            "colorscale": [
             [
              0,
              "#0d0887"
             ],
             [
              0.1111111111111111,
              "#46039f"
             ],
             [
              0.2222222222222222,
              "#7201a8"
             ],
             [
              0.3333333333333333,
              "#9c179e"
             ],
             [
              0.4444444444444444,
              "#bd3786"
             ],
             [
              0.5555555555555556,
              "#d8576b"
             ],
             [
              0.6666666666666666,
              "#ed7953"
             ],
             [
              0.7777777777777778,
              "#fb9f3a"
             ],
             [
              0.8888888888888888,
              "#fdca26"
             ],
             [
              1,
              "#f0f921"
             ]
            ],
            "type": "heatmapgl"
           }
          ],
          "histogram": [
           {
            "marker": {
             "colorbar": {
              "outlinewidth": 0,
              "ticks": ""
             }
            },
            "type": "histogram"
           }
          ],
          "histogram2d": [
           {
            "colorbar": {
             "outlinewidth": 0,
             "ticks": ""
            },
            "colorscale": [
             [
              0,
              "#0d0887"
             ],
             [
              0.1111111111111111,
              "#46039f"
             ],
             [
              0.2222222222222222,
              "#7201a8"
             ],
             [
              0.3333333333333333,
              "#9c179e"
             ],
             [
              0.4444444444444444,
              "#bd3786"
             ],
             [
              0.5555555555555556,
              "#d8576b"
             ],
             [
              0.6666666666666666,
              "#ed7953"
             ],
             [
              0.7777777777777778,
              "#fb9f3a"
             ],
             [
              0.8888888888888888,
              "#fdca26"
             ],
             [
              1,
              "#f0f921"
             ]
            ],
            "type": "histogram2d"
           }
          ],
          "histogram2dcontour": [
           {
            "colorbar": {
             "outlinewidth": 0,
             "ticks": ""
            },
            "colorscale": [
             [
              0,
              "#0d0887"
             ],
             [
              0.1111111111111111,
              "#46039f"
             ],
             [
              0.2222222222222222,
              "#7201a8"
             ],
             [
              0.3333333333333333,
              "#9c179e"
             ],
             [
              0.4444444444444444,
              "#bd3786"
             ],
             [
              0.5555555555555556,
              "#d8576b"
             ],
             [
              0.6666666666666666,
              "#ed7953"
             ],
             [
              0.7777777777777778,
              "#fb9f3a"
             ],
             [
              0.8888888888888888,
              "#fdca26"
             ],
             [
              1,
              "#f0f921"
             ]
            ],
            "type": "histogram2dcontour"
           }
          ],
          "mesh3d": [
           {
            "colorbar": {
             "outlinewidth": 0,
             "ticks": ""
            },
            "type": "mesh3d"
           }
          ],
          "parcoords": [
           {
            "line": {
             "colorbar": {
              "outlinewidth": 0,
              "ticks": ""
             }
            },
            "type": "parcoords"
           }
          ],
          "pie": [
           {
            "automargin": true,
            "type": "pie"
           }
          ],
          "scatter": [
           {
            "marker": {
             "colorbar": {
              "outlinewidth": 0,
              "ticks": ""
             }
            },
            "type": "scatter"
           }
          ],
          "scatter3d": [
           {
            "line": {
             "colorbar": {
              "outlinewidth": 0,
              "ticks": ""
             }
            },
            "marker": {
             "colorbar": {
              "outlinewidth": 0,
              "ticks": ""
             }
            },
            "type": "scatter3d"
           }
          ],
          "scattercarpet": [
           {
            "marker": {
             "colorbar": {
              "outlinewidth": 0,
              "ticks": ""
             }
            },
            "type": "scattercarpet"
           }
          ],
          "scattergeo": [
           {
            "marker": {
             "colorbar": {
              "outlinewidth": 0,
              "ticks": ""
             }
            },
            "type": "scattergeo"
           }
          ],
          "scattergl": [
           {
            "marker": {
             "colorbar": {
              "outlinewidth": 0,
              "ticks": ""
             }
            },
            "type": "scattergl"
           }
          ],
          "scattermapbox": [
           {
            "marker": {
             "colorbar": {
              "outlinewidth": 0,
              "ticks": ""
             }
            },
            "type": "scattermapbox"
           }
          ],
          "scatterpolar": [
           {
            "marker": {
             "colorbar": {
              "outlinewidth": 0,
              "ticks": ""
             }
            },
            "type": "scatterpolar"
           }
          ],
          "scatterpolargl": [
           {
            "marker": {
             "colorbar": {
              "outlinewidth": 0,
              "ticks": ""
             }
            },
            "type": "scatterpolargl"
           }
          ],
          "scatterternary": [
           {
            "marker": {
             "colorbar": {
              "outlinewidth": 0,
              "ticks": ""
             }
            },
            "type": "scatterternary"
           }
          ],
          "surface": [
           {
            "colorbar": {
             "outlinewidth": 0,
             "ticks": ""
            },
            "colorscale": [
             [
              0,
              "#0d0887"
             ],
             [
              0.1111111111111111,
              "#46039f"
             ],
             [
              0.2222222222222222,
              "#7201a8"
             ],
             [
              0.3333333333333333,
              "#9c179e"
             ],
             [
              0.4444444444444444,
              "#bd3786"
             ],
             [
              0.5555555555555556,
              "#d8576b"
             ],
             [
              0.6666666666666666,
              "#ed7953"
             ],
             [
              0.7777777777777778,
              "#fb9f3a"
             ],
             [
              0.8888888888888888,
              "#fdca26"
             ],
             [
              1,
              "#f0f921"
             ]
            ],
            "type": "surface"
           }
          ],
          "table": [
           {
            "cells": {
             "fill": {
              "color": "#EBF0F8"
             },
             "line": {
              "color": "white"
             }
            },
            "header": {
             "fill": {
              "color": "#C8D4E3"
             },
             "line": {
              "color": "white"
             }
            },
            "type": "table"
           }
          ]
         },
         "layout": {
          "annotationdefaults": {
           "arrowcolor": "#2a3f5f",
           "arrowhead": 0,
           "arrowwidth": 1
          },
          "coloraxis": {
           "colorbar": {
            "outlinewidth": 0,
            "ticks": ""
           }
          },
          "colorscale": {
           "diverging": [
            [
             0,
             "#8e0152"
            ],
            [
             0.1,
             "#c51b7d"
            ],
            [
             0.2,
             "#de77ae"
            ],
            [
             0.3,
             "#f1b6da"
            ],
            [
             0.4,
             "#fde0ef"
            ],
            [
             0.5,
             "#f7f7f7"
            ],
            [
             0.6,
             "#e6f5d0"
            ],
            [
             0.7,
             "#b8e186"
            ],
            [
             0.8,
             "#7fbc41"
            ],
            [
             0.9,
             "#4d9221"
            ],
            [
             1,
             "#276419"
            ]
           ],
           "sequential": [
            [
             0,
             "#0d0887"
            ],
            [
             0.1111111111111111,
             "#46039f"
            ],
            [
             0.2222222222222222,
             "#7201a8"
            ],
            [
             0.3333333333333333,
             "#9c179e"
            ],
            [
             0.4444444444444444,
             "#bd3786"
            ],
            [
             0.5555555555555556,
             "#d8576b"
            ],
            [
             0.6666666666666666,
             "#ed7953"
            ],
            [
             0.7777777777777778,
             "#fb9f3a"
            ],
            [
             0.8888888888888888,
             "#fdca26"
            ],
            [
             1,
             "#f0f921"
            ]
           ],
           "sequentialminus": [
            [
             0,
             "#0d0887"
            ],
            [
             0.1111111111111111,
             "#46039f"
            ],
            [
             0.2222222222222222,
             "#7201a8"
            ],
            [
             0.3333333333333333,
             "#9c179e"
            ],
            [
             0.4444444444444444,
             "#bd3786"
            ],
            [
             0.5555555555555556,
             "#d8576b"
            ],
            [
             0.6666666666666666,
             "#ed7953"
            ],
            [
             0.7777777777777778,
             "#fb9f3a"
            ],
            [
             0.8888888888888888,
             "#fdca26"
            ],
            [
             1,
             "#f0f921"
            ]
           ]
          },
          "colorway": [
           "#636efa",
           "#EF553B",
           "#00cc96",
           "#ab63fa",
           "#FFA15A",
           "#19d3f3",
           "#FF6692",
           "#B6E880",
           "#FF97FF",
           "#FECB52"
          ],
          "font": {
           "color": "#2a3f5f"
          },
          "geo": {
           "bgcolor": "white",
           "lakecolor": "white",
           "landcolor": "#E5ECF6",
           "showlakes": true,
           "showland": true,
           "subunitcolor": "white"
          },
          "hoverlabel": {
           "align": "left"
          },
          "hovermode": "closest",
          "mapbox": {
           "style": "light"
          },
          "paper_bgcolor": "white",
          "plot_bgcolor": "#E5ECF6",
          "polar": {
           "angularaxis": {
            "gridcolor": "white",
            "linecolor": "white",
            "ticks": ""
           },
           "bgcolor": "#E5ECF6",
           "radialaxis": {
            "gridcolor": "white",
            "linecolor": "white",
            "ticks": ""
           }
          },
          "scene": {
           "xaxis": {
            "backgroundcolor": "#E5ECF6",
            "gridcolor": "white",
            "gridwidth": 2,
            "linecolor": "white",
            "showbackground": true,
            "ticks": "",
            "zerolinecolor": "white"
           },
           "yaxis": {
            "backgroundcolor": "#E5ECF6",
            "gridcolor": "white",
            "gridwidth": 2,
            "linecolor": "white",
            "showbackground": true,
            "ticks": "",
            "zerolinecolor": "white"
           },
           "zaxis": {
            "backgroundcolor": "#E5ECF6",
            "gridcolor": "white",
            "gridwidth": 2,
            "linecolor": "white",
            "showbackground": true,
            "ticks": "",
            "zerolinecolor": "white"
           }
          },
          "shapedefaults": {
           "line": {
            "color": "#2a3f5f"
           }
          },
          "ternary": {
           "aaxis": {
            "gridcolor": "white",
            "linecolor": "white",
            "ticks": ""
           },
           "baxis": {
            "gridcolor": "white",
            "linecolor": "white",
            "ticks": ""
           },
           "bgcolor": "#E5ECF6",
           "caxis": {
            "gridcolor": "white",
            "linecolor": "white",
            "ticks": ""
           }
          },
          "title": {
           "x": 0.05
          },
          "xaxis": {
           "automargin": true,
           "gridcolor": "white",
           "linecolor": "white",
           "ticks": "",
           "title": {
            "standoff": 15
           },
           "zerolinecolor": "white",
           "zerolinewidth": 2
          },
          "yaxis": {
           "automargin": true,
           "gridcolor": "white",
           "linecolor": "white",
           "ticks": "",
           "title": {
            "standoff": 15
           },
           "zerolinecolor": "white",
           "zerolinewidth": 2
          }
         }
        },
        "xaxis": {
         "anchor": "y",
         "domain": [
          0,
          1
         ],
         "title": {
          "text": "SE"
         }
        },
        "yaxis": {
         "anchor": "x",
         "domain": [
          0,
          1
         ],
         "title": {
          "text": "-logP"
         }
        }
       }
      },
      "text/html": [
       "<div>\n",
       "        \n",
       "        \n",
       "            <div id=\"49c5f639-9036-4bb0-b5a2-52e455ee2e23\" class=\"plotly-graph-div\" style=\"height:525px; width:100%;\"></div>\n",
       "            <script type=\"text/javascript\">\n",
       "                require([\"plotly\"], function(Plotly) {\n",
       "                    window.PLOTLYENV=window.PLOTLYENV || {};\n",
       "                    \n",
       "                if (document.getElementById(\"49c5f639-9036-4bb0-b5a2-52e455ee2e23\")) {\n",
       "                    Plotly.newPlot(\n",
       "                        '49c5f639-9036-4bb0-b5a2-52e455ee2e23',\n",
       "                        [{\"customdata\": [[\"TP53\", 1001, \"AICAR\"], [\"BRAF\", 1001, \"AICAR\"], [\"PIK3CA\", 1001, \"AICAR\"]], \"hoverlabel\": {\"namelength\": 0}, \"hovertemplate\": \"Drug_Name=%{customdata[2]}<br>SE=%{x}<br>-logP=%{y}<br>F1=%{customdata[0]}<br>F2=%{customdata[1]}\", \"legendgroup\": \"AICAR\", \"marker\": {\"color\": \"#636efa\", \"symbol\": \"circle\"}, \"mode\": \"markers\", \"name\": \"AICAR\", \"showlegend\": true, \"type\": \"scatter\", \"x\": [0.2164671889350487, 0.1836705671367028, 0.09885130145768066], \"xaxis\": \"x\", \"y\": [0.5591548756653676, 0.3104695981497278, 0.27762719543379805], \"yaxis\": \"y\"}, {\"customdata\": [[\"TP53\", 1003, \"Camptothecin\"], [\"BRAF\", 1003, \"Camptothecin\"], [\"PIK3CA\", 1003, \"Camptothecin\"]], \"hoverlabel\": {\"namelength\": 0}, \"hovertemplate\": \"Drug_Name=%{customdata[2]}<br>SE=%{x}<br>-logP=%{y}<br>F1=%{customdata[0]}<br>F2=%{customdata[1]}\", \"legendgroup\": \"Camptothecin\", \"marker\": {\"color\": \"#EF553B\", \"symbol\": \"circle\"}, \"mode\": \"markers\", \"name\": \"Camptothecin\", \"showlegend\": true, \"type\": \"scatter\", \"x\": [0.2303200689985821, 0.23721488931129456, 0.16840761890954775], \"xaxis\": \"x\", \"y\": [0.6028724863027771, 0.4162839084296125, 0.5131594943757254], \"yaxis\": \"y\"}, {\"customdata\": [[\"TP53\", 1004, \"Vinblastine\"], [\"BRAF\", 1004, \"Vinblastine\"], [\"PIK3CA\", 1004, \"Vinblastine\"]], \"hoverlabel\": {\"namelength\": 0}, \"hovertemplate\": \"Drug_Name=%{customdata[2]}<br>SE=%{x}<br>-logP=%{y}<br>F1=%{customdata[0]}<br>F2=%{customdata[1]}\", \"legendgroup\": \"Vinblastine\", \"marker\": {\"color\": \"#00cc96\", \"symbol\": \"circle\"}, \"mode\": \"markers\", \"name\": \"Vinblastine\", \"showlegend\": true, \"type\": \"scatter\", \"x\": [-0.7258507100839087, 0.8441156864545071, -0.266879386558866], \"xaxis\": \"x\", \"y\": [2.9370871839329817, 2.189683788254114, 0.9088436741892346], \"yaxis\": \"y\"}, {\"customdata\": [[\"TP53\", 1005, \"Cisplatin\"], [\"BRAF\", 1005, \"Cisplatin\"], [\"PIK3CA\", 1005, \"Cisplatin\"]], \"hoverlabel\": {\"namelength\": 0}, \"hovertemplate\": \"Drug_Name=%{customdata[2]}<br>SE=%{x}<br>-logP=%{y}<br>F1=%{customdata[0]}<br>F2=%{customdata[1]}\", \"legendgroup\": \"Cisplatin\", \"marker\": {\"color\": \"#ab63fa\", \"symbol\": \"circle\"}, \"mode\": \"markers\", \"name\": \"Cisplatin\", \"showlegend\": true, \"type\": \"scatter\", \"x\": [-0.38561441871278396, 0.24715375741205345, 0.3564167637637551], \"xaxis\": \"x\", \"y\": [1.1657206845516472, 0.43672576310683575, 1.3375342427282018], \"yaxis\": \"y\"}, {\"customdata\": [[\"TP53\", 1006, \"Cytarabine\"], [\"BRAF\", 1006, \"Cytarabine\"], [\"PIK3CA\", 1006, \"Cytarabine\"]], \"hoverlabel\": {\"namelength\": 0}, \"hovertemplate\": \"Drug_Name=%{customdata[2]}<br>SE=%{x}<br>-logP=%{y}<br>F1=%{customdata[0]}<br>F2=%{customdata[1]}\", \"legendgroup\": \"Cytarabine\", \"marker\": {\"color\": \"#FFA15A\", \"symbol\": \"circle\"}, \"mode\": \"markers\", \"name\": \"Cytarabine\", \"showlegend\": true, \"type\": \"scatter\", \"x\": [0.13577959454504826, -0.32038019507329746, 0.5023153345686648], \"xaxis\": \"x\", \"y\": [0.32423405971283353, 0.5952798128192859, 2.1928137228181117], \"yaxis\": \"y\"}, {\"customdata\": [[\"TP53\", 1007, \"Docetaxel\"], [\"BRAF\", 1007, \"Docetaxel\"], [\"PIK3CA\", 1007, \"Docetaxel\"]], \"hoverlabel\": {\"namelength\": 0}, \"hovertemplate\": \"Drug_Name=%{customdata[2]}<br>SE=%{x}<br>-logP=%{y}<br>F1=%{customdata[0]}<br>F2=%{customdata[1]}\", \"legendgroup\": \"Docetaxel\", \"marker\": {\"color\": \"#19d3f3\", \"symbol\": \"circle\"}, \"mode\": \"markers\", \"name\": \"Docetaxel\", \"showlegend\": true, \"type\": \"scatter\", \"x\": [-0.36189787756725056, 0.5553787265646171, -0.1197894035743284], \"xaxis\": \"x\", \"y\": [1.0707719070201915, 1.204763176775731, 0.344885875359196], \"yaxis\": \"y\"}, {\"customdata\": [[\"TP53\", 1008, \"Methotrexate\"], [\"BRAF\", 1008, \"Methotrexate\"], [\"PIK3CA\", 1008, \"Methotrexate\"]], \"hoverlabel\": {\"namelength\": 0}, \"hovertemplate\": \"Drug_Name=%{customdata[2]}<br>SE=%{x}<br>-logP=%{y}<br>F1=%{customdata[0]}<br>F2=%{customdata[1]}\", \"legendgroup\": \"Methotrexate\", \"marker\": {\"color\": \"#FF6692\", \"symbol\": \"circle\"}, \"mode\": \"markers\", \"name\": \"Methotrexate\", \"showlegend\": true, \"type\": \"scatter\", \"x\": [0.2838913437485846, -0.2630463638583418, 0.30649077822134657], \"xaxis\": \"x\", \"y\": [0.7816635758681034, 0.4699424460402954, 1.090036808592457], \"yaxis\": \"y\"}, {\"customdata\": [[\"TP53\", 1009, \"ATRA\"], [\"BRAF\", 1009, \"ATRA\"], [\"PIK3CA\", 1009, \"ATRA\"]], \"hoverlabel\": {\"namelength\": 0}, \"hovertemplate\": \"Drug_Name=%{customdata[2]}<br>SE=%{x}<br>-logP=%{y}<br>F1=%{customdata[0]}<br>F2=%{customdata[1]}\", \"legendgroup\": \"ATRA\", \"marker\": {\"color\": \"#B6E880\", \"symbol\": \"circle\"}, \"mode\": \"markers\", \"name\": \"ATRA\", \"showlegend\": true, \"type\": \"scatter\", \"x\": [0.2932537463584444, 0.2172881315521388, -0.10923780705740864], \"xaxis\": \"x\", \"y\": [0.8145306725904617, 0.3760597656877949, 0.31060727205798805], \"yaxis\": \"y\"}, {\"customdata\": [[\"TP53\", 1010, \"Gefitinib\"], [\"BRAF\", 1010, \"Gefitinib\"], [\"PIK3CA\", 1010, \"Gefitinib\"]], \"hoverlabel\": {\"namelength\": 0}, \"hovertemplate\": \"Drug_Name=%{customdata[2]}<br>SE=%{x}<br>-logP=%{y}<br>F1=%{customdata[0]}<br>F2=%{customdata[1]}\", \"legendgroup\": \"Gefitinib\", \"marker\": {\"color\": \"#FF97FF\", \"symbol\": \"circle\"}, \"mode\": \"markers\", \"name\": \"Gefitinib\", \"showlegend\": true, \"type\": \"scatter\", \"x\": [0.2013495911037234, 0.3854868648679641, 0.05289068407648172], \"xaxis\": \"x\", \"y\": [0.5125989295437111, 0.7483540230961332, 0.1405526791098737], \"yaxis\": \"y\"}, {\"customdata\": [[\"TP53\", 1011, \"ABT-263\"], [\"BRAF\", 1011, \"ABT-263\"], [\"PIK3CA\", 1011, \"ABT-263\"]], \"hoverlabel\": {\"namelength\": 0}, \"hovertemplate\": \"Drug_Name=%{customdata[2]}<br>SE=%{x}<br>-logP=%{y}<br>F1=%{customdata[0]}<br>F2=%{customdata[1]}\", \"legendgroup\": \"ABT-263\", \"marker\": {\"color\": \"#FECB52\", \"symbol\": \"circle\"}, \"mode\": \"markers\", \"name\": \"ABT-263\", \"showlegend\": true, \"type\": \"scatter\", \"x\": [0.020628357718394826, 0.5756926367372082, 0.6979234378716055], \"xaxis\": \"x\", \"y\": [0.04159864334917062, 1.259423654919272, 3.5301510352871652], \"yaxis\": \"y\"}, {\"customdata\": [[\"TP53\", 1012, \"Vorinostat\"], [\"BRAF\", 1012, \"Vorinostat\"], [\"PIK3CA\", 1012, \"Vorinostat\"]], \"hoverlabel\": {\"namelength\": 0}, \"hovertemplate\": \"Drug_Name=%{customdata[2]}<br>SE=%{x}<br>-logP=%{y}<br>F1=%{customdata[0]}<br>F2=%{customdata[1]}\", \"legendgroup\": \"Vorinostat\", \"marker\": {\"color\": \"#636efa\", \"symbol\": \"circle\"}, \"mode\": \"markers\", \"name\": \"Vorinostat\", \"showlegend\": true, \"type\": \"scatter\", \"x\": [0.3109974004804897, -0.03283972995676917, 0.17007907590403465], \"xaxis\": \"x\", \"y\": [0.8781726150411341, 0.0498045977970342, 0.5192527668856798], \"yaxis\": \"y\"}, {\"customdata\": [[\"TP53\", 1013, \"Nilotinib\"], [\"BRAF\", 1013, \"Nilotinib\"], [\"PIK3CA\", 1013, \"Nilotinib\"]], \"hoverlabel\": {\"namelength\": 0}, \"hovertemplate\": \"Drug_Name=%{customdata[2]}<br>SE=%{x}<br>-logP=%{y}<br>F1=%{customdata[0]}<br>F2=%{customdata[1]}\", \"legendgroup\": \"Nilotinib\", \"marker\": {\"color\": \"#EF553B\", \"symbol\": \"circle\"}, \"mode\": \"markers\", \"name\": \"Nilotinib\", \"showlegend\": true, \"type\": \"scatter\", \"x\": [0.33988173156329604, -0.24373141994259745, 0.4833862916669237], \"xaxis\": \"x\", \"y\": [0.9090884130388078, 0.4248381752343169, 1.8816503258182289], \"yaxis\": \"y\"}, {\"customdata\": [[\"TP53\", 1014, \"RDEA119\"], [\"BRAF\", 1014, \"RDEA119\"], [\"PIK3CA\", 1014, \"RDEA119\"]], \"hoverlabel\": {\"namelength\": 0}, \"hovertemplate\": \"Drug_Name=%{customdata[2]}<br>SE=%{x}<br>-logP=%{y}<br>F1=%{customdata[0]}<br>F2=%{customdata[1]}\", \"legendgroup\": \"RDEA119\", \"marker\": {\"color\": \"#00cc96\", \"symbol\": \"circle\"}, \"mode\": \"markers\", \"name\": \"RDEA119\", \"showlegend\": true, \"type\": \"scatter\", \"x\": [-0.13757128435055285, -0.6948969941125357, 0.4560853436431832], \"xaxis\": \"x\", \"y\": [0.3104200723791245, 1.6383815280830163, 1.8235456314623903], \"yaxis\": \"y\"}, {\"customdata\": [[\"TP53\", 1015, \"CI-1040\"], [\"BRAF\", 1015, \"CI-1040\"], [\"PIK3CA\", 1015, \"CI-1040\"]], \"hoverlabel\": {\"namelength\": 0}, \"hovertemplate\": \"Drug_Name=%{customdata[2]}<br>SE=%{x}<br>-logP=%{y}<br>F1=%{customdata[0]}<br>F2=%{customdata[1]}\", \"legendgroup\": \"CI-1040\", \"marker\": {\"color\": \"#ab63fa\", \"symbol\": \"circle\"}, \"mode\": \"markers\", \"name\": \"CI-1040\", \"showlegend\": true, \"type\": \"scatter\", \"x\": [0.3915269153117749, -0.8858515305708566, 0.3373621196792346], \"xaxis\": \"x\", \"y\": [1.1899181874450646, 2.35607140084786, 1.2405010504706908], \"yaxis\": \"y\"}, {\"customdata\": [[\"TP53\", 1016, \"Temsirolimus\"], [\"BRAF\", 1016, \"Temsirolimus\"], [\"PIK3CA\", 1016, \"Temsirolimus\"]], \"hoverlabel\": {\"namelength\": 0}, \"hovertemplate\": \"Drug_Name=%{customdata[2]}<br>SE=%{x}<br>-logP=%{y}<br>F1=%{customdata[0]}<br>F2=%{customdata[1]}\", \"legendgroup\": \"Temsirolimus\", \"marker\": {\"color\": \"#FFA15A\", \"symbol\": \"circle\"}, \"mode\": \"markers\", \"name\": \"Temsirolimus\", \"showlegend\": true, \"type\": \"scatter\", \"x\": [-0.08757790226834017, 0.2955691013527655, -0.07738756300953208], \"xaxis\": \"x\", \"y\": [0.199312534347044, 0.5399719153639282, 0.21183408507064236], \"yaxis\": \"y\"}, {\"customdata\": [[\"TP53\", 1017, \"Olaparib\"], [\"BRAF\", 1017, \"Olaparib\"], [\"PIK3CA\", 1017, \"Olaparib\"], [\"TP53\", 1495, \"Olaparib\"], [\"BRAF\", 1495, \"Olaparib\"], [\"PIK3CA\", 1495, \"Olaparib\"]], \"hoverlabel\": {\"namelength\": 0}, \"hovertemplate\": \"Drug_Name=%{customdata[2]}<br>SE=%{x}<br>-logP=%{y}<br>F1=%{customdata[0]}<br>F2=%{customdata[1]}\", \"legendgroup\": \"Olaparib\", \"marker\": {\"color\": \"#19d3f3\", \"symbol\": \"circle\"}, \"mode\": \"markers\", \"name\": \"Olaparib\", \"showlegend\": true, \"type\": \"scatter\", \"x\": [0.4971445793554566, 0.018596610972321133, -0.08478784873503731, -0.10685414044745913, 0.3613419096219465, -0.1236289732459075], \"xaxis\": \"x\", \"y\": [1.6589255940962508, 0.027909758764933214, 0.2341620926772423, 0.24884745213140155, 0.6916316387683646, 0.36026043170443217], \"yaxis\": \"y\"}, {\"customdata\": [[\"TP53\", 1018, \"ABT-888\"], [\"BRAF\", 1018, \"ABT-888\"], [\"PIK3CA\", 1018, \"ABT-888\"]], \"hoverlabel\": {\"namelength\": 0}, \"hovertemplate\": \"Drug_Name=%{customdata[2]}<br>SE=%{x}<br>-logP=%{y}<br>F1=%{customdata[0]}<br>F2=%{customdata[1]}\", \"legendgroup\": \"ABT-888\", \"marker\": {\"color\": \"#FF6692\", \"symbol\": \"circle\"}, \"mode\": \"markers\", \"name\": \"ABT-888\", \"showlegend\": true, \"type\": \"scatter\", \"x\": [0.3727864808626999, 0.027262459267936856, 0.16086792456775093], \"xaxis\": \"x\", \"y\": [1.113946231552215, 0.041177142123152, 0.4859317951375473], \"yaxis\": \"y\"}, {\"customdata\": [[\"TP53\", 1019, \"Bosutinib\"], [\"BRAF\", 1019, \"Bosutinib\"], [\"PIK3CA\", 1019, \"Bosutinib\"]], \"hoverlabel\": {\"namelength\": 0}, \"hovertemplate\": \"Drug_Name=%{customdata[2]}<br>SE=%{x}<br>-logP=%{y}<br>F1=%{customdata[0]}<br>F2=%{customdata[1]}\", \"legendgroup\": \"Bosutinib\", \"marker\": {\"color\": \"#B6E880\", \"symbol\": \"circle\"}, \"mode\": \"markers\", \"name\": \"Bosutinib\", \"showlegend\": true, \"type\": \"scatter\", \"x\": [0.1201919801851552, -0.2254551289213639, 0.07927978473924559], \"xaxis\": \"x\", \"y\": [0.2826102121919244, 0.3924234911570115, 0.2175078415997308], \"yaxis\": \"y\"}, {\"customdata\": [[\"TP53\", 1020, \"Lenalidomide\"], [\"BRAF\", 1020, \"Lenalidomide\"], [\"PIK3CA\", 1020, \"Lenalidomide\"]], \"hoverlabel\": {\"namelength\": 0}, \"hovertemplate\": \"Drug_Name=%{customdata[2]}<br>SE=%{x}<br>-logP=%{y}<br>F1=%{customdata[0]}<br>F2=%{customdata[1]}\", \"legendgroup\": \"Lenalidomide\", \"marker\": {\"color\": \"#FF97FF\", \"symbol\": \"circle\"}, \"mode\": \"markers\", \"name\": \"Lenalidomide\", \"showlegend\": true, \"type\": \"scatter\", \"x\": [0.05516908173624351, 0.10449369266340933, 0.21068563402267965], \"xaxis\": \"x\", \"y\": [0.12150054108287542, 0.16694683086093334, 0.6737719209944956], \"yaxis\": \"y\"}, {\"customdata\": [[\"TP53\", 1021, \"Axitinib\"], [\"BRAF\", 1021, \"Axitinib\"], [\"PIK3CA\", 1021, \"Axitinib\"]], \"hoverlabel\": {\"namelength\": 0}, \"hovertemplate\": \"Drug_Name=%{customdata[2]}<br>SE=%{x}<br>-logP=%{y}<br>F1=%{customdata[0]}<br>F2=%{customdata[1]}\", \"legendgroup\": \"Axitinib\", \"marker\": {\"color\": \"#FECB52\", \"symbol\": \"circle\"}, \"mode\": \"markers\", \"name\": \"Axitinib\", \"showlegend\": true, \"type\": \"scatter\", \"x\": [-0.16799099432903405, 0.33964760658015786, 0.2401341185299336], \"xaxis\": \"x\", \"y\": [0.4140517050826173, 0.6393716096483371, 0.793815879577273], \"yaxis\": \"y\"}, {\"customdata\": [[\"TP53\", 1022, \"AZD7762\"], [\"BRAF\", 1022, \"AZD7762\"], [\"PIK3CA\", 1022, \"AZD7762\"]], \"hoverlabel\": {\"namelength\": 0}, \"hovertemplate\": \"Drug_Name=%{customdata[2]}<br>SE=%{x}<br>-logP=%{y}<br>F1=%{customdata[0]}<br>F2=%{customdata[1]}\", \"legendgroup\": \"AZD7762\", \"marker\": {\"color\": \"#636efa\", \"symbol\": \"circle\"}, \"mode\": \"markers\", \"name\": \"AZD7762\", \"showlegend\": true, \"type\": \"scatter\", \"x\": [-0.2655415592017245, 0.5332208266756888, 0.5310504243729424], \"xaxis\": \"x\", \"y\": [0.7186579768347908, 1.1403713772140631, 2.3862422664884955], \"yaxis\": \"y\"}, {\"customdata\": [[\"TP53\", 1023, \"GW 441756\"], [\"BRAF\", 1023, \"GW 441756\"], [\"PIK3CA\", 1023, \"GW 441756\"]], \"hoverlabel\": {\"namelength\": 0}, \"hovertemplate\": \"Drug_Name=%{customdata[2]}<br>SE=%{x}<br>-logP=%{y}<br>F1=%{customdata[0]}<br>F2=%{customdata[1]}\", \"legendgroup\": \"GW 441756\", \"marker\": {\"color\": \"#EF553B\", \"symbol\": \"circle\"}, \"mode\": \"markers\", \"name\": \"GW 441756\", \"showlegend\": true, \"type\": \"scatter\", \"x\": [-0.0235811726478509, 0.3485507996910047, 0.26241808966223945], \"xaxis\": \"x\", \"y\": [0.050278587632911785, 0.6600864702485278, 0.8892524367737218], \"yaxis\": \"y\"}, {\"customdata\": [[\"TP53\", 1024, \"CEP-701\"], [\"BRAF\", 1024, \"CEP-701\"], [\"PIK3CA\", 1024, \"CEP-701\"]], \"hoverlabel\": {\"namelength\": 0}, \"hovertemplate\": \"Drug_Name=%{customdata[2]}<br>SE=%{x}<br>-logP=%{y}<br>F1=%{customdata[0]}<br>F2=%{customdata[1]}\", \"legendgroup\": \"CEP-701\", \"marker\": {\"color\": \"#00cc96\", \"symbol\": \"circle\"}, \"mode\": \"markers\", \"name\": \"CEP-701\", \"showlegend\": true, \"type\": \"scatter\", \"x\": [-0.06912434674801994, 0.030322892501715895, 0.15504605998669346], \"xaxis\": \"x\", \"y\": [0.1544095806844952, 0.045902691184960064, 0.4651952945992158], \"yaxis\": \"y\"}, {\"customdata\": [[\"TP53\", 1025, \"SB 216763\"], [\"BRAF\", 1025, \"SB 216763\"], [\"PIK3CA\", 1025, \"SB 216763\"]], \"hoverlabel\": {\"namelength\": 0}, \"hovertemplate\": \"Drug_Name=%{customdata[2]}<br>SE=%{x}<br>-logP=%{y}<br>F1=%{customdata[0]}<br>F2=%{customdata[1]}\", \"legendgroup\": \"SB 216763\", \"marker\": {\"color\": \"#ab63fa\", \"symbol\": \"circle\"}, \"mode\": \"markers\", \"name\": \"SB 216763\", \"showlegend\": true, \"type\": \"scatter\", \"x\": [0.9323290221452072, -1.0420822853966736, 0.09731930089366952], \"xaxis\": \"x\", \"y\": [4.314417073107663, 2.9976297208021263, 0.2583984492186282], \"yaxis\": \"y\"}, {\"customdata\": [[\"TP53\", 1026, \"17-AAG\"], [\"BRAF\", 1026, \"17-AAG\"], [\"PIK3CA\", 1026, \"17-AAG\"]], \"hoverlabel\": {\"namelength\": 0}, \"hovertemplate\": \"Drug_Name=%{customdata[2]}<br>SE=%{x}<br>-logP=%{y}<br>F1=%{customdata[0]}<br>F2=%{customdata[1]}\", \"legendgroup\": \"17-AAG\", \"marker\": {\"color\": \"#FFA15A\", \"symbol\": \"circle\"}, \"mode\": \"markers\", \"name\": \"17-AAG\", \"showlegend\": true, \"type\": \"scatter\", \"x\": [0.010975533594567915, 0.3396367005052868, -0.30433497610481564], \"xaxis\": \"x\", \"y\": [0.02192405461584039, 0.6365821603313464, 1.0401753152773332], \"yaxis\": \"y\"}, {\"customdata\": [[\"TP53\", 1028, \"VX-702\"], [\"BRAF\", 1028, \"VX-702\"], [\"PIK3CA\", 1028, \"VX-702\"]], \"hoverlabel\": {\"namelength\": 0}, \"hovertemplate\": \"Drug_Name=%{customdata[2]}<br>SE=%{x}<br>-logP=%{y}<br>F1=%{customdata[0]}<br>F2=%{customdata[1]}\", \"legendgroup\": \"VX-702\", \"marker\": {\"color\": \"#19d3f3\", \"symbol\": \"circle\"}, \"mode\": \"markers\", \"name\": \"VX-702\", \"showlegend\": true, \"type\": \"scatter\", \"x\": [0.6079401137069731, -0.2441120958817401, 0.2815768604368734], \"xaxis\": \"x\", \"y\": [2.2304758159860336, 0.4304428476634764, 0.974544952907699], \"yaxis\": \"y\"}, {\"customdata\": [[\"TP53\", 1029, \"AMG-706\"], [\"BRAF\", 1029, \"AMG-706\"], [\"PIK3CA\", 1029, \"AMG-706\"]], \"hoverlabel\": {\"namelength\": 0}, \"hovertemplate\": \"Drug_Name=%{customdata[2]}<br>SE=%{x}<br>-logP=%{y}<br>F1=%{customdata[0]}<br>F2=%{customdata[1]}\", \"legendgroup\": \"AMG-706\", \"marker\": {\"color\": \"#FF6692\", \"symbol\": \"circle\"}, \"mode\": \"markers\", \"name\": \"AMG-706\", \"showlegend\": true, \"type\": \"scatter\", \"x\": [0.16847362548565956, 0.3670554655664179, 0.4918814892099061], \"xaxis\": \"x\", \"y\": [0.3913061222144649, 0.700768713951488, 2.038362424987998], \"yaxis\": \"y\"}, {\"customdata\": [[\"TP53\", 1030, \"KU-55933\"], [\"BRAF\", 1030, \"KU-55933\"], [\"PIK3CA\", 1030, \"KU-55933\"]], \"hoverlabel\": {\"namelength\": 0}, \"hovertemplate\": \"Drug_Name=%{customdata[2]}<br>SE=%{x}<br>-logP=%{y}<br>F1=%{customdata[0]}<br>F2=%{customdata[1]}\", \"legendgroup\": \"KU-55933\", \"marker\": {\"color\": \"#B6E880\", \"symbol\": \"circle\"}, \"mode\": \"markers\", \"name\": \"KU-55933\", \"showlegend\": true, \"type\": \"scatter\", \"x\": [0.236123231714484, 0.6121137259226166, 0.41234659817648095], \"xaxis\": \"x\", \"y\": [0.5836479458297759, 1.3703729255621038, 1.5771776448996369], \"yaxis\": \"y\"}, {\"customdata\": [[\"TP53\", 1031, \"Elesclomol\"], [\"BRAF\", 1031, \"Elesclomol\"], [\"PIK3CA\", 1031, \"Elesclomol\"]], \"hoverlabel\": {\"namelength\": 0}, \"hovertemplate\": \"Drug_Name=%{customdata[2]}<br>SE=%{x}<br>-logP=%{y}<br>F1=%{customdata[0]}<br>F2=%{customdata[1]}\", \"legendgroup\": \"Elesclomol\", \"marker\": {\"color\": \"#FF97FF\", \"symbol\": \"circle\"}, \"mode\": \"markers\", \"name\": \"Elesclomol\", \"showlegend\": true, \"type\": \"scatter\", \"x\": [-0.1656925516975306, -0.14830727532863394, -0.08561665673796587], \"xaxis\": \"x\", \"y\": [0.4074706970427057, 0.2444938228330341, 0.23668598899839896], \"yaxis\": \"y\"}, {\"customdata\": [[\"TP53\", 1032, \"Afatinib\"], [\"BRAF\", 1032, \"Afatinib\"], [\"PIK3CA\", 1032, \"Afatinib\"]], \"hoverlabel\": {\"namelength\": 0}, \"hovertemplate\": \"Drug_Name=%{customdata[2]}<br>SE=%{x}<br>-logP=%{y}<br>F1=%{customdata[0]}<br>F2=%{customdata[1]}\", \"legendgroup\": \"Afatinib\", \"marker\": {\"color\": \"#FECB52\", \"symbol\": \"circle\"}, \"mode\": \"markers\", \"name\": \"Afatinib\", \"showlegend\": true, \"type\": \"scatter\", \"x\": [-0.13898763217609905, -0.5268965064048091, -0.021696931899550798], \"xaxis\": \"x\", \"y\": [0.33294821037876465, 1.1222676420506832, 0.05549701335228474], \"yaxis\": \"y\"}, {\"customdata\": [[\"TP53\", 1033, \"Vismodegib\"], [\"BRAF\", 1033, \"Vismodegib\"], [\"PIK3CA\", 1033, \"Vismodegib\"]], \"hoverlabel\": {\"namelength\": 0}, \"hovertemplate\": \"Drug_Name=%{customdata[2]}<br>SE=%{x}<br>-logP=%{y}<br>F1=%{customdata[0]}<br>F2=%{customdata[1]}\", \"legendgroup\": \"Vismodegib\", \"marker\": {\"color\": \"#636efa\", \"symbol\": \"circle\"}, \"mode\": \"markers\", \"name\": \"Vismodegib\", \"showlegend\": true, \"type\": \"scatter\", \"x\": [0.10547295843841707, 0.07800678225545049, -0.0487077559689116], \"xaxis\": \"x\", \"y\": [0.2443875804711597, 0.1222672290081092, 0.12877960548609144], \"yaxis\": \"y\"}, {\"customdata\": [[\"TP53\", 1036, \"PLX4720\"], [\"BRAF\", 1036, \"PLX4720\"], [\"PIK3CA\", 1036, \"PLX4720\"]], \"hoverlabel\": {\"namelength\": 0}, \"hovertemplate\": \"Drug_Name=%{customdata[2]}<br>SE=%{x}<br>-logP=%{y}<br>F1=%{customdata[0]}<br>F2=%{customdata[1]}\", \"legendgroup\": \"PLX4720\", \"marker\": {\"color\": \"#EF553B\", \"symbol\": \"circle\"}, \"mode\": \"markers\", \"name\": \"PLX4720\", \"showlegend\": true, \"type\": \"scatter\", \"x\": [0.7336673456325035, -0.8043440126552232, -0.02159150967642997], \"xaxis\": \"x\", \"y\": [2.7570725715893487, 2.0280418272078133, 0.05363129612419455], \"yaxis\": \"y\"}, {\"customdata\": [[\"TP53\", 1037, \"BX-795\"], [\"BRAF\", 1037, \"BX-795\"], [\"PIK3CA\", 1037, \"BX-795\"]], \"hoverlabel\": {\"namelength\": 0}, \"hovertemplate\": \"Drug_Name=%{customdata[2]}<br>SE=%{x}<br>-logP=%{y}<br>F1=%{customdata[0]}<br>F2=%{customdata[1]}\", \"legendgroup\": \"BX-795\", \"marker\": {\"color\": \"#00cc96\", \"symbol\": \"circle\"}, \"mode\": \"markers\", \"name\": \"BX-795\", \"showlegend\": true, \"type\": \"scatter\", \"x\": [-0.07786398004192042, 0.2917495232032541, 0.32672565302748896], \"xaxis\": \"x\", \"y\": [0.1659936915437549, 0.5293410652368594, 1.1434897179706387], \"yaxis\": \"y\"}, {\"customdata\": [[\"TP53\", 1038, \"NU-7441\"], [\"BRAF\", 1038, \"NU-7441\"], [\"PIK3CA\", 1038, \"NU-7441\"]], \"hoverlabel\": {\"namelength\": 0}, \"hovertemplate\": \"Drug_Name=%{customdata[2]}<br>SE=%{x}<br>-logP=%{y}<br>F1=%{customdata[0]}<br>F2=%{customdata[1]}\", \"legendgroup\": \"NU-7441\", \"marker\": {\"color\": \"#ab63fa\", \"symbol\": \"circle\"}, \"mode\": \"markers\", \"name\": \"NU-7441\", \"showlegend\": true, \"type\": \"scatter\", \"x\": [0.27708611049383963, 0.5016905048778041, 0.3027558805182448], \"xaxis\": \"x\", \"y\": [0.7106981138148192, 1.0466073139083327, 1.033041645532356], \"yaxis\": \"y\"}, {\"customdata\": [[\"TP53\", 1039, \"SL 0101-1\"], [\"BRAF\", 1039, \"SL 0101-1\"], [\"PIK3CA\", 1039, \"SL 0101-1\"]], \"hoverlabel\": {\"namelength\": 0}, \"hovertemplate\": \"Drug_Name=%{customdata[2]}<br>SE=%{x}<br>-logP=%{y}<br>F1=%{customdata[0]}<br>F2=%{customdata[1]}\", \"legendgroup\": \"SL 0101-1\", \"marker\": {\"color\": \"#FFA15A\", \"symbol\": \"circle\"}, \"mode\": \"markers\", \"name\": \"SL 0101-1\", \"showlegend\": true, \"type\": \"scatter\", \"x\": [0.2883284880695083, 0.3097184198972085, -0.21976841715553586], \"xaxis\": \"x\", \"y\": [0.7470088916891474, 0.5688650919116308, 0.6854754464050734], \"yaxis\": \"y\"}, {\"customdata\": [[\"TP53\", 104, \"Bortezomib\"], [\"PIK3CA\", 104, \"Bortezomib\"]], \"hoverlabel\": {\"namelength\": 0}, \"hovertemplate\": \"Drug_Name=%{customdata[2]}<br>SE=%{x}<br>-logP=%{y}<br>F1=%{customdata[0]}<br>F2=%{customdata[1]}\", \"legendgroup\": \"Bortezomib\", \"marker\": {\"color\": \"#19d3f3\", \"symbol\": \"circle\"}, \"mode\": \"markers\", \"name\": \"Bortezomib\", \"showlegend\": true, \"type\": \"scatter\", \"x\": [-0.1159269305943876, -0.13907457275181165], \"xaxis\": \"x\", \"y\": [0.15212901205062093, 0.18508018824599087], \"yaxis\": \"y\"}, {\"customdata\": [[\"TP53\", 1042, \"BIRB 0796\"], [\"BRAF\", 1042, \"BIRB 0796\"], [\"PIK3CA\", 1042, \"BIRB 0796\"]], \"hoverlabel\": {\"namelength\": 0}, \"hovertemplate\": \"Drug_Name=%{customdata[2]}<br>SE=%{x}<br>-logP=%{y}<br>F1=%{customdata[0]}<br>F2=%{customdata[1]}\", \"legendgroup\": \"BIRB 0796\", \"marker\": {\"color\": \"#FF6692\", \"symbol\": \"circle\"}, \"mode\": \"markers\", \"name\": \"BIRB 0796\", \"showlegend\": true, \"type\": \"scatter\", \"x\": [-0.19973748077833944, 0.09415431559159858, 0.28735909562232115], \"xaxis\": \"x\", \"y\": [0.47754559267998203, 0.1487329400533628, 0.9645258290782092], \"yaxis\": \"y\"}, {\"customdata\": [[\"TP53\", 1043, \"JNK Inhibitor VIII\"], [\"BRAF\", 1043, \"JNK Inhibitor VIII\"], [\"PIK3CA\", 1043, \"JNK Inhibitor VIII\"]], \"hoverlabel\": {\"namelength\": 0}, \"hovertemplate\": \"Drug_Name=%{customdata[2]}<br>SE=%{x}<br>-logP=%{y}<br>F1=%{customdata[0]}<br>F2=%{customdata[1]}\", \"legendgroup\": \"JNK Inhibitor VIII\", \"marker\": {\"color\": \"#B6E880\", \"symbol\": \"circle\"}, \"mode\": \"markers\", \"name\": \"JNK Inhibitor VIII\", \"showlegend\": true, \"type\": \"scatter\", \"x\": [0.3822540836774589, 0.2416518028681908, 0.2428146509348435], \"xaxis\": \"x\", \"y\": [1.0755873569082062, 0.4236031789510992, 0.7767219069065456], \"yaxis\": \"y\"}, {\"customdata\": [[\"TP53\", 1046, \"681640.00\"], [\"BRAF\", 1046, \"681640.00\"], [\"PIK3CA\", 1046, \"681640.00\"]], \"hoverlabel\": {\"namelength\": 0}, \"hovertemplate\": \"Drug_Name=%{customdata[2]}<br>SE=%{x}<br>-logP=%{y}<br>F1=%{customdata[0]}<br>F2=%{customdata[1]}\", \"legendgroup\": \"681640.00\", \"marker\": {\"color\": \"#FF97FF\", \"symbol\": \"circle\"}, \"mode\": \"markers\", \"name\": \"681640.00\", \"showlegend\": true, \"type\": \"scatter\", \"x\": [0.0433944894895263, 0.23434508326568776, 0.0797241802394248], \"xaxis\": \"x\", \"y\": [0.08683793402883516, 0.4012639665245947, 0.19295133840202786], \"yaxis\": \"y\"}, {\"customdata\": [[\"TP53\", 1047, \"Nutlin-3a\"], [\"BRAF\", 1047, \"Nutlin-3a\"], [\"PIK3CA\", 1047, \"Nutlin-3a\"]], \"hoverlabel\": {\"namelength\": 0}, \"hovertemplate\": \"Drug_Name=%{customdata[2]}<br>SE=%{x}<br>-logP=%{y}<br>F1=%{customdata[0]}<br>F2=%{customdata[1]}\", \"legendgroup\": \"Nutlin-3a\", \"marker\": {\"color\": \"#FECB52\", \"symbol\": \"circle\"}, \"mode\": \"markers\", \"name\": \"Nutlin-3a\", \"showlegend\": true, \"type\": \"scatter\", \"x\": [0.95333122914582, -0.2633999866650979, -0.364071149657636], \"xaxis\": \"x\", \"y\": [4.246050361746564, 0.468707445705623, 1.324978367608629], \"yaxis\": \"y\"}, {\"customdata\": [[\"TP53\", 1049, \"PD-173074\"], [\"BRAF\", 1049, \"PD-173074\"], [\"PIK3CA\", 1049, \"PD-173074\"]], \"hoverlabel\": {\"namelength\": 0}, \"hovertemplate\": \"Drug_Name=%{customdata[2]}<br>SE=%{x}<br>-logP=%{y}<br>F1=%{customdata[0]}<br>F2=%{customdata[1]}\", \"legendgroup\": \"PD-173074\", \"marker\": {\"color\": \"#636efa\", \"symbol\": \"circle\"}, \"mode\": \"markers\", \"name\": \"PD-173074\", \"showlegend\": true, \"type\": \"scatter\", \"x\": [-0.0022409013905336887, 0.3831893228125297, -0.0572042239659886], \"xaxis\": \"x\", \"y\": [0.004437911101997071, 0.7395021817446492, 0.1482402267578977], \"yaxis\": \"y\"}, {\"customdata\": [[\"TP53\", 1050, \"ZM-447439\"], [\"BRAF\", 1050, \"ZM-447439\"], [\"PIK3CA\", 1050, \"ZM-447439\"]], \"hoverlabel\": {\"namelength\": 0}, \"hovertemplate\": \"Drug_Name=%{customdata[2]}<br>SE=%{x}<br>-logP=%{y}<br>F1=%{customdata[0]}<br>F2=%{customdata[1]}\", \"legendgroup\": \"ZM-447439\", \"marker\": {\"color\": \"#EF553B\", \"symbol\": \"circle\"}, \"mode\": \"markers\", \"name\": \"ZM-447439\", \"showlegend\": true, \"type\": \"scatter\", \"x\": [-0.204665115202622, 0.5399820225703053, 0.25501262560678817], \"xaxis\": \"x\", \"y\": [0.4829580120978965, 1.1426182958464015, 0.7635151275664352], \"yaxis\": \"y\"}, {\"customdata\": [[\"TP53\", 1052, \"RO-3306\"], [\"BRAF\", 1052, \"RO-3306\"], [\"PIK3CA\", 1052, \"RO-3306\"]], \"hoverlabel\": {\"namelength\": 0}, \"hovertemplate\": \"Drug_Name=%{customdata[2]}<br>SE=%{x}<br>-logP=%{y}<br>F1=%{customdata[0]}<br>F2=%{customdata[1]}\", \"legendgroup\": \"RO-3306\", \"marker\": {\"color\": \"#00cc96\", \"symbol\": \"circle\"}, \"mode\": \"markers\", \"name\": \"RO-3306\", \"showlegend\": true, \"type\": \"scatter\", \"x\": [0.09599136396314983, 0.5041355355217452, 0.28923867094106004], \"xaxis\": \"x\", \"y\": [0.20822436596225274, 1.0533743164932512, 0.9727893318206764], \"yaxis\": \"y\"}, {\"customdata\": [[\"TP53\", 1053, \"MK-2206\"], [\"BRAF\", 1053, \"MK-2206\"], [\"PIK3CA\", 1053, \"MK-2206\"]], \"hoverlabel\": {\"namelength\": 0}, \"hovertemplate\": \"Drug_Name=%{customdata[2]}<br>SE=%{x}<br>-logP=%{y}<br>F1=%{customdata[0]}<br>F2=%{customdata[1]}\", \"legendgroup\": \"MK-2206\", \"marker\": {\"color\": \"#ab63fa\", \"symbol\": \"circle\"}, \"mode\": \"markers\", \"name\": \"MK-2206\", \"showlegend\": true, \"type\": \"scatter\", \"x\": [-0.7199085618022034, 0.5868078001817177, -0.4838350016311144], \"xaxis\": \"x\", \"y\": [2.663786004924821, 1.2897054501764176, 1.9221607288532592], \"yaxis\": \"y\"}, {\"customdata\": [[\"TP53\", 1054, \"PD-0332991\"], [\"BRAF\", 1054, \"PD-0332991\"], [\"PIK3CA\", 1054, \"PD-0332991\"]], \"hoverlabel\": {\"namelength\": 0}, \"hovertemplate\": \"Drug_Name=%{customdata[2]}<br>SE=%{x}<br>-logP=%{y}<br>F1=%{customdata[0]}<br>F2=%{customdata[1]}\", \"legendgroup\": \"PD-0332991\", \"marker\": {\"color\": \"#FFA15A\", \"symbol\": \"circle\"}, \"mode\": \"markers\", \"name\": \"PD-0332991\", \"showlegend\": true, \"type\": \"scatter\", \"x\": [0.0565473834313777, 0.4940181614783978, -0.327599775589658], \"xaxis\": \"x\", \"y\": [0.11766552607352875, 1.0230208202057471, 1.112261659426919], \"yaxis\": \"y\"}, {\"customdata\": [[\"TP53\", 1057, \"NVP-BEZ235\"], [\"BRAF\", 1057, \"NVP-BEZ235\"], [\"PIK3CA\", 1057, \"NVP-BEZ235\"]], \"hoverlabel\": {\"namelength\": 0}, \"hovertemplate\": \"Drug_Name=%{customdata[2]}<br>SE=%{x}<br>-logP=%{y}<br>F1=%{customdata[0]}<br>F2=%{customdata[1]}\", \"legendgroup\": \"NVP-BEZ235\", \"marker\": {\"color\": \"#19d3f3\", \"symbol\": \"circle\"}, \"mode\": \"markers\", \"name\": \"NVP-BEZ235\", \"showlegend\": true, \"type\": \"scatter\", \"x\": [-0.12112447624983542, 0.6994577849651239, 0.08371968906958396], \"xaxis\": \"x\", \"y\": [0.2690985513840494, 1.6538017467142114, 0.22381243277324828], \"yaxis\": \"y\"}, {\"customdata\": [[\"TP53\", 1058, \"GDC0941\"], [\"BRAF\", 1058, \"GDC0941\"], [\"PIK3CA\", 1058, \"GDC0941\"]], \"hoverlabel\": {\"namelength\": 0}, \"hovertemplate\": \"Drug_Name=%{customdata[2]}<br>SE=%{x}<br>-logP=%{y}<br>F1=%{customdata[0]}<br>F2=%{customdata[1]}\", \"legendgroup\": \"GDC0941\", \"marker\": {\"color\": \"#FF6692\", \"symbol\": \"circle\"}, \"mode\": \"markers\", \"name\": \"GDC0941\", \"showlegend\": true, \"type\": \"scatter\", \"x\": [-0.6611797410990978, 0.1822887867009466, -0.4412901788967598], \"xaxis\": \"x\", \"y\": [2.3456671279222654, 0.30658362393587874, 1.7382585978286371], \"yaxis\": \"y\"}, {\"customdata\": [[\"TP53\", 1059, \"AZD8055\"], [\"BRAF\", 1059, \"AZD8055\"], [\"PIK3CA\", 1059, \"AZD8055\"]], \"hoverlabel\": {\"namelength\": 0}, \"hovertemplate\": \"Drug_Name=%{customdata[2]}<br>SE=%{x}<br>-logP=%{y}<br>F1=%{customdata[0]}<br>F2=%{customdata[1]}\", \"legendgroup\": \"AZD8055\", \"marker\": {\"color\": \"#B6E880\", \"symbol\": \"circle\"}, \"mode\": \"markers\", \"name\": \"AZD8055\", \"showlegend\": true, \"type\": \"scatter\", \"x\": [0.37304890526153495, 0.7126175226726176, -0.1896812393100995], \"xaxis\": \"x\", \"y\": [1.04134355686958, 1.6986864295269593, 0.5722373698117219], \"yaxis\": \"y\"}, {\"customdata\": [[\"PIK3CA\", 106, \"XMD8-85\"]], \"hoverlabel\": {\"namelength\": 0}, \"hovertemplate\": \"Drug_Name=%{customdata[2]}<br>SE=%{x}<br>-logP=%{y}<br>F1=%{customdata[0]}<br>F2=%{customdata[1]}\", \"legendgroup\": \"XMD8-85\", \"marker\": {\"color\": \"#FF97FF\", \"symbol\": \"circle\"}, \"mode\": \"markers\", \"name\": \"XMD8-85\", \"showlegend\": true, \"type\": \"scatter\", \"x\": [0.5488984772396416], \"xaxis\": \"x\", \"y\": [0.9072321531145946], \"yaxis\": \"y\"}, {\"customdata\": [[\"TP53\", 1060, \"PD-0325901\"], [\"BRAF\", 1060, \"PD-0325901\"], [\"PIK3CA\", 1060, \"PD-0325901\"]], \"hoverlabel\": {\"namelength\": 0}, \"hovertemplate\": \"Drug_Name=%{customdata[2]}<br>SE=%{x}<br>-logP=%{y}<br>F1=%{customdata[0]}<br>F2=%{customdata[1]}\", \"legendgroup\": \"PD-0325901\", \"marker\": {\"color\": \"#FECB52\", \"symbol\": \"circle\"}, \"mode\": \"markers\", \"name\": \"PD-0325901\", \"showlegend\": true, \"type\": \"scatter\", \"x\": [0.02919449018670003, -0.7294113590167515, 0.5842705101126385], \"xaxis\": \"x\", \"y\": [0.05936894774871836, 1.7568156463067428, 2.650984406047576], \"yaxis\": \"y\"}, {\"customdata\": [[\"TP53\", 1061, \"SB590885\"], [\"BRAF\", 1061, \"SB590885\"], [\"PIK3CA\", 1061, \"SB590885\"]], \"hoverlabel\": {\"namelength\": 0}, \"hovertemplate\": \"Drug_Name=%{customdata[2]}<br>SE=%{x}<br>-logP=%{y}<br>F1=%{customdata[0]}<br>F2=%{customdata[1]}\", \"legendgroup\": \"SB590885\", \"marker\": {\"color\": \"#636efa\", \"symbol\": \"circle\"}, \"mode\": \"markers\", \"name\": \"SB590885\", \"showlegend\": true, \"type\": \"scatter\", \"x\": [0.5360776741161664, -0.9062336924633724, 0.0911385870805718], \"xaxis\": \"x\", \"y\": [1.7100277699714823, 2.423576323691069, 0.2394748903985723], \"yaxis\": \"y\"}, {\"customdata\": [[\"TP53\", 1062, \"AZD6244\"], [\"BRAF\", 1062, \"AZD6244\"], [\"PIK3CA\", 1062, \"AZD6244\"], [\"TP53\", 1498, \"AZD6244\"], [\"BRAF\", 1498, \"AZD6244\"], [\"PIK3CA\", 1498, \"AZD6244\"]], \"hoverlabel\": {\"namelength\": 0}, \"hovertemplate\": \"Drug_Name=%{customdata[2]}<br>SE=%{x}<br>-logP=%{y}<br>F1=%{customdata[0]}<br>F2=%{customdata[1]}\", \"legendgroup\": \"AZD6244\", \"marker\": {\"color\": \"#EF553B\", \"symbol\": \"circle\"}, \"mode\": \"markers\", \"name\": \"AZD6244\", \"showlegend\": true, \"type\": \"scatter\", \"x\": [-0.24294576952016575, -0.06957230983508443, 0.0429825786501618, 0.14119742694865225, -0.6513579280925361, 0.3644084918696247], \"xaxis\": \"x\", \"y\": [0.6017383111911855, 0.10774713713268146, 0.10685910822886946, 0.3402685863433288, 1.5045783775330324, 1.3915369311199564], \"yaxis\": \"y\"}, {\"customdata\": [[\"TP53\", 1066, \"AZD6482\"], [\"PIK3CA\", 1066, \"AZD6482\"], [\"TP53\", 156, \"AZD6482\"], [\"PIK3CA\", 156, \"AZD6482\"]], \"hoverlabel\": {\"namelength\": 0}, \"hovertemplate\": \"Drug_Name=%{customdata[2]}<br>SE=%{x}<br>-logP=%{y}<br>F1=%{customdata[0]}<br>F2=%{customdata[1]}\", \"legendgroup\": \"AZD6482\", \"marker\": {\"color\": \"#00cc96\", \"symbol\": \"circle\"}, \"mode\": \"markers\", \"name\": \"AZD6482\", \"showlegend\": true, \"type\": \"scatter\", \"x\": [0.059745953788860384, -0.5669853862245811, -0.7374877370653277, -0.15970237208456303], \"xaxis\": \"x\", \"y\": [0.12516254799265522, 2.5297395549154755, 3.0394965623302306, 0.4891199930870194], \"yaxis\": \"y\"}, {\"customdata\": [[\"TP53\", 1067, \"CCT007093\"], [\"BRAF\", 1067, \"CCT007093\"], [\"PIK3CA\", 1067, \"CCT007093\"]], \"hoverlabel\": {\"namelength\": 0}, \"hovertemplate\": \"Drug_Name=%{customdata[2]}<br>SE=%{x}<br>-logP=%{y}<br>F1=%{customdata[0]}<br>F2=%{customdata[1]}\", \"legendgroup\": \"CCT007093\", \"marker\": {\"color\": \"#ab63fa\", \"symbol\": \"circle\"}, \"mode\": \"markers\", \"name\": \"CCT007093\", \"showlegend\": true, \"type\": \"scatter\", \"x\": [0.2884245966061276, 0.4142063417131758, -0.4806350774176279], \"xaxis\": \"x\", \"y\": [0.8008344575006368, 0.8213079891334257, 2.0718586456199364], \"yaxis\": \"y\"}, {\"customdata\": [[\"TP53\", 1069, \"EHT 1864\"], [\"BRAF\", 1069, \"EHT 1864\"], [\"PIK3CA\", 1069, \"EHT 1864\"]], \"hoverlabel\": {\"namelength\": 0}, \"hovertemplate\": \"Drug_Name=%{customdata[2]}<br>SE=%{x}<br>-logP=%{y}<br>F1=%{customdata[0]}<br>F2=%{customdata[1]}\", \"legendgroup\": \"EHT 1864\", \"marker\": {\"color\": \"#FFA15A\", \"symbol\": \"circle\"}, \"mode\": \"markers\", \"name\": \"EHT 1864\", \"showlegend\": true, \"type\": \"scatter\", \"x\": [0.6952427064408601, 0.18620833203966985, -0.6509027850859396], \"xaxis\": \"x\", \"y\": [2.7558302314758905, 0.3159225103002202, 3.3236894196591145], \"yaxis\": \"y\"}, {\"customdata\": [[\"TP53\", 1072, \"BMS-708163\"], [\"BRAF\", 1072, \"BMS-708163\"], [\"PIK3CA\", 1072, \"BMS-708163\"], [\"TP53\", 205, \"BMS-708163\"], [\"PIK3CA\", 205, \"BMS-708163\"]], \"hoverlabel\": {\"namelength\": 0}, \"hovertemplate\": \"Drug_Name=%{customdata[2]}<br>SE=%{x}<br>-logP=%{y}<br>F1=%{customdata[0]}<br>F2=%{customdata[1]}\", \"legendgroup\": \"BMS-708163\", \"marker\": {\"color\": \"#19d3f3\", \"symbol\": \"circle\"}, \"mode\": \"markers\", \"name\": \"BMS-708163\", \"showlegend\": true, \"type\": \"scatter\", \"x\": [-0.27962476169245537, 0.871443717890368, 0.11684379812781745, 0.2699920682169452, -0.04413186768592766], \"xaxis\": \"x\", \"y\": [0.7700238995679506, 2.302567708403956, 0.33775840806797985, 0.7805390896453961, 0.11835166724318735], \"yaxis\": \"y\"}, {\"customdata\": [[\"TP53\", 1091, \"BMS-536924\"], [\"BRAF\", 1091, \"BMS-536924\"], [\"PIK3CA\", 1091, \"BMS-536924\"], [\"PIK3CA\", 62, \"BMS-536924\"]], \"hoverlabel\": {\"namelength\": 0}, \"hovertemplate\": \"Drug_Name=%{customdata[2]}<br>SE=%{x}<br>-logP=%{y}<br>F1=%{customdata[0]}<br>F2=%{customdata[1]}\", \"legendgroup\": \"BMS-536924\", \"marker\": {\"color\": \"#FF6692\", \"symbol\": \"circle\"}, \"mode\": \"markers\", \"name\": \"BMS-536924\", \"showlegend\": true, \"type\": \"scatter\", \"x\": [0.18051197060757465, 0.2259527012216142, -0.037780140425609086, 0.4420578356009118], \"xaxis\": \"x\", \"y\": [0.4538169355493537, 0.3949187183704635, 0.0998977202997428, 0.6621785907137658], \"yaxis\": \"y\"}, {\"customdata\": [[\"PIK3CA\", 11, \"Paclitaxel\"]], \"hoverlabel\": {\"namelength\": 0}, \"hovertemplate\": \"Drug_Name=%{customdata[2]}<br>SE=%{x}<br>-logP=%{y}<br>F1=%{customdata[0]}<br>F2=%{customdata[1]}\", \"legendgroup\": \"Paclitaxel\", \"marker\": {\"color\": \"#B6E880\", \"symbol\": \"circle\"}, \"mode\": \"markers\", \"name\": \"Paclitaxel\", \"showlegend\": true, \"type\": \"scatter\", \"x\": [0.36529283441450544], \"xaxis\": \"x\", \"y\": [0.5233386463467561], \"yaxis\": \"y\"}, {\"customdata\": [[\"PIK3CA\", 110, \"Roscovitine\"]], \"hoverlabel\": {\"namelength\": 0}, \"hovertemplate\": \"Drug_Name=%{customdata[2]}<br>SE=%{x}<br>-logP=%{y}<br>F1=%{customdata[0]}<br>F2=%{customdata[1]}\", \"legendgroup\": \"Roscovitine\", \"marker\": {\"color\": \"#FF97FF\", \"symbol\": \"circle\"}, \"mode\": \"markers\", \"name\": \"Roscovitine\", \"showlegend\": true, \"type\": \"scatter\", \"x\": [0.6116235933184893], \"xaxis\": \"x\", \"y\": [1.0496180331102538], \"yaxis\": \"y\"}, {\"customdata\": [[\"PIK3CA\", 111, \"Salubrinal\"]], \"hoverlabel\": {\"namelength\": 0}, \"hovertemplate\": \"Drug_Name=%{customdata[2]}<br>SE=%{x}<br>-logP=%{y}<br>F1=%{customdata[0]}<br>F2=%{customdata[1]}\", \"legendgroup\": \"Salubrinal\", \"marker\": {\"color\": \"#FECB52\", \"symbol\": \"circle\"}, \"mode\": \"markers\", \"name\": \"Salubrinal\", \"showlegend\": true, \"type\": \"scatter\", \"x\": [0.7539363403048971], \"xaxis\": \"x\", \"y\": [1.4106385803066162], \"yaxis\": \"y\"}, {\"customdata\": [[\"TP53\", 1114, \"Cetuximab\"], [\"PIK3CA\", 1114, \"Cetuximab\"]], \"hoverlabel\": {\"namelength\": 0}, \"hovertemplate\": \"Drug_Name=%{customdata[2]}<br>SE=%{x}<br>-logP=%{y}<br>F1=%{customdata[0]}<br>F2=%{customdata[1]}\", \"legendgroup\": \"Cetuximab\", \"marker\": {\"color\": \"#636efa\", \"symbol\": \"circle\"}, \"mode\": \"markers\", \"name\": \"Cetuximab\", \"showlegend\": true, \"type\": \"scatter\", \"x\": [-0.03312962093982305, 0.11299286749446745], \"xaxis\": \"x\", \"y\": [0.06808055031308498, 0.3227163139825026], \"yaxis\": \"y\"}, {\"customdata\": [[\"TP53\", 1129, \"PF-4708671\"], [\"BRAF\", 1129, \"PF-4708671\"], [\"PIK3CA\", 1129, \"PF-4708671\"]], \"hoverlabel\": {\"namelength\": 0}, \"hovertemplate\": \"Drug_Name=%{customdata[2]}<br>SE=%{x}<br>-logP=%{y}<br>F1=%{customdata[0]}<br>F2=%{customdata[1]}\", \"legendgroup\": \"PF-4708671\", \"marker\": {\"color\": \"#EF553B\", \"symbol\": \"circle\"}, \"mode\": \"markers\", \"name\": \"PF-4708671\", \"showlegend\": true, \"type\": \"scatter\", \"x\": [0.6882866843017489, 0.17647892856231642, -0.3171947402882332], \"xaxis\": \"x\", \"y\": [2.4952393460087015, 0.2956016784513591, 1.0990162045341971], \"yaxis\": \"y\"}, {\"customdata\": [[\"TP53\", 1133, \"JNJ-26854165\"], [\"BRAF\", 1133, \"JNJ-26854165\"], [\"PIK3CA\", 1133, \"JNJ-26854165\"]], \"hoverlabel\": {\"namelength\": 0}, \"hovertemplate\": \"Drug_Name=%{customdata[2]}<br>SE=%{x}<br>-logP=%{y}<br>F1=%{customdata[0]}<br>F2=%{customdata[1]}\", \"legendgroup\": \"JNJ-26854165\", \"marker\": {\"color\": \"#00cc96\", \"symbol\": \"circle\"}, \"mode\": \"markers\", \"name\": \"JNJ-26854165\", \"showlegend\": true, \"type\": \"scatter\", \"x\": [-0.5025251221289989, 0.20250276188860503, 0.14510725249201106], \"xaxis\": \"x\", \"y\": [1.5661265099551798, 0.3454412724477228, 0.4163431872246653], \"yaxis\": \"y\"}, {\"customdata\": [[\"PIK3CA\", 1142, \"HG-5-113-01\"]], \"hoverlabel\": {\"namelength\": 0}, \"hovertemplate\": \"Drug_Name=%{customdata[2]}<br>SE=%{x}<br>-logP=%{y}<br>F1=%{customdata[0]}<br>F2=%{customdata[1]}\", \"legendgroup\": \"HG-5-113-01\", \"marker\": {\"color\": \"#ab63fa\", \"symbol\": \"circle\"}, \"mode\": \"markers\", \"name\": \"HG-5-113-01\", \"showlegend\": true, \"type\": \"scatter\", \"x\": [0.02163273456783392], \"xaxis\": \"x\", \"y\": [0.041546580517059783], \"yaxis\": \"y\"}, {\"customdata\": [[\"PIK3CA\", 1143, \"HG-5-88-01\"]], \"hoverlabel\": {\"namelength\": 0}, \"hovertemplate\": \"Drug_Name=%{customdata[2]}<br>SE=%{x}<br>-logP=%{y}<br>F1=%{customdata[0]}<br>F2=%{customdata[1]}\", \"legendgroup\": \"HG-5-88-01\", \"marker\": {\"color\": \"#FFA15A\", \"symbol\": \"circle\"}, \"mode\": \"markers\", \"name\": \"HG-5-88-01\", \"showlegend\": true, \"type\": \"scatter\", \"x\": [0.5491146640198891], \"xaxis\": \"x\", \"y\": [1.6763167517424225], \"yaxis\": \"y\"}, {\"customdata\": [[\"TP53\", 1149, \"TW 37\"], [\"BRAF\", 1149, \"TW 37\"], [\"PIK3CA\", 1149, \"TW 37\"]], \"hoverlabel\": {\"namelength\": 0}, \"hovertemplate\": \"Drug_Name=%{customdata[2]}<br>SE=%{x}<br>-logP=%{y}<br>F1=%{customdata[0]}<br>F2=%{customdata[1]}\", \"legendgroup\": \"TW 37\", \"marker\": {\"color\": \"#19d3f3\", \"symbol\": \"circle\"}, \"mode\": \"markers\", \"name\": \"TW 37\", \"showlegend\": true, \"type\": \"scatter\", \"x\": [-0.12440022814421595, -0.2902584811783416, 0.35844117219366856], \"xaxis\": \"x\", \"y\": [0.27723413488526283, 0.5260996880855549, 1.2968714300887858], \"yaxis\": \"y\"}, {\"customdata\": [[\"PIK3CA\", 1158, \"XMD11-85h\"]], \"hoverlabel\": {\"namelength\": 0}, \"hovertemplate\": \"Drug_Name=%{customdata[2]}<br>SE=%{x}<br>-logP=%{y}<br>F1=%{customdata[0]}<br>F2=%{customdata[1]}\", \"legendgroup\": \"XMD11-85h\", \"marker\": {\"color\": \"#FF6692\", \"symbol\": \"circle\"}, \"mode\": \"markers\", \"name\": \"XMD11-85h\", \"showlegend\": true, \"type\": \"scatter\", \"x\": [0.6043531858259571], \"xaxis\": \"x\", \"y\": [1.931996921102052], \"yaxis\": \"y\"}, {\"customdata\": [[\"PIK3CA\", 1161, \"ZG-10\"]], \"hoverlabel\": {\"namelength\": 0}, \"hovertemplate\": \"Drug_Name=%{customdata[2]}<br>SE=%{x}<br>-logP=%{y}<br>F1=%{customdata[0]}<br>F2=%{customdata[1]}\", \"legendgroup\": \"ZG-10\", \"marker\": {\"color\": \"#B6E880\", \"symbol\": \"circle\"}, \"mode\": \"markers\", \"name\": \"ZG-10\", \"showlegend\": true, \"type\": \"scatter\", \"x\": [0.5202957812465964], \"xaxis\": \"x\", \"y\": [1.5504303680298872], \"yaxis\": \"y\"}, {\"customdata\": [[\"PIK3CA\", 1164, \"XMD8-92\"]], \"hoverlabel\": {\"namelength\": 0}, \"hovertemplate\": \"Drug_Name=%{customdata[2]}<br>SE=%{x}<br>-logP=%{y}<br>F1=%{customdata[0]}<br>F2=%{customdata[1]}\", \"legendgroup\": \"XMD8-92\", \"marker\": {\"color\": \"#FF97FF\", \"symbol\": \"circle\"}, \"mode\": \"markers\", \"name\": \"XMD8-92\", \"showlegend\": true, \"type\": \"scatter\", \"x\": [0.14757836359615514], \"xaxis\": \"x\", \"y\": [0.31823323508828283], \"yaxis\": \"y\"}, {\"customdata\": [[\"PIK3CA\", 1166, \"QL-VIII-58\"]], \"hoverlabel\": {\"namelength\": 0}, \"hovertemplate\": \"Drug_Name=%{customdata[2]}<br>SE=%{x}<br>-logP=%{y}<br>F1=%{customdata[0]}<br>F2=%{customdata[1]}\", \"legendgroup\": \"QL-VIII-58\", \"marker\": {\"color\": \"#FECB52\", \"symbol\": \"circle\"}, \"mode\": \"markers\", \"name\": \"QL-VIII-58\", \"showlegend\": true, \"type\": \"scatter\", \"x\": [-0.7111796158213498], \"xaxis\": \"x\", \"y\": [2.484316771180796], \"yaxis\": \"y\"}, {\"customdata\": [[\"TP53\", 1170, \"CCT018159\"], [\"BRAF\", 1170, \"CCT018159\"], [\"PIK3CA\", 1170, \"CCT018159\"]], \"hoverlabel\": {\"namelength\": 0}, \"hovertemplate\": \"Drug_Name=%{customdata[2]}<br>SE=%{x}<br>-logP=%{y}<br>F1=%{customdata[0]}<br>F2=%{customdata[1]}\", \"legendgroup\": \"CCT018159\", \"marker\": {\"color\": \"#636efa\", \"symbol\": \"circle\"}, \"mode\": \"markers\", \"name\": \"CCT018159\", \"showlegend\": true, \"type\": \"scatter\", \"x\": [0.2110880746387252, -0.7496155928901449, 0.10062179627851138], \"xaxis\": \"x\", \"y\": [0.5099747146870102, 1.8280246933202984, 0.27433739210462665], \"yaxis\": \"y\"}, {\"customdata\": [[\"TP53\", 1175, \"AG-014699\"], [\"BRAF\", 1175, \"AG-014699\"], [\"PIK3CA\", 1175, \"AG-014699\"]], \"hoverlabel\": {\"namelength\": 0}, \"hovertemplate\": \"Drug_Name=%{customdata[2]}<br>SE=%{x}<br>-logP=%{y}<br>F1=%{customdata[0]}<br>F2=%{customdata[1]}\", \"legendgroup\": \"AG-014699\", \"marker\": {\"color\": \"#EF553B\", \"symbol\": \"circle\"}, \"mode\": \"markers\", \"name\": \"AG-014699\", \"showlegend\": true, \"type\": \"scatter\", \"x\": [0.3459078778258412, -0.09291286526018884, -0.17192589580940304], \"xaxis\": \"x\", \"y\": [0.9429985536266614, 0.1466407866212367, 0.508468048125255], \"yaxis\": \"y\"}, {\"customdata\": [[\"PIK3CA\", 119, \"Lapatinib\"]], \"hoverlabel\": {\"namelength\": 0}, \"hovertemplate\": \"Drug_Name=%{customdata[2]}<br>SE=%{x}<br>-logP=%{y}<br>F1=%{customdata[0]}<br>F2=%{customdata[1]}\", \"legendgroup\": \"Lapatinib\", \"marker\": {\"color\": \"#00cc96\", \"symbol\": \"circle\"}, \"mode\": \"markers\", \"name\": \"Lapatinib\", \"showlegend\": true, \"type\": \"scatter\", \"x\": [-0.55785807692026], \"xaxis\": \"x\", \"y\": [0.9269896140102606], \"yaxis\": \"y\"}, {\"customdata\": [[\"TP53\", 1192, \"GSK269962A\"], [\"BRAF\", 1192, \"GSK269962A\"], [\"PIK3CA\", 1192, \"GSK269962A\"], [\"TP53\", 127, \"GSK269962A\"], [\"PIK3CA\", 127, \"GSK269962A\"]], \"hoverlabel\": {\"namelength\": 0}, \"hovertemplate\": \"Drug_Name=%{customdata[2]}<br>SE=%{x}<br>-logP=%{y}<br>F1=%{customdata[0]}<br>F2=%{customdata[1]}\", \"legendgroup\": \"GSK269962A\", \"marker\": {\"color\": \"#ab63fa\", \"symbol\": \"circle\"}, \"mode\": \"markers\", \"name\": \"GSK269962A\", \"showlegend\": true, \"type\": \"scatter\", \"x\": [0.14636210558260676, -0.1845558929863222, -0.12556590441293294, 0.7883954673127965, 0.26570206546498826], \"xaxis\": \"x\", \"y\": [0.35580921340573063, 0.3133226526111478, 0.3693799366814588, 1.5542636747396266, 0.3816430679645907], \"yaxis\": \"y\"}, {\"customdata\": [[\"TP53\", 1194, \"SB-505124\"], [\"BRAF\", 1194, \"SB-505124\"], [\"PIK3CA\", 1194, \"SB-505124\"]], \"hoverlabel\": {\"namelength\": 0}, \"hovertemplate\": \"Drug_Name=%{customdata[2]}<br>SE=%{x}<br>-logP=%{y}<br>F1=%{customdata[0]}<br>F2=%{customdata[1]}\", \"legendgroup\": \"SB-505124\", \"marker\": {\"color\": \"#FFA15A\", \"symbol\": \"circle\"}, \"mode\": \"markers\", \"name\": \"SB-505124\", \"showlegend\": true, \"type\": \"scatter\", \"x\": [0.16594571894006094, 0.5188934353928767, -0.1514868830741444], \"xaxis\": \"x\", \"y\": [0.4112848907133325, 1.1040479315285463, 0.4595070779611001], \"yaxis\": \"y\"}, {\"customdata\": [[\"TP53\", 1199, \"Tamoxifen\"], [\"BRAF\", 1199, \"Tamoxifen\"], [\"PIK3CA\", 1199, \"Tamoxifen\"]], \"hoverlabel\": {\"namelength\": 0}, \"hovertemplate\": \"Drug_Name=%{customdata[2]}<br>SE=%{x}<br>-logP=%{y}<br>F1=%{customdata[0]}<br>F2=%{customdata[1]}\", \"legendgroup\": \"Tamoxifen\", \"marker\": {\"color\": \"#19d3f3\", \"symbol\": \"circle\"}, \"mode\": \"markers\", \"name\": \"Tamoxifen\", \"showlegend\": true, \"type\": \"scatter\", \"x\": [0.19555653537416, 0.20027857190384304, -0.43154045097913823], \"xaxis\": \"x\", \"y\": [0.49889831235847, 0.34380391395569804, 1.7839732989301067], \"yaxis\": \"y\"}, {\"customdata\": [[\"PIK3CA\", 1203, \"QL-XII-61\"]], \"hoverlabel\": {\"namelength\": 0}, \"hovertemplate\": \"Drug_Name=%{customdata[2]}<br>SE=%{x}<br>-logP=%{y}<br>F1=%{customdata[0]}<br>F2=%{customdata[1]}\", \"legendgroup\": \"QL-XII-61\", \"marker\": {\"color\": \"#FF6692\", \"symbol\": \"circle\"}, \"mode\": \"markers\", \"name\": \"QL-XII-61\", \"showlegend\": true, \"type\": \"scatter\", \"x\": [-0.4055897651243724], \"xaxis\": \"x\", \"y\": [1.0283160936760614], \"yaxis\": \"y\"}, {\"customdata\": [[\"TP53\", 1218, \"JQ1\"], [\"BRAF\", 1218, \"JQ1\"], [\"PIK3CA\", 1218, \"JQ1\"], [\"TP53\", 163, \"JQ1\"], [\"PIK3CA\", 163, \"JQ1\"]], \"hoverlabel\": {\"namelength\": 0}, \"hovertemplate\": \"Drug_Name=%{customdata[2]}<br>SE=%{x}<br>-logP=%{y}<br>F1=%{customdata[0]}<br>F2=%{customdata[1]}\", \"legendgroup\": \"JQ1\", \"marker\": {\"color\": \"#B6E880\", \"symbol\": \"circle\"}, \"mode\": \"markers\", \"name\": \"JQ1\", \"showlegend\": true, \"type\": \"scatter\", \"x\": [0.3623137434832931, -0.27321070382728746, 0.14989865332291386, -0.10707563723064098, 0.4797000671504309], \"xaxis\": \"x\", \"y\": [1.07701695852526, 0.4925020179489183, 0.4505323426288866, 0.2502987046500866, 2.0842597340211357], \"yaxis\": \"y\"}, {\"customdata\": [[\"TP53\", 1219, \"PFI-1\"], [\"BRAF\", 1219, \"PFI-1\"], [\"PIK3CA\", 1219, \"PFI-1\"]], \"hoverlabel\": {\"namelength\": 0}, \"hovertemplate\": \"Drug_Name=%{customdata[2]}<br>SE=%{x}<br>-logP=%{y}<br>F1=%{customdata[0]}<br>F2=%{customdata[1]}\", \"legendgroup\": \"PFI-1\", \"marker\": {\"color\": \"#FF97FF\", \"symbol\": \"circle\"}, \"mode\": \"markers\", \"name\": \"PFI-1\", \"showlegend\": true, \"type\": \"scatter\", \"x\": [-0.31208968768474143, 0.31190651270590514, -0.02221210373156269], \"xaxis\": \"x\", \"y\": [0.889413301563465, 0.5784660200720646, 0.05760640381414831], \"yaxis\": \"y\"}, {\"customdata\": [[\"TP53\", 1230, \"IOX2\"], [\"BRAF\", 1230, \"IOX2\"], [\"PIK3CA\", 1230, \"IOX2\"]], \"hoverlabel\": {\"namelength\": 0}, \"hovertemplate\": \"Drug_Name=%{customdata[2]}<br>SE=%{x}<br>-logP=%{y}<br>F1=%{customdata[0]}<br>F2=%{customdata[1]}\", \"legendgroup\": \"IOX2\", \"marker\": {\"color\": \"#FECB52\", \"symbol\": \"circle\"}, \"mode\": \"markers\", \"name\": \"IOX2\", \"showlegend\": true, \"type\": \"scatter\", \"x\": [0.30138538228311923, 0.20242671871224724, 0.3439912468175366], \"xaxis\": \"x\", \"y\": [0.8503874957506828, 0.34801668375569056, 1.2959592507546822], \"yaxis\": \"y\"}, {\"customdata\": [[\"TP53\", 1236, \"UNC0638\"], [\"BRAF\", 1236, \"UNC0638\"], [\"PIK3CA\", 1236, \"UNC0638\"], [\"TP53\", 245, \"UNC0638\"], [\"PIK3CA\", 245, \"UNC0638\"]], \"hoverlabel\": {\"namelength\": 0}, \"hovertemplate\": \"Drug_Name=%{customdata[2]}<br>SE=%{x}<br>-logP=%{y}<br>F1=%{customdata[0]}<br>F2=%{customdata[1]}\", \"legendgroup\": \"UNC0638\", \"marker\": {\"color\": \"#636efa\", \"symbol\": \"circle\"}, \"mode\": \"markers\", \"name\": \"UNC0638\", \"showlegend\": true, \"type\": \"scatter\", \"x\": [-0.15469694854304145, -0.40511893506630586, 0.2094244143322593, -0.28433016179116954, 0.2211530789460648], \"xaxis\": \"x\", \"y\": [0.3791823329469789, 0.800026869136815, 0.6794142690872703, 0.8369696889719235, 0.7515965702808363], \"yaxis\": \"y\"}, {\"customdata\": [[\"TP53\", 1239, \"YK 4-279\"], [\"PIK3CA\", 1239, \"YK 4-279\"]], \"hoverlabel\": {\"namelength\": 0}, \"hovertemplate\": \"Drug_Name=%{customdata[2]}<br>SE=%{x}<br>-logP=%{y}<br>F1=%{customdata[0]}<br>F2=%{customdata[1]}\", \"legendgroup\": \"YK 4-279\", \"marker\": {\"color\": \"#EF553B\", \"symbol\": \"circle\"}, \"mode\": \"markers\", \"name\": \"YK 4-279\", \"showlegend\": true, \"type\": \"scatter\", \"x\": [-0.033466191045250684, -0.3004942544162996], \"xaxis\": \"x\", \"y\": [0.06809664461574637, 0.9919030700522584], \"yaxis\": \"y\"}, {\"customdata\": [[\"TP53\", 1241, \"CHIR-99021\"], [\"BRAF\", 1241, \"CHIR-99021\"], [\"PIK3CA\", 1241, \"CHIR-99021\"], [\"TP53\", 154, \"CHIR-99021\"], [\"PIK3CA\", 154, \"CHIR-99021\"]], \"hoverlabel\": {\"namelength\": 0}, \"hovertemplate\": \"Drug_Name=%{customdata[2]}<br>SE=%{x}<br>-logP=%{y}<br>F1=%{customdata[0]}<br>F2=%{customdata[1]}\", \"legendgroup\": \"CHIR-99021\", \"marker\": {\"color\": \"#00cc96\", \"symbol\": \"circle\"}, \"mode\": \"markers\", \"name\": \"CHIR-99021\", \"showlegend\": true, \"type\": \"scatter\", \"x\": [-0.06837084065218475, 0.1973200774530231, 0.2260796105653309, 0.041203802371923115, 0.3233071287416291], \"xaxis\": \"x\", \"y\": [0.1531563564108923, 0.33740401314162, 0.7417249810619162, 0.09007004527233149, 1.1910289198977964], \"yaxis\": \"y\"}, {\"customdata\": [[\"TP53\", 1242, \"(5Z)-7-Oxozeaenol\"], [\"BRAF\", 1242, \"(5Z)-7-Oxozeaenol\"], [\"PIK3CA\", 1242, \"(5Z)-7-Oxozeaenol\"]], \"hoverlabel\": {\"namelength\": 0}, \"hovertemplate\": \"Drug_Name=%{customdata[2]}<br>SE=%{x}<br>-logP=%{y}<br>F1=%{customdata[0]}<br>F2=%{customdata[1]}\", \"legendgroup\": \"(5Z)-7-Oxozeaenol\", \"marker\": {\"color\": \"#ab63fa\", \"symbol\": \"circle\"}, \"mode\": \"markers\", \"name\": \"(5Z)-7-Oxozeaenol\", \"showlegend\": true, \"type\": \"scatter\", \"x\": [0.1477956416217368, -0.5327786664778889, -0.09168445901353846], \"xaxis\": \"x\", \"y\": [0.35849906503427365, 1.141494758465191, 0.2571804876861649], \"yaxis\": \"y\"}, {\"customdata\": [[\"TP53\", 1243, \"piperlongumine\"], [\"BRAF\", 1243, \"piperlongumine\"], [\"PIK3CA\", 1243, \"piperlongumine\"]], \"hoverlabel\": {\"namelength\": 0}, \"hovertemplate\": \"Drug_Name=%{customdata[2]}<br>SE=%{x}<br>-logP=%{y}<br>F1=%{customdata[0]}<br>F2=%{customdata[1]}\", \"legendgroup\": \"piperlongumine\", \"marker\": {\"color\": \"#FFA15A\", \"symbol\": \"circle\"}, \"mode\": \"markers\", \"name\": \"piperlongumine\", \"showlegend\": true, \"type\": \"scatter\", \"x\": [-0.19042944917275695, 0.3404264225965796, -0.4465358777641187], \"xaxis\": \"x\", \"y\": [0.4834024057593331, 0.6437135444731419, 1.8749690808416608], \"yaxis\": \"y\"}, {\"customdata\": [[\"TP53\", 1248, \"FK866\"], [\"BRAF\", 1248, \"FK866\"], [\"PIK3CA\", 1248, \"FK866\"]], \"hoverlabel\": {\"namelength\": 0}, \"hovertemplate\": \"Drug_Name=%{customdata[2]}<br>SE=%{x}<br>-logP=%{y}<br>F1=%{customdata[0]}<br>F2=%{customdata[1]}\", \"legendgroup\": \"FK866\", \"marker\": {\"color\": \"#19d3f3\", \"symbol\": \"circle\"}, \"mode\": \"markers\", \"name\": \"FK866\", \"showlegend\": true, \"type\": \"scatter\", \"x\": [0.5546735731126051, -0.5412897853513478, -0.034446170934199265], \"xaxis\": \"x\", \"y\": [1.9538528889350888, 1.1660925107477862, 0.09011701063480347], \"yaxis\": \"y\"}, {\"customdata\": [[\"TP53\", 1259, \"BMN-673\"], [\"BRAF\", 1259, \"BMN-673\"], [\"PIK3CA\", 1259, \"BMN-673\"]], \"hoverlabel\": {\"namelength\": 0}, \"hovertemplate\": \"Drug_Name=%{customdata[2]}<br>SE=%{x}<br>-logP=%{y}<br>F1=%{customdata[0]}<br>F2=%{customdata[1]}\", \"legendgroup\": \"BMN-673\", \"marker\": {\"color\": \"#FF6692\", \"symbol\": \"circle\"}, \"mode\": \"markers\", \"name\": \"BMN-673\", \"showlegend\": true, \"type\": \"scatter\", \"x\": [0.1737264170955257, 0.27716190290982623, -0.0971684007275006], \"xaxis\": \"x\", \"y\": [0.4338680019233165, 0.501932877558024, 0.2762821231230284], \"yaxis\": \"y\"}, {\"customdata\": [[\"TP53\", 1261, \"rTRAIL\"], [\"BRAF\", 1261, \"rTRAIL\"], [\"PIK3CA\", 1261, \"rTRAIL\"]], \"hoverlabel\": {\"namelength\": 0}, \"hovertemplate\": \"Drug_Name=%{customdata[2]}<br>SE=%{x}<br>-logP=%{y}<br>F1=%{customdata[0]}<br>F2=%{customdata[1]}\", \"legendgroup\": \"rTRAIL\", \"marker\": {\"color\": \"#B6E880\", \"symbol\": \"circle\"}, \"mode\": \"markers\", \"name\": \"rTRAIL\", \"showlegend\": true, \"type\": \"scatter\", \"x\": [-0.2739215466361617, -0.2037354326502293, 0.7619582523180098], \"xaxis\": \"x\", \"y\": [0.7532403518352981, 0.35058892888277865, 4.3697787544873545], \"yaxis\": \"y\"}, {\"customdata\": [[\"TP53\", 1262, \"UNC1215\"], [\"BRAF\", 1262, \"UNC1215\"], [\"PIK3CA\", 1262, \"UNC1215\"]], \"hoverlabel\": {\"namelength\": 0}, \"hovertemplate\": \"Drug_Name=%{customdata[2]}<br>SE=%{x}<br>-logP=%{y}<br>F1=%{customdata[0]}<br>F2=%{customdata[1]}\", \"legendgroup\": \"UNC1215\", \"marker\": {\"color\": \"#FF97FF\", \"symbol\": \"circle\"}, \"mode\": \"markers\", \"name\": \"UNC1215\", \"showlegend\": true, \"type\": \"scatter\", \"x\": [0.404929750777443, -0.5254851094698842, 0.20121884611806254], \"xaxis\": \"x\", \"y\": [1.2509940310838032, 1.120591582543703, 0.6417648476799221], \"yaxis\": \"y\"}, {\"customdata\": [[\"TP53\", 1264, \"SGC0946\"], [\"BRAF\", 1264, \"SGC0946\"], [\"PIK3CA\", 1264, \"SGC0946\"]], \"hoverlabel\": {\"namelength\": 0}, \"hovertemplate\": \"Drug_Name=%{customdata[2]}<br>SE=%{x}<br>-logP=%{y}<br>F1=%{customdata[0]}<br>F2=%{customdata[1]}\", \"legendgroup\": \"SGC0946\", \"marker\": {\"color\": \"#FECB52\", \"symbol\": \"circle\"}, \"mode\": \"markers\", \"name\": \"SGC0946\", \"showlegend\": true, \"type\": \"scatter\", \"x\": [0.130597326519373, -0.10843070641249106, 0.1403738623757011], \"xaxis\": \"x\", \"y\": [0.31143381518469365, 0.1740453438944954, 0.4172180751244313], \"yaxis\": \"y\"}, {\"customdata\": [[\"TP53\", 1268, \"XAV 939\"], [\"BRAF\", 1268, \"XAV 939\"], [\"PIK3CA\", 1268, \"XAV 939\"]], \"hoverlabel\": {\"namelength\": 0}, \"hovertemplate\": \"Drug_Name=%{customdata[2]}<br>SE=%{x}<br>-logP=%{y}<br>F1=%{customdata[0]}<br>F2=%{customdata[1]}\", \"legendgroup\": \"XAV 939\", \"marker\": {\"color\": \"#636efa\", \"symbol\": \"circle\"}, \"mode\": \"markers\", \"name\": \"XAV 939\", \"showlegend\": true, \"type\": \"scatter\", \"x\": [-0.3904751572112895, 0.5555932673536811, -0.1826257342142446], \"xaxis\": \"x\", \"y\": [1.1956753434183292, 1.2103603116070818, 0.5744662420809641], \"yaxis\": \"y\"}, {\"customdata\": [[\"TP53\", 133, \"Doxorubicin\"], [\"PIK3CA\", 133, \"Doxorubicin\"]], \"hoverlabel\": {\"namelength\": 0}, \"hovertemplate\": \"Drug_Name=%{customdata[2]}<br>SE=%{x}<br>-logP=%{y}<br>F1=%{customdata[0]}<br>F2=%{customdata[1]}\", \"legendgroup\": \"Doxorubicin\", \"marker\": {\"color\": \"#EF553B\", \"symbol\": \"circle\"}, \"mode\": \"markers\", \"name\": \"Doxorubicin\", \"showlegend\": true, \"type\": \"scatter\", \"x\": [0.4417547711187964, -0.1377821429253306], \"xaxis\": \"x\", \"y\": [1.4219582586829602, 0.4210947379743735], \"yaxis\": \"y\"}, {\"customdata\": [[\"TP53\", 134, \"Etoposide\"], [\"PIK3CA\", 134, \"Etoposide\"]], \"hoverlabel\": {\"namelength\": 0}, \"hovertemplate\": \"Drug_Name=%{customdata[2]}<br>SE=%{x}<br>-logP=%{y}<br>F1=%{customdata[0]}<br>F2=%{customdata[1]}\", \"legendgroup\": \"Etoposide\", \"marker\": {\"color\": \"#00cc96\", \"symbol\": \"circle\"}, \"mode\": \"markers\", \"name\": \"Etoposide\", \"showlegend\": true, \"type\": \"scatter\", \"x\": [0.3208110007821713, -0.3058570489423049], \"xaxis\": \"x\", \"y\": [0.92169728817515, 1.1054641482391765], \"yaxis\": \"y\"}, {\"customdata\": [[\"TP53\", 135, \"Gemcitabine\"], [\"PIK3CA\", 135, \"Gemcitabine\"]], \"hoverlabel\": {\"namelength\": 0}, \"hovertemplate\": \"Drug_Name=%{customdata[2]}<br>SE=%{x}<br>-logP=%{y}<br>F1=%{customdata[0]}<br>F2=%{customdata[1]}\", \"legendgroup\": \"Gemcitabine\", \"marker\": {\"color\": \"#ab63fa\", \"symbol\": \"circle\"}, \"mode\": \"markers\", \"name\": \"Gemcitabine\", \"showlegend\": true, \"type\": \"scatter\", \"x\": [0.4183692506363973, -0.16599839626427487], \"xaxis\": \"x\", \"y\": [1.31886599334575, 0.5247646434899808], \"yaxis\": \"y\"}, {\"customdata\": [[\"TP53\", 136, \"Mitomycin C\"], [\"PIK3CA\", 136, \"Mitomycin C\"]], \"hoverlabel\": {\"namelength\": 0}, \"hovertemplate\": \"Drug_Name=%{customdata[2]}<br>SE=%{x}<br>-logP=%{y}<br>F1=%{customdata[0]}<br>F2=%{customdata[1]}\", \"legendgroup\": \"Mitomycin C\", \"marker\": {\"color\": \"#FFA15A\", \"symbol\": \"circle\"}, \"mode\": \"markers\", \"name\": \"Mitomycin C\", \"showlegend\": true, \"type\": \"scatter\", \"x\": [0.5858697406668021, -0.3198691518102364], \"xaxis\": \"x\", \"y\": [2.1372636178835616, 1.2065155460055226], \"yaxis\": \"y\"}, {\"customdata\": [[\"TP53\", 1371, \"PLX4720 (rescreen)\"], [\"BRAF\", 1371, \"PLX4720 (rescreen)\"], [\"PIK3CA\", 1371, \"PLX4720 (rescreen)\"]], \"hoverlabel\": {\"namelength\": 0}, \"hovertemplate\": \"Drug_Name=%{customdata[2]}<br>SE=%{x}<br>-logP=%{y}<br>F1=%{customdata[0]}<br>F2=%{customdata[1]}\", \"legendgroup\": \"PLX4720 (rescreen)\", \"marker\": {\"color\": \"#19d3f3\", \"symbol\": \"circle\"}, \"mode\": \"markers\", \"name\": \"PLX4720 (rescreen)\", \"showlegend\": true, \"type\": \"scatter\", \"x\": [0.3878516313579289, -0.904594347442828, 0.2157747834726668], \"xaxis\": \"x\", \"y\": [1.1848283735801437, 2.4424697798281945, 0.7051158918313086], \"yaxis\": \"y\"}, {\"customdata\": [[\"TP53\", 1372, \"Trametinib\"], [\"BRAF\", 1372, \"Trametinib\"], [\"PIK3CA\", 1372, \"Trametinib\"]], \"hoverlabel\": {\"namelength\": 0}, \"hovertemplate\": \"Drug_Name=%{customdata[2]}<br>SE=%{x}<br>-logP=%{y}<br>F1=%{customdata[0]}<br>F2=%{customdata[1]}\", \"legendgroup\": \"Trametinib\", \"marker\": {\"color\": \"#FF6692\", \"symbol\": \"circle\"}, \"mode\": \"markers\", \"name\": \"Trametinib\", \"showlegend\": true, \"type\": \"scatter\", \"x\": [-0.012158310133068577, -0.6665681454714281, 0.31783015941868525], \"xaxis\": \"x\", \"y\": [0.025706080336789297, 1.5544057387464023, 1.1543347816839198], \"yaxis\": \"y\"}, {\"customdata\": [[\"TP53\", 1373, \"Dabrafenib\"], [\"BRAF\", 1373, \"Dabrafenib\"], [\"PIK3CA\", 1373, \"Dabrafenib\"]], \"hoverlabel\": {\"namelength\": 0}, \"hovertemplate\": \"Drug_Name=%{customdata[2]}<br>SE=%{x}<br>-logP=%{y}<br>F1=%{customdata[0]}<br>F2=%{customdata[1]}\", \"legendgroup\": \"Dabrafenib\", \"marker\": {\"color\": \"#B6E880\", \"symbol\": \"circle\"}, \"mode\": \"markers\", \"name\": \"Dabrafenib\", \"showlegend\": true, \"type\": \"scatter\", \"x\": [0.8328633809129042, -1.2149809374606295, 0.03152259626051896], \"xaxis\": \"x\", \"y\": [3.691963480360876, 3.9187465642667454, 0.08217127325334278], \"yaxis\": \"y\"}, {\"customdata\": [[\"TP53\", 1375, \"Temozolomide\"], [\"BRAF\", 1375, \"Temozolomide\"], [\"PIK3CA\", 1375, \"Temozolomide\"]], \"hoverlabel\": {\"namelength\": 0}, \"hovertemplate\": \"Drug_Name=%{customdata[2]}<br>SE=%{x}<br>-logP=%{y}<br>F1=%{customdata[0]}<br>F2=%{customdata[1]}\", \"legendgroup\": \"Temozolomide\", \"marker\": {\"color\": \"#FF97FF\", \"symbol\": \"circle\"}, \"mode\": \"markers\", \"name\": \"Temozolomide\", \"showlegend\": true, \"type\": \"scatter\", \"x\": [0.06979143425128867, -0.18292795468502568, 0.3203607977675331], \"xaxis\": \"x\", \"y\": [0.1565646408562439, 0.3096396507898379, 1.1667277713874171], \"yaxis\": \"y\"}, {\"customdata\": [[\"TP53\", 1377, \"Afatinib (rescreen)\"], [\"BRAF\", 1377, \"Afatinib (rescreen)\"], [\"PIK3CA\", 1377, \"Afatinib (rescreen)\"]], \"hoverlabel\": {\"namelength\": 0}, \"hovertemplate\": \"Drug_Name=%{customdata[2]}<br>SE=%{x}<br>-logP=%{y}<br>F1=%{customdata[0]}<br>F2=%{customdata[1]}\", \"legendgroup\": \"Afatinib (rescreen)\", \"marker\": {\"color\": \"#FECB52\", \"symbol\": \"circle\"}, \"mode\": \"markers\", \"name\": \"Afatinib (rescreen)\", \"showlegend\": true, \"type\": \"scatter\", \"x\": [-0.11775387541157635, -0.7292039454438056, -0.38099723266358504], \"xaxis\": \"x\", \"y\": [0.2782243265331751, 1.7712273408077386, 1.4934150388305576], \"yaxis\": \"y\"}, {\"customdata\": [[\"TP53\", 1378, \"Bleomycin (50 uM)\"], [\"BRAF\", 1378, \"Bleomycin (50 uM)\"], [\"PIK3CA\", 1378, \"Bleomycin (50 uM)\"]], \"hoverlabel\": {\"namelength\": 0}, \"hovertemplate\": \"Drug_Name=%{customdata[2]}<br>SE=%{x}<br>-logP=%{y}<br>F1=%{customdata[0]}<br>F2=%{customdata[1]}\", \"legendgroup\": \"Bleomycin (50 uM)\", \"marker\": {\"color\": \"#636efa\", \"symbol\": \"circle\"}, \"mode\": \"markers\", \"name\": \"Bleomycin (50 uM)\", \"showlegend\": true, \"type\": \"scatter\", \"x\": [-0.0562540789913586, 0.564773118450848, -0.018542226219512372], \"xaxis\": \"x\", \"y\": [0.12528929761941945, 1.2399826313145694, 0.04816006437283607], \"yaxis\": \"y\"}, {\"customdata\": [[\"TP53\", 140, \"Vinorelbine\"], [\"PIK3CA\", 140, \"Vinorelbine\"]], \"hoverlabel\": {\"namelength\": 0}, \"hovertemplate\": \"Drug_Name=%{customdata[2]}<br>SE=%{x}<br>-logP=%{y}<br>F1=%{customdata[0]}<br>F2=%{customdata[1]}\", \"legendgroup\": \"Vinorelbine\", \"marker\": {\"color\": \"#EF553B\", \"symbol\": \"circle\"}, \"mode\": \"markers\", \"name\": \"Vinorelbine\", \"showlegend\": true, \"type\": \"scatter\", \"x\": [-0.31230131572865205, -0.018643098474157252], \"xaxis\": \"x\", \"y\": [0.8901914922591299, 0.04813516740816074], \"yaxis\": \"y\"}, {\"customdata\": [[\"TP53\", 147, \"NSC-87877\"], [\"PIK3CA\", 147, \"NSC-87877\"]], \"hoverlabel\": {\"namelength\": 0}, \"hovertemplate\": \"Drug_Name=%{customdata[2]}<br>SE=%{x}<br>-logP=%{y}<br>F1=%{customdata[0]}<br>F2=%{customdata[1]}\", \"legendgroup\": \"NSC-87877\", \"marker\": {\"color\": \"#00cc96\", \"symbol\": \"circle\"}, \"mode\": \"markers\", \"name\": \"NSC-87877\", \"showlegend\": true, \"type\": \"scatter\", \"x\": [0.5665882543887963, -0.024500865311274343], \"xaxis\": \"x\", \"y\": [2.0249386269602403, 0.06372396710879369], \"yaxis\": \"y\"}, {\"customdata\": [[\"TP53\", 1494, \"SN-38\"], [\"BRAF\", 1494, \"SN-38\"], [\"PIK3CA\", 1494, \"SN-38\"]], \"hoverlabel\": {\"namelength\": 0}, \"hovertemplate\": \"Drug_Name=%{customdata[2]}<br>SE=%{x}<br>-logP=%{y}<br>F1=%{customdata[0]}<br>F2=%{customdata[1]}\", \"legendgroup\": \"SN-38\", \"marker\": {\"color\": \"#ab63fa\", \"symbol\": \"circle\"}, \"mode\": \"markers\", \"name\": \"SN-38\", \"showlegend\": true, \"type\": \"scatter\", \"x\": [0.3528118547802795, 0.4178007116307277, 0.021912558337805168], \"xaxis\": \"x\", \"y\": [1.048025493109813, 0.8336192529288543, 0.05715549747149368], \"yaxis\": \"y\"}, {\"customdata\": [[\"TP53\", 150, \"Bicalutamide\"], [\"PIK3CA\", 150, \"Bicalutamide\"], [\"TP53\", 1502, \"Bicalutamide\"], [\"PIK3CA\", 1502, \"Bicalutamide\"]], \"hoverlabel\": {\"namelength\": 0}, \"hovertemplate\": \"Drug_Name=%{customdata[2]}<br>SE=%{x}<br>-logP=%{y}<br>F1=%{customdata[0]}<br>F2=%{customdata[1]}\", \"legendgroup\": \"Bicalutamide\", \"marker\": {\"color\": \"#FFA15A\", \"symbol\": \"circle\"}, \"mode\": \"markers\", \"name\": \"Bicalutamide\", \"showlegend\": true, \"type\": \"scatter\", \"x\": [0.9165176558662368, 0.1857518869812493, 0.17834799547995653, -0.0885201316479824], \"xaxis\": \"x\", \"y\": [4.378060768910991, 0.6011043842486788, 0.42117243306018176, 0.2455647471537556], \"yaxis\": \"y\"}, {\"customdata\": [[\"TP53\", 151, \"QS11\"], [\"PIK3CA\", 151, \"QS11\"]], \"hoverlabel\": {\"namelength\": 0}, \"hovertemplate\": \"Drug_Name=%{customdata[2]}<br>SE=%{x}<br>-logP=%{y}<br>F1=%{customdata[0]}<br>F2=%{customdata[1]}\", \"legendgroup\": \"QS11\", \"marker\": {\"color\": \"#19d3f3\", \"symbol\": \"circle\"}, \"mode\": \"markers\", \"name\": \"QS11\", \"showlegend\": true, \"type\": \"scatter\", \"x\": [0.4401697439701043, -0.14099379828231573], \"xaxis\": \"x\", \"y\": [1.414860742196961, 0.4325806641524756], \"yaxis\": \"y\"}, {\"customdata\": [[\"TP53\", 152, \"CP466722\"], [\"PIK3CA\", 152, \"CP466722\"]], \"hoverlabel\": {\"namelength\": 0}, \"hovertemplate\": \"Drug_Name=%{customdata[2]}<br>SE=%{x}<br>-logP=%{y}<br>F1=%{customdata[0]}<br>F2=%{customdata[1]}\", \"legendgroup\": \"CP466722\", \"marker\": {\"color\": \"#FF6692\", \"symbol\": \"circle\"}, \"mode\": \"markers\", \"name\": \"CP466722\", \"showlegend\": true, \"type\": \"scatter\", \"x\": [0.06847601414258131, -0.21492866822839268], \"xaxis\": \"x\", \"y\": [0.16170311697140988, 0.7251596935832548], \"yaxis\": \"y\"}, {\"customdata\": [[\"TP53\", 1526, \"RDEA119 (rescreen)\"], [\"PIK3CA\", 1526, \"RDEA119 (rescreen)\"]], \"hoverlabel\": {\"namelength\": 0}, \"hovertemplate\": \"Drug_Name=%{customdata[2]}<br>SE=%{x}<br>-logP=%{y}<br>F1=%{customdata[0]}<br>F2=%{customdata[1]}\", \"legendgroup\": \"RDEA119 (rescreen)\", \"marker\": {\"color\": \"#B6E880\", \"symbol\": \"circle\"}, \"mode\": \"markers\", \"name\": \"RDEA119 (rescreen)\", \"showlegend\": true, \"type\": \"scatter\", \"x\": [0.2579701952358781, 0.4258619307762863], \"xaxis\": \"x\", \"y\": [0.6554637177732044, 1.719129308477169], \"yaxis\": \"y\"}, {\"customdata\": [[\"TP53\", 1527, \"GDC0941 (rescreen)\"], [\"PIK3CA\", 1527, \"GDC0941 (rescreen)\"]], \"hoverlabel\": {\"namelength\": 0}, \"hovertemplate\": \"Drug_Name=%{customdata[2]}<br>SE=%{x}<br>-logP=%{y}<br>F1=%{customdata[0]}<br>F2=%{customdata[1]}\", \"legendgroup\": \"GDC0941 (rescreen)\", \"marker\": {\"color\": \"#FF97FF\", \"symbol\": \"circle\"}, \"mode\": \"markers\", \"name\": \"GDC0941 (rescreen)\", \"showlegend\": true, \"type\": \"scatter\", \"x\": [-0.6972162036297485, -0.9567417532528771], \"xaxis\": \"x\", \"y\": [2.5675546349014513, 6.463545069540375], \"yaxis\": \"y\"}, {\"customdata\": [[\"TP53\", 1529, \"MLN4924\"], [\"PIK3CA\", 1529, \"MLN4924\"]], \"hoverlabel\": {\"namelength\": 0}, \"hovertemplate\": \"Drug_Name=%{customdata[2]}<br>SE=%{x}<br>-logP=%{y}<br>F1=%{customdata[0]}<br>F2=%{customdata[1]}\", \"legendgroup\": \"MLN4924\", \"marker\": {\"color\": \"#FECB52\", \"symbol\": \"circle\"}, \"mode\": \"markers\", \"name\": \"MLN4924\", \"showlegend\": true, \"type\": \"scatter\", \"x\": [0.3526421890799005, 0.4073852133287041], \"xaxis\": \"x\", \"y\": [0.9437263656852608, 1.4065240352618846], \"yaxis\": \"y\"}, {\"customdata\": [[\"TP53\", 153, \"Midostaurin\"], [\"PIK3CA\", 153, \"Midostaurin\"]], \"hoverlabel\": {\"namelength\": 0}, \"hovertemplate\": \"Drug_Name=%{customdata[2]}<br>SE=%{x}<br>-logP=%{y}<br>F1=%{customdata[0]}<br>F2=%{customdata[1]}\", \"legendgroup\": \"Midostaurin\", \"marker\": {\"color\": \"#636efa\", \"symbol\": \"circle\"}, \"mode\": \"markers\", \"name\": \"Midostaurin\", \"showlegend\": true, \"type\": \"scatter\", \"x\": [0.2913667479554541, 0.11499146296986885], \"xaxis\": \"x\", \"y\": [0.8144546070453155, 0.33403246658091224], \"yaxis\": \"y\"}, {\"customdata\": [[\"TP53\", 155, \"AP-24534\"], [\"PIK3CA\", 155, \"AP-24534\"]], \"hoverlabel\": {\"namelength\": 0}, \"hovertemplate\": \"Drug_Name=%{customdata[2]}<br>SE=%{x}<br>-logP=%{y}<br>F1=%{customdata[0]}<br>F2=%{customdata[1]}\", \"legendgroup\": \"AP-24534\", \"marker\": {\"color\": \"#EF553B\", \"symbol\": \"circle\"}, \"mode\": \"markers\", \"name\": \"AP-24534\", \"showlegend\": true, \"type\": \"scatter\", \"x\": [0.40131446881145455, 0.2770893732786763], \"xaxis\": \"x\", \"y\": [1.2409388533821315, 0.970192837232804], \"yaxis\": \"y\"}, {\"customdata\": [[\"TP53\", 157, \"JNK-9L\"], [\"PIK3CA\", 157, \"JNK-9L\"]], \"hoverlabel\": {\"namelength\": 0}, \"hovertemplate\": \"Drug_Name=%{customdata[2]}<br>SE=%{x}<br>-logP=%{y}<br>F1=%{customdata[0]}<br>F2=%{customdata[1]}\", \"legendgroup\": \"JNK-9L\", \"marker\": {\"color\": \"#00cc96\", \"symbol\": \"circle\"}, \"mode\": \"markers\", \"name\": \"JNK-9L\", \"showlegend\": true, \"type\": \"scatter\", \"x\": [0.2921817150446868, 0.04805433417664876], \"xaxis\": \"x\", \"y\": [0.8173562588994373, 0.1286893314857678], \"yaxis\": \"y\"}, {\"customdata\": [[\"TP53\", 158, \"PF-562271\"], [\"PIK3CA\", 158, \"PF-562271\"]], \"hoverlabel\": {\"namelength\": 0}, \"hovertemplate\": \"Drug_Name=%{customdata[2]}<br>SE=%{x}<br>-logP=%{y}<br>F1=%{customdata[0]}<br>F2=%{customdata[1]}\", \"legendgroup\": \"PF-562271\", \"marker\": {\"color\": \"#ab63fa\", \"symbol\": \"circle\"}, \"mode\": \"markers\", \"name\": \"PF-562271\", \"showlegend\": true, \"type\": \"scatter\", \"x\": [0.4033836820414215, 0.04542704719431494], \"xaxis\": \"x\", \"y\": [1.2496620166397967, 0.12125954532036505], \"yaxis\": \"y\"}, {\"customdata\": [[\"TP53\", 159, \"HG-6-64-1\"], [\"PIK3CA\", 159, \"HG-6-64-1\"]], \"hoverlabel\": {\"namelength\": 0}, \"hovertemplate\": \"Drug_Name=%{customdata[2]}<br>SE=%{x}<br>-logP=%{y}<br>F1=%{customdata[0]}<br>F2=%{customdata[1]}\", \"legendgroup\": \"HG-6-64-1\", \"marker\": {\"color\": \"#FFA15A\", \"symbol\": \"circle\"}, \"mode\": \"markers\", \"name\": \"HG-6-64-1\", \"showlegend\": true, \"type\": \"scatter\", \"x\": [-0.004070019884753889, 0.2862543852776462], \"xaxis\": \"x\", \"y\": [0.008560419726659118, 1.0125156116201541], \"yaxis\": \"y\"}, {\"customdata\": [[\"TP53\", 164, \"JQ12\"], [\"PIK3CA\", 164, \"JQ12\"]], \"hoverlabel\": {\"namelength\": 0}, \"hovertemplate\": \"Drug_Name=%{customdata[2]}<br>SE=%{x}<br>-logP=%{y}<br>F1=%{customdata[0]}<br>F2=%{customdata[1]}\", \"legendgroup\": \"JQ12\", \"marker\": {\"color\": \"#19d3f3\", \"symbol\": \"circle\"}, \"mode\": \"markers\", \"name\": \"JQ12\", \"showlegend\": true, \"type\": \"scatter\", \"x\": [0.09649263092283246, -0.15601086925489385], \"xaxis\": \"x\", \"y\": [0.2231683473464945, 0.4757508531438108], \"yaxis\": \"y\"}, {\"customdata\": [[\"TP53\", 165, \"DMOG\"], [\"PIK3CA\", 165, \"DMOG\"]], \"hoverlabel\": {\"namelength\": 0}, \"hovertemplate\": \"Drug_Name=%{customdata[2]}<br>SE=%{x}<br>-logP=%{y}<br>F1=%{customdata[0]}<br>F2=%{customdata[1]}\", \"legendgroup\": \"DMOG\", \"marker\": {\"color\": \"#FF6692\", \"symbol\": \"circle\"}, \"mode\": \"markers\", \"name\": \"DMOG\", \"showlegend\": true, \"type\": \"scatter\", \"x\": [-0.0810026579818422, 0.3264195635068398], \"xaxis\": \"x\", \"y\": [0.1844282578148425, 1.2065734608785297], \"yaxis\": \"y\"}, {\"customdata\": [[\"TP53\", 166, \"FTI-277\"], [\"PIK3CA\", 166, \"FTI-277\"]], \"hoverlabel\": {\"namelength\": 0}, \"hovertemplate\": \"Drug_Name=%{customdata[2]}<br>SE=%{x}<br>-logP=%{y}<br>F1=%{customdata[0]}<br>F2=%{customdata[1]}\", \"legendgroup\": \"FTI-277\", \"marker\": {\"color\": \"#B6E880\", \"symbol\": \"circle\"}, \"mode\": \"markers\", \"name\": \"FTI-277\", \"showlegend\": true, \"type\": \"scatter\", \"x\": [-0.07137910387522299, -0.2865109164822198], \"xaxis\": \"x\", \"y\": [0.16093395754983575, 1.0137105716950674], \"yaxis\": \"y\"}, {\"customdata\": [[\"TP53\", 167, \"OSU-03012\"], [\"PIK3CA\", 167, \"OSU-03012\"]], \"hoverlabel\": {\"namelength\": 0}, \"hovertemplate\": \"Drug_Name=%{customdata[2]}<br>SE=%{x}<br>-logP=%{y}<br>F1=%{customdata[0]}<br>F2=%{customdata[1]}\", \"legendgroup\": \"OSU-03012\", \"marker\": {\"color\": \"#FF97FF\", \"symbol\": \"circle\"}, \"mode\": \"markers\", \"name\": \"OSU-03012\", \"showlegend\": true, \"type\": \"scatter\", \"x\": [0.3652958528361305, -0.32794842534341084], \"xaxis\": \"x\", \"y\": [1.0975786356930473, 1.2480963527838744], \"yaxis\": \"y\"}, {\"customdata\": [[\"PIK3CA\", 17, \"Cyclopamine\"]], \"hoverlabel\": {\"namelength\": 0}, \"hovertemplate\": \"Drug_Name=%{customdata[2]}<br>SE=%{x}<br>-logP=%{y}<br>F1=%{customdata[0]}<br>F2=%{customdata[1]}\", \"legendgroup\": \"Cyclopamine\", \"marker\": {\"color\": \"#FECB52\", \"symbol\": \"circle\"}, \"mode\": \"markers\", \"name\": \"Cyclopamine\", \"showlegend\": true, \"type\": \"scatter\", \"x\": [0.943773906274196], \"xaxis\": \"x\", \"y\": [1.98916861250144], \"yaxis\": \"y\"}, {\"customdata\": [[\"TP53\", 170, \"Shikonin\"], [\"PIK3CA\", 170, \"Shikonin\"]], \"hoverlabel\": {\"namelength\": 0}, \"hovertemplate\": \"Drug_Name=%{customdata[2]}<br>SE=%{x}<br>-logP=%{y}<br>F1=%{customdata[0]}<br>F2=%{customdata[1]}\", \"legendgroup\": \"Shikonin\", \"marker\": {\"color\": \"#636efa\", \"symbol\": \"circle\"}, \"mode\": \"markers\", \"name\": \"Shikonin\", \"showlegend\": true, \"type\": \"scatter\", \"x\": [0.10926562166155053, 0.019170091775023292], \"xaxis\": \"x\", \"y\": [0.2559806322903918, 0.049528451501387495], \"yaxis\": \"y\"}, {\"customdata\": [[\"TP53\", 171, \"AKT inhibitor VIII\"], [\"PIK3CA\", 171, \"AKT inhibitor VIII\"]], \"hoverlabel\": {\"namelength\": 0}, \"hovertemplate\": \"Drug_Name=%{customdata[2]}<br>SE=%{x}<br>-logP=%{y}<br>F1=%{customdata[0]}<br>F2=%{customdata[1]}\", \"legendgroup\": \"AKT inhibitor VIII\", \"marker\": {\"color\": \"#EF553B\", \"symbol\": \"circle\"}, \"mode\": \"markers\", \"name\": \"AKT inhibitor VIII\", \"showlegend\": true, \"type\": \"scatter\", \"x\": [-0.4903200682800158, -0.4438820346861469], \"xaxis\": \"x\", \"y\": [1.6406757192717778, 1.85870195623025], \"yaxis\": \"y\"}, {\"customdata\": [[\"TP53\", 172, \"Embelin\"], [\"PIK3CA\", 172, \"Embelin\"]], \"hoverlabel\": {\"namelength\": 0}, \"hovertemplate\": \"Drug_Name=%{customdata[2]}<br>SE=%{x}<br>-logP=%{y}<br>F1=%{customdata[0]}<br>F2=%{customdata[1]}\", \"legendgroup\": \"Embelin\", \"marker\": {\"color\": \"#00cc96\", \"symbol\": \"circle\"}, \"mode\": \"markers\", \"name\": \"Embelin\", \"showlegend\": true, \"type\": \"scatter\", \"x\": [-0.2129660502210399, 0.21211463141030948], \"xaxis\": \"x\", \"y\": [0.5545536926746554, 0.7079366243383097], \"yaxis\": \"y\"}, {\"customdata\": [[\"TP53\", 173, \"FH535\"], [\"PIK3CA\", 173, \"FH535\"]], \"hoverlabel\": {\"namelength\": 0}, \"hovertemplate\": \"Drug_Name=%{customdata[2]}<br>SE=%{x}<br>-logP=%{y}<br>F1=%{customdata[0]}<br>F2=%{customdata[1]}\", \"legendgroup\": \"FH535\", \"marker\": {\"color\": \"#ab63fa\", \"symbol\": \"circle\"}, \"mode\": \"markers\", \"name\": \"FH535\", \"showlegend\": true, \"type\": \"scatter\", \"x\": [0.09735356847777303, 0.1370679583674107], \"xaxis\": \"x\", \"y\": [0.2261080651114871, 0.4185514381492326], \"yaxis\": \"y\"}, {\"customdata\": [[\"TP53\", 175, \"PAC-1\"], [\"PIK3CA\", 175, \"PAC-1\"]], \"hoverlabel\": {\"namelength\": 0}, \"hovertemplate\": \"Drug_Name=%{customdata[2]}<br>SE=%{x}<br>-logP=%{y}<br>F1=%{customdata[0]}<br>F2=%{customdata[1]}\", \"legendgroup\": \"PAC-1\", \"marker\": {\"color\": \"#FFA15A\", \"symbol\": \"circle\"}, \"mode\": \"markers\", \"name\": \"PAC-1\", \"showlegend\": true, \"type\": \"scatter\", \"x\": [0.07636503295411244, 0.06722766741616319], \"xaxis\": \"x\", \"y\": [0.1736195330751379, 0.18843585031645885], \"yaxis\": \"y\"}, {\"customdata\": [[\"TP53\", 176, \"IPA-3\"], [\"PIK3CA\", 176, \"IPA-3\"]], \"hoverlabel\": {\"namelength\": 0}, \"hovertemplate\": \"Drug_Name=%{customdata[2]}<br>SE=%{x}<br>-logP=%{y}<br>F1=%{customdata[0]}<br>F2=%{customdata[1]}\", \"legendgroup\": \"IPA-3\", \"marker\": {\"color\": \"#19d3f3\", \"symbol\": \"circle\"}, \"mode\": \"markers\", \"name\": \"IPA-3\", \"showlegend\": true, \"type\": \"scatter\", \"x\": [0.2318556965690517, -0.7038886132114489], \"xaxis\": \"x\", \"y\": [0.6148309801467312, 3.9473851409632266], \"yaxis\": \"y\"}, {\"customdata\": [[\"TP53\", 177, \"GSK-650394\"], [\"PIK3CA\", 177, \"GSK-650394\"]], \"hoverlabel\": {\"namelength\": 0}, \"hovertemplate\": \"Drug_Name=%{customdata[2]}<br>SE=%{x}<br>-logP=%{y}<br>F1=%{customdata[0]}<br>F2=%{customdata[1]}\", \"legendgroup\": \"GSK-650394\", \"marker\": {\"color\": \"#FF6692\", \"symbol\": \"circle\"}, \"mode\": \"markers\", \"name\": \"GSK-650394\", \"showlegend\": true, \"type\": \"scatter\", \"x\": [0.510336110406983, -0.4144634302519293], \"xaxis\": \"x\", \"y\": [1.7447682646929663, 1.7325343869048198], \"yaxis\": \"y\"}, {\"customdata\": [[\"TP53\", 178, \"BAY 61-3606\"], [\"PIK3CA\", 178, \"BAY 61-3606\"]], \"hoverlabel\": {\"namelength\": 0}, \"hovertemplate\": \"Drug_Name=%{customdata[2]}<br>SE=%{x}<br>-logP=%{y}<br>F1=%{customdata[0]}<br>F2=%{customdata[1]}\", \"legendgroup\": \"BAY 61-3606\", \"marker\": {\"color\": \"#B6E880\", \"symbol\": \"circle\"}, \"mode\": \"markers\", \"name\": \"BAY 61-3606\", \"showlegend\": true, \"type\": \"scatter\", \"x\": [0.2547180334069145, -0.1198497988045117], \"xaxis\": \"x\", \"y\": [0.6903799362357361, 0.35842229491352506], \"yaxis\": \"y\"}, {\"customdata\": [[\"TP53\", 179, \"5-Fluorouracil\"], [\"PIK3CA\", 179, \"5-Fluorouracil\"]], \"hoverlabel\": {\"namelength\": 0}, \"hovertemplate\": \"Drug_Name=%{customdata[2]}<br>SE=%{x}<br>-logP=%{y}<br>F1=%{customdata[0]}<br>F2=%{customdata[1]}\", \"legendgroup\": \"5-Fluorouracil\", \"marker\": {\"color\": \"#FF97FF\", \"symbol\": \"circle\"}, \"mode\": \"markers\", \"name\": \"5-Fluorouracil\", \"showlegend\": true, \"type\": \"scatter\", \"x\": [0.16585421214692614, -0.056181396468577886], \"xaxis\": \"x\", \"y\": [0.4336401977274874, 0.1563347805789008], \"yaxis\": \"y\"}, {\"customdata\": [[\"TP53\", 180, \"Thapsigargin\"], [\"PIK3CA\", 180, \"Thapsigargin\"]], \"hoverlabel\": {\"namelength\": 0}, \"hovertemplate\": \"Drug_Name=%{customdata[2]}<br>SE=%{x}<br>-logP=%{y}<br>F1=%{customdata[0]}<br>F2=%{customdata[1]}\", \"legendgroup\": \"Thapsigargin\", \"marker\": {\"color\": \"#FECB52\", \"symbol\": \"circle\"}, \"mode\": \"markers\", \"name\": \"Thapsigargin\", \"showlegend\": true, \"type\": \"scatter\", \"x\": [0.08912877233893468, 0.4128206488253775], \"xaxis\": \"x\", \"y\": [0.2052874230040453, 1.7226478099875937], \"yaxis\": \"y\"}, {\"customdata\": [[\"TP53\", 182, \"Obatoclax Mesylate\"], [\"PIK3CA\", 182, \"Obatoclax Mesylate\"]], \"hoverlabel\": {\"namelength\": 0}, \"hovertemplate\": \"Drug_Name=%{customdata[2]}<br>SE=%{x}<br>-logP=%{y}<br>F1=%{customdata[0]}<br>F2=%{customdata[1]}\", \"legendgroup\": \"Obatoclax Mesylate\", \"marker\": {\"color\": \"#636efa\", \"symbol\": \"circle\"}, \"mode\": \"markers\", \"name\": \"Obatoclax Mesylate\", \"showlegend\": true, \"type\": \"scatter\", \"x\": [0.5111435373478846, -0.1447610604782195], \"xaxis\": \"x\", \"y\": [1.7487552172560188, 0.4461556992454883], \"yaxis\": \"y\"}, {\"customdata\": [[\"TP53\", 184, \"BMS-754807\"], [\"PIK3CA\", 184, \"BMS-754807\"]], \"hoverlabel\": {\"namelength\": 0}, \"hovertemplate\": \"Drug_Name=%{customdata[2]}<br>SE=%{x}<br>-logP=%{y}<br>F1=%{customdata[0]}<br>F2=%{customdata[1]}\", \"legendgroup\": \"BMS-754807\", \"marker\": {\"color\": \"#EF553B\", \"symbol\": \"circle\"}, \"mode\": \"markers\", \"name\": \"BMS-754807\", \"showlegend\": true, \"type\": \"scatter\", \"x\": [0.3483066006457061, -0.04105976927919272], \"xaxis\": \"x\", \"y\": [1.0303720260985587, 0.11137097615737064], \"yaxis\": \"y\"}, {\"customdata\": [[\"TP53\", 185, \"OSI-906\"], [\"PIK3CA\", 185, \"OSI-906\"]], \"hoverlabel\": {\"namelength\": 0}, \"hovertemplate\": \"Drug_Name=%{customdata[2]}<br>SE=%{x}<br>-logP=%{y}<br>F1=%{customdata[0]}<br>F2=%{customdata[1]}\", \"legendgroup\": \"OSI-906\", \"marker\": {\"color\": \"#00cc96\", \"symbol\": \"circle\"}, \"mode\": \"markers\", \"name\": \"OSI-906\", \"showlegend\": true, \"type\": \"scatter\", \"x\": [0.2484676355545193, 0.14478564949987993], \"xaxis\": \"x\", \"y\": [0.6694404288303182, 0.4462446667411164], \"yaxis\": \"y\"}, {\"customdata\": [[\"TP53\", 186, \"Bexarotene\"], [\"PIK3CA\", 186, \"Bexarotene\"]], \"hoverlabel\": {\"namelength\": 0}, \"hovertemplate\": \"Drug_Name=%{customdata[2]}<br>SE=%{x}<br>-logP=%{y}<br>F1=%{customdata[0]}<br>F2=%{customdata[1]}\", \"legendgroup\": \"Bexarotene\", \"marker\": {\"color\": \"#ab63fa\", \"symbol\": \"circle\"}, \"mode\": \"markers\", \"name\": \"Bexarotene\", \"showlegend\": true, \"type\": \"scatter\", \"x\": [0.35778554625481995, -0.012670176903384504], \"xaxis\": \"x\", \"y\": [1.0676555046757097, 0.033148734645329116], \"yaxis\": \"y\"}, {\"customdata\": [[\"TP53\", 190, \"Bleomycin\"], [\"PIK3CA\", 190, \"Bleomycin\"]], \"hoverlabel\": {\"namelength\": 0}, \"hovertemplate\": \"Drug_Name=%{customdata[2]}<br>SE=%{x}<br>-logP=%{y}<br>F1=%{customdata[0]}<br>F2=%{customdata[1]}\", \"legendgroup\": \"Bleomycin\", \"marker\": {\"color\": \"#FFA15A\", \"symbol\": \"circle\"}, \"mode\": \"markers\", \"name\": \"Bleomycin\", \"showlegend\": true, \"type\": \"scatter\", \"x\": [0.43137661458604, -0.013999870547482873], \"xaxis\": \"x\", \"y\": [1.3757782145847968, 0.03668993607310605], \"yaxis\": \"y\"}, {\"customdata\": [[\"TP53\", 192, \"LFM-A13\"], [\"PIK3CA\", 192, \"LFM-A13\"]], \"hoverlabel\": {\"namelength\": 0}, \"hovertemplate\": \"Drug_Name=%{customdata[2]}<br>SE=%{x}<br>-logP=%{y}<br>F1=%{customdata[0]}<br>F2=%{customdata[1]}\", \"legendgroup\": \"LFM-A13\", \"marker\": {\"color\": \"#19d3f3\", \"symbol\": \"circle\"}, \"mode\": \"markers\", \"name\": \"LFM-A13\", \"showlegend\": true, \"type\": \"scatter\", \"x\": [0.31253130217770825, 0.007937712351118396], \"xaxis\": \"x\", \"y\": [0.8944487584759052, 0.020641772651513884], \"yaxis\": \"y\"}, {\"customdata\": [[\"TP53\", 193, \"GW-2580\"], [\"PIK3CA\", 193, \"GW-2580\"]], \"hoverlabel\": {\"namelength\": 0}, \"hovertemplate\": \"Drug_Name=%{customdata[2]}<br>SE=%{x}<br>-logP=%{y}<br>F1=%{customdata[0]}<br>F2=%{customdata[1]}\", \"legendgroup\": \"GW-2580\", \"marker\": {\"color\": \"#FF6692\", \"symbol\": \"circle\"}, \"mode\": \"markers\", \"name\": \"GW-2580\", \"showlegend\": true, \"type\": \"scatter\", \"x\": [0.18784419932421512, 0.1466071268601812], \"xaxis\": \"x\", \"y\": [0.5003656280438715, 0.4452317700482439], \"yaxis\": \"y\"}, {\"customdata\": [[\"TP53\", 194, \"AUY922\"], [\"PIK3CA\", 194, \"AUY922\"]], \"hoverlabel\": {\"namelength\": 0}, \"hovertemplate\": \"Drug_Name=%{customdata[2]}<br>SE=%{x}<br>-logP=%{y}<br>F1=%{customdata[0]}<br>F2=%{customdata[1]}\", \"legendgroup\": \"AUY922\", \"marker\": {\"color\": \"#B6E880\", \"symbol\": \"circle\"}, \"mode\": \"markers\", \"name\": \"AUY922\", \"showlegend\": true, \"type\": \"scatter\", \"x\": [0.4370034975377688, -0.04135368703423042], \"xaxis\": \"x\", \"y\": [1.4007309352871824, 0.11220983161166727], \"yaxis\": \"y\"}, {\"customdata\": [[\"TP53\", 196, \"Phenformin\"], [\"PIK3CA\", 196, \"Phenformin\"]], \"hoverlabel\": {\"namelength\": 0}, \"hovertemplate\": \"Drug_Name=%{customdata[2]}<br>SE=%{x}<br>-logP=%{y}<br>F1=%{customdata[0]}<br>F2=%{customdata[1]}\", \"legendgroup\": \"Phenformin\", \"marker\": {\"color\": \"#FF97FF\", \"symbol\": \"circle\"}, \"mode\": \"markers\", \"name\": \"Phenformin\", \"showlegend\": true, \"type\": \"scatter\", \"x\": [0.31631280865130235, 0.03472650429845354], \"xaxis\": \"x\", \"y\": [0.9604789007453842, 0.09404047737045083], \"yaxis\": \"y\"}, {\"customdata\": [[\"TP53\", 197, \"Bryostatin 1\"], [\"PIK3CA\", 197, \"Bryostatin 1\"]], \"hoverlabel\": {\"namelength\": 0}, \"hovertemplate\": \"Drug_Name=%{customdata[2]}<br>SE=%{x}<br>-logP=%{y}<br>F1=%{customdata[0]}<br>F2=%{customdata[1]}\", \"legendgroup\": \"Bryostatin 1\", \"marker\": {\"color\": \"#FECB52\", \"symbol\": \"circle\"}, \"mode\": \"markers\", \"name\": \"Bryostatin 1\", \"showlegend\": true, \"type\": \"scatter\", \"x\": [0.2840473302632234, -0.2671054712645722], \"xaxis\": \"x\", \"y\": [0.7915407861625428, 0.9496168542517432], \"yaxis\": \"y\"}, {\"customdata\": [[\"TP53\", 199, \"Pazopanib\"], [\"PIK3CA\", 199, \"Pazopanib\"]], \"hoverlabel\": {\"namelength\": 0}, \"hovertemplate\": \"Drug_Name=%{customdata[2]}<br>SE=%{x}<br>-logP=%{y}<br>F1=%{customdata[0]}<br>F2=%{customdata[1]}\", \"legendgroup\": \"Pazopanib\", \"marker\": {\"color\": \"#636efa\", \"symbol\": \"circle\"}, \"mode\": \"markers\", \"name\": \"Pazopanib\", \"showlegend\": true, \"type\": \"scatter\", \"x\": [-0.10940500165914437, -0.2647031130136361], \"xaxis\": \"x\", \"y\": [0.2572078917928667, 0.9385129224757732], \"yaxis\": \"y\"}, {\"customdata\": [[\"TP53\", 200, \"LAQ824\"], [\"PIK3CA\", 200, \"LAQ824\"]], \"hoverlabel\": {\"namelength\": 0}, \"hovertemplate\": \"Drug_Name=%{customdata[2]}<br>SE=%{x}<br>-logP=%{y}<br>F1=%{customdata[0]}<br>F2=%{customdata[1]}\", \"legendgroup\": \"LAQ824\", \"marker\": {\"color\": \"#EF553B\", \"symbol\": \"circle\"}, \"mode\": \"markers\", \"name\": \"LAQ824\", \"showlegend\": true, \"type\": \"scatter\", \"x\": [0.048890700452150035, -0.2708395938546925], \"xaxis\": \"x\", \"y\": [0.10806722601004662, 0.966977211679134], \"yaxis\": \"y\"}, {\"customdata\": [[\"TP53\", 201, \"Epothilone B\"], [\"PIK3CA\", 201, \"Epothilone B\"]], \"hoverlabel\": {\"namelength\": 0}, \"hovertemplate\": \"Drug_Name=%{customdata[2]}<br>SE=%{x}<br>-logP=%{y}<br>F1=%{customdata[0]}<br>F2=%{customdata[1]}\", \"legendgroup\": \"Epothilone B\", \"marker\": {\"color\": \"#00cc96\", \"symbol\": \"circle\"}, \"mode\": \"markers\", \"name\": \"Epothilone B\", \"showlegend\": true, \"type\": \"scatter\", \"x\": [0.04197457495500016, -0.1578498992363207], \"xaxis\": \"x\", \"y\": [0.09211986381430988, 0.4941828416204305], \"yaxis\": \"y\"}, {\"customdata\": [[\"TP53\", 202, \"GSK-1904529A\"], [\"PIK3CA\", 202, \"GSK-1904529A\"]], \"hoverlabel\": {\"namelength\": 0}, \"hovertemplate\": \"Drug_Name=%{customdata[2]}<br>SE=%{x}<br>-logP=%{y}<br>F1=%{customdata[0]}<br>F2=%{customdata[1]}\", \"legendgroup\": \"GSK-1904529A\", \"marker\": {\"color\": \"#ab63fa\", \"symbol\": \"circle\"}, \"mode\": \"markers\", \"name\": \"GSK-1904529A\", \"showlegend\": true, \"type\": \"scatter\", \"x\": [-0.01694117300545062, 0.08030871383306303], \"xaxis\": \"x\", \"y\": [0.03622580267335816, 0.2287916798839557], \"yaxis\": \"y\"}, {\"customdata\": [[\"TP53\", 203, \"BMS-345541\"], [\"PIK3CA\", 203, \"BMS-345541\"]], \"hoverlabel\": {\"namelength\": 0}, \"hovertemplate\": \"Drug_Name=%{customdata[2]}<br>SE=%{x}<br>-logP=%{y}<br>F1=%{customdata[0]}<br>F2=%{customdata[1]}\", \"legendgroup\": \"BMS-345541\", \"marker\": {\"color\": \"#FFA15A\", \"symbol\": \"circle\"}, \"mode\": \"markers\", \"name\": \"BMS-345541\", \"showlegend\": true, \"type\": \"scatter\", \"x\": [0.1574278570626889, -0.08871005601525002], \"xaxis\": \"x\", \"y\": [0.4080631726053032, 0.2571044738726504], \"yaxis\": \"y\"}, {\"customdata\": [[\"TP53\", 204, \"Tipifarnib\"], [\"PIK3CA\", 204, \"Tipifarnib\"]], \"hoverlabel\": {\"namelength\": 0}, \"hovertemplate\": \"Drug_Name=%{customdata[2]}<br>SE=%{x}<br>-logP=%{y}<br>F1=%{customdata[0]}<br>F2=%{customdata[1]}\", \"legendgroup\": \"Tipifarnib\", \"marker\": {\"color\": \"#19d3f3\", \"symbol\": \"circle\"}, \"mode\": \"markers\", \"name\": \"Tipifarnib\", \"showlegend\": true, \"type\": \"scatter\", \"x\": [-0.16534747719146992, -0.2244887503624504], \"xaxis\": \"x\", \"y\": [0.4110025167644613, 0.7600713852369848], \"yaxis\": \"y\"}, {\"customdata\": [[\"TP53\", 206, \"Ruxolitinib\"], [\"PIK3CA\", 206, \"Ruxolitinib\"]], \"hoverlabel\": {\"namelength\": 0}, \"hovertemplate\": \"Drug_Name=%{customdata[2]}<br>SE=%{x}<br>-logP=%{y}<br>F1=%{customdata[0]}<br>F2=%{customdata[1]}\", \"legendgroup\": \"Ruxolitinib\", \"marker\": {\"color\": \"#FF6692\", \"symbol\": \"circle\"}, \"mode\": \"markers\", \"name\": \"Ruxolitinib\", \"showlegend\": true, \"type\": \"scatter\", \"x\": [0.8032276368360859, 0.21171147289675307], \"xaxis\": \"x\", \"y\": [3.7607946175056703, 0.7116240771997958], \"yaxis\": \"y\"}, {\"customdata\": [[\"TP53\", 207, \"AS601245\"], [\"PIK3CA\", 207, \"AS601245\"]], \"hoverlabel\": {\"namelength\": 0}, \"hovertemplate\": \"Drug_Name=%{customdata[2]}<br>SE=%{x}<br>-logP=%{y}<br>F1=%{customdata[0]}<br>F2=%{customdata[1]}\", \"legendgroup\": \"AS601245\", \"marker\": {\"color\": \"#B6E880\", \"symbol\": \"circle\"}, \"mode\": \"markers\", \"name\": \"AS601245\", \"showlegend\": true, \"type\": \"scatter\", \"x\": [0.006744785204433652, 0.1679375701700755], \"xaxis\": \"x\", \"y\": [0.014269611912263678, 0.5321202234808148], \"yaxis\": \"y\"}, {\"customdata\": [[\"TP53\", 208, \"SB-715992\"], [\"PIK3CA\", 208, \"SB-715992\"]], \"hoverlabel\": {\"namelength\": 0}, \"hovertemplate\": \"Drug_Name=%{customdata[2]}<br>SE=%{x}<br>-logP=%{y}<br>F1=%{customdata[0]}<br>F2=%{customdata[1]}\", \"legendgroup\": \"SB-715992\", \"marker\": {\"color\": \"#FF97FF\", \"symbol\": \"circle\"}, \"mode\": \"markers\", \"name\": \"SB-715992\", \"showlegend\": true, \"type\": \"scatter\", \"x\": [-0.4693821299195195, -0.0057329521071175895], \"xaxis\": \"x\", \"y\": [1.6451937647176924, 0.01495824384615691], \"yaxis\": \"y\"}, {\"customdata\": [[\"TP53\", 211, \"TL-2-105\"], [\"PIK3CA\", 211, \"TL-2-105\"]], \"hoverlabel\": {\"namelength\": 0}, \"hovertemplate\": \"Drug_Name=%{customdata[2]}<br>SE=%{x}<br>-logP=%{y}<br>F1=%{customdata[0]}<br>F2=%{customdata[1]}\", \"legendgroup\": \"TL-2-105\", \"marker\": {\"color\": \"#FECB52\", \"symbol\": \"circle\"}, \"mode\": \"markers\", \"name\": \"TL-2-105\", \"showlegend\": true, \"type\": \"scatter\", \"x\": [0.3664389725842435, -0.21665207728698305], \"xaxis\": \"x\", \"y\": [1.1672735609644929, 0.7324465803485211], \"yaxis\": \"y\"}, {\"customdata\": [[\"TP53\", 219, \"AT-7519\"], [\"PIK3CA\", 219, \"AT-7519\"]], \"hoverlabel\": {\"namelength\": 0}, \"hovertemplate\": \"Drug_Name=%{customdata[2]}<br>SE=%{x}<br>-logP=%{y}<br>F1=%{customdata[0]}<br>F2=%{customdata[1]}\", \"legendgroup\": \"AT-7519\", \"marker\": {\"color\": \"#636efa\", \"symbol\": \"circle\"}, \"mode\": \"markers\", \"name\": \"AT-7519\", \"showlegend\": true, \"type\": \"scatter\", \"x\": [-0.4773893218284554, 0.1796491486226521], \"xaxis\": \"x\", \"y\": [1.6855025573718243, 0.5814585363744563], \"yaxis\": \"y\"}, {\"customdata\": [[\"TP53\", 221, \"TAK-715\"], [\"PIK3CA\", 221, \"TAK-715\"]], \"hoverlabel\": {\"namelength\": 0}, \"hovertemplate\": \"Drug_Name=%{customdata[2]}<br>SE=%{x}<br>-logP=%{y}<br>F1=%{customdata[0]}<br>F2=%{customdata[1]}\", \"legendgroup\": \"TAK-715\", \"marker\": {\"color\": \"#EF553B\", \"symbol\": \"circle\"}, \"mode\": \"markers\", \"name\": \"TAK-715\", \"showlegend\": true, \"type\": \"scatter\", \"x\": [0.26535327567725553, -0.3432324577357656], \"xaxis\": \"x\", \"y\": [0.7667069884538356, 1.3394074072287276], \"yaxis\": \"y\"}, {\"customdata\": [[\"TP53\", 222, \"BX-912\"], [\"PIK3CA\", 222, \"BX-912\"]], \"hoverlabel\": {\"namelength\": 0}, \"hovertemplate\": \"Drug_Name=%{customdata[2]}<br>SE=%{x}<br>-logP=%{y}<br>F1=%{customdata[0]}<br>F2=%{customdata[1]}\", \"legendgroup\": \"BX-912\", \"marker\": {\"color\": \"#00cc96\", \"symbol\": \"circle\"}, \"mode\": \"markers\", \"name\": \"BX-912\", \"showlegend\": true, \"type\": \"scatter\", \"x\": [-0.2012523108804169, 0.21033410635480893], \"xaxis\": \"x\", \"y\": [0.545489579367119, 0.7058558488485285], \"yaxis\": \"y\"}, {\"customdata\": [[\"TP53\", 223, \"ZSTK474\"], [\"PIK3CA\", 223, \"ZSTK474\"]], \"hoverlabel\": {\"namelength\": 0}, \"hovertemplate\": \"Drug_Name=%{customdata[2]}<br>SE=%{x}<br>-logP=%{y}<br>F1=%{customdata[0]}<br>F2=%{customdata[1]}\", \"legendgroup\": \"ZSTK474\", \"marker\": {\"color\": \"#ab63fa\", \"symbol\": \"circle\"}, \"mode\": \"markers\", \"name\": \"ZSTK474\", \"showlegend\": true, \"type\": \"scatter\", \"x\": [-0.2058323437669054, -0.594819581163545], \"xaxis\": \"x\", \"y\": [0.5604884185361253, 3.0222943057756795], \"yaxis\": \"y\"}, {\"customdata\": [[\"TP53\", 224, \"AS605240\"], [\"PIK3CA\", 224, \"AS605240\"]], \"hoverlabel\": {\"namelength\": 0}, \"hovertemplate\": \"Drug_Name=%{customdata[2]}<br>SE=%{x}<br>-logP=%{y}<br>F1=%{customdata[0]}<br>F2=%{customdata[1]}\", \"legendgroup\": \"AS605240\", \"marker\": {\"color\": \"#FFA15A\", \"symbol\": \"circle\"}, \"mode\": \"markers\", \"name\": \"AS605240\", \"showlegend\": true, \"type\": \"scatter\", \"x\": [0.3350367920154452, -0.4422936294034053], \"xaxis\": \"x\", \"y\": [1.0358097623077418, 1.9207118538500971], \"yaxis\": \"y\"}, {\"customdata\": [[\"TP53\", 225, \"Genentech Cpd 10\"], [\"PIK3CA\", 225, \"Genentech Cpd 10\"]], \"hoverlabel\": {\"namelength\": 0}, \"hovertemplate\": \"Drug_Name=%{customdata[2]}<br>SE=%{x}<br>-logP=%{y}<br>F1=%{customdata[0]}<br>F2=%{customdata[1]}\", \"legendgroup\": \"Genentech Cpd 10\", \"marker\": {\"color\": \"#19d3f3\", \"symbol\": \"circle\"}, \"mode\": \"markers\", \"name\": \"Genentech Cpd 10\", \"showlegend\": true, \"type\": \"scatter\", \"x\": [-0.19074749359023385, -0.04508351059213562], \"xaxis\": \"x\", \"y\": [0.5115474565837614, 0.12370503820915887], \"yaxis\": \"y\"}, {\"customdata\": [[\"TP53\", 226, \"GSK1070916\"], [\"PIK3CA\", 226, \"GSK1070916\"]], \"hoverlabel\": {\"namelength\": 0}, \"hovertemplate\": \"Drug_Name=%{customdata[2]}<br>SE=%{x}<br>-logP=%{y}<br>F1=%{customdata[0]}<br>F2=%{customdata[1]}\", \"legendgroup\": \"GSK1070916\", \"marker\": {\"color\": \"#FF6692\", \"symbol\": \"circle\"}, \"mode\": \"markers\", \"name\": \"GSK1070916\", \"showlegend\": true, \"type\": \"scatter\", \"x\": [-0.5159699788962246, 0.11284539106017545], \"xaxis\": \"x\", \"y\": [1.8863266636927556, 0.3369420936732012], \"yaxis\": \"y\"}, {\"customdata\": [[\"TP53\", 228, \"KIN001-102\"], [\"PIK3CA\", 228, \"KIN001-102\"]], \"hoverlabel\": {\"namelength\": 0}, \"hovertemplate\": \"Drug_Name=%{customdata[2]}<br>SE=%{x}<br>-logP=%{y}<br>F1=%{customdata[0]}<br>F2=%{customdata[1]}\", \"legendgroup\": \"KIN001-102\", \"marker\": {\"color\": \"#B6E880\", \"symbol\": \"circle\"}, \"mode\": \"markers\", \"name\": \"KIN001-102\", \"showlegend\": true, \"type\": \"scatter\", \"x\": [-0.3424386725325676, -0.4623999242890736], \"xaxis\": \"x\", \"y\": [1.06621482153072, 2.0510248096717705], \"yaxis\": \"y\"}, {\"customdata\": [[\"TP53\", 229, \"LY317615\"], [\"PIK3CA\", 229, \"LY317615\"]], \"hoverlabel\": {\"namelength\": 0}, \"hovertemplate\": \"Drug_Name=%{customdata[2]}<br>SE=%{x}<br>-logP=%{y}<br>F1=%{customdata[0]}<br>F2=%{customdata[1]}\", \"legendgroup\": \"LY317615\", \"marker\": {\"color\": \"#FF97FF\", \"symbol\": \"circle\"}, \"mode\": \"markers\", \"name\": \"LY317615\", \"showlegend\": true, \"type\": \"scatter\", \"x\": [-0.08473247644991498, -0.1716820272790074], \"xaxis\": \"x\", \"y\": [0.2035803259831601, 0.5504283386537329], \"yaxis\": \"y\"}, {\"customdata\": [[\"TP53\", 230, \"GSK429286A\"], [\"PIK3CA\", 230, \"GSK429286A\"]], \"hoverlabel\": {\"namelength\": 0}, \"hovertemplate\": \"Drug_Name=%{customdata[2]}<br>SE=%{x}<br>-logP=%{y}<br>F1=%{customdata[0]}<br>F2=%{customdata[1]}\", \"legendgroup\": \"GSK429286A\", \"marker\": {\"color\": \"#FECB52\", \"symbol\": \"circle\"}, \"mode\": \"markers\", \"name\": \"GSK429286A\", \"showlegend\": true, \"type\": \"scatter\", \"x\": [0.07143419188255343, 0.3248154294048384], \"xaxis\": \"x\", \"y\": [0.16922153167046633, 1.2419792028731171], \"yaxis\": \"y\"}, {\"customdata\": [[\"TP53\", 231, \"FMK\"], [\"PIK3CA\", 231, \"FMK\"]], \"hoverlabel\": {\"namelength\": 0}, \"hovertemplate\": \"Drug_Name=%{customdata[2]}<br>SE=%{x}<br>-logP=%{y}<br>F1=%{customdata[0]}<br>F2=%{customdata[1]}\", \"legendgroup\": \"FMK\", \"marker\": {\"color\": \"#636efa\", \"symbol\": \"circle\"}, \"mode\": \"markers\", \"name\": \"FMK\", \"showlegend\": true, \"type\": \"scatter\", \"x\": [0.2764568980686249, 0.012366502678815948], \"xaxis\": \"x\", \"y\": [0.8075484483570592, 0.032543485549924964], \"yaxis\": \"y\"}, {\"customdata\": [[\"TP53\", 235, \"QL-XII-47\"], [\"PIK3CA\", 235, \"QL-XII-47\"]], \"hoverlabel\": {\"namelength\": 0}, \"hovertemplate\": \"Drug_Name=%{customdata[2]}<br>SE=%{x}<br>-logP=%{y}<br>F1=%{customdata[0]}<br>F2=%{customdata[1]}\", \"legendgroup\": \"QL-XII-47\", \"marker\": {\"color\": \"#EF553B\", \"symbol\": \"circle\"}, \"mode\": \"markers\", \"name\": \"QL-XII-47\", \"showlegend\": true, \"type\": \"scatter\", \"x\": [-0.19765224275245288, -0.8140696454180403], \"xaxis\": \"x\", \"y\": [0.5337855020354593, 5.125239971494211], \"yaxis\": \"y\"}, {\"customdata\": [[\"TP53\", 238, \"CAL-101\"], [\"PIK3CA\", 238, \"CAL-101\"]], \"hoverlabel\": {\"namelength\": 0}, \"hovertemplate\": \"Drug_Name=%{customdata[2]}<br>SE=%{x}<br>-logP=%{y}<br>F1=%{customdata[0]}<br>F2=%{customdata[1]}\", \"legendgroup\": \"CAL-101\", \"marker\": {\"color\": \"#00cc96\", \"symbol\": \"circle\"}, \"mode\": \"markers\", \"name\": \"CAL-101\", \"showlegend\": true, \"type\": \"scatter\", \"x\": [-0.11323025546455892, 0.1595055726214326], \"xaxis\": \"x\", \"y\": [0.2803409908731386, 0.5039971108083469], \"yaxis\": \"y\"}, {\"customdata\": [[\"TP53\", 249, \"XL-184\"], [\"PIK3CA\", 249, \"XL-184\"]], \"hoverlabel\": {\"namelength\": 0}, \"hovertemplate\": \"Drug_Name=%{customdata[2]}<br>SE=%{x}<br>-logP=%{y}<br>F1=%{customdata[0]}<br>F2=%{customdata[1]}\", \"legendgroup\": \"XL-184\", \"marker\": {\"color\": \"#ab63fa\", \"symbol\": \"circle\"}, \"mode\": \"markers\", \"name\": \"XL-184\", \"showlegend\": true, \"type\": \"scatter\", \"x\": [-0.24791142695751975, 0.021614571853437004], \"xaxis\": \"x\", \"y\": [0.7040754363712015, 0.05756036406451767], \"yaxis\": \"y\"}, {\"customdata\": [[\"TP53\", 252, \"WZ3105\"], [\"PIK3CA\", 252, \"WZ3105\"]], \"hoverlabel\": {\"namelength\": 0}, \"hovertemplate\": \"Drug_Name=%{customdata[2]}<br>SE=%{x}<br>-logP=%{y}<br>F1=%{customdata[0]}<br>F2=%{customdata[1]}\", \"legendgroup\": \"WZ3105\", \"marker\": {\"color\": \"#FFA15A\", \"symbol\": \"circle\"}, \"mode\": \"markers\", \"name\": \"WZ3105\", \"showlegend\": true, \"type\": \"scatter\", \"x\": [-0.2462552885481869, 0.4448423058008899], \"xaxis\": \"x\", \"y\": [0.6954653217503636, 1.880133340164508], \"yaxis\": \"y\"}, {\"customdata\": [[\"TP53\", 253, \"XMD14-99\"], [\"PIK3CA\", 253, \"XMD14-99\"]], \"hoverlabel\": {\"namelength\": 0}, \"hovertemplate\": \"Drug_Name=%{customdata[2]}<br>SE=%{x}<br>-logP=%{y}<br>F1=%{customdata[0]}<br>F2=%{customdata[1]}\", \"legendgroup\": \"XMD14-99\", \"marker\": {\"color\": \"#19d3f3\", \"symbol\": \"circle\"}, \"mode\": \"markers\", \"name\": \"XMD14-99\", \"showlegend\": true, \"type\": \"scatter\", \"x\": [0.6215721717929981, -0.0271211874042366], \"xaxis\": \"x\", \"y\": [2.4833709239379598, 0.07120511640598706], \"yaxis\": \"y\"}, {\"customdata\": [[\"TP53\", 254, \"AC220\"], [\"PIK3CA\", 254, \"AC220\"]], \"hoverlabel\": {\"namelength\": 0}, \"hovertemplate\": \"Drug_Name=%{customdata[2]}<br>SE=%{x}<br>-logP=%{y}<br>F1=%{customdata[0]}<br>F2=%{customdata[1]}\", \"legendgroup\": \"AC220\", \"marker\": {\"color\": \"#FF6692\", \"symbol\": \"circle\"}, \"mode\": \"markers\", \"name\": \"AC220\", \"showlegend\": true, \"type\": \"scatter\", \"x\": [0.2986761903986138, 0.1714228368203831], \"xaxis\": \"x\", \"y\": [0.8879495498243762, 0.536031947542932], \"yaxis\": \"y\"}, {\"customdata\": [[\"TP53\", 255, \"CP724714\"], [\"PIK3CA\", 255, \"CP724714\"]], \"hoverlabel\": {\"namelength\": 0}, \"hovertemplate\": \"Drug_Name=%{customdata[2]}<br>SE=%{x}<br>-logP=%{y}<br>F1=%{customdata[0]}<br>F2=%{customdata[1]}\", \"legendgroup\": \"CP724714\", \"marker\": {\"color\": \"#B6E880\", \"symbol\": \"circle\"}, \"mode\": \"markers\", \"name\": \"CP724714\", \"showlegend\": true, \"type\": \"scatter\", \"x\": [0.20556574317237888, -0.2939745335358578], \"xaxis\": \"x\", \"y\": [0.5574550953809521, 1.0568458000819354], \"yaxis\": \"y\"}, {\"customdata\": [[\"TP53\", 256, \"JW-7-24-1\"], [\"PIK3CA\", 256, \"JW-7-24-1\"]], \"hoverlabel\": {\"namelength\": 0}, \"hovertemplate\": \"Drug_Name=%{customdata[2]}<br>SE=%{x}<br>-logP=%{y}<br>F1=%{customdata[0]}<br>F2=%{customdata[1]}\", \"legendgroup\": \"JW-7-24-1\", \"marker\": {\"color\": \"#FF97FF\", \"symbol\": \"circle\"}, \"mode\": \"markers\", \"name\": \"JW-7-24-1\", \"showlegend\": true, \"type\": \"scatter\", \"x\": [-0.21861022148962125, -0.0007422368288004628], \"xaxis\": \"x\", \"y\": [0.6006384965953753, 0.0018849679537913985], \"yaxis\": \"y\"}, {\"customdata\": [[\"TP53\", 257, \"NPK76-II-72-1\"], [\"PIK3CA\", 257, \"NPK76-II-72-1\"]], \"hoverlabel\": {\"namelength\": 0}, \"hovertemplate\": \"Drug_Name=%{customdata[2]}<br>SE=%{x}<br>-logP=%{y}<br>F1=%{customdata[0]}<br>F2=%{customdata[1]}\", \"legendgroup\": \"NPK76-II-72-1\", \"marker\": {\"color\": \"#FECB52\", \"symbol\": \"circle\"}, \"mode\": \"markers\", \"name\": \"NPK76-II-72-1\", \"showlegend\": true, \"type\": \"scatter\", \"x\": [-0.3018355824244713, 0.2143435423758997], \"xaxis\": \"x\", \"y\": [0.9037716325857872, 0.7226913968310047], \"yaxis\": \"y\"}, {\"customdata\": [[\"TP53\", 258, \"STF-62247\"], [\"PIK3CA\", 258, \"STF-62247\"]], \"hoverlabel\": {\"namelength\": 0}, \"hovertemplate\": \"Drug_Name=%{customdata[2]}<br>SE=%{x}<br>-logP=%{y}<br>F1=%{customdata[0]}<br>F2=%{customdata[1]}\", \"legendgroup\": \"STF-62247\", \"marker\": {\"color\": \"#636efa\", \"symbol\": \"circle\"}, \"mode\": \"markers\", \"name\": \"STF-62247\", \"showlegend\": true, \"type\": \"scatter\", \"x\": [0.2327430050689911, 0.3834915442967562], \"xaxis\": \"x\", \"y\": [0.6511025829401627, 1.5637845759734694], \"yaxis\": \"y\"}, {\"customdata\": [[\"TP53\", 260, \"NG-25\"], [\"PIK3CA\", 260, \"NG-25\"]], \"hoverlabel\": {\"namelength\": 0}, \"hovertemplate\": \"Drug_Name=%{customdata[2]}<br>SE=%{x}<br>-logP=%{y}<br>F1=%{customdata[0]}<br>F2=%{customdata[1]}\", \"legendgroup\": \"NG-25\", \"marker\": {\"color\": \"#EF553B\", \"symbol\": \"circle\"}, \"mode\": \"markers\", \"name\": \"NG-25\", \"showlegend\": true, \"type\": \"scatter\", \"x\": [-0.10484948782260044, -0.2118776093993532], \"xaxis\": \"x\", \"y\": [0.2573190213162609, 0.7123209167729517], \"yaxis\": \"y\"}, {\"customdata\": [[\"TP53\", 261, \"TL-1-85\"], [\"PIK3CA\", 261, \"TL-1-85\"]], \"hoverlabel\": {\"namelength\": 0}, \"hovertemplate\": \"Drug_Name=%{customdata[2]}<br>SE=%{x}<br>-logP=%{y}<br>F1=%{customdata[0]}<br>F2=%{customdata[1]}\", \"legendgroup\": \"TL-1-85\", \"marker\": {\"color\": \"#00cc96\", \"symbol\": \"circle\"}, \"mode\": \"markers\", \"name\": \"TL-1-85\", \"showlegend\": true, \"type\": \"scatter\", \"x\": [0.04537059324460632, 0.17521380412230048], \"xaxis\": \"x\", \"y\": [0.10452020713949844, 0.5641200585596564], \"yaxis\": \"y\"}, {\"customdata\": [[\"TP53\", 262, \"VX-11e\"], [\"PIK3CA\", 262, \"VX-11e\"]], \"hoverlabel\": {\"namelength\": 0}, \"hovertemplate\": \"Drug_Name=%{customdata[2]}<br>SE=%{x}<br>-logP=%{y}<br>F1=%{customdata[0]}<br>F2=%{customdata[1]}\", \"legendgroup\": \"VX-11e\", \"marker\": {\"color\": \"#ab63fa\", \"symbol\": \"circle\"}, \"mode\": \"markers\", \"name\": \"VX-11e\", \"showlegend\": true, \"type\": \"scatter\", \"x\": [0.4864548349455161, 0.21257793624376006], \"xaxis\": \"x\", \"y\": [1.7317032498777822, 0.7152609156021102], \"yaxis\": \"y\"}, {\"customdata\": [[\"TP53\", 263, \"FR-180204\"], [\"PIK3CA\", 263, \"FR-180204\"]], \"hoverlabel\": {\"namelength\": 0}, \"hovertemplate\": \"Drug_Name=%{customdata[2]}<br>SE=%{x}<br>-logP=%{y}<br>F1=%{customdata[0]}<br>F2=%{customdata[1]}\", \"legendgroup\": \"FR-180204\", \"marker\": {\"color\": \"#FFA15A\", \"symbol\": \"circle\"}, \"mode\": \"markers\", \"name\": \"FR-180204\", \"showlegend\": true, \"type\": \"scatter\", \"x\": [0.3264267468789649, 0.3250060103491939], \"xaxis\": \"x\", \"y\": [1.0008890918436268, 1.24297094401909], \"yaxis\": \"y\"}, {\"customdata\": [[\"TP53\", 265, \"Tubastatin A\"], [\"PIK3CA\", 265, \"Tubastatin A\"]], \"hoverlabel\": {\"namelength\": 0}, \"hovertemplate\": \"Drug_Name=%{customdata[2]}<br>SE=%{x}<br>-logP=%{y}<br>F1=%{customdata[0]}<br>F2=%{customdata[1]}\", \"legendgroup\": \"Tubastatin A\", \"marker\": {\"color\": \"#19d3f3\", \"symbol\": \"circle\"}, \"mode\": \"markers\", \"name\": \"Tubastatin A\", \"showlegend\": true, \"type\": \"scatter\", \"x\": [0.41672158622272987, -0.01021293219575655], \"xaxis\": \"x\", \"y\": [1.3915238351526762, 0.0268017319183976], \"yaxis\": \"y\"}, {\"customdata\": [[\"TP53\", 266, \"Zibotentan, ZD4054\"], [\"PIK3CA\", 266, \"Zibotentan, ZD4054\"]], \"hoverlabel\": {\"namelength\": 0}, \"hovertemplate\": \"Drug_Name=%{customdata[2]}<br>SE=%{x}<br>-logP=%{y}<br>F1=%{customdata[0]}<br>F2=%{customdata[1]}\", \"legendgroup\": \"Zibotentan, ZD4054\", \"marker\": {\"color\": \"#FF6692\", \"symbol\": \"circle\"}, \"mode\": \"markers\", \"name\": \"Zibotentan, ZD4054\", \"showlegend\": true, \"type\": \"scatter\", \"x\": [0.2906911481518341, -0.01692423069180095], \"xaxis\": \"x\", \"y\": [0.8610215304571682, 0.04479935774644205], \"yaxis\": \"y\"}, {\"customdata\": [[\"TP53\", 268, \"YM155\"], [\"PIK3CA\", 268, \"YM155\"]], \"hoverlabel\": {\"namelength\": 0}, \"hovertemplate\": \"Drug_Name=%{customdata[2]}<br>SE=%{x}<br>-logP=%{y}<br>F1=%{customdata[0]}<br>F2=%{customdata[1]}\", \"legendgroup\": \"YM155\", \"marker\": {\"color\": \"#B6E880\", \"symbol\": \"circle\"}, \"mode\": \"markers\", \"name\": \"YM155\", \"showlegend\": true, \"type\": \"scatter\", \"x\": [-0.4425676766640653, -0.054036359242847366], \"xaxis\": \"x\", \"y\": [1.5135710923421233, 0.14995948182659305], \"yaxis\": \"y\"}, {\"customdata\": [[\"TP53\", 269, \"NSC-207895\"], [\"PIK3CA\", 269, \"NSC-207895\"]], \"hoverlabel\": {\"namelength\": 0}, \"hovertemplate\": \"Drug_Name=%{customdata[2]}<br>SE=%{x}<br>-logP=%{y}<br>F1=%{customdata[0]}<br>F2=%{customdata[1]}\", \"legendgroup\": \"NSC-207895\", \"marker\": {\"color\": \"#FF97FF\", \"symbol\": \"circle\"}, \"mode\": \"markers\", \"name\": \"NSC-207895\", \"showlegend\": true, \"type\": \"scatter\", \"x\": [0.002395164691752365, 0.2856074912155499], \"xaxis\": \"x\", \"y\": [0.0052661191147106035, 1.0451335470418794], \"yaxis\": \"y\"}, {\"customdata\": [[\"TP53\", 271, \"VNLG/124\"], [\"PIK3CA\", 271, \"VNLG/124\"]], \"hoverlabel\": {\"namelength\": 0}, \"hovertemplate\": \"Drug_Name=%{customdata[2]}<br>SE=%{x}<br>-logP=%{y}<br>F1=%{customdata[0]}<br>F2=%{customdata[1]}\", \"legendgroup\": \"VNLG/124\", \"marker\": {\"color\": \"#FECB52\", \"symbol\": \"circle\"}, \"mode\": \"markers\", \"name\": \"VNLG/124\", \"showlegend\": true, \"type\": \"scatter\", \"x\": [0.4146026556382104, 0.3616783012065089], \"xaxis\": \"x\", \"y\": [1.381724900737381, 1.4402470490428143], \"yaxis\": \"y\"}, {\"customdata\": [[\"TP53\", 272, \"AR-42\"], [\"PIK3CA\", 272, \"AR-42\"]], \"hoverlabel\": {\"namelength\": 0}, \"hovertemplate\": \"Drug_Name=%{customdata[2]}<br>SE=%{x}<br>-logP=%{y}<br>F1=%{customdata[0]}<br>F2=%{customdata[1]}\", \"legendgroup\": \"AR-42\", \"marker\": {\"color\": \"#636efa\", \"symbol\": \"circle\"}, \"mode\": \"markers\", \"name\": \"AR-42\", \"showlegend\": true, \"type\": \"scatter\", \"x\": [0.10693678817307424, 0.08257910907424719], \"xaxis\": \"x\", \"y\": [0.2630177035524013, 0.2375183020839586], \"yaxis\": \"y\"}, {\"customdata\": [[\"TP53\", 273, \"CUDC-101\"], [\"PIK3CA\", 273, \"CUDC-101\"]], \"hoverlabel\": {\"namelength\": 0}, \"hovertemplate\": \"Drug_Name=%{customdata[2]}<br>SE=%{x}<br>-logP=%{y}<br>F1=%{customdata[0]}<br>F2=%{customdata[1]}\", \"legendgroup\": \"CUDC-101\", \"marker\": {\"color\": \"#EF553B\", \"symbol\": \"circle\"}, \"mode\": \"markers\", \"name\": \"CUDC-101\", \"showlegend\": true, \"type\": \"scatter\", \"x\": [-0.2177284977328936, 0.020987226897190243], \"xaxis\": \"x\", \"y\": [0.6000189289684359, 0.05584478885531684], \"yaxis\": \"y\"}, {\"customdata\": [[\"TP53\", 274, \"PXD101, Belinostat\"], [\"PIK3CA\", 274, \"PXD101, Belinostat\"]], \"hoverlabel\": {\"namelength\": 0}, \"hovertemplate\": \"Drug_Name=%{customdata[2]}<br>SE=%{x}<br>-logP=%{y}<br>F1=%{customdata[0]}<br>F2=%{customdata[1]}\", \"legendgroup\": \"PXD101, Belinostat\", \"marker\": {\"color\": \"#00cc96\", \"symbol\": \"circle\"}, \"mode\": \"markers\", \"name\": \"PXD101, Belinostat\", \"showlegend\": true, \"type\": \"scatter\", \"x\": [0.02918326706921468, -0.021980159014102787], \"xaxis\": \"x\", \"y\": [0.06606408960323769, 0.058561370547491484], \"yaxis\": \"y\"}, {\"customdata\": [[\"TP53\", 275, \"I-BET 151\"], [\"PIK3CA\", 275, \"I-BET 151\"]], \"hoverlabel\": {\"namelength\": 0}, \"hovertemplate\": \"Drug_Name=%{customdata[2]}<br>SE=%{x}<br>-logP=%{y}<br>F1=%{customdata[0]}<br>F2=%{customdata[1]}\", \"legendgroup\": \"I-BET 151\", \"marker\": {\"color\": \"#ab63fa\", \"symbol\": \"circle\"}, \"mode\": \"markers\", \"name\": \"I-BET 151\", \"showlegend\": true, \"type\": \"scatter\", \"x\": [0.2513808403660158, 0.10422034225661413], \"xaxis\": \"x\", \"y\": [0.7163863950071082, 0.3079065795408557], \"yaxis\": \"y\"}, {\"customdata\": [[\"TP53\", 276, \"CAY10603\"], [\"PIK3CA\", 276, \"CAY10603\"]], \"hoverlabel\": {\"namelength\": 0}, \"hovertemplate\": \"Drug_Name=%{customdata[2]}<br>SE=%{x}<br>-logP=%{y}<br>F1=%{customdata[0]}<br>F2=%{customdata[1]}\", \"legendgroup\": \"CAY10603\", \"marker\": {\"color\": \"#FFA15A\", \"symbol\": \"circle\"}, \"mode\": \"markers\", \"name\": \"CAY10603\", \"showlegend\": true, \"type\": \"scatter\", \"x\": [-0.2857792905638569, -0.051379945300027235], \"xaxis\": \"x\", \"y\": [0.8424268550047961, 0.14210992406022135], \"yaxis\": \"y\"}, {\"customdata\": [[\"TP53\", 277, \"ABT-869\"], [\"PIK3CA\", 277, \"ABT-869\"]], \"hoverlabel\": {\"namelength\": 0}, \"hovertemplate\": \"Drug_Name=%{customdata[2]}<br>SE=%{x}<br>-logP=%{y}<br>F1=%{customdata[0]}<br>F2=%{customdata[1]}\", \"legendgroup\": \"ABT-869\", \"marker\": {\"color\": \"#19d3f3\", \"symbol\": \"circle\"}, \"mode\": \"markers\", \"name\": \"ABT-869\", \"showlegend\": true, \"type\": \"scatter\", \"x\": [0.7199757165530255, -0.02554737186311944], \"xaxis\": \"x\", \"y\": [3.129735804975561, 0.06694097924266408], \"yaxis\": \"y\"}, {\"customdata\": [[\"TP53\", 279, \"BIX02189\"], [\"PIK3CA\", 279, \"BIX02189\"]], \"hoverlabel\": {\"namelength\": 0}, \"hovertemplate\": \"Drug_Name=%{customdata[2]}<br>SE=%{x}<br>-logP=%{y}<br>F1=%{customdata[0]}<br>F2=%{customdata[1]}\", \"legendgroup\": \"BIX02189\", \"marker\": {\"color\": \"#FF6692\", \"symbol\": \"circle\"}, \"mode\": \"markers\", \"name\": \"BIX02189\", \"showlegend\": true, \"type\": \"scatter\", \"x\": [-0.2240518566344098, 0.05781691801883225], \"xaxis\": \"x\", \"y\": [0.6213699837299218, 0.16121790571032246], \"yaxis\": \"y\"}, {\"customdata\": [[\"TP53\", 281, \"CH5424802\"], [\"PIK3CA\", 281, \"CH5424802\"]], \"hoverlabel\": {\"namelength\": 0}, \"hovertemplate\": \"Drug_Name=%{customdata[2]}<br>SE=%{x}<br>-logP=%{y}<br>F1=%{customdata[0]}<br>F2=%{customdata[1]}\", \"legendgroup\": \"CH5424802\", \"marker\": {\"color\": \"#B6E880\", \"symbol\": \"circle\"}, \"mode\": \"markers\", \"name\": \"CH5424802\", \"showlegend\": true, \"type\": \"scatter\", \"x\": [-0.4140814019192233, 0.3749728632252376], \"xaxis\": \"x\", \"y\": [1.3734439016023858, 1.4722211763938617], \"yaxis\": \"y\"}, {\"customdata\": [[\"TP53\", 282, \"EKB-569\"], [\"PIK3CA\", 282, \"EKB-569\"]], \"hoverlabel\": {\"namelength\": 0}, \"hovertemplate\": \"Drug_Name=%{customdata[2]}<br>SE=%{x}<br>-logP=%{y}<br>F1=%{customdata[0]}<br>F2=%{customdata[1]}\", \"legendgroup\": \"EKB-569\", \"marker\": {\"color\": \"#FF97FF\", \"symbol\": \"circle\"}, \"mode\": \"markers\", \"name\": \"EKB-569\", \"showlegend\": true, \"type\": \"scatter\", \"x\": [-0.2048242710365078, -0.14417454029621854], \"xaxis\": \"x\", \"y\": [0.5550301852680145, 0.4365837803343101], \"yaxis\": \"y\"}, {\"customdata\": [[\"TP53\", 283, \"GSK2126458\"], [\"PIK3CA\", 283, \"GSK2126458\"]], \"hoverlabel\": {\"namelength\": 0}, \"hovertemplate\": \"Drug_Name=%{customdata[2]}<br>SE=%{x}<br>-logP=%{y}<br>F1=%{customdata[0]}<br>F2=%{customdata[1]}\", \"legendgroup\": \"GSK2126458\", \"marker\": {\"color\": \"#FECB52\", \"symbol\": \"circle\"}, \"mode\": \"markers\", \"name\": \"GSK2126458\", \"showlegend\": true, \"type\": \"scatter\", \"x\": [-0.17257997183276094, -0.5490519684351627], \"xaxis\": \"x\", \"y\": [0.4526297566619991, 2.5812707570358446], \"yaxis\": \"y\"}, {\"customdata\": [[\"TP53\", 286, \"KIN001-236\"], [\"PIK3CA\", 286, \"KIN001-236\"]], \"hoverlabel\": {\"namelength\": 0}, \"hovertemplate\": \"Drug_Name=%{customdata[2]}<br>SE=%{x}<br>-logP=%{y}<br>F1=%{customdata[0]}<br>F2=%{customdata[1]}\", \"legendgroup\": \"KIN001-236\", \"marker\": {\"color\": \"#636efa\", \"symbol\": \"circle\"}, \"mode\": \"markers\", \"name\": \"KIN001-236\", \"showlegend\": true, \"type\": \"scatter\", \"x\": [0.4134678358702568, -0.17536883544556206], \"xaxis\": \"x\", \"y\": [1.3764897449055122, 0.5647233958732769], \"yaxis\": \"y\"}, {\"customdata\": [[\"TP53\", 287, \"KIN001-244\"], [\"PIK3CA\", 287, \"KIN001-244\"]], \"hoverlabel\": {\"namelength\": 0}, \"hovertemplate\": \"Drug_Name=%{customdata[2]}<br>SE=%{x}<br>-logP=%{y}<br>F1=%{customdata[0]}<br>F2=%{customdata[1]}\", \"legendgroup\": \"KIN001-244\", \"marker\": {\"color\": \"#EF553B\", \"symbol\": \"circle\"}, \"mode\": \"markers\", \"name\": \"KIN001-244\", \"showlegend\": true, \"type\": \"scatter\", \"x\": [-0.18769195169997907, 0.18717523428258706], \"xaxis\": \"x\", \"y\": [0.5017941903582194, 0.6112476611588354], \"yaxis\": \"y\"}, {\"customdata\": [[\"TP53\", 288, \"KIN001-055\"], [\"PIK3CA\", 288, \"KIN001-055\"]], \"hoverlabel\": {\"namelength\": 0}, \"hovertemplate\": \"Drug_Name=%{customdata[2]}<br>SE=%{x}<br>-logP=%{y}<br>F1=%{customdata[0]}<br>F2=%{customdata[1]}\", \"legendgroup\": \"KIN001-055\", \"marker\": {\"color\": \"#00cc96\", \"symbol\": \"circle\"}, \"mode\": \"markers\", \"name\": \"KIN001-055\", \"showlegend\": true, \"type\": \"scatter\", \"x\": [0.06571943436496852, 0.3940742866974382], \"xaxis\": \"x\", \"y\": [0.1547376572386145, 1.6254210824553104], \"yaxis\": \"y\"}, {\"customdata\": [[\"TP53\", 29, \"AZ628\"], [\"PIK3CA\", 29, \"AZ628\"]], \"hoverlabel\": {\"namelength\": 0}, \"hovertemplate\": \"Drug_Name=%{customdata[2]}<br>SE=%{x}<br>-logP=%{y}<br>F1=%{customdata[0]}<br>F2=%{customdata[1]}\", \"legendgroup\": \"AZ628\", \"marker\": {\"color\": \"#ab63fa\", \"symbol\": \"circle\"}, \"mode\": \"markers\", \"name\": \"AZ628\", \"showlegend\": true, \"type\": \"scatter\", \"x\": [0.8766370342623628, 0.6928508547306641], \"xaxis\": \"x\", \"y\": [1.8263927424920439, 1.2877827838406009], \"yaxis\": \"y\"}, {\"customdata\": [[\"TP53\", 290, \"KIN001-260\"], [\"PIK3CA\", 290, \"KIN001-260\"]], \"hoverlabel\": {\"namelength\": 0}, \"hovertemplate\": \"Drug_Name=%{customdata[2]}<br>SE=%{x}<br>-logP=%{y}<br>F1=%{customdata[0]}<br>F2=%{customdata[1]}\", \"legendgroup\": \"KIN001-260\", \"marker\": {\"color\": \"#FFA15A\", \"symbol\": \"circle\"}, \"mode\": \"markers\", \"name\": \"KIN001-260\", \"showlegend\": true, \"type\": \"scatter\", \"x\": [0.2103171008976039, 0.4348904312132988], \"xaxis\": \"x\", \"y\": [0.5752937600762609, 1.873809504149468], \"yaxis\": \"y\"}, {\"customdata\": [[\"TP53\", 291, \"KIN001-266\"], [\"PIK3CA\", 291, \"KIN001-266\"]], \"hoverlabel\": {\"namelength\": 0}, \"hovertemplate\": \"Drug_Name=%{customdata[2]}<br>SE=%{x}<br>-logP=%{y}<br>F1=%{customdata[0]}<br>F2=%{customdata[1]}\", \"legendgroup\": \"KIN001-266\", \"marker\": {\"color\": \"#19d3f3\", \"symbol\": \"circle\"}, \"mode\": \"markers\", \"name\": \"KIN001-266\", \"showlegend\": true, \"type\": \"scatter\", \"x\": [0.15090634281648074, 0.2195246253595004], \"xaxis\": \"x\", \"y\": [0.3885406897883302, 0.7446482528182142], \"yaxis\": \"y\"}, {\"customdata\": [[\"TP53\", 292, \"Masitinib\"], [\"PIK3CA\", 292, \"Masitinib\"]], \"hoverlabel\": {\"namelength\": 0}, \"hovertemplate\": \"Drug_Name=%{customdata[2]}<br>SE=%{x}<br>-logP=%{y}<br>F1=%{customdata[0]}<br>F2=%{customdata[1]}\", \"legendgroup\": \"Masitinib\", \"marker\": {\"color\": \"#FF6692\", \"symbol\": \"circle\"}, \"mode\": \"markers\", \"name\": \"Masitinib\", \"showlegend\": true, \"type\": \"scatter\", \"x\": [0.3160325960441476, 0.023280114599846188], \"xaxis\": \"x\", \"y\": [0.9554372705684232, 0.060826905287078], \"yaxis\": \"y\"}, {\"customdata\": [[\"TP53\", 293, \"MP470\"], [\"PIK3CA\", 293, \"MP470\"]], \"hoverlabel\": {\"namelength\": 0}, \"hovertemplate\": \"Drug_Name=%{customdata[2]}<br>SE=%{x}<br>-logP=%{y}<br>F1=%{customdata[0]}<br>F2=%{customdata[1]}\", \"legendgroup\": \"MP470\", \"marker\": {\"color\": \"#B6E880\", \"symbol\": \"circle\"}, \"mode\": \"markers\", \"name\": \"MP470\", \"showlegend\": true, \"type\": \"scatter\", \"x\": [0.5562900559810467, -0.41405576974087627], \"xaxis\": \"x\", \"y\": [2.098901503396221, 1.6945129287927108], \"yaxis\": \"y\"}, {\"customdata\": [[\"TP53\", 294, \"MPS-1-IN-1\"], [\"PIK3CA\", 294, \"MPS-1-IN-1\"]], \"hoverlabel\": {\"namelength\": 0}, \"hovertemplate\": \"Drug_Name=%{customdata[2]}<br>SE=%{x}<br>-logP=%{y}<br>F1=%{customdata[0]}<br>F2=%{customdata[1]}\", \"legendgroup\": \"MPS-1-IN-1\", \"marker\": {\"color\": \"#FF97FF\", \"symbol\": \"circle\"}, \"mode\": \"markers\", \"name\": \"MPS-1-IN-1\", \"showlegend\": true, \"type\": \"scatter\", \"x\": [0.08650815546513699, 0.3720165304949079], \"xaxis\": \"x\", \"y\": [0.20823791899066826, 1.4982120074735144], \"yaxis\": \"y\"}, {\"customdata\": [[\"TP53\", 295, \"NVP-BHG712\"], [\"PIK3CA\", 295, \"NVP-BHG712\"]], \"hoverlabel\": {\"namelength\": 0}, \"hovertemplate\": \"Drug_Name=%{customdata[2]}<br>SE=%{x}<br>-logP=%{y}<br>F1=%{customdata[0]}<br>F2=%{customdata[1]}\", \"legendgroup\": \"NVP-BHG712\", \"marker\": {\"color\": \"#FECB52\", \"symbol\": \"circle\"}, \"mode\": \"markers\", \"name\": \"NVP-BHG712\", \"showlegend\": true, \"type\": \"scatter\", \"x\": [0.26984670916505715, 0.18702491305367813], \"xaxis\": \"x\", \"y\": [0.7831433590286923, 0.6106481165004102], \"yaxis\": \"y\"}, {\"customdata\": [[\"TP53\", 298, \"OSI-930\"], [\"PIK3CA\", 298, \"OSI-930\"]], \"hoverlabel\": {\"namelength\": 0}, \"hovertemplate\": \"Drug_Name=%{customdata[2]}<br>SE=%{x}<br>-logP=%{y}<br>F1=%{customdata[0]}<br>F2=%{customdata[1]}\", \"legendgroup\": \"OSI-930\", \"marker\": {\"color\": \"#636efa\", \"symbol\": \"circle\"}, \"mode\": \"markers\", \"name\": \"OSI-930\", \"showlegend\": true, \"type\": \"scatter\", \"x\": [0.4253159504856191, -0.23812201584821424], \"xaxis\": \"x\", \"y\": [1.425468378770636, 0.8041044140301985], \"yaxis\": \"y\"}, {\"customdata\": [[\"TP53\", 299, \"OSI-027\"], [\"PIK3CA\", 299, \"OSI-027\"]], \"hoverlabel\": {\"namelength\": 0}, \"hovertemplate\": \"Drug_Name=%{customdata[2]}<br>SE=%{x}<br>-logP=%{y}<br>F1=%{customdata[0]}<br>F2=%{customdata[1]}\", \"legendgroup\": \"OSI-027\", \"marker\": {\"color\": \"#EF553B\", \"symbol\": \"circle\"}, \"mode\": \"markers\", \"name\": \"OSI-027\", \"showlegend\": true, \"type\": \"scatter\", \"x\": [0.15563791343646682, -0.2793191940973186], \"xaxis\": \"x\", \"y\": [0.4011821038698731, 0.9879479184807672], \"yaxis\": \"y\"}, {\"customdata\": [[\"TP53\", 3, \"Rapamycin\"], [\"PIK3CA\", 3, \"Rapamycin\"]], \"hoverlabel\": {\"namelength\": 0}, \"hovertemplate\": \"Drug_Name=%{customdata[2]}<br>SE=%{x}<br>-logP=%{y}<br>F1=%{customdata[0]}<br>F2=%{customdata[1]}\", \"legendgroup\": \"Rapamycin\", \"marker\": {\"color\": \"#00cc96\", \"symbol\": \"circle\"}, \"mode\": \"markers\", \"name\": \"Rapamycin\", \"showlegend\": true, \"type\": \"scatter\", \"x\": [0.4854231381775856, -0.0603566788979512], \"xaxis\": \"x\", \"y\": [0.7956329377424388, 0.07657821098053158], \"yaxis\": \"y\"}, {\"customdata\": [[\"TP53\", 30, \"Sorafenib\"], [\"PIK3CA\", 30, \"Sorafenib\"]], \"hoverlabel\": {\"namelength\": 0}, \"hovertemplate\": \"Drug_Name=%{customdata[2]}<br>SE=%{x}<br>-logP=%{y}<br>F1=%{customdata[0]}<br>F2=%{customdata[1]}\", \"legendgroup\": \"Sorafenib\", \"marker\": {\"color\": \"#ab63fa\", \"symbol\": \"circle\"}, \"mode\": \"markers\", \"name\": \"Sorafenib\", \"showlegend\": true, \"type\": \"scatter\", \"x\": [0.5709576902286203, 0.4232749329101763], \"xaxis\": \"x\", \"y\": [0.9853852022011976, 0.6683228800515372], \"yaxis\": \"y\"}, {\"customdata\": [[\"TP53\", 300, \"CX-5461\"], [\"PIK3CA\", 300, \"CX-5461\"]], \"hoverlabel\": {\"namelength\": 0}, \"hovertemplate\": \"Drug_Name=%{customdata[2]}<br>SE=%{x}<br>-logP=%{y}<br>F1=%{customdata[0]}<br>F2=%{customdata[1]}\", \"legendgroup\": \"CX-5461\", \"marker\": {\"color\": \"#FFA15A\", \"symbol\": \"circle\"}, \"mode\": \"markers\", \"name\": \"CX-5461\", \"showlegend\": true, \"type\": \"scatter\", \"x\": [0.1863671933637881, 0.20505106755851865], \"xaxis\": \"x\", \"y\": [0.4975822360779205, 0.6838793127540999], \"yaxis\": \"y\"}, {\"customdata\": [[\"TP53\", 301, \"PHA-793887\"], [\"PIK3CA\", 301, \"PHA-793887\"]], \"hoverlabel\": {\"namelength\": 0}, \"hovertemplate\": \"Drug_Name=%{customdata[2]}<br>SE=%{x}<br>-logP=%{y}<br>F1=%{customdata[0]}<br>F2=%{customdata[1]}\", \"legendgroup\": \"PHA-793887\", \"marker\": {\"color\": \"#19d3f3\", \"symbol\": \"circle\"}, \"mode\": \"markers\", \"name\": \"PHA-793887\", \"showlegend\": true, \"type\": \"scatter\", \"x\": [-0.20987521991740266, 0.2435773755440515], \"xaxis\": \"x\", \"y\": [0.5716119224319882, 0.8276291338268948], \"yaxis\": \"y\"}, {\"customdata\": [[\"TP53\", 302, \"PI-103\"], [\"PIK3CA\", 302, \"PI-103\"]], \"hoverlabel\": {\"namelength\": 0}, \"hovertemplate\": \"Drug_Name=%{customdata[2]}<br>SE=%{x}<br>-logP=%{y}<br>F1=%{customdata[0]}<br>F2=%{customdata[1]}\", \"legendgroup\": \"PI-103\", \"marker\": {\"color\": \"#FF6692\", \"symbol\": \"circle\"}, \"mode\": \"markers\", \"name\": \"PI-103\", \"showlegend\": true, \"type\": \"scatter\", \"x\": [-0.07272178283168834, 0.14170626403209444], \"xaxis\": \"x\", \"y\": [0.1719084538143628, 0.4278545841792872], \"yaxis\": \"y\"}, {\"customdata\": [[\"TP53\", 303, \"PIK-93\"], [\"PIK3CA\", 303, \"PIK-93\"]], \"hoverlabel\": {\"namelength\": 0}, \"hovertemplate\": \"Drug_Name=%{customdata[2]}<br>SE=%{x}<br>-logP=%{y}<br>F1=%{customdata[0]}<br>F2=%{customdata[1]}\", \"legendgroup\": \"PIK-93\", \"marker\": {\"color\": \"#B6E880\", \"symbol\": \"circle\"}, \"mode\": \"markers\", \"name\": \"PIK-93\", \"showlegend\": true, \"type\": \"scatter\", \"x\": [-0.6104670105015879, -0.4634528581179856], \"xaxis\": \"x\", \"y\": [2.4262998124121675, 2.05796827464206], \"yaxis\": \"y\"}, {\"customdata\": [[\"TP53\", 304, \"SB52334\"], [\"PIK3CA\", 304, \"SB52334\"]], \"hoverlabel\": {\"namelength\": 0}, \"hovertemplate\": \"Drug_Name=%{customdata[2]}<br>SE=%{x}<br>-logP=%{y}<br>F1=%{customdata[0]}<br>F2=%{customdata[1]}\", \"legendgroup\": \"SB52334\", \"marker\": {\"color\": \"#FF97FF\", \"symbol\": \"circle\"}, \"mode\": \"markers\", \"name\": \"SB52334\", \"showlegend\": true, \"type\": \"scatter\", \"x\": [-0.18417750064245525, -0.3966586317539437], \"xaxis\": \"x\", \"y\": [0.4906423556900125, 1.6406437936684093], \"yaxis\": \"y\"}, {\"customdata\": [[\"TP53\", 305, \"TPCA-1\"], [\"PIK3CA\", 305, \"TPCA-1\"]], \"hoverlabel\": {\"namelength\": 0}, \"hovertemplate\": \"Drug_Name=%{customdata[2]}<br>SE=%{x}<br>-logP=%{y}<br>F1=%{customdata[0]}<br>F2=%{customdata[1]}\", \"legendgroup\": \"TPCA-1\", \"marker\": {\"color\": \"#FECB52\", \"symbol\": \"circle\"}, \"mode\": \"markers\", \"name\": \"TPCA-1\", \"showlegend\": true, \"type\": \"scatter\", \"x\": [-0.5481209584530626, -0.003045465513018061], \"xaxis\": \"x\", \"y\": [2.062225430944925, 0.007918586462759614], \"yaxis\": \"y\"}, {\"customdata\": [[\"TP53\", 306, \"TG101348\"], [\"PIK3CA\", 306, \"TG101348\"]], \"hoverlabel\": {\"namelength\": 0}, \"hovertemplate\": \"Drug_Name=%{customdata[2]}<br>SE=%{x}<br>-logP=%{y}<br>F1=%{customdata[0]}<br>F2=%{customdata[1]}\", \"legendgroup\": \"TG101348\", \"marker\": {\"color\": \"#636efa\", \"symbol\": \"circle\"}, \"mode\": \"markers\", \"name\": \"TG101348\", \"showlegend\": true, \"type\": \"scatter\", \"x\": [-0.25689612352098506, 0.27416961361609216], \"xaxis\": \"x\", \"y\": [0.7331807343191268, 0.9641794889575708], \"yaxis\": \"y\"}, {\"customdata\": [[\"TP53\", 308, \"XL-880\"], [\"PIK3CA\", 308, \"XL-880\"]], \"hoverlabel\": {\"namelength\": 0}, \"hovertemplate\": \"Drug_Name=%{customdata[2]}<br>SE=%{x}<br>-logP=%{y}<br>F1=%{customdata[0]}<br>F2=%{customdata[1]}\", \"legendgroup\": \"XL-880\", \"marker\": {\"color\": \"#EF553B\", \"symbol\": \"circle\"}, \"mode\": \"markers\", \"name\": \"XL-880\", \"showlegend\": true, \"type\": \"scatter\", \"x\": [-0.4238948586420177, 0.2211721067965924], \"xaxis\": \"x\", \"y\": [1.4249278975755295, 0.7516778921630423], \"yaxis\": \"y\"}, {\"customdata\": [[\"TP53\", 309, \"Y-39983\"], [\"PIK3CA\", 309, \"Y-39983\"]], \"hoverlabel\": {\"namelength\": 0}, \"hovertemplate\": \"Drug_Name=%{customdata[2]}<br>SE=%{x}<br>-logP=%{y}<br>F1=%{customdata[0]}<br>F2=%{customdata[1]}\", \"legendgroup\": \"Y-39983\", \"marker\": {\"color\": \"#00cc96\", \"symbol\": \"circle\"}, \"mode\": \"markers\", \"name\": \"Y-39983\", \"showlegend\": true, \"type\": \"scatter\", \"x\": [-0.3231980715055488, 0.49737004362194204], \"xaxis\": \"x\", \"y\": [0.9879175608542732, 2.288094773524296], \"yaxis\": \"y\"}, {\"customdata\": [[\"TP53\", 310, \"YM201636\"], [\"PIK3CA\", 310, \"YM201636\"]], \"hoverlabel\": {\"namelength\": 0}, \"hovertemplate\": \"Drug_Name=%{customdata[2]}<br>SE=%{x}<br>-logP=%{y}<br>F1=%{customdata[0]}<br>F2=%{customdata[1]}\", \"legendgroup\": \"YM201636\", \"marker\": {\"color\": \"#ab63fa\", \"symbol\": \"circle\"}, \"mode\": \"markers\", \"name\": \"YM201636\", \"showlegend\": true, \"type\": \"scatter\", \"x\": [-0.3174837745884886, -0.15676481994072075], \"xaxis\": \"x\", \"y\": [0.9651239197531956, 0.4937103906742426], \"yaxis\": \"y\"}, {\"customdata\": [[\"TP53\", 312, \"AV-951\"], [\"PIK3CA\", 312, \"AV-951\"]], \"hoverlabel\": {\"namelength\": 0}, \"hovertemplate\": \"Drug_Name=%{customdata[2]}<br>SE=%{x}<br>-logP=%{y}<br>F1=%{customdata[0]}<br>F2=%{customdata[1]}\", \"legendgroup\": \"AV-951\", \"marker\": {\"color\": \"#FFA15A\", \"symbol\": \"circle\"}, \"mode\": \"markers\", \"name\": \"AV-951\", \"showlegend\": true, \"type\": \"scatter\", \"x\": [0.43272036216744814, 0.32244726663308626], \"xaxis\": \"x\", \"y\": [1.4602354849825907, 1.1960923028325705], \"yaxis\": \"y\"}, {\"customdata\": [[\"PIK3CA\", 32, \"VX-680\"]], \"hoverlabel\": {\"namelength\": 0}, \"hovertemplate\": \"Drug_Name=%{customdata[2]}<br>SE=%{x}<br>-logP=%{y}<br>F1=%{customdata[0]}<br>F2=%{customdata[1]}\", \"legendgroup\": \"VX-680\", \"marker\": {\"color\": \"#19d3f3\", \"symbol\": \"circle\"}, \"mode\": \"markers\", \"name\": \"VX-680\", \"showlegend\": true, \"type\": \"scatter\", \"x\": [0.13875731793617224], \"xaxis\": \"x\", \"y\": [0.17442145875601126], \"yaxis\": \"y\"}, {\"customdata\": [[\"TP53\", 326, \"GSK690693\"], [\"PIK3CA\", 326, \"GSK690693\"]], \"hoverlabel\": {\"namelength\": 0}, \"hovertemplate\": \"Drug_Name=%{customdata[2]}<br>SE=%{x}<br>-logP=%{y}<br>F1=%{customdata[0]}<br>F2=%{customdata[1]}\", \"legendgroup\": \"GSK690693\", \"marker\": {\"color\": \"#FF6692\", \"symbol\": \"circle\"}, \"mode\": \"markers\", \"name\": \"GSK690693\", \"showlegend\": true, \"type\": \"scatter\", \"x\": [-0.18179115129312587, -0.7569435611756532], \"xaxis\": \"x\", \"y\": [0.48127782822967, 4.359075057751369], \"yaxis\": \"y\"}, {\"customdata\": [[\"TP53\", 328, \"SNX-2112\"], [\"PIK3CA\", 328, \"SNX-2112\"]], \"hoverlabel\": {\"namelength\": 0}, \"hovertemplate\": \"Drug_Name=%{customdata[2]}<br>SE=%{x}<br>-logP=%{y}<br>F1=%{customdata[0]}<br>F2=%{customdata[1]}\", \"legendgroup\": \"SNX-2112\", \"marker\": {\"color\": \"#B6E880\", \"symbol\": \"circle\"}, \"mode\": \"markers\", \"name\": \"SNX-2112\", \"showlegend\": true, \"type\": \"scatter\", \"x\": [-0.09928862786839072, -0.14376625729682993], \"xaxis\": \"x\", \"y\": [0.2422501909538261, 0.44573803985355803], \"yaxis\": \"y\"}, {\"customdata\": [[\"TP53\", 329, \"QL-XI-92\"], [\"PIK3CA\", 329, \"QL-XI-92\"]], \"hoverlabel\": {\"namelength\": 0}, \"hovertemplate\": \"Drug_Name=%{customdata[2]}<br>SE=%{x}<br>-logP=%{y}<br>F1=%{customdata[0]}<br>F2=%{customdata[1]}\", \"legendgroup\": \"QL-XI-92\", \"marker\": {\"color\": \"#FF97FF\", \"symbol\": \"circle\"}, \"mode\": \"markers\", \"name\": \"QL-XI-92\", \"showlegend\": true, \"type\": \"scatter\", \"x\": [0.3145011999402654, 0.07215816934558031], \"xaxis\": \"x\", \"y\": [0.9494060760244578, 0.2003266408952676], \"yaxis\": \"y\"}, {\"customdata\": [[\"TP53\", 330, \"XMD13-2\"], [\"PIK3CA\", 330, \"XMD13-2\"]], \"hoverlabel\": {\"namelength\": 0}, \"hovertemplate\": \"Drug_Name=%{customdata[2]}<br>SE=%{x}<br>-logP=%{y}<br>F1=%{customdata[0]}<br>F2=%{customdata[1]}\", \"legendgroup\": \"XMD13-2\", \"marker\": {\"color\": \"#FECB52\", \"symbol\": \"circle\"}, \"mode\": \"markers\", \"name\": \"XMD13-2\", \"showlegend\": true, \"type\": \"scatter\", \"x\": [-0.1307036552869441, -0.04417118232253363], \"xaxis\": \"x\", \"y\": [0.3283537387338969, 0.11846288924235035], \"yaxis\": \"y\"}, {\"customdata\": [[\"TP53\", 331, \"QL-X-138\"], [\"PIK3CA\", 331, \"QL-X-138\"]], \"hoverlabel\": {\"namelength\": 0}, \"hovertemplate\": \"Drug_Name=%{customdata[2]}<br>SE=%{x}<br>-logP=%{y}<br>F1=%{customdata[0]}<br>F2=%{customdata[1]}\", \"legendgroup\": \"QL-X-138\", \"marker\": {\"color\": \"#636efa\", \"symbol\": \"circle\"}, \"mode\": \"markers\", \"name\": \"QL-X-138\", \"showlegend\": true, \"type\": \"scatter\", \"x\": [-0.09040687412882653, -0.2923934683535259], \"xaxis\": \"x\", \"y\": [0.21775045123773729, 1.0493230031677132], \"yaxis\": \"y\"}, {\"customdata\": [[\"TP53\", 332, \"XMD15-27\"], [\"PIK3CA\", 332, \"XMD15-27\"]], \"hoverlabel\": {\"namelength\": 0}, \"hovertemplate\": \"Drug_Name=%{customdata[2]}<br>SE=%{x}<br>-logP=%{y}<br>F1=%{customdata[0]}<br>F2=%{customdata[1]}\", \"legendgroup\": \"XMD15-27\", \"marker\": {\"color\": \"#EF553B\", \"symbol\": \"circle\"}, \"mode\": \"markers\", \"name\": \"XMD15-27\", \"showlegend\": true, \"type\": \"scatter\", \"x\": [0.3691991459668675, 0.08772838204728706], \"xaxis\": \"x\", \"y\": [1.1741975429084237, 0.24823261444354885], \"yaxis\": \"y\"}, {\"customdata\": [[\"TP53\", 333, \"T0901317\"], [\"PIK3CA\", 333, \"T0901317\"]], \"hoverlabel\": {\"namelength\": 0}, \"hovertemplate\": \"Drug_Name=%{customdata[2]}<br>SE=%{x}<br>-logP=%{y}<br>F1=%{customdata[0]}<br>F2=%{customdata[1]}\", \"legendgroup\": \"T0901317\", \"marker\": {\"color\": \"#00cc96\", \"symbol\": \"circle\"}, \"mode\": \"markers\", \"name\": \"T0901317\", \"showlegend\": true, \"type\": \"scatter\", \"x\": [0.4174313674311538, -0.01420146466128758], \"xaxis\": \"x\", \"y\": [1.3888654794570312, 0.03668467279583811], \"yaxis\": \"y\"}, {\"customdata\": [[\"TP53\", 34, \"Imatinib\"], [\"PIK3CA\", 34, \"Imatinib\"]], \"hoverlabel\": {\"namelength\": 0}, \"hovertemplate\": \"Drug_Name=%{customdata[2]}<br>SE=%{x}<br>-logP=%{y}<br>F1=%{customdata[0]}<br>F2=%{customdata[1]}\", \"legendgroup\": \"Imatinib\", \"marker\": {\"color\": \"#ab63fa\", \"symbol\": \"circle\"}, \"mode\": \"markers\", \"name\": \"Imatinib\", \"showlegend\": true, \"type\": \"scatter\", \"x\": [1.5201581463981857, 1.0131077114803857], \"xaxis\": \"x\", \"y\": [5.010132734769189, 2.304051538620369], \"yaxis\": \"y\"}, {\"customdata\": [[\"TP53\", 341, \"EX-527\"], [\"PIK3CA\", 341, \"EX-527\"]], \"hoverlabel\": {\"namelength\": 0}, \"hovertemplate\": \"Drug_Name=%{customdata[2]}<br>SE=%{x}<br>-logP=%{y}<br>F1=%{customdata[0]}<br>F2=%{customdata[1]}\", \"legendgroup\": \"EX-527\", \"marker\": {\"color\": \"#FFA15A\", \"symbol\": \"circle\"}, \"mode\": \"markers\", \"name\": \"EX-527\", \"showlegend\": true, \"type\": \"scatter\", \"x\": [0.3360529622486624, 0.027268824023288105], \"xaxis\": \"x\", \"y\": [1.0399628284386786, 0.07314537270681752], \"yaxis\": \"y\"}, {\"customdata\": [[\"TP53\", 344, \"THZ-2-49\"], [\"PIK3CA\", 344, \"THZ-2-49\"]], \"hoverlabel\": {\"namelength\": 0}, \"hovertemplate\": \"Drug_Name=%{customdata[2]}<br>SE=%{x}<br>-logP=%{y}<br>F1=%{customdata[0]}<br>F2=%{customdata[1]}\", \"legendgroup\": \"THZ-2-49\", \"marker\": {\"color\": \"#19d3f3\", \"symbol\": \"circle\"}, \"mode\": \"markers\", \"name\": \"THZ-2-49\", \"showlegend\": true, \"type\": \"scatter\", \"x\": [-0.5327176907131195, -0.009719546445641436], \"xaxis\": \"x\", \"y\": [1.9769696675315376, 0.025490727248182018], \"yaxis\": \"y\"}, {\"customdata\": [[\"TP53\", 345, \"KIN001-270\"], [\"PIK3CA\", 345, \"KIN001-270\"]], \"hoverlabel\": {\"namelength\": 0}, \"hovertemplate\": \"Drug_Name=%{customdata[2]}<br>SE=%{x}<br>-logP=%{y}<br>F1=%{customdata[0]}<br>F2=%{customdata[1]}\", \"legendgroup\": \"KIN001-270\", \"marker\": {\"color\": \"#FF6692\", \"symbol\": \"circle\"}, \"mode\": \"markers\", \"name\": \"KIN001-270\", \"showlegend\": true, \"type\": \"scatter\", \"x\": [0.12637745657410182, 0.310755289676477], \"xaxis\": \"x\", \"y\": [0.3172178244143375, 1.1697526413912178], \"yaxis\": \"y\"}, {\"customdata\": [[\"TP53\", 346, \"THZ-2-102-1\"], [\"PIK3CA\", 346, \"THZ-2-102-1\"]], \"hoverlabel\": {\"namelength\": 0}, \"hovertemplate\": \"Drug_Name=%{customdata[2]}<br>SE=%{x}<br>-logP=%{y}<br>F1=%{customdata[0]}<br>F2=%{customdata[1]}\", \"legendgroup\": \"THZ-2-102-1\", \"marker\": {\"color\": \"#B6E880\", \"symbol\": \"circle\"}, \"mode\": \"markers\", \"name\": \"THZ-2-102-1\", \"showlegend\": true, \"type\": \"scatter\", \"x\": [-0.8473507672029894, 0.4249409495450705], \"xaxis\": \"x\", \"y\": [4.114946521775595, 1.81167910002297], \"yaxis\": \"y\"}, {\"customdata\": [[\"TP53\", 35, \"NVP-TAE684\"], [\"PIK3CA\", 35, \"NVP-TAE684\"]], \"hoverlabel\": {\"namelength\": 0}, \"hovertemplate\": \"Drug_Name=%{customdata[2]}<br>SE=%{x}<br>-logP=%{y}<br>F1=%{customdata[0]}<br>F2=%{customdata[1]}\", \"legendgroup\": \"NVP-TAE684\", \"marker\": {\"color\": \"#FF97FF\", \"symbol\": \"circle\"}, \"mode\": \"markers\", \"name\": \"NVP-TAE684\", \"showlegend\": true, \"type\": \"scatter\", \"x\": [0.5966112181954762, 0.755145531607577], \"xaxis\": \"x\", \"y\": [1.0457784218999495, 1.4583726356334918], \"yaxis\": \"y\"}, {\"customdata\": [[\"TP53\", 37, \"Crizotinib\"], [\"PIK3CA\", 37, \"Crizotinib\"]], \"hoverlabel\": {\"namelength\": 0}, \"hovertemplate\": \"Drug_Name=%{customdata[2]}<br>SE=%{x}<br>-logP=%{y}<br>F1=%{customdata[0]}<br>F2=%{customdata[1]}\", \"legendgroup\": \"Crizotinib\", \"marker\": {\"color\": \"#FECB52\", \"symbol\": \"circle\"}, \"mode\": \"markers\", \"name\": \"Crizotinib\", \"showlegend\": true, \"type\": \"scatter\", \"x\": [0.43227331146124, 0.29105488177083344], \"xaxis\": \"x\", \"y\": [0.6862306858306952, 0.42447793221761615], \"yaxis\": \"y\"}, {\"customdata\": [[\"TP53\", 38, \"AZD-0530\"], [\"PIK3CA\", 38, \"AZD-0530\"]], \"hoverlabel\": {\"namelength\": 0}, \"hovertemplate\": \"Drug_Name=%{customdata[2]}<br>SE=%{x}<br>-logP=%{y}<br>F1=%{customdata[0]}<br>F2=%{customdata[1]}\", \"legendgroup\": \"AZD-0530\", \"marker\": {\"color\": \"#636efa\", \"symbol\": \"circle\"}, \"mode\": \"markers\", \"name\": \"AZD-0530\", \"showlegend\": true, \"type\": \"scatter\", \"x\": [0.6931151492925605, 0.6059213284367199], \"xaxis\": \"x\", \"y\": [1.28848251713315, 1.068110862539814], \"yaxis\": \"y\"}, {\"customdata\": [[\"PIK3CA\", 41, \"S-Trityl-L-cysteine\"]], \"hoverlabel\": {\"namelength\": 0}, \"hovertemplate\": \"Drug_Name=%{customdata[2]}<br>SE=%{x}<br>-logP=%{y}<br>F1=%{customdata[0]}<br>F2=%{customdata[1]}\", \"legendgroup\": \"S-Trityl-L-cysteine\", \"marker\": {\"color\": \"#EF553B\", \"symbol\": \"circle\"}, \"mode\": \"markers\", \"name\": \"S-Trityl-L-cysteine\", \"showlegend\": true, \"type\": \"scatter\", \"x\": [0.6152854235297491], \"xaxis\": \"x\", \"y\": [1.0203957861501445], \"yaxis\": \"y\"}, {\"customdata\": [[\"PIK3CA\", 45, \"Z-LLNle-CHO\"]], \"hoverlabel\": {\"namelength\": 0}, \"hovertemplate\": \"Drug_Name=%{customdata[2]}<br>SE=%{x}<br>-logP=%{y}<br>F1=%{customdata[0]}<br>F2=%{customdata[1]}\", \"legendgroup\": \"Z-LLNle-CHO\", \"marker\": {\"color\": \"#00cc96\", \"symbol\": \"circle\"}, \"mode\": \"markers\", \"name\": \"Z-LLNle-CHO\", \"showlegend\": true, \"type\": \"scatter\", \"x\": [1.1280858528660012], \"xaxis\": \"x\", \"y\": [2.5881863179262625], \"yaxis\": \"y\"}, {\"customdata\": [[\"PIK3CA\", 5, \"Sunitinib\"]], \"hoverlabel\": {\"namelength\": 0}, \"hovertemplate\": \"Drug_Name=%{customdata[2]}<br>SE=%{x}<br>-logP=%{y}<br>F1=%{customdata[0]}<br>F2=%{customdata[1]}\", \"legendgroup\": \"Sunitinib\", \"marker\": {\"color\": \"#ab63fa\", \"symbol\": \"circle\"}, \"mode\": \"markers\", \"name\": \"Sunitinib\", \"showlegend\": true, \"type\": \"scatter\", \"x\": [0.8068557545309262], \"xaxis\": \"x\", \"y\": [1.5024296935506842], \"yaxis\": \"y\"}, {\"customdata\": [[\"PIK3CA\", 51, \"Dasatinib\"]], \"hoverlabel\": {\"namelength\": 0}, \"hovertemplate\": \"Drug_Name=%{customdata[2]}<br>SE=%{x}<br>-logP=%{y}<br>F1=%{customdata[0]}<br>F2=%{customdata[1]}\", \"legendgroup\": \"Dasatinib\", \"marker\": {\"color\": \"#FFA15A\", \"symbol\": \"circle\"}, \"mode\": \"markers\", \"name\": \"Dasatinib\", \"showlegend\": true, \"type\": \"scatter\", \"x\": [0.17624153394714392], \"xaxis\": \"x\", \"y\": [0.22638286568053656], \"yaxis\": \"y\"}, {\"customdata\": [[\"PIK3CA\", 52, \"GNF-2\"]], \"hoverlabel\": {\"namelength\": 0}, \"hovertemplate\": \"Drug_Name=%{customdata[2]}<br>SE=%{x}<br>-logP=%{y}<br>F1=%{customdata[0]}<br>F2=%{customdata[1]}\", \"legendgroup\": \"GNF-2\", \"marker\": {\"color\": \"#19d3f3\", \"symbol\": \"circle\"}, \"mode\": \"markers\", \"name\": \"GNF-2\", \"showlegend\": true, \"type\": \"scatter\", \"x\": [0.3717916510111928], \"xaxis\": \"x\", \"y\": [0.5346580993555407], \"yaxis\": \"y\"}, {\"customdata\": [[\"PIK3CA\", 53, \"CGP-60474\"]], \"hoverlabel\": {\"namelength\": 0}, \"hovertemplate\": \"Drug_Name=%{customdata[2]}<br>SE=%{x}<br>-logP=%{y}<br>F1=%{customdata[0]}<br>F2=%{customdata[1]}\", \"legendgroup\": \"CGP-60474\", \"marker\": {\"color\": \"#FF6692\", \"symbol\": \"circle\"}, \"mode\": \"markers\", \"name\": \"CGP-60474\", \"showlegend\": true, \"type\": \"scatter\", \"x\": [1.0486771244404585], \"xaxis\": \"x\", \"y\": [2.2796536402626644], \"yaxis\": \"y\"}, {\"customdata\": [[\"PIK3CA\", 54, \"CGP-082996\"]], \"hoverlabel\": {\"namelength\": 0}, \"hovertemplate\": \"Drug_Name=%{customdata[2]}<br>SE=%{x}<br>-logP=%{y}<br>F1=%{customdata[0]}<br>F2=%{customdata[1]}\", \"legendgroup\": \"CGP-082996\", \"marker\": {\"color\": \"#B6E880\", \"symbol\": \"circle\"}, \"mode\": \"markers\", \"name\": \"CGP-082996\", \"showlegend\": true, \"type\": \"scatter\", \"x\": [0.4051836390990455], \"xaxis\": \"x\", \"y\": [0.594071207132379], \"yaxis\": \"y\"}, {\"customdata\": [[\"PIK3CA\", 55, \"A-770041\"]], \"hoverlabel\": {\"namelength\": 0}, \"hovertemplate\": \"Drug_Name=%{customdata[2]}<br>SE=%{x}<br>-logP=%{y}<br>F1=%{customdata[0]}<br>F2=%{customdata[1]}\", \"legendgroup\": \"A-770041\", \"marker\": {\"color\": \"#FF97FF\", \"symbol\": \"circle\"}, \"mode\": \"markers\", \"name\": \"A-770041\", \"showlegend\": true, \"type\": \"scatter\", \"x\": [0.4612676581783433], \"xaxis\": \"x\", \"y\": [0.6987304609096326], \"yaxis\": \"y\"}, {\"customdata\": [[\"PIK3CA\", 56, \"WH-4-023\"]], \"hoverlabel\": {\"namelength\": 0}, \"hovertemplate\": \"Drug_Name=%{customdata[2]}<br>SE=%{x}<br>-logP=%{y}<br>F1=%{customdata[0]}<br>F2=%{customdata[1]}\", \"legendgroup\": \"WH-4-023\", \"marker\": {\"color\": \"#FECB52\", \"symbol\": \"circle\"}, \"mode\": \"markers\", \"name\": \"WH-4-023\", \"showlegend\": true, \"type\": \"scatter\", \"x\": [0.5143889198164415], \"xaxis\": \"x\", \"y\": [0.8037760416978683], \"yaxis\": \"y\"}, {\"customdata\": [[\"PIK3CA\", 59, \"WZ-1-84\"]], \"hoverlabel\": {\"namelength\": 0}, \"hovertemplate\": \"Drug_Name=%{customdata[2]}<br>SE=%{x}<br>-logP=%{y}<br>F1=%{customdata[0]}<br>F2=%{customdata[1]}\", \"legendgroup\": \"WZ-1-84\", \"marker\": {\"color\": \"#636efa\", \"symbol\": \"circle\"}, \"mode\": \"markers\", \"name\": \"WZ-1-84\", \"showlegend\": true, \"type\": \"scatter\", \"x\": [-0.6193844699440596], \"xaxis\": \"x\", \"y\": [1.0296987560936124], \"yaxis\": \"y\"}, {\"customdata\": [[\"TP53\", 6, \"PHA-665752\"], [\"PIK3CA\", 6, \"PHA-665752\"]], \"hoverlabel\": {\"namelength\": 0}, \"hovertemplate\": \"Drug_Name=%{customdata[2]}<br>SE=%{x}<br>-logP=%{y}<br>F1=%{customdata[0]}<br>F2=%{customdata[1]}\", \"legendgroup\": \"PHA-665752\", \"marker\": {\"color\": \"#EF553B\", \"symbol\": \"circle\"}, \"mode\": \"markers\", \"name\": \"PHA-665752\", \"showlegend\": true, \"type\": \"scatter\", \"x\": [1.187166361699289, 0.5610406450561112], \"xaxis\": \"x\", \"y\": [3.035774100786577, 0.962480814272858], \"yaxis\": \"y\"}, {\"customdata\": [[\"PIK3CA\", 60, \"BI-2536\"]], \"hoverlabel\": {\"namelength\": 0}, \"hovertemplate\": \"Drug_Name=%{customdata[2]}<br>SE=%{x}<br>-logP=%{y}<br>F1=%{customdata[0]}<br>F2=%{customdata[1]}\", \"legendgroup\": \"BI-2536\", \"marker\": {\"color\": \"#00cc96\", \"symbol\": \"circle\"}, \"mode\": \"markers\", \"name\": \"BI-2536\", \"showlegend\": true, \"type\": \"scatter\", \"x\": [0.014663281042141424], \"xaxis\": \"x\", \"y\": [0.01715607302803989], \"yaxis\": \"y\"}, {\"customdata\": [[\"PIK3CA\", 63, \"BMS-509744\"]], \"hoverlabel\": {\"namelength\": 0}, \"hovertemplate\": \"Drug_Name=%{customdata[2]}<br>SE=%{x}<br>-logP=%{y}<br>F1=%{customdata[0]}<br>F2=%{customdata[1]}\", \"legendgroup\": \"BMS-509744\", \"marker\": {\"color\": \"#ab63fa\", \"symbol\": \"circle\"}, \"mode\": \"markers\", \"name\": \"BMS-509744\", \"showlegend\": true, \"type\": \"scatter\", \"x\": [0.380515395759108], \"xaxis\": \"x\", \"y\": [0.5499766609033654], \"yaxis\": \"y\"}, {\"customdata\": [[\"PIK3CA\", 64, \"CMK\"]], \"hoverlabel\": {\"namelength\": 0}, \"hovertemplate\": \"Drug_Name=%{customdata[2]}<br>SE=%{x}<br>-logP=%{y}<br>F1=%{customdata[0]}<br>F2=%{customdata[1]}\", \"legendgroup\": \"CMK\", \"marker\": {\"color\": \"#FFA15A\", \"symbol\": \"circle\"}, \"mode\": \"markers\", \"name\": \"CMK\", \"showlegend\": true, \"type\": \"scatter\", \"x\": [0.6647505190930162], \"xaxis\": \"x\", \"y\": [1.135437600088685], \"yaxis\": \"y\"}, {\"customdata\": [[\"TP53\", 71, \"Pyrimethamine\"], [\"PIK3CA\", 71, \"Pyrimethamine\"]], \"hoverlabel\": {\"namelength\": 0}, \"hovertemplate\": \"Drug_Name=%{customdata[2]}<br>SE=%{x}<br>-logP=%{y}<br>F1=%{customdata[0]}<br>F2=%{customdata[1]}\", \"legendgroup\": \"Pyrimethamine\", \"marker\": {\"color\": \"#19d3f3\", \"symbol\": \"circle\"}, \"mode\": \"markers\", \"name\": \"Pyrimethamine\", \"showlegend\": true, \"type\": \"scatter\", \"x\": [0.49668017885963106, 0.9666100174314766], \"xaxis\": \"x\", \"y\": [0.8196199205877773, 2.1328866976840217], \"yaxis\": \"y\"}, {\"customdata\": [[\"PIK3CA\", 83, \"JW-7-52-1\"]], \"hoverlabel\": {\"namelength\": 0}, \"hovertemplate\": \"Drug_Name=%{customdata[2]}<br>SE=%{x}<br>-logP=%{y}<br>F1=%{customdata[0]}<br>F2=%{customdata[1]}\", \"legendgroup\": \"JW-7-52-1\", \"marker\": {\"color\": \"#FF6692\", \"symbol\": \"circle\"}, \"mode\": \"markers\", \"name\": \"JW-7-52-1\", \"showlegend\": true, \"type\": \"scatter\", \"x\": [0.5020362209517462], \"xaxis\": \"x\", \"y\": [0.7788177188135955], \"yaxis\": \"y\"}, {\"customdata\": [[\"PIK3CA\", 86, \"A-443654\"]], \"hoverlabel\": {\"namelength\": 0}, \"hovertemplate\": \"Drug_Name=%{customdata[2]}<br>SE=%{x}<br>-logP=%{y}<br>F1=%{customdata[0]}<br>F2=%{customdata[1]}\", \"legendgroup\": \"A-443654\", \"marker\": {\"color\": \"#B6E880\", \"symbol\": \"circle\"}, \"mode\": \"markers\", \"name\": \"A-443654\", \"showlegend\": true, \"type\": \"scatter\", \"x\": [-0.7521584199480401], \"xaxis\": \"x\", \"y\": [1.3543788782883603], \"yaxis\": \"y\"}, {\"customdata\": [[\"PIK3CA\", 87, \"GW843682X\"]], \"hoverlabel\": {\"namelength\": 0}, \"hovertemplate\": \"Drug_Name=%{customdata[2]}<br>SE=%{x}<br>-logP=%{y}<br>F1=%{customdata[0]}<br>F2=%{customdata[1]}\", \"legendgroup\": \"GW843682X\", \"marker\": {\"color\": \"#FF97FF\", \"symbol\": \"circle\"}, \"mode\": \"markers\", \"name\": \"GW843682X\", \"showlegend\": true, \"type\": \"scatter\", \"x\": [0.17848913014866966], \"xaxis\": \"x\", \"y\": [0.22956731060361255], \"yaxis\": \"y\"}, {\"customdata\": [[\"TP53\", 88, \"MS-275\"], [\"PIK3CA\", 88, \"MS-275\"]], \"hoverlabel\": {\"namelength\": 0}, \"hovertemplate\": \"Drug_Name=%{customdata[2]}<br>SE=%{x}<br>-logP=%{y}<br>F1=%{customdata[0]}<br>F2=%{customdata[1]}\", \"legendgroup\": \"MS-275\", \"marker\": {\"color\": \"#FECB52\", \"symbol\": \"circle\"}, \"mode\": \"markers\", \"name\": \"MS-275\", \"showlegend\": true, \"type\": \"scatter\", \"x\": [-0.2071119551121688, 0.06152100006686927], \"xaxis\": \"x\", \"y\": [0.2871793592060117, 0.07811075127988851], \"yaxis\": \"y\"}, {\"customdata\": [[\"TP53\", 89, \"Parthenolide\"], [\"PIK3CA\", 89, \"Parthenolide\"]], \"hoverlabel\": {\"namelength\": 0}, \"hovertemplate\": \"Drug_Name=%{customdata[2]}<br>SE=%{x}<br>-logP=%{y}<br>F1=%{customdata[0]}<br>F2=%{customdata[1]}\", \"legendgroup\": \"Parthenolide\", \"marker\": {\"color\": \"#636efa\", \"symbol\": \"circle\"}, \"mode\": \"markers\", \"name\": \"Parthenolide\", \"showlegend\": true, \"type\": \"scatter\", \"x\": [0.698118456533709, 0.3873060314819418], \"xaxis\": \"x\", \"y\": [1.3017667705773128, 0.5984617133838674], \"yaxis\": \"y\"}, {\"customdata\": [[\"TP53\", 9, \"MG-132\"], [\"PIK3CA\", 9, \"MG-132\"]], \"hoverlabel\": {\"namelength\": 0}, \"hovertemplate\": \"Drug_Name=%{customdata[2]}<br>SE=%{x}<br>-logP=%{y}<br>F1=%{customdata[0]}<br>F2=%{customdata[1]}\", \"legendgroup\": \"MG-132\", \"marker\": {\"color\": \"#EF553B\", \"symbol\": \"circle\"}, \"mode\": \"markers\", \"name\": \"MG-132\", \"showlegend\": true, \"type\": \"scatter\", \"x\": [0.4550688669090628, -0.011289631906718368], \"xaxis\": \"x\", \"y\": [0.7323845918195663, 0.013901812511683265], \"yaxis\": \"y\"}, {\"customdata\": [[\"TP53\", 91, \"KIN001-135\"], [\"PIK3CA\", 91, \"KIN001-135\"]], \"hoverlabel\": {\"namelength\": 0}, \"hovertemplate\": \"Drug_Name=%{customdata[2]}<br>SE=%{x}<br>-logP=%{y}<br>F1=%{customdata[0]}<br>F2=%{customdata[1]}\", \"legendgroup\": \"KIN001-135\", \"marker\": {\"color\": \"#00cc96\", \"symbol\": \"circle\"}, \"mode\": \"markers\", \"name\": \"KIN001-135\", \"showlegend\": true, \"type\": \"scatter\", \"x\": [-0.19781678465609207, 0.22447632213832971], \"xaxis\": \"x\", \"y\": [0.2727584538881529, 0.3145291723184413], \"yaxis\": \"y\"}, {\"customdata\": [[\"TP53\", 94, \"TGX221\"], [\"PIK3CA\", 94, \"TGX221\"]], \"hoverlabel\": {\"namelength\": 0}, \"hovertemplate\": \"Drug_Name=%{customdata[2]}<br>SE=%{x}<br>-logP=%{y}<br>F1=%{customdata[0]}<br>F2=%{customdata[1]}\", \"legendgroup\": \"TGX221\", \"marker\": {\"color\": \"#ab63fa\", \"symbol\": \"circle\"}, \"mode\": \"markers\", \"name\": \"TGX221\", \"showlegend\": true, \"type\": \"scatter\", \"x\": [-0.19693412818181816, 0.6091878482492022], \"xaxis\": \"x\", \"y\": [0.2713969602739342, 1.0759994282997711], \"yaxis\": \"y\"}],\n",
       "                        {\"legend\": {\"title\": {\"text\": \"Drug_Name\"}, \"tracegroupgap\": 0}, \"margin\": {\"t\": 60}, \"template\": {\"data\": {\"bar\": [{\"error_x\": {\"color\": \"#2a3f5f\"}, \"error_y\": {\"color\": \"#2a3f5f\"}, \"marker\": {\"line\": {\"color\": \"#E5ECF6\", \"width\": 0.5}}, \"type\": \"bar\"}], \"barpolar\": [{\"marker\": {\"line\": {\"color\": \"#E5ECF6\", \"width\": 0.5}}, \"type\": \"barpolar\"}], \"carpet\": [{\"aaxis\": {\"endlinecolor\": \"#2a3f5f\", \"gridcolor\": \"white\", \"linecolor\": \"white\", \"minorgridcolor\": \"white\", \"startlinecolor\": \"#2a3f5f\"}, \"baxis\": {\"endlinecolor\": \"#2a3f5f\", \"gridcolor\": \"white\", \"linecolor\": \"white\", \"minorgridcolor\": \"white\", \"startlinecolor\": \"#2a3f5f\"}, \"type\": \"carpet\"}], \"choropleth\": [{\"colorbar\": {\"outlinewidth\": 0, \"ticks\": \"\"}, \"type\": \"choropleth\"}], \"contour\": [{\"colorbar\": {\"outlinewidth\": 0, \"ticks\": \"\"}, \"colorscale\": [[0.0, \"#0d0887\"], [0.1111111111111111, \"#46039f\"], [0.2222222222222222, \"#7201a8\"], [0.3333333333333333, \"#9c179e\"], [0.4444444444444444, \"#bd3786\"], [0.5555555555555556, \"#d8576b\"], [0.6666666666666666, \"#ed7953\"], [0.7777777777777778, \"#fb9f3a\"], [0.8888888888888888, \"#fdca26\"], [1.0, \"#f0f921\"]], \"type\": \"contour\"}], \"contourcarpet\": [{\"colorbar\": {\"outlinewidth\": 0, \"ticks\": \"\"}, \"type\": \"contourcarpet\"}], \"heatmap\": [{\"colorbar\": {\"outlinewidth\": 0, \"ticks\": \"\"}, \"colorscale\": [[0.0, \"#0d0887\"], [0.1111111111111111, \"#46039f\"], [0.2222222222222222, \"#7201a8\"], [0.3333333333333333, \"#9c179e\"], [0.4444444444444444, \"#bd3786\"], [0.5555555555555556, \"#d8576b\"], [0.6666666666666666, \"#ed7953\"], [0.7777777777777778, \"#fb9f3a\"], [0.8888888888888888, \"#fdca26\"], [1.0, \"#f0f921\"]], \"type\": \"heatmap\"}], \"heatmapgl\": [{\"colorbar\": {\"outlinewidth\": 0, \"ticks\": \"\"}, \"colorscale\": [[0.0, \"#0d0887\"], [0.1111111111111111, \"#46039f\"], [0.2222222222222222, \"#7201a8\"], [0.3333333333333333, \"#9c179e\"], [0.4444444444444444, \"#bd3786\"], [0.5555555555555556, \"#d8576b\"], [0.6666666666666666, \"#ed7953\"], [0.7777777777777778, \"#fb9f3a\"], [0.8888888888888888, \"#fdca26\"], [1.0, \"#f0f921\"]], \"type\": \"heatmapgl\"}], \"histogram\": [{\"marker\": {\"colorbar\": {\"outlinewidth\": 0, \"ticks\": \"\"}}, \"type\": \"histogram\"}], \"histogram2d\": [{\"colorbar\": {\"outlinewidth\": 0, \"ticks\": \"\"}, \"colorscale\": [[0.0, \"#0d0887\"], [0.1111111111111111, \"#46039f\"], [0.2222222222222222, \"#7201a8\"], [0.3333333333333333, \"#9c179e\"], [0.4444444444444444, \"#bd3786\"], [0.5555555555555556, \"#d8576b\"], [0.6666666666666666, \"#ed7953\"], [0.7777777777777778, \"#fb9f3a\"], [0.8888888888888888, \"#fdca26\"], [1.0, \"#f0f921\"]], \"type\": \"histogram2d\"}], \"histogram2dcontour\": [{\"colorbar\": {\"outlinewidth\": 0, \"ticks\": \"\"}, \"colorscale\": [[0.0, \"#0d0887\"], [0.1111111111111111, \"#46039f\"], [0.2222222222222222, \"#7201a8\"], [0.3333333333333333, \"#9c179e\"], [0.4444444444444444, \"#bd3786\"], [0.5555555555555556, \"#d8576b\"], [0.6666666666666666, \"#ed7953\"], [0.7777777777777778, \"#fb9f3a\"], [0.8888888888888888, \"#fdca26\"], [1.0, \"#f0f921\"]], \"type\": \"histogram2dcontour\"}], \"mesh3d\": [{\"colorbar\": {\"outlinewidth\": 0, \"ticks\": \"\"}, \"type\": \"mesh3d\"}], \"parcoords\": [{\"line\": {\"colorbar\": {\"outlinewidth\": 0, \"ticks\": \"\"}}, \"type\": \"parcoords\"}], \"pie\": [{\"automargin\": true, \"type\": \"pie\"}], \"scatter\": [{\"marker\": {\"colorbar\": {\"outlinewidth\": 0, \"ticks\": \"\"}}, \"type\": \"scatter\"}], \"scatter3d\": [{\"line\": {\"colorbar\": {\"outlinewidth\": 0, \"ticks\": \"\"}}, \"marker\": {\"colorbar\": {\"outlinewidth\": 0, \"ticks\": \"\"}}, \"type\": \"scatter3d\"}], \"scattercarpet\": [{\"marker\": {\"colorbar\": {\"outlinewidth\": 0, \"ticks\": \"\"}}, \"type\": \"scattercarpet\"}], \"scattergeo\": [{\"marker\": {\"colorbar\": {\"outlinewidth\": 0, \"ticks\": \"\"}}, \"type\": \"scattergeo\"}], \"scattergl\": [{\"marker\": {\"colorbar\": {\"outlinewidth\": 0, \"ticks\": \"\"}}, \"type\": \"scattergl\"}], \"scattermapbox\": [{\"marker\": {\"colorbar\": {\"outlinewidth\": 0, \"ticks\": \"\"}}, \"type\": \"scattermapbox\"}], \"scatterpolar\": [{\"marker\": {\"colorbar\": {\"outlinewidth\": 0, \"ticks\": \"\"}}, \"type\": \"scatterpolar\"}], \"scatterpolargl\": [{\"marker\": {\"colorbar\": {\"outlinewidth\": 0, \"ticks\": \"\"}}, \"type\": \"scatterpolargl\"}], \"scatterternary\": [{\"marker\": {\"colorbar\": {\"outlinewidth\": 0, \"ticks\": \"\"}}, \"type\": \"scatterternary\"}], \"surface\": [{\"colorbar\": {\"outlinewidth\": 0, \"ticks\": \"\"}, \"colorscale\": [[0.0, \"#0d0887\"], [0.1111111111111111, \"#46039f\"], [0.2222222222222222, \"#7201a8\"], [0.3333333333333333, \"#9c179e\"], [0.4444444444444444, \"#bd3786\"], [0.5555555555555556, \"#d8576b\"], [0.6666666666666666, \"#ed7953\"], [0.7777777777777778, \"#fb9f3a\"], [0.8888888888888888, \"#fdca26\"], [1.0, \"#f0f921\"]], \"type\": \"surface\"}], \"table\": [{\"cells\": {\"fill\": {\"color\": \"#EBF0F8\"}, \"line\": {\"color\": \"white\"}}, \"header\": {\"fill\": {\"color\": \"#C8D4E3\"}, \"line\": {\"color\": \"white\"}}, \"type\": \"table\"}]}, \"layout\": {\"annotationdefaults\": {\"arrowcolor\": \"#2a3f5f\", \"arrowhead\": 0, \"arrowwidth\": 1}, \"coloraxis\": {\"colorbar\": {\"outlinewidth\": 0, \"ticks\": \"\"}}, \"colorscale\": {\"diverging\": [[0, \"#8e0152\"], [0.1, \"#c51b7d\"], [0.2, \"#de77ae\"], [0.3, \"#f1b6da\"], [0.4, \"#fde0ef\"], [0.5, \"#f7f7f7\"], [0.6, \"#e6f5d0\"], [0.7, \"#b8e186\"], [0.8, \"#7fbc41\"], [0.9, \"#4d9221\"], [1, \"#276419\"]], \"sequential\": [[0.0, \"#0d0887\"], [0.1111111111111111, \"#46039f\"], [0.2222222222222222, \"#7201a8\"], [0.3333333333333333, \"#9c179e\"], [0.4444444444444444, \"#bd3786\"], [0.5555555555555556, \"#d8576b\"], [0.6666666666666666, \"#ed7953\"], [0.7777777777777778, \"#fb9f3a\"], [0.8888888888888888, \"#fdca26\"], [1.0, \"#f0f921\"]], \"sequentialminus\": [[0.0, \"#0d0887\"], [0.1111111111111111, \"#46039f\"], [0.2222222222222222, \"#7201a8\"], [0.3333333333333333, \"#9c179e\"], [0.4444444444444444, \"#bd3786\"], [0.5555555555555556, \"#d8576b\"], [0.6666666666666666, \"#ed7953\"], [0.7777777777777778, \"#fb9f3a\"], [0.8888888888888888, \"#fdca26\"], [1.0, \"#f0f921\"]]}, \"colorway\": [\"#636efa\", \"#EF553B\", \"#00cc96\", \"#ab63fa\", \"#FFA15A\", \"#19d3f3\", \"#FF6692\", \"#B6E880\", \"#FF97FF\", \"#FECB52\"], \"font\": {\"color\": \"#2a3f5f\"}, \"geo\": {\"bgcolor\": \"white\", \"lakecolor\": \"white\", \"landcolor\": \"#E5ECF6\", \"showlakes\": true, \"showland\": true, \"subunitcolor\": \"white\"}, \"hoverlabel\": {\"align\": \"left\"}, \"hovermode\": \"closest\", \"mapbox\": {\"style\": \"light\"}, \"paper_bgcolor\": \"white\", \"plot_bgcolor\": \"#E5ECF6\", \"polar\": {\"angularaxis\": {\"gridcolor\": \"white\", \"linecolor\": \"white\", \"ticks\": \"\"}, \"bgcolor\": \"#E5ECF6\", \"radialaxis\": {\"gridcolor\": \"white\", \"linecolor\": \"white\", \"ticks\": \"\"}}, \"scene\": {\"xaxis\": {\"backgroundcolor\": \"#E5ECF6\", \"gridcolor\": \"white\", \"gridwidth\": 2, \"linecolor\": \"white\", \"showbackground\": true, \"ticks\": \"\", \"zerolinecolor\": \"white\"}, \"yaxis\": {\"backgroundcolor\": \"#E5ECF6\", \"gridcolor\": \"white\", \"gridwidth\": 2, \"linecolor\": \"white\", \"showbackground\": true, \"ticks\": \"\", \"zerolinecolor\": \"white\"}, \"zaxis\": {\"backgroundcolor\": \"#E5ECF6\", \"gridcolor\": \"white\", \"gridwidth\": 2, \"linecolor\": \"white\", \"showbackground\": true, \"ticks\": \"\", \"zerolinecolor\": \"white\"}}, \"shapedefaults\": {\"line\": {\"color\": \"#2a3f5f\"}}, \"ternary\": {\"aaxis\": {\"gridcolor\": \"white\", \"linecolor\": \"white\", \"ticks\": \"\"}, \"baxis\": {\"gridcolor\": \"white\", \"linecolor\": \"white\", \"ticks\": \"\"}, \"bgcolor\": \"#E5ECF6\", \"caxis\": {\"gridcolor\": \"white\", \"linecolor\": \"white\", \"ticks\": \"\"}}, \"title\": {\"x\": 0.05}, \"xaxis\": {\"automargin\": true, \"gridcolor\": \"white\", \"linecolor\": \"white\", \"ticks\": \"\", \"title\": {\"standoff\": 15}, \"zerolinecolor\": \"white\", \"zerolinewidth\": 2}, \"yaxis\": {\"automargin\": true, \"gridcolor\": \"white\", \"linecolor\": \"white\", \"ticks\": \"\", \"title\": {\"standoff\": 15}, \"zerolinecolor\": \"white\", \"zerolinewidth\": 2}}}, \"xaxis\": {\"anchor\": \"y\", \"domain\": [0.0, 1.0], \"title\": {\"text\": \"SE\"}}, \"yaxis\": {\"anchor\": \"x\", \"domain\": [0.0, 1.0], \"title\": {\"text\": \"-logP\"}}},\n",
       "                        {\"responsive\": true}\n",
       "                    ).then(function(){\n",
       "                            \n",
       "var gd = document.getElementById('49c5f639-9036-4bb0-b5a2-52e455ee2e23');\n",
       "var x = new MutationObserver(function (mutations, observer) {{\n",
       "        var display = window.getComputedStyle(gd).display;\n",
       "        if (!display || display === 'none') {{\n",
       "            console.log([gd, 'removed!']);\n",
       "            Plotly.purge(gd);\n",
       "            observer.disconnect();\n",
       "        }}\n",
       "}});\n",
       "\n",
       "// Listen for the removal of the full notebook cells\n",
       "var notebookContainer = gd.closest('#notebook-container');\n",
       "if (notebookContainer) {{\n",
       "    x.observe(notebookContainer, {childList: true});\n",
       "}}\n",
       "\n",
       "// Listen for the clearing of the current output cell\n",
       "var outputEl = gd.closest('.output');\n",
       "if (outputEl) {{\n",
       "    x.observe(outputEl, {childList: true});\n",
       "}}\n",
       "\n",
       "                        })\n",
       "                };\n",
       "                });\n",
       "            </script>\n",
       "        </div>"
      ]
     },
     "metadata": {},
     "output_type": "display_data"
    },
    {
     "data": {
      "application/vnd.plotly.v1+json": {
       "config": {
        "plotlyServerURL": "https://plot.ly"
       },
       "data": [
        {
         "customdata": [
          [
           "TP53",
           1001,
           "AAPK1 (AMPK) agonist"
          ],
          [
           "BRAF",
           1001,
           "AAPK1 (AMPK) agonist"
          ],
          [
           "PIK3CA",
           1001,
           "AAPK1 (AMPK) agonist"
          ],
          [
           "TP53",
           196,
           "AAPK1 (AMPK) agonist"
          ],
          [
           "PIK3CA",
           196,
           "AAPK1 (AMPK) agonist"
          ]
         ],
         "hoverlabel": {
          "namelength": 0
         },
         "hovertemplate": "Drug_Putative_Target=%{customdata[2]}<br>SE=%{x}<br>-logP=%{y}<br>F1=%{customdata[0]}<br>F2=%{customdata[1]}",
         "legendgroup": "AAPK1 (AMPK) agonist",
         "marker": {
          "color": "#636efa",
          "symbol": "circle"
         },
         "mode": "markers",
         "name": "AAPK1 (AMPK) agonist",
         "showlegend": true,
         "type": "scatter",
         "x": [
          0.2164671889350487,
          0.1836705671367028,
          0.09885130145768066,
          0.31631280865130235,
          0.03472650429845354
         ],
         "xaxis": "x",
         "y": [
          0.5591548756653676,
          0.3104695981497278,
          0.27762719543379805,
          0.9604789007453842,
          0.09404047737045083
         ],
         "yaxis": "y"
        },
        {
         "customdata": [
          [
           "TP53",
           1003,
           "TOP1"
          ],
          [
           "BRAF",
           1003,
           "TOP1"
          ],
          [
           "PIK3CA",
           1003,
           "TOP1"
          ],
          [
           "TP53",
           1494,
           "TOP1"
          ],
          [
           "BRAF",
           1494,
           "TOP1"
          ],
          [
           "PIK3CA",
           1494,
           "TOP1"
          ]
         ],
         "hoverlabel": {
          "namelength": 0
         },
         "hovertemplate": "Drug_Putative_Target=%{customdata[2]}<br>SE=%{x}<br>-logP=%{y}<br>F1=%{customdata[0]}<br>F2=%{customdata[1]}",
         "legendgroup": "TOP1",
         "marker": {
          "color": "#EF553B",
          "symbol": "circle"
         },
         "mode": "markers",
         "name": "TOP1",
         "showlegend": true,
         "type": "scatter",
         "x": [
          0.2303200689985821,
          0.23721488931129456,
          0.16840761890954775,
          0.3528118547802795,
          0.4178007116307277,
          0.021912558337805168
         ],
         "xaxis": "x",
         "y": [
          0.6028724863027771,
          0.4162839084296125,
          0.5131594943757254,
          1.048025493109813,
          0.8336192529288543,
          0.05715549747149368
         ],
         "yaxis": "y"
        },
        {
         "customdata": [
          [
           "TP53",
           1004,
           "Microtubules"
          ],
          [
           "BRAF",
           1004,
           "Microtubules"
          ],
          [
           "PIK3CA",
           1004,
           "Microtubules"
          ],
          [
           "TP53",
           1007,
           "Microtubules"
          ],
          [
           "BRAF",
           1007,
           "Microtubules"
          ],
          [
           "PIK3CA",
           1007,
           "Microtubules"
          ],
          [
           "PIK3CA",
           11,
           "Microtubules"
          ],
          [
           "TP53",
           140,
           "Microtubules"
          ],
          [
           "PIK3CA",
           140,
           "Microtubules"
          ],
          [
           "TP53",
           201,
           "Microtubules"
          ],
          [
           "PIK3CA",
           201,
           "Microtubules"
          ]
         ],
         "hoverlabel": {
          "namelength": 0
         },
         "hovertemplate": "Drug_Putative_Target=%{customdata[2]}<br>SE=%{x}<br>-logP=%{y}<br>F1=%{customdata[0]}<br>F2=%{customdata[1]}",
         "legendgroup": "Microtubules",
         "marker": {
          "color": "#00cc96",
          "symbol": "circle"
         },
         "mode": "markers",
         "name": "Microtubules",
         "showlegend": true,
         "type": "scatter",
         "x": [
          -0.7258507100839087,
          0.8441156864545071,
          -0.266879386558866,
          -0.36189787756725056,
          0.5553787265646171,
          -0.1197894035743284,
          0.36529283441450544,
          -0.31230131572865205,
          -0.018643098474157252,
          0.04197457495500016,
          -0.1578498992363207
         ],
         "xaxis": "x",
         "y": [
          2.9370871839329817,
          2.189683788254114,
          0.9088436741892346,
          1.0707719070201915,
          1.204763176775731,
          0.344885875359196,
          0.5233386463467561,
          0.8901914922591299,
          0.04813516740816074,
          0.09211986381430988,
          0.4941828416204305
         ],
         "yaxis": "y"
        },
        {
         "customdata": [
          [
           "TP53",
           1005,
           "DNA crosslinker"
          ],
          [
           "BRAF",
           1005,
           "DNA crosslinker"
          ],
          [
           "PIK3CA",
           1005,
           "DNA crosslinker"
          ],
          [
           "TP53",
           136,
           "DNA crosslinker"
          ],
          [
           "PIK3CA",
           136,
           "DNA crosslinker"
          ]
         ],
         "hoverlabel": {
          "namelength": 0
         },
         "hovertemplate": "Drug_Putative_Target=%{customdata[2]}<br>SE=%{x}<br>-logP=%{y}<br>F1=%{customdata[0]}<br>F2=%{customdata[1]}",
         "legendgroup": "DNA crosslinker",
         "marker": {
          "color": "#ab63fa",
          "symbol": "circle"
         },
         "mode": "markers",
         "name": "DNA crosslinker",
         "showlegend": true,
         "type": "scatter",
         "x": [
          -0.38561441871278396,
          0.24715375741205345,
          0.3564167637637551,
          0.5858697406668021,
          -0.3198691518102364
         ],
         "xaxis": "x",
         "y": [
          1.1657206845516472,
          0.43672576310683575,
          1.3375342427282018,
          2.1372636178835616,
          1.2065155460055226
         ],
         "yaxis": "y"
        },
        {
         "customdata": [
          [
           "TP53",
           1006,
           "DNA synthesis"
          ],
          [
           "BRAF",
           1006,
           "DNA synthesis"
          ],
          [
           "PIK3CA",
           1006,
           "DNA synthesis"
          ]
         ],
         "hoverlabel": {
          "namelength": 0
         },
         "hovertemplate": "Drug_Putative_Target=%{customdata[2]}<br>SE=%{x}<br>-logP=%{y}<br>F1=%{customdata[0]}<br>F2=%{customdata[1]}",
         "legendgroup": "DNA synthesis",
         "marker": {
          "color": "#FFA15A",
          "symbol": "circle"
         },
         "mode": "markers",
         "name": "DNA synthesis",
         "showlegend": true,
         "type": "scatter",
         "x": [
          0.13577959454504826,
          -0.32038019507329746,
          0.5023153345686648
         ],
         "xaxis": "x",
         "y": [
          0.32423405971283353,
          0.5952798128192859,
          2.1928137228181117
         ],
         "yaxis": "y"
        },
        {
         "customdata": [
          [
           "TP53",
           1008,
           "Dihydrofolate reductase (DHFR)"
          ],
          [
           "BRAF",
           1008,
           "Dihydrofolate reductase (DHFR)"
          ],
          [
           "PIK3CA",
           1008,
           "Dihydrofolate reductase (DHFR)"
          ],
          [
           "TP53",
           71,
           "Dihydrofolate reductase (DHFR)"
          ],
          [
           "PIK3CA",
           71,
           "Dihydrofolate reductase (DHFR)"
          ]
         ],
         "hoverlabel": {
          "namelength": 0
         },
         "hovertemplate": "Drug_Putative_Target=%{customdata[2]}<br>SE=%{x}<br>-logP=%{y}<br>F1=%{customdata[0]}<br>F2=%{customdata[1]}",
         "legendgroup": "Dihydrofolate reductase (DHFR)",
         "marker": {
          "color": "#19d3f3",
          "symbol": "circle"
         },
         "mode": "markers",
         "name": "Dihydrofolate reductase (DHFR)",
         "showlegend": true,
         "type": "scatter",
         "x": [
          0.2838913437485846,
          -0.2630463638583418,
          0.30649077822134657,
          0.49668017885963106,
          0.9666100174314766
         ],
         "xaxis": "x",
         "y": [
          0.7816635758681034,
          0.4699424460402954,
          1.090036808592457,
          0.8196199205877773,
          2.1328866976840217
         ],
         "yaxis": "y"
        },
        {
         "customdata": [
          [
           "TP53",
           1009,
           "Retinoic acid and retinoid X receptor agonist"
          ],
          [
           "BRAF",
           1009,
           "Retinoic acid and retinoid X receptor agonist"
          ],
          [
           "PIK3CA",
           1009,
           "Retinoic acid and retinoid X receptor agonist"
          ]
         ],
         "hoverlabel": {
          "namelength": 0
         },
         "hovertemplate": "Drug_Putative_Target=%{customdata[2]}<br>SE=%{x}<br>-logP=%{y}<br>F1=%{customdata[0]}<br>F2=%{customdata[1]}",
         "legendgroup": "Retinoic acid and retinoid X receptor agonist",
         "marker": {
          "color": "#FF6692",
          "symbol": "circle"
         },
         "mode": "markers",
         "name": "Retinoic acid and retinoid X receptor agonist",
         "showlegend": true,
         "type": "scatter",
         "x": [
          0.2932537463584444,
          0.2172881315521388,
          -0.10923780705740864
         ],
         "xaxis": "x",
         "y": [
          0.8145306725904617,
          0.3760597656877949,
          0.31060727205798805
         ],
         "yaxis": "y"
        },
        {
         "customdata": [
          [
           "TP53",
           1010,
           "EGFR"
          ],
          [
           "BRAF",
           1010,
           "EGFR"
          ],
          [
           "PIK3CA",
           1010,
           "EGFR"
          ],
          [
           "TP53",
           1114,
           "EGFR"
          ],
          [
           "PIK3CA",
           1114,
           "EGFR"
          ],
          [
           "TP53",
           282,
           "EGFR"
          ],
          [
           "PIK3CA",
           282,
           "EGFR"
          ]
         ],
         "hoverlabel": {
          "namelength": 0
         },
         "hovertemplate": "Drug_Putative_Target=%{customdata[2]}<br>SE=%{x}<br>-logP=%{y}<br>F1=%{customdata[0]}<br>F2=%{customdata[1]}",
         "legendgroup": "EGFR",
         "marker": {
          "color": "#B6E880",
          "symbol": "circle"
         },
         "mode": "markers",
         "name": "EGFR",
         "showlegend": true,
         "type": "scatter",
         "x": [
          0.2013495911037234,
          0.3854868648679641,
          0.05289068407648172,
          -0.03312962093982305,
          0.11299286749446745,
          -0.2048242710365078,
          -0.14417454029621854
         ],
         "xaxis": "x",
         "y": [
          0.5125989295437111,
          0.7483540230961332,
          0.1405526791098737,
          0.06808055031308498,
          0.3227163139825026,
          0.5550301852680145,
          0.4365837803343101
         ],
         "yaxis": "y"
        },
        {
         "customdata": [
          [
           "TP53",
           1011,
           "BCL2, BCL2L1, BCL2L2"
          ],
          [
           "BRAF",
           1011,
           "BCL2, BCL2L1, BCL2L2"
          ],
          [
           "PIK3CA",
           1011,
           "BCL2, BCL2L1, BCL2L2"
          ]
         ],
         "hoverlabel": {
          "namelength": 0
         },
         "hovertemplate": "Drug_Putative_Target=%{customdata[2]}<br>SE=%{x}<br>-logP=%{y}<br>F1=%{customdata[0]}<br>F2=%{customdata[1]}",
         "legendgroup": "BCL2, BCL2L1, BCL2L2",
         "marker": {
          "color": "#FF97FF",
          "symbol": "circle"
         },
         "mode": "markers",
         "name": "BCL2, BCL2L1, BCL2L2",
         "showlegend": true,
         "type": "scatter",
         "x": [
          0.020628357718394826,
          0.5756926367372082,
          0.6979234378716055
         ],
         "xaxis": "x",
         "y": [
          0.04159864334917062,
          1.259423654919272,
          3.5301510352871652
         ],
         "yaxis": "y"
        },
        {
         "customdata": [
          [
           "TP53",
           1012,
           "HDAC inhibitor Class I, IIa, IIb, IV"
          ],
          [
           "BRAF",
           1012,
           "HDAC inhibitor Class I, IIa, IIb, IV"
          ],
          [
           "PIK3CA",
           1012,
           "HDAC inhibitor Class I, IIa, IIb, IV"
          ]
         ],
         "hoverlabel": {
          "namelength": 0
         },
         "hovertemplate": "Drug_Putative_Target=%{customdata[2]}<br>SE=%{x}<br>-logP=%{y}<br>F1=%{customdata[0]}<br>F2=%{customdata[1]}",
         "legendgroup": "HDAC inhibitor Class I, IIa, IIb, IV",
         "marker": {
          "color": "#FECB52",
          "symbol": "circle"
         },
         "mode": "markers",
         "name": "HDAC inhibitor Class I, IIa, IIb, IV",
         "showlegend": true,
         "type": "scatter",
         "x": [
          0.3109974004804897,
          -0.03283972995676917,
          0.17007907590403465
         ],
         "xaxis": "x",
         "y": [
          0.8781726150411341,
          0.0498045977970342,
          0.5192527668856798
         ],
         "yaxis": "y"
        },
        {
         "customdata": [
          [
           "TP53",
           1013,
           "ABL"
          ],
          [
           "BRAF",
           1013,
           "ABL"
          ],
          [
           "PIK3CA",
           1013,
           "ABL"
          ],
          [
           "TP53",
           155,
           "ABL"
          ],
          [
           "PIK3CA",
           155,
           "ABL"
          ]
         ],
         "hoverlabel": {
          "namelength": 0
         },
         "hovertemplate": "Drug_Putative_Target=%{customdata[2]}<br>SE=%{x}<br>-logP=%{y}<br>F1=%{customdata[0]}<br>F2=%{customdata[1]}",
         "legendgroup": "ABL",
         "marker": {
          "color": "#636efa",
          "symbol": "circle"
         },
         "mode": "markers",
         "name": "ABL",
         "showlegend": true,
         "type": "scatter",
         "x": [
          0.33988173156329604,
          -0.24373141994259745,
          0.4833862916669237,
          0.40131446881145455,
          0.2770893732786763
         ],
         "xaxis": "x",
         "y": [
          0.9090884130388078,
          0.4248381752343169,
          1.8816503258182289,
          1.2409388533821315,
          0.970192837232804
         ],
         "yaxis": "y"
        },
        {
         "customdata": [
          [
           "TP53",
           1014,
           "MAP2K1 (MEK1), MAP2K2 (MEK2)"
          ],
          [
           "BRAF",
           1014,
           "MAP2K1 (MEK1), MAP2K2 (MEK2)"
          ],
          [
           "PIK3CA",
           1014,
           "MAP2K1 (MEK1), MAP2K2 (MEK2)"
          ],
          [
           "TP53",
           1015,
           "MAP2K1 (MEK1), MAP2K2 (MEK2)"
          ],
          [
           "BRAF",
           1015,
           "MAP2K1 (MEK1), MAP2K2 (MEK2)"
          ],
          [
           "PIK3CA",
           1015,
           "MAP2K1 (MEK1), MAP2K2 (MEK2)"
          ],
          [
           "TP53",
           1060,
           "MAP2K1 (MEK1), MAP2K2 (MEK2)"
          ],
          [
           "BRAF",
           1060,
           "MAP2K1 (MEK1), MAP2K2 (MEK2)"
          ],
          [
           "PIK3CA",
           1060,
           "MAP2K1 (MEK1), MAP2K2 (MEK2)"
          ],
          [
           "TP53",
           1062,
           "MAP2K1 (MEK1), MAP2K2 (MEK2)"
          ],
          [
           "BRAF",
           1062,
           "MAP2K1 (MEK1), MAP2K2 (MEK2)"
          ],
          [
           "PIK3CA",
           1062,
           "MAP2K1 (MEK1), MAP2K2 (MEK2)"
          ],
          [
           "TP53",
           1372,
           "MAP2K1 (MEK1), MAP2K2 (MEK2)"
          ],
          [
           "BRAF",
           1372,
           "MAP2K1 (MEK1), MAP2K2 (MEK2)"
          ],
          [
           "PIK3CA",
           1372,
           "MAP2K1 (MEK1), MAP2K2 (MEK2)"
          ],
          [
           "TP53",
           1498,
           "MAP2K1 (MEK1), MAP2K2 (MEK2)"
          ],
          [
           "BRAF",
           1498,
           "MAP2K1 (MEK1), MAP2K2 (MEK2)"
          ],
          [
           "PIK3CA",
           1498,
           "MAP2K1 (MEK1), MAP2K2 (MEK2)"
          ],
          [
           "TP53",
           1526,
           "MAP2K1 (MEK1), MAP2K2 (MEK2)"
          ],
          [
           "PIK3CA",
           1526,
           "MAP2K1 (MEK1), MAP2K2 (MEK2)"
          ]
         ],
         "hoverlabel": {
          "namelength": 0
         },
         "hovertemplate": "Drug_Putative_Target=%{customdata[2]}<br>SE=%{x}<br>-logP=%{y}<br>F1=%{customdata[0]}<br>F2=%{customdata[1]}",
         "legendgroup": "MAP2K1 (MEK1), MAP2K2 (MEK2)",
         "marker": {
          "color": "#EF553B",
          "symbol": "circle"
         },
         "mode": "markers",
         "name": "MAP2K1 (MEK1), MAP2K2 (MEK2)",
         "showlegend": true,
         "type": "scatter",
         "x": [
          -0.13757128435055285,
          -0.6948969941125357,
          0.4560853436431832,
          0.3915269153117749,
          -0.8858515305708566,
          0.3373621196792346,
          0.02919449018670003,
          -0.7294113590167515,
          0.5842705101126385,
          -0.24294576952016575,
          -0.06957230983508443,
          0.0429825786501618,
          -0.012158310133068577,
          -0.6665681454714281,
          0.31783015941868525,
          0.14119742694865225,
          -0.6513579280925361,
          0.3644084918696247,
          0.2579701952358781,
          0.4258619307762863
         ],
         "xaxis": "x",
         "y": [
          0.3104200723791245,
          1.6383815280830163,
          1.8235456314623903,
          1.1899181874450646,
          2.35607140084786,
          1.2405010504706908,
          0.05936894774871836,
          1.7568156463067428,
          2.650984406047576,
          0.6017383111911855,
          0.10774713713268146,
          0.10685910822886946,
          0.025706080336789297,
          1.5544057387464023,
          1.1543347816839198,
          0.3402685863433288,
          1.5045783775330324,
          1.3915369311199564,
          0.6554637177732044,
          1.719129308477169
         ],
         "yaxis": "y"
        },
        {
         "customdata": [
          [
           "TP53",
           1016,
           "MTOR"
          ],
          [
           "BRAF",
           1016,
           "MTOR"
          ],
          [
           "PIK3CA",
           1016,
           "MTOR"
          ],
          [
           "TP53",
           3,
           "MTOR"
          ],
          [
           "PIK3CA",
           3,
           "MTOR"
          ],
          [
           "PIK3CA",
           83,
           "MTOR"
          ]
         ],
         "hoverlabel": {
          "namelength": 0
         },
         "hovertemplate": "Drug_Putative_Target=%{customdata[2]}<br>SE=%{x}<br>-logP=%{y}<br>F1=%{customdata[0]}<br>F2=%{customdata[1]}",
         "legendgroup": "MTOR",
         "marker": {
          "color": "#00cc96",
          "symbol": "circle"
         },
         "mode": "markers",
         "name": "MTOR",
         "showlegend": true,
         "type": "scatter",
         "x": [
          -0.08757790226834017,
          0.2955691013527655,
          -0.07738756300953208,
          0.4854231381775856,
          -0.0603566788979512,
          0.5020362209517462
         ],
         "xaxis": "x",
         "y": [
          0.199312534347044,
          0.5399719153639282,
          0.21183408507064236,
          0.7956329377424388,
          0.07657821098053158,
          0.7788177188135955
         ],
         "yaxis": "y"
        },
        {
         "customdata": [
          [
           "TP53",
           1017,
           "PARP1, PARP2"
          ],
          [
           "BRAF",
           1017,
           "PARP1, PARP2"
          ],
          [
           "PIK3CA",
           1017,
           "PARP1, PARP2"
          ],
          [
           "TP53",
           1018,
           "PARP1, PARP2"
          ],
          [
           "BRAF",
           1018,
           "PARP1, PARP2"
          ],
          [
           "PIK3CA",
           1018,
           "PARP1, PARP2"
          ],
          [
           "TP53",
           1175,
           "PARP1, PARP2"
          ],
          [
           "BRAF",
           1175,
           "PARP1, PARP2"
          ],
          [
           "PIK3CA",
           1175,
           "PARP1, PARP2"
          ],
          [
           "TP53",
           1495,
           "PARP1, PARP2"
          ],
          [
           "BRAF",
           1495,
           "PARP1, PARP2"
          ],
          [
           "PIK3CA",
           1495,
           "PARP1, PARP2"
          ]
         ],
         "hoverlabel": {
          "namelength": 0
         },
         "hovertemplate": "Drug_Putative_Target=%{customdata[2]}<br>SE=%{x}<br>-logP=%{y}<br>F1=%{customdata[0]}<br>F2=%{customdata[1]}",
         "legendgroup": "PARP1, PARP2",
         "marker": {
          "color": "#ab63fa",
          "symbol": "circle"
         },
         "mode": "markers",
         "name": "PARP1, PARP2",
         "showlegend": true,
         "type": "scatter",
         "x": [
          0.4971445793554566,
          0.018596610972321133,
          -0.08478784873503731,
          0.3727864808626999,
          0.027262459267936856,
          0.16086792456775093,
          0.3459078778258412,
          -0.09291286526018884,
          -0.17192589580940304,
          -0.10685414044745913,
          0.3613419096219465,
          -0.1236289732459075
         ],
         "xaxis": "x",
         "y": [
          1.6589255940962508,
          0.027909758764933214,
          0.2341620926772423,
          1.113946231552215,
          0.041177142123152,
          0.4859317951375473,
          0.9429985536266614,
          0.1466407866212367,
          0.508468048125255,
          0.24884745213140155,
          0.6916316387683646,
          0.36026043170443217
         ],
         "yaxis": "y"
        },
        {
         "customdata": [
          [
           "TP53",
           1019,
           "SRC, ABL, TEC"
          ],
          [
           "BRAF",
           1019,
           "SRC, ABL, TEC"
          ],
          [
           "PIK3CA",
           1019,
           "SRC, ABL, TEC"
          ]
         ],
         "hoverlabel": {
          "namelength": 0
         },
         "hovertemplate": "Drug_Putative_Target=%{customdata[2]}<br>SE=%{x}<br>-logP=%{y}<br>F1=%{customdata[0]}<br>F2=%{customdata[1]}",
         "legendgroup": "SRC, ABL, TEC",
         "marker": {
          "color": "#FFA15A",
          "symbol": "circle"
         },
         "mode": "markers",
         "name": "SRC, ABL, TEC",
         "showlegend": true,
         "type": "scatter",
         "x": [
          0.1201919801851552,
          -0.2254551289213639,
          0.07927978473924559
         ],
         "xaxis": "x",
         "y": [
          0.2826102121919244,
          0.3924234911570115,
          0.2175078415997308
         ],
         "yaxis": "y"
        },
        {
         "customdata": [
          [
           "TP53",
           1020,
           "TNFA"
          ],
          [
           "BRAF",
           1020,
           "TNFA"
          ],
          [
           "PIK3CA",
           1020,
           "TNFA"
          ]
         ],
         "hoverlabel": {
          "namelength": 0
         },
         "hovertemplate": "Drug_Putative_Target=%{customdata[2]}<br>SE=%{x}<br>-logP=%{y}<br>F1=%{customdata[0]}<br>F2=%{customdata[1]}",
         "legendgroup": "TNFA",
         "marker": {
          "color": "#19d3f3",
          "symbol": "circle"
         },
         "mode": "markers",
         "name": "TNFA",
         "showlegend": true,
         "type": "scatter",
         "x": [
          0.05516908173624351,
          0.10449369266340933,
          0.21068563402267965
         ],
         "xaxis": "x",
         "y": [
          0.12150054108287542,
          0.16694683086093334,
          0.6737719209944956
         ],
         "yaxis": "y"
        },
        {
         "customdata": [
          [
           "TP53",
           1021,
           "PDGFR, KIT, VEGFR"
          ],
          [
           "BRAF",
           1021,
           "PDGFR, KIT, VEGFR"
          ],
          [
           "PIK3CA",
           1021,
           "PDGFR, KIT, VEGFR"
          ]
         ],
         "hoverlabel": {
          "namelength": 0
         },
         "hovertemplate": "Drug_Putative_Target=%{customdata[2]}<br>SE=%{x}<br>-logP=%{y}<br>F1=%{customdata[0]}<br>F2=%{customdata[1]}",
         "legendgroup": "PDGFR, KIT, VEGFR",
         "marker": {
          "color": "#FF6692",
          "symbol": "circle"
         },
         "mode": "markers",
         "name": "PDGFR, KIT, VEGFR",
         "showlegend": true,
         "type": "scatter",
         "x": [
          -0.16799099432903405,
          0.33964760658015786,
          0.2401341185299336
         ],
         "xaxis": "x",
         "y": [
          0.4140517050826173,
          0.6393716096483371,
          0.793815879577273
         ],
         "yaxis": "y"
        },
        {
         "customdata": [
          [
           "TP53",
           1022,
           "CHEK1, CHEK2"
          ],
          [
           "BRAF",
           1022,
           "CHEK1, CHEK2"
          ],
          [
           "PIK3CA",
           1022,
           "CHEK1, CHEK2"
          ]
         ],
         "hoverlabel": {
          "namelength": 0
         },
         "hovertemplate": "Drug_Putative_Target=%{customdata[2]}<br>SE=%{x}<br>-logP=%{y}<br>F1=%{customdata[0]}<br>F2=%{customdata[1]}",
         "legendgroup": "CHEK1, CHEK2",
         "marker": {
          "color": "#B6E880",
          "symbol": "circle"
         },
         "mode": "markers",
         "name": "CHEK1, CHEK2",
         "showlegend": true,
         "type": "scatter",
         "x": [
          -0.2655415592017245,
          0.5332208266756888,
          0.5310504243729424
         ],
         "xaxis": "x",
         "y": [
          0.7186579768347908,
          1.1403713772140631,
          2.3862422664884955
         ],
         "yaxis": "y"
        },
        {
         "customdata": [
          [
           "TP53",
           1023,
           "NTRK1"
          ],
          [
           "BRAF",
           1023,
           "NTRK1"
          ],
          [
           "PIK3CA",
           1023,
           "NTRK1"
          ]
         ],
         "hoverlabel": {
          "namelength": 0
         },
         "hovertemplate": "Drug_Putative_Target=%{customdata[2]}<br>SE=%{x}<br>-logP=%{y}<br>F1=%{customdata[0]}<br>F2=%{customdata[1]}",
         "legendgroup": "NTRK1",
         "marker": {
          "color": "#FF97FF",
          "symbol": "circle"
         },
         "mode": "markers",
         "name": "NTRK1",
         "showlegend": true,
         "type": "scatter",
         "x": [
          -0.0235811726478509,
          0.3485507996910047,
          0.26241808966223945
         ],
         "xaxis": "x",
         "y": [
          0.050278587632911785,
          0.6600864702485278,
          0.8892524367737218
         ],
         "yaxis": "y"
        },
        {
         "customdata": [
          [
           "TP53",
           1024,
           "FLT3, JAK2, NTRK1, RET"
          ],
          [
           "BRAF",
           1024,
           "FLT3, JAK2, NTRK1, RET"
          ],
          [
           "PIK3CA",
           1024,
           "FLT3, JAK2, NTRK1, RET"
          ]
         ],
         "hoverlabel": {
          "namelength": 0
         },
         "hovertemplate": "Drug_Putative_Target=%{customdata[2]}<br>SE=%{x}<br>-logP=%{y}<br>F1=%{customdata[0]}<br>F2=%{customdata[1]}",
         "legendgroup": "FLT3, JAK2, NTRK1, RET",
         "marker": {
          "color": "#FECB52",
          "symbol": "circle"
         },
         "mode": "markers",
         "name": "FLT3, JAK2, NTRK1, RET",
         "showlegend": true,
         "type": "scatter",
         "x": [
          -0.06912434674801994,
          0.030322892501715895,
          0.15504605998669346
         ],
         "xaxis": "x",
         "y": [
          0.1544095806844952,
          0.045902691184960064,
          0.4651952945992158
         ],
         "yaxis": "y"
        },
        {
         "customdata": [
          [
           "TP53",
           1025,
           "GSK3A, GSK3B"
          ],
          [
           "BRAF",
           1025,
           "GSK3A, GSK3B"
          ],
          [
           "PIK3CA",
           1025,
           "GSK3A, GSK3B"
          ]
         ],
         "hoverlabel": {
          "namelength": 0
         },
         "hovertemplate": "Drug_Putative_Target=%{customdata[2]}<br>SE=%{x}<br>-logP=%{y}<br>F1=%{customdata[0]}<br>F2=%{customdata[1]}",
         "legendgroup": "GSK3A, GSK3B",
         "marker": {
          "color": "#636efa",
          "symbol": "circle"
         },
         "mode": "markers",
         "name": "GSK3A, GSK3B",
         "showlegend": true,
         "type": "scatter",
         "x": [
          0.9323290221452072,
          -1.0420822853966736,
          0.09731930089366952
         ],
         "xaxis": "x",
         "y": [
          4.314417073107663,
          2.9976297208021263,
          0.2583984492186282
         ],
         "yaxis": "y"
        },
        {
         "customdata": [
          [
           "TP53",
           1026,
           "HSP90"
          ],
          [
           "BRAF",
           1026,
           "HSP90"
          ],
          [
           "PIK3CA",
           1026,
           "HSP90"
          ],
          [
           "TP53",
           1170,
           "HSP90"
          ],
          [
           "BRAF",
           1170,
           "HSP90"
          ],
          [
           "PIK3CA",
           1170,
           "HSP90"
          ],
          [
           "TP53",
           194,
           "HSP90"
          ],
          [
           "PIK3CA",
           194,
           "HSP90"
          ],
          [
           "TP53",
           328,
           "HSP90"
          ],
          [
           "PIK3CA",
           328,
           "HSP90"
          ]
         ],
         "hoverlabel": {
          "namelength": 0
         },
         "hovertemplate": "Drug_Putative_Target=%{customdata[2]}<br>SE=%{x}<br>-logP=%{y}<br>F1=%{customdata[0]}<br>F2=%{customdata[1]}",
         "legendgroup": "HSP90",
         "marker": {
          "color": "#EF553B",
          "symbol": "circle"
         },
         "mode": "markers",
         "name": "HSP90",
         "showlegend": true,
         "type": "scatter",
         "x": [
          0.010975533594567915,
          0.3396367005052868,
          -0.30433497610481564,
          0.2110880746387252,
          -0.7496155928901449,
          0.10062179627851138,
          0.4370034975377688,
          -0.04135368703423042,
          -0.09928862786839072,
          -0.14376625729682993
         ],
         "xaxis": "x",
         "y": [
          0.02192405461584039,
          0.6365821603313464,
          1.0401753152773332,
          0.5099747146870102,
          1.8280246933202984,
          0.27433739210462665,
          1.4007309352871824,
          0.11220983161166727,
          0.2422501909538261,
          0.44573803985355803
         ],
         "yaxis": "y"
        },
        {
         "customdata": [
          [
           "TP53",
           1028,
           "p38"
          ],
          [
           "BRAF",
           1028,
           "p38"
          ],
          [
           "PIK3CA",
           1028,
           "p38"
          ]
         ],
         "hoverlabel": {
          "namelength": 0
         },
         "hovertemplate": "Drug_Putative_Target=%{customdata[2]}<br>SE=%{x}<br>-logP=%{y}<br>F1=%{customdata[0]}<br>F2=%{customdata[1]}",
         "legendgroup": "p38",
         "marker": {
          "color": "#00cc96",
          "symbol": "circle"
         },
         "mode": "markers",
         "name": "p38",
         "showlegend": true,
         "type": "scatter",
         "x": [
          0.6079401137069731,
          -0.2441120958817401,
          0.2815768604368734
         ],
         "xaxis": "x",
         "y": [
          2.2304758159860336,
          0.4304428476634764,
          0.974544952907699
         ],
         "yaxis": "y"
        },
        {
         "customdata": [
          [
           "TP53",
           1029,
           "VEGFR, RET, c-KIT, PDGFR"
          ],
          [
           "BRAF",
           1029,
           "VEGFR, RET, c-KIT, PDGFR"
          ],
          [
           "PIK3CA",
           1029,
           "VEGFR, RET, c-KIT, PDGFR"
          ]
         ],
         "hoverlabel": {
          "namelength": 0
         },
         "hovertemplate": "Drug_Putative_Target=%{customdata[2]}<br>SE=%{x}<br>-logP=%{y}<br>F1=%{customdata[0]}<br>F2=%{customdata[1]}",
         "legendgroup": "VEGFR, RET, c-KIT, PDGFR",
         "marker": {
          "color": "#ab63fa",
          "symbol": "circle"
         },
         "mode": "markers",
         "name": "VEGFR, RET, c-KIT, PDGFR",
         "showlegend": true,
         "type": "scatter",
         "x": [
          0.16847362548565956,
          0.3670554655664179,
          0.4918814892099061
         ],
         "xaxis": "x",
         "y": [
          0.3913061222144649,
          0.700768713951488,
          2.038362424987998
         ],
         "yaxis": "y"
        },
        {
         "customdata": [
          [
           "TP53",
           1030,
           "ATM"
          ],
          [
           "BRAF",
           1030,
           "ATM"
          ],
          [
           "PIK3CA",
           1030,
           "ATM"
          ],
          [
           "TP53",
           152,
           "ATM"
          ],
          [
           "PIK3CA",
           152,
           "ATM"
          ]
         ],
         "hoverlabel": {
          "namelength": 0
         },
         "hovertemplate": "Drug_Putative_Target=%{customdata[2]}<br>SE=%{x}<br>-logP=%{y}<br>F1=%{customdata[0]}<br>F2=%{customdata[1]}",
         "legendgroup": "ATM",
         "marker": {
          "color": "#FFA15A",
          "symbol": "circle"
         },
         "mode": "markers",
         "name": "ATM",
         "showlegend": true,
         "type": "scatter",
         "x": [
          0.236123231714484,
          0.6121137259226166,
          0.41234659817648095,
          0.06847601414258131,
          -0.21492866822839268
         ],
         "xaxis": "x",
         "y": [
          0.5836479458297759,
          1.3703729255621038,
          1.5771776448996369,
          0.16170311697140988,
          0.7251596935832548
         ],
         "yaxis": "y"
        },
        {
         "customdata": [
          [
           "TP53",
           1031,
           "HSP70"
          ],
          [
           "BRAF",
           1031,
           "HSP70"
          ],
          [
           "PIK3CA",
           1031,
           "HSP70"
          ]
         ],
         "hoverlabel": {
          "namelength": 0
         },
         "hovertemplate": "Drug_Putative_Target=%{customdata[2]}<br>SE=%{x}<br>-logP=%{y}<br>F1=%{customdata[0]}<br>F2=%{customdata[1]}",
         "legendgroup": "HSP70",
         "marker": {
          "color": "#19d3f3",
          "symbol": "circle"
         },
         "mode": "markers",
         "name": "HSP70",
         "showlegend": true,
         "type": "scatter",
         "x": [
          -0.1656925516975306,
          -0.14830727532863394,
          -0.08561665673796587
         ],
         "xaxis": "x",
         "y": [
          0.4074706970427057,
          0.2444938228330341,
          0.23668598899839896
         ],
         "yaxis": "y"
        },
        {
         "customdata": [
          [
           "TP53",
           1032,
           "ERBB2, EGFR"
          ],
          [
           "BRAF",
           1032,
           "ERBB2, EGFR"
          ],
          [
           "PIK3CA",
           1032,
           "ERBB2, EGFR"
          ],
          [
           "PIK3CA",
           119,
           "ERBB2, EGFR"
          ],
          [
           "TP53",
           1377,
           "ERBB2, EGFR"
          ],
          [
           "BRAF",
           1377,
           "ERBB2, EGFR"
          ],
          [
           "PIK3CA",
           1377,
           "ERBB2, EGFR"
          ]
         ],
         "hoverlabel": {
          "namelength": 0
         },
         "hovertemplate": "Drug_Putative_Target=%{customdata[2]}<br>SE=%{x}<br>-logP=%{y}<br>F1=%{customdata[0]}<br>F2=%{customdata[1]}",
         "legendgroup": "ERBB2, EGFR",
         "marker": {
          "color": "#FF6692",
          "symbol": "circle"
         },
         "mode": "markers",
         "name": "ERBB2, EGFR",
         "showlegend": true,
         "type": "scatter",
         "x": [
          -0.13898763217609905,
          -0.5268965064048091,
          -0.021696931899550798,
          -0.55785807692026,
          -0.11775387541157635,
          -0.7292039454438056,
          -0.38099723266358504
         ],
         "xaxis": "x",
         "y": [
          0.33294821037876465,
          1.1222676420506832,
          0.05549701335228474,
          0.9269896140102606,
          0.2782243265331751,
          1.7712273408077386,
          1.4934150388305576
         ],
         "yaxis": "y"
        },
        {
         "customdata": [
          [
           "TP53",
           1033,
           "SMO"
          ],
          [
           "BRAF",
           1033,
           "SMO"
          ],
          [
           "PIK3CA",
           1033,
           "SMO"
          ],
          [
           "PIK3CA",
           17,
           "SMO"
          ]
         ],
         "hoverlabel": {
          "namelength": 0
         },
         "hovertemplate": "Drug_Putative_Target=%{customdata[2]}<br>SE=%{x}<br>-logP=%{y}<br>F1=%{customdata[0]}<br>F2=%{customdata[1]}",
         "legendgroup": "SMO",
         "marker": {
          "color": "#B6E880",
          "symbol": "circle"
         },
         "mode": "markers",
         "name": "SMO",
         "showlegend": true,
         "type": "scatter",
         "x": [
          0.10547295843841707,
          0.07800678225545049,
          -0.0487077559689116,
          0.943773906274196
         ],
         "xaxis": "x",
         "y": [
          0.2443875804711597,
          0.1222672290081092,
          0.12877960548609144,
          1.98916861250144
         ],
         "yaxis": "y"
        },
        {
         "customdata": [
          [
           "TP53",
           1036,
           "BRAF"
          ],
          [
           "BRAF",
           1036,
           "BRAF"
          ],
          [
           "PIK3CA",
           1036,
           "BRAF"
          ],
          [
           "TP53",
           1061,
           "BRAF"
          ],
          [
           "BRAF",
           1061,
           "BRAF"
          ],
          [
           "PIK3CA",
           1061,
           "BRAF"
          ],
          [
           "TP53",
           1371,
           "BRAF"
          ],
          [
           "BRAF",
           1371,
           "BRAF"
          ],
          [
           "PIK3CA",
           1371,
           "BRAF"
          ],
          [
           "TP53",
           1373,
           "BRAF"
          ],
          [
           "BRAF",
           1373,
           "BRAF"
          ],
          [
           "PIK3CA",
           1373,
           "BRAF"
          ],
          [
           "TP53",
           29,
           "BRAF"
          ],
          [
           "PIK3CA",
           29,
           "BRAF"
          ]
         ],
         "hoverlabel": {
          "namelength": 0
         },
         "hovertemplate": "Drug_Putative_Target=%{customdata[2]}<br>SE=%{x}<br>-logP=%{y}<br>F1=%{customdata[0]}<br>F2=%{customdata[1]}",
         "legendgroup": "BRAF",
         "marker": {
          "color": "#FF97FF",
          "symbol": "circle"
         },
         "mode": "markers",
         "name": "BRAF",
         "showlegend": true,
         "type": "scatter",
         "x": [
          0.7336673456325035,
          -0.8043440126552232,
          -0.02159150967642997,
          0.5360776741161664,
          -0.9062336924633724,
          0.0911385870805718,
          0.3878516313579289,
          -0.904594347442828,
          0.2157747834726668,
          0.8328633809129042,
          -1.2149809374606295,
          0.03152259626051896,
          0.8766370342623628,
          0.6928508547306641
         ],
         "xaxis": "x",
         "y": [
          2.7570725715893487,
          2.0280418272078133,
          0.05363129612419455,
          1.7100277699714823,
          2.423576323691069,
          0.2394748903985723,
          1.1848283735801437,
          2.4424697798281945,
          0.7051158918313086,
          3.691963480360876,
          3.9187465642667454,
          0.08217127325334278,
          1.8263927424920439,
          1.2877827838406009
         ],
         "yaxis": "y"
        },
        {
         "customdata": [
          [
           "TP53",
           1037,
           "TBK1, PDPK1, IKK, AURKB, AURKC"
          ],
          [
           "BRAF",
           1037,
           "TBK1, PDPK1, IKK, AURKB, AURKC"
          ],
          [
           "PIK3CA",
           1037,
           "TBK1, PDPK1, IKK, AURKB, AURKC"
          ]
         ],
         "hoverlabel": {
          "namelength": 0
         },
         "hovertemplate": "Drug_Putative_Target=%{customdata[2]}<br>SE=%{x}<br>-logP=%{y}<br>F1=%{customdata[0]}<br>F2=%{customdata[1]}",
         "legendgroup": "TBK1, PDPK1, IKK, AURKB, AURKC",
         "marker": {
          "color": "#FECB52",
          "symbol": "circle"
         },
         "mode": "markers",
         "name": "TBK1, PDPK1, IKK, AURKB, AURKC",
         "showlegend": true,
         "type": "scatter",
         "x": [
          -0.07786398004192042,
          0.2917495232032541,
          0.32672565302748896
         ],
         "xaxis": "x",
         "y": [
          0.1659936915437549,
          0.5293410652368594,
          1.1434897179706387
         ],
         "yaxis": "y"
        },
        {
         "customdata": [
          [
           "TP53",
           1038,
           "PRKDC (DNAPK)"
          ],
          [
           "BRAF",
           1038,
           "PRKDC (DNAPK)"
          ],
          [
           "PIK3CA",
           1038,
           "PRKDC (DNAPK)"
          ]
         ],
         "hoverlabel": {
          "namelength": 0
         },
         "hovertemplate": "Drug_Putative_Target=%{customdata[2]}<br>SE=%{x}<br>-logP=%{y}<br>F1=%{customdata[0]}<br>F2=%{customdata[1]}",
         "legendgroup": "PRKDC (DNAPK)",
         "marker": {
          "color": "#636efa",
          "symbol": "circle"
         },
         "mode": "markers",
         "name": "PRKDC (DNAPK)",
         "showlegend": true,
         "type": "scatter",
         "x": [
          0.27708611049383963,
          0.5016905048778041,
          0.3027558805182448
         ],
         "xaxis": "x",
         "y": [
          0.7106981138148192,
          1.0466073139083327,
          1.033041645532356
         ],
         "yaxis": "y"
        },
        {
         "customdata": [
          [
           "TP53",
           1039,
           "RSK, AURKB, PIM3"
          ],
          [
           "BRAF",
           1039,
           "RSK, AURKB, PIM3"
          ],
          [
           "PIK3CA",
           1039,
           "RSK, AURKB, PIM3"
          ]
         ],
         "hoverlabel": {
          "namelength": 0
         },
         "hovertemplate": "Drug_Putative_Target=%{customdata[2]}<br>SE=%{x}<br>-logP=%{y}<br>F1=%{customdata[0]}<br>F2=%{customdata[1]}",
         "legendgroup": "RSK, AURKB, PIM3",
         "marker": {
          "color": "#EF553B",
          "symbol": "circle"
         },
         "mode": "markers",
         "name": "RSK, AURKB, PIM3",
         "showlegend": true,
         "type": "scatter",
         "x": [
          0.2883284880695083,
          0.3097184198972085,
          -0.21976841715553586
         ],
         "xaxis": "x",
         "y": [
          0.7470088916891474,
          0.5688650919116308,
          0.6854754464050734
         ],
         "yaxis": "y"
        },
        {
         "customdata": [
          [
           "TP53",
           104,
           "Proteasome"
          ],
          [
           "PIK3CA",
           104,
           "Proteasome"
          ],
          [
           "TP53",
           9,
           "Proteasome"
          ],
          [
           "PIK3CA",
           9,
           "Proteasome"
          ]
         ],
         "hoverlabel": {
          "namelength": 0
         },
         "hovertemplate": "Drug_Putative_Target=%{customdata[2]}<br>SE=%{x}<br>-logP=%{y}<br>F1=%{customdata[0]}<br>F2=%{customdata[1]}",
         "legendgroup": "Proteasome",
         "marker": {
          "color": "#00cc96",
          "symbol": "circle"
         },
         "mode": "markers",
         "name": "Proteasome",
         "showlegend": true,
         "type": "scatter",
         "x": [
          -0.1159269305943876,
          -0.13907457275181165,
          0.4550688669090628,
          -0.011289631906718368
         ],
         "xaxis": "x",
         "y": [
          0.15212901205062093,
          0.18508018824599087,
          0.7323845918195663,
          0.013901812511683265
         ],
         "yaxis": "y"
        },
        {
         "customdata": [
          [
           "TP53",
           1042,
           "p38, JNK2"
          ],
          [
           "BRAF",
           1042,
           "p38, JNK2"
          ],
          [
           "PIK3CA",
           1042,
           "p38, JNK2"
          ]
         ],
         "hoverlabel": {
          "namelength": 0
         },
         "hovertemplate": "Drug_Putative_Target=%{customdata[2]}<br>SE=%{x}<br>-logP=%{y}<br>F1=%{customdata[0]}<br>F2=%{customdata[1]}",
         "legendgroup": "p38, JNK2",
         "marker": {
          "color": "#ab63fa",
          "symbol": "circle"
         },
         "mode": "markers",
         "name": "p38, JNK2",
         "showlegend": true,
         "type": "scatter",
         "x": [
          -0.19973748077833944,
          0.09415431559159858,
          0.28735909562232115
         ],
         "xaxis": "x",
         "y": [
          0.47754559267998203,
          0.1487329400533628,
          0.9645258290782092
         ],
         "yaxis": "y"
        },
        {
         "customdata": [
          [
           "TP53",
           1043,
           "JNK"
          ],
          [
           "BRAF",
           1043,
           "JNK"
          ],
          [
           "PIK3CA",
           1043,
           "JNK"
          ],
          [
           "TP53",
           157,
           "JNK"
          ],
          [
           "PIK3CA",
           157,
           "JNK"
          ]
         ],
         "hoverlabel": {
          "namelength": 0
         },
         "hovertemplate": "Drug_Putative_Target=%{customdata[2]}<br>SE=%{x}<br>-logP=%{y}<br>F1=%{customdata[0]}<br>F2=%{customdata[1]}",
         "legendgroup": "JNK",
         "marker": {
          "color": "#FFA15A",
          "symbol": "circle"
         },
         "mode": "markers",
         "name": "JNK",
         "showlegend": true,
         "type": "scatter",
         "x": [
          0.3822540836774589,
          0.2416518028681908,
          0.2428146509348435,
          0.2921817150446868,
          0.04805433417664876
         ],
         "xaxis": "x",
         "y": [
          1.0755873569082062,
          0.4236031789510992,
          0.7767219069065456,
          0.8173562588994373,
          0.1286893314857678
         ],
         "yaxis": "y"
        },
        {
         "customdata": [
          [
           "TP53",
           1046,
           "WEE1, CHEK1"
          ],
          [
           "BRAF",
           1046,
           "WEE1, CHEK1"
          ],
          [
           "PIK3CA",
           1046,
           "WEE1, CHEK1"
          ]
         ],
         "hoverlabel": {
          "namelength": 0
         },
         "hovertemplate": "Drug_Putative_Target=%{customdata[2]}<br>SE=%{x}<br>-logP=%{y}<br>F1=%{customdata[0]}<br>F2=%{customdata[1]}",
         "legendgroup": "WEE1, CHEK1",
         "marker": {
          "color": "#19d3f3",
          "symbol": "circle"
         },
         "mode": "markers",
         "name": "WEE1, CHEK1",
         "showlegend": true,
         "type": "scatter",
         "x": [
          0.0433944894895263,
          0.23434508326568776,
          0.0797241802394248
         ],
         "xaxis": "x",
         "y": [
          0.08683793402883516,
          0.4012639665245947,
          0.19295133840202786
         ],
         "yaxis": "y"
        },
        {
         "customdata": [
          [
           "TP53",
           1047,
           "MDM2"
          ],
          [
           "BRAF",
           1047,
           "MDM2"
          ],
          [
           "PIK3CA",
           1047,
           "MDM2"
          ],
          [
           "TP53",
           1133,
           "MDM2"
          ],
          [
           "BRAF",
           1133,
           "MDM2"
          ],
          [
           "PIK3CA",
           1133,
           "MDM2"
          ]
         ],
         "hoverlabel": {
          "namelength": 0
         },
         "hovertemplate": "Drug_Putative_Target=%{customdata[2]}<br>SE=%{x}<br>-logP=%{y}<br>F1=%{customdata[0]}<br>F2=%{customdata[1]}",
         "legendgroup": "MDM2",
         "marker": {
          "color": "#FF6692",
          "symbol": "circle"
         },
         "mode": "markers",
         "name": "MDM2",
         "showlegend": true,
         "type": "scatter",
         "x": [
          0.95333122914582,
          -0.2633999866650979,
          -0.364071149657636,
          -0.5025251221289989,
          0.20250276188860503,
          0.14510725249201106
         ],
         "xaxis": "x",
         "y": [
          4.246050361746564,
          0.468707445705623,
          1.324978367608629,
          1.5661265099551798,
          0.3454412724477228,
          0.4163431872246653
         ],
         "yaxis": "y"
        },
        {
         "customdata": [
          [
           "TP53",
           1049,
           "FGFR1, FGFR3"
          ],
          [
           "BRAF",
           1049,
           "FGFR1, FGFR3"
          ],
          [
           "PIK3CA",
           1049,
           "FGFR1, FGFR3"
          ]
         ],
         "hoverlabel": {
          "namelength": 0
         },
         "hovertemplate": "Drug_Putative_Target=%{customdata[2]}<br>SE=%{x}<br>-logP=%{y}<br>F1=%{customdata[0]}<br>F2=%{customdata[1]}",
         "legendgroup": "FGFR1, FGFR3",
         "marker": {
          "color": "#B6E880",
          "symbol": "circle"
         },
         "mode": "markers",
         "name": "FGFR1, FGFR3",
         "showlegend": true,
         "type": "scatter",
         "x": [
          -0.0022409013905336887,
          0.3831893228125297,
          -0.0572042239659886
         ],
         "xaxis": "x",
         "y": [
          0.004437911101997071,
          0.7395021817446492,
          0.1482402267578977
         ],
         "yaxis": "y"
        },
        {
         "customdata": [
          [
           "TP53",
           1050,
           "AURKB"
          ],
          [
           "BRAF",
           1050,
           "AURKB"
          ],
          [
           "PIK3CA",
           1050,
           "AURKB"
          ],
          [
           "TP53",
           226,
           "AURKB"
          ],
          [
           "PIK3CA",
           226,
           "AURKB"
          ]
         ],
         "hoverlabel": {
          "namelength": 0
         },
         "hovertemplate": "Drug_Putative_Target=%{customdata[2]}<br>SE=%{x}<br>-logP=%{y}<br>F1=%{customdata[0]}<br>F2=%{customdata[1]}",
         "legendgroup": "AURKB",
         "marker": {
          "color": "#FF97FF",
          "symbol": "circle"
         },
         "mode": "markers",
         "name": "AURKB",
         "showlegend": true,
         "type": "scatter",
         "x": [
          -0.204665115202622,
          0.5399820225703053,
          0.25501262560678817,
          -0.5159699788962246,
          0.11284539106017545
         ],
         "xaxis": "x",
         "y": [
          0.4829580120978965,
          1.1426182958464015,
          0.7635151275664352,
          1.8863266636927556,
          0.3369420936732012
         ],
         "yaxis": "y"
        },
        {
         "customdata": [
          [
           "TP53",
           1052,
           "CDK1"
          ],
          [
           "BRAF",
           1052,
           "CDK1"
          ],
          [
           "PIK3CA",
           1052,
           "CDK1"
          ]
         ],
         "hoverlabel": {
          "namelength": 0
         },
         "hovertemplate": "Drug_Putative_Target=%{customdata[2]}<br>SE=%{x}<br>-logP=%{y}<br>F1=%{customdata[0]}<br>F2=%{customdata[1]}",
         "legendgroup": "CDK1",
         "marker": {
          "color": "#FECB52",
          "symbol": "circle"
         },
         "mode": "markers",
         "name": "CDK1",
         "showlegend": true,
         "type": "scatter",
         "x": [
          0.09599136396314983,
          0.5041355355217452,
          0.28923867094106004
         ],
         "xaxis": "x",
         "y": [
          0.20822436596225274,
          1.0533743164932512,
          0.9727893318206764
         ],
         "yaxis": "y"
        },
        {
         "customdata": [
          [
           "TP53",
           1053,
           "AKT1, AKT2"
          ],
          [
           "BRAF",
           1053,
           "AKT1, AKT2"
          ],
          [
           "PIK3CA",
           1053,
           "AKT1, AKT2"
          ]
         ],
         "hoverlabel": {
          "namelength": 0
         },
         "hovertemplate": "Drug_Putative_Target=%{customdata[2]}<br>SE=%{x}<br>-logP=%{y}<br>F1=%{customdata[0]}<br>F2=%{customdata[1]}",
         "legendgroup": "AKT1, AKT2",
         "marker": {
          "color": "#636efa",
          "symbol": "circle"
         },
         "mode": "markers",
         "name": "AKT1, AKT2",
         "showlegend": true,
         "type": "scatter",
         "x": [
          -0.7199085618022034,
          0.5868078001817177,
          -0.4838350016311144
         ],
         "xaxis": "x",
         "y": [
          2.663786004924821,
          1.2897054501764176,
          1.9221607288532592
         ],
         "yaxis": "y"
        },
        {
         "customdata": [
          [
           "TP53",
           1054,
           "CDK4, CDK6"
          ],
          [
           "BRAF",
           1054,
           "CDK4, CDK6"
          ],
          [
           "PIK3CA",
           1054,
           "CDK4, CDK6"
          ]
         ],
         "hoverlabel": {
          "namelength": 0
         },
         "hovertemplate": "Drug_Putative_Target=%{customdata[2]}<br>SE=%{x}<br>-logP=%{y}<br>F1=%{customdata[0]}<br>F2=%{customdata[1]}",
         "legendgroup": "CDK4, CDK6",
         "marker": {
          "color": "#EF553B",
          "symbol": "circle"
         },
         "mode": "markers",
         "name": "CDK4, CDK6",
         "showlegend": true,
         "type": "scatter",
         "x": [
          0.0565473834313777,
          0.4940181614783978,
          -0.327599775589658
         ],
         "xaxis": "x",
         "y": [
          0.11766552607352875,
          1.0230208202057471,
          1.112261659426919
         ],
         "yaxis": "y"
        },
        {
         "customdata": [
          [
           "TP53",
           1057,
           "PI3K (Class 1) and MTORC1/2"
          ],
          [
           "BRAF",
           1057,
           "PI3K (Class 1) and MTORC1/2"
          ],
          [
           "PIK3CA",
           1057,
           "PI3K (Class 1) and MTORC1/2"
          ]
         ],
         "hoverlabel": {
          "namelength": 0
         },
         "hovertemplate": "Drug_Putative_Target=%{customdata[2]}<br>SE=%{x}<br>-logP=%{y}<br>F1=%{customdata[0]}<br>F2=%{customdata[1]}",
         "legendgroup": "PI3K (Class 1) and MTORC1/2",
         "marker": {
          "color": "#00cc96",
          "symbol": "circle"
         },
         "mode": "markers",
         "name": "PI3K (Class 1) and MTORC1/2",
         "showlegend": true,
         "type": "scatter",
         "x": [
          -0.12112447624983542,
          0.6994577849651239,
          0.08371968906958396
         ],
         "xaxis": "x",
         "y": [
          0.2690985513840494,
          1.6538017467142114,
          0.22381243277324828
         ],
         "yaxis": "y"
        },
        {
         "customdata": [
          [
           "TP53",
           1058,
           "PI3K (class 1)"
          ],
          [
           "BRAF",
           1058,
           "PI3K (class 1)"
          ],
          [
           "PIK3CA",
           1058,
           "PI3K (class 1)"
          ]
         ],
         "hoverlabel": {
          "namelength": 0
         },
         "hovertemplate": "Drug_Putative_Target=%{customdata[2]}<br>SE=%{x}<br>-logP=%{y}<br>F1=%{customdata[0]}<br>F2=%{customdata[1]}",
         "legendgroup": "PI3K (class 1)",
         "marker": {
          "color": "#ab63fa",
          "symbol": "circle"
         },
         "mode": "markers",
         "name": "PI3K (class 1)",
         "showlegend": true,
         "type": "scatter",
         "x": [
          -0.6611797410990978,
          0.1822887867009466,
          -0.4412901788967598
         ],
         "xaxis": "x",
         "y": [
          2.3456671279222654,
          0.30658362393587874,
          1.7382585978286371
         ],
         "yaxis": "y"
        },
        {
         "customdata": [
          [
           "TP53",
           1059,
           "MTORC1/2"
          ],
          [
           "BRAF",
           1059,
           "MTORC1/2"
          ],
          [
           "PIK3CA",
           1059,
           "MTORC1/2"
          ],
          [
           "TP53",
           299,
           "MTORC1/2"
          ],
          [
           "PIK3CA",
           299,
           "MTORC1/2"
          ]
         ],
         "hoverlabel": {
          "namelength": 0
         },
         "hovertemplate": "Drug_Putative_Target=%{customdata[2]}<br>SE=%{x}<br>-logP=%{y}<br>F1=%{customdata[0]}<br>F2=%{customdata[1]}",
         "legendgroup": "MTORC1/2",
         "marker": {
          "color": "#FFA15A",
          "symbol": "circle"
         },
         "mode": "markers",
         "name": "MTORC1/2",
         "showlegend": true,
         "type": "scatter",
         "x": [
          0.37304890526153495,
          0.7126175226726176,
          -0.1896812393100995,
          0.15563791343646682,
          -0.2793191940973186
         ],
         "xaxis": "x",
         "y": [
          1.04134355686958,
          1.6986864295269593,
          0.5722373698117219,
          0.4011821038698731,
          0.9879479184807672
         ],
         "yaxis": "y"
        },
        {
         "customdata": [
          [
           "PIK3CA",
           106,
           "MAP2K5 (ERK5)"
          ],
          [
           "PIK3CA",
           1164,
           "MAP2K5 (ERK5)"
          ]
         ],
         "hoverlabel": {
          "namelength": 0
         },
         "hovertemplate": "Drug_Putative_Target=%{customdata[2]}<br>SE=%{x}<br>-logP=%{y}<br>F1=%{customdata[0]}<br>F2=%{customdata[1]}",
         "legendgroup": "MAP2K5 (ERK5)",
         "marker": {
          "color": "#19d3f3",
          "symbol": "circle"
         },
         "mode": "markers",
         "name": "MAP2K5 (ERK5)",
         "showlegend": true,
         "type": "scatter",
         "x": [
          0.5488984772396416,
          0.14757836359615514
         ],
         "xaxis": "x",
         "y": [
          0.9072321531145946,
          0.31823323508828283
         ],
         "yaxis": "y"
        },
        {
         "customdata": [
          [
           "TP53",
           1066,
           "PI3Kbeta"
          ],
          [
           "PIK3CA",
           1066,
           "PI3Kbeta"
          ],
          [
           "TP53",
           156,
           "PI3Kbeta"
          ],
          [
           "PIK3CA",
           156,
           "PI3Kbeta"
          ],
          [
           "TP53",
           94,
           "PI3Kbeta"
          ],
          [
           "PIK3CA",
           94,
           "PI3Kbeta"
          ]
         ],
         "hoverlabel": {
          "namelength": 0
         },
         "hovertemplate": "Drug_Putative_Target=%{customdata[2]}<br>SE=%{x}<br>-logP=%{y}<br>F1=%{customdata[0]}<br>F2=%{customdata[1]}",
         "legendgroup": "PI3Kbeta",
         "marker": {
          "color": "#FF6692",
          "symbol": "circle"
         },
         "mode": "markers",
         "name": "PI3Kbeta",
         "showlegend": true,
         "type": "scatter",
         "x": [
          0.059745953788860384,
          -0.5669853862245811,
          -0.7374877370653277,
          -0.15970237208456303,
          -0.19693412818181816,
          0.6091878482492022
         ],
         "xaxis": "x",
         "y": [
          0.12516254799265522,
          2.5297395549154755,
          3.0394965623302306,
          0.4891199930870194,
          0.2713969602739342,
          1.0759994282997711
         ],
         "yaxis": "y"
        },
        {
         "customdata": [
          [
           "TP53",
           1067,
           "PPM1D"
          ],
          [
           "BRAF",
           1067,
           "PPM1D"
          ],
          [
           "PIK3CA",
           1067,
           "PPM1D"
          ]
         ],
         "hoverlabel": {
          "namelength": 0
         },
         "hovertemplate": "Drug_Putative_Target=%{customdata[2]}<br>SE=%{x}<br>-logP=%{y}<br>F1=%{customdata[0]}<br>F2=%{customdata[1]}",
         "legendgroup": "PPM1D",
         "marker": {
          "color": "#B6E880",
          "symbol": "circle"
         },
         "mode": "markers",
         "name": "PPM1D",
         "showlegend": true,
         "type": "scatter",
         "x": [
          0.2884245966061276,
          0.4142063417131758,
          -0.4806350774176279
         ],
         "xaxis": "x",
         "y": [
          0.8008344575006368,
          0.8213079891334257,
          2.0718586456199364
         ],
         "yaxis": "y"
        },
        {
         "customdata": [
          [
           "TP53",
           1069,
           "Rac GTPases"
          ],
          [
           "BRAF",
           1069,
           "Rac GTPases"
          ],
          [
           "PIK3CA",
           1069,
           "Rac GTPases"
          ]
         ],
         "hoverlabel": {
          "namelength": 0
         },
         "hovertemplate": "Drug_Putative_Target=%{customdata[2]}<br>SE=%{x}<br>-logP=%{y}<br>F1=%{customdata[0]}<br>F2=%{customdata[1]}",
         "legendgroup": "Rac GTPases",
         "marker": {
          "color": "#FF97FF",
          "symbol": "circle"
         },
         "mode": "markers",
         "name": "Rac GTPases",
         "showlegend": true,
         "type": "scatter",
         "x": [
          0.6952427064408601,
          0.18620833203966985,
          -0.6509027850859396
         ],
         "xaxis": "x",
         "y": [
          2.7558302314758905,
          0.3159225103002202,
          3.3236894196591145
         ],
         "yaxis": "y"
        },
        {
         "customdata": [
          [
           "TP53",
           1072,
           "g-secretase"
          ],
          [
           "BRAF",
           1072,
           "g-secretase"
          ],
          [
           "PIK3CA",
           1072,
           "g-secretase"
          ],
          [
           "TP53",
           205,
           "g-secretase"
          ],
          [
           "PIK3CA",
           205,
           "g-secretase"
          ],
          [
           "PIK3CA",
           45,
           "g-secretase"
          ]
         ],
         "hoverlabel": {
          "namelength": 0
         },
         "hovertemplate": "Drug_Putative_Target=%{customdata[2]}<br>SE=%{x}<br>-logP=%{y}<br>F1=%{customdata[0]}<br>F2=%{customdata[1]}",
         "legendgroup": "g-secretase",
         "marker": {
          "color": "#FECB52",
          "symbol": "circle"
         },
         "mode": "markers",
         "name": "g-secretase",
         "showlegend": true,
         "type": "scatter",
         "x": [
          -0.27962476169245537,
          0.871443717890368,
          0.11684379812781745,
          0.2699920682169452,
          -0.04413186768592766,
          1.1280858528660012
         ],
         "xaxis": "x",
         "y": [
          0.7700238995679506,
          2.302567708403956,
          0.33775840806797985,
          0.7805390896453961,
          0.11835166724318735,
          2.5881863179262625
         ],
         "yaxis": "y"
        },
        {
         "customdata": [
          [
           "TP53",
           1091,
           "IGF1R"
          ],
          [
           "BRAF",
           1091,
           "IGF1R"
          ],
          [
           "PIK3CA",
           1091,
           "IGF1R"
          ],
          [
           "TP53",
           184,
           "IGF1R"
          ],
          [
           "PIK3CA",
           184,
           "IGF1R"
          ],
          [
           "TP53",
           185,
           "IGF1R"
          ],
          [
           "PIK3CA",
           185,
           "IGF1R"
          ],
          [
           "TP53",
           202,
           "IGF1R"
          ],
          [
           "PIK3CA",
           202,
           "IGF1R"
          ],
          [
           "PIK3CA",
           62,
           "IGF1R"
          ]
         ],
         "hoverlabel": {
          "namelength": 0
         },
         "hovertemplate": "Drug_Putative_Target=%{customdata[2]}<br>SE=%{x}<br>-logP=%{y}<br>F1=%{customdata[0]}<br>F2=%{customdata[1]}",
         "legendgroup": "IGF1R",
         "marker": {
          "color": "#636efa",
          "symbol": "circle"
         },
         "mode": "markers",
         "name": "IGF1R",
         "showlegend": true,
         "type": "scatter",
         "x": [
          0.18051197060757465,
          0.2259527012216142,
          -0.037780140425609086,
          0.3483066006457061,
          -0.04105976927919272,
          0.2484676355545193,
          0.14478564949987993,
          -0.01694117300545062,
          0.08030871383306303,
          0.4420578356009118
         ],
         "xaxis": "x",
         "y": [
          0.4538169355493537,
          0.3949187183704635,
          0.0998977202997428,
          1.0303720260985587,
          0.11137097615737064,
          0.6694404288303182,
          0.4462446667411164,
          0.03622580267335816,
          0.2287916798839557,
          0.6621785907137658
         ],
         "yaxis": "y"
        },
        {
         "customdata": [
          [
           "PIK3CA",
           110,
           "CDKs"
          ]
         ],
         "hoverlabel": {
          "namelength": 0
         },
         "hovertemplate": "Drug_Putative_Target=%{customdata[2]}<br>SE=%{x}<br>-logP=%{y}<br>F1=%{customdata[0]}<br>F2=%{customdata[1]}",
         "legendgroup": "CDKs",
         "marker": {
          "color": "#EF553B",
          "symbol": "circle"
         },
         "mode": "markers",
         "name": "CDKs",
         "showlegend": true,
         "type": "scatter",
         "x": [
          0.6116235933184893
         ],
         "xaxis": "x",
         "y": [
          1.0496180331102538
         ],
         "yaxis": "y"
        },
        {
         "customdata": [
          [
           "PIK3CA",
           111,
           "GADD34-PP1C "
          ]
         ],
         "hoverlabel": {
          "namelength": 0
         },
         "hovertemplate": "Drug_Putative_Target=%{customdata[2]}<br>SE=%{x}<br>-logP=%{y}<br>F1=%{customdata[0]}<br>F2=%{customdata[1]}",
         "legendgroup": "GADD34-PP1C ",
         "marker": {
          "color": "#00cc96",
          "symbol": "circle"
         },
         "mode": "markers",
         "name": "GADD34-PP1C ",
         "showlegend": true,
         "type": "scatter",
         "x": [
          0.7539363403048971
         ],
         "xaxis": "x",
         "y": [
          1.4106385803066162
         ],
         "yaxis": "y"
        },
        {
         "customdata": [
          [
           "TP53",
           1129,
           "RPS6KB1 (p70S6KA)"
          ],
          [
           "BRAF",
           1129,
           "RPS6KB1 (p70S6KA)"
          ],
          [
           "PIK3CA",
           1129,
           "RPS6KB1 (p70S6KA)"
          ]
         ],
         "hoverlabel": {
          "namelength": 0
         },
         "hovertemplate": "Drug_Putative_Target=%{customdata[2]}<br>SE=%{x}<br>-logP=%{y}<br>F1=%{customdata[0]}<br>F2=%{customdata[1]}",
         "legendgroup": "RPS6KB1 (p70S6KA)",
         "marker": {
          "color": "#ab63fa",
          "symbol": "circle"
         },
         "mode": "markers",
         "name": "RPS6KB1 (p70S6KA)",
         "showlegend": true,
         "type": "scatter",
         "x": [
          0.6882866843017489,
          0.17647892856231642,
          -0.3171947402882332
         ],
         "xaxis": "x",
         "y": [
          2.4952393460087015,
          0.2956016784513591,
          1.0990162045341971
         ],
         "yaxis": "y"
        },
        {
         "customdata": [
          [
           "PIK3CA",
           1142,
           "LOK, LTK, TRCB, ABL(T315I)"
          ]
         ],
         "hoverlabel": {
          "namelength": 0
         },
         "hovertemplate": "Drug_Putative_Target=%{customdata[2]}<br>SE=%{x}<br>-logP=%{y}<br>F1=%{customdata[0]}<br>F2=%{customdata[1]}",
         "legendgroup": "LOK, LTK, TRCB, ABL(T315I)",
         "marker": {
          "color": "#FFA15A",
          "symbol": "circle"
         },
         "mode": "markers",
         "name": "LOK, LTK, TRCB, ABL(T315I)",
         "showlegend": true,
         "type": "scatter",
         "x": [
          0.02163273456783392
         ],
         "xaxis": "x",
         "y": [
          0.041546580517059783
         ],
         "yaxis": "y"
        },
        {
         "customdata": [
          [
           "PIK3CA",
           1143,
           "EGFR, ADCK4"
          ]
         ],
         "hoverlabel": {
          "namelength": 0
         },
         "hovertemplate": "Drug_Putative_Target=%{customdata[2]}<br>SE=%{x}<br>-logP=%{y}<br>F1=%{customdata[0]}<br>F2=%{customdata[1]}",
         "legendgroup": "EGFR, ADCK4",
         "marker": {
          "color": "#19d3f3",
          "symbol": "circle"
         },
         "mode": "markers",
         "name": "EGFR, ADCK4",
         "showlegend": true,
         "type": "scatter",
         "x": [
          0.5491146640198891
         ],
         "xaxis": "x",
         "y": [
          1.6763167517424225
         ],
         "yaxis": "y"
        },
        {
         "customdata": [
          [
           "TP53",
           1149,
           "BCL2, BCL2L1"
          ],
          [
           "BRAF",
           1149,
           "BCL2, BCL2L1"
          ],
          [
           "PIK3CA",
           1149,
           "BCL2, BCL2L1"
          ]
         ],
         "hoverlabel": {
          "namelength": 0
         },
         "hovertemplate": "Drug_Putative_Target=%{customdata[2]}<br>SE=%{x}<br>-logP=%{y}<br>F1=%{customdata[0]}<br>F2=%{customdata[1]}",
         "legendgroup": "BCL2, BCL2L1",
         "marker": {
          "color": "#FF6692",
          "symbol": "circle"
         },
         "mode": "markers",
         "name": "BCL2, BCL2L1",
         "showlegend": true,
         "type": "scatter",
         "x": [
          -0.12440022814421595,
          -0.2902584811783416,
          0.35844117219366856
         ],
         "xaxis": "x",
         "y": [
          0.27723413488526283,
          0.5260996880855549,
          1.2968714300887858
         ],
         "yaxis": "y"
        },
        {
         "customdata": [
          [
           "PIK3CA",
           1158,
           "BRSK2, FLT4, MARK4, PRKCD, RET, SPRK1"
          ]
         ],
         "hoverlabel": {
          "namelength": 0
         },
         "hovertemplate": "Drug_Putative_Target=%{customdata[2]}<br>SE=%{x}<br>-logP=%{y}<br>F1=%{customdata[0]}<br>F2=%{customdata[1]}",
         "legendgroup": "BRSK2, FLT4, MARK4, PRKCD, RET, SPRK1",
         "marker": {
          "color": "#B6E880",
          "symbol": "circle"
         },
         "mode": "markers",
         "name": "BRSK2, FLT4, MARK4, PRKCD, RET, SPRK1",
         "showlegend": true,
         "type": "scatter",
         "x": [
          0.6043531858259571
         ],
         "xaxis": "x",
         "y": [
          1.931996921102052
         ],
         "yaxis": "y"
        },
        {
         "customdata": [
          [
           "PIK3CA",
           1161,
           "IRAK1"
          ]
         ],
         "hoverlabel": {
          "namelength": 0
         },
         "hovertemplate": "Drug_Putative_Target=%{customdata[2]}<br>SE=%{x}<br>-logP=%{y}<br>F1=%{customdata[0]}<br>F2=%{customdata[1]}",
         "legendgroup": "IRAK1",
         "marker": {
          "color": "#FF97FF",
          "symbol": "circle"
         },
         "mode": "markers",
         "name": "IRAK1",
         "showlegend": true,
         "type": "scatter",
         "x": [
          0.5202957812465964
         ],
         "xaxis": "x",
         "y": [
          1.5504303680298872
         ],
         "yaxis": "y"
        },
        {
         "customdata": [
          [
           "PIK3CA",
           1166,
           "MTOR, ATR"
          ]
         ],
         "hoverlabel": {
          "namelength": 0
         },
         "hovertemplate": "Drug_Putative_Target=%{customdata[2]}<br>SE=%{x}<br>-logP=%{y}<br>F1=%{customdata[0]}<br>F2=%{customdata[1]}",
         "legendgroup": "MTOR, ATR",
         "marker": {
          "color": "#FECB52",
          "symbol": "circle"
         },
         "mode": "markers",
         "name": "MTOR, ATR",
         "showlegend": true,
         "type": "scatter",
         "x": [
          -0.7111796158213498
         ],
         "xaxis": "x",
         "y": [
          2.484316771180796
         ],
         "yaxis": "y"
        },
        {
         "customdata": [
          [
           "TP53",
           1192,
           "ROCK1, ROCK2"
          ],
          [
           "BRAF",
           1192,
           "ROCK1, ROCK2"
          ],
          [
           "PIK3CA",
           1192,
           "ROCK1, ROCK2"
          ],
          [
           "TP53",
           127,
           "ROCK1, ROCK2"
          ],
          [
           "PIK3CA",
           127,
           "ROCK1, ROCK2"
          ]
         ],
         "hoverlabel": {
          "namelength": 0
         },
         "hovertemplate": "Drug_Putative_Target=%{customdata[2]}<br>SE=%{x}<br>-logP=%{y}<br>F1=%{customdata[0]}<br>F2=%{customdata[1]}",
         "legendgroup": "ROCK1, ROCK2",
         "marker": {
          "color": "#636efa",
          "symbol": "circle"
         },
         "mode": "markers",
         "name": "ROCK1, ROCK2",
         "showlegend": true,
         "type": "scatter",
         "x": [
          0.14636210558260676,
          -0.1845558929863222,
          -0.12556590441293294,
          0.7883954673127965,
          0.26570206546498826
         ],
         "xaxis": "x",
         "y": [
          0.35580921340573063,
          0.3133226526111478,
          0.3693799366814588,
          1.5542636747396266,
          0.3816430679645907
         ],
         "yaxis": "y"
        },
        {
         "customdata": [
          [
           "TP53",
           1194,
           "TGFR1 (ALK5)"
          ],
          [
           "BRAF",
           1194,
           "TGFR1 (ALK5)"
          ],
          [
           "PIK3CA",
           1194,
           "TGFR1 (ALK5)"
          ]
         ],
         "hoverlabel": {
          "namelength": 0
         },
         "hovertemplate": "Drug_Putative_Target=%{customdata[2]}<br>SE=%{x}<br>-logP=%{y}<br>F1=%{customdata[0]}<br>F2=%{customdata[1]}",
         "legendgroup": "TGFR1 (ALK5)",
         "marker": {
          "color": "#EF553B",
          "symbol": "circle"
         },
         "mode": "markers",
         "name": "TGFR1 (ALK5)",
         "showlegend": true,
         "type": "scatter",
         "x": [
          0.16594571894006094,
          0.5188934353928767,
          -0.1514868830741444
         ],
         "xaxis": "x",
         "y": [
          0.4112848907133325,
          1.1040479315285463,
          0.4595070779611001
         ],
         "yaxis": "y"
        },
        {
         "customdata": [
          [
           "TP53",
           1199,
           "ER"
          ],
          [
           "BRAF",
           1199,
           "ER"
          ],
          [
           "PIK3CA",
           1199,
           "ER"
          ]
         ],
         "hoverlabel": {
          "namelength": 0
         },
         "hovertemplate": "Drug_Putative_Target=%{customdata[2]}<br>SE=%{x}<br>-logP=%{y}<br>F1=%{customdata[0]}<br>F2=%{customdata[1]}",
         "legendgroup": "ER",
         "marker": {
          "color": "#00cc96",
          "symbol": "circle"
         },
         "mode": "markers",
         "name": "ER",
         "showlegend": true,
         "type": "scatter",
         "x": [
          0.19555653537416,
          0.20027857190384304,
          -0.43154045097913823
         ],
         "xaxis": "x",
         "y": [
          0.49889831235847,
          0.34380391395569804,
          1.7839732989301067
         ],
         "yaxis": "y"
        },
        {
         "customdata": [
          [
           "PIK3CA",
           1203,
           "BTK"
          ],
          [
           "TP53",
           192,
           "BTK"
          ],
          [
           "PIK3CA",
           192,
           "BTK"
          ]
         ],
         "hoverlabel": {
          "namelength": 0
         },
         "hovertemplate": "Drug_Putative_Target=%{customdata[2]}<br>SE=%{x}<br>-logP=%{y}<br>F1=%{customdata[0]}<br>F2=%{customdata[1]}",
         "legendgroup": "BTK",
         "marker": {
          "color": "#ab63fa",
          "symbol": "circle"
         },
         "mode": "markers",
         "name": "BTK",
         "showlegend": true,
         "type": "scatter",
         "x": [
          -0.4055897651243724,
          0.31253130217770825,
          0.007937712351118396
         ],
         "xaxis": "x",
         "y": [
          1.0283160936760614,
          0.8944487584759052,
          0.020641772651513884
         ],
         "yaxis": "y"
        },
        {
         "customdata": [
          [
           "TP53",
           1218,
           "BRD2, BRD3, BRD4"
          ],
          [
           "BRAF",
           1218,
           "BRD2, BRD3, BRD4"
          ],
          [
           "PIK3CA",
           1218,
           "BRD2, BRD3, BRD4"
          ],
          [
           "TP53",
           1219,
           "BRD2, BRD3, BRD4"
          ],
          [
           "BRAF",
           1219,
           "BRD2, BRD3, BRD4"
          ],
          [
           "PIK3CA",
           1219,
           "BRD2, BRD3, BRD4"
          ],
          [
           "TP53",
           275,
           "BRD2, BRD3, BRD4"
          ],
          [
           "PIK3CA",
           275,
           "BRD2, BRD3, BRD4"
          ]
         ],
         "hoverlabel": {
          "namelength": 0
         },
         "hovertemplate": "Drug_Putative_Target=%{customdata[2]}<br>SE=%{x}<br>-logP=%{y}<br>F1=%{customdata[0]}<br>F2=%{customdata[1]}",
         "legendgroup": "BRD2, BRD3, BRD4",
         "marker": {
          "color": "#FFA15A",
          "symbol": "circle"
         },
         "mode": "markers",
         "name": "BRD2, BRD3, BRD4",
         "showlegend": true,
         "type": "scatter",
         "x": [
          0.3623137434832931,
          -0.27321070382728746,
          0.14989865332291386,
          -0.31208968768474143,
          0.31190651270590514,
          -0.02221210373156269,
          0.2513808403660158,
          0.10422034225661413
         ],
         "xaxis": "x",
         "y": [
          1.07701695852526,
          0.4925020179489183,
          0.4505323426288866,
          0.889413301563465,
          0.5784660200720646,
          0.05760640381414831,
          0.7163863950071082,
          0.3079065795408557
         ],
         "yaxis": "y"
        },
        {
         "customdata": [
          [
           "TP53",
           1230,
           "EGLN1"
          ],
          [
           "BRAF",
           1230,
           "EGLN1"
          ],
          [
           "PIK3CA",
           1230,
           "EGLN1"
          ]
         ],
         "hoverlabel": {
          "namelength": 0
         },
         "hovertemplate": "Drug_Putative_Target=%{customdata[2]}<br>SE=%{x}<br>-logP=%{y}<br>F1=%{customdata[0]}<br>F2=%{customdata[1]}",
         "legendgroup": "EGLN1",
         "marker": {
          "color": "#19d3f3",
          "symbol": "circle"
         },
         "mode": "markers",
         "name": "EGLN1",
         "showlegend": true,
         "type": "scatter",
         "x": [
          0.30138538228311923,
          0.20242671871224724,
          0.3439912468175366
         ],
         "xaxis": "x",
         "y": [
          0.8503874957506828,
          0.34801668375569056,
          1.2959592507546822
         ],
         "yaxis": "y"
        },
        {
         "customdata": [
          [
           "TP53",
           1236,
           "G9a(EHMT2), GLP(EHMT1)"
          ],
          [
           "BRAF",
           1236,
           "G9a(EHMT2), GLP(EHMT1)"
          ],
          [
           "PIK3CA",
           1236,
           "G9a(EHMT2), GLP(EHMT1)"
          ],
          [
           "TP53",
           245,
           "G9a(EHMT2), GLP(EHMT1)"
          ],
          [
           "PIK3CA",
           245,
           "G9a(EHMT2), GLP(EHMT1)"
          ]
         ],
         "hoverlabel": {
          "namelength": 0
         },
         "hovertemplate": "Drug_Putative_Target=%{customdata[2]}<br>SE=%{x}<br>-logP=%{y}<br>F1=%{customdata[0]}<br>F2=%{customdata[1]}",
         "legendgroup": "G9a(EHMT2), GLP(EHMT1)",
         "marker": {
          "color": "#FF6692",
          "symbol": "circle"
         },
         "mode": "markers",
         "name": "G9a(EHMT2), GLP(EHMT1)",
         "showlegend": true,
         "type": "scatter",
         "x": [
          -0.15469694854304145,
          -0.40511893506630586,
          0.2094244143322593,
          -0.28433016179116954,
          0.2211530789460648
         ],
         "xaxis": "x",
         "y": [
          0.3791823329469789,
          0.800026869136815,
          0.6794142690872703,
          0.8369696889719235,
          0.7515965702808363
         ],
         "yaxis": "y"
        },
        {
         "customdata": [
          [
           "TP53",
           1239,
           "RNA helicase A"
          ],
          [
           "PIK3CA",
           1239,
           "RNA helicase A"
          ]
         ],
         "hoverlabel": {
          "namelength": 0
         },
         "hovertemplate": "Drug_Putative_Target=%{customdata[2]}<br>SE=%{x}<br>-logP=%{y}<br>F1=%{customdata[0]}<br>F2=%{customdata[1]}",
         "legendgroup": "RNA helicase A",
         "marker": {
          "color": "#B6E880",
          "symbol": "circle"
         },
         "mode": "markers",
         "name": "RNA helicase A",
         "showlegend": true,
         "type": "scatter",
         "x": [
          -0.033466191045250684,
          -0.3004942544162996
         ],
         "xaxis": "x",
         "y": [
          0.06809664461574637,
          0.9919030700522584
         ],
         "yaxis": "y"
        },
        {
         "customdata": [
          [
           "TP53",
           1241,
           "GSK3B"
          ],
          [
           "BRAF",
           1241,
           "GSK3B"
          ],
          [
           "PIK3CA",
           1241,
           "GSK3B"
          ],
          [
           "TP53",
           154,
           "GSK3B"
          ],
          [
           "PIK3CA",
           154,
           "GSK3B"
          ]
         ],
         "hoverlabel": {
          "namelength": 0
         },
         "hovertemplate": "Drug_Putative_Target=%{customdata[2]}<br>SE=%{x}<br>-logP=%{y}<br>F1=%{customdata[0]}<br>F2=%{customdata[1]}",
         "legendgroup": "GSK3B",
         "marker": {
          "color": "#FF97FF",
          "symbol": "circle"
         },
         "mode": "markers",
         "name": "GSK3B",
         "showlegend": true,
         "type": "scatter",
         "x": [
          -0.06837084065218475,
          0.1973200774530231,
          0.2260796105653309,
          0.041203802371923115,
          0.3233071287416291
         ],
         "xaxis": "x",
         "y": [
          0.1531563564108923,
          0.33740401314162,
          0.7417249810619162,
          0.09007004527233149,
          1.1910289198977964
         ],
         "yaxis": "y"
        },
        {
         "customdata": [
          [
           "TP53",
           1242,
           "MAP3K7 (TAK1)"
          ],
          [
           "BRAF",
           1242,
           "MAP3K7 (TAK1)"
          ],
          [
           "PIK3CA",
           1242,
           "MAP3K7 (TAK1)"
          ],
          [
           "TP53",
           260,
           "MAP3K7 (TAK1)"
          ],
          [
           "PIK3CA",
           260,
           "MAP3K7 (TAK1)"
          ],
          [
           "TP53",
           261,
           "MAP3K7 (TAK1)"
          ],
          [
           "PIK3CA",
           261,
           "MAP3K7 (TAK1)"
          ]
         ],
         "hoverlabel": {
          "namelength": 0
         },
         "hovertemplate": "Drug_Putative_Target=%{customdata[2]}<br>SE=%{x}<br>-logP=%{y}<br>F1=%{customdata[0]}<br>F2=%{customdata[1]}",
         "legendgroup": "MAP3K7 (TAK1)",
         "marker": {
          "color": "#FECB52",
          "symbol": "circle"
         },
         "mode": "markers",
         "name": "MAP3K7 (TAK1)",
         "showlegend": true,
         "type": "scatter",
         "x": [
          0.1477956416217368,
          -0.5327786664778889,
          -0.09168445901353846,
          -0.10484948782260044,
          -0.2118776093993532,
          0.04537059324460632,
          0.17521380412230048
         ],
         "xaxis": "x",
         "y": [
          0.35849906503427365,
          1.141494758465191,
          0.2571804876861649,
          0.2573190213162609,
          0.7123209167729517,
          0.10452020713949844,
          0.5641200585596564
         ],
         "yaxis": "y"
        },
        {
         "customdata": [
          [
           "TP53",
           1243,
           "Increases ROS levels"
          ],
          [
           "BRAF",
           1243,
           "Increases ROS levels"
          ],
          [
           "PIK3CA",
           1243,
           "Increases ROS levels"
          ]
         ],
         "hoverlabel": {
          "namelength": 0
         },
         "hovertemplate": "Drug_Putative_Target=%{customdata[2]}<br>SE=%{x}<br>-logP=%{y}<br>F1=%{customdata[0]}<br>F2=%{customdata[1]}",
         "legendgroup": "Increases ROS levels",
         "marker": {
          "color": "#636efa",
          "symbol": "circle"
         },
         "mode": "markers",
         "name": "Increases ROS levels",
         "showlegend": true,
         "type": "scatter",
         "x": [
          -0.19042944917275695,
          0.3404264225965796,
          -0.4465358777641187
         ],
         "xaxis": "x",
         "y": [
          0.4834024057593331,
          0.6437135444731419,
          1.8749690808416608
         ],
         "yaxis": "y"
        },
        {
         "customdata": [
          [
           "TP53",
           1248,
           "NAMPT"
          ],
          [
           "BRAF",
           1248,
           "NAMPT"
          ],
          [
           "PIK3CA",
           1248,
           "NAMPT"
          ]
         ],
         "hoverlabel": {
          "namelength": 0
         },
         "hovertemplate": "Drug_Putative_Target=%{customdata[2]}<br>SE=%{x}<br>-logP=%{y}<br>F1=%{customdata[0]}<br>F2=%{customdata[1]}",
         "legendgroup": "NAMPT",
         "marker": {
          "color": "#EF553B",
          "symbol": "circle"
         },
         "mode": "markers",
         "name": "NAMPT",
         "showlegend": true,
         "type": "scatter",
         "x": [
          0.5546735731126051,
          -0.5412897853513478,
          -0.034446170934199265
         ],
         "xaxis": "x",
         "y": [
          1.9538528889350888,
          1.1660925107477862,
          0.09011701063480347
         ],
         "yaxis": "y"
        },
        {
         "customdata": [
          [
           "TP53",
           1259,
           "PARP1"
          ],
          [
           "BRAF",
           1259,
           "PARP1"
          ],
          [
           "PIK3CA",
           1259,
           "PARP1"
          ]
         ],
         "hoverlabel": {
          "namelength": 0
         },
         "hovertemplate": "Drug_Putative_Target=%{customdata[2]}<br>SE=%{x}<br>-logP=%{y}<br>F1=%{customdata[0]}<br>F2=%{customdata[1]}",
         "legendgroup": "PARP1",
         "marker": {
          "color": "#00cc96",
          "symbol": "circle"
         },
         "mode": "markers",
         "name": "PARP1",
         "showlegend": true,
         "type": "scatter",
         "x": [
          0.1737264170955257,
          0.27716190290982623,
          -0.0971684007275006
         ],
         "xaxis": "x",
         "y": [
          0.4338680019233165,
          0.501932877558024,
          0.2762821231230284
         ],
         "yaxis": "y"
        },
        {
         "customdata": [
          [
           "TP53",
           1261,
           "TR10A (DR4),  TR10B (DR5)"
          ],
          [
           "BRAF",
           1261,
           "TR10A (DR4),  TR10B (DR5)"
          ],
          [
           "PIK3CA",
           1261,
           "TR10A (DR4),  TR10B (DR5)"
          ]
         ],
         "hoverlabel": {
          "namelength": 0
         },
         "hovertemplate": "Drug_Putative_Target=%{customdata[2]}<br>SE=%{x}<br>-logP=%{y}<br>F1=%{customdata[0]}<br>F2=%{customdata[1]}",
         "legendgroup": "TR10A (DR4),  TR10B (DR5)",
         "marker": {
          "color": "#ab63fa",
          "symbol": "circle"
         },
         "mode": "markers",
         "name": "TR10A (DR4),  TR10B (DR5)",
         "showlegend": true,
         "type": "scatter",
         "x": [
          -0.2739215466361617,
          -0.2037354326502293,
          0.7619582523180098
         ],
         "xaxis": "x",
         "y": [
          0.7532403518352981,
          0.35058892888277865,
          4.3697787544873545
         ],
         "yaxis": "y"
        },
        {
         "customdata": [
          [
           "TP53",
           1262,
           "LMBL3"
          ],
          [
           "BRAF",
           1262,
           "LMBL3"
          ],
          [
           "PIK3CA",
           1262,
           "LMBL3"
          ]
         ],
         "hoverlabel": {
          "namelength": 0
         },
         "hovertemplate": "Drug_Putative_Target=%{customdata[2]}<br>SE=%{x}<br>-logP=%{y}<br>F1=%{customdata[0]}<br>F2=%{customdata[1]}",
         "legendgroup": "LMBL3",
         "marker": {
          "color": "#FFA15A",
          "symbol": "circle"
         },
         "mode": "markers",
         "name": "LMBL3",
         "showlegend": true,
         "type": "scatter",
         "x": [
          0.404929750777443,
          -0.5254851094698842,
          0.20121884611806254
         ],
         "xaxis": "x",
         "y": [
          1.2509940310838032,
          1.120591582543703,
          0.6417648476799221
         ],
         "yaxis": "y"
        },
        {
         "customdata": [
          [
           "TP53",
           1264,
           "Q8TEK3 (DOT1L)"
          ],
          [
           "BRAF",
           1264,
           "Q8TEK3 (DOT1L)"
          ],
          [
           "PIK3CA",
           1264,
           "Q8TEK3 (DOT1L)"
          ]
         ],
         "hoverlabel": {
          "namelength": 0
         },
         "hovertemplate": "Drug_Putative_Target=%{customdata[2]}<br>SE=%{x}<br>-logP=%{y}<br>F1=%{customdata[0]}<br>F2=%{customdata[1]}",
         "legendgroup": "Q8TEK3 (DOT1L)",
         "marker": {
          "color": "#19d3f3",
          "symbol": "circle"
         },
         "mode": "markers",
         "name": "Q8TEK3 (DOT1L)",
         "showlegend": true,
         "type": "scatter",
         "x": [
          0.130597326519373,
          -0.10843070641249106,
          0.1403738623757011
         ],
         "xaxis": "x",
         "y": [
          0.31143381518469365,
          0.1740453438944954,
          0.4172180751244313
         ],
         "yaxis": "y"
        },
        {
         "customdata": [
          [
           "TP53",
           1268,
           "TNKS1 (tankyrase-1)"
          ],
          [
           "BRAF",
           1268,
           "TNKS1 (tankyrase-1)"
          ],
          [
           "PIK3CA",
           1268,
           "TNKS1 (tankyrase-1)"
          ]
         ],
         "hoverlabel": {
          "namelength": 0
         },
         "hovertemplate": "Drug_Putative_Target=%{customdata[2]}<br>SE=%{x}<br>-logP=%{y}<br>F1=%{customdata[0]}<br>F2=%{customdata[1]}",
         "legendgroup": "TNKS1 (tankyrase-1)",
         "marker": {
          "color": "#FF6692",
          "symbol": "circle"
         },
         "mode": "markers",
         "name": "TNKS1 (tankyrase-1)",
         "showlegend": true,
         "type": "scatter",
         "x": [
          -0.3904751572112895,
          0.5555932673536811,
          -0.1826257342142446
         ],
         "xaxis": "x",
         "y": [
          1.1956753434183292,
          1.2103603116070818,
          0.5744662420809641
         ],
         "yaxis": "y"
        },
        {
         "customdata": [
          [
           "TP53",
           133,
           "DNA intercalating"
          ],
          [
           "PIK3CA",
           133,
           "DNA intercalating"
          ]
         ],
         "hoverlabel": {
          "namelength": 0
         },
         "hovertemplate": "Drug_Putative_Target=%{customdata[2]}<br>SE=%{x}<br>-logP=%{y}<br>F1=%{customdata[0]}<br>F2=%{customdata[1]}",
         "legendgroup": "DNA intercalating",
         "marker": {
          "color": "#B6E880",
          "symbol": "circle"
         },
         "mode": "markers",
         "name": "DNA intercalating",
         "showlegend": true,
         "type": "scatter",
         "x": [
          0.4417547711187964,
          -0.1377821429253306
         ],
         "xaxis": "x",
         "y": [
          1.4219582586829602,
          0.4210947379743735
         ],
         "yaxis": "y"
        },
        {
         "customdata": [
          [
           "TP53",
           134,
           "TOP2"
          ],
          [
           "PIK3CA",
           134,
           "TOP2"
          ]
         ],
         "hoverlabel": {
          "namelength": 0
         },
         "hovertemplate": "Drug_Putative_Target=%{customdata[2]}<br>SE=%{x}<br>-logP=%{y}<br>F1=%{customdata[0]}<br>F2=%{customdata[1]}",
         "legendgroup": "TOP2",
         "marker": {
          "color": "#FF97FF",
          "symbol": "circle"
         },
         "mode": "markers",
         "name": "TOP2",
         "showlegend": true,
         "type": "scatter",
         "x": [
          0.3208110007821713,
          -0.3058570489423049
         ],
         "xaxis": "x",
         "y": [
          0.92169728817515,
          1.1054641482391765
         ],
         "yaxis": "y"
        },
        {
         "customdata": [
          [
           "TP53",
           135,
           "DNA replication"
          ],
          [
           "PIK3CA",
           135,
           "DNA replication"
          ]
         ],
         "hoverlabel": {
          "namelength": 0
         },
         "hovertemplate": "Drug_Putative_Target=%{customdata[2]}<br>SE=%{x}<br>-logP=%{y}<br>F1=%{customdata[0]}<br>F2=%{customdata[1]}",
         "legendgroup": "DNA replication",
         "marker": {
          "color": "#FECB52",
          "symbol": "circle"
         },
         "mode": "markers",
         "name": "DNA replication",
         "showlegend": true,
         "type": "scatter",
         "x": [
          0.4183692506363973,
          -0.16599839626427487
         ],
         "xaxis": "x",
         "y": [
          1.31886599334575,
          0.5247646434899808
         ],
         "yaxis": "y"
        },
        {
         "customdata": [
          [
           "TP53",
           1375,
           "DNA akylating agent"
          ],
          [
           "BRAF",
           1375,
           "DNA akylating agent"
          ],
          [
           "PIK3CA",
           1375,
           "DNA akylating agent"
          ]
         ],
         "hoverlabel": {
          "namelength": 0
         },
         "hovertemplate": "Drug_Putative_Target=%{customdata[2]}<br>SE=%{x}<br>-logP=%{y}<br>F1=%{customdata[0]}<br>F2=%{customdata[1]}",
         "legendgroup": "DNA akylating agent",
         "marker": {
          "color": "#636efa",
          "symbol": "circle"
         },
         "mode": "markers",
         "name": "DNA akylating agent",
         "showlegend": true,
         "type": "scatter",
         "x": [
          0.06979143425128867,
          -0.18292795468502568,
          0.3203607977675331
         ],
         "xaxis": "x",
         "y": [
          0.1565646408562439,
          0.3096396507898379,
          1.1667277713874171
         ],
         "yaxis": "y"
        },
        {
         "customdata": [
          [
           "TP53",
           1378,
           "DNA damage"
          ],
          [
           "BRAF",
           1378,
           "DNA damage"
          ],
          [
           "PIK3CA",
           1378,
           "DNA damage"
          ],
          [
           "TP53",
           190,
           "DNA damage"
          ],
          [
           "PIK3CA",
           190,
           "DNA damage"
          ]
         ],
         "hoverlabel": {
          "namelength": 0
         },
         "hovertemplate": "Drug_Putative_Target=%{customdata[2]}<br>SE=%{x}<br>-logP=%{y}<br>F1=%{customdata[0]}<br>F2=%{customdata[1]}",
         "legendgroup": "DNA damage",
         "marker": {
          "color": "#EF553B",
          "symbol": "circle"
         },
         "mode": "markers",
         "name": "DNA damage",
         "showlegend": true,
         "type": "scatter",
         "x": [
          -0.0562540789913586,
          0.564773118450848,
          -0.018542226219512372,
          0.43137661458604,
          -0.013999870547482873
         ],
         "xaxis": "x",
         "y": [
          0.12528929761941945,
          1.2399826313145694,
          0.04816006437283607,
          1.3757782145847968,
          0.03668993607310605
         ],
         "yaxis": "y"
        },
        {
         "customdata": [
          [
           "TP53",
           147,
           "PTPN6 (SHP-1), PTPN11 (SHP-2)"
          ],
          [
           "PIK3CA",
           147,
           "PTPN6 (SHP-1), PTPN11 (SHP-2)"
          ]
         ],
         "hoverlabel": {
          "namelength": 0
         },
         "hovertemplate": "Drug_Putative_Target=%{customdata[2]}<br>SE=%{x}<br>-logP=%{y}<br>F1=%{customdata[0]}<br>F2=%{customdata[1]}",
         "legendgroup": "PTPN6 (SHP-1), PTPN11 (SHP-2)",
         "marker": {
          "color": "#00cc96",
          "symbol": "circle"
         },
         "mode": "markers",
         "name": "PTPN6 (SHP-1), PTPN11 (SHP-2)",
         "showlegend": true,
         "type": "scatter",
         "x": [
          0.5665882543887963,
          -0.024500865311274343
         ],
         "xaxis": "x",
         "y": [
          2.0249386269602403,
          0.06372396710879369
         ],
         "yaxis": "y"
        },
        {
         "customdata": [
          [
           "TP53",
           150,
           "ANDR (androgen receptor)"
          ],
          [
           "PIK3CA",
           150,
           "ANDR (androgen receptor)"
          ],
          [
           "TP53",
           1502,
           "ANDR (androgen receptor)"
          ],
          [
           "PIK3CA",
           1502,
           "ANDR (androgen receptor)"
          ]
         ],
         "hoverlabel": {
          "namelength": 0
         },
         "hovertemplate": "Drug_Putative_Target=%{customdata[2]}<br>SE=%{x}<br>-logP=%{y}<br>F1=%{customdata[0]}<br>F2=%{customdata[1]}",
         "legendgroup": "ANDR (androgen receptor)",
         "marker": {
          "color": "#ab63fa",
          "symbol": "circle"
         },
         "mode": "markers",
         "name": "ANDR (androgen receptor)",
         "showlegend": true,
         "type": "scatter",
         "x": [
          0.9165176558662368,
          0.1857518869812493,
          0.17834799547995653,
          -0.0885201316479824
         ],
         "xaxis": "x",
         "y": [
          4.378060768910991,
          0.6011043842486788,
          0.42117243306018176,
          0.2455647471537556
         ],
         "yaxis": "y"
        },
        {
         "customdata": [
          [
           "TP53",
           151,
           "ARFGAP"
          ],
          [
           "PIK3CA",
           151,
           "ARFGAP"
          ]
         ],
         "hoverlabel": {
          "namelength": 0
         },
         "hovertemplate": "Drug_Putative_Target=%{customdata[2]}<br>SE=%{x}<br>-logP=%{y}<br>F1=%{customdata[0]}<br>F2=%{customdata[1]}",
         "legendgroup": "ARFGAP",
         "marker": {
          "color": "#FFA15A",
          "symbol": "circle"
         },
         "mode": "markers",
         "name": "ARFGAP",
         "showlegend": true,
         "type": "scatter",
         "x": [
          0.4401697439701043,
          -0.14099379828231573
         ],
         "xaxis": "x",
         "y": [
          1.414860742196961,
          0.4325806641524756
         ],
         "yaxis": "y"
        },
        {
         "customdata": [
          [
           "TP53",
           1527,
           "PI3K"
          ],
          [
           "PIK3CA",
           1527,
           "PI3K"
          ],
          [
           "TP53",
           223,
           "PI3K"
          ],
          [
           "PIK3CA",
           223,
           "PI3K"
          ]
         ],
         "hoverlabel": {
          "namelength": 0
         },
         "hovertemplate": "Drug_Putative_Target=%{customdata[2]}<br>SE=%{x}<br>-logP=%{y}<br>F1=%{customdata[0]}<br>F2=%{customdata[1]}",
         "legendgroup": "PI3K",
         "marker": {
          "color": "#19d3f3",
          "symbol": "circle"
         },
         "mode": "markers",
         "name": "PI3K",
         "showlegend": true,
         "type": "scatter",
         "x": [
          -0.6972162036297485,
          -0.9567417532528771,
          -0.2058323437669054,
          -0.594819581163545
         ],
         "xaxis": "x",
         "y": [
          2.5675546349014513,
          6.463545069540375,
          0.5604884185361253,
          3.0222943057756795
         ],
         "yaxis": "y"
        },
        {
         "customdata": [
          [
           "TP53",
           1529,
           "NEDD8-activating enzyme"
          ],
          [
           "PIK3CA",
           1529,
           "NEDD8-activating enzyme"
          ]
         ],
         "hoverlabel": {
          "namelength": 0
         },
         "hovertemplate": "Drug_Putative_Target=%{customdata[2]}<br>SE=%{x}<br>-logP=%{y}<br>F1=%{customdata[0]}<br>F2=%{customdata[1]}",
         "legendgroup": "NEDD8-activating enzyme",
         "marker": {
          "color": "#FF6692",
          "symbol": "circle"
         },
         "mode": "markers",
         "name": "NEDD8-activating enzyme",
         "showlegend": true,
         "type": "scatter",
         "x": [
          0.3526421890799005,
          0.4073852133287041
         ],
         "xaxis": "x",
         "y": [
          0.9437263656852608,
          1.4065240352618846
         ],
         "yaxis": "y"
        },
        {
         "customdata": [
          [
           "TP53",
           153,
           "KIT"
          ],
          [
           "PIK3CA",
           153,
           "KIT"
          ],
          [
           "TP53",
           292,
           "KIT"
          ],
          [
           "PIK3CA",
           292,
           "KIT"
          ]
         ],
         "hoverlabel": {
          "namelength": 0
         },
         "hovertemplate": "Drug_Putative_Target=%{customdata[2]}<br>SE=%{x}<br>-logP=%{y}<br>F1=%{customdata[0]}<br>F2=%{customdata[1]}",
         "legendgroup": "KIT",
         "marker": {
          "color": "#B6E880",
          "symbol": "circle"
         },
         "mode": "markers",
         "name": "KIT",
         "showlegend": true,
         "type": "scatter",
         "x": [
          0.2913667479554541,
          0.11499146296986885,
          0.3160325960441476,
          0.023280114599846188
         ],
         "xaxis": "x",
         "y": [
          0.8144546070453155,
          0.33403246658091224,
          0.9554372705684232,
          0.060826905287078
         ],
         "yaxis": "y"
        },
        {
         "customdata": [
          [
           "TP53",
           158,
           "FAK"
          ],
          [
           "PIK3CA",
           158,
           "FAK"
          ]
         ],
         "hoverlabel": {
          "namelength": 0
         },
         "hovertemplate": "Drug_Putative_Target=%{customdata[2]}<br>SE=%{x}<br>-logP=%{y}<br>F1=%{customdata[0]}<br>F2=%{customdata[1]}",
         "legendgroup": "FAK",
         "marker": {
          "color": "#FF97FF",
          "symbol": "circle"
         },
         "mode": "markers",
         "name": "FAK",
         "showlegend": true,
         "type": "scatter",
         "x": [
          0.4033836820414215,
          0.04542704719431494
         ],
         "xaxis": "x",
         "y": [
          1.2496620166397967,
          0.12125954532036505
         ],
         "yaxis": "y"
        },
        {
         "customdata": [
          [
           "TP53",
           159,
           "BRAFV600E, TAK, MAP4K5"
          ],
          [
           "PIK3CA",
           159,
           "BRAFV600E, TAK, MAP4K5"
          ]
         ],
         "hoverlabel": {
          "namelength": 0
         },
         "hovertemplate": "Drug_Putative_Target=%{customdata[2]}<br>SE=%{x}<br>-logP=%{y}<br>F1=%{customdata[0]}<br>F2=%{customdata[1]}",
         "legendgroup": "BRAFV600E, TAK, MAP4K5",
         "marker": {
          "color": "#FECB52",
          "symbol": "circle"
         },
         "mode": "markers",
         "name": "BRAFV600E, TAK, MAP4K5",
         "showlegend": true,
         "type": "scatter",
         "x": [
          -0.004070019884753889,
          0.2862543852776462
         ],
         "xaxis": "x",
         "y": [
          0.008560419726659118,
          1.0125156116201541
         ],
         "yaxis": "y"
        },
        {
         "customdata": [
          [
           "TP53",
           163,
           "BRD4"
          ],
          [
           "PIK3CA",
           163,
           "BRD4"
          ]
         ],
         "hoverlabel": {
          "namelength": 0
         },
         "hovertemplate": "Drug_Putative_Target=%{customdata[2]}<br>SE=%{x}<br>-logP=%{y}<br>F1=%{customdata[0]}<br>F2=%{customdata[1]}",
         "legendgroup": "BRD4",
         "marker": {
          "color": "#636efa",
          "symbol": "circle"
         },
         "mode": "markers",
         "name": "BRD4",
         "showlegend": true,
         "type": "scatter",
         "x": [
          -0.10707563723064098,
          0.4797000671504309
         ],
         "xaxis": "x",
         "y": [
          0.2502987046500866,
          2.0842597340211357
         ],
         "yaxis": "y"
        },
        {
         "customdata": [
          [
           "TP53",
           164,
           "HDAC"
          ],
          [
           "PIK3CA",
           164,
           "HDAC"
          ],
          [
           "TP53",
           200,
           "HDAC"
          ],
          [
           "PIK3CA",
           200,
           "HDAC"
          ],
          [
           "TP53",
           272,
           "HDAC"
          ],
          [
           "PIK3CA",
           272,
           "HDAC"
          ],
          [
           "TP53",
           274,
           "HDAC"
          ],
          [
           "PIK3CA",
           274,
           "HDAC"
          ],
          [
           "TP53",
           88,
           "HDAC"
          ],
          [
           "PIK3CA",
           88,
           "HDAC"
          ]
         ],
         "hoverlabel": {
          "namelength": 0
         },
         "hovertemplate": "Drug_Putative_Target=%{customdata[2]}<br>SE=%{x}<br>-logP=%{y}<br>F1=%{customdata[0]}<br>F2=%{customdata[1]}",
         "legendgroup": "HDAC",
         "marker": {
          "color": "#EF553B",
          "symbol": "circle"
         },
         "mode": "markers",
         "name": "HDAC",
         "showlegend": true,
         "type": "scatter",
         "x": [
          0.09649263092283246,
          -0.15601086925489385,
          0.048890700452150035,
          -0.2708395938546925,
          0.10693678817307424,
          0.08257910907424719,
          0.02918326706921468,
          -0.021980159014102787,
          -0.2071119551121688,
          0.06152100006686927
         ],
         "xaxis": "x",
         "y": [
          0.2231683473464945,
          0.4757508531438108,
          0.10806722601004662,
          0.966977211679134,
          0.2630177035524013,
          0.2375183020839586,
          0.06606408960323769,
          0.058561370547491484,
          0.2871793592060117,
          0.07811075127988851
         ],
         "yaxis": "y"
        },
        {
         "customdata": [
          [
           "TP53",
           165,
           "Prolyl-4-Hydroxylase"
          ],
          [
           "PIK3CA",
           165,
           "Prolyl-4-Hydroxylase"
          ]
         ],
         "hoverlabel": {
          "namelength": 0
         },
         "hovertemplate": "Drug_Putative_Target=%{customdata[2]}<br>SE=%{x}<br>-logP=%{y}<br>F1=%{customdata[0]}<br>F2=%{customdata[1]}",
         "legendgroup": "Prolyl-4-Hydroxylase",
         "marker": {
          "color": "#00cc96",
          "symbol": "circle"
         },
         "mode": "markers",
         "name": "Prolyl-4-Hydroxylase",
         "showlegend": true,
         "type": "scatter",
         "x": [
          -0.0810026579818422,
          0.3264195635068398
         ],
         "xaxis": "x",
         "y": [
          0.1844282578148425,
          1.2065734608785297
         ],
         "yaxis": "y"
        },
        {
         "customdata": [
          [
           "TP53",
           166,
           "Farnesyl transferase (FNTA)"
          ],
          [
           "PIK3CA",
           166,
           "Farnesyl transferase (FNTA)"
          ]
         ],
         "hoverlabel": {
          "namelength": 0
         },
         "hovertemplate": "Drug_Putative_Target=%{customdata[2]}<br>SE=%{x}<br>-logP=%{y}<br>F1=%{customdata[0]}<br>F2=%{customdata[1]}",
         "legendgroup": "Farnesyl transferase (FNTA)",
         "marker": {
          "color": "#ab63fa",
          "symbol": "circle"
         },
         "mode": "markers",
         "name": "Farnesyl transferase (FNTA)",
         "showlegend": true,
         "type": "scatter",
         "x": [
          -0.07137910387522299,
          -0.2865109164822198
         ],
         "xaxis": "x",
         "y": [
          0.16093395754983575,
          1.0137105716950674
         ],
         "yaxis": "y"
        },
        {
         "customdata": [
          [
           "TP53",
           167,
           "PDPK1 (PDK1)"
          ],
          [
           "PIK3CA",
           167,
           "PDPK1 (PDK1)"
          ],
          [
           "TP53",
           222,
           "PDPK1 (PDK1)"
          ],
          [
           "PIK3CA",
           222,
           "PDPK1 (PDK1)"
          ],
          [
           "TP53",
           287,
           "PDPK1 (PDK1)"
          ],
          [
           "PIK3CA",
           287,
           "PDPK1 (PDK1)"
          ]
         ],
         "hoverlabel": {
          "namelength": 0
         },
         "hovertemplate": "Drug_Putative_Target=%{customdata[2]}<br>SE=%{x}<br>-logP=%{y}<br>F1=%{customdata[0]}<br>F2=%{customdata[1]}",
         "legendgroup": "PDPK1 (PDK1)",
         "marker": {
          "color": "#FFA15A",
          "symbol": "circle"
         },
         "mode": "markers",
         "name": "PDPK1 (PDK1)",
         "showlegend": true,
         "type": "scatter",
         "x": [
          0.3652958528361305,
          -0.32794842534341084,
          -0.2012523108804169,
          0.21033410635480893,
          -0.18769195169997907,
          0.18717523428258706
         ],
         "xaxis": "x",
         "y": [
          1.0975786356930473,
          1.2480963527838744,
          0.545489579367119,
          0.7058558488485285,
          0.5017941903582194,
          0.6112476611588354
         ],
         "yaxis": "y"
        },
        {
         "customdata": [
          [
           "TP53",
           170,
           "unknown"
          ],
          [
           "PIK3CA",
           170,
           "unknown"
          ]
         ],
         "hoverlabel": {
          "namelength": 0
         },
         "hovertemplate": "Drug_Putative_Target=%{customdata[2]}<br>SE=%{x}<br>-logP=%{y}<br>F1=%{customdata[0]}<br>F2=%{customdata[1]}",
         "legendgroup": "unknown",
         "marker": {
          "color": "#19d3f3",
          "symbol": "circle"
         },
         "mode": "markers",
         "name": "unknown",
         "showlegend": true,
         "type": "scatter",
         "x": [
          0.10926562166155053,
          0.019170091775023292
         ],
         "xaxis": "x",
         "y": [
          0.2559806322903918,
          0.049528451501387495
         ],
         "yaxis": "y"
        },
        {
         "customdata": [
          [
           "TP53",
           171,
           "AKT1, AKT2, AKT3"
          ],
          [
           "PIK3CA",
           171,
           "AKT1, AKT2, AKT3"
          ],
          [
           "PIK3CA",
           86,
           "AKT1, AKT2, AKT3"
          ]
         ],
         "hoverlabel": {
          "namelength": 0
         },
         "hovertemplate": "Drug_Putative_Target=%{customdata[2]}<br>SE=%{x}<br>-logP=%{y}<br>F1=%{customdata[0]}<br>F2=%{customdata[1]}",
         "legendgroup": "AKT1, AKT2, AKT3",
         "marker": {
          "color": "#FF6692",
          "symbol": "circle"
         },
         "mode": "markers",
         "name": "AKT1, AKT2, AKT3",
         "showlegend": true,
         "type": "scatter",
         "x": [
          -0.4903200682800158,
          -0.4438820346861469,
          -0.7521584199480401
         ],
         "xaxis": "x",
         "y": [
          1.6406757192717778,
          1.85870195623025,
          1.3543788782883603
         ],
         "yaxis": "y"
        },
        {
         "customdata": [
          [
           "TP53",
           172,
           "XIAP"
          ],
          [
           "PIK3CA",
           172,
           "XIAP"
          ]
         ],
         "hoverlabel": {
          "namelength": 0
         },
         "hovertemplate": "Drug_Putative_Target=%{customdata[2]}<br>SE=%{x}<br>-logP=%{y}<br>F1=%{customdata[0]}<br>F2=%{customdata[1]}",
         "legendgroup": "XIAP",
         "marker": {
          "color": "#B6E880",
          "symbol": "circle"
         },
         "mode": "markers",
         "name": "XIAP",
         "showlegend": true,
         "type": "scatter",
         "x": [
          -0.2129660502210399,
          0.21211463141030948
         ],
         "xaxis": "x",
         "y": [
          0.5545536926746554,
          0.7079366243383097
         ],
         "yaxis": "y"
        },
        {
         "customdata": [
          [
           "TP53",
           173,
           "unknown "
          ],
          [
           "PIK3CA",
           173,
           "unknown "
          ]
         ],
         "hoverlabel": {
          "namelength": 0
         },
         "hovertemplate": "Drug_Putative_Target=%{customdata[2]}<br>SE=%{x}<br>-logP=%{y}<br>F1=%{customdata[0]}<br>F2=%{customdata[1]}",
         "legendgroup": "unknown ",
         "marker": {
          "color": "#FF97FF",
          "symbol": "circle"
         },
         "mode": "markers",
         "name": "unknown ",
         "showlegend": true,
         "type": "scatter",
         "x": [
          0.09735356847777303,
          0.1370679583674107
         ],
         "xaxis": "x",
         "y": [
          0.2261080651114871,
          0.4185514381492326
         ],
         "yaxis": "y"
        },
        {
         "customdata": [
          [
           "TP53",
           175,
           "CASP3 agonist"
          ],
          [
           "PIK3CA",
           175,
           "CASP3 agonist"
          ]
         ],
         "hoverlabel": {
          "namelength": 0
         },
         "hovertemplate": "Drug_Putative_Target=%{customdata[2]}<br>SE=%{x}<br>-logP=%{y}<br>F1=%{customdata[0]}<br>F2=%{customdata[1]}",
         "legendgroup": "CASP3 agonist",
         "marker": {
          "color": "#FECB52",
          "symbol": "circle"
         },
         "mode": "markers",
         "name": "CASP3 agonist",
         "showlegend": true,
         "type": "scatter",
         "x": [
          0.07636503295411244,
          0.06722766741616319
         ],
         "xaxis": "x",
         "y": [
          0.1736195330751379,
          0.18843585031645885
         ],
         "yaxis": "y"
        },
        {
         "customdata": [
          [
           "TP53",
           176,
           "PAK1, PAK2, PAK3"
          ],
          [
           "PIK3CA",
           176,
           "PAK1, PAK2, PAK3"
          ]
         ],
         "hoverlabel": {
          "namelength": 0
         },
         "hovertemplate": "Drug_Putative_Target=%{customdata[2]}<br>SE=%{x}<br>-logP=%{y}<br>F1=%{customdata[0]}<br>F2=%{customdata[1]}",
         "legendgroup": "PAK1, PAK2, PAK3",
         "marker": {
          "color": "#636efa",
          "symbol": "circle"
         },
         "mode": "markers",
         "name": "PAK1, PAK2, PAK3",
         "showlegend": true,
         "type": "scatter",
         "x": [
          0.2318556965690517,
          -0.7038886132114489
         ],
         "xaxis": "x",
         "y": [
          0.6148309801467312,
          3.9473851409632266
         ],
         "yaxis": "y"
        },
        {
         "customdata": [
          [
           "TP53",
           177,
           "SGK3"
          ],
          [
           "PIK3CA",
           177,
           "SGK3"
          ]
         ],
         "hoverlabel": {
          "namelength": 0
         },
         "hovertemplate": "Drug_Putative_Target=%{customdata[2]}<br>SE=%{x}<br>-logP=%{y}<br>F1=%{customdata[0]}<br>F2=%{customdata[1]}",
         "legendgroup": "SGK3",
         "marker": {
          "color": "#EF553B",
          "symbol": "circle"
         },
         "mode": "markers",
         "name": "SGK3",
         "showlegend": true,
         "type": "scatter",
         "x": [
          0.510336110406983,
          -0.4144634302519293
         ],
         "xaxis": "x",
         "y": [
          1.7447682646929663,
          1.7325343869048198
         ],
         "yaxis": "y"
        },
        {
         "customdata": [
          [
           "TP53",
           178,
           "SYK"
          ],
          [
           "PIK3CA",
           178,
           "SYK"
          ]
         ],
         "hoverlabel": {
          "namelength": 0
         },
         "hovertemplate": "Drug_Putative_Target=%{customdata[2]}<br>SE=%{x}<br>-logP=%{y}<br>F1=%{customdata[0]}<br>F2=%{customdata[1]}",
         "legendgroup": "SYK",
         "marker": {
          "color": "#00cc96",
          "symbol": "circle"
         },
         "mode": "markers",
         "name": "SYK",
         "showlegend": true,
         "type": "scatter",
         "x": [
          0.2547180334069145,
          -0.1198497988045117
         ],
         "xaxis": "x",
         "y": [
          0.6903799362357361,
          0.35842229491352506
         ],
         "yaxis": "y"
        },
        {
         "customdata": [
          [
           "TP53",
           179,
           "DNA antimetabolite"
          ],
          [
           "PIK3CA",
           179,
           "DNA antimetabolite"
          ]
         ],
         "hoverlabel": {
          "namelength": 0
         },
         "hovertemplate": "Drug_Putative_Target=%{customdata[2]}<br>SE=%{x}<br>-logP=%{y}<br>F1=%{customdata[0]}<br>F2=%{customdata[1]}",
         "legendgroup": "DNA antimetabolite",
         "marker": {
          "color": "#ab63fa",
          "symbol": "circle"
         },
         "mode": "markers",
         "name": "DNA antimetabolite",
         "showlegend": true,
         "type": "scatter",
         "x": [
          0.16585421214692614,
          -0.056181396468577886
         ],
         "xaxis": "x",
         "y": [
          0.4336401977274874,
          0.1563347805789008
         ],
         "yaxis": "y"
        },
        {
         "customdata": [
          [
           "TP53",
           180,
           "sarco-endoplasmic reticulum Ca2+-ATPases"
          ],
          [
           "PIK3CA",
           180,
           "sarco-endoplasmic reticulum Ca2+-ATPases"
          ]
         ],
         "hoverlabel": {
          "namelength": 0
         },
         "hovertemplate": "Drug_Putative_Target=%{customdata[2]}<br>SE=%{x}<br>-logP=%{y}<br>F1=%{customdata[0]}<br>F2=%{customdata[1]}",
         "legendgroup": "sarco-endoplasmic reticulum Ca2+-ATPases",
         "marker": {
          "color": "#FFA15A",
          "symbol": "circle"
         },
         "mode": "markers",
         "name": "sarco-endoplasmic reticulum Ca2+-ATPases",
         "showlegend": true,
         "type": "scatter",
         "x": [
          0.08912877233893468,
          0.4128206488253775
         ],
         "xaxis": "x",
         "y": [
          0.2052874230040453,
          1.7226478099875937
         ],
         "yaxis": "y"
        },
        {
         "customdata": [
          [
           "TP53",
           182,
           "BCL2, BCL2L1, MCL1"
          ],
          [
           "PIK3CA",
           182,
           "BCL2, BCL2L1, MCL1"
          ]
         ],
         "hoverlabel": {
          "namelength": 0
         },
         "hovertemplate": "Drug_Putative_Target=%{customdata[2]}<br>SE=%{x}<br>-logP=%{y}<br>F1=%{customdata[0]}<br>F2=%{customdata[1]}",
         "legendgroup": "BCL2, BCL2L1, MCL1",
         "marker": {
          "color": "#19d3f3",
          "symbol": "circle"
         },
         "mode": "markers",
         "name": "BCL2, BCL2L1, MCL1",
         "showlegend": true,
         "type": "scatter",
         "x": [
          0.5111435373478846,
          -0.1447610604782195
         ],
         "xaxis": "x",
         "y": [
          1.7487552172560188,
          0.4461556992454883
         ],
         "yaxis": "y"
        },
        {
         "customdata": [
          [
           "TP53",
           186,
           "Retinioic acid X family agonist"
          ],
          [
           "PIK3CA",
           186,
           "Retinioic acid X family agonist"
          ]
         ],
         "hoverlabel": {
          "namelength": 0
         },
         "hovertemplate": "Drug_Putative_Target=%{customdata[2]}<br>SE=%{x}<br>-logP=%{y}<br>F1=%{customdata[0]}<br>F2=%{customdata[1]}",
         "legendgroup": "Retinioic acid X family agonist",
         "marker": {
          "color": "#FF6692",
          "symbol": "circle"
         },
         "mode": "markers",
         "name": "Retinioic acid X family agonist",
         "showlegend": true,
         "type": "scatter",
         "x": [
          0.35778554625481995,
          -0.012670176903384504
         ],
         "xaxis": "x",
         "y": [
          1.0676555046757097,
          0.033148734645329116
         ],
         "yaxis": "y"
        },
        {
         "customdata": [
          [
           "TP53",
           193,
           "CSF1R (cFMS)"
          ],
          [
           "PIK3CA",
           193,
           "CSF1R (cFMS)"
          ]
         ],
         "hoverlabel": {
          "namelength": 0
         },
         "hovertemplate": "Drug_Putative_Target=%{customdata[2]}<br>SE=%{x}<br>-logP=%{y}<br>F1=%{customdata[0]}<br>F2=%{customdata[1]}",
         "legendgroup": "CSF1R (cFMS)",
         "marker": {
          "color": "#B6E880",
          "symbol": "circle"
         },
         "mode": "markers",
         "name": "CSF1R (cFMS)",
         "showlegend": true,
         "type": "scatter",
         "x": [
          0.18784419932421512,
          0.1466071268601812
         ],
         "xaxis": "x",
         "y": [
          0.5003656280438715,
          0.4452317700482439
         ],
         "yaxis": "y"
        },
        {
         "customdata": [
          [
           "TP53",
           197,
           "PRKC"
          ],
          [
           "PIK3CA",
           197,
           "PRKC"
          ]
         ],
         "hoverlabel": {
          "namelength": 0
         },
         "hovertemplate": "Drug_Putative_Target=%{customdata[2]}<br>SE=%{x}<br>-logP=%{y}<br>F1=%{customdata[0]}<br>F2=%{customdata[1]}",
         "legendgroup": "PRKC",
         "marker": {
          "color": "#FF97FF",
          "symbol": "circle"
         },
         "mode": "markers",
         "name": "PRKC",
         "showlegend": true,
         "type": "scatter",
         "x": [
          0.2840473302632234,
          -0.2671054712645722
         ],
         "xaxis": "x",
         "y": [
          0.7915407861625428,
          0.9496168542517432
         ],
         "yaxis": "y"
        },
        {
         "customdata": [
          [
           "TP53",
           199,
           "VEGFR, PDGFRA, PDGFRB, KIT"
          ],
          [
           "PIK3CA",
           199,
           "VEGFR, PDGFRA, PDGFRB, KIT"
          ]
         ],
         "hoverlabel": {
          "namelength": 0
         },
         "hovertemplate": "Drug_Putative_Target=%{customdata[2]}<br>SE=%{x}<br>-logP=%{y}<br>F1=%{customdata[0]}<br>F2=%{customdata[1]}",
         "legendgroup": "VEGFR, PDGFRA, PDGFRB, KIT",
         "marker": {
          "color": "#FECB52",
          "symbol": "circle"
         },
         "mode": "markers",
         "name": "VEGFR, PDGFRA, PDGFRB, KIT",
         "showlegend": true,
         "type": "scatter",
         "x": [
          -0.10940500165914437,
          -0.2647031130136361
         ],
         "xaxis": "x",
         "y": [
          0.2572078917928667,
          0.9385129224757732
         ],
         "yaxis": "y"
        },
        {
         "customdata": [
          [
           "TP53",
           203,
           "IKBKB"
          ],
          [
           "PIK3CA",
           203,
           "IKBKB"
          ]
         ],
         "hoverlabel": {
          "namelength": 0
         },
         "hovertemplate": "Drug_Putative_Target=%{customdata[2]}<br>SE=%{x}<br>-logP=%{y}<br>F1=%{customdata[0]}<br>F2=%{customdata[1]}",
         "legendgroup": "IKBKB",
         "marker": {
          "color": "#636efa",
          "symbol": "circle"
         },
         "mode": "markers",
         "name": "IKBKB",
         "showlegend": true,
         "type": "scatter",
         "x": [
          0.1574278570626889,
          -0.08871005601525002
         ],
         "xaxis": "x",
         "y": [
          0.4080631726053032,
          0.2571044738726504
         ],
         "yaxis": "y"
        },
        {
         "customdata": [
          [
           "TP53",
           204,
           "Farnesyl-transferase (FNTA)"
          ],
          [
           "PIK3CA",
           204,
           "Farnesyl-transferase (FNTA)"
          ]
         ],
         "hoverlabel": {
          "namelength": 0
         },
         "hovertemplate": "Drug_Putative_Target=%{customdata[2]}<br>SE=%{x}<br>-logP=%{y}<br>F1=%{customdata[0]}<br>F2=%{customdata[1]}",
         "legendgroup": "Farnesyl-transferase (FNTA)",
         "marker": {
          "color": "#EF553B",
          "symbol": "circle"
         },
         "mode": "markers",
         "name": "Farnesyl-transferase (FNTA)",
         "showlegend": true,
         "type": "scatter",
         "x": [
          -0.16534747719146992,
          -0.2244887503624504
         ],
         "xaxis": "x",
         "y": [
          0.4110025167644613,
          0.7600713852369848
         ],
         "yaxis": "y"
        },
        {
         "customdata": [
          [
           "TP53",
           206,
           "JAK1, JAK2, TYK2"
          ],
          [
           "PIK3CA",
           206,
           "JAK1, JAK2, TYK2"
          ]
         ],
         "hoverlabel": {
          "namelength": 0
         },
         "hovertemplate": "Drug_Putative_Target=%{customdata[2]}<br>SE=%{x}<br>-logP=%{y}<br>F1=%{customdata[0]}<br>F2=%{customdata[1]}",
         "legendgroup": "JAK1, JAK2, TYK2",
         "marker": {
          "color": "#00cc96",
          "symbol": "circle"
         },
         "mode": "markers",
         "name": "JAK1, JAK2, TYK2",
         "showlegend": true,
         "type": "scatter",
         "x": [
          0.8032276368360859,
          0.21171147289675307
         ],
         "xaxis": "x",
         "y": [
          3.7607946175056703,
          0.7116240771997958
         ],
         "yaxis": "y"
        },
        {
         "customdata": [
          [
           "TP53",
           207,
           "JNK "
          ],
          [
           "PIK3CA",
           207,
           "JNK "
          ]
         ],
         "hoverlabel": {
          "namelength": 0
         },
         "hovertemplate": "Drug_Putative_Target=%{customdata[2]}<br>SE=%{x}<br>-logP=%{y}<br>F1=%{customdata[0]}<br>F2=%{customdata[1]}",
         "legendgroup": "JNK ",
         "marker": {
          "color": "#ab63fa",
          "symbol": "circle"
         },
         "mode": "markers",
         "name": "JNK ",
         "showlegend": true,
         "type": "scatter",
         "x": [
          0.006744785204433652,
          0.1679375701700755
         ],
         "xaxis": "x",
         "y": [
          0.014269611912263678,
          0.5321202234808148
         ],
         "yaxis": "y"
        },
        {
         "customdata": [
          [
           "TP53",
           208,
           "KIF11"
          ],
          [
           "PIK3CA",
           208,
           "KIF11"
          ],
          [
           "PIK3CA",
           41,
           "KIF11"
          ]
         ],
         "hoverlabel": {
          "namelength": 0
         },
         "hovertemplate": "Drug_Putative_Target=%{customdata[2]}<br>SE=%{x}<br>-logP=%{y}<br>F1=%{customdata[0]}<br>F2=%{customdata[1]}",
         "legendgroup": "KIF11",
         "marker": {
          "color": "#FFA15A",
          "symbol": "circle"
         },
         "mode": "markers",
         "name": "KIF11",
         "showlegend": true,
         "type": "scatter",
         "x": [
          -0.4693821299195195,
          -0.0057329521071175895,
          0.6152854235297491
         ],
         "xaxis": "x",
         "y": [
          1.6451937647176924,
          0.01495824384615691,
          1.0203957861501445
         ],
         "yaxis": "y"
        },
        {
         "customdata": [
          [
           "TP53",
           211,
           "CRAF"
          ],
          [
           "PIK3CA",
           211,
           "CRAF"
          ]
         ],
         "hoverlabel": {
          "namelength": 0
         },
         "hovertemplate": "Drug_Putative_Target=%{customdata[2]}<br>SE=%{x}<br>-logP=%{y}<br>F1=%{customdata[0]}<br>F2=%{customdata[1]}",
         "legendgroup": "CRAF",
         "marker": {
          "color": "#19d3f3",
          "symbol": "circle"
         },
         "mode": "markers",
         "name": "CRAF",
         "showlegend": true,
         "type": "scatter",
         "x": [
          0.3664389725842435,
          -0.21665207728698305
         ],
         "xaxis": "x",
         "y": [
          1.1672735609644929,
          0.7324465803485211
         ],
         "yaxis": "y"
        },
        {
         "customdata": [
          [
           "TP53",
           219,
           "CDK9"
          ],
          [
           "PIK3CA",
           219,
           "CDK9"
          ],
          [
           "TP53",
           344,
           "CDK9"
          ],
          [
           "PIK3CA",
           344,
           "CDK9"
          ],
          [
           "TP53",
           345,
           "CDK9"
          ],
          [
           "PIK3CA",
           345,
           "CDK9"
          ]
         ],
         "hoverlabel": {
          "namelength": 0
         },
         "hovertemplate": "Drug_Putative_Target=%{customdata[2]}<br>SE=%{x}<br>-logP=%{y}<br>F1=%{customdata[0]}<br>F2=%{customdata[1]}",
         "legendgroup": "CDK9",
         "marker": {
          "color": "#FF6692",
          "symbol": "circle"
         },
         "mode": "markers",
         "name": "CDK9",
         "showlegend": true,
         "type": "scatter",
         "x": [
          -0.4773893218284554,
          0.1796491486226521,
          -0.5327176907131195,
          -0.009719546445641436,
          0.12637745657410182,
          0.310755289676477
         ],
         "xaxis": "x",
         "y": [
          1.6855025573718243,
          0.5814585363744563,
          1.9769696675315376,
          0.025490727248182018,
          0.3172178244143375,
          1.1697526413912178
         ],
         "yaxis": "y"
        },
        {
         "customdata": [
          [
           "TP53",
           221,
           "p38a"
          ],
          [
           "PIK3CA",
           221,
           "p38a"
          ]
         ],
         "hoverlabel": {
          "namelength": 0
         },
         "hovertemplate": "Drug_Putative_Target=%{customdata[2]}<br>SE=%{x}<br>-logP=%{y}<br>F1=%{customdata[0]}<br>F2=%{customdata[1]}",
         "legendgroup": "p38a",
         "marker": {
          "color": "#B6E880",
          "symbol": "circle"
         },
         "mode": "markers",
         "name": "p38a",
         "showlegend": true,
         "type": "scatter",
         "x": [
          0.26535327567725553,
          -0.3432324577357656
         ],
         "xaxis": "x",
         "y": [
          0.7667069884538356,
          1.3394074072287276
         ],
         "yaxis": "y"
        },
        {
         "customdata": [
          [
           "TP53",
           224,
           "PI3Kgamma"
          ],
          [
           "PIK3CA",
           224,
           "PI3Kgamma"
          ]
         ],
         "hoverlabel": {
          "namelength": 0
         },
         "hovertemplate": "Drug_Putative_Target=%{customdata[2]}<br>SE=%{x}<br>-logP=%{y}<br>F1=%{customdata[0]}<br>F2=%{customdata[1]}",
         "legendgroup": "PI3Kgamma",
         "marker": {
          "color": "#FF97FF",
          "symbol": "circle"
         },
         "mode": "markers",
         "name": "PI3Kgamma",
         "showlegend": true,
         "type": "scatter",
         "x": [
          0.3350367920154452,
          -0.4422936294034053
         ],
         "xaxis": "x",
         "y": [
          1.0358097623077418,
          1.9207118538500971
         ],
         "yaxis": "y"
        },
        {
         "customdata": [
          [
           "TP53",
           225,
           "AURKA, AURKB"
          ],
          [
           "PIK3CA",
           225,
           "AURKA, AURKB"
          ]
         ],
         "hoverlabel": {
          "namelength": 0
         },
         "hovertemplate": "Drug_Putative_Target=%{customdata[2]}<br>SE=%{x}<br>-logP=%{y}<br>F1=%{customdata[0]}<br>F2=%{customdata[1]}",
         "legendgroup": "AURKA, AURKB",
         "marker": {
          "color": "#FECB52",
          "symbol": "circle"
         },
         "mode": "markers",
         "name": "AURKA, AURKB",
         "showlegend": true,
         "type": "scatter",
         "x": [
          -0.19074749359023385,
          -0.04508351059213562
         ],
         "xaxis": "x",
         "y": [
          0.5115474565837614,
          0.12370503820915887
         ],
         "yaxis": "y"
        },
        {
         "customdata": [
          [
           "TP53",
           228,
           "AKT1"
          ],
          [
           "PIK3CA",
           228,
           "AKT1"
          ]
         ],
         "hoverlabel": {
          "namelength": 0
         },
         "hovertemplate": "Drug_Putative_Target=%{customdata[2]}<br>SE=%{x}<br>-logP=%{y}<br>F1=%{customdata[0]}<br>F2=%{customdata[1]}",
         "legendgroup": "AKT1",
         "marker": {
          "color": "#636efa",
          "symbol": "circle"
         },
         "mode": "markers",
         "name": "AKT1",
         "showlegend": true,
         "type": "scatter",
         "x": [
          -0.3424386725325676,
          -0.4623999242890736
         ],
         "xaxis": "x",
         "y": [
          1.06621482153072,
          2.0510248096717705
         ],
         "yaxis": "y"
        },
        {
         "customdata": [
          [
           "TP53",
           229,
           "PRKCB (PKCbeta)"
          ],
          [
           "PIK3CA",
           229,
           "PRKCB (PKCbeta)"
          ]
         ],
         "hoverlabel": {
          "namelength": 0
         },
         "hovertemplate": "Drug_Putative_Target=%{customdata[2]}<br>SE=%{x}<br>-logP=%{y}<br>F1=%{customdata[0]}<br>F2=%{customdata[1]}",
         "legendgroup": "PRKCB (PKCbeta)",
         "marker": {
          "color": "#EF553B",
          "symbol": "circle"
         },
         "mode": "markers",
         "name": "PRKCB (PKCbeta)",
         "showlegend": true,
         "type": "scatter",
         "x": [
          -0.08473247644991498,
          -0.1716820272790074
         ],
         "xaxis": "x",
         "y": [
          0.2035803259831601,
          0.5504283386537329
         ],
         "yaxis": "y"
        },
        {
         "customdata": [
          [
           "TP53",
           230,
           "ROCK2"
          ],
          [
           "PIK3CA",
           230,
           "ROCK2"
          ]
         ],
         "hoverlabel": {
          "namelength": 0
         },
         "hovertemplate": "Drug_Putative_Target=%{customdata[2]}<br>SE=%{x}<br>-logP=%{y}<br>F1=%{customdata[0]}<br>F2=%{customdata[1]}",
         "legendgroup": "ROCK2",
         "marker": {
          "color": "#00cc96",
          "symbol": "circle"
         },
         "mode": "markers",
         "name": "ROCK2",
         "showlegend": true,
         "type": "scatter",
         "x": [
          0.07143419188255343,
          0.3248154294048384
         ],
         "xaxis": "x",
         "y": [
          0.16922153167046633,
          1.2419792028731171
         ],
         "yaxis": "y"
        },
        {
         "customdata": [
          [
           "TP53",
           231,
           "RSK"
          ],
          [
           "PIK3CA",
           231,
           "RSK"
          ],
          [
           "PIK3CA",
           64,
           "RSK"
          ]
         ],
         "hoverlabel": {
          "namelength": 0
         },
         "hovertemplate": "Drug_Putative_Target=%{customdata[2]}<br>SE=%{x}<br>-logP=%{y}<br>F1=%{customdata[0]}<br>F2=%{customdata[1]}",
         "legendgroup": "RSK",
         "marker": {
          "color": "#ab63fa",
          "symbol": "circle"
         },
         "mode": "markers",
         "name": "RSK",
         "showlegend": true,
         "type": "scatter",
         "x": [
          0.2764568980686249,
          0.012366502678815948,
          0.6647505190930162
         ],
         "xaxis": "x",
         "y": [
          0.8075484483570592,
          0.032543485549924964,
          1.135437600088685
         ],
         "yaxis": "y"
        },
        {
         "customdata": [
          [
           "TP53",
           235,
           "BTK, BMX"
          ],
          [
           "PIK3CA",
           235,
           "BTK, BMX"
          ]
         ],
         "hoverlabel": {
          "namelength": 0
         },
         "hovertemplate": "Drug_Putative_Target=%{customdata[2]}<br>SE=%{x}<br>-logP=%{y}<br>F1=%{customdata[0]}<br>F2=%{customdata[1]}",
         "legendgroup": "BTK, BMX",
         "marker": {
          "color": "#FFA15A",
          "symbol": "circle"
         },
         "mode": "markers",
         "name": "BTK, BMX",
         "showlegend": true,
         "type": "scatter",
         "x": [
          -0.19765224275245288,
          -0.8140696454180403
         ],
         "xaxis": "x",
         "y": [
          0.5337855020354593,
          5.125239971494211
         ],
         "yaxis": "y"
        },
        {
         "customdata": [
          [
           "TP53",
           238,
           "PI3Kdelta"
          ],
          [
           "PIK3CA",
           238,
           "PI3Kdelta"
          ]
         ],
         "hoverlabel": {
          "namelength": 0
         },
         "hovertemplate": "Drug_Putative_Target=%{customdata[2]}<br>SE=%{x}<br>-logP=%{y}<br>F1=%{customdata[0]}<br>F2=%{customdata[1]}",
         "legendgroup": "PI3Kdelta",
         "marker": {
          "color": "#19d3f3",
          "symbol": "circle"
         },
         "mode": "markers",
         "name": "PI3Kdelta",
         "showlegend": true,
         "type": "scatter",
         "x": [
          -0.11323025546455892,
          0.1595055726214326
         ],
         "xaxis": "x",
         "y": [
          0.2803409908731386,
          0.5039971108083469
         ],
         "yaxis": "y"
        },
        {
         "customdata": [
          [
           "TP53",
           249,
           "VEGFR, MET, RET, KIT, FLT1, FLT3, FLT4, Tie2,AXL"
          ],
          [
           "PIK3CA",
           249,
           "VEGFR, MET, RET, KIT, FLT1, FLT3, FLT4, Tie2,AXL"
          ]
         ],
         "hoverlabel": {
          "namelength": 0
         },
         "hovertemplate": "Drug_Putative_Target=%{customdata[2]}<br>SE=%{x}<br>-logP=%{y}<br>F1=%{customdata[0]}<br>F2=%{customdata[1]}",
         "legendgroup": "VEGFR, MET, RET, KIT, FLT1, FLT3, FLT4, Tie2,AXL",
         "marker": {
          "color": "#FF6692",
          "symbol": "circle"
         },
         "mode": "markers",
         "name": "VEGFR, MET, RET, KIT, FLT1, FLT3, FLT4, Tie2,AXL",
         "showlegend": true,
         "type": "scatter",
         "x": [
          -0.24791142695751975,
          0.021614571853437004
         ],
         "xaxis": "x",
         "y": [
          0.7040754363712015,
          0.05756036406451767
         ],
         "yaxis": "y"
        },
        {
         "customdata": [
          [
           "TP53",
           252,
           "CLK2, CNSK1E, FLT3, ULK1"
          ],
          [
           "PIK3CA",
           252,
           "CLK2, CNSK1E, FLT3, ULK1"
          ]
         ],
         "hoverlabel": {
          "namelength": 0
         },
         "hovertemplate": "Drug_Putative_Target=%{customdata[2]}<br>SE=%{x}<br>-logP=%{y}<br>F1=%{customdata[0]}<br>F2=%{customdata[1]}",
         "legendgroup": "CLK2, CNSK1E, FLT3, ULK1",
         "marker": {
          "color": "#B6E880",
          "symbol": "circle"
         },
         "mode": "markers",
         "name": "CLK2, CNSK1E, FLT3, ULK1",
         "showlegend": true,
         "type": "scatter",
         "x": [
          -0.2462552885481869,
          0.4448423058008899
         ],
         "xaxis": "x",
         "y": [
          0.6954653217503636,
          1.880133340164508
         ],
         "yaxis": "y"
        },
        {
         "customdata": [
          [
           "TP53",
           253,
           "EPHB3, CAMK1"
          ],
          [
           "PIK3CA",
           253,
           "EPHB3, CAMK1"
          ]
         ],
         "hoverlabel": {
          "namelength": 0
         },
         "hovertemplate": "Drug_Putative_Target=%{customdata[2]}<br>SE=%{x}<br>-logP=%{y}<br>F1=%{customdata[0]}<br>F2=%{customdata[1]}",
         "legendgroup": "EPHB3, CAMK1",
         "marker": {
          "color": "#FF97FF",
          "symbol": "circle"
         },
         "mode": "markers",
         "name": "EPHB3, CAMK1",
         "showlegend": true,
         "type": "scatter",
         "x": [
          0.6215721717929981,
          -0.0271211874042366
         ],
         "xaxis": "x",
         "y": [
          2.4833709239379598,
          0.07120511640598706
         ],
         "yaxis": "y"
        },
        {
         "customdata": [
          [
           "TP53",
           254,
           "FLT3"
          ],
          [
           "PIK3CA",
           254,
           "FLT3"
          ]
         ],
         "hoverlabel": {
          "namelength": 0
         },
         "hovertemplate": "Drug_Putative_Target=%{customdata[2]}<br>SE=%{x}<br>-logP=%{y}<br>F1=%{customdata[0]}<br>F2=%{customdata[1]}",
         "legendgroup": "FLT3",
         "marker": {
          "color": "#FECB52",
          "symbol": "circle"
         },
         "mode": "markers",
         "name": "FLT3",
         "showlegend": true,
         "type": "scatter",
         "x": [
          0.2986761903986138,
          0.1714228368203831
         ],
         "xaxis": "x",
         "y": [
          0.8879495498243762,
          0.536031947542932
         ],
         "yaxis": "y"
        },
        {
         "customdata": [
          [
           "TP53",
           255,
           "ERBB2"
          ],
          [
           "PIK3CA",
           255,
           "ERBB2"
          ]
         ],
         "hoverlabel": {
          "namelength": 0
         },
         "hovertemplate": "Drug_Putative_Target=%{customdata[2]}<br>SE=%{x}<br>-logP=%{y}<br>F1=%{customdata[0]}<br>F2=%{customdata[1]}",
         "legendgroup": "ERBB2",
         "marker": {
          "color": "#636efa",
          "symbol": "circle"
         },
         "mode": "markers",
         "name": "ERBB2",
         "showlegend": true,
         "type": "scatter",
         "x": [
          0.20556574317237888,
          -0.2939745335358578
         ],
         "xaxis": "x",
         "y": [
          0.5574550953809521,
          1.0568458000819354
         ],
         "yaxis": "y"
        },
        {
         "customdata": [
          [
           "TP53",
           256,
           "LCK"
          ],
          [
           "PIK3CA",
           256,
           "LCK"
          ]
         ],
         "hoverlabel": {
          "namelength": 0
         },
         "hovertemplate": "Drug_Putative_Target=%{customdata[2]}<br>SE=%{x}<br>-logP=%{y}<br>F1=%{customdata[0]}<br>F2=%{customdata[1]}",
         "legendgroup": "LCK",
         "marker": {
          "color": "#EF553B",
          "symbol": "circle"
         },
         "mode": "markers",
         "name": "LCK",
         "showlegend": true,
         "type": "scatter",
         "x": [
          -0.21861022148962125,
          -0.0007422368288004628
         ],
         "xaxis": "x",
         "y": [
          0.6006384965953753,
          0.0018849679537913985
         ],
         "yaxis": "y"
        },
        {
         "customdata": [
          [
           "TP53",
           257,
           "PLK3"
          ],
          [
           "PIK3CA",
           257,
           "PLK3"
          ]
         ],
         "hoverlabel": {
          "namelength": 0
         },
         "hovertemplate": "Drug_Putative_Target=%{customdata[2]}<br>SE=%{x}<br>-logP=%{y}<br>F1=%{customdata[0]}<br>F2=%{customdata[1]}",
         "legendgroup": "PLK3",
         "marker": {
          "color": "#00cc96",
          "symbol": "circle"
         },
         "mode": "markers",
         "name": "PLK3",
         "showlegend": true,
         "type": "scatter",
         "x": [
          -0.3018355824244713,
          0.2143435423758997
         ],
         "xaxis": "x",
         "y": [
          0.9037716325857872,
          0.7226913968310047
         ],
         "yaxis": "y"
        },
        {
         "customdata": [
          [
           "TP53",
           258,
           "stimulates autophagy"
          ],
          [
           "PIK3CA",
           258,
           "stimulates autophagy"
          ]
         ],
         "hoverlabel": {
          "namelength": 0
         },
         "hovertemplate": "Drug_Putative_Target=%{customdata[2]}<br>SE=%{x}<br>-logP=%{y}<br>F1=%{customdata[0]}<br>F2=%{customdata[1]}",
         "legendgroup": "stimulates autophagy",
         "marker": {
          "color": "#ab63fa",
          "symbol": "circle"
         },
         "mode": "markers",
         "name": "stimulates autophagy",
         "showlegend": true,
         "type": "scatter",
         "x": [
          0.2327430050689911,
          0.3834915442967562
         ],
         "xaxis": "x",
         "y": [
          0.6511025829401627,
          1.5637845759734694
         ],
         "yaxis": "y"
        },
        {
         "customdata": [
          [
           "TP53",
           262,
           "ERK"
          ],
          [
           "PIK3CA",
           262,
           "ERK"
          ],
          [
           "TP53",
           263,
           "ERK"
          ],
          [
           "PIK3CA",
           263,
           "ERK"
          ]
         ],
         "hoverlabel": {
          "namelength": 0
         },
         "hovertemplate": "Drug_Putative_Target=%{customdata[2]}<br>SE=%{x}<br>-logP=%{y}<br>F1=%{customdata[0]}<br>F2=%{customdata[1]}",
         "legendgroup": "ERK",
         "marker": {
          "color": "#FFA15A",
          "symbol": "circle"
         },
         "mode": "markers",
         "name": "ERK",
         "showlegend": true,
         "type": "scatter",
         "x": [
          0.4864548349455161,
          0.21257793624376006,
          0.3264267468789649,
          0.3250060103491939
         ],
         "xaxis": "x",
         "y": [
          1.7317032498777822,
          0.7152609156021102,
          1.0008890918436268,
          1.24297094401909
         ],
         "yaxis": "y"
        },
        {
         "customdata": [
          [
           "TP53",
           265,
           "HDAC6"
          ],
          [
           "PIK3CA",
           265,
           "HDAC6"
          ],
          [
           "TP53",
           276,
           "HDAC6"
          ],
          [
           "PIK3CA",
           276,
           "HDAC6"
          ]
         ],
         "hoverlabel": {
          "namelength": 0
         },
         "hovertemplate": "Drug_Putative_Target=%{customdata[2]}<br>SE=%{x}<br>-logP=%{y}<br>F1=%{customdata[0]}<br>F2=%{customdata[1]}",
         "legendgroup": "HDAC6",
         "marker": {
          "color": "#19d3f3",
          "symbol": "circle"
         },
         "mode": "markers",
         "name": "HDAC6",
         "showlegend": true,
         "type": "scatter",
         "x": [
          0.41672158622272987,
          -0.01021293219575655,
          -0.2857792905638569,
          -0.051379945300027235
         ],
         "xaxis": "x",
         "y": [
          1.3915238351526762,
          0.0268017319183976,
          0.8424268550047961,
          0.14210992406022135
         ],
         "yaxis": "y"
        },
        {
         "customdata": [
          [
           "TP53",
           266,
           "Endothelin A Receptor"
          ],
          [
           "PIK3CA",
           266,
           "Endothelin A Receptor"
          ]
         ],
         "hoverlabel": {
          "namelength": 0
         },
         "hovertemplate": "Drug_Putative_Target=%{customdata[2]}<br>SE=%{x}<br>-logP=%{y}<br>F1=%{customdata[0]}<br>F2=%{customdata[1]}",
         "legendgroup": "Endothelin A Receptor",
         "marker": {
          "color": "#FF6692",
          "symbol": "circle"
         },
         "mode": "markers",
         "name": "Endothelin A Receptor",
         "showlegend": true,
         "type": "scatter",
         "x": [
          0.2906911481518341,
          -0.01692423069180095
         ],
         "xaxis": "x",
         "y": [
          0.8610215304571682,
          0.04479935774644205
         ],
         "yaxis": "y"
        },
        {
         "customdata": [
          [
           "TP53",
           268,
           "BIRC5 (Survivin)"
          ],
          [
           "PIK3CA",
           268,
           "BIRC5 (Survivin)"
          ]
         ],
         "hoverlabel": {
          "namelength": 0
         },
         "hovertemplate": "Drug_Putative_Target=%{customdata[2]}<br>SE=%{x}<br>-logP=%{y}<br>F1=%{customdata[0]}<br>F2=%{customdata[1]}",
         "legendgroup": "BIRC5 (Survivin)",
         "marker": {
          "color": "#B6E880",
          "symbol": "circle"
         },
         "mode": "markers",
         "name": "BIRC5 (Survivin)",
         "showlegend": true,
         "type": "scatter",
         "x": [
          -0.4425676766640653,
          -0.054036359242847366
         ],
         "xaxis": "x",
         "y": [
          1.5135710923421233,
          0.14995948182659305
         ],
         "yaxis": "y"
        },
        {
         "customdata": [
          [
           "TP53",
           269,
           "MDM4"
          ],
          [
           "PIK3CA",
           269,
           "MDM4"
          ]
         ],
         "hoverlabel": {
          "namelength": 0
         },
         "hovertemplate": "Drug_Putative_Target=%{customdata[2]}<br>SE=%{x}<br>-logP=%{y}<br>F1=%{customdata[0]}<br>F2=%{customdata[1]}",
         "legendgroup": "MDM4",
         "marker": {
          "color": "#FF97FF",
          "symbol": "circle"
         },
         "mode": "markers",
         "name": "MDM4",
         "showlegend": true,
         "type": "scatter",
         "x": [
          0.002395164691752365,
          0.2856074912155499
         ],
         "xaxis": "x",
         "y": [
          0.0052661191147106035,
          1.0451335470418794
         ],
         "yaxis": "y"
        },
        {
         "customdata": [
          [
           "TP53",
           271,
           "HDAC, RAR "
          ],
          [
           "PIK3CA",
           271,
           "HDAC, RAR "
          ]
         ],
         "hoverlabel": {
          "namelength": 0
         },
         "hovertemplate": "Drug_Putative_Target=%{customdata[2]}<br>SE=%{x}<br>-logP=%{y}<br>F1=%{customdata[0]}<br>F2=%{customdata[1]}",
         "legendgroup": "HDAC, RAR ",
         "marker": {
          "color": "#FECB52",
          "symbol": "circle"
         },
         "mode": "markers",
         "name": "HDAC, RAR ",
         "showlegend": true,
         "type": "scatter",
         "x": [
          0.4146026556382104,
          0.3616783012065089
         ],
         "xaxis": "x",
         "y": [
          1.381724900737381,
          1.4402470490428143
         ],
         "yaxis": "y"
        },
        {
         "customdata": [
          [
           "TP53",
           273,
           "HDAC, EGFR"
          ],
          [
           "PIK3CA",
           273,
           "HDAC, EGFR"
          ]
         ],
         "hoverlabel": {
          "namelength": 0
         },
         "hovertemplate": "Drug_Putative_Target=%{customdata[2]}<br>SE=%{x}<br>-logP=%{y}<br>F1=%{customdata[0]}<br>F2=%{customdata[1]}",
         "legendgroup": "HDAC, EGFR",
         "marker": {
          "color": "#636efa",
          "symbol": "circle"
         },
         "mode": "markers",
         "name": "HDAC, EGFR",
         "showlegend": true,
         "type": "scatter",
         "x": [
          -0.2177284977328936,
          0.020987226897190243
         ],
         "xaxis": "x",
         "y": [
          0.6000189289684359,
          0.05584478885531684
         ],
         "yaxis": "y"
        },
        {
         "customdata": [
          [
           "TP53",
           277,
           "VEGFR and PDGFR family"
          ],
          [
           "PIK3CA",
           277,
           "VEGFR and PDGFR family"
          ]
         ],
         "hoverlabel": {
          "namelength": 0
         },
         "hovertemplate": "Drug_Putative_Target=%{customdata[2]}<br>SE=%{x}<br>-logP=%{y}<br>F1=%{customdata[0]}<br>F2=%{customdata[1]}",
         "legendgroup": "VEGFR and PDGFR family",
         "marker": {
          "color": "#EF553B",
          "symbol": "circle"
         },
         "mode": "markers",
         "name": "VEGFR and PDGFR family",
         "showlegend": true,
         "type": "scatter",
         "x": [
          0.7199757165530255,
          -0.02554737186311944
         ],
         "xaxis": "x",
         "y": [
          3.129735804975561,
          0.06694097924266408
         ],
         "yaxis": "y"
        },
        {
         "customdata": [
          [
           "TP53",
           279,
           "MAP2K5 (MEK5)"
          ],
          [
           "PIK3CA",
           279,
           "MAP2K5 (MEK5)"
          ]
         ],
         "hoverlabel": {
          "namelength": 0
         },
         "hovertemplate": "Drug_Putative_Target=%{customdata[2]}<br>SE=%{x}<br>-logP=%{y}<br>F1=%{customdata[0]}<br>F2=%{customdata[1]}",
         "legendgroup": "MAP2K5 (MEK5)",
         "marker": {
          "color": "#00cc96",
          "symbol": "circle"
         },
         "mode": "markers",
         "name": "MAP2K5 (MEK5)",
         "showlegend": true,
         "type": "scatter",
         "x": [
          -0.2240518566344098,
          0.05781691801883225
         ],
         "xaxis": "x",
         "y": [
          0.6213699837299218,
          0.16121790571032246
         ],
         "yaxis": "y"
        },
        {
         "customdata": [
          [
           "TP53",
           281,
           "ALK"
          ],
          [
           "PIK3CA",
           281,
           "ALK"
          ],
          [
           "TP53",
           35,
           "ALK"
          ],
          [
           "PIK3CA",
           35,
           "ALK"
          ]
         ],
         "hoverlabel": {
          "namelength": 0
         },
         "hovertemplate": "Drug_Putative_Target=%{customdata[2]}<br>SE=%{x}<br>-logP=%{y}<br>F1=%{customdata[0]}<br>F2=%{customdata[1]}",
         "legendgroup": "ALK",
         "marker": {
          "color": "#ab63fa",
          "symbol": "circle"
         },
         "mode": "markers",
         "name": "ALK",
         "showlegend": true,
         "type": "scatter",
         "x": [
          -0.4140814019192233,
          0.3749728632252376,
          0.5966112181954762,
          0.755145531607577
         ],
         "xaxis": "x",
         "y": [
          1.3734439016023858,
          1.4722211763938617,
          1.0457784218999495,
          1.4583726356334918
         ],
         "yaxis": "y"
        },
        {
         "customdata": [
          [
           "TP53",
           283,
           "PI3K, MTOR"
          ],
          [
           "PIK3CA",
           283,
           "PI3K, MTOR"
          ]
         ],
         "hoverlabel": {
          "namelength": 0
         },
         "hovertemplate": "Drug_Putative_Target=%{customdata[2]}<br>SE=%{x}<br>-logP=%{y}<br>F1=%{customdata[0]}<br>F2=%{customdata[1]}",
         "legendgroup": "PI3K, MTOR",
         "marker": {
          "color": "#FFA15A",
          "symbol": "circle"
         },
         "mode": "markers",
         "name": "PI3K, MTOR",
         "showlegend": true,
         "type": "scatter",
         "x": [
          -0.17257997183276094,
          -0.5490519684351627
         ],
         "xaxis": "x",
         "y": [
          0.4526297566619991,
          2.5812707570358446
         ],
         "yaxis": "y"
        },
        {
         "customdata": [
          [
           "TP53",
           286,
           "TIE2"
          ],
          [
           "PIK3CA",
           286,
           "TIE2"
          ]
         ],
         "hoverlabel": {
          "namelength": 0
         },
         "hovertemplate": "Drug_Putative_Target=%{customdata[2]}<br>SE=%{x}<br>-logP=%{y}<br>F1=%{customdata[0]}<br>F2=%{customdata[1]}",
         "legendgroup": "TIE2",
         "marker": {
          "color": "#19d3f3",
          "symbol": "circle"
         },
         "mode": "markers",
         "name": "TIE2",
         "showlegend": true,
         "type": "scatter",
         "x": [
          0.4134678358702568,
          -0.17536883544556206
         ],
         "xaxis": "x",
         "y": [
          1.3764897449055122,
          0.5647233958732769
         ],
         "yaxis": "y"
        },
        {
         "customdata": [
          [
           "TP53",
           288,
           "JAK3, MNK1"
          ],
          [
           "PIK3CA",
           288,
           "JAK3, MNK1"
          ]
         ],
         "hoverlabel": {
          "namelength": 0
         },
         "hovertemplate": "Drug_Putative_Target=%{customdata[2]}<br>SE=%{x}<br>-logP=%{y}<br>F1=%{customdata[0]}<br>F2=%{customdata[1]}",
         "legendgroup": "JAK3, MNK1",
         "marker": {
          "color": "#FF6692",
          "symbol": "circle"
         },
         "mode": "markers",
         "name": "JAK3, MNK1",
         "showlegend": true,
         "type": "scatter",
         "x": [
          0.06571943436496852,
          0.3940742866974382
         ],
         "xaxis": "x",
         "y": [
          0.1547376572386145,
          1.6254210824553104
         ],
         "yaxis": "y"
        },
        {
         "customdata": [
          [
           "TP53",
           290,
           "IKK"
          ],
          [
           "PIK3CA",
           290,
           "IKK"
          ],
          [
           "TP53",
           305,
           "IKK"
          ],
          [
           "PIK3CA",
           305,
           "IKK"
          ]
         ],
         "hoverlabel": {
          "namelength": 0
         },
         "hovertemplate": "Drug_Putative_Target=%{customdata[2]}<br>SE=%{x}<br>-logP=%{y}<br>F1=%{customdata[0]}<br>F2=%{customdata[1]}",
         "legendgroup": "IKK",
         "marker": {
          "color": "#B6E880",
          "symbol": "circle"
         },
         "mode": "markers",
         "name": "IKK",
         "showlegend": true,
         "type": "scatter",
         "x": [
          0.2103171008976039,
          0.4348904312132988,
          -0.5481209584530626,
          -0.003045465513018061
         ],
         "xaxis": "x",
         "y": [
          0.5752937600762609,
          1.873809504149468,
          2.062225430944925,
          0.007918586462759614
         ],
         "yaxis": "y"
        },
        {
         "customdata": [
          [
           "TP53",
           291,
           "MAP3K8 (COT)"
          ],
          [
           "PIK3CA",
           291,
           "MAP3K8 (COT)"
          ]
         ],
         "hoverlabel": {
          "namelength": 0
         },
         "hovertemplate": "Drug_Putative_Target=%{customdata[2]}<br>SE=%{x}<br>-logP=%{y}<br>F1=%{customdata[0]}<br>F2=%{customdata[1]}",
         "legendgroup": "MAP3K8 (COT)",
         "marker": {
          "color": "#FF97FF",
          "symbol": "circle"
         },
         "mode": "markers",
         "name": "MAP3K8 (COT)",
         "showlegend": true,
         "type": "scatter",
         "x": [
          0.15090634281648074,
          0.2195246253595004
         ],
         "xaxis": "x",
         "y": [
          0.3885406897883302,
          0.7446482528182142
         ],
         "yaxis": "y"
        },
        {
         "customdata": [
          [
           "TP53",
           293,
           "PDGFR"
          ],
          [
           "PIK3CA",
           293,
           "PDGFR"
          ]
         ],
         "hoverlabel": {
          "namelength": 0
         },
         "hovertemplate": "Drug_Putative_Target=%{customdata[2]}<br>SE=%{x}<br>-logP=%{y}<br>F1=%{customdata[0]}<br>F2=%{customdata[1]}",
         "legendgroup": "PDGFR",
         "marker": {
          "color": "#FECB52",
          "symbol": "circle"
         },
         "mode": "markers",
         "name": "PDGFR",
         "showlegend": true,
         "type": "scatter",
         "x": [
          0.5562900559810467,
          -0.41405576974087627
         ],
         "xaxis": "x",
         "y": [
          2.098901503396221,
          1.6945129287927108
         ],
         "yaxis": "y"
        },
        {
         "customdata": [
          [
           "TP53",
           294,
           "MPS1"
          ],
          [
           "PIK3CA",
           294,
           "MPS1"
          ]
         ],
         "hoverlabel": {
          "namelength": 0
         },
         "hovertemplate": "Drug_Putative_Target=%{customdata[2]}<br>SE=%{x}<br>-logP=%{y}<br>F1=%{customdata[0]}<br>F2=%{customdata[1]}",
         "legendgroup": "MPS1",
         "marker": {
          "color": "#636efa",
          "symbol": "circle"
         },
         "mode": "markers",
         "name": "MPS1",
         "showlegend": true,
         "type": "scatter",
         "x": [
          0.08650815546513699,
          0.3720165304949079
         ],
         "xaxis": "x",
         "y": [
          0.20823791899066826,
          1.4982120074735144
         ],
         "yaxis": "y"
        },
        {
         "customdata": [
          [
           "TP53",
           295,
           "EPHB4"
          ],
          [
           "PIK3CA",
           295,
           "EPHB4"
          ]
         ],
         "hoverlabel": {
          "namelength": 0
         },
         "hovertemplate": "Drug_Putative_Target=%{customdata[2]}<br>SE=%{x}<br>-logP=%{y}<br>F1=%{customdata[0]}<br>F2=%{customdata[1]}",
         "legendgroup": "EPHB4",
         "marker": {
          "color": "#EF553B",
          "symbol": "circle"
         },
         "mode": "markers",
         "name": "EPHB4",
         "showlegend": true,
         "type": "scatter",
         "x": [
          0.26984670916505715,
          0.18702491305367813
         ],
         "xaxis": "x",
         "y": [
          0.7831433590286923,
          0.6106481165004102
         ],
         "yaxis": "y"
        },
        {
         "customdata": [
          [
           "TP53",
           298,
           "KIT, VEGFR, PDGFR"
          ],
          [
           "PIK3CA",
           298,
           "KIT, VEGFR, PDGFR"
          ]
         ],
         "hoverlabel": {
          "namelength": 0
         },
         "hovertemplate": "Drug_Putative_Target=%{customdata[2]}<br>SE=%{x}<br>-logP=%{y}<br>F1=%{customdata[0]}<br>F2=%{customdata[1]}",
         "legendgroup": "KIT, VEGFR, PDGFR",
         "marker": {
          "color": "#00cc96",
          "symbol": "circle"
         },
         "mode": "markers",
         "name": "KIT, VEGFR, PDGFR",
         "showlegend": true,
         "type": "scatter",
         "x": [
          0.4253159504856191,
          -0.23812201584821424
         ],
         "xaxis": "x",
         "y": [
          1.425468378770636,
          0.8041044140301985
         ],
         "yaxis": "y"
        },
        {
         "customdata": [
          [
           "TP53",
           30,
           "PDGFRA, PDGFRB, KDR, KIT, FLT3"
          ],
          [
           "PIK3CA",
           30,
           "PDGFRA, PDGFRB, KDR, KIT, FLT3"
          ],
          [
           "PIK3CA",
           5,
           "PDGFRA, PDGFRB, KDR, KIT, FLT3"
          ]
         ],
         "hoverlabel": {
          "namelength": 0
         },
         "hovertemplate": "Drug_Putative_Target=%{customdata[2]}<br>SE=%{x}<br>-logP=%{y}<br>F1=%{customdata[0]}<br>F2=%{customdata[1]}",
         "legendgroup": "PDGFRA, PDGFRB, KDR, KIT, FLT3",
         "marker": {
          "color": "#ab63fa",
          "symbol": "circle"
         },
         "mode": "markers",
         "name": "PDGFRA, PDGFRB, KDR, KIT, FLT3",
         "showlegend": true,
         "type": "scatter",
         "x": [
          0.5709576902286203,
          0.4232749329101763,
          0.8068557545309262
         ],
         "xaxis": "x",
         "y": [
          0.9853852022011976,
          0.6683228800515372,
          1.5024296935506842
         ],
         "yaxis": "y"
        },
        {
         "customdata": [
          [
           "TP53",
           300,
           "RNA Pol I"
          ],
          [
           "PIK3CA",
           300,
           "RNA Pol I"
          ]
         ],
         "hoverlabel": {
          "namelength": 0
         },
         "hovertemplate": "Drug_Putative_Target=%{customdata[2]}<br>SE=%{x}<br>-logP=%{y}<br>F1=%{customdata[0]}<br>F2=%{customdata[1]}",
         "legendgroup": "RNA Pol I",
         "marker": {
          "color": "#FFA15A",
          "symbol": "circle"
         },
         "mode": "markers",
         "name": "RNA Pol I",
         "showlegend": true,
         "type": "scatter",
         "x": [
          0.1863671933637881,
          0.20505106755851865
         ],
         "xaxis": "x",
         "y": [
          0.4975822360779205,
          0.6838793127540999
         ],
         "yaxis": "y"
        },
        {
         "customdata": [
          [
           "TP53",
           301,
           "CDK-pan"
          ],
          [
           "PIK3CA",
           301,
           "CDK-pan"
          ]
         ],
         "hoverlabel": {
          "namelength": 0
         },
         "hovertemplate": "Drug_Putative_Target=%{customdata[2]}<br>SE=%{x}<br>-logP=%{y}<br>F1=%{customdata[0]}<br>F2=%{customdata[1]}",
         "legendgroup": "CDK-pan",
         "marker": {
          "color": "#19d3f3",
          "symbol": "circle"
         },
         "mode": "markers",
         "name": "CDK-pan",
         "showlegend": true,
         "type": "scatter",
         "x": [
          -0.20987521991740266,
          0.2435773755440515
         ],
         "xaxis": "x",
         "y": [
          0.5716119224319882,
          0.8276291338268948
         ],
         "yaxis": "y"
        },
        {
         "customdata": [
          [
           "TP53",
           302,
           "PI3Ka, PRKDC (DNAPK)"
          ],
          [
           "PIK3CA",
           302,
           "PI3Ka, PRKDC (DNAPK)"
          ]
         ],
         "hoverlabel": {
          "namelength": 0
         },
         "hovertemplate": "Drug_Putative_Target=%{customdata[2]}<br>SE=%{x}<br>-logP=%{y}<br>F1=%{customdata[0]}<br>F2=%{customdata[1]}",
         "legendgroup": "PI3Ka, PRKDC (DNAPK)",
         "marker": {
          "color": "#FF6692",
          "symbol": "circle"
         },
         "mode": "markers",
         "name": "PI3Ka, PRKDC (DNAPK)",
         "showlegend": true,
         "type": "scatter",
         "x": [
          -0.07272178283168834,
          0.14170626403209444
         ],
         "xaxis": "x",
         "y": [
          0.1719084538143628,
          0.4278545841792872
         ],
         "yaxis": "y"
        },
        {
         "customdata": [
          [
           "TP53",
           303,
           "PI4K, PI3K"
          ],
          [
           "PIK3CA",
           303,
           "PI4K, PI3K"
          ]
         ],
         "hoverlabel": {
          "namelength": 0
         },
         "hovertemplate": "Drug_Putative_Target=%{customdata[2]}<br>SE=%{x}<br>-logP=%{y}<br>F1=%{customdata[0]}<br>F2=%{customdata[1]}",
         "legendgroup": "PI4K, PI3K",
         "marker": {
          "color": "#B6E880",
          "symbol": "circle"
         },
         "mode": "markers",
         "name": "PI4K, PI3K",
         "showlegend": true,
         "type": "scatter",
         "x": [
          -0.6104670105015879,
          -0.4634528581179856
         ],
         "xaxis": "x",
         "y": [
          2.4262998124121675,
          2.05796827464206
         ],
         "yaxis": "y"
        },
        {
         "customdata": [
          [
           "TP53",
           304,
           "ALK5"
          ],
          [
           "PIK3CA",
           304,
           "ALK5"
          ]
         ],
         "hoverlabel": {
          "namelength": 0
         },
         "hovertemplate": "Drug_Putative_Target=%{customdata[2]}<br>SE=%{x}<br>-logP=%{y}<br>F1=%{customdata[0]}<br>F2=%{customdata[1]}",
         "legendgroup": "ALK5",
         "marker": {
          "color": "#FF97FF",
          "symbol": "circle"
         },
         "mode": "markers",
         "name": "ALK5",
         "showlegend": true,
         "type": "scatter",
         "x": [
          -0.18417750064245525,
          -0.3966586317539437
         ],
         "xaxis": "x",
         "y": [
          0.4906423556900125,
          1.6406437936684093
         ],
         "yaxis": "y"
        },
        {
         "customdata": [
          [
           "TP53",
           306,
           "JAK2"
          ],
          [
           "PIK3CA",
           306,
           "JAK2"
          ]
         ],
         "hoverlabel": {
          "namelength": 0
         },
         "hovertemplate": "Drug_Putative_Target=%{customdata[2]}<br>SE=%{x}<br>-logP=%{y}<br>F1=%{customdata[0]}<br>F2=%{customdata[1]}",
         "legendgroup": "JAK2",
         "marker": {
          "color": "#FECB52",
          "symbol": "circle"
         },
         "mode": "markers",
         "name": "JAK2",
         "showlegend": true,
         "type": "scatter",
         "x": [
          -0.25689612352098506,
          0.27416961361609216
         ],
         "xaxis": "x",
         "y": [
          0.7331807343191268,
          0.9641794889575708
         ],
         "yaxis": "y"
        },
        {
         "customdata": [
          [
           "TP53",
           308,
           "MET"
          ],
          [
           "PIK3CA",
           308,
           "MET"
          ],
          [
           "TP53",
           6,
           "MET"
          ],
          [
           "PIK3CA",
           6,
           "MET"
          ]
         ],
         "hoverlabel": {
          "namelength": 0
         },
         "hovertemplate": "Drug_Putative_Target=%{customdata[2]}<br>SE=%{x}<br>-logP=%{y}<br>F1=%{customdata[0]}<br>F2=%{customdata[1]}",
         "legendgroup": "MET",
         "marker": {
          "color": "#636efa",
          "symbol": "circle"
         },
         "mode": "markers",
         "name": "MET",
         "showlegend": true,
         "type": "scatter",
         "x": [
          -0.4238948586420177,
          0.2211721067965924,
          1.187166361699289,
          0.5610406450561112
         ],
         "xaxis": "x",
         "y": [
          1.4249278975755295,
          0.7516778921630423,
          3.035774100786577,
          0.962480814272858
         ],
         "yaxis": "y"
        },
        {
         "customdata": [
          [
           "TP53",
           309,
           "ROCK"
          ],
          [
           "PIK3CA",
           309,
           "ROCK"
          ]
         ],
         "hoverlabel": {
          "namelength": 0
         },
         "hovertemplate": "Drug_Putative_Target=%{customdata[2]}<br>SE=%{x}<br>-logP=%{y}<br>F1=%{customdata[0]}<br>F2=%{customdata[1]}",
         "legendgroup": "ROCK",
         "marker": {
          "color": "#EF553B",
          "symbol": "circle"
         },
         "mode": "markers",
         "name": "ROCK",
         "showlegend": true,
         "type": "scatter",
         "x": [
          -0.3231980715055488,
          0.49737004362194204
         ],
         "xaxis": "x",
         "y": [
          0.9879175608542732,
          2.288094773524296
         ],
         "yaxis": "y"
        },
        {
         "customdata": [
          [
           "TP53",
           310,
           "FYV1"
          ],
          [
           "PIK3CA",
           310,
           "FYV1"
          ]
         ],
         "hoverlabel": {
          "namelength": 0
         },
         "hovertemplate": "Drug_Putative_Target=%{customdata[2]}<br>SE=%{x}<br>-logP=%{y}<br>F1=%{customdata[0]}<br>F2=%{customdata[1]}",
         "legendgroup": "FYV1",
         "marker": {
          "color": "#00cc96",
          "symbol": "circle"
         },
         "mode": "markers",
         "name": "FYV1",
         "showlegend": true,
         "type": "scatter",
         "x": [
          -0.3174837745884886,
          -0.15676481994072075
         ],
         "xaxis": "x",
         "y": [
          0.9651239197531956,
          0.4937103906742426
         ],
         "yaxis": "y"
        },
        {
         "customdata": [
          [
           "TP53",
           312,
           "VEGFR"
          ],
          [
           "PIK3CA",
           312,
           "VEGFR"
          ]
         ],
         "hoverlabel": {
          "namelength": 0
         },
         "hovertemplate": "Drug_Putative_Target=%{customdata[2]}<br>SE=%{x}<br>-logP=%{y}<br>F1=%{customdata[0]}<br>F2=%{customdata[1]}",
         "legendgroup": "VEGFR",
         "marker": {
          "color": "#ab63fa",
          "symbol": "circle"
         },
         "mode": "markers",
         "name": "VEGFR",
         "showlegend": true,
         "type": "scatter",
         "x": [
          0.43272036216744814,
          0.32244726663308626
         ],
         "xaxis": "x",
         "y": [
          1.4602354849825907,
          1.1960923028325705
         ],
         "yaxis": "y"
        },
        {
         "customdata": [
          [
           "PIK3CA",
           32,
           "AURKA, AURKB, AURKC, FLT3, ABL1, JAK2"
          ]
         ],
         "hoverlabel": {
          "namelength": 0
         },
         "hovertemplate": "Drug_Putative_Target=%{customdata[2]}<br>SE=%{x}<br>-logP=%{y}<br>F1=%{customdata[0]}<br>F2=%{customdata[1]}",
         "legendgroup": "AURKA, AURKB, AURKC, FLT3, ABL1, JAK2",
         "marker": {
          "color": "#FFA15A",
          "symbol": "circle"
         },
         "mode": "markers",
         "name": "AURKA, AURKB, AURKC, FLT3, ABL1, JAK2",
         "showlegend": true,
         "type": "scatter",
         "x": [
          0.13875731793617224
         ],
         "xaxis": "x",
         "y": [
          0.17442145875601126
         ],
         "yaxis": "y"
        },
        {
         "customdata": [
          [
           "TP53",
           326,
           "AKT"
          ],
          [
           "PIK3CA",
           326,
           "AKT"
          ]
         ],
         "hoverlabel": {
          "namelength": 0
         },
         "hovertemplate": "Drug_Putative_Target=%{customdata[2]}<br>SE=%{x}<br>-logP=%{y}<br>F1=%{customdata[0]}<br>F2=%{customdata[1]}",
         "legendgroup": "AKT",
         "marker": {
          "color": "#19d3f3",
          "symbol": "circle"
         },
         "mode": "markers",
         "name": "AKT",
         "showlegend": true,
         "type": "scatter",
         "x": [
          -0.18179115129312587,
          -0.7569435611756532
         ],
         "xaxis": "x",
         "y": [
          0.48127782822967,
          4.359075057751369
         ],
         "yaxis": "y"
        },
        {
         "customdata": [
          [
           "TP53",
           329,
           "DDR1"
          ],
          [
           "PIK3CA",
           329,
           "DDR1"
          ]
         ],
         "hoverlabel": {
          "namelength": 0
         },
         "hovertemplate": "Drug_Putative_Target=%{customdata[2]}<br>SE=%{x}<br>-logP=%{y}<br>F1=%{customdata[0]}<br>F2=%{customdata[1]}",
         "legendgroup": "DDR1",
         "marker": {
          "color": "#FF6692",
          "symbol": "circle"
         },
         "mode": "markers",
         "name": "DDR1",
         "showlegend": true,
         "type": "scatter",
         "x": [
          0.3145011999402654,
          0.07215816934558031
         ],
         "xaxis": "x",
         "y": [
          0.9494060760244578,
          0.2003266408952676
         ],
         "yaxis": "y"
        },
        {
         "customdata": [
          [
           "TP53",
           330,
           "RIPK"
          ],
          [
           "PIK3CA",
           330,
           "RIPK"
          ]
         ],
         "hoverlabel": {
          "namelength": 0
         },
         "hovertemplate": "Drug_Putative_Target=%{customdata[2]}<br>SE=%{x}<br>-logP=%{y}<br>F1=%{customdata[0]}<br>F2=%{customdata[1]}",
         "legendgroup": "RIPK",
         "marker": {
          "color": "#B6E880",
          "symbol": "circle"
         },
         "mode": "markers",
         "name": "RIPK",
         "showlegend": true,
         "type": "scatter",
         "x": [
          -0.1307036552869441,
          -0.04417118232253363
         ],
         "xaxis": "x",
         "y": [
          0.3283537387338969,
          0.11846288924235035
         ],
         "yaxis": "y"
        },
        {
         "customdata": [
          [
           "TP53",
           331,
           "MNK2, PRKDC (DNAPK), MTOR, BTK, JAK3"
          ],
          [
           "PIK3CA",
           331,
           "MNK2, PRKDC (DNAPK), MTOR, BTK, JAK3"
          ]
         ],
         "hoverlabel": {
          "namelength": 0
         },
         "hovertemplate": "Drug_Putative_Target=%{customdata[2]}<br>SE=%{x}<br>-logP=%{y}<br>F1=%{customdata[0]}<br>F2=%{customdata[1]}",
         "legendgroup": "MNK2, PRKDC (DNAPK), MTOR, BTK, JAK3",
         "marker": {
          "color": "#FF97FF",
          "symbol": "circle"
         },
         "mode": "markers",
         "name": "MNK2, PRKDC (DNAPK), MTOR, BTK, JAK3",
         "showlegend": true,
         "type": "scatter",
         "x": [
          -0.09040687412882653,
          -0.2923934683535259
         ],
         "xaxis": "x",
         "y": [
          0.21775045123773729,
          1.0493230031677132
         ],
         "yaxis": "y"
        },
        {
         "customdata": [
          [
           "TP53",
           332,
           "CAMK2B, CLK2, DYRK1A, MAST1, STK39"
          ],
          [
           "PIK3CA",
           332,
           "CAMK2B, CLK2, DYRK1A, MAST1, STK39"
          ]
         ],
         "hoverlabel": {
          "namelength": 0
         },
         "hovertemplate": "Drug_Putative_Target=%{customdata[2]}<br>SE=%{x}<br>-logP=%{y}<br>F1=%{customdata[0]}<br>F2=%{customdata[1]}",
         "legendgroup": "CAMK2B, CLK2, DYRK1A, MAST1, STK39",
         "marker": {
          "color": "#FECB52",
          "symbol": "circle"
         },
         "mode": "markers",
         "name": "CAMK2B, CLK2, DYRK1A, MAST1, STK39",
         "showlegend": true,
         "type": "scatter",
         "x": [
          0.3691991459668675,
          0.08772838204728706
         ],
         "xaxis": "x",
         "y": [
          1.1741975429084237,
          0.24823261444354885
         ],
         "yaxis": "y"
        },
        {
         "customdata": [
          [
           "TP53",
           333,
           "LXR"
          ],
          [
           "PIK3CA",
           333,
           "LXR"
          ]
         ],
         "hoverlabel": {
          "namelength": 0
         },
         "hovertemplate": "Drug_Putative_Target=%{customdata[2]}<br>SE=%{x}<br>-logP=%{y}<br>F1=%{customdata[0]}<br>F2=%{customdata[1]}",
         "legendgroup": "LXR",
         "marker": {
          "color": "#636efa",
          "symbol": "circle"
         },
         "mode": "markers",
         "name": "LXR",
         "showlegend": true,
         "type": "scatter",
         "x": [
          0.4174313674311538,
          -0.01420146466128758
         ],
         "xaxis": "x",
         "y": [
          1.3888654794570312,
          0.03668467279583811
         ],
         "yaxis": "y"
        },
        {
         "customdata": [
          [
           "TP53",
           34,
           "ABL, KIT, PDGFR"
          ],
          [
           "PIK3CA",
           34,
           "ABL, KIT, PDGFR"
          ]
         ],
         "hoverlabel": {
          "namelength": 0
         },
         "hovertemplate": "Drug_Putative_Target=%{customdata[2]}<br>SE=%{x}<br>-logP=%{y}<br>F1=%{customdata[0]}<br>F2=%{customdata[1]}",
         "legendgroup": "ABL, KIT, PDGFR",
         "marker": {
          "color": "#EF553B",
          "symbol": "circle"
         },
         "mode": "markers",
         "name": "ABL, KIT, PDGFR",
         "showlegend": true,
         "type": "scatter",
         "x": [
          1.5201581463981857,
          1.0131077114803857
         ],
         "xaxis": "x",
         "y": [
          5.010132734769189,
          2.304051538620369
         ],
         "yaxis": "y"
        },
        {
         "customdata": [
          [
           "TP53",
           341,
           "SIRT1"
          ],
          [
           "PIK3CA",
           341,
           "SIRT1"
          ]
         ],
         "hoverlabel": {
          "namelength": 0
         },
         "hovertemplate": "Drug_Putative_Target=%{customdata[2]}<br>SE=%{x}<br>-logP=%{y}<br>F1=%{customdata[0]}<br>F2=%{customdata[1]}",
         "legendgroup": "SIRT1",
         "marker": {
          "color": "#00cc96",
          "symbol": "circle"
         },
         "mode": "markers",
         "name": "SIRT1",
         "showlegend": true,
         "type": "scatter",
         "x": [
          0.3360529622486624,
          0.027268824023288105
         ],
         "xaxis": "x",
         "y": [
          1.0399628284386786,
          0.07314537270681752
         ],
         "yaxis": "y"
        },
        {
         "customdata": [
          [
           "TP53",
           346,
           "CDK7"
          ],
          [
           "PIK3CA",
           346,
           "CDK7"
          ]
         ],
         "hoverlabel": {
          "namelength": 0
         },
         "hovertemplate": "Drug_Putative_Target=%{customdata[2]}<br>SE=%{x}<br>-logP=%{y}<br>F1=%{customdata[0]}<br>F2=%{customdata[1]}",
         "legendgroup": "CDK7",
         "marker": {
          "color": "#ab63fa",
          "symbol": "circle"
         },
         "mode": "markers",
         "name": "CDK7",
         "showlegend": true,
         "type": "scatter",
         "x": [
          -0.8473507672029894,
          0.4249409495450705
         ],
         "xaxis": "x",
         "y": [
          4.114946521775595,
          1.81167910002297
         ],
         "yaxis": "y"
        },
        {
         "customdata": [
          [
           "TP53",
           37,
           "MET, ALK"
          ],
          [
           "PIK3CA",
           37,
           "MET, ALK"
          ]
         ],
         "hoverlabel": {
          "namelength": 0
         },
         "hovertemplate": "Drug_Putative_Target=%{customdata[2]}<br>SE=%{x}<br>-logP=%{y}<br>F1=%{customdata[0]}<br>F2=%{customdata[1]}",
         "legendgroup": "MET, ALK",
         "marker": {
          "color": "#FFA15A",
          "symbol": "circle"
         },
         "mode": "markers",
         "name": "MET, ALK",
         "showlegend": true,
         "type": "scatter",
         "x": [
          0.43227331146124,
          0.29105488177083344
         ],
         "xaxis": "x",
         "y": [
          0.6862306858306952,
          0.42447793221761615
         ],
         "yaxis": "y"
        },
        {
         "customdata": [
          [
           "TP53",
           38,
           "SRC, ABL1"
          ],
          [
           "PIK3CA",
           38,
           "SRC, ABL1"
          ]
         ],
         "hoverlabel": {
          "namelength": 0
         },
         "hovertemplate": "Drug_Putative_Target=%{customdata[2]}<br>SE=%{x}<br>-logP=%{y}<br>F1=%{customdata[0]}<br>F2=%{customdata[1]}",
         "legendgroup": "SRC, ABL1",
         "marker": {
          "color": "#19d3f3",
          "symbol": "circle"
         },
         "mode": "markers",
         "name": "SRC, ABL1",
         "showlegend": true,
         "type": "scatter",
         "x": [
          0.6931151492925605,
          0.6059213284367199
         ],
         "xaxis": "x",
         "y": [
          1.28848251713315,
          1.068110862539814
         ],
         "yaxis": "y"
        },
        {
         "customdata": [
          [
           "PIK3CA",
           51,
           "ABL, SRC, KIT, PDGFR"
          ]
         ],
         "hoverlabel": {
          "namelength": 0
         },
         "hovertemplate": "Drug_Putative_Target=%{customdata[2]}<br>SE=%{x}<br>-logP=%{y}<br>F1=%{customdata[0]}<br>F2=%{customdata[1]}",
         "legendgroup": "ABL, SRC, KIT, PDGFR",
         "marker": {
          "color": "#FF6692",
          "symbol": "circle"
         },
         "mode": "markers",
         "name": "ABL, SRC, KIT, PDGFR",
         "showlegend": true,
         "type": "scatter",
         "x": [
          0.17624153394714392
         ],
         "xaxis": "x",
         "y": [
          0.22638286568053656
         ],
         "yaxis": "y"
        },
        {
         "customdata": [
          [
           "PIK3CA",
           52,
           "ABL [T315I]"
          ]
         ],
         "hoverlabel": {
          "namelength": 0
         },
         "hovertemplate": "Drug_Putative_Target=%{customdata[2]}<br>SE=%{x}<br>-logP=%{y}<br>F1=%{customdata[0]}<br>F2=%{customdata[1]}",
         "legendgroup": "ABL [T315I]",
         "marker": {
          "color": "#B6E880",
          "symbol": "circle"
         },
         "mode": "markers",
         "name": "ABL [T315I]",
         "showlegend": true,
         "type": "scatter",
         "x": [
          0.3717916510111928
         ],
         "xaxis": "x",
         "y": [
          0.5346580993555407
         ],
         "yaxis": "y"
        },
        {
         "customdata": [
          [
           "PIK3CA",
           53,
           "CDK1,CDK2,CDK5,CDK7,CDK9"
          ]
         ],
         "hoverlabel": {
          "namelength": 0
         },
         "hovertemplate": "Drug_Putative_Target=%{customdata[2]}<br>SE=%{x}<br>-logP=%{y}<br>F1=%{customdata[0]}<br>F2=%{customdata[1]}",
         "legendgroup": "CDK1,CDK2,CDK5,CDK7,CDK9",
         "marker": {
          "color": "#FF97FF",
          "symbol": "circle"
         },
         "mode": "markers",
         "name": "CDK1,CDK2,CDK5,CDK7,CDK9",
         "showlegend": true,
         "type": "scatter",
         "x": [
          1.0486771244404585
         ],
         "xaxis": "x",
         "y": [
          2.2796536402626644
         ],
         "yaxis": "y"
        },
        {
         "customdata": [
          [
           "PIK3CA",
           54,
           "CDK4"
          ]
         ],
         "hoverlabel": {
          "namelength": 0
         },
         "hovertemplate": "Drug_Putative_Target=%{customdata[2]}<br>SE=%{x}<br>-logP=%{y}<br>F1=%{customdata[0]}<br>F2=%{customdata[1]}",
         "legendgroup": "CDK4",
         "marker": {
          "color": "#FECB52",
          "symbol": "circle"
         },
         "mode": "markers",
         "name": "CDK4",
         "showlegend": true,
         "type": "scatter",
         "x": [
          0.4051836390990455
         ],
         "xaxis": "x",
         "y": [
          0.594071207132379
         ],
         "yaxis": "y"
        },
        {
         "customdata": [
          [
           "PIK3CA",
           55,
           "SRC family"
          ]
         ],
         "hoverlabel": {
          "namelength": 0
         },
         "hovertemplate": "Drug_Putative_Target=%{customdata[2]}<br>SE=%{x}<br>-logP=%{y}<br>F1=%{customdata[0]}<br>F2=%{customdata[1]}",
         "legendgroup": "SRC family",
         "marker": {
          "color": "#636efa",
          "symbol": "circle"
         },
         "mode": "markers",
         "name": "SRC family",
         "showlegend": true,
         "type": "scatter",
         "x": [
          0.4612676581783433
         ],
         "xaxis": "x",
         "y": [
          0.6987304609096326
         ],
         "yaxis": "y"
        },
        {
         "customdata": [
          [
           "PIK3CA",
           56,
           "SRC family, ABL"
          ]
         ],
         "hoverlabel": {
          "namelength": 0
         },
         "hovertemplate": "Drug_Putative_Target=%{customdata[2]}<br>SE=%{x}<br>-logP=%{y}<br>F1=%{customdata[0]}<br>F2=%{customdata[1]}",
         "legendgroup": "SRC family, ABL",
         "marker": {
          "color": "#EF553B",
          "symbol": "circle"
         },
         "mode": "markers",
         "name": "SRC family, ABL",
         "showlegend": true,
         "type": "scatter",
         "x": [
          0.5143889198164415
         ],
         "xaxis": "x",
         "y": [
          0.8037760416978683
         ],
         "yaxis": "y"
        },
        {
         "customdata": [
          [
           "PIK3CA",
           59,
           "BMX"
          ]
         ],
         "hoverlabel": {
          "namelength": 0
         },
         "hovertemplate": "Drug_Putative_Target=%{customdata[2]}<br>SE=%{x}<br>-logP=%{y}<br>F1=%{customdata[0]}<br>F2=%{customdata[1]}",
         "legendgroup": "BMX",
         "marker": {
          "color": "#00cc96",
          "symbol": "circle"
         },
         "mode": "markers",
         "name": "BMX",
         "showlegend": true,
         "type": "scatter",
         "x": [
          -0.6193844699440596
         ],
         "xaxis": "x",
         "y": [
          1.0296987560936124
         ],
         "yaxis": "y"
        },
        {
         "customdata": [
          [
           "PIK3CA",
           60,
           "PLK1, PLK2, PLK3"
          ]
         ],
         "hoverlabel": {
          "namelength": 0
         },
         "hovertemplate": "Drug_Putative_Target=%{customdata[2]}<br>SE=%{x}<br>-logP=%{y}<br>F1=%{customdata[0]}<br>F2=%{customdata[1]}",
         "legendgroup": "PLK1, PLK2, PLK3",
         "marker": {
          "color": "#ab63fa",
          "symbol": "circle"
         },
         "mode": "markers",
         "name": "PLK1, PLK2, PLK3",
         "showlegend": true,
         "type": "scatter",
         "x": [
          0.014663281042141424
         ],
         "xaxis": "x",
         "y": [
          0.01715607302803989
         ],
         "yaxis": "y"
        },
        {
         "customdata": [
          [
           "PIK3CA",
           63,
           "ITK"
          ]
         ],
         "hoverlabel": {
          "namelength": 0
         },
         "hovertemplate": "Drug_Putative_Target=%{customdata[2]}<br>SE=%{x}<br>-logP=%{y}<br>F1=%{customdata[0]}<br>F2=%{customdata[1]}",
         "legendgroup": "ITK",
         "marker": {
          "color": "#FFA15A",
          "symbol": "circle"
         },
         "mode": "markers",
         "name": "ITK",
         "showlegend": true,
         "type": "scatter",
         "x": [
          0.380515395759108
         ],
         "xaxis": "x",
         "y": [
          0.5499766609033654
         ],
         "yaxis": "y"
        },
        {
         "customdata": [
          [
           "PIK3CA",
           87,
           "PLK1"
          ]
         ],
         "hoverlabel": {
          "namelength": 0
         },
         "hovertemplate": "Drug_Putative_Target=%{customdata[2]}<br>SE=%{x}<br>-logP=%{y}<br>F1=%{customdata[0]}<br>F2=%{customdata[1]}",
         "legendgroup": "PLK1",
         "marker": {
          "color": "#19d3f3",
          "symbol": "circle"
         },
         "mode": "markers",
         "name": "PLK1",
         "showlegend": true,
         "type": "scatter",
         "x": [
          0.17848913014866966
         ],
         "xaxis": "x",
         "y": [
          0.22956731060361255
         ],
         "yaxis": "y"
        },
        {
         "customdata": [
          [
           "TP53",
           89,
           "NFKB1"
          ],
          [
           "PIK3CA",
           89,
           "NFKB1"
          ]
         ],
         "hoverlabel": {
          "namelength": 0
         },
         "hovertemplate": "Drug_Putative_Target=%{customdata[2]}<br>SE=%{x}<br>-logP=%{y}<br>F1=%{customdata[0]}<br>F2=%{customdata[1]}",
         "legendgroup": "NFKB1",
         "marker": {
          "color": "#FF6692",
          "symbol": "circle"
         },
         "mode": "markers",
         "name": "NFKB1",
         "showlegend": true,
         "type": "scatter",
         "x": [
          0.698118456533709,
          0.3873060314819418
         ],
         "xaxis": "x",
         "y": [
          1.3017667705773128,
          0.5984617133838674
         ],
         "yaxis": "y"
        },
        {
         "customdata": [
          [
           "TP53",
           91,
           "IKKE"
          ],
          [
           "PIK3CA",
           91,
           "IKKE"
          ]
         ],
         "hoverlabel": {
          "namelength": 0
         },
         "hovertemplate": "Drug_Putative_Target=%{customdata[2]}<br>SE=%{x}<br>-logP=%{y}<br>F1=%{customdata[0]}<br>F2=%{customdata[1]}",
         "legendgroup": "IKKE",
         "marker": {
          "color": "#B6E880",
          "symbol": "circle"
         },
         "mode": "markers",
         "name": "IKKE",
         "showlegend": true,
         "type": "scatter",
         "x": [
          -0.19781678465609207,
          0.22447632213832971
         ],
         "xaxis": "x",
         "y": [
          0.2727584538881529,
          0.3145291723184413
         ],
         "yaxis": "y"
        }
       ],
       "layout": {
        "legend": {
         "title": {
          "text": "Drug_Putative_Target"
         },
         "tracegroupgap": 0
        },
        "margin": {
         "t": 60
        },
        "template": {
         "data": {
          "bar": [
           {
            "error_x": {
             "color": "#2a3f5f"
            },
            "error_y": {
             "color": "#2a3f5f"
            },
            "marker": {
             "line": {
              "color": "#E5ECF6",
              "width": 0.5
             }
            },
            "type": "bar"
           }
          ],
          "barpolar": [
           {
            "marker": {
             "line": {
              "color": "#E5ECF6",
              "width": 0.5
             }
            },
            "type": "barpolar"
           }
          ],
          "carpet": [
           {
            "aaxis": {
             "endlinecolor": "#2a3f5f",
             "gridcolor": "white",
             "linecolor": "white",
             "minorgridcolor": "white",
             "startlinecolor": "#2a3f5f"
            },
            "baxis": {
             "endlinecolor": "#2a3f5f",
             "gridcolor": "white",
             "linecolor": "white",
             "minorgridcolor": "white",
             "startlinecolor": "#2a3f5f"
            },
            "type": "carpet"
           }
          ],
          "choropleth": [
           {
            "colorbar": {
             "outlinewidth": 0,
             "ticks": ""
            },
            "type": "choropleth"
           }
          ],
          "contour": [
           {
            "colorbar": {
             "outlinewidth": 0,
             "ticks": ""
            },
            "colorscale": [
             [
              0,
              "#0d0887"
             ],
             [
              0.1111111111111111,
              "#46039f"
             ],
             [
              0.2222222222222222,
              "#7201a8"
             ],
             [
              0.3333333333333333,
              "#9c179e"
             ],
             [
              0.4444444444444444,
              "#bd3786"
             ],
             [
              0.5555555555555556,
              "#d8576b"
             ],
             [
              0.6666666666666666,
              "#ed7953"
             ],
             [
              0.7777777777777778,
              "#fb9f3a"
             ],
             [
              0.8888888888888888,
              "#fdca26"
             ],
             [
              1,
              "#f0f921"
             ]
            ],
            "type": "contour"
           }
          ],
          "contourcarpet": [
           {
            "colorbar": {
             "outlinewidth": 0,
             "ticks": ""
            },
            "type": "contourcarpet"
           }
          ],
          "heatmap": [
           {
            "colorbar": {
             "outlinewidth": 0,
             "ticks": ""
            },
            "colorscale": [
             [
              0,
              "#0d0887"
             ],
             [
              0.1111111111111111,
              "#46039f"
             ],
             [
              0.2222222222222222,
              "#7201a8"
             ],
             [
              0.3333333333333333,
              "#9c179e"
             ],
             [
              0.4444444444444444,
              "#bd3786"
             ],
             [
              0.5555555555555556,
              "#d8576b"
             ],
             [
              0.6666666666666666,
              "#ed7953"
             ],
             [
              0.7777777777777778,
              "#fb9f3a"
             ],
             [
              0.8888888888888888,
              "#fdca26"
             ],
             [
              1,
              "#f0f921"
             ]
            ],
            "type": "heatmap"
           }
          ],
          "heatmapgl": [
           {
            "colorbar": {
             "outlinewidth": 0,
             "ticks": ""
            },
            "colorscale": [
             [
              0,
              "#0d0887"
             ],
             [
              0.1111111111111111,
              "#46039f"
             ],
             [
              0.2222222222222222,
              "#7201a8"
             ],
             [
              0.3333333333333333,
              "#9c179e"
             ],
             [
              0.4444444444444444,
              "#bd3786"
             ],
             [
              0.5555555555555556,
              "#d8576b"
             ],
             [
              0.6666666666666666,
              "#ed7953"
             ],
             [
              0.7777777777777778,
              "#fb9f3a"
             ],
             [
              0.8888888888888888,
              "#fdca26"
             ],
             [
              1,
              "#f0f921"
             ]
            ],
            "type": "heatmapgl"
           }
          ],
          "histogram": [
           {
            "marker": {
             "colorbar": {
              "outlinewidth": 0,
              "ticks": ""
             }
            },
            "type": "histogram"
           }
          ],
          "histogram2d": [
           {
            "colorbar": {
             "outlinewidth": 0,
             "ticks": ""
            },
            "colorscale": [
             [
              0,
              "#0d0887"
             ],
             [
              0.1111111111111111,
              "#46039f"
             ],
             [
              0.2222222222222222,
              "#7201a8"
             ],
             [
              0.3333333333333333,
              "#9c179e"
             ],
             [
              0.4444444444444444,
              "#bd3786"
             ],
             [
              0.5555555555555556,
              "#d8576b"
             ],
             [
              0.6666666666666666,
              "#ed7953"
             ],
             [
              0.7777777777777778,
              "#fb9f3a"
             ],
             [
              0.8888888888888888,
              "#fdca26"
             ],
             [
              1,
              "#f0f921"
             ]
            ],
            "type": "histogram2d"
           }
          ],
          "histogram2dcontour": [
           {
            "colorbar": {
             "outlinewidth": 0,
             "ticks": ""
            },
            "colorscale": [
             [
              0,
              "#0d0887"
             ],
             [
              0.1111111111111111,
              "#46039f"
             ],
             [
              0.2222222222222222,
              "#7201a8"
             ],
             [
              0.3333333333333333,
              "#9c179e"
             ],
             [
              0.4444444444444444,
              "#bd3786"
             ],
             [
              0.5555555555555556,
              "#d8576b"
             ],
             [
              0.6666666666666666,
              "#ed7953"
             ],
             [
              0.7777777777777778,
              "#fb9f3a"
             ],
             [
              0.8888888888888888,
              "#fdca26"
             ],
             [
              1,
              "#f0f921"
             ]
            ],
            "type": "histogram2dcontour"
           }
          ],
          "mesh3d": [
           {
            "colorbar": {
             "outlinewidth": 0,
             "ticks": ""
            },
            "type": "mesh3d"
           }
          ],
          "parcoords": [
           {
            "line": {
             "colorbar": {
              "outlinewidth": 0,
              "ticks": ""
             }
            },
            "type": "parcoords"
           }
          ],
          "pie": [
           {
            "automargin": true,
            "type": "pie"
           }
          ],
          "scatter": [
           {
            "marker": {
             "colorbar": {
              "outlinewidth": 0,
              "ticks": ""
             }
            },
            "type": "scatter"
           }
          ],
          "scatter3d": [
           {
            "line": {
             "colorbar": {
              "outlinewidth": 0,
              "ticks": ""
             }
            },
            "marker": {
             "colorbar": {
              "outlinewidth": 0,
              "ticks": ""
             }
            },
            "type": "scatter3d"
           }
          ],
          "scattercarpet": [
           {
            "marker": {
             "colorbar": {
              "outlinewidth": 0,
              "ticks": ""
             }
            },
            "type": "scattercarpet"
           }
          ],
          "scattergeo": [
           {
            "marker": {
             "colorbar": {
              "outlinewidth": 0,
              "ticks": ""
             }
            },
            "type": "scattergeo"
           }
          ],
          "scattergl": [
           {
            "marker": {
             "colorbar": {
              "outlinewidth": 0,
              "ticks": ""
             }
            },
            "type": "scattergl"
           }
          ],
          "scattermapbox": [
           {
            "marker": {
             "colorbar": {
              "outlinewidth": 0,
              "ticks": ""
             }
            },
            "type": "scattermapbox"
           }
          ],
          "scatterpolar": [
           {
            "marker": {
             "colorbar": {
              "outlinewidth": 0,
              "ticks": ""
             }
            },
            "type": "scatterpolar"
           }
          ],
          "scatterpolargl": [
           {
            "marker": {
             "colorbar": {
              "outlinewidth": 0,
              "ticks": ""
             }
            },
            "type": "scatterpolargl"
           }
          ],
          "scatterternary": [
           {
            "marker": {
             "colorbar": {
              "outlinewidth": 0,
              "ticks": ""
             }
            },
            "type": "scatterternary"
           }
          ],
          "surface": [
           {
            "colorbar": {
             "outlinewidth": 0,
             "ticks": ""
            },
            "colorscale": [
             [
              0,
              "#0d0887"
             ],
             [
              0.1111111111111111,
              "#46039f"
             ],
             [
              0.2222222222222222,
              "#7201a8"
             ],
             [
              0.3333333333333333,
              "#9c179e"
             ],
             [
              0.4444444444444444,
              "#bd3786"
             ],
             [
              0.5555555555555556,
              "#d8576b"
             ],
             [
              0.6666666666666666,
              "#ed7953"
             ],
             [
              0.7777777777777778,
              "#fb9f3a"
             ],
             [
              0.8888888888888888,
              "#fdca26"
             ],
             [
              1,
              "#f0f921"
             ]
            ],
            "type": "surface"
           }
          ],
          "table": [
           {
            "cells": {
             "fill": {
              "color": "#EBF0F8"
             },
             "line": {
              "color": "white"
             }
            },
            "header": {
             "fill": {
              "color": "#C8D4E3"
             },
             "line": {
              "color": "white"
             }
            },
            "type": "table"
           }
          ]
         },
         "layout": {
          "annotationdefaults": {
           "arrowcolor": "#2a3f5f",
           "arrowhead": 0,
           "arrowwidth": 1
          },
          "coloraxis": {
           "colorbar": {
            "outlinewidth": 0,
            "ticks": ""
           }
          },
          "colorscale": {
           "diverging": [
            [
             0,
             "#8e0152"
            ],
            [
             0.1,
             "#c51b7d"
            ],
            [
             0.2,
             "#de77ae"
            ],
            [
             0.3,
             "#f1b6da"
            ],
            [
             0.4,
             "#fde0ef"
            ],
            [
             0.5,
             "#f7f7f7"
            ],
            [
             0.6,
             "#e6f5d0"
            ],
            [
             0.7,
             "#b8e186"
            ],
            [
             0.8,
             "#7fbc41"
            ],
            [
             0.9,
             "#4d9221"
            ],
            [
             1,
             "#276419"
            ]
           ],
           "sequential": [
            [
             0,
             "#0d0887"
            ],
            [
             0.1111111111111111,
             "#46039f"
            ],
            [
             0.2222222222222222,
             "#7201a8"
            ],
            [
             0.3333333333333333,
             "#9c179e"
            ],
            [
             0.4444444444444444,
             "#bd3786"
            ],
            [
             0.5555555555555556,
             "#d8576b"
            ],
            [
             0.6666666666666666,
             "#ed7953"
            ],
            [
             0.7777777777777778,
             "#fb9f3a"
            ],
            [
             0.8888888888888888,
             "#fdca26"
            ],
            [
             1,
             "#f0f921"
            ]
           ],
           "sequentialminus": [
            [
             0,
             "#0d0887"
            ],
            [
             0.1111111111111111,
             "#46039f"
            ],
            [
             0.2222222222222222,
             "#7201a8"
            ],
            [
             0.3333333333333333,
             "#9c179e"
            ],
            [
             0.4444444444444444,
             "#bd3786"
            ],
            [
             0.5555555555555556,
             "#d8576b"
            ],
            [
             0.6666666666666666,
             "#ed7953"
            ],
            [
             0.7777777777777778,
             "#fb9f3a"
            ],
            [
             0.8888888888888888,
             "#fdca26"
            ],
            [
             1,
             "#f0f921"
            ]
           ]
          },
          "colorway": [
           "#636efa",
           "#EF553B",
           "#00cc96",
           "#ab63fa",
           "#FFA15A",
           "#19d3f3",
           "#FF6692",
           "#B6E880",
           "#FF97FF",
           "#FECB52"
          ],
          "font": {
           "color": "#2a3f5f"
          },
          "geo": {
           "bgcolor": "white",
           "lakecolor": "white",
           "landcolor": "#E5ECF6",
           "showlakes": true,
           "showland": true,
           "subunitcolor": "white"
          },
          "hoverlabel": {
           "align": "left"
          },
          "hovermode": "closest",
          "mapbox": {
           "style": "light"
          },
          "paper_bgcolor": "white",
          "plot_bgcolor": "#E5ECF6",
          "polar": {
           "angularaxis": {
            "gridcolor": "white",
            "linecolor": "white",
            "ticks": ""
           },
           "bgcolor": "#E5ECF6",
           "radialaxis": {
            "gridcolor": "white",
            "linecolor": "white",
            "ticks": ""
           }
          },
          "scene": {
           "xaxis": {
            "backgroundcolor": "#E5ECF6",
            "gridcolor": "white",
            "gridwidth": 2,
            "linecolor": "white",
            "showbackground": true,
            "ticks": "",
            "zerolinecolor": "white"
           },
           "yaxis": {
            "backgroundcolor": "#E5ECF6",
            "gridcolor": "white",
            "gridwidth": 2,
            "linecolor": "white",
            "showbackground": true,
            "ticks": "",
            "zerolinecolor": "white"
           },
           "zaxis": {
            "backgroundcolor": "#E5ECF6",
            "gridcolor": "white",
            "gridwidth": 2,
            "linecolor": "white",
            "showbackground": true,
            "ticks": "",
            "zerolinecolor": "white"
           }
          },
          "shapedefaults": {
           "line": {
            "color": "#2a3f5f"
           }
          },
          "ternary": {
           "aaxis": {
            "gridcolor": "white",
            "linecolor": "white",
            "ticks": ""
           },
           "baxis": {
            "gridcolor": "white",
            "linecolor": "white",
            "ticks": ""
           },
           "bgcolor": "#E5ECF6",
           "caxis": {
            "gridcolor": "white",
            "linecolor": "white",
            "ticks": ""
           }
          },
          "title": {
           "x": 0.05
          },
          "xaxis": {
           "automargin": true,
           "gridcolor": "white",
           "linecolor": "white",
           "ticks": "",
           "title": {
            "standoff": 15
           },
           "zerolinecolor": "white",
           "zerolinewidth": 2
          },
          "yaxis": {
           "automargin": true,
           "gridcolor": "white",
           "linecolor": "white",
           "ticks": "",
           "title": {
            "standoff": 15
           },
           "zerolinecolor": "white",
           "zerolinewidth": 2
          }
         }
        },
        "xaxis": {
         "anchor": "y",
         "domain": [
          0,
          1
         ],
         "title": {
          "text": "SE"
         }
        },
        "yaxis": {
         "anchor": "x",
         "domain": [
          0,
          1
         ],
         "title": {
          "text": "-logP"
         }
        }
       }
      },
      "text/html": [
       "<div>\n",
       "        \n",
       "        \n",
       "            <div id=\"7c1b4387-366d-4606-befe-b7807dd2ea77\" class=\"plotly-graph-div\" style=\"height:525px; width:100%;\"></div>\n",
       "            <script type=\"text/javascript\">\n",
       "                require([\"plotly\"], function(Plotly) {\n",
       "                    window.PLOTLYENV=window.PLOTLYENV || {};\n",
       "                    \n",
       "                if (document.getElementById(\"7c1b4387-366d-4606-befe-b7807dd2ea77\")) {\n",
       "                    Plotly.newPlot(\n",
       "                        '7c1b4387-366d-4606-befe-b7807dd2ea77',\n",
       "                        [{\"customdata\": [[\"TP53\", 1001, \"AAPK1 (AMPK) agonist\"], [\"BRAF\", 1001, \"AAPK1 (AMPK) agonist\"], [\"PIK3CA\", 1001, \"AAPK1 (AMPK) agonist\"], [\"TP53\", 196, \"AAPK1 (AMPK) agonist\"], [\"PIK3CA\", 196, \"AAPK1 (AMPK) agonist\"]], \"hoverlabel\": {\"namelength\": 0}, \"hovertemplate\": \"Drug_Putative_Target=%{customdata[2]}<br>SE=%{x}<br>-logP=%{y}<br>F1=%{customdata[0]}<br>F2=%{customdata[1]}\", \"legendgroup\": \"AAPK1 (AMPK) agonist\", \"marker\": {\"color\": \"#636efa\", \"symbol\": \"circle\"}, \"mode\": \"markers\", \"name\": \"AAPK1 (AMPK) agonist\", \"showlegend\": true, \"type\": \"scatter\", \"x\": [0.2164671889350487, 0.1836705671367028, 0.09885130145768066, 0.31631280865130235, 0.03472650429845354], \"xaxis\": \"x\", \"y\": [0.5591548756653676, 0.3104695981497278, 0.27762719543379805, 0.9604789007453842, 0.09404047737045083], \"yaxis\": \"y\"}, {\"customdata\": [[\"TP53\", 1003, \"TOP1\"], [\"BRAF\", 1003, \"TOP1\"], [\"PIK3CA\", 1003, \"TOP1\"], [\"TP53\", 1494, \"TOP1\"], [\"BRAF\", 1494, \"TOP1\"], [\"PIK3CA\", 1494, \"TOP1\"]], \"hoverlabel\": {\"namelength\": 0}, \"hovertemplate\": \"Drug_Putative_Target=%{customdata[2]}<br>SE=%{x}<br>-logP=%{y}<br>F1=%{customdata[0]}<br>F2=%{customdata[1]}\", \"legendgroup\": \"TOP1\", \"marker\": {\"color\": \"#EF553B\", \"symbol\": \"circle\"}, \"mode\": \"markers\", \"name\": \"TOP1\", \"showlegend\": true, \"type\": \"scatter\", \"x\": [0.2303200689985821, 0.23721488931129456, 0.16840761890954775, 0.3528118547802795, 0.4178007116307277, 0.021912558337805168], \"xaxis\": \"x\", \"y\": [0.6028724863027771, 0.4162839084296125, 0.5131594943757254, 1.048025493109813, 0.8336192529288543, 0.05715549747149368], \"yaxis\": \"y\"}, {\"customdata\": [[\"TP53\", 1004, \"Microtubules\"], [\"BRAF\", 1004, \"Microtubules\"], [\"PIK3CA\", 1004, \"Microtubules\"], [\"TP53\", 1007, \"Microtubules\"], [\"BRAF\", 1007, \"Microtubules\"], [\"PIK3CA\", 1007, \"Microtubules\"], [\"PIK3CA\", 11, \"Microtubules\"], [\"TP53\", 140, \"Microtubules\"], [\"PIK3CA\", 140, \"Microtubules\"], [\"TP53\", 201, \"Microtubules\"], [\"PIK3CA\", 201, \"Microtubules\"]], \"hoverlabel\": {\"namelength\": 0}, \"hovertemplate\": \"Drug_Putative_Target=%{customdata[2]}<br>SE=%{x}<br>-logP=%{y}<br>F1=%{customdata[0]}<br>F2=%{customdata[1]}\", \"legendgroup\": \"Microtubules\", \"marker\": {\"color\": \"#00cc96\", \"symbol\": \"circle\"}, \"mode\": \"markers\", \"name\": \"Microtubules\", \"showlegend\": true, \"type\": \"scatter\", \"x\": [-0.7258507100839087, 0.8441156864545071, -0.266879386558866, -0.36189787756725056, 0.5553787265646171, -0.1197894035743284, 0.36529283441450544, -0.31230131572865205, -0.018643098474157252, 0.04197457495500016, -0.1578498992363207], \"xaxis\": \"x\", \"y\": [2.9370871839329817, 2.189683788254114, 0.9088436741892346, 1.0707719070201915, 1.204763176775731, 0.344885875359196, 0.5233386463467561, 0.8901914922591299, 0.04813516740816074, 0.09211986381430988, 0.4941828416204305], \"yaxis\": \"y\"}, {\"customdata\": [[\"TP53\", 1005, \"DNA crosslinker\"], [\"BRAF\", 1005, \"DNA crosslinker\"], [\"PIK3CA\", 1005, \"DNA crosslinker\"], [\"TP53\", 136, \"DNA crosslinker\"], [\"PIK3CA\", 136, \"DNA crosslinker\"]], \"hoverlabel\": {\"namelength\": 0}, \"hovertemplate\": \"Drug_Putative_Target=%{customdata[2]}<br>SE=%{x}<br>-logP=%{y}<br>F1=%{customdata[0]}<br>F2=%{customdata[1]}\", \"legendgroup\": \"DNA crosslinker\", \"marker\": {\"color\": \"#ab63fa\", \"symbol\": \"circle\"}, \"mode\": \"markers\", \"name\": \"DNA crosslinker\", \"showlegend\": true, \"type\": \"scatter\", \"x\": [-0.38561441871278396, 0.24715375741205345, 0.3564167637637551, 0.5858697406668021, -0.3198691518102364], \"xaxis\": \"x\", \"y\": [1.1657206845516472, 0.43672576310683575, 1.3375342427282018, 2.1372636178835616, 1.2065155460055226], \"yaxis\": \"y\"}, {\"customdata\": [[\"TP53\", 1006, \"DNA synthesis\"], [\"BRAF\", 1006, \"DNA synthesis\"], [\"PIK3CA\", 1006, \"DNA synthesis\"]], \"hoverlabel\": {\"namelength\": 0}, \"hovertemplate\": \"Drug_Putative_Target=%{customdata[2]}<br>SE=%{x}<br>-logP=%{y}<br>F1=%{customdata[0]}<br>F2=%{customdata[1]}\", \"legendgroup\": \"DNA synthesis\", \"marker\": {\"color\": \"#FFA15A\", \"symbol\": \"circle\"}, \"mode\": \"markers\", \"name\": \"DNA synthesis\", \"showlegend\": true, \"type\": \"scatter\", \"x\": [0.13577959454504826, -0.32038019507329746, 0.5023153345686648], \"xaxis\": \"x\", \"y\": [0.32423405971283353, 0.5952798128192859, 2.1928137228181117], \"yaxis\": \"y\"}, {\"customdata\": [[\"TP53\", 1008, \"Dihydrofolate reductase (DHFR)\"], [\"BRAF\", 1008, \"Dihydrofolate reductase (DHFR)\"], [\"PIK3CA\", 1008, \"Dihydrofolate reductase (DHFR)\"], [\"TP53\", 71, \"Dihydrofolate reductase (DHFR)\"], [\"PIK3CA\", 71, \"Dihydrofolate reductase (DHFR)\"]], \"hoverlabel\": {\"namelength\": 0}, \"hovertemplate\": \"Drug_Putative_Target=%{customdata[2]}<br>SE=%{x}<br>-logP=%{y}<br>F1=%{customdata[0]}<br>F2=%{customdata[1]}\", \"legendgroup\": \"Dihydrofolate reductase (DHFR)\", \"marker\": {\"color\": \"#19d3f3\", \"symbol\": \"circle\"}, \"mode\": \"markers\", \"name\": \"Dihydrofolate reductase (DHFR)\", \"showlegend\": true, \"type\": \"scatter\", \"x\": [0.2838913437485846, -0.2630463638583418, 0.30649077822134657, 0.49668017885963106, 0.9666100174314766], \"xaxis\": \"x\", \"y\": [0.7816635758681034, 0.4699424460402954, 1.090036808592457, 0.8196199205877773, 2.1328866976840217], \"yaxis\": \"y\"}, {\"customdata\": [[\"TP53\", 1009, \"Retinoic acid and retinoid X receptor agonist\"], [\"BRAF\", 1009, \"Retinoic acid and retinoid X receptor agonist\"], [\"PIK3CA\", 1009, \"Retinoic acid and retinoid X receptor agonist\"]], \"hoverlabel\": {\"namelength\": 0}, \"hovertemplate\": \"Drug_Putative_Target=%{customdata[2]}<br>SE=%{x}<br>-logP=%{y}<br>F1=%{customdata[0]}<br>F2=%{customdata[1]}\", \"legendgroup\": \"Retinoic acid and retinoid X receptor agonist\", \"marker\": {\"color\": \"#FF6692\", \"symbol\": \"circle\"}, \"mode\": \"markers\", \"name\": \"Retinoic acid and retinoid X receptor agonist\", \"showlegend\": true, \"type\": \"scatter\", \"x\": [0.2932537463584444, 0.2172881315521388, -0.10923780705740864], \"xaxis\": \"x\", \"y\": [0.8145306725904617, 0.3760597656877949, 0.31060727205798805], \"yaxis\": \"y\"}, {\"customdata\": [[\"TP53\", 1010, \"EGFR\"], [\"BRAF\", 1010, \"EGFR\"], [\"PIK3CA\", 1010, \"EGFR\"], [\"TP53\", 1114, \"EGFR\"], [\"PIK3CA\", 1114, \"EGFR\"], [\"TP53\", 282, \"EGFR\"], [\"PIK3CA\", 282, \"EGFR\"]], \"hoverlabel\": {\"namelength\": 0}, \"hovertemplate\": \"Drug_Putative_Target=%{customdata[2]}<br>SE=%{x}<br>-logP=%{y}<br>F1=%{customdata[0]}<br>F2=%{customdata[1]}\", \"legendgroup\": \"EGFR\", \"marker\": {\"color\": \"#B6E880\", \"symbol\": \"circle\"}, \"mode\": \"markers\", \"name\": \"EGFR\", \"showlegend\": true, \"type\": \"scatter\", \"x\": [0.2013495911037234, 0.3854868648679641, 0.05289068407648172, -0.03312962093982305, 0.11299286749446745, -0.2048242710365078, -0.14417454029621854], \"xaxis\": \"x\", \"y\": [0.5125989295437111, 0.7483540230961332, 0.1405526791098737, 0.06808055031308498, 0.3227163139825026, 0.5550301852680145, 0.4365837803343101], \"yaxis\": \"y\"}, {\"customdata\": [[\"TP53\", 1011, \"BCL2, BCL2L1, BCL2L2\"], [\"BRAF\", 1011, \"BCL2, BCL2L1, BCL2L2\"], [\"PIK3CA\", 1011, \"BCL2, BCL2L1, BCL2L2\"]], \"hoverlabel\": {\"namelength\": 0}, \"hovertemplate\": \"Drug_Putative_Target=%{customdata[2]}<br>SE=%{x}<br>-logP=%{y}<br>F1=%{customdata[0]}<br>F2=%{customdata[1]}\", \"legendgroup\": \"BCL2, BCL2L1, BCL2L2\", \"marker\": {\"color\": \"#FF97FF\", \"symbol\": \"circle\"}, \"mode\": \"markers\", \"name\": \"BCL2, BCL2L1, BCL2L2\", \"showlegend\": true, \"type\": \"scatter\", \"x\": [0.020628357718394826, 0.5756926367372082, 0.6979234378716055], \"xaxis\": \"x\", \"y\": [0.04159864334917062, 1.259423654919272, 3.5301510352871652], \"yaxis\": \"y\"}, {\"customdata\": [[\"TP53\", 1012, \"HDAC inhibitor Class I, IIa, IIb, IV\"], [\"BRAF\", 1012, \"HDAC inhibitor Class I, IIa, IIb, IV\"], [\"PIK3CA\", 1012, \"HDAC inhibitor Class I, IIa, IIb, IV\"]], \"hoverlabel\": {\"namelength\": 0}, \"hovertemplate\": \"Drug_Putative_Target=%{customdata[2]}<br>SE=%{x}<br>-logP=%{y}<br>F1=%{customdata[0]}<br>F2=%{customdata[1]}\", \"legendgroup\": \"HDAC inhibitor Class I, IIa, IIb, IV\", \"marker\": {\"color\": \"#FECB52\", \"symbol\": \"circle\"}, \"mode\": \"markers\", \"name\": \"HDAC inhibitor Class I, IIa, IIb, IV\", \"showlegend\": true, \"type\": \"scatter\", \"x\": [0.3109974004804897, -0.03283972995676917, 0.17007907590403465], \"xaxis\": \"x\", \"y\": [0.8781726150411341, 0.0498045977970342, 0.5192527668856798], \"yaxis\": \"y\"}, {\"customdata\": [[\"TP53\", 1013, \"ABL\"], [\"BRAF\", 1013, \"ABL\"], [\"PIK3CA\", 1013, \"ABL\"], [\"TP53\", 155, \"ABL\"], [\"PIK3CA\", 155, \"ABL\"]], \"hoverlabel\": {\"namelength\": 0}, \"hovertemplate\": \"Drug_Putative_Target=%{customdata[2]}<br>SE=%{x}<br>-logP=%{y}<br>F1=%{customdata[0]}<br>F2=%{customdata[1]}\", \"legendgroup\": \"ABL\", \"marker\": {\"color\": \"#636efa\", \"symbol\": \"circle\"}, \"mode\": \"markers\", \"name\": \"ABL\", \"showlegend\": true, \"type\": \"scatter\", \"x\": [0.33988173156329604, -0.24373141994259745, 0.4833862916669237, 0.40131446881145455, 0.2770893732786763], \"xaxis\": \"x\", \"y\": [0.9090884130388078, 0.4248381752343169, 1.8816503258182289, 1.2409388533821315, 0.970192837232804], \"yaxis\": \"y\"}, {\"customdata\": [[\"TP53\", 1014, \"MAP2K1 (MEK1), MAP2K2 (MEK2)\"], [\"BRAF\", 1014, \"MAP2K1 (MEK1), MAP2K2 (MEK2)\"], [\"PIK3CA\", 1014, \"MAP2K1 (MEK1), MAP2K2 (MEK2)\"], [\"TP53\", 1015, \"MAP2K1 (MEK1), MAP2K2 (MEK2)\"], [\"BRAF\", 1015, \"MAP2K1 (MEK1), MAP2K2 (MEK2)\"], [\"PIK3CA\", 1015, \"MAP2K1 (MEK1), MAP2K2 (MEK2)\"], [\"TP53\", 1060, \"MAP2K1 (MEK1), MAP2K2 (MEK2)\"], [\"BRAF\", 1060, \"MAP2K1 (MEK1), MAP2K2 (MEK2)\"], [\"PIK3CA\", 1060, \"MAP2K1 (MEK1), MAP2K2 (MEK2)\"], [\"TP53\", 1062, \"MAP2K1 (MEK1), MAP2K2 (MEK2)\"], [\"BRAF\", 1062, \"MAP2K1 (MEK1), MAP2K2 (MEK2)\"], [\"PIK3CA\", 1062, \"MAP2K1 (MEK1), MAP2K2 (MEK2)\"], [\"TP53\", 1372, \"MAP2K1 (MEK1), MAP2K2 (MEK2)\"], [\"BRAF\", 1372, \"MAP2K1 (MEK1), MAP2K2 (MEK2)\"], [\"PIK3CA\", 1372, \"MAP2K1 (MEK1), MAP2K2 (MEK2)\"], [\"TP53\", 1498, \"MAP2K1 (MEK1), MAP2K2 (MEK2)\"], [\"BRAF\", 1498, \"MAP2K1 (MEK1), MAP2K2 (MEK2)\"], [\"PIK3CA\", 1498, \"MAP2K1 (MEK1), MAP2K2 (MEK2)\"], [\"TP53\", 1526, \"MAP2K1 (MEK1), MAP2K2 (MEK2)\"], [\"PIK3CA\", 1526, \"MAP2K1 (MEK1), MAP2K2 (MEK2)\"]], \"hoverlabel\": {\"namelength\": 0}, \"hovertemplate\": \"Drug_Putative_Target=%{customdata[2]}<br>SE=%{x}<br>-logP=%{y}<br>F1=%{customdata[0]}<br>F2=%{customdata[1]}\", \"legendgroup\": \"MAP2K1 (MEK1), MAP2K2 (MEK2)\", \"marker\": {\"color\": \"#EF553B\", \"symbol\": \"circle\"}, \"mode\": \"markers\", \"name\": \"MAP2K1 (MEK1), MAP2K2 (MEK2)\", \"showlegend\": true, \"type\": \"scatter\", \"x\": [-0.13757128435055285, -0.6948969941125357, 0.4560853436431832, 0.3915269153117749, -0.8858515305708566, 0.3373621196792346, 0.02919449018670003, -0.7294113590167515, 0.5842705101126385, -0.24294576952016575, -0.06957230983508443, 0.0429825786501618, -0.012158310133068577, -0.6665681454714281, 0.31783015941868525, 0.14119742694865225, -0.6513579280925361, 0.3644084918696247, 0.2579701952358781, 0.4258619307762863], \"xaxis\": \"x\", \"y\": [0.3104200723791245, 1.6383815280830163, 1.8235456314623903, 1.1899181874450646, 2.35607140084786, 1.2405010504706908, 0.05936894774871836, 1.7568156463067428, 2.650984406047576, 0.6017383111911855, 0.10774713713268146, 0.10685910822886946, 0.025706080336789297, 1.5544057387464023, 1.1543347816839198, 0.3402685863433288, 1.5045783775330324, 1.3915369311199564, 0.6554637177732044, 1.719129308477169], \"yaxis\": \"y\"}, {\"customdata\": [[\"TP53\", 1016, \"MTOR\"], [\"BRAF\", 1016, \"MTOR\"], [\"PIK3CA\", 1016, \"MTOR\"], [\"TP53\", 3, \"MTOR\"], [\"PIK3CA\", 3, \"MTOR\"], [\"PIK3CA\", 83, \"MTOR\"]], \"hoverlabel\": {\"namelength\": 0}, \"hovertemplate\": \"Drug_Putative_Target=%{customdata[2]}<br>SE=%{x}<br>-logP=%{y}<br>F1=%{customdata[0]}<br>F2=%{customdata[1]}\", \"legendgroup\": \"MTOR\", \"marker\": {\"color\": \"#00cc96\", \"symbol\": \"circle\"}, \"mode\": \"markers\", \"name\": \"MTOR\", \"showlegend\": true, \"type\": \"scatter\", \"x\": [-0.08757790226834017, 0.2955691013527655, -0.07738756300953208, 0.4854231381775856, -0.0603566788979512, 0.5020362209517462], \"xaxis\": \"x\", \"y\": [0.199312534347044, 0.5399719153639282, 0.21183408507064236, 0.7956329377424388, 0.07657821098053158, 0.7788177188135955], \"yaxis\": \"y\"}, {\"customdata\": [[\"TP53\", 1017, \"PARP1, PARP2\"], [\"BRAF\", 1017, \"PARP1, PARP2\"], [\"PIK3CA\", 1017, \"PARP1, PARP2\"], [\"TP53\", 1018, \"PARP1, PARP2\"], [\"BRAF\", 1018, \"PARP1, PARP2\"], [\"PIK3CA\", 1018, \"PARP1, PARP2\"], [\"TP53\", 1175, \"PARP1, PARP2\"], [\"BRAF\", 1175, \"PARP1, PARP2\"], [\"PIK3CA\", 1175, \"PARP1, PARP2\"], [\"TP53\", 1495, \"PARP1, PARP2\"], [\"BRAF\", 1495, \"PARP1, PARP2\"], [\"PIK3CA\", 1495, \"PARP1, PARP2\"]], \"hoverlabel\": {\"namelength\": 0}, \"hovertemplate\": \"Drug_Putative_Target=%{customdata[2]}<br>SE=%{x}<br>-logP=%{y}<br>F1=%{customdata[0]}<br>F2=%{customdata[1]}\", \"legendgroup\": \"PARP1, PARP2\", \"marker\": {\"color\": \"#ab63fa\", \"symbol\": \"circle\"}, \"mode\": \"markers\", \"name\": \"PARP1, PARP2\", \"showlegend\": true, \"type\": \"scatter\", \"x\": [0.4971445793554566, 0.018596610972321133, -0.08478784873503731, 0.3727864808626999, 0.027262459267936856, 0.16086792456775093, 0.3459078778258412, -0.09291286526018884, -0.17192589580940304, -0.10685414044745913, 0.3613419096219465, -0.1236289732459075], \"xaxis\": \"x\", \"y\": [1.6589255940962508, 0.027909758764933214, 0.2341620926772423, 1.113946231552215, 0.041177142123152, 0.4859317951375473, 0.9429985536266614, 0.1466407866212367, 0.508468048125255, 0.24884745213140155, 0.6916316387683646, 0.36026043170443217], \"yaxis\": \"y\"}, {\"customdata\": [[\"TP53\", 1019, \"SRC, ABL, TEC\"], [\"BRAF\", 1019, \"SRC, ABL, TEC\"], [\"PIK3CA\", 1019, \"SRC, ABL, TEC\"]], \"hoverlabel\": {\"namelength\": 0}, \"hovertemplate\": \"Drug_Putative_Target=%{customdata[2]}<br>SE=%{x}<br>-logP=%{y}<br>F1=%{customdata[0]}<br>F2=%{customdata[1]}\", \"legendgroup\": \"SRC, ABL, TEC\", \"marker\": {\"color\": \"#FFA15A\", \"symbol\": \"circle\"}, \"mode\": \"markers\", \"name\": \"SRC, ABL, TEC\", \"showlegend\": true, \"type\": \"scatter\", \"x\": [0.1201919801851552, -0.2254551289213639, 0.07927978473924559], \"xaxis\": \"x\", \"y\": [0.2826102121919244, 0.3924234911570115, 0.2175078415997308], \"yaxis\": \"y\"}, {\"customdata\": [[\"TP53\", 1020, \"TNFA\"], [\"BRAF\", 1020, \"TNFA\"], [\"PIK3CA\", 1020, \"TNFA\"]], \"hoverlabel\": {\"namelength\": 0}, \"hovertemplate\": \"Drug_Putative_Target=%{customdata[2]}<br>SE=%{x}<br>-logP=%{y}<br>F1=%{customdata[0]}<br>F2=%{customdata[1]}\", \"legendgroup\": \"TNFA\", \"marker\": {\"color\": \"#19d3f3\", \"symbol\": \"circle\"}, \"mode\": \"markers\", \"name\": \"TNFA\", \"showlegend\": true, \"type\": \"scatter\", \"x\": [0.05516908173624351, 0.10449369266340933, 0.21068563402267965], \"xaxis\": \"x\", \"y\": [0.12150054108287542, 0.16694683086093334, 0.6737719209944956], \"yaxis\": \"y\"}, {\"customdata\": [[\"TP53\", 1021, \"PDGFR, KIT, VEGFR\"], [\"BRAF\", 1021, \"PDGFR, KIT, VEGFR\"], [\"PIK3CA\", 1021, \"PDGFR, KIT, VEGFR\"]], \"hoverlabel\": {\"namelength\": 0}, \"hovertemplate\": \"Drug_Putative_Target=%{customdata[2]}<br>SE=%{x}<br>-logP=%{y}<br>F1=%{customdata[0]}<br>F2=%{customdata[1]}\", \"legendgroup\": \"PDGFR, KIT, VEGFR\", \"marker\": {\"color\": \"#FF6692\", \"symbol\": \"circle\"}, \"mode\": \"markers\", \"name\": \"PDGFR, KIT, VEGFR\", \"showlegend\": true, \"type\": \"scatter\", \"x\": [-0.16799099432903405, 0.33964760658015786, 0.2401341185299336], \"xaxis\": \"x\", \"y\": [0.4140517050826173, 0.6393716096483371, 0.793815879577273], \"yaxis\": \"y\"}, {\"customdata\": [[\"TP53\", 1022, \"CHEK1, CHEK2\"], [\"BRAF\", 1022, \"CHEK1, CHEK2\"], [\"PIK3CA\", 1022, \"CHEK1, CHEK2\"]], \"hoverlabel\": {\"namelength\": 0}, \"hovertemplate\": \"Drug_Putative_Target=%{customdata[2]}<br>SE=%{x}<br>-logP=%{y}<br>F1=%{customdata[0]}<br>F2=%{customdata[1]}\", \"legendgroup\": \"CHEK1, CHEK2\", \"marker\": {\"color\": \"#B6E880\", \"symbol\": \"circle\"}, \"mode\": \"markers\", \"name\": \"CHEK1, CHEK2\", \"showlegend\": true, \"type\": \"scatter\", \"x\": [-0.2655415592017245, 0.5332208266756888, 0.5310504243729424], \"xaxis\": \"x\", \"y\": [0.7186579768347908, 1.1403713772140631, 2.3862422664884955], \"yaxis\": \"y\"}, {\"customdata\": [[\"TP53\", 1023, \"NTRK1\"], [\"BRAF\", 1023, \"NTRK1\"], [\"PIK3CA\", 1023, \"NTRK1\"]], \"hoverlabel\": {\"namelength\": 0}, \"hovertemplate\": \"Drug_Putative_Target=%{customdata[2]}<br>SE=%{x}<br>-logP=%{y}<br>F1=%{customdata[0]}<br>F2=%{customdata[1]}\", \"legendgroup\": \"NTRK1\", \"marker\": {\"color\": \"#FF97FF\", \"symbol\": \"circle\"}, \"mode\": \"markers\", \"name\": \"NTRK1\", \"showlegend\": true, \"type\": \"scatter\", \"x\": [-0.0235811726478509, 0.3485507996910047, 0.26241808966223945], \"xaxis\": \"x\", \"y\": [0.050278587632911785, 0.6600864702485278, 0.8892524367737218], \"yaxis\": \"y\"}, {\"customdata\": [[\"TP53\", 1024, \"FLT3, JAK2, NTRK1, RET\"], [\"BRAF\", 1024, \"FLT3, JAK2, NTRK1, RET\"], [\"PIK3CA\", 1024, \"FLT3, JAK2, NTRK1, RET\"]], \"hoverlabel\": {\"namelength\": 0}, \"hovertemplate\": \"Drug_Putative_Target=%{customdata[2]}<br>SE=%{x}<br>-logP=%{y}<br>F1=%{customdata[0]}<br>F2=%{customdata[1]}\", \"legendgroup\": \"FLT3, JAK2, NTRK1, RET\", \"marker\": {\"color\": \"#FECB52\", \"symbol\": \"circle\"}, \"mode\": \"markers\", \"name\": \"FLT3, JAK2, NTRK1, RET\", \"showlegend\": true, \"type\": \"scatter\", \"x\": [-0.06912434674801994, 0.030322892501715895, 0.15504605998669346], \"xaxis\": \"x\", \"y\": [0.1544095806844952, 0.045902691184960064, 0.4651952945992158], \"yaxis\": \"y\"}, {\"customdata\": [[\"TP53\", 1025, \"GSK3A, GSK3B\"], [\"BRAF\", 1025, \"GSK3A, GSK3B\"], [\"PIK3CA\", 1025, \"GSK3A, GSK3B\"]], \"hoverlabel\": {\"namelength\": 0}, \"hovertemplate\": \"Drug_Putative_Target=%{customdata[2]}<br>SE=%{x}<br>-logP=%{y}<br>F1=%{customdata[0]}<br>F2=%{customdata[1]}\", \"legendgroup\": \"GSK3A, GSK3B\", \"marker\": {\"color\": \"#636efa\", \"symbol\": \"circle\"}, \"mode\": \"markers\", \"name\": \"GSK3A, GSK3B\", \"showlegend\": true, \"type\": \"scatter\", \"x\": [0.9323290221452072, -1.0420822853966736, 0.09731930089366952], \"xaxis\": \"x\", \"y\": [4.314417073107663, 2.9976297208021263, 0.2583984492186282], \"yaxis\": \"y\"}, {\"customdata\": [[\"TP53\", 1026, \"HSP90\"], [\"BRAF\", 1026, \"HSP90\"], [\"PIK3CA\", 1026, \"HSP90\"], [\"TP53\", 1170, \"HSP90\"], [\"BRAF\", 1170, \"HSP90\"], [\"PIK3CA\", 1170, \"HSP90\"], [\"TP53\", 194, \"HSP90\"], [\"PIK3CA\", 194, \"HSP90\"], [\"TP53\", 328, \"HSP90\"], [\"PIK3CA\", 328, \"HSP90\"]], \"hoverlabel\": {\"namelength\": 0}, \"hovertemplate\": \"Drug_Putative_Target=%{customdata[2]}<br>SE=%{x}<br>-logP=%{y}<br>F1=%{customdata[0]}<br>F2=%{customdata[1]}\", \"legendgroup\": \"HSP90\", \"marker\": {\"color\": \"#EF553B\", \"symbol\": \"circle\"}, \"mode\": \"markers\", \"name\": \"HSP90\", \"showlegend\": true, \"type\": \"scatter\", \"x\": [0.010975533594567915, 0.3396367005052868, -0.30433497610481564, 0.2110880746387252, -0.7496155928901449, 0.10062179627851138, 0.4370034975377688, -0.04135368703423042, -0.09928862786839072, -0.14376625729682993], \"xaxis\": \"x\", \"y\": [0.02192405461584039, 0.6365821603313464, 1.0401753152773332, 0.5099747146870102, 1.8280246933202984, 0.27433739210462665, 1.4007309352871824, 0.11220983161166727, 0.2422501909538261, 0.44573803985355803], \"yaxis\": \"y\"}, {\"customdata\": [[\"TP53\", 1028, \"p38\"], [\"BRAF\", 1028, \"p38\"], [\"PIK3CA\", 1028, \"p38\"]], \"hoverlabel\": {\"namelength\": 0}, \"hovertemplate\": \"Drug_Putative_Target=%{customdata[2]}<br>SE=%{x}<br>-logP=%{y}<br>F1=%{customdata[0]}<br>F2=%{customdata[1]}\", \"legendgroup\": \"p38\", \"marker\": {\"color\": \"#00cc96\", \"symbol\": \"circle\"}, \"mode\": \"markers\", \"name\": \"p38\", \"showlegend\": true, \"type\": \"scatter\", \"x\": [0.6079401137069731, -0.2441120958817401, 0.2815768604368734], \"xaxis\": \"x\", \"y\": [2.2304758159860336, 0.4304428476634764, 0.974544952907699], \"yaxis\": \"y\"}, {\"customdata\": [[\"TP53\", 1029, \"VEGFR, RET, c-KIT, PDGFR\"], [\"BRAF\", 1029, \"VEGFR, RET, c-KIT, PDGFR\"], [\"PIK3CA\", 1029, \"VEGFR, RET, c-KIT, PDGFR\"]], \"hoverlabel\": {\"namelength\": 0}, \"hovertemplate\": \"Drug_Putative_Target=%{customdata[2]}<br>SE=%{x}<br>-logP=%{y}<br>F1=%{customdata[0]}<br>F2=%{customdata[1]}\", \"legendgroup\": \"VEGFR, RET, c-KIT, PDGFR\", \"marker\": {\"color\": \"#ab63fa\", \"symbol\": \"circle\"}, \"mode\": \"markers\", \"name\": \"VEGFR, RET, c-KIT, PDGFR\", \"showlegend\": true, \"type\": \"scatter\", \"x\": [0.16847362548565956, 0.3670554655664179, 0.4918814892099061], \"xaxis\": \"x\", \"y\": [0.3913061222144649, 0.700768713951488, 2.038362424987998], \"yaxis\": \"y\"}, {\"customdata\": [[\"TP53\", 1030, \"ATM\"], [\"BRAF\", 1030, \"ATM\"], [\"PIK3CA\", 1030, \"ATM\"], [\"TP53\", 152, \"ATM\"], [\"PIK3CA\", 152, \"ATM\"]], \"hoverlabel\": {\"namelength\": 0}, \"hovertemplate\": \"Drug_Putative_Target=%{customdata[2]}<br>SE=%{x}<br>-logP=%{y}<br>F1=%{customdata[0]}<br>F2=%{customdata[1]}\", \"legendgroup\": \"ATM\", \"marker\": {\"color\": \"#FFA15A\", \"symbol\": \"circle\"}, \"mode\": \"markers\", \"name\": \"ATM\", \"showlegend\": true, \"type\": \"scatter\", \"x\": [0.236123231714484, 0.6121137259226166, 0.41234659817648095, 0.06847601414258131, -0.21492866822839268], \"xaxis\": \"x\", \"y\": [0.5836479458297759, 1.3703729255621038, 1.5771776448996369, 0.16170311697140988, 0.7251596935832548], \"yaxis\": \"y\"}, {\"customdata\": [[\"TP53\", 1031, \"HSP70\"], [\"BRAF\", 1031, \"HSP70\"], [\"PIK3CA\", 1031, \"HSP70\"]], \"hoverlabel\": {\"namelength\": 0}, \"hovertemplate\": \"Drug_Putative_Target=%{customdata[2]}<br>SE=%{x}<br>-logP=%{y}<br>F1=%{customdata[0]}<br>F2=%{customdata[1]}\", \"legendgroup\": \"HSP70\", \"marker\": {\"color\": \"#19d3f3\", \"symbol\": \"circle\"}, \"mode\": \"markers\", \"name\": \"HSP70\", \"showlegend\": true, \"type\": \"scatter\", \"x\": [-0.1656925516975306, -0.14830727532863394, -0.08561665673796587], \"xaxis\": \"x\", \"y\": [0.4074706970427057, 0.2444938228330341, 0.23668598899839896], \"yaxis\": \"y\"}, {\"customdata\": [[\"TP53\", 1032, \"ERBB2, EGFR\"], [\"BRAF\", 1032, \"ERBB2, EGFR\"], [\"PIK3CA\", 1032, \"ERBB2, EGFR\"], [\"PIK3CA\", 119, \"ERBB2, EGFR\"], [\"TP53\", 1377, \"ERBB2, EGFR\"], [\"BRAF\", 1377, \"ERBB2, EGFR\"], [\"PIK3CA\", 1377, \"ERBB2, EGFR\"]], \"hoverlabel\": {\"namelength\": 0}, \"hovertemplate\": \"Drug_Putative_Target=%{customdata[2]}<br>SE=%{x}<br>-logP=%{y}<br>F1=%{customdata[0]}<br>F2=%{customdata[1]}\", \"legendgroup\": \"ERBB2, EGFR\", \"marker\": {\"color\": \"#FF6692\", \"symbol\": \"circle\"}, \"mode\": \"markers\", \"name\": \"ERBB2, EGFR\", \"showlegend\": true, \"type\": \"scatter\", \"x\": [-0.13898763217609905, -0.5268965064048091, -0.021696931899550798, -0.55785807692026, -0.11775387541157635, -0.7292039454438056, -0.38099723266358504], \"xaxis\": \"x\", \"y\": [0.33294821037876465, 1.1222676420506832, 0.05549701335228474, 0.9269896140102606, 0.2782243265331751, 1.7712273408077386, 1.4934150388305576], \"yaxis\": \"y\"}, {\"customdata\": [[\"TP53\", 1033, \"SMO\"], [\"BRAF\", 1033, \"SMO\"], [\"PIK3CA\", 1033, \"SMO\"], [\"PIK3CA\", 17, \"SMO\"]], \"hoverlabel\": {\"namelength\": 0}, \"hovertemplate\": \"Drug_Putative_Target=%{customdata[2]}<br>SE=%{x}<br>-logP=%{y}<br>F1=%{customdata[0]}<br>F2=%{customdata[1]}\", \"legendgroup\": \"SMO\", \"marker\": {\"color\": \"#B6E880\", \"symbol\": \"circle\"}, \"mode\": \"markers\", \"name\": \"SMO\", \"showlegend\": true, \"type\": \"scatter\", \"x\": [0.10547295843841707, 0.07800678225545049, -0.0487077559689116, 0.943773906274196], \"xaxis\": \"x\", \"y\": [0.2443875804711597, 0.1222672290081092, 0.12877960548609144, 1.98916861250144], \"yaxis\": \"y\"}, {\"customdata\": [[\"TP53\", 1036, \"BRAF\"], [\"BRAF\", 1036, \"BRAF\"], [\"PIK3CA\", 1036, \"BRAF\"], [\"TP53\", 1061, \"BRAF\"], [\"BRAF\", 1061, \"BRAF\"], [\"PIK3CA\", 1061, \"BRAF\"], [\"TP53\", 1371, \"BRAF\"], [\"BRAF\", 1371, \"BRAF\"], [\"PIK3CA\", 1371, \"BRAF\"], [\"TP53\", 1373, \"BRAF\"], [\"BRAF\", 1373, \"BRAF\"], [\"PIK3CA\", 1373, \"BRAF\"], [\"TP53\", 29, \"BRAF\"], [\"PIK3CA\", 29, \"BRAF\"]], \"hoverlabel\": {\"namelength\": 0}, \"hovertemplate\": \"Drug_Putative_Target=%{customdata[2]}<br>SE=%{x}<br>-logP=%{y}<br>F1=%{customdata[0]}<br>F2=%{customdata[1]}\", \"legendgroup\": \"BRAF\", \"marker\": {\"color\": \"#FF97FF\", \"symbol\": \"circle\"}, \"mode\": \"markers\", \"name\": \"BRAF\", \"showlegend\": true, \"type\": \"scatter\", \"x\": [0.7336673456325035, -0.8043440126552232, -0.02159150967642997, 0.5360776741161664, -0.9062336924633724, 0.0911385870805718, 0.3878516313579289, -0.904594347442828, 0.2157747834726668, 0.8328633809129042, -1.2149809374606295, 0.03152259626051896, 0.8766370342623628, 0.6928508547306641], \"xaxis\": \"x\", \"y\": [2.7570725715893487, 2.0280418272078133, 0.05363129612419455, 1.7100277699714823, 2.423576323691069, 0.2394748903985723, 1.1848283735801437, 2.4424697798281945, 0.7051158918313086, 3.691963480360876, 3.9187465642667454, 0.08217127325334278, 1.8263927424920439, 1.2877827838406009], \"yaxis\": \"y\"}, {\"customdata\": [[\"TP53\", 1037, \"TBK1, PDPK1, IKK, AURKB, AURKC\"], [\"BRAF\", 1037, \"TBK1, PDPK1, IKK, AURKB, AURKC\"], [\"PIK3CA\", 1037, \"TBK1, PDPK1, IKK, AURKB, AURKC\"]], \"hoverlabel\": {\"namelength\": 0}, \"hovertemplate\": \"Drug_Putative_Target=%{customdata[2]}<br>SE=%{x}<br>-logP=%{y}<br>F1=%{customdata[0]}<br>F2=%{customdata[1]}\", \"legendgroup\": \"TBK1, PDPK1, IKK, AURKB, AURKC\", \"marker\": {\"color\": \"#FECB52\", \"symbol\": \"circle\"}, \"mode\": \"markers\", \"name\": \"TBK1, PDPK1, IKK, AURKB, AURKC\", \"showlegend\": true, \"type\": \"scatter\", \"x\": [-0.07786398004192042, 0.2917495232032541, 0.32672565302748896], \"xaxis\": \"x\", \"y\": [0.1659936915437549, 0.5293410652368594, 1.1434897179706387], \"yaxis\": \"y\"}, {\"customdata\": [[\"TP53\", 1038, \"PRKDC (DNAPK)\"], [\"BRAF\", 1038, \"PRKDC (DNAPK)\"], [\"PIK3CA\", 1038, \"PRKDC (DNAPK)\"]], \"hoverlabel\": {\"namelength\": 0}, \"hovertemplate\": \"Drug_Putative_Target=%{customdata[2]}<br>SE=%{x}<br>-logP=%{y}<br>F1=%{customdata[0]}<br>F2=%{customdata[1]}\", \"legendgroup\": \"PRKDC (DNAPK)\", \"marker\": {\"color\": \"#636efa\", \"symbol\": \"circle\"}, \"mode\": \"markers\", \"name\": \"PRKDC (DNAPK)\", \"showlegend\": true, \"type\": \"scatter\", \"x\": [0.27708611049383963, 0.5016905048778041, 0.3027558805182448], \"xaxis\": \"x\", \"y\": [0.7106981138148192, 1.0466073139083327, 1.033041645532356], \"yaxis\": \"y\"}, {\"customdata\": [[\"TP53\", 1039, \"RSK, AURKB, PIM3\"], [\"BRAF\", 1039, \"RSK, AURKB, PIM3\"], [\"PIK3CA\", 1039, \"RSK, AURKB, PIM3\"]], \"hoverlabel\": {\"namelength\": 0}, \"hovertemplate\": \"Drug_Putative_Target=%{customdata[2]}<br>SE=%{x}<br>-logP=%{y}<br>F1=%{customdata[0]}<br>F2=%{customdata[1]}\", \"legendgroup\": \"RSK, AURKB, PIM3\", \"marker\": {\"color\": \"#EF553B\", \"symbol\": \"circle\"}, \"mode\": \"markers\", \"name\": \"RSK, AURKB, PIM3\", \"showlegend\": true, \"type\": \"scatter\", \"x\": [0.2883284880695083, 0.3097184198972085, -0.21976841715553586], \"xaxis\": \"x\", \"y\": [0.7470088916891474, 0.5688650919116308, 0.6854754464050734], \"yaxis\": \"y\"}, {\"customdata\": [[\"TP53\", 104, \"Proteasome\"], [\"PIK3CA\", 104, \"Proteasome\"], [\"TP53\", 9, \"Proteasome\"], [\"PIK3CA\", 9, \"Proteasome\"]], \"hoverlabel\": {\"namelength\": 0}, \"hovertemplate\": \"Drug_Putative_Target=%{customdata[2]}<br>SE=%{x}<br>-logP=%{y}<br>F1=%{customdata[0]}<br>F2=%{customdata[1]}\", \"legendgroup\": \"Proteasome\", \"marker\": {\"color\": \"#00cc96\", \"symbol\": \"circle\"}, \"mode\": \"markers\", \"name\": \"Proteasome\", \"showlegend\": true, \"type\": \"scatter\", \"x\": [-0.1159269305943876, -0.13907457275181165, 0.4550688669090628, -0.011289631906718368], \"xaxis\": \"x\", \"y\": [0.15212901205062093, 0.18508018824599087, 0.7323845918195663, 0.013901812511683265], \"yaxis\": \"y\"}, {\"customdata\": [[\"TP53\", 1042, \"p38, JNK2\"], [\"BRAF\", 1042, \"p38, JNK2\"], [\"PIK3CA\", 1042, \"p38, JNK2\"]], \"hoverlabel\": {\"namelength\": 0}, \"hovertemplate\": \"Drug_Putative_Target=%{customdata[2]}<br>SE=%{x}<br>-logP=%{y}<br>F1=%{customdata[0]}<br>F2=%{customdata[1]}\", \"legendgroup\": \"p38, JNK2\", \"marker\": {\"color\": \"#ab63fa\", \"symbol\": \"circle\"}, \"mode\": \"markers\", \"name\": \"p38, JNK2\", \"showlegend\": true, \"type\": \"scatter\", \"x\": [-0.19973748077833944, 0.09415431559159858, 0.28735909562232115], \"xaxis\": \"x\", \"y\": [0.47754559267998203, 0.1487329400533628, 0.9645258290782092], \"yaxis\": \"y\"}, {\"customdata\": [[\"TP53\", 1043, \"JNK\"], [\"BRAF\", 1043, \"JNK\"], [\"PIK3CA\", 1043, \"JNK\"], [\"TP53\", 157, \"JNK\"], [\"PIK3CA\", 157, \"JNK\"]], \"hoverlabel\": {\"namelength\": 0}, \"hovertemplate\": \"Drug_Putative_Target=%{customdata[2]}<br>SE=%{x}<br>-logP=%{y}<br>F1=%{customdata[0]}<br>F2=%{customdata[1]}\", \"legendgroup\": \"JNK\", \"marker\": {\"color\": \"#FFA15A\", \"symbol\": \"circle\"}, \"mode\": \"markers\", \"name\": \"JNK\", \"showlegend\": true, \"type\": \"scatter\", \"x\": [0.3822540836774589, 0.2416518028681908, 0.2428146509348435, 0.2921817150446868, 0.04805433417664876], \"xaxis\": \"x\", \"y\": [1.0755873569082062, 0.4236031789510992, 0.7767219069065456, 0.8173562588994373, 0.1286893314857678], \"yaxis\": \"y\"}, {\"customdata\": [[\"TP53\", 1046, \"WEE1, CHEK1\"], [\"BRAF\", 1046, \"WEE1, CHEK1\"], [\"PIK3CA\", 1046, \"WEE1, CHEK1\"]], \"hoverlabel\": {\"namelength\": 0}, \"hovertemplate\": \"Drug_Putative_Target=%{customdata[2]}<br>SE=%{x}<br>-logP=%{y}<br>F1=%{customdata[0]}<br>F2=%{customdata[1]}\", \"legendgroup\": \"WEE1, CHEK1\", \"marker\": {\"color\": \"#19d3f3\", \"symbol\": \"circle\"}, \"mode\": \"markers\", \"name\": \"WEE1, CHEK1\", \"showlegend\": true, \"type\": \"scatter\", \"x\": [0.0433944894895263, 0.23434508326568776, 0.0797241802394248], \"xaxis\": \"x\", \"y\": [0.08683793402883516, 0.4012639665245947, 0.19295133840202786], \"yaxis\": \"y\"}, {\"customdata\": [[\"TP53\", 1047, \"MDM2\"], [\"BRAF\", 1047, \"MDM2\"], [\"PIK3CA\", 1047, \"MDM2\"], [\"TP53\", 1133, \"MDM2\"], [\"BRAF\", 1133, \"MDM2\"], [\"PIK3CA\", 1133, \"MDM2\"]], \"hoverlabel\": {\"namelength\": 0}, \"hovertemplate\": \"Drug_Putative_Target=%{customdata[2]}<br>SE=%{x}<br>-logP=%{y}<br>F1=%{customdata[0]}<br>F2=%{customdata[1]}\", \"legendgroup\": \"MDM2\", \"marker\": {\"color\": \"#FF6692\", \"symbol\": \"circle\"}, \"mode\": \"markers\", \"name\": \"MDM2\", \"showlegend\": true, \"type\": \"scatter\", \"x\": [0.95333122914582, -0.2633999866650979, -0.364071149657636, -0.5025251221289989, 0.20250276188860503, 0.14510725249201106], \"xaxis\": \"x\", \"y\": [4.246050361746564, 0.468707445705623, 1.324978367608629, 1.5661265099551798, 0.3454412724477228, 0.4163431872246653], \"yaxis\": \"y\"}, {\"customdata\": [[\"TP53\", 1049, \"FGFR1, FGFR3\"], [\"BRAF\", 1049, \"FGFR1, FGFR3\"], [\"PIK3CA\", 1049, \"FGFR1, FGFR3\"]], \"hoverlabel\": {\"namelength\": 0}, \"hovertemplate\": \"Drug_Putative_Target=%{customdata[2]}<br>SE=%{x}<br>-logP=%{y}<br>F1=%{customdata[0]}<br>F2=%{customdata[1]}\", \"legendgroup\": \"FGFR1, FGFR3\", \"marker\": {\"color\": \"#B6E880\", \"symbol\": \"circle\"}, \"mode\": \"markers\", \"name\": \"FGFR1, FGFR3\", \"showlegend\": true, \"type\": \"scatter\", \"x\": [-0.0022409013905336887, 0.3831893228125297, -0.0572042239659886], \"xaxis\": \"x\", \"y\": [0.004437911101997071, 0.7395021817446492, 0.1482402267578977], \"yaxis\": \"y\"}, {\"customdata\": [[\"TP53\", 1050, \"AURKB\"], [\"BRAF\", 1050, \"AURKB\"], [\"PIK3CA\", 1050, \"AURKB\"], [\"TP53\", 226, \"AURKB\"], [\"PIK3CA\", 226, \"AURKB\"]], \"hoverlabel\": {\"namelength\": 0}, \"hovertemplate\": \"Drug_Putative_Target=%{customdata[2]}<br>SE=%{x}<br>-logP=%{y}<br>F1=%{customdata[0]}<br>F2=%{customdata[1]}\", \"legendgroup\": \"AURKB\", \"marker\": {\"color\": \"#FF97FF\", \"symbol\": \"circle\"}, \"mode\": \"markers\", \"name\": \"AURKB\", \"showlegend\": true, \"type\": \"scatter\", \"x\": [-0.204665115202622, 0.5399820225703053, 0.25501262560678817, -0.5159699788962246, 0.11284539106017545], \"xaxis\": \"x\", \"y\": [0.4829580120978965, 1.1426182958464015, 0.7635151275664352, 1.8863266636927556, 0.3369420936732012], \"yaxis\": \"y\"}, {\"customdata\": [[\"TP53\", 1052, \"CDK1\"], [\"BRAF\", 1052, \"CDK1\"], [\"PIK3CA\", 1052, \"CDK1\"]], \"hoverlabel\": {\"namelength\": 0}, \"hovertemplate\": \"Drug_Putative_Target=%{customdata[2]}<br>SE=%{x}<br>-logP=%{y}<br>F1=%{customdata[0]}<br>F2=%{customdata[1]}\", \"legendgroup\": \"CDK1\", \"marker\": {\"color\": \"#FECB52\", \"symbol\": \"circle\"}, \"mode\": \"markers\", \"name\": \"CDK1\", \"showlegend\": true, \"type\": \"scatter\", \"x\": [0.09599136396314983, 0.5041355355217452, 0.28923867094106004], \"xaxis\": \"x\", \"y\": [0.20822436596225274, 1.0533743164932512, 0.9727893318206764], \"yaxis\": \"y\"}, {\"customdata\": [[\"TP53\", 1053, \"AKT1, AKT2\"], [\"BRAF\", 1053, \"AKT1, AKT2\"], [\"PIK3CA\", 1053, \"AKT1, AKT2\"]], \"hoverlabel\": {\"namelength\": 0}, \"hovertemplate\": \"Drug_Putative_Target=%{customdata[2]}<br>SE=%{x}<br>-logP=%{y}<br>F1=%{customdata[0]}<br>F2=%{customdata[1]}\", \"legendgroup\": \"AKT1, AKT2\", \"marker\": {\"color\": \"#636efa\", \"symbol\": \"circle\"}, \"mode\": \"markers\", \"name\": \"AKT1, AKT2\", \"showlegend\": true, \"type\": \"scatter\", \"x\": [-0.7199085618022034, 0.5868078001817177, -0.4838350016311144], \"xaxis\": \"x\", \"y\": [2.663786004924821, 1.2897054501764176, 1.9221607288532592], \"yaxis\": \"y\"}, {\"customdata\": [[\"TP53\", 1054, \"CDK4, CDK6\"], [\"BRAF\", 1054, \"CDK4, CDK6\"], [\"PIK3CA\", 1054, \"CDK4, CDK6\"]], \"hoverlabel\": {\"namelength\": 0}, \"hovertemplate\": \"Drug_Putative_Target=%{customdata[2]}<br>SE=%{x}<br>-logP=%{y}<br>F1=%{customdata[0]}<br>F2=%{customdata[1]}\", \"legendgroup\": \"CDK4, CDK6\", \"marker\": {\"color\": \"#EF553B\", \"symbol\": \"circle\"}, \"mode\": \"markers\", \"name\": \"CDK4, CDK6\", \"showlegend\": true, \"type\": \"scatter\", \"x\": [0.0565473834313777, 0.4940181614783978, -0.327599775589658], \"xaxis\": \"x\", \"y\": [0.11766552607352875, 1.0230208202057471, 1.112261659426919], \"yaxis\": \"y\"}, {\"customdata\": [[\"TP53\", 1057, \"PI3K (Class 1) and MTORC1/2\"], [\"BRAF\", 1057, \"PI3K (Class 1) and MTORC1/2\"], [\"PIK3CA\", 1057, \"PI3K (Class 1) and MTORC1/2\"]], \"hoverlabel\": {\"namelength\": 0}, \"hovertemplate\": \"Drug_Putative_Target=%{customdata[2]}<br>SE=%{x}<br>-logP=%{y}<br>F1=%{customdata[0]}<br>F2=%{customdata[1]}\", \"legendgroup\": \"PI3K (Class 1) and MTORC1/2\", \"marker\": {\"color\": \"#00cc96\", \"symbol\": \"circle\"}, \"mode\": \"markers\", \"name\": \"PI3K (Class 1) and MTORC1/2\", \"showlegend\": true, \"type\": \"scatter\", \"x\": [-0.12112447624983542, 0.6994577849651239, 0.08371968906958396], \"xaxis\": \"x\", \"y\": [0.2690985513840494, 1.6538017467142114, 0.22381243277324828], \"yaxis\": \"y\"}, {\"customdata\": [[\"TP53\", 1058, \"PI3K (class 1)\"], [\"BRAF\", 1058, \"PI3K (class 1)\"], [\"PIK3CA\", 1058, \"PI3K (class 1)\"]], \"hoverlabel\": {\"namelength\": 0}, \"hovertemplate\": \"Drug_Putative_Target=%{customdata[2]}<br>SE=%{x}<br>-logP=%{y}<br>F1=%{customdata[0]}<br>F2=%{customdata[1]}\", \"legendgroup\": \"PI3K (class 1)\", \"marker\": {\"color\": \"#ab63fa\", \"symbol\": \"circle\"}, \"mode\": \"markers\", \"name\": \"PI3K (class 1)\", \"showlegend\": true, \"type\": \"scatter\", \"x\": [-0.6611797410990978, 0.1822887867009466, -0.4412901788967598], \"xaxis\": \"x\", \"y\": [2.3456671279222654, 0.30658362393587874, 1.7382585978286371], \"yaxis\": \"y\"}, {\"customdata\": [[\"TP53\", 1059, \"MTORC1/2\"], [\"BRAF\", 1059, \"MTORC1/2\"], [\"PIK3CA\", 1059, \"MTORC1/2\"], [\"TP53\", 299, \"MTORC1/2\"], [\"PIK3CA\", 299, \"MTORC1/2\"]], \"hoverlabel\": {\"namelength\": 0}, \"hovertemplate\": \"Drug_Putative_Target=%{customdata[2]}<br>SE=%{x}<br>-logP=%{y}<br>F1=%{customdata[0]}<br>F2=%{customdata[1]}\", \"legendgroup\": \"MTORC1/2\", \"marker\": {\"color\": \"#FFA15A\", \"symbol\": \"circle\"}, \"mode\": \"markers\", \"name\": \"MTORC1/2\", \"showlegend\": true, \"type\": \"scatter\", \"x\": [0.37304890526153495, 0.7126175226726176, -0.1896812393100995, 0.15563791343646682, -0.2793191940973186], \"xaxis\": \"x\", \"y\": [1.04134355686958, 1.6986864295269593, 0.5722373698117219, 0.4011821038698731, 0.9879479184807672], \"yaxis\": \"y\"}, {\"customdata\": [[\"PIK3CA\", 106, \"MAP2K5 (ERK5)\"], [\"PIK3CA\", 1164, \"MAP2K5 (ERK5)\"]], \"hoverlabel\": {\"namelength\": 0}, \"hovertemplate\": \"Drug_Putative_Target=%{customdata[2]}<br>SE=%{x}<br>-logP=%{y}<br>F1=%{customdata[0]}<br>F2=%{customdata[1]}\", \"legendgroup\": \"MAP2K5 (ERK5)\", \"marker\": {\"color\": \"#19d3f3\", \"symbol\": \"circle\"}, \"mode\": \"markers\", \"name\": \"MAP2K5 (ERK5)\", \"showlegend\": true, \"type\": \"scatter\", \"x\": [0.5488984772396416, 0.14757836359615514], \"xaxis\": \"x\", \"y\": [0.9072321531145946, 0.31823323508828283], \"yaxis\": \"y\"}, {\"customdata\": [[\"TP53\", 1066, \"PI3Kbeta\"], [\"PIK3CA\", 1066, \"PI3Kbeta\"], [\"TP53\", 156, \"PI3Kbeta\"], [\"PIK3CA\", 156, \"PI3Kbeta\"], [\"TP53\", 94, \"PI3Kbeta\"], [\"PIK3CA\", 94, \"PI3Kbeta\"]], \"hoverlabel\": {\"namelength\": 0}, \"hovertemplate\": \"Drug_Putative_Target=%{customdata[2]}<br>SE=%{x}<br>-logP=%{y}<br>F1=%{customdata[0]}<br>F2=%{customdata[1]}\", \"legendgroup\": \"PI3Kbeta\", \"marker\": {\"color\": \"#FF6692\", \"symbol\": \"circle\"}, \"mode\": \"markers\", \"name\": \"PI3Kbeta\", \"showlegend\": true, \"type\": \"scatter\", \"x\": [0.059745953788860384, -0.5669853862245811, -0.7374877370653277, -0.15970237208456303, -0.19693412818181816, 0.6091878482492022], \"xaxis\": \"x\", \"y\": [0.12516254799265522, 2.5297395549154755, 3.0394965623302306, 0.4891199930870194, 0.2713969602739342, 1.0759994282997711], \"yaxis\": \"y\"}, {\"customdata\": [[\"TP53\", 1067, \"PPM1D\"], [\"BRAF\", 1067, \"PPM1D\"], [\"PIK3CA\", 1067, \"PPM1D\"]], \"hoverlabel\": {\"namelength\": 0}, \"hovertemplate\": \"Drug_Putative_Target=%{customdata[2]}<br>SE=%{x}<br>-logP=%{y}<br>F1=%{customdata[0]}<br>F2=%{customdata[1]}\", \"legendgroup\": \"PPM1D\", \"marker\": {\"color\": \"#B6E880\", \"symbol\": \"circle\"}, \"mode\": \"markers\", \"name\": \"PPM1D\", \"showlegend\": true, \"type\": \"scatter\", \"x\": [0.2884245966061276, 0.4142063417131758, -0.4806350774176279], \"xaxis\": \"x\", \"y\": [0.8008344575006368, 0.8213079891334257, 2.0718586456199364], \"yaxis\": \"y\"}, {\"customdata\": [[\"TP53\", 1069, \"Rac GTPases\"], [\"BRAF\", 1069, \"Rac GTPases\"], [\"PIK3CA\", 1069, \"Rac GTPases\"]], \"hoverlabel\": {\"namelength\": 0}, \"hovertemplate\": \"Drug_Putative_Target=%{customdata[2]}<br>SE=%{x}<br>-logP=%{y}<br>F1=%{customdata[0]}<br>F2=%{customdata[1]}\", \"legendgroup\": \"Rac GTPases\", \"marker\": {\"color\": \"#FF97FF\", \"symbol\": \"circle\"}, \"mode\": \"markers\", \"name\": \"Rac GTPases\", \"showlegend\": true, \"type\": \"scatter\", \"x\": [0.6952427064408601, 0.18620833203966985, -0.6509027850859396], \"xaxis\": \"x\", \"y\": [2.7558302314758905, 0.3159225103002202, 3.3236894196591145], \"yaxis\": \"y\"}, {\"customdata\": [[\"TP53\", 1072, \"g-secretase\"], [\"BRAF\", 1072, \"g-secretase\"], [\"PIK3CA\", 1072, \"g-secretase\"], [\"TP53\", 205, \"g-secretase\"], [\"PIK3CA\", 205, \"g-secretase\"], [\"PIK3CA\", 45, \"g-secretase\"]], \"hoverlabel\": {\"namelength\": 0}, \"hovertemplate\": \"Drug_Putative_Target=%{customdata[2]}<br>SE=%{x}<br>-logP=%{y}<br>F1=%{customdata[0]}<br>F2=%{customdata[1]}\", \"legendgroup\": \"g-secretase\", \"marker\": {\"color\": \"#FECB52\", \"symbol\": \"circle\"}, \"mode\": \"markers\", \"name\": \"g-secretase\", \"showlegend\": true, \"type\": \"scatter\", \"x\": [-0.27962476169245537, 0.871443717890368, 0.11684379812781745, 0.2699920682169452, -0.04413186768592766, 1.1280858528660012], \"xaxis\": \"x\", \"y\": [0.7700238995679506, 2.302567708403956, 0.33775840806797985, 0.7805390896453961, 0.11835166724318735, 2.5881863179262625], \"yaxis\": \"y\"}, {\"customdata\": [[\"TP53\", 1091, \"IGF1R\"], [\"BRAF\", 1091, \"IGF1R\"], [\"PIK3CA\", 1091, \"IGF1R\"], [\"TP53\", 184, \"IGF1R\"], [\"PIK3CA\", 184, \"IGF1R\"], [\"TP53\", 185, \"IGF1R\"], [\"PIK3CA\", 185, \"IGF1R\"], [\"TP53\", 202, \"IGF1R\"], [\"PIK3CA\", 202, \"IGF1R\"], [\"PIK3CA\", 62, \"IGF1R\"]], \"hoverlabel\": {\"namelength\": 0}, \"hovertemplate\": \"Drug_Putative_Target=%{customdata[2]}<br>SE=%{x}<br>-logP=%{y}<br>F1=%{customdata[0]}<br>F2=%{customdata[1]}\", \"legendgroup\": \"IGF1R\", \"marker\": {\"color\": \"#636efa\", \"symbol\": \"circle\"}, \"mode\": \"markers\", \"name\": \"IGF1R\", \"showlegend\": true, \"type\": \"scatter\", \"x\": [0.18051197060757465, 0.2259527012216142, -0.037780140425609086, 0.3483066006457061, -0.04105976927919272, 0.2484676355545193, 0.14478564949987993, -0.01694117300545062, 0.08030871383306303, 0.4420578356009118], \"xaxis\": \"x\", \"y\": [0.4538169355493537, 0.3949187183704635, 0.0998977202997428, 1.0303720260985587, 0.11137097615737064, 0.6694404288303182, 0.4462446667411164, 0.03622580267335816, 0.2287916798839557, 0.6621785907137658], \"yaxis\": \"y\"}, {\"customdata\": [[\"PIK3CA\", 110, \"CDKs\"]], \"hoverlabel\": {\"namelength\": 0}, \"hovertemplate\": \"Drug_Putative_Target=%{customdata[2]}<br>SE=%{x}<br>-logP=%{y}<br>F1=%{customdata[0]}<br>F2=%{customdata[1]}\", \"legendgroup\": \"CDKs\", \"marker\": {\"color\": \"#EF553B\", \"symbol\": \"circle\"}, \"mode\": \"markers\", \"name\": \"CDKs\", \"showlegend\": true, \"type\": \"scatter\", \"x\": [0.6116235933184893], \"xaxis\": \"x\", \"y\": [1.0496180331102538], \"yaxis\": \"y\"}, {\"customdata\": [[\"PIK3CA\", 111, \"GADD34-PP1C \"]], \"hoverlabel\": {\"namelength\": 0}, \"hovertemplate\": \"Drug_Putative_Target=%{customdata[2]}<br>SE=%{x}<br>-logP=%{y}<br>F1=%{customdata[0]}<br>F2=%{customdata[1]}\", \"legendgroup\": \"GADD34-PP1C \", \"marker\": {\"color\": \"#00cc96\", \"symbol\": \"circle\"}, \"mode\": \"markers\", \"name\": \"GADD34-PP1C \", \"showlegend\": true, \"type\": \"scatter\", \"x\": [0.7539363403048971], \"xaxis\": \"x\", \"y\": [1.4106385803066162], \"yaxis\": \"y\"}, {\"customdata\": [[\"TP53\", 1129, \"RPS6KB1 (p70S6KA)\"], [\"BRAF\", 1129, \"RPS6KB1 (p70S6KA)\"], [\"PIK3CA\", 1129, \"RPS6KB1 (p70S6KA)\"]], \"hoverlabel\": {\"namelength\": 0}, \"hovertemplate\": \"Drug_Putative_Target=%{customdata[2]}<br>SE=%{x}<br>-logP=%{y}<br>F1=%{customdata[0]}<br>F2=%{customdata[1]}\", \"legendgroup\": \"RPS6KB1 (p70S6KA)\", \"marker\": {\"color\": \"#ab63fa\", \"symbol\": \"circle\"}, \"mode\": \"markers\", \"name\": \"RPS6KB1 (p70S6KA)\", \"showlegend\": true, \"type\": \"scatter\", \"x\": [0.6882866843017489, 0.17647892856231642, -0.3171947402882332], \"xaxis\": \"x\", \"y\": [2.4952393460087015, 0.2956016784513591, 1.0990162045341971], \"yaxis\": \"y\"}, {\"customdata\": [[\"PIK3CA\", 1142, \"LOK, LTK, TRCB, ABL(T315I)\"]], \"hoverlabel\": {\"namelength\": 0}, \"hovertemplate\": \"Drug_Putative_Target=%{customdata[2]}<br>SE=%{x}<br>-logP=%{y}<br>F1=%{customdata[0]}<br>F2=%{customdata[1]}\", \"legendgroup\": \"LOK, LTK, TRCB, ABL(T315I)\", \"marker\": {\"color\": \"#FFA15A\", \"symbol\": \"circle\"}, \"mode\": \"markers\", \"name\": \"LOK, LTK, TRCB, ABL(T315I)\", \"showlegend\": true, \"type\": \"scatter\", \"x\": [0.02163273456783392], \"xaxis\": \"x\", \"y\": [0.041546580517059783], \"yaxis\": \"y\"}, {\"customdata\": [[\"PIK3CA\", 1143, \"EGFR, ADCK4\"]], \"hoverlabel\": {\"namelength\": 0}, \"hovertemplate\": \"Drug_Putative_Target=%{customdata[2]}<br>SE=%{x}<br>-logP=%{y}<br>F1=%{customdata[0]}<br>F2=%{customdata[1]}\", \"legendgroup\": \"EGFR, ADCK4\", \"marker\": {\"color\": \"#19d3f3\", \"symbol\": \"circle\"}, \"mode\": \"markers\", \"name\": \"EGFR, ADCK4\", \"showlegend\": true, \"type\": \"scatter\", \"x\": [0.5491146640198891], \"xaxis\": \"x\", \"y\": [1.6763167517424225], \"yaxis\": \"y\"}, {\"customdata\": [[\"TP53\", 1149, \"BCL2, BCL2L1\"], [\"BRAF\", 1149, \"BCL2, BCL2L1\"], [\"PIK3CA\", 1149, \"BCL2, BCL2L1\"]], \"hoverlabel\": {\"namelength\": 0}, \"hovertemplate\": \"Drug_Putative_Target=%{customdata[2]}<br>SE=%{x}<br>-logP=%{y}<br>F1=%{customdata[0]}<br>F2=%{customdata[1]}\", \"legendgroup\": \"BCL2, BCL2L1\", \"marker\": {\"color\": \"#FF6692\", \"symbol\": \"circle\"}, \"mode\": \"markers\", \"name\": \"BCL2, BCL2L1\", \"showlegend\": true, \"type\": \"scatter\", \"x\": [-0.12440022814421595, -0.2902584811783416, 0.35844117219366856], \"xaxis\": \"x\", \"y\": [0.27723413488526283, 0.5260996880855549, 1.2968714300887858], \"yaxis\": \"y\"}, {\"customdata\": [[\"PIK3CA\", 1158, \"BRSK2, FLT4, MARK4, PRKCD, RET, SPRK1\"]], \"hoverlabel\": {\"namelength\": 0}, \"hovertemplate\": \"Drug_Putative_Target=%{customdata[2]}<br>SE=%{x}<br>-logP=%{y}<br>F1=%{customdata[0]}<br>F2=%{customdata[1]}\", \"legendgroup\": \"BRSK2, FLT4, MARK4, PRKCD, RET, SPRK1\", \"marker\": {\"color\": \"#B6E880\", \"symbol\": \"circle\"}, \"mode\": \"markers\", \"name\": \"BRSK2, FLT4, MARK4, PRKCD, RET, SPRK1\", \"showlegend\": true, \"type\": \"scatter\", \"x\": [0.6043531858259571], \"xaxis\": \"x\", \"y\": [1.931996921102052], \"yaxis\": \"y\"}, {\"customdata\": [[\"PIK3CA\", 1161, \"IRAK1\"]], \"hoverlabel\": {\"namelength\": 0}, \"hovertemplate\": \"Drug_Putative_Target=%{customdata[2]}<br>SE=%{x}<br>-logP=%{y}<br>F1=%{customdata[0]}<br>F2=%{customdata[1]}\", \"legendgroup\": \"IRAK1\", \"marker\": {\"color\": \"#FF97FF\", \"symbol\": \"circle\"}, \"mode\": \"markers\", \"name\": \"IRAK1\", \"showlegend\": true, \"type\": \"scatter\", \"x\": [0.5202957812465964], \"xaxis\": \"x\", \"y\": [1.5504303680298872], \"yaxis\": \"y\"}, {\"customdata\": [[\"PIK3CA\", 1166, \"MTOR, ATR\"]], \"hoverlabel\": {\"namelength\": 0}, \"hovertemplate\": \"Drug_Putative_Target=%{customdata[2]}<br>SE=%{x}<br>-logP=%{y}<br>F1=%{customdata[0]}<br>F2=%{customdata[1]}\", \"legendgroup\": \"MTOR, ATR\", \"marker\": {\"color\": \"#FECB52\", \"symbol\": \"circle\"}, \"mode\": \"markers\", \"name\": \"MTOR, ATR\", \"showlegend\": true, \"type\": \"scatter\", \"x\": [-0.7111796158213498], \"xaxis\": \"x\", \"y\": [2.484316771180796], \"yaxis\": \"y\"}, {\"customdata\": [[\"TP53\", 1192, \"ROCK1, ROCK2\"], [\"BRAF\", 1192, \"ROCK1, ROCK2\"], [\"PIK3CA\", 1192, \"ROCK1, ROCK2\"], [\"TP53\", 127, \"ROCK1, ROCK2\"], [\"PIK3CA\", 127, \"ROCK1, ROCK2\"]], \"hoverlabel\": {\"namelength\": 0}, \"hovertemplate\": \"Drug_Putative_Target=%{customdata[2]}<br>SE=%{x}<br>-logP=%{y}<br>F1=%{customdata[0]}<br>F2=%{customdata[1]}\", \"legendgroup\": \"ROCK1, ROCK2\", \"marker\": {\"color\": \"#636efa\", \"symbol\": \"circle\"}, \"mode\": \"markers\", \"name\": \"ROCK1, ROCK2\", \"showlegend\": true, \"type\": \"scatter\", \"x\": [0.14636210558260676, -0.1845558929863222, -0.12556590441293294, 0.7883954673127965, 0.26570206546498826], \"xaxis\": \"x\", \"y\": [0.35580921340573063, 0.3133226526111478, 0.3693799366814588, 1.5542636747396266, 0.3816430679645907], \"yaxis\": \"y\"}, {\"customdata\": [[\"TP53\", 1194, \"TGFR1 (ALK5)\"], [\"BRAF\", 1194, \"TGFR1 (ALK5)\"], [\"PIK3CA\", 1194, \"TGFR1 (ALK5)\"]], \"hoverlabel\": {\"namelength\": 0}, \"hovertemplate\": \"Drug_Putative_Target=%{customdata[2]}<br>SE=%{x}<br>-logP=%{y}<br>F1=%{customdata[0]}<br>F2=%{customdata[1]}\", \"legendgroup\": \"TGFR1 (ALK5)\", \"marker\": {\"color\": \"#EF553B\", \"symbol\": \"circle\"}, \"mode\": \"markers\", \"name\": \"TGFR1 (ALK5)\", \"showlegend\": true, \"type\": \"scatter\", \"x\": [0.16594571894006094, 0.5188934353928767, -0.1514868830741444], \"xaxis\": \"x\", \"y\": [0.4112848907133325, 1.1040479315285463, 0.4595070779611001], \"yaxis\": \"y\"}, {\"customdata\": [[\"TP53\", 1199, \"ER\"], [\"BRAF\", 1199, \"ER\"], [\"PIK3CA\", 1199, \"ER\"]], \"hoverlabel\": {\"namelength\": 0}, \"hovertemplate\": \"Drug_Putative_Target=%{customdata[2]}<br>SE=%{x}<br>-logP=%{y}<br>F1=%{customdata[0]}<br>F2=%{customdata[1]}\", \"legendgroup\": \"ER\", \"marker\": {\"color\": \"#00cc96\", \"symbol\": \"circle\"}, \"mode\": \"markers\", \"name\": \"ER\", \"showlegend\": true, \"type\": \"scatter\", \"x\": [0.19555653537416, 0.20027857190384304, -0.43154045097913823], \"xaxis\": \"x\", \"y\": [0.49889831235847, 0.34380391395569804, 1.7839732989301067], \"yaxis\": \"y\"}, {\"customdata\": [[\"PIK3CA\", 1203, \"BTK\"], [\"TP53\", 192, \"BTK\"], [\"PIK3CA\", 192, \"BTK\"]], \"hoverlabel\": {\"namelength\": 0}, \"hovertemplate\": \"Drug_Putative_Target=%{customdata[2]}<br>SE=%{x}<br>-logP=%{y}<br>F1=%{customdata[0]}<br>F2=%{customdata[1]}\", \"legendgroup\": \"BTK\", \"marker\": {\"color\": \"#ab63fa\", \"symbol\": \"circle\"}, \"mode\": \"markers\", \"name\": \"BTK\", \"showlegend\": true, \"type\": \"scatter\", \"x\": [-0.4055897651243724, 0.31253130217770825, 0.007937712351118396], \"xaxis\": \"x\", \"y\": [1.0283160936760614, 0.8944487584759052, 0.020641772651513884], \"yaxis\": \"y\"}, {\"customdata\": [[\"TP53\", 1218, \"BRD2, BRD3, BRD4\"], [\"BRAF\", 1218, \"BRD2, BRD3, BRD4\"], [\"PIK3CA\", 1218, \"BRD2, BRD3, BRD4\"], [\"TP53\", 1219, \"BRD2, BRD3, BRD4\"], [\"BRAF\", 1219, \"BRD2, BRD3, BRD4\"], [\"PIK3CA\", 1219, \"BRD2, BRD3, BRD4\"], [\"TP53\", 275, \"BRD2, BRD3, BRD4\"], [\"PIK3CA\", 275, \"BRD2, BRD3, BRD4\"]], \"hoverlabel\": {\"namelength\": 0}, \"hovertemplate\": \"Drug_Putative_Target=%{customdata[2]}<br>SE=%{x}<br>-logP=%{y}<br>F1=%{customdata[0]}<br>F2=%{customdata[1]}\", \"legendgroup\": \"BRD2, BRD3, BRD4\", \"marker\": {\"color\": \"#FFA15A\", \"symbol\": \"circle\"}, \"mode\": \"markers\", \"name\": \"BRD2, BRD3, BRD4\", \"showlegend\": true, \"type\": \"scatter\", \"x\": [0.3623137434832931, -0.27321070382728746, 0.14989865332291386, -0.31208968768474143, 0.31190651270590514, -0.02221210373156269, 0.2513808403660158, 0.10422034225661413], \"xaxis\": \"x\", \"y\": [1.07701695852526, 0.4925020179489183, 0.4505323426288866, 0.889413301563465, 0.5784660200720646, 0.05760640381414831, 0.7163863950071082, 0.3079065795408557], \"yaxis\": \"y\"}, {\"customdata\": [[\"TP53\", 1230, \"EGLN1\"], [\"BRAF\", 1230, \"EGLN1\"], [\"PIK3CA\", 1230, \"EGLN1\"]], \"hoverlabel\": {\"namelength\": 0}, \"hovertemplate\": \"Drug_Putative_Target=%{customdata[2]}<br>SE=%{x}<br>-logP=%{y}<br>F1=%{customdata[0]}<br>F2=%{customdata[1]}\", \"legendgroup\": \"EGLN1\", \"marker\": {\"color\": \"#19d3f3\", \"symbol\": \"circle\"}, \"mode\": \"markers\", \"name\": \"EGLN1\", \"showlegend\": true, \"type\": \"scatter\", \"x\": [0.30138538228311923, 0.20242671871224724, 0.3439912468175366], \"xaxis\": \"x\", \"y\": [0.8503874957506828, 0.34801668375569056, 1.2959592507546822], \"yaxis\": \"y\"}, {\"customdata\": [[\"TP53\", 1236, \"G9a(EHMT2), GLP(EHMT1)\"], [\"BRAF\", 1236, \"G9a(EHMT2), GLP(EHMT1)\"], [\"PIK3CA\", 1236, \"G9a(EHMT2), GLP(EHMT1)\"], [\"TP53\", 245, \"G9a(EHMT2), GLP(EHMT1)\"], [\"PIK3CA\", 245, \"G9a(EHMT2), GLP(EHMT1)\"]], \"hoverlabel\": {\"namelength\": 0}, \"hovertemplate\": \"Drug_Putative_Target=%{customdata[2]}<br>SE=%{x}<br>-logP=%{y}<br>F1=%{customdata[0]}<br>F2=%{customdata[1]}\", \"legendgroup\": \"G9a(EHMT2), GLP(EHMT1)\", \"marker\": {\"color\": \"#FF6692\", \"symbol\": \"circle\"}, \"mode\": \"markers\", \"name\": \"G9a(EHMT2), GLP(EHMT1)\", \"showlegend\": true, \"type\": \"scatter\", \"x\": [-0.15469694854304145, -0.40511893506630586, 0.2094244143322593, -0.28433016179116954, 0.2211530789460648], \"xaxis\": \"x\", \"y\": [0.3791823329469789, 0.800026869136815, 0.6794142690872703, 0.8369696889719235, 0.7515965702808363], \"yaxis\": \"y\"}, {\"customdata\": [[\"TP53\", 1239, \"RNA helicase A\"], [\"PIK3CA\", 1239, \"RNA helicase A\"]], \"hoverlabel\": {\"namelength\": 0}, \"hovertemplate\": \"Drug_Putative_Target=%{customdata[2]}<br>SE=%{x}<br>-logP=%{y}<br>F1=%{customdata[0]}<br>F2=%{customdata[1]}\", \"legendgroup\": \"RNA helicase A\", \"marker\": {\"color\": \"#B6E880\", \"symbol\": \"circle\"}, \"mode\": \"markers\", \"name\": \"RNA helicase A\", \"showlegend\": true, \"type\": \"scatter\", \"x\": [-0.033466191045250684, -0.3004942544162996], \"xaxis\": \"x\", \"y\": [0.06809664461574637, 0.9919030700522584], \"yaxis\": \"y\"}, {\"customdata\": [[\"TP53\", 1241, \"GSK3B\"], [\"BRAF\", 1241, \"GSK3B\"], [\"PIK3CA\", 1241, \"GSK3B\"], [\"TP53\", 154, \"GSK3B\"], [\"PIK3CA\", 154, \"GSK3B\"]], \"hoverlabel\": {\"namelength\": 0}, \"hovertemplate\": \"Drug_Putative_Target=%{customdata[2]}<br>SE=%{x}<br>-logP=%{y}<br>F1=%{customdata[0]}<br>F2=%{customdata[1]}\", \"legendgroup\": \"GSK3B\", \"marker\": {\"color\": \"#FF97FF\", \"symbol\": \"circle\"}, \"mode\": \"markers\", \"name\": \"GSK3B\", \"showlegend\": true, \"type\": \"scatter\", \"x\": [-0.06837084065218475, 0.1973200774530231, 0.2260796105653309, 0.041203802371923115, 0.3233071287416291], \"xaxis\": \"x\", \"y\": [0.1531563564108923, 0.33740401314162, 0.7417249810619162, 0.09007004527233149, 1.1910289198977964], \"yaxis\": \"y\"}, {\"customdata\": [[\"TP53\", 1242, \"MAP3K7 (TAK1)\"], [\"BRAF\", 1242, \"MAP3K7 (TAK1)\"], [\"PIK3CA\", 1242, \"MAP3K7 (TAK1)\"], [\"TP53\", 260, \"MAP3K7 (TAK1)\"], [\"PIK3CA\", 260, \"MAP3K7 (TAK1)\"], [\"TP53\", 261, \"MAP3K7 (TAK1)\"], [\"PIK3CA\", 261, \"MAP3K7 (TAK1)\"]], \"hoverlabel\": {\"namelength\": 0}, \"hovertemplate\": \"Drug_Putative_Target=%{customdata[2]}<br>SE=%{x}<br>-logP=%{y}<br>F1=%{customdata[0]}<br>F2=%{customdata[1]}\", \"legendgroup\": \"MAP3K7 (TAK1)\", \"marker\": {\"color\": \"#FECB52\", \"symbol\": \"circle\"}, \"mode\": \"markers\", \"name\": \"MAP3K7 (TAK1)\", \"showlegend\": true, \"type\": \"scatter\", \"x\": [0.1477956416217368, -0.5327786664778889, -0.09168445901353846, -0.10484948782260044, -0.2118776093993532, 0.04537059324460632, 0.17521380412230048], \"xaxis\": \"x\", \"y\": [0.35849906503427365, 1.141494758465191, 0.2571804876861649, 0.2573190213162609, 0.7123209167729517, 0.10452020713949844, 0.5641200585596564], \"yaxis\": \"y\"}, {\"customdata\": [[\"TP53\", 1243, \"Increases ROS levels\"], [\"BRAF\", 1243, \"Increases ROS levels\"], [\"PIK3CA\", 1243, \"Increases ROS levels\"]], \"hoverlabel\": {\"namelength\": 0}, \"hovertemplate\": \"Drug_Putative_Target=%{customdata[2]}<br>SE=%{x}<br>-logP=%{y}<br>F1=%{customdata[0]}<br>F2=%{customdata[1]}\", \"legendgroup\": \"Increases ROS levels\", \"marker\": {\"color\": \"#636efa\", \"symbol\": \"circle\"}, \"mode\": \"markers\", \"name\": \"Increases ROS levels\", \"showlegend\": true, \"type\": \"scatter\", \"x\": [-0.19042944917275695, 0.3404264225965796, -0.4465358777641187], \"xaxis\": \"x\", \"y\": [0.4834024057593331, 0.6437135444731419, 1.8749690808416608], \"yaxis\": \"y\"}, {\"customdata\": [[\"TP53\", 1248, \"NAMPT\"], [\"BRAF\", 1248, \"NAMPT\"], [\"PIK3CA\", 1248, \"NAMPT\"]], \"hoverlabel\": {\"namelength\": 0}, \"hovertemplate\": \"Drug_Putative_Target=%{customdata[2]}<br>SE=%{x}<br>-logP=%{y}<br>F1=%{customdata[0]}<br>F2=%{customdata[1]}\", \"legendgroup\": \"NAMPT\", \"marker\": {\"color\": \"#EF553B\", \"symbol\": \"circle\"}, \"mode\": \"markers\", \"name\": \"NAMPT\", \"showlegend\": true, \"type\": \"scatter\", \"x\": [0.5546735731126051, -0.5412897853513478, -0.034446170934199265], \"xaxis\": \"x\", \"y\": [1.9538528889350888, 1.1660925107477862, 0.09011701063480347], \"yaxis\": \"y\"}, {\"customdata\": [[\"TP53\", 1259, \"PARP1\"], [\"BRAF\", 1259, \"PARP1\"], [\"PIK3CA\", 1259, \"PARP1\"]], \"hoverlabel\": {\"namelength\": 0}, \"hovertemplate\": \"Drug_Putative_Target=%{customdata[2]}<br>SE=%{x}<br>-logP=%{y}<br>F1=%{customdata[0]}<br>F2=%{customdata[1]}\", \"legendgroup\": \"PARP1\", \"marker\": {\"color\": \"#00cc96\", \"symbol\": \"circle\"}, \"mode\": \"markers\", \"name\": \"PARP1\", \"showlegend\": true, \"type\": \"scatter\", \"x\": [0.1737264170955257, 0.27716190290982623, -0.0971684007275006], \"xaxis\": \"x\", \"y\": [0.4338680019233165, 0.501932877558024, 0.2762821231230284], \"yaxis\": \"y\"}, {\"customdata\": [[\"TP53\", 1261, \"TR10A (DR4),  TR10B (DR5)\"], [\"BRAF\", 1261, \"TR10A (DR4),  TR10B (DR5)\"], [\"PIK3CA\", 1261, \"TR10A (DR4),  TR10B (DR5)\"]], \"hoverlabel\": {\"namelength\": 0}, \"hovertemplate\": \"Drug_Putative_Target=%{customdata[2]}<br>SE=%{x}<br>-logP=%{y}<br>F1=%{customdata[0]}<br>F2=%{customdata[1]}\", \"legendgroup\": \"TR10A (DR4),  TR10B (DR5)\", \"marker\": {\"color\": \"#ab63fa\", \"symbol\": \"circle\"}, \"mode\": \"markers\", \"name\": \"TR10A (DR4),  TR10B (DR5)\", \"showlegend\": true, \"type\": \"scatter\", \"x\": [-0.2739215466361617, -0.2037354326502293, 0.7619582523180098], \"xaxis\": \"x\", \"y\": [0.7532403518352981, 0.35058892888277865, 4.3697787544873545], \"yaxis\": \"y\"}, {\"customdata\": [[\"TP53\", 1262, \"LMBL3\"], [\"BRAF\", 1262, \"LMBL3\"], [\"PIK3CA\", 1262, \"LMBL3\"]], \"hoverlabel\": {\"namelength\": 0}, \"hovertemplate\": \"Drug_Putative_Target=%{customdata[2]}<br>SE=%{x}<br>-logP=%{y}<br>F1=%{customdata[0]}<br>F2=%{customdata[1]}\", \"legendgroup\": \"LMBL3\", \"marker\": {\"color\": \"#FFA15A\", \"symbol\": \"circle\"}, \"mode\": \"markers\", \"name\": \"LMBL3\", \"showlegend\": true, \"type\": \"scatter\", \"x\": [0.404929750777443, -0.5254851094698842, 0.20121884611806254], \"xaxis\": \"x\", \"y\": [1.2509940310838032, 1.120591582543703, 0.6417648476799221], \"yaxis\": \"y\"}, {\"customdata\": [[\"TP53\", 1264, \"Q8TEK3 (DOT1L)\"], [\"BRAF\", 1264, \"Q8TEK3 (DOT1L)\"], [\"PIK3CA\", 1264, \"Q8TEK3 (DOT1L)\"]], \"hoverlabel\": {\"namelength\": 0}, \"hovertemplate\": \"Drug_Putative_Target=%{customdata[2]}<br>SE=%{x}<br>-logP=%{y}<br>F1=%{customdata[0]}<br>F2=%{customdata[1]}\", \"legendgroup\": \"Q8TEK3 (DOT1L)\", \"marker\": {\"color\": \"#19d3f3\", \"symbol\": \"circle\"}, \"mode\": \"markers\", \"name\": \"Q8TEK3 (DOT1L)\", \"showlegend\": true, \"type\": \"scatter\", \"x\": [0.130597326519373, -0.10843070641249106, 0.1403738623757011], \"xaxis\": \"x\", \"y\": [0.31143381518469365, 0.1740453438944954, 0.4172180751244313], \"yaxis\": \"y\"}, {\"customdata\": [[\"TP53\", 1268, \"TNKS1 (tankyrase-1)\"], [\"BRAF\", 1268, \"TNKS1 (tankyrase-1)\"], [\"PIK3CA\", 1268, \"TNKS1 (tankyrase-1)\"]], \"hoverlabel\": {\"namelength\": 0}, \"hovertemplate\": \"Drug_Putative_Target=%{customdata[2]}<br>SE=%{x}<br>-logP=%{y}<br>F1=%{customdata[0]}<br>F2=%{customdata[1]}\", \"legendgroup\": \"TNKS1 (tankyrase-1)\", \"marker\": {\"color\": \"#FF6692\", \"symbol\": \"circle\"}, \"mode\": \"markers\", \"name\": \"TNKS1 (tankyrase-1)\", \"showlegend\": true, \"type\": \"scatter\", \"x\": [-0.3904751572112895, 0.5555932673536811, -0.1826257342142446], \"xaxis\": \"x\", \"y\": [1.1956753434183292, 1.2103603116070818, 0.5744662420809641], \"yaxis\": \"y\"}, {\"customdata\": [[\"TP53\", 133, \"DNA intercalating\"], [\"PIK3CA\", 133, \"DNA intercalating\"]], \"hoverlabel\": {\"namelength\": 0}, \"hovertemplate\": \"Drug_Putative_Target=%{customdata[2]}<br>SE=%{x}<br>-logP=%{y}<br>F1=%{customdata[0]}<br>F2=%{customdata[1]}\", \"legendgroup\": \"DNA intercalating\", \"marker\": {\"color\": \"#B6E880\", \"symbol\": \"circle\"}, \"mode\": \"markers\", \"name\": \"DNA intercalating\", \"showlegend\": true, \"type\": \"scatter\", \"x\": [0.4417547711187964, -0.1377821429253306], \"xaxis\": \"x\", \"y\": [1.4219582586829602, 0.4210947379743735], \"yaxis\": \"y\"}, {\"customdata\": [[\"TP53\", 134, \"TOP2\"], [\"PIK3CA\", 134, \"TOP2\"]], \"hoverlabel\": {\"namelength\": 0}, \"hovertemplate\": \"Drug_Putative_Target=%{customdata[2]}<br>SE=%{x}<br>-logP=%{y}<br>F1=%{customdata[0]}<br>F2=%{customdata[1]}\", \"legendgroup\": \"TOP2\", \"marker\": {\"color\": \"#FF97FF\", \"symbol\": \"circle\"}, \"mode\": \"markers\", \"name\": \"TOP2\", \"showlegend\": true, \"type\": \"scatter\", \"x\": [0.3208110007821713, -0.3058570489423049], \"xaxis\": \"x\", \"y\": [0.92169728817515, 1.1054641482391765], \"yaxis\": \"y\"}, {\"customdata\": [[\"TP53\", 135, \"DNA replication\"], [\"PIK3CA\", 135, \"DNA replication\"]], \"hoverlabel\": {\"namelength\": 0}, \"hovertemplate\": \"Drug_Putative_Target=%{customdata[2]}<br>SE=%{x}<br>-logP=%{y}<br>F1=%{customdata[0]}<br>F2=%{customdata[1]}\", \"legendgroup\": \"DNA replication\", \"marker\": {\"color\": \"#FECB52\", \"symbol\": \"circle\"}, \"mode\": \"markers\", \"name\": \"DNA replication\", \"showlegend\": true, \"type\": \"scatter\", \"x\": [0.4183692506363973, -0.16599839626427487], \"xaxis\": \"x\", \"y\": [1.31886599334575, 0.5247646434899808], \"yaxis\": \"y\"}, {\"customdata\": [[\"TP53\", 1375, \"DNA akylating agent\"], [\"BRAF\", 1375, \"DNA akylating agent\"], [\"PIK3CA\", 1375, \"DNA akylating agent\"]], \"hoverlabel\": {\"namelength\": 0}, \"hovertemplate\": \"Drug_Putative_Target=%{customdata[2]}<br>SE=%{x}<br>-logP=%{y}<br>F1=%{customdata[0]}<br>F2=%{customdata[1]}\", \"legendgroup\": \"DNA akylating agent\", \"marker\": {\"color\": \"#636efa\", \"symbol\": \"circle\"}, \"mode\": \"markers\", \"name\": \"DNA akylating agent\", \"showlegend\": true, \"type\": \"scatter\", \"x\": [0.06979143425128867, -0.18292795468502568, 0.3203607977675331], \"xaxis\": \"x\", \"y\": [0.1565646408562439, 0.3096396507898379, 1.1667277713874171], \"yaxis\": \"y\"}, {\"customdata\": [[\"TP53\", 1378, \"DNA damage\"], [\"BRAF\", 1378, \"DNA damage\"], [\"PIK3CA\", 1378, \"DNA damage\"], [\"TP53\", 190, \"DNA damage\"], [\"PIK3CA\", 190, \"DNA damage\"]], \"hoverlabel\": {\"namelength\": 0}, \"hovertemplate\": \"Drug_Putative_Target=%{customdata[2]}<br>SE=%{x}<br>-logP=%{y}<br>F1=%{customdata[0]}<br>F2=%{customdata[1]}\", \"legendgroup\": \"DNA damage\", \"marker\": {\"color\": \"#EF553B\", \"symbol\": \"circle\"}, \"mode\": \"markers\", \"name\": \"DNA damage\", \"showlegend\": true, \"type\": \"scatter\", \"x\": [-0.0562540789913586, 0.564773118450848, -0.018542226219512372, 0.43137661458604, -0.013999870547482873], \"xaxis\": \"x\", \"y\": [0.12528929761941945, 1.2399826313145694, 0.04816006437283607, 1.3757782145847968, 0.03668993607310605], \"yaxis\": \"y\"}, {\"customdata\": [[\"TP53\", 147, \"PTPN6 (SHP-1), PTPN11 (SHP-2)\"], [\"PIK3CA\", 147, \"PTPN6 (SHP-1), PTPN11 (SHP-2)\"]], \"hoverlabel\": {\"namelength\": 0}, \"hovertemplate\": \"Drug_Putative_Target=%{customdata[2]}<br>SE=%{x}<br>-logP=%{y}<br>F1=%{customdata[0]}<br>F2=%{customdata[1]}\", \"legendgroup\": \"PTPN6 (SHP-1), PTPN11 (SHP-2)\", \"marker\": {\"color\": \"#00cc96\", \"symbol\": \"circle\"}, \"mode\": \"markers\", \"name\": \"PTPN6 (SHP-1), PTPN11 (SHP-2)\", \"showlegend\": true, \"type\": \"scatter\", \"x\": [0.5665882543887963, -0.024500865311274343], \"xaxis\": \"x\", \"y\": [2.0249386269602403, 0.06372396710879369], \"yaxis\": \"y\"}, {\"customdata\": [[\"TP53\", 150, \"ANDR (androgen receptor)\"], [\"PIK3CA\", 150, \"ANDR (androgen receptor)\"], [\"TP53\", 1502, \"ANDR (androgen receptor)\"], [\"PIK3CA\", 1502, \"ANDR (androgen receptor)\"]], \"hoverlabel\": {\"namelength\": 0}, \"hovertemplate\": \"Drug_Putative_Target=%{customdata[2]}<br>SE=%{x}<br>-logP=%{y}<br>F1=%{customdata[0]}<br>F2=%{customdata[1]}\", \"legendgroup\": \"ANDR (androgen receptor)\", \"marker\": {\"color\": \"#ab63fa\", \"symbol\": \"circle\"}, \"mode\": \"markers\", \"name\": \"ANDR (androgen receptor)\", \"showlegend\": true, \"type\": \"scatter\", \"x\": [0.9165176558662368, 0.1857518869812493, 0.17834799547995653, -0.0885201316479824], \"xaxis\": \"x\", \"y\": [4.378060768910991, 0.6011043842486788, 0.42117243306018176, 0.2455647471537556], \"yaxis\": \"y\"}, {\"customdata\": [[\"TP53\", 151, \"ARFGAP\"], [\"PIK3CA\", 151, \"ARFGAP\"]], \"hoverlabel\": {\"namelength\": 0}, \"hovertemplate\": \"Drug_Putative_Target=%{customdata[2]}<br>SE=%{x}<br>-logP=%{y}<br>F1=%{customdata[0]}<br>F2=%{customdata[1]}\", \"legendgroup\": \"ARFGAP\", \"marker\": {\"color\": \"#FFA15A\", \"symbol\": \"circle\"}, \"mode\": \"markers\", \"name\": \"ARFGAP\", \"showlegend\": true, \"type\": \"scatter\", \"x\": [0.4401697439701043, -0.14099379828231573], \"xaxis\": \"x\", \"y\": [1.414860742196961, 0.4325806641524756], \"yaxis\": \"y\"}, {\"customdata\": [[\"TP53\", 1527, \"PI3K\"], [\"PIK3CA\", 1527, \"PI3K\"], [\"TP53\", 223, \"PI3K\"], [\"PIK3CA\", 223, \"PI3K\"]], \"hoverlabel\": {\"namelength\": 0}, \"hovertemplate\": \"Drug_Putative_Target=%{customdata[2]}<br>SE=%{x}<br>-logP=%{y}<br>F1=%{customdata[0]}<br>F2=%{customdata[1]}\", \"legendgroup\": \"PI3K\", \"marker\": {\"color\": \"#19d3f3\", \"symbol\": \"circle\"}, \"mode\": \"markers\", \"name\": \"PI3K\", \"showlegend\": true, \"type\": \"scatter\", \"x\": [-0.6972162036297485, -0.9567417532528771, -0.2058323437669054, -0.594819581163545], \"xaxis\": \"x\", \"y\": [2.5675546349014513, 6.463545069540375, 0.5604884185361253, 3.0222943057756795], \"yaxis\": \"y\"}, {\"customdata\": [[\"TP53\", 1529, \"NEDD8-activating enzyme\"], [\"PIK3CA\", 1529, \"NEDD8-activating enzyme\"]], \"hoverlabel\": {\"namelength\": 0}, \"hovertemplate\": \"Drug_Putative_Target=%{customdata[2]}<br>SE=%{x}<br>-logP=%{y}<br>F1=%{customdata[0]}<br>F2=%{customdata[1]}\", \"legendgroup\": \"NEDD8-activating enzyme\", \"marker\": {\"color\": \"#FF6692\", \"symbol\": \"circle\"}, \"mode\": \"markers\", \"name\": \"NEDD8-activating enzyme\", \"showlegend\": true, \"type\": \"scatter\", \"x\": [0.3526421890799005, 0.4073852133287041], \"xaxis\": \"x\", \"y\": [0.9437263656852608, 1.4065240352618846], \"yaxis\": \"y\"}, {\"customdata\": [[\"TP53\", 153, \"KIT\"], [\"PIK3CA\", 153, \"KIT\"], [\"TP53\", 292, \"KIT\"], [\"PIK3CA\", 292, \"KIT\"]], \"hoverlabel\": {\"namelength\": 0}, \"hovertemplate\": \"Drug_Putative_Target=%{customdata[2]}<br>SE=%{x}<br>-logP=%{y}<br>F1=%{customdata[0]}<br>F2=%{customdata[1]}\", \"legendgroup\": \"KIT\", \"marker\": {\"color\": \"#B6E880\", \"symbol\": \"circle\"}, \"mode\": \"markers\", \"name\": \"KIT\", \"showlegend\": true, \"type\": \"scatter\", \"x\": [0.2913667479554541, 0.11499146296986885, 0.3160325960441476, 0.023280114599846188], \"xaxis\": \"x\", \"y\": [0.8144546070453155, 0.33403246658091224, 0.9554372705684232, 0.060826905287078], \"yaxis\": \"y\"}, {\"customdata\": [[\"TP53\", 158, \"FAK\"], [\"PIK3CA\", 158, \"FAK\"]], \"hoverlabel\": {\"namelength\": 0}, \"hovertemplate\": \"Drug_Putative_Target=%{customdata[2]}<br>SE=%{x}<br>-logP=%{y}<br>F1=%{customdata[0]}<br>F2=%{customdata[1]}\", \"legendgroup\": \"FAK\", \"marker\": {\"color\": \"#FF97FF\", \"symbol\": \"circle\"}, \"mode\": \"markers\", \"name\": \"FAK\", \"showlegend\": true, \"type\": \"scatter\", \"x\": [0.4033836820414215, 0.04542704719431494], \"xaxis\": \"x\", \"y\": [1.2496620166397967, 0.12125954532036505], \"yaxis\": \"y\"}, {\"customdata\": [[\"TP53\", 159, \"BRAFV600E, TAK, MAP4K5\"], [\"PIK3CA\", 159, \"BRAFV600E, TAK, MAP4K5\"]], \"hoverlabel\": {\"namelength\": 0}, \"hovertemplate\": \"Drug_Putative_Target=%{customdata[2]}<br>SE=%{x}<br>-logP=%{y}<br>F1=%{customdata[0]}<br>F2=%{customdata[1]}\", \"legendgroup\": \"BRAFV600E, TAK, MAP4K5\", \"marker\": {\"color\": \"#FECB52\", \"symbol\": \"circle\"}, \"mode\": \"markers\", \"name\": \"BRAFV600E, TAK, MAP4K5\", \"showlegend\": true, \"type\": \"scatter\", \"x\": [-0.004070019884753889, 0.2862543852776462], \"xaxis\": \"x\", \"y\": [0.008560419726659118, 1.0125156116201541], \"yaxis\": \"y\"}, {\"customdata\": [[\"TP53\", 163, \"BRD4\"], [\"PIK3CA\", 163, \"BRD4\"]], \"hoverlabel\": {\"namelength\": 0}, \"hovertemplate\": \"Drug_Putative_Target=%{customdata[2]}<br>SE=%{x}<br>-logP=%{y}<br>F1=%{customdata[0]}<br>F2=%{customdata[1]}\", \"legendgroup\": \"BRD4\", \"marker\": {\"color\": \"#636efa\", \"symbol\": \"circle\"}, \"mode\": \"markers\", \"name\": \"BRD4\", \"showlegend\": true, \"type\": \"scatter\", \"x\": [-0.10707563723064098, 0.4797000671504309], \"xaxis\": \"x\", \"y\": [0.2502987046500866, 2.0842597340211357], \"yaxis\": \"y\"}, {\"customdata\": [[\"TP53\", 164, \"HDAC\"], [\"PIK3CA\", 164, \"HDAC\"], [\"TP53\", 200, \"HDAC\"], [\"PIK3CA\", 200, \"HDAC\"], [\"TP53\", 272, \"HDAC\"], [\"PIK3CA\", 272, \"HDAC\"], [\"TP53\", 274, \"HDAC\"], [\"PIK3CA\", 274, \"HDAC\"], [\"TP53\", 88, \"HDAC\"], [\"PIK3CA\", 88, \"HDAC\"]], \"hoverlabel\": {\"namelength\": 0}, \"hovertemplate\": \"Drug_Putative_Target=%{customdata[2]}<br>SE=%{x}<br>-logP=%{y}<br>F1=%{customdata[0]}<br>F2=%{customdata[1]}\", \"legendgroup\": \"HDAC\", \"marker\": {\"color\": \"#EF553B\", \"symbol\": \"circle\"}, \"mode\": \"markers\", \"name\": \"HDAC\", \"showlegend\": true, \"type\": \"scatter\", \"x\": [0.09649263092283246, -0.15601086925489385, 0.048890700452150035, -0.2708395938546925, 0.10693678817307424, 0.08257910907424719, 0.02918326706921468, -0.021980159014102787, -0.2071119551121688, 0.06152100006686927], \"xaxis\": \"x\", \"y\": [0.2231683473464945, 0.4757508531438108, 0.10806722601004662, 0.966977211679134, 0.2630177035524013, 0.2375183020839586, 0.06606408960323769, 0.058561370547491484, 0.2871793592060117, 0.07811075127988851], \"yaxis\": \"y\"}, {\"customdata\": [[\"TP53\", 165, \"Prolyl-4-Hydroxylase\"], [\"PIK3CA\", 165, \"Prolyl-4-Hydroxylase\"]], \"hoverlabel\": {\"namelength\": 0}, \"hovertemplate\": \"Drug_Putative_Target=%{customdata[2]}<br>SE=%{x}<br>-logP=%{y}<br>F1=%{customdata[0]}<br>F2=%{customdata[1]}\", \"legendgroup\": \"Prolyl-4-Hydroxylase\", \"marker\": {\"color\": \"#00cc96\", \"symbol\": \"circle\"}, \"mode\": \"markers\", \"name\": \"Prolyl-4-Hydroxylase\", \"showlegend\": true, \"type\": \"scatter\", \"x\": [-0.0810026579818422, 0.3264195635068398], \"xaxis\": \"x\", \"y\": [0.1844282578148425, 1.2065734608785297], \"yaxis\": \"y\"}, {\"customdata\": [[\"TP53\", 166, \"Farnesyl transferase (FNTA)\"], [\"PIK3CA\", 166, \"Farnesyl transferase (FNTA)\"]], \"hoverlabel\": {\"namelength\": 0}, \"hovertemplate\": \"Drug_Putative_Target=%{customdata[2]}<br>SE=%{x}<br>-logP=%{y}<br>F1=%{customdata[0]}<br>F2=%{customdata[1]}\", \"legendgroup\": \"Farnesyl transferase (FNTA)\", \"marker\": {\"color\": \"#ab63fa\", \"symbol\": \"circle\"}, \"mode\": \"markers\", \"name\": \"Farnesyl transferase (FNTA)\", \"showlegend\": true, \"type\": \"scatter\", \"x\": [-0.07137910387522299, -0.2865109164822198], \"xaxis\": \"x\", \"y\": [0.16093395754983575, 1.0137105716950674], \"yaxis\": \"y\"}, {\"customdata\": [[\"TP53\", 167, \"PDPK1 (PDK1)\"], [\"PIK3CA\", 167, \"PDPK1 (PDK1)\"], [\"TP53\", 222, \"PDPK1 (PDK1)\"], [\"PIK3CA\", 222, \"PDPK1 (PDK1)\"], [\"TP53\", 287, \"PDPK1 (PDK1)\"], [\"PIK3CA\", 287, \"PDPK1 (PDK1)\"]], \"hoverlabel\": {\"namelength\": 0}, \"hovertemplate\": \"Drug_Putative_Target=%{customdata[2]}<br>SE=%{x}<br>-logP=%{y}<br>F1=%{customdata[0]}<br>F2=%{customdata[1]}\", \"legendgroup\": \"PDPK1 (PDK1)\", \"marker\": {\"color\": \"#FFA15A\", \"symbol\": \"circle\"}, \"mode\": \"markers\", \"name\": \"PDPK1 (PDK1)\", \"showlegend\": true, \"type\": \"scatter\", \"x\": [0.3652958528361305, -0.32794842534341084, -0.2012523108804169, 0.21033410635480893, -0.18769195169997907, 0.18717523428258706], \"xaxis\": \"x\", \"y\": [1.0975786356930473, 1.2480963527838744, 0.545489579367119, 0.7058558488485285, 0.5017941903582194, 0.6112476611588354], \"yaxis\": \"y\"}, {\"customdata\": [[\"TP53\", 170, \"unknown\"], [\"PIK3CA\", 170, \"unknown\"]], \"hoverlabel\": {\"namelength\": 0}, \"hovertemplate\": \"Drug_Putative_Target=%{customdata[2]}<br>SE=%{x}<br>-logP=%{y}<br>F1=%{customdata[0]}<br>F2=%{customdata[1]}\", \"legendgroup\": \"unknown\", \"marker\": {\"color\": \"#19d3f3\", \"symbol\": \"circle\"}, \"mode\": \"markers\", \"name\": \"unknown\", \"showlegend\": true, \"type\": \"scatter\", \"x\": [0.10926562166155053, 0.019170091775023292], \"xaxis\": \"x\", \"y\": [0.2559806322903918, 0.049528451501387495], \"yaxis\": \"y\"}, {\"customdata\": [[\"TP53\", 171, \"AKT1, AKT2, AKT3\"], [\"PIK3CA\", 171, \"AKT1, AKT2, AKT3\"], [\"PIK3CA\", 86, \"AKT1, AKT2, AKT3\"]], \"hoverlabel\": {\"namelength\": 0}, \"hovertemplate\": \"Drug_Putative_Target=%{customdata[2]}<br>SE=%{x}<br>-logP=%{y}<br>F1=%{customdata[0]}<br>F2=%{customdata[1]}\", \"legendgroup\": \"AKT1, AKT2, AKT3\", \"marker\": {\"color\": \"#FF6692\", \"symbol\": \"circle\"}, \"mode\": \"markers\", \"name\": \"AKT1, AKT2, AKT3\", \"showlegend\": true, \"type\": \"scatter\", \"x\": [-0.4903200682800158, -0.4438820346861469, -0.7521584199480401], \"xaxis\": \"x\", \"y\": [1.6406757192717778, 1.85870195623025, 1.3543788782883603], \"yaxis\": \"y\"}, {\"customdata\": [[\"TP53\", 172, \"XIAP\"], [\"PIK3CA\", 172, \"XIAP\"]], \"hoverlabel\": {\"namelength\": 0}, \"hovertemplate\": \"Drug_Putative_Target=%{customdata[2]}<br>SE=%{x}<br>-logP=%{y}<br>F1=%{customdata[0]}<br>F2=%{customdata[1]}\", \"legendgroup\": \"XIAP\", \"marker\": {\"color\": \"#B6E880\", \"symbol\": \"circle\"}, \"mode\": \"markers\", \"name\": \"XIAP\", \"showlegend\": true, \"type\": \"scatter\", \"x\": [-0.2129660502210399, 0.21211463141030948], \"xaxis\": \"x\", \"y\": [0.5545536926746554, 0.7079366243383097], \"yaxis\": \"y\"}, {\"customdata\": [[\"TP53\", 173, \"unknown \"], [\"PIK3CA\", 173, \"unknown \"]], \"hoverlabel\": {\"namelength\": 0}, \"hovertemplate\": \"Drug_Putative_Target=%{customdata[2]}<br>SE=%{x}<br>-logP=%{y}<br>F1=%{customdata[0]}<br>F2=%{customdata[1]}\", \"legendgroup\": \"unknown \", \"marker\": {\"color\": \"#FF97FF\", \"symbol\": \"circle\"}, \"mode\": \"markers\", \"name\": \"unknown \", \"showlegend\": true, \"type\": \"scatter\", \"x\": [0.09735356847777303, 0.1370679583674107], \"xaxis\": \"x\", \"y\": [0.2261080651114871, 0.4185514381492326], \"yaxis\": \"y\"}, {\"customdata\": [[\"TP53\", 175, \"CASP3 agonist\"], [\"PIK3CA\", 175, \"CASP3 agonist\"]], \"hoverlabel\": {\"namelength\": 0}, \"hovertemplate\": \"Drug_Putative_Target=%{customdata[2]}<br>SE=%{x}<br>-logP=%{y}<br>F1=%{customdata[0]}<br>F2=%{customdata[1]}\", \"legendgroup\": \"CASP3 agonist\", \"marker\": {\"color\": \"#FECB52\", \"symbol\": \"circle\"}, \"mode\": \"markers\", \"name\": \"CASP3 agonist\", \"showlegend\": true, \"type\": \"scatter\", \"x\": [0.07636503295411244, 0.06722766741616319], \"xaxis\": \"x\", \"y\": [0.1736195330751379, 0.18843585031645885], \"yaxis\": \"y\"}, {\"customdata\": [[\"TP53\", 176, \"PAK1, PAK2, PAK3\"], [\"PIK3CA\", 176, \"PAK1, PAK2, PAK3\"]], \"hoverlabel\": {\"namelength\": 0}, \"hovertemplate\": \"Drug_Putative_Target=%{customdata[2]}<br>SE=%{x}<br>-logP=%{y}<br>F1=%{customdata[0]}<br>F2=%{customdata[1]}\", \"legendgroup\": \"PAK1, PAK2, PAK3\", \"marker\": {\"color\": \"#636efa\", \"symbol\": \"circle\"}, \"mode\": \"markers\", \"name\": \"PAK1, PAK2, PAK3\", \"showlegend\": true, \"type\": \"scatter\", \"x\": [0.2318556965690517, -0.7038886132114489], \"xaxis\": \"x\", \"y\": [0.6148309801467312, 3.9473851409632266], \"yaxis\": \"y\"}, {\"customdata\": [[\"TP53\", 177, \"SGK3\"], [\"PIK3CA\", 177, \"SGK3\"]], \"hoverlabel\": {\"namelength\": 0}, \"hovertemplate\": \"Drug_Putative_Target=%{customdata[2]}<br>SE=%{x}<br>-logP=%{y}<br>F1=%{customdata[0]}<br>F2=%{customdata[1]}\", \"legendgroup\": \"SGK3\", \"marker\": {\"color\": \"#EF553B\", \"symbol\": \"circle\"}, \"mode\": \"markers\", \"name\": \"SGK3\", \"showlegend\": true, \"type\": \"scatter\", \"x\": [0.510336110406983, -0.4144634302519293], \"xaxis\": \"x\", \"y\": [1.7447682646929663, 1.7325343869048198], \"yaxis\": \"y\"}, {\"customdata\": [[\"TP53\", 178, \"SYK\"], [\"PIK3CA\", 178, \"SYK\"]], \"hoverlabel\": {\"namelength\": 0}, \"hovertemplate\": \"Drug_Putative_Target=%{customdata[2]}<br>SE=%{x}<br>-logP=%{y}<br>F1=%{customdata[0]}<br>F2=%{customdata[1]}\", \"legendgroup\": \"SYK\", \"marker\": {\"color\": \"#00cc96\", \"symbol\": \"circle\"}, \"mode\": \"markers\", \"name\": \"SYK\", \"showlegend\": true, \"type\": \"scatter\", \"x\": [0.2547180334069145, -0.1198497988045117], \"xaxis\": \"x\", \"y\": [0.6903799362357361, 0.35842229491352506], \"yaxis\": \"y\"}, {\"customdata\": [[\"TP53\", 179, \"DNA antimetabolite\"], [\"PIK3CA\", 179, \"DNA antimetabolite\"]], \"hoverlabel\": {\"namelength\": 0}, \"hovertemplate\": \"Drug_Putative_Target=%{customdata[2]}<br>SE=%{x}<br>-logP=%{y}<br>F1=%{customdata[0]}<br>F2=%{customdata[1]}\", \"legendgroup\": \"DNA antimetabolite\", \"marker\": {\"color\": \"#ab63fa\", \"symbol\": \"circle\"}, \"mode\": \"markers\", \"name\": \"DNA antimetabolite\", \"showlegend\": true, \"type\": \"scatter\", \"x\": [0.16585421214692614, -0.056181396468577886], \"xaxis\": \"x\", \"y\": [0.4336401977274874, 0.1563347805789008], \"yaxis\": \"y\"}, {\"customdata\": [[\"TP53\", 180, \"sarco-endoplasmic reticulum Ca2+-ATPases\"], [\"PIK3CA\", 180, \"sarco-endoplasmic reticulum Ca2+-ATPases\"]], \"hoverlabel\": {\"namelength\": 0}, \"hovertemplate\": \"Drug_Putative_Target=%{customdata[2]}<br>SE=%{x}<br>-logP=%{y}<br>F1=%{customdata[0]}<br>F2=%{customdata[1]}\", \"legendgroup\": \"sarco-endoplasmic reticulum Ca2+-ATPases\", \"marker\": {\"color\": \"#FFA15A\", \"symbol\": \"circle\"}, \"mode\": \"markers\", \"name\": \"sarco-endoplasmic reticulum Ca2+-ATPases\", \"showlegend\": true, \"type\": \"scatter\", \"x\": [0.08912877233893468, 0.4128206488253775], \"xaxis\": \"x\", \"y\": [0.2052874230040453, 1.7226478099875937], \"yaxis\": \"y\"}, {\"customdata\": [[\"TP53\", 182, \"BCL2, BCL2L1, MCL1\"], [\"PIK3CA\", 182, \"BCL2, BCL2L1, MCL1\"]], \"hoverlabel\": {\"namelength\": 0}, \"hovertemplate\": \"Drug_Putative_Target=%{customdata[2]}<br>SE=%{x}<br>-logP=%{y}<br>F1=%{customdata[0]}<br>F2=%{customdata[1]}\", \"legendgroup\": \"BCL2, BCL2L1, MCL1\", \"marker\": {\"color\": \"#19d3f3\", \"symbol\": \"circle\"}, \"mode\": \"markers\", \"name\": \"BCL2, BCL2L1, MCL1\", \"showlegend\": true, \"type\": \"scatter\", \"x\": [0.5111435373478846, -0.1447610604782195], \"xaxis\": \"x\", \"y\": [1.7487552172560188, 0.4461556992454883], \"yaxis\": \"y\"}, {\"customdata\": [[\"TP53\", 186, \"Retinioic acid X family agonist\"], [\"PIK3CA\", 186, \"Retinioic acid X family agonist\"]], \"hoverlabel\": {\"namelength\": 0}, \"hovertemplate\": \"Drug_Putative_Target=%{customdata[2]}<br>SE=%{x}<br>-logP=%{y}<br>F1=%{customdata[0]}<br>F2=%{customdata[1]}\", \"legendgroup\": \"Retinioic acid X family agonist\", \"marker\": {\"color\": \"#FF6692\", \"symbol\": \"circle\"}, \"mode\": \"markers\", \"name\": \"Retinioic acid X family agonist\", \"showlegend\": true, \"type\": \"scatter\", \"x\": [0.35778554625481995, -0.012670176903384504], \"xaxis\": \"x\", \"y\": [1.0676555046757097, 0.033148734645329116], \"yaxis\": \"y\"}, {\"customdata\": [[\"TP53\", 193, \"CSF1R (cFMS)\"], [\"PIK3CA\", 193, \"CSF1R (cFMS)\"]], \"hoverlabel\": {\"namelength\": 0}, \"hovertemplate\": \"Drug_Putative_Target=%{customdata[2]}<br>SE=%{x}<br>-logP=%{y}<br>F1=%{customdata[0]}<br>F2=%{customdata[1]}\", \"legendgroup\": \"CSF1R (cFMS)\", \"marker\": {\"color\": \"#B6E880\", \"symbol\": \"circle\"}, \"mode\": \"markers\", \"name\": \"CSF1R (cFMS)\", \"showlegend\": true, \"type\": \"scatter\", \"x\": [0.18784419932421512, 0.1466071268601812], \"xaxis\": \"x\", \"y\": [0.5003656280438715, 0.4452317700482439], \"yaxis\": \"y\"}, {\"customdata\": [[\"TP53\", 197, \"PRKC\"], [\"PIK3CA\", 197, \"PRKC\"]], \"hoverlabel\": {\"namelength\": 0}, \"hovertemplate\": \"Drug_Putative_Target=%{customdata[2]}<br>SE=%{x}<br>-logP=%{y}<br>F1=%{customdata[0]}<br>F2=%{customdata[1]}\", \"legendgroup\": \"PRKC\", \"marker\": {\"color\": \"#FF97FF\", \"symbol\": \"circle\"}, \"mode\": \"markers\", \"name\": \"PRKC\", \"showlegend\": true, \"type\": \"scatter\", \"x\": [0.2840473302632234, -0.2671054712645722], \"xaxis\": \"x\", \"y\": [0.7915407861625428, 0.9496168542517432], \"yaxis\": \"y\"}, {\"customdata\": [[\"TP53\", 199, \"VEGFR, PDGFRA, PDGFRB, KIT\"], [\"PIK3CA\", 199, \"VEGFR, PDGFRA, PDGFRB, KIT\"]], \"hoverlabel\": {\"namelength\": 0}, \"hovertemplate\": \"Drug_Putative_Target=%{customdata[2]}<br>SE=%{x}<br>-logP=%{y}<br>F1=%{customdata[0]}<br>F2=%{customdata[1]}\", \"legendgroup\": \"VEGFR, PDGFRA, PDGFRB, KIT\", \"marker\": {\"color\": \"#FECB52\", \"symbol\": \"circle\"}, \"mode\": \"markers\", \"name\": \"VEGFR, PDGFRA, PDGFRB, KIT\", \"showlegend\": true, \"type\": \"scatter\", \"x\": [-0.10940500165914437, -0.2647031130136361], \"xaxis\": \"x\", \"y\": [0.2572078917928667, 0.9385129224757732], \"yaxis\": \"y\"}, {\"customdata\": [[\"TP53\", 203, \"IKBKB\"], [\"PIK3CA\", 203, \"IKBKB\"]], \"hoverlabel\": {\"namelength\": 0}, \"hovertemplate\": \"Drug_Putative_Target=%{customdata[2]}<br>SE=%{x}<br>-logP=%{y}<br>F1=%{customdata[0]}<br>F2=%{customdata[1]}\", \"legendgroup\": \"IKBKB\", \"marker\": {\"color\": \"#636efa\", \"symbol\": \"circle\"}, \"mode\": \"markers\", \"name\": \"IKBKB\", \"showlegend\": true, \"type\": \"scatter\", \"x\": [0.1574278570626889, -0.08871005601525002], \"xaxis\": \"x\", \"y\": [0.4080631726053032, 0.2571044738726504], \"yaxis\": \"y\"}, {\"customdata\": [[\"TP53\", 204, \"Farnesyl-transferase (FNTA)\"], [\"PIK3CA\", 204, \"Farnesyl-transferase (FNTA)\"]], \"hoverlabel\": {\"namelength\": 0}, \"hovertemplate\": \"Drug_Putative_Target=%{customdata[2]}<br>SE=%{x}<br>-logP=%{y}<br>F1=%{customdata[0]}<br>F2=%{customdata[1]}\", \"legendgroup\": \"Farnesyl-transferase (FNTA)\", \"marker\": {\"color\": \"#EF553B\", \"symbol\": \"circle\"}, \"mode\": \"markers\", \"name\": \"Farnesyl-transferase (FNTA)\", \"showlegend\": true, \"type\": \"scatter\", \"x\": [-0.16534747719146992, -0.2244887503624504], \"xaxis\": \"x\", \"y\": [0.4110025167644613, 0.7600713852369848], \"yaxis\": \"y\"}, {\"customdata\": [[\"TP53\", 206, \"JAK1, JAK2, TYK2\"], [\"PIK3CA\", 206, \"JAK1, JAK2, TYK2\"]], \"hoverlabel\": {\"namelength\": 0}, \"hovertemplate\": \"Drug_Putative_Target=%{customdata[2]}<br>SE=%{x}<br>-logP=%{y}<br>F1=%{customdata[0]}<br>F2=%{customdata[1]}\", \"legendgroup\": \"JAK1, JAK2, TYK2\", \"marker\": {\"color\": \"#00cc96\", \"symbol\": \"circle\"}, \"mode\": \"markers\", \"name\": \"JAK1, JAK2, TYK2\", \"showlegend\": true, \"type\": \"scatter\", \"x\": [0.8032276368360859, 0.21171147289675307], \"xaxis\": \"x\", \"y\": [3.7607946175056703, 0.7116240771997958], \"yaxis\": \"y\"}, {\"customdata\": [[\"TP53\", 207, \"JNK \"], [\"PIK3CA\", 207, \"JNK \"]], \"hoverlabel\": {\"namelength\": 0}, \"hovertemplate\": \"Drug_Putative_Target=%{customdata[2]}<br>SE=%{x}<br>-logP=%{y}<br>F1=%{customdata[0]}<br>F2=%{customdata[1]}\", \"legendgroup\": \"JNK \", \"marker\": {\"color\": \"#ab63fa\", \"symbol\": \"circle\"}, \"mode\": \"markers\", \"name\": \"JNK \", \"showlegend\": true, \"type\": \"scatter\", \"x\": [0.006744785204433652, 0.1679375701700755], \"xaxis\": \"x\", \"y\": [0.014269611912263678, 0.5321202234808148], \"yaxis\": \"y\"}, {\"customdata\": [[\"TP53\", 208, \"KIF11\"], [\"PIK3CA\", 208, \"KIF11\"], [\"PIK3CA\", 41, \"KIF11\"]], \"hoverlabel\": {\"namelength\": 0}, \"hovertemplate\": \"Drug_Putative_Target=%{customdata[2]}<br>SE=%{x}<br>-logP=%{y}<br>F1=%{customdata[0]}<br>F2=%{customdata[1]}\", \"legendgroup\": \"KIF11\", \"marker\": {\"color\": \"#FFA15A\", \"symbol\": \"circle\"}, \"mode\": \"markers\", \"name\": \"KIF11\", \"showlegend\": true, \"type\": \"scatter\", \"x\": [-0.4693821299195195, -0.0057329521071175895, 0.6152854235297491], \"xaxis\": \"x\", \"y\": [1.6451937647176924, 0.01495824384615691, 1.0203957861501445], \"yaxis\": \"y\"}, {\"customdata\": [[\"TP53\", 211, \"CRAF\"], [\"PIK3CA\", 211, \"CRAF\"]], \"hoverlabel\": {\"namelength\": 0}, \"hovertemplate\": \"Drug_Putative_Target=%{customdata[2]}<br>SE=%{x}<br>-logP=%{y}<br>F1=%{customdata[0]}<br>F2=%{customdata[1]}\", \"legendgroup\": \"CRAF\", \"marker\": {\"color\": \"#19d3f3\", \"symbol\": \"circle\"}, \"mode\": \"markers\", \"name\": \"CRAF\", \"showlegend\": true, \"type\": \"scatter\", \"x\": [0.3664389725842435, -0.21665207728698305], \"xaxis\": \"x\", \"y\": [1.1672735609644929, 0.7324465803485211], \"yaxis\": \"y\"}, {\"customdata\": [[\"TP53\", 219, \"CDK9\"], [\"PIK3CA\", 219, \"CDK9\"], [\"TP53\", 344, \"CDK9\"], [\"PIK3CA\", 344, \"CDK9\"], [\"TP53\", 345, \"CDK9\"], [\"PIK3CA\", 345, \"CDK9\"]], \"hoverlabel\": {\"namelength\": 0}, \"hovertemplate\": \"Drug_Putative_Target=%{customdata[2]}<br>SE=%{x}<br>-logP=%{y}<br>F1=%{customdata[0]}<br>F2=%{customdata[1]}\", \"legendgroup\": \"CDK9\", \"marker\": {\"color\": \"#FF6692\", \"symbol\": \"circle\"}, \"mode\": \"markers\", \"name\": \"CDK9\", \"showlegend\": true, \"type\": \"scatter\", \"x\": [-0.4773893218284554, 0.1796491486226521, -0.5327176907131195, -0.009719546445641436, 0.12637745657410182, 0.310755289676477], \"xaxis\": \"x\", \"y\": [1.6855025573718243, 0.5814585363744563, 1.9769696675315376, 0.025490727248182018, 0.3172178244143375, 1.1697526413912178], \"yaxis\": \"y\"}, {\"customdata\": [[\"TP53\", 221, \"p38a\"], [\"PIK3CA\", 221, \"p38a\"]], \"hoverlabel\": {\"namelength\": 0}, \"hovertemplate\": \"Drug_Putative_Target=%{customdata[2]}<br>SE=%{x}<br>-logP=%{y}<br>F1=%{customdata[0]}<br>F2=%{customdata[1]}\", \"legendgroup\": \"p38a\", \"marker\": {\"color\": \"#B6E880\", \"symbol\": \"circle\"}, \"mode\": \"markers\", \"name\": \"p38a\", \"showlegend\": true, \"type\": \"scatter\", \"x\": [0.26535327567725553, -0.3432324577357656], \"xaxis\": \"x\", \"y\": [0.7667069884538356, 1.3394074072287276], \"yaxis\": \"y\"}, {\"customdata\": [[\"TP53\", 224, \"PI3Kgamma\"], [\"PIK3CA\", 224, \"PI3Kgamma\"]], \"hoverlabel\": {\"namelength\": 0}, \"hovertemplate\": \"Drug_Putative_Target=%{customdata[2]}<br>SE=%{x}<br>-logP=%{y}<br>F1=%{customdata[0]}<br>F2=%{customdata[1]}\", \"legendgroup\": \"PI3Kgamma\", \"marker\": {\"color\": \"#FF97FF\", \"symbol\": \"circle\"}, \"mode\": \"markers\", \"name\": \"PI3Kgamma\", \"showlegend\": true, \"type\": \"scatter\", \"x\": [0.3350367920154452, -0.4422936294034053], \"xaxis\": \"x\", \"y\": [1.0358097623077418, 1.9207118538500971], \"yaxis\": \"y\"}, {\"customdata\": [[\"TP53\", 225, \"AURKA, AURKB\"], [\"PIK3CA\", 225, \"AURKA, AURKB\"]], \"hoverlabel\": {\"namelength\": 0}, \"hovertemplate\": \"Drug_Putative_Target=%{customdata[2]}<br>SE=%{x}<br>-logP=%{y}<br>F1=%{customdata[0]}<br>F2=%{customdata[1]}\", \"legendgroup\": \"AURKA, AURKB\", \"marker\": {\"color\": \"#FECB52\", \"symbol\": \"circle\"}, \"mode\": \"markers\", \"name\": \"AURKA, AURKB\", \"showlegend\": true, \"type\": \"scatter\", \"x\": [-0.19074749359023385, -0.04508351059213562], \"xaxis\": \"x\", \"y\": [0.5115474565837614, 0.12370503820915887], \"yaxis\": \"y\"}, {\"customdata\": [[\"TP53\", 228, \"AKT1\"], [\"PIK3CA\", 228, \"AKT1\"]], \"hoverlabel\": {\"namelength\": 0}, \"hovertemplate\": \"Drug_Putative_Target=%{customdata[2]}<br>SE=%{x}<br>-logP=%{y}<br>F1=%{customdata[0]}<br>F2=%{customdata[1]}\", \"legendgroup\": \"AKT1\", \"marker\": {\"color\": \"#636efa\", \"symbol\": \"circle\"}, \"mode\": \"markers\", \"name\": \"AKT1\", \"showlegend\": true, \"type\": \"scatter\", \"x\": [-0.3424386725325676, -0.4623999242890736], \"xaxis\": \"x\", \"y\": [1.06621482153072, 2.0510248096717705], \"yaxis\": \"y\"}, {\"customdata\": [[\"TP53\", 229, \"PRKCB (PKCbeta)\"], [\"PIK3CA\", 229, \"PRKCB (PKCbeta)\"]], \"hoverlabel\": {\"namelength\": 0}, \"hovertemplate\": \"Drug_Putative_Target=%{customdata[2]}<br>SE=%{x}<br>-logP=%{y}<br>F1=%{customdata[0]}<br>F2=%{customdata[1]}\", \"legendgroup\": \"PRKCB (PKCbeta)\", \"marker\": {\"color\": \"#EF553B\", \"symbol\": \"circle\"}, \"mode\": \"markers\", \"name\": \"PRKCB (PKCbeta)\", \"showlegend\": true, \"type\": \"scatter\", \"x\": [-0.08473247644991498, -0.1716820272790074], \"xaxis\": \"x\", \"y\": [0.2035803259831601, 0.5504283386537329], \"yaxis\": \"y\"}, {\"customdata\": [[\"TP53\", 230, \"ROCK2\"], [\"PIK3CA\", 230, \"ROCK2\"]], \"hoverlabel\": {\"namelength\": 0}, \"hovertemplate\": \"Drug_Putative_Target=%{customdata[2]}<br>SE=%{x}<br>-logP=%{y}<br>F1=%{customdata[0]}<br>F2=%{customdata[1]}\", \"legendgroup\": \"ROCK2\", \"marker\": {\"color\": \"#00cc96\", \"symbol\": \"circle\"}, \"mode\": \"markers\", \"name\": \"ROCK2\", \"showlegend\": true, \"type\": \"scatter\", \"x\": [0.07143419188255343, 0.3248154294048384], \"xaxis\": \"x\", \"y\": [0.16922153167046633, 1.2419792028731171], \"yaxis\": \"y\"}, {\"customdata\": [[\"TP53\", 231, \"RSK\"], [\"PIK3CA\", 231, \"RSK\"], [\"PIK3CA\", 64, \"RSK\"]], \"hoverlabel\": {\"namelength\": 0}, \"hovertemplate\": \"Drug_Putative_Target=%{customdata[2]}<br>SE=%{x}<br>-logP=%{y}<br>F1=%{customdata[0]}<br>F2=%{customdata[1]}\", \"legendgroup\": \"RSK\", \"marker\": {\"color\": \"#ab63fa\", \"symbol\": \"circle\"}, \"mode\": \"markers\", \"name\": \"RSK\", \"showlegend\": true, \"type\": \"scatter\", \"x\": [0.2764568980686249, 0.012366502678815948, 0.6647505190930162], \"xaxis\": \"x\", \"y\": [0.8075484483570592, 0.032543485549924964, 1.135437600088685], \"yaxis\": \"y\"}, {\"customdata\": [[\"TP53\", 235, \"BTK, BMX\"], [\"PIK3CA\", 235, \"BTK, BMX\"]], \"hoverlabel\": {\"namelength\": 0}, \"hovertemplate\": \"Drug_Putative_Target=%{customdata[2]}<br>SE=%{x}<br>-logP=%{y}<br>F1=%{customdata[0]}<br>F2=%{customdata[1]}\", \"legendgroup\": \"BTK, BMX\", \"marker\": {\"color\": \"#FFA15A\", \"symbol\": \"circle\"}, \"mode\": \"markers\", \"name\": \"BTK, BMX\", \"showlegend\": true, \"type\": \"scatter\", \"x\": [-0.19765224275245288, -0.8140696454180403], \"xaxis\": \"x\", \"y\": [0.5337855020354593, 5.125239971494211], \"yaxis\": \"y\"}, {\"customdata\": [[\"TP53\", 238, \"PI3Kdelta\"], [\"PIK3CA\", 238, \"PI3Kdelta\"]], \"hoverlabel\": {\"namelength\": 0}, \"hovertemplate\": \"Drug_Putative_Target=%{customdata[2]}<br>SE=%{x}<br>-logP=%{y}<br>F1=%{customdata[0]}<br>F2=%{customdata[1]}\", \"legendgroup\": \"PI3Kdelta\", \"marker\": {\"color\": \"#19d3f3\", \"symbol\": \"circle\"}, \"mode\": \"markers\", \"name\": \"PI3Kdelta\", \"showlegend\": true, \"type\": \"scatter\", \"x\": [-0.11323025546455892, 0.1595055726214326], \"xaxis\": \"x\", \"y\": [0.2803409908731386, 0.5039971108083469], \"yaxis\": \"y\"}, {\"customdata\": [[\"TP53\", 249, \"VEGFR, MET, RET, KIT, FLT1, FLT3, FLT4, Tie2,AXL\"], [\"PIK3CA\", 249, \"VEGFR, MET, RET, KIT, FLT1, FLT3, FLT4, Tie2,AXL\"]], \"hoverlabel\": {\"namelength\": 0}, \"hovertemplate\": \"Drug_Putative_Target=%{customdata[2]}<br>SE=%{x}<br>-logP=%{y}<br>F1=%{customdata[0]}<br>F2=%{customdata[1]}\", \"legendgroup\": \"VEGFR, MET, RET, KIT, FLT1, FLT3, FLT4, Tie2,AXL\", \"marker\": {\"color\": \"#FF6692\", \"symbol\": \"circle\"}, \"mode\": \"markers\", \"name\": \"VEGFR, MET, RET, KIT, FLT1, FLT3, FLT4, Tie2,AXL\", \"showlegend\": true, \"type\": \"scatter\", \"x\": [-0.24791142695751975, 0.021614571853437004], \"xaxis\": \"x\", \"y\": [0.7040754363712015, 0.05756036406451767], \"yaxis\": \"y\"}, {\"customdata\": [[\"TP53\", 252, \"CLK2, CNSK1E, FLT3, ULK1\"], [\"PIK3CA\", 252, \"CLK2, CNSK1E, FLT3, ULK1\"]], \"hoverlabel\": {\"namelength\": 0}, \"hovertemplate\": \"Drug_Putative_Target=%{customdata[2]}<br>SE=%{x}<br>-logP=%{y}<br>F1=%{customdata[0]}<br>F2=%{customdata[1]}\", \"legendgroup\": \"CLK2, CNSK1E, FLT3, ULK1\", \"marker\": {\"color\": \"#B6E880\", \"symbol\": \"circle\"}, \"mode\": \"markers\", \"name\": \"CLK2, CNSK1E, FLT3, ULK1\", \"showlegend\": true, \"type\": \"scatter\", \"x\": [-0.2462552885481869, 0.4448423058008899], \"xaxis\": \"x\", \"y\": [0.6954653217503636, 1.880133340164508], \"yaxis\": \"y\"}, {\"customdata\": [[\"TP53\", 253, \"EPHB3, CAMK1\"], [\"PIK3CA\", 253, \"EPHB3, CAMK1\"]], \"hoverlabel\": {\"namelength\": 0}, \"hovertemplate\": \"Drug_Putative_Target=%{customdata[2]}<br>SE=%{x}<br>-logP=%{y}<br>F1=%{customdata[0]}<br>F2=%{customdata[1]}\", \"legendgroup\": \"EPHB3, CAMK1\", \"marker\": {\"color\": \"#FF97FF\", \"symbol\": \"circle\"}, \"mode\": \"markers\", \"name\": \"EPHB3, CAMK1\", \"showlegend\": true, \"type\": \"scatter\", \"x\": [0.6215721717929981, -0.0271211874042366], \"xaxis\": \"x\", \"y\": [2.4833709239379598, 0.07120511640598706], \"yaxis\": \"y\"}, {\"customdata\": [[\"TP53\", 254, \"FLT3\"], [\"PIK3CA\", 254, \"FLT3\"]], \"hoverlabel\": {\"namelength\": 0}, \"hovertemplate\": \"Drug_Putative_Target=%{customdata[2]}<br>SE=%{x}<br>-logP=%{y}<br>F1=%{customdata[0]}<br>F2=%{customdata[1]}\", \"legendgroup\": \"FLT3\", \"marker\": {\"color\": \"#FECB52\", \"symbol\": \"circle\"}, \"mode\": \"markers\", \"name\": \"FLT3\", \"showlegend\": true, \"type\": \"scatter\", \"x\": [0.2986761903986138, 0.1714228368203831], \"xaxis\": \"x\", \"y\": [0.8879495498243762, 0.536031947542932], \"yaxis\": \"y\"}, {\"customdata\": [[\"TP53\", 255, \"ERBB2\"], [\"PIK3CA\", 255, \"ERBB2\"]], \"hoverlabel\": {\"namelength\": 0}, \"hovertemplate\": \"Drug_Putative_Target=%{customdata[2]}<br>SE=%{x}<br>-logP=%{y}<br>F1=%{customdata[0]}<br>F2=%{customdata[1]}\", \"legendgroup\": \"ERBB2\", \"marker\": {\"color\": \"#636efa\", \"symbol\": \"circle\"}, \"mode\": \"markers\", \"name\": \"ERBB2\", \"showlegend\": true, \"type\": \"scatter\", \"x\": [0.20556574317237888, -0.2939745335358578], \"xaxis\": \"x\", \"y\": [0.5574550953809521, 1.0568458000819354], \"yaxis\": \"y\"}, {\"customdata\": [[\"TP53\", 256, \"LCK\"], [\"PIK3CA\", 256, \"LCK\"]], \"hoverlabel\": {\"namelength\": 0}, \"hovertemplate\": \"Drug_Putative_Target=%{customdata[2]}<br>SE=%{x}<br>-logP=%{y}<br>F1=%{customdata[0]}<br>F2=%{customdata[1]}\", \"legendgroup\": \"LCK\", \"marker\": {\"color\": \"#EF553B\", \"symbol\": \"circle\"}, \"mode\": \"markers\", \"name\": \"LCK\", \"showlegend\": true, \"type\": \"scatter\", \"x\": [-0.21861022148962125, -0.0007422368288004628], \"xaxis\": \"x\", \"y\": [0.6006384965953753, 0.0018849679537913985], \"yaxis\": \"y\"}, {\"customdata\": [[\"TP53\", 257, \"PLK3\"], [\"PIK3CA\", 257, \"PLK3\"]], \"hoverlabel\": {\"namelength\": 0}, \"hovertemplate\": \"Drug_Putative_Target=%{customdata[2]}<br>SE=%{x}<br>-logP=%{y}<br>F1=%{customdata[0]}<br>F2=%{customdata[1]}\", \"legendgroup\": \"PLK3\", \"marker\": {\"color\": \"#00cc96\", \"symbol\": \"circle\"}, \"mode\": \"markers\", \"name\": \"PLK3\", \"showlegend\": true, \"type\": \"scatter\", \"x\": [-0.3018355824244713, 0.2143435423758997], \"xaxis\": \"x\", \"y\": [0.9037716325857872, 0.7226913968310047], \"yaxis\": \"y\"}, {\"customdata\": [[\"TP53\", 258, \"stimulates autophagy\"], [\"PIK3CA\", 258, \"stimulates autophagy\"]], \"hoverlabel\": {\"namelength\": 0}, \"hovertemplate\": \"Drug_Putative_Target=%{customdata[2]}<br>SE=%{x}<br>-logP=%{y}<br>F1=%{customdata[0]}<br>F2=%{customdata[1]}\", \"legendgroup\": \"stimulates autophagy\", \"marker\": {\"color\": \"#ab63fa\", \"symbol\": \"circle\"}, \"mode\": \"markers\", \"name\": \"stimulates autophagy\", \"showlegend\": true, \"type\": \"scatter\", \"x\": [0.2327430050689911, 0.3834915442967562], \"xaxis\": \"x\", \"y\": [0.6511025829401627, 1.5637845759734694], \"yaxis\": \"y\"}, {\"customdata\": [[\"TP53\", 262, \"ERK\"], [\"PIK3CA\", 262, \"ERK\"], [\"TP53\", 263, \"ERK\"], [\"PIK3CA\", 263, \"ERK\"]], \"hoverlabel\": {\"namelength\": 0}, \"hovertemplate\": \"Drug_Putative_Target=%{customdata[2]}<br>SE=%{x}<br>-logP=%{y}<br>F1=%{customdata[0]}<br>F2=%{customdata[1]}\", \"legendgroup\": \"ERK\", \"marker\": {\"color\": \"#FFA15A\", \"symbol\": \"circle\"}, \"mode\": \"markers\", \"name\": \"ERK\", \"showlegend\": true, \"type\": \"scatter\", \"x\": [0.4864548349455161, 0.21257793624376006, 0.3264267468789649, 0.3250060103491939], \"xaxis\": \"x\", \"y\": [1.7317032498777822, 0.7152609156021102, 1.0008890918436268, 1.24297094401909], \"yaxis\": \"y\"}, {\"customdata\": [[\"TP53\", 265, \"HDAC6\"], [\"PIK3CA\", 265, \"HDAC6\"], [\"TP53\", 276, \"HDAC6\"], [\"PIK3CA\", 276, \"HDAC6\"]], \"hoverlabel\": {\"namelength\": 0}, \"hovertemplate\": \"Drug_Putative_Target=%{customdata[2]}<br>SE=%{x}<br>-logP=%{y}<br>F1=%{customdata[0]}<br>F2=%{customdata[1]}\", \"legendgroup\": \"HDAC6\", \"marker\": {\"color\": \"#19d3f3\", \"symbol\": \"circle\"}, \"mode\": \"markers\", \"name\": \"HDAC6\", \"showlegend\": true, \"type\": \"scatter\", \"x\": [0.41672158622272987, -0.01021293219575655, -0.2857792905638569, -0.051379945300027235], \"xaxis\": \"x\", \"y\": [1.3915238351526762, 0.0268017319183976, 0.8424268550047961, 0.14210992406022135], \"yaxis\": \"y\"}, {\"customdata\": [[\"TP53\", 266, \"Endothelin A Receptor\"], [\"PIK3CA\", 266, \"Endothelin A Receptor\"]], \"hoverlabel\": {\"namelength\": 0}, \"hovertemplate\": \"Drug_Putative_Target=%{customdata[2]}<br>SE=%{x}<br>-logP=%{y}<br>F1=%{customdata[0]}<br>F2=%{customdata[1]}\", \"legendgroup\": \"Endothelin A Receptor\", \"marker\": {\"color\": \"#FF6692\", \"symbol\": \"circle\"}, \"mode\": \"markers\", \"name\": \"Endothelin A Receptor\", \"showlegend\": true, \"type\": \"scatter\", \"x\": [0.2906911481518341, -0.01692423069180095], \"xaxis\": \"x\", \"y\": [0.8610215304571682, 0.04479935774644205], \"yaxis\": \"y\"}, {\"customdata\": [[\"TP53\", 268, \"BIRC5 (Survivin)\"], [\"PIK3CA\", 268, \"BIRC5 (Survivin)\"]], \"hoverlabel\": {\"namelength\": 0}, \"hovertemplate\": \"Drug_Putative_Target=%{customdata[2]}<br>SE=%{x}<br>-logP=%{y}<br>F1=%{customdata[0]}<br>F2=%{customdata[1]}\", \"legendgroup\": \"BIRC5 (Survivin)\", \"marker\": {\"color\": \"#B6E880\", \"symbol\": \"circle\"}, \"mode\": \"markers\", \"name\": \"BIRC5 (Survivin)\", \"showlegend\": true, \"type\": \"scatter\", \"x\": [-0.4425676766640653, -0.054036359242847366], \"xaxis\": \"x\", \"y\": [1.5135710923421233, 0.14995948182659305], \"yaxis\": \"y\"}, {\"customdata\": [[\"TP53\", 269, \"MDM4\"], [\"PIK3CA\", 269, \"MDM4\"]], \"hoverlabel\": {\"namelength\": 0}, \"hovertemplate\": \"Drug_Putative_Target=%{customdata[2]}<br>SE=%{x}<br>-logP=%{y}<br>F1=%{customdata[0]}<br>F2=%{customdata[1]}\", \"legendgroup\": \"MDM4\", \"marker\": {\"color\": \"#FF97FF\", \"symbol\": \"circle\"}, \"mode\": \"markers\", \"name\": \"MDM4\", \"showlegend\": true, \"type\": \"scatter\", \"x\": [0.002395164691752365, 0.2856074912155499], \"xaxis\": \"x\", \"y\": [0.0052661191147106035, 1.0451335470418794], \"yaxis\": \"y\"}, {\"customdata\": [[\"TP53\", 271, \"HDAC, RAR \"], [\"PIK3CA\", 271, \"HDAC, RAR \"]], \"hoverlabel\": {\"namelength\": 0}, \"hovertemplate\": \"Drug_Putative_Target=%{customdata[2]}<br>SE=%{x}<br>-logP=%{y}<br>F1=%{customdata[0]}<br>F2=%{customdata[1]}\", \"legendgroup\": \"HDAC, RAR \", \"marker\": {\"color\": \"#FECB52\", \"symbol\": \"circle\"}, \"mode\": \"markers\", \"name\": \"HDAC, RAR \", \"showlegend\": true, \"type\": \"scatter\", \"x\": [0.4146026556382104, 0.3616783012065089], \"xaxis\": \"x\", \"y\": [1.381724900737381, 1.4402470490428143], \"yaxis\": \"y\"}, {\"customdata\": [[\"TP53\", 273, \"HDAC, EGFR\"], [\"PIK3CA\", 273, \"HDAC, EGFR\"]], \"hoverlabel\": {\"namelength\": 0}, \"hovertemplate\": \"Drug_Putative_Target=%{customdata[2]}<br>SE=%{x}<br>-logP=%{y}<br>F1=%{customdata[0]}<br>F2=%{customdata[1]}\", \"legendgroup\": \"HDAC, EGFR\", \"marker\": {\"color\": \"#636efa\", \"symbol\": \"circle\"}, \"mode\": \"markers\", \"name\": \"HDAC, EGFR\", \"showlegend\": true, \"type\": \"scatter\", \"x\": [-0.2177284977328936, 0.020987226897190243], \"xaxis\": \"x\", \"y\": [0.6000189289684359, 0.05584478885531684], \"yaxis\": \"y\"}, {\"customdata\": [[\"TP53\", 277, \"VEGFR and PDGFR family\"], [\"PIK3CA\", 277, \"VEGFR and PDGFR family\"]], \"hoverlabel\": {\"namelength\": 0}, \"hovertemplate\": \"Drug_Putative_Target=%{customdata[2]}<br>SE=%{x}<br>-logP=%{y}<br>F1=%{customdata[0]}<br>F2=%{customdata[1]}\", \"legendgroup\": \"VEGFR and PDGFR family\", \"marker\": {\"color\": \"#EF553B\", \"symbol\": \"circle\"}, \"mode\": \"markers\", \"name\": \"VEGFR and PDGFR family\", \"showlegend\": true, \"type\": \"scatter\", \"x\": [0.7199757165530255, -0.02554737186311944], \"xaxis\": \"x\", \"y\": [3.129735804975561, 0.06694097924266408], \"yaxis\": \"y\"}, {\"customdata\": [[\"TP53\", 279, \"MAP2K5 (MEK5)\"], [\"PIK3CA\", 279, \"MAP2K5 (MEK5)\"]], \"hoverlabel\": {\"namelength\": 0}, \"hovertemplate\": \"Drug_Putative_Target=%{customdata[2]}<br>SE=%{x}<br>-logP=%{y}<br>F1=%{customdata[0]}<br>F2=%{customdata[1]}\", \"legendgroup\": \"MAP2K5 (MEK5)\", \"marker\": {\"color\": \"#00cc96\", \"symbol\": \"circle\"}, \"mode\": \"markers\", \"name\": \"MAP2K5 (MEK5)\", \"showlegend\": true, \"type\": \"scatter\", \"x\": [-0.2240518566344098, 0.05781691801883225], \"xaxis\": \"x\", \"y\": [0.6213699837299218, 0.16121790571032246], \"yaxis\": \"y\"}, {\"customdata\": [[\"TP53\", 281, \"ALK\"], [\"PIK3CA\", 281, \"ALK\"], [\"TP53\", 35, \"ALK\"], [\"PIK3CA\", 35, \"ALK\"]], \"hoverlabel\": {\"namelength\": 0}, \"hovertemplate\": \"Drug_Putative_Target=%{customdata[2]}<br>SE=%{x}<br>-logP=%{y}<br>F1=%{customdata[0]}<br>F2=%{customdata[1]}\", \"legendgroup\": \"ALK\", \"marker\": {\"color\": \"#ab63fa\", \"symbol\": \"circle\"}, \"mode\": \"markers\", \"name\": \"ALK\", \"showlegend\": true, \"type\": \"scatter\", \"x\": [-0.4140814019192233, 0.3749728632252376, 0.5966112181954762, 0.755145531607577], \"xaxis\": \"x\", \"y\": [1.3734439016023858, 1.4722211763938617, 1.0457784218999495, 1.4583726356334918], \"yaxis\": \"y\"}, {\"customdata\": [[\"TP53\", 283, \"PI3K, MTOR\"], [\"PIK3CA\", 283, \"PI3K, MTOR\"]], \"hoverlabel\": {\"namelength\": 0}, \"hovertemplate\": \"Drug_Putative_Target=%{customdata[2]}<br>SE=%{x}<br>-logP=%{y}<br>F1=%{customdata[0]}<br>F2=%{customdata[1]}\", \"legendgroup\": \"PI3K, MTOR\", \"marker\": {\"color\": \"#FFA15A\", \"symbol\": \"circle\"}, \"mode\": \"markers\", \"name\": \"PI3K, MTOR\", \"showlegend\": true, \"type\": \"scatter\", \"x\": [-0.17257997183276094, -0.5490519684351627], \"xaxis\": \"x\", \"y\": [0.4526297566619991, 2.5812707570358446], \"yaxis\": \"y\"}, {\"customdata\": [[\"TP53\", 286, \"TIE2\"], [\"PIK3CA\", 286, \"TIE2\"]], \"hoverlabel\": {\"namelength\": 0}, \"hovertemplate\": \"Drug_Putative_Target=%{customdata[2]}<br>SE=%{x}<br>-logP=%{y}<br>F1=%{customdata[0]}<br>F2=%{customdata[1]}\", \"legendgroup\": \"TIE2\", \"marker\": {\"color\": \"#19d3f3\", \"symbol\": \"circle\"}, \"mode\": \"markers\", \"name\": \"TIE2\", \"showlegend\": true, \"type\": \"scatter\", \"x\": [0.4134678358702568, -0.17536883544556206], \"xaxis\": \"x\", \"y\": [1.3764897449055122, 0.5647233958732769], \"yaxis\": \"y\"}, {\"customdata\": [[\"TP53\", 288, \"JAK3, MNK1\"], [\"PIK3CA\", 288, \"JAK3, MNK1\"]], \"hoverlabel\": {\"namelength\": 0}, \"hovertemplate\": \"Drug_Putative_Target=%{customdata[2]}<br>SE=%{x}<br>-logP=%{y}<br>F1=%{customdata[0]}<br>F2=%{customdata[1]}\", \"legendgroup\": \"JAK3, MNK1\", \"marker\": {\"color\": \"#FF6692\", \"symbol\": \"circle\"}, \"mode\": \"markers\", \"name\": \"JAK3, MNK1\", \"showlegend\": true, \"type\": \"scatter\", \"x\": [0.06571943436496852, 0.3940742866974382], \"xaxis\": \"x\", \"y\": [0.1547376572386145, 1.6254210824553104], \"yaxis\": \"y\"}, {\"customdata\": [[\"TP53\", 290, \"IKK\"], [\"PIK3CA\", 290, \"IKK\"], [\"TP53\", 305, \"IKK\"], [\"PIK3CA\", 305, \"IKK\"]], \"hoverlabel\": {\"namelength\": 0}, \"hovertemplate\": \"Drug_Putative_Target=%{customdata[2]}<br>SE=%{x}<br>-logP=%{y}<br>F1=%{customdata[0]}<br>F2=%{customdata[1]}\", \"legendgroup\": \"IKK\", \"marker\": {\"color\": \"#B6E880\", \"symbol\": \"circle\"}, \"mode\": \"markers\", \"name\": \"IKK\", \"showlegend\": true, \"type\": \"scatter\", \"x\": [0.2103171008976039, 0.4348904312132988, -0.5481209584530626, -0.003045465513018061], \"xaxis\": \"x\", \"y\": [0.5752937600762609, 1.873809504149468, 2.062225430944925, 0.007918586462759614], \"yaxis\": \"y\"}, {\"customdata\": [[\"TP53\", 291, \"MAP3K8 (COT)\"], [\"PIK3CA\", 291, \"MAP3K8 (COT)\"]], \"hoverlabel\": {\"namelength\": 0}, \"hovertemplate\": \"Drug_Putative_Target=%{customdata[2]}<br>SE=%{x}<br>-logP=%{y}<br>F1=%{customdata[0]}<br>F2=%{customdata[1]}\", \"legendgroup\": \"MAP3K8 (COT)\", \"marker\": {\"color\": \"#FF97FF\", \"symbol\": \"circle\"}, \"mode\": \"markers\", \"name\": \"MAP3K8 (COT)\", \"showlegend\": true, \"type\": \"scatter\", \"x\": [0.15090634281648074, 0.2195246253595004], \"xaxis\": \"x\", \"y\": [0.3885406897883302, 0.7446482528182142], \"yaxis\": \"y\"}, {\"customdata\": [[\"TP53\", 293, \"PDGFR\"], [\"PIK3CA\", 293, \"PDGFR\"]], \"hoverlabel\": {\"namelength\": 0}, \"hovertemplate\": \"Drug_Putative_Target=%{customdata[2]}<br>SE=%{x}<br>-logP=%{y}<br>F1=%{customdata[0]}<br>F2=%{customdata[1]}\", \"legendgroup\": \"PDGFR\", \"marker\": {\"color\": \"#FECB52\", \"symbol\": \"circle\"}, \"mode\": \"markers\", \"name\": \"PDGFR\", \"showlegend\": true, \"type\": \"scatter\", \"x\": [0.5562900559810467, -0.41405576974087627], \"xaxis\": \"x\", \"y\": [2.098901503396221, 1.6945129287927108], \"yaxis\": \"y\"}, {\"customdata\": [[\"TP53\", 294, \"MPS1\"], [\"PIK3CA\", 294, \"MPS1\"]], \"hoverlabel\": {\"namelength\": 0}, \"hovertemplate\": \"Drug_Putative_Target=%{customdata[2]}<br>SE=%{x}<br>-logP=%{y}<br>F1=%{customdata[0]}<br>F2=%{customdata[1]}\", \"legendgroup\": \"MPS1\", \"marker\": {\"color\": \"#636efa\", \"symbol\": \"circle\"}, \"mode\": \"markers\", \"name\": \"MPS1\", \"showlegend\": true, \"type\": \"scatter\", \"x\": [0.08650815546513699, 0.3720165304949079], \"xaxis\": \"x\", \"y\": [0.20823791899066826, 1.4982120074735144], \"yaxis\": \"y\"}, {\"customdata\": [[\"TP53\", 295, \"EPHB4\"], [\"PIK3CA\", 295, \"EPHB4\"]], \"hoverlabel\": {\"namelength\": 0}, \"hovertemplate\": \"Drug_Putative_Target=%{customdata[2]}<br>SE=%{x}<br>-logP=%{y}<br>F1=%{customdata[0]}<br>F2=%{customdata[1]}\", \"legendgroup\": \"EPHB4\", \"marker\": {\"color\": \"#EF553B\", \"symbol\": \"circle\"}, \"mode\": \"markers\", \"name\": \"EPHB4\", \"showlegend\": true, \"type\": \"scatter\", \"x\": [0.26984670916505715, 0.18702491305367813], \"xaxis\": \"x\", \"y\": [0.7831433590286923, 0.6106481165004102], \"yaxis\": \"y\"}, {\"customdata\": [[\"TP53\", 298, \"KIT, VEGFR, PDGFR\"], [\"PIK3CA\", 298, \"KIT, VEGFR, PDGFR\"]], \"hoverlabel\": {\"namelength\": 0}, \"hovertemplate\": \"Drug_Putative_Target=%{customdata[2]}<br>SE=%{x}<br>-logP=%{y}<br>F1=%{customdata[0]}<br>F2=%{customdata[1]}\", \"legendgroup\": \"KIT, VEGFR, PDGFR\", \"marker\": {\"color\": \"#00cc96\", \"symbol\": \"circle\"}, \"mode\": \"markers\", \"name\": \"KIT, VEGFR, PDGFR\", \"showlegend\": true, \"type\": \"scatter\", \"x\": [0.4253159504856191, -0.23812201584821424], \"xaxis\": \"x\", \"y\": [1.425468378770636, 0.8041044140301985], \"yaxis\": \"y\"}, {\"customdata\": [[\"TP53\", 30, \"PDGFRA, PDGFRB, KDR, KIT, FLT3\"], [\"PIK3CA\", 30, \"PDGFRA, PDGFRB, KDR, KIT, FLT3\"], [\"PIK3CA\", 5, \"PDGFRA, PDGFRB, KDR, KIT, FLT3\"]], \"hoverlabel\": {\"namelength\": 0}, \"hovertemplate\": \"Drug_Putative_Target=%{customdata[2]}<br>SE=%{x}<br>-logP=%{y}<br>F1=%{customdata[0]}<br>F2=%{customdata[1]}\", \"legendgroup\": \"PDGFRA, PDGFRB, KDR, KIT, FLT3\", \"marker\": {\"color\": \"#ab63fa\", \"symbol\": \"circle\"}, \"mode\": \"markers\", \"name\": \"PDGFRA, PDGFRB, KDR, KIT, FLT3\", \"showlegend\": true, \"type\": \"scatter\", \"x\": [0.5709576902286203, 0.4232749329101763, 0.8068557545309262], \"xaxis\": \"x\", \"y\": [0.9853852022011976, 0.6683228800515372, 1.5024296935506842], \"yaxis\": \"y\"}, {\"customdata\": [[\"TP53\", 300, \"RNA Pol I\"], [\"PIK3CA\", 300, \"RNA Pol I\"]], \"hoverlabel\": {\"namelength\": 0}, \"hovertemplate\": \"Drug_Putative_Target=%{customdata[2]}<br>SE=%{x}<br>-logP=%{y}<br>F1=%{customdata[0]}<br>F2=%{customdata[1]}\", \"legendgroup\": \"RNA Pol I\", \"marker\": {\"color\": \"#FFA15A\", \"symbol\": \"circle\"}, \"mode\": \"markers\", \"name\": \"RNA Pol I\", \"showlegend\": true, \"type\": \"scatter\", \"x\": [0.1863671933637881, 0.20505106755851865], \"xaxis\": \"x\", \"y\": [0.4975822360779205, 0.6838793127540999], \"yaxis\": \"y\"}, {\"customdata\": [[\"TP53\", 301, \"CDK-pan\"], [\"PIK3CA\", 301, \"CDK-pan\"]], \"hoverlabel\": {\"namelength\": 0}, \"hovertemplate\": \"Drug_Putative_Target=%{customdata[2]}<br>SE=%{x}<br>-logP=%{y}<br>F1=%{customdata[0]}<br>F2=%{customdata[1]}\", \"legendgroup\": \"CDK-pan\", \"marker\": {\"color\": \"#19d3f3\", \"symbol\": \"circle\"}, \"mode\": \"markers\", \"name\": \"CDK-pan\", \"showlegend\": true, \"type\": \"scatter\", \"x\": [-0.20987521991740266, 0.2435773755440515], \"xaxis\": \"x\", \"y\": [0.5716119224319882, 0.8276291338268948], \"yaxis\": \"y\"}, {\"customdata\": [[\"TP53\", 302, \"PI3Ka, PRKDC (DNAPK)\"], [\"PIK3CA\", 302, \"PI3Ka, PRKDC (DNAPK)\"]], \"hoverlabel\": {\"namelength\": 0}, \"hovertemplate\": \"Drug_Putative_Target=%{customdata[2]}<br>SE=%{x}<br>-logP=%{y}<br>F1=%{customdata[0]}<br>F2=%{customdata[1]}\", \"legendgroup\": \"PI3Ka, PRKDC (DNAPK)\", \"marker\": {\"color\": \"#FF6692\", \"symbol\": \"circle\"}, \"mode\": \"markers\", \"name\": \"PI3Ka, PRKDC (DNAPK)\", \"showlegend\": true, \"type\": \"scatter\", \"x\": [-0.07272178283168834, 0.14170626403209444], \"xaxis\": \"x\", \"y\": [0.1719084538143628, 0.4278545841792872], \"yaxis\": \"y\"}, {\"customdata\": [[\"TP53\", 303, \"PI4K, PI3K\"], [\"PIK3CA\", 303, \"PI4K, PI3K\"]], \"hoverlabel\": {\"namelength\": 0}, \"hovertemplate\": \"Drug_Putative_Target=%{customdata[2]}<br>SE=%{x}<br>-logP=%{y}<br>F1=%{customdata[0]}<br>F2=%{customdata[1]}\", \"legendgroup\": \"PI4K, PI3K\", \"marker\": {\"color\": \"#B6E880\", \"symbol\": \"circle\"}, \"mode\": \"markers\", \"name\": \"PI4K, PI3K\", \"showlegend\": true, \"type\": \"scatter\", \"x\": [-0.6104670105015879, -0.4634528581179856], \"xaxis\": \"x\", \"y\": [2.4262998124121675, 2.05796827464206], \"yaxis\": \"y\"}, {\"customdata\": [[\"TP53\", 304, \"ALK5\"], [\"PIK3CA\", 304, \"ALK5\"]], \"hoverlabel\": {\"namelength\": 0}, \"hovertemplate\": \"Drug_Putative_Target=%{customdata[2]}<br>SE=%{x}<br>-logP=%{y}<br>F1=%{customdata[0]}<br>F2=%{customdata[1]}\", \"legendgroup\": \"ALK5\", \"marker\": {\"color\": \"#FF97FF\", \"symbol\": \"circle\"}, \"mode\": \"markers\", \"name\": \"ALK5\", \"showlegend\": true, \"type\": \"scatter\", \"x\": [-0.18417750064245525, -0.3966586317539437], \"xaxis\": \"x\", \"y\": [0.4906423556900125, 1.6406437936684093], \"yaxis\": \"y\"}, {\"customdata\": [[\"TP53\", 306, \"JAK2\"], [\"PIK3CA\", 306, \"JAK2\"]], \"hoverlabel\": {\"namelength\": 0}, \"hovertemplate\": \"Drug_Putative_Target=%{customdata[2]}<br>SE=%{x}<br>-logP=%{y}<br>F1=%{customdata[0]}<br>F2=%{customdata[1]}\", \"legendgroup\": \"JAK2\", \"marker\": {\"color\": \"#FECB52\", \"symbol\": \"circle\"}, \"mode\": \"markers\", \"name\": \"JAK2\", \"showlegend\": true, \"type\": \"scatter\", \"x\": [-0.25689612352098506, 0.27416961361609216], \"xaxis\": \"x\", \"y\": [0.7331807343191268, 0.9641794889575708], \"yaxis\": \"y\"}, {\"customdata\": [[\"TP53\", 308, \"MET\"], [\"PIK3CA\", 308, \"MET\"], [\"TP53\", 6, \"MET\"], [\"PIK3CA\", 6, \"MET\"]], \"hoverlabel\": {\"namelength\": 0}, \"hovertemplate\": \"Drug_Putative_Target=%{customdata[2]}<br>SE=%{x}<br>-logP=%{y}<br>F1=%{customdata[0]}<br>F2=%{customdata[1]}\", \"legendgroup\": \"MET\", \"marker\": {\"color\": \"#636efa\", \"symbol\": \"circle\"}, \"mode\": \"markers\", \"name\": \"MET\", \"showlegend\": true, \"type\": \"scatter\", \"x\": [-0.4238948586420177, 0.2211721067965924, 1.187166361699289, 0.5610406450561112], \"xaxis\": \"x\", \"y\": [1.4249278975755295, 0.7516778921630423, 3.035774100786577, 0.962480814272858], \"yaxis\": \"y\"}, {\"customdata\": [[\"TP53\", 309, \"ROCK\"], [\"PIK3CA\", 309, \"ROCK\"]], \"hoverlabel\": {\"namelength\": 0}, \"hovertemplate\": \"Drug_Putative_Target=%{customdata[2]}<br>SE=%{x}<br>-logP=%{y}<br>F1=%{customdata[0]}<br>F2=%{customdata[1]}\", \"legendgroup\": \"ROCK\", \"marker\": {\"color\": \"#EF553B\", \"symbol\": \"circle\"}, \"mode\": \"markers\", \"name\": \"ROCK\", \"showlegend\": true, \"type\": \"scatter\", \"x\": [-0.3231980715055488, 0.49737004362194204], \"xaxis\": \"x\", \"y\": [0.9879175608542732, 2.288094773524296], \"yaxis\": \"y\"}, {\"customdata\": [[\"TP53\", 310, \"FYV1\"], [\"PIK3CA\", 310, \"FYV1\"]], \"hoverlabel\": {\"namelength\": 0}, \"hovertemplate\": \"Drug_Putative_Target=%{customdata[2]}<br>SE=%{x}<br>-logP=%{y}<br>F1=%{customdata[0]}<br>F2=%{customdata[1]}\", \"legendgroup\": \"FYV1\", \"marker\": {\"color\": \"#00cc96\", \"symbol\": \"circle\"}, \"mode\": \"markers\", \"name\": \"FYV1\", \"showlegend\": true, \"type\": \"scatter\", \"x\": [-0.3174837745884886, -0.15676481994072075], \"xaxis\": \"x\", \"y\": [0.9651239197531956, 0.4937103906742426], \"yaxis\": \"y\"}, {\"customdata\": [[\"TP53\", 312, \"VEGFR\"], [\"PIK3CA\", 312, \"VEGFR\"]], \"hoverlabel\": {\"namelength\": 0}, \"hovertemplate\": \"Drug_Putative_Target=%{customdata[2]}<br>SE=%{x}<br>-logP=%{y}<br>F1=%{customdata[0]}<br>F2=%{customdata[1]}\", \"legendgroup\": \"VEGFR\", \"marker\": {\"color\": \"#ab63fa\", \"symbol\": \"circle\"}, \"mode\": \"markers\", \"name\": \"VEGFR\", \"showlegend\": true, \"type\": \"scatter\", \"x\": [0.43272036216744814, 0.32244726663308626], \"xaxis\": \"x\", \"y\": [1.4602354849825907, 1.1960923028325705], \"yaxis\": \"y\"}, {\"customdata\": [[\"PIK3CA\", 32, \"AURKA, AURKB, AURKC, FLT3, ABL1, JAK2\"]], \"hoverlabel\": {\"namelength\": 0}, \"hovertemplate\": \"Drug_Putative_Target=%{customdata[2]}<br>SE=%{x}<br>-logP=%{y}<br>F1=%{customdata[0]}<br>F2=%{customdata[1]}\", \"legendgroup\": \"AURKA, AURKB, AURKC, FLT3, ABL1, JAK2\", \"marker\": {\"color\": \"#FFA15A\", \"symbol\": \"circle\"}, \"mode\": \"markers\", \"name\": \"AURKA, AURKB, AURKC, FLT3, ABL1, JAK2\", \"showlegend\": true, \"type\": \"scatter\", \"x\": [0.13875731793617224], \"xaxis\": \"x\", \"y\": [0.17442145875601126], \"yaxis\": \"y\"}, {\"customdata\": [[\"TP53\", 326, \"AKT\"], [\"PIK3CA\", 326, \"AKT\"]], \"hoverlabel\": {\"namelength\": 0}, \"hovertemplate\": \"Drug_Putative_Target=%{customdata[2]}<br>SE=%{x}<br>-logP=%{y}<br>F1=%{customdata[0]}<br>F2=%{customdata[1]}\", \"legendgroup\": \"AKT\", \"marker\": {\"color\": \"#19d3f3\", \"symbol\": \"circle\"}, \"mode\": \"markers\", \"name\": \"AKT\", \"showlegend\": true, \"type\": \"scatter\", \"x\": [-0.18179115129312587, -0.7569435611756532], \"xaxis\": \"x\", \"y\": [0.48127782822967, 4.359075057751369], \"yaxis\": \"y\"}, {\"customdata\": [[\"TP53\", 329, \"DDR1\"], [\"PIK3CA\", 329, \"DDR1\"]], \"hoverlabel\": {\"namelength\": 0}, \"hovertemplate\": \"Drug_Putative_Target=%{customdata[2]}<br>SE=%{x}<br>-logP=%{y}<br>F1=%{customdata[0]}<br>F2=%{customdata[1]}\", \"legendgroup\": \"DDR1\", \"marker\": {\"color\": \"#FF6692\", \"symbol\": \"circle\"}, \"mode\": \"markers\", \"name\": \"DDR1\", \"showlegend\": true, \"type\": \"scatter\", \"x\": [0.3145011999402654, 0.07215816934558031], \"xaxis\": \"x\", \"y\": [0.9494060760244578, 0.2003266408952676], \"yaxis\": \"y\"}, {\"customdata\": [[\"TP53\", 330, \"RIPK\"], [\"PIK3CA\", 330, \"RIPK\"]], \"hoverlabel\": {\"namelength\": 0}, \"hovertemplate\": \"Drug_Putative_Target=%{customdata[2]}<br>SE=%{x}<br>-logP=%{y}<br>F1=%{customdata[0]}<br>F2=%{customdata[1]}\", \"legendgroup\": \"RIPK\", \"marker\": {\"color\": \"#B6E880\", \"symbol\": \"circle\"}, \"mode\": \"markers\", \"name\": \"RIPK\", \"showlegend\": true, \"type\": \"scatter\", \"x\": [-0.1307036552869441, -0.04417118232253363], \"xaxis\": \"x\", \"y\": [0.3283537387338969, 0.11846288924235035], \"yaxis\": \"y\"}, {\"customdata\": [[\"TP53\", 331, \"MNK2, PRKDC (DNAPK), MTOR, BTK, JAK3\"], [\"PIK3CA\", 331, \"MNK2, PRKDC (DNAPK), MTOR, BTK, JAK3\"]], \"hoverlabel\": {\"namelength\": 0}, \"hovertemplate\": \"Drug_Putative_Target=%{customdata[2]}<br>SE=%{x}<br>-logP=%{y}<br>F1=%{customdata[0]}<br>F2=%{customdata[1]}\", \"legendgroup\": \"MNK2, PRKDC (DNAPK), MTOR, BTK, JAK3\", \"marker\": {\"color\": \"#FF97FF\", \"symbol\": \"circle\"}, \"mode\": \"markers\", \"name\": \"MNK2, PRKDC (DNAPK), MTOR, BTK, JAK3\", \"showlegend\": true, \"type\": \"scatter\", \"x\": [-0.09040687412882653, -0.2923934683535259], \"xaxis\": \"x\", \"y\": [0.21775045123773729, 1.0493230031677132], \"yaxis\": \"y\"}, {\"customdata\": [[\"TP53\", 332, \"CAMK2B, CLK2, DYRK1A, MAST1, STK39\"], [\"PIK3CA\", 332, \"CAMK2B, CLK2, DYRK1A, MAST1, STK39\"]], \"hoverlabel\": {\"namelength\": 0}, \"hovertemplate\": \"Drug_Putative_Target=%{customdata[2]}<br>SE=%{x}<br>-logP=%{y}<br>F1=%{customdata[0]}<br>F2=%{customdata[1]}\", \"legendgroup\": \"CAMK2B, CLK2, DYRK1A, MAST1, STK39\", \"marker\": {\"color\": \"#FECB52\", \"symbol\": \"circle\"}, \"mode\": \"markers\", \"name\": \"CAMK2B, CLK2, DYRK1A, MAST1, STK39\", \"showlegend\": true, \"type\": \"scatter\", \"x\": [0.3691991459668675, 0.08772838204728706], \"xaxis\": \"x\", \"y\": [1.1741975429084237, 0.24823261444354885], \"yaxis\": \"y\"}, {\"customdata\": [[\"TP53\", 333, \"LXR\"], [\"PIK3CA\", 333, \"LXR\"]], \"hoverlabel\": {\"namelength\": 0}, \"hovertemplate\": \"Drug_Putative_Target=%{customdata[2]}<br>SE=%{x}<br>-logP=%{y}<br>F1=%{customdata[0]}<br>F2=%{customdata[1]}\", \"legendgroup\": \"LXR\", \"marker\": {\"color\": \"#636efa\", \"symbol\": \"circle\"}, \"mode\": \"markers\", \"name\": \"LXR\", \"showlegend\": true, \"type\": \"scatter\", \"x\": [0.4174313674311538, -0.01420146466128758], \"xaxis\": \"x\", \"y\": [1.3888654794570312, 0.03668467279583811], \"yaxis\": \"y\"}, {\"customdata\": [[\"TP53\", 34, \"ABL, KIT, PDGFR\"], [\"PIK3CA\", 34, \"ABL, KIT, PDGFR\"]], \"hoverlabel\": {\"namelength\": 0}, \"hovertemplate\": \"Drug_Putative_Target=%{customdata[2]}<br>SE=%{x}<br>-logP=%{y}<br>F1=%{customdata[0]}<br>F2=%{customdata[1]}\", \"legendgroup\": \"ABL, KIT, PDGFR\", \"marker\": {\"color\": \"#EF553B\", \"symbol\": \"circle\"}, \"mode\": \"markers\", \"name\": \"ABL, KIT, PDGFR\", \"showlegend\": true, \"type\": \"scatter\", \"x\": [1.5201581463981857, 1.0131077114803857], \"xaxis\": \"x\", \"y\": [5.010132734769189, 2.304051538620369], \"yaxis\": \"y\"}, {\"customdata\": [[\"TP53\", 341, \"SIRT1\"], [\"PIK3CA\", 341, \"SIRT1\"]], \"hoverlabel\": {\"namelength\": 0}, \"hovertemplate\": \"Drug_Putative_Target=%{customdata[2]}<br>SE=%{x}<br>-logP=%{y}<br>F1=%{customdata[0]}<br>F2=%{customdata[1]}\", \"legendgroup\": \"SIRT1\", \"marker\": {\"color\": \"#00cc96\", \"symbol\": \"circle\"}, \"mode\": \"markers\", \"name\": \"SIRT1\", \"showlegend\": true, \"type\": \"scatter\", \"x\": [0.3360529622486624, 0.027268824023288105], \"xaxis\": \"x\", \"y\": [1.0399628284386786, 0.07314537270681752], \"yaxis\": \"y\"}, {\"customdata\": [[\"TP53\", 346, \"CDK7\"], [\"PIK3CA\", 346, \"CDK7\"]], \"hoverlabel\": {\"namelength\": 0}, \"hovertemplate\": \"Drug_Putative_Target=%{customdata[2]}<br>SE=%{x}<br>-logP=%{y}<br>F1=%{customdata[0]}<br>F2=%{customdata[1]}\", \"legendgroup\": \"CDK7\", \"marker\": {\"color\": \"#ab63fa\", \"symbol\": \"circle\"}, \"mode\": \"markers\", \"name\": \"CDK7\", \"showlegend\": true, \"type\": \"scatter\", \"x\": [-0.8473507672029894, 0.4249409495450705], \"xaxis\": \"x\", \"y\": [4.114946521775595, 1.81167910002297], \"yaxis\": \"y\"}, {\"customdata\": [[\"TP53\", 37, \"MET, ALK\"], [\"PIK3CA\", 37, \"MET, ALK\"]], \"hoverlabel\": {\"namelength\": 0}, \"hovertemplate\": \"Drug_Putative_Target=%{customdata[2]}<br>SE=%{x}<br>-logP=%{y}<br>F1=%{customdata[0]}<br>F2=%{customdata[1]}\", \"legendgroup\": \"MET, ALK\", \"marker\": {\"color\": \"#FFA15A\", \"symbol\": \"circle\"}, \"mode\": \"markers\", \"name\": \"MET, ALK\", \"showlegend\": true, \"type\": \"scatter\", \"x\": [0.43227331146124, 0.29105488177083344], \"xaxis\": \"x\", \"y\": [0.6862306858306952, 0.42447793221761615], \"yaxis\": \"y\"}, {\"customdata\": [[\"TP53\", 38, \"SRC, ABL1\"], [\"PIK3CA\", 38, \"SRC, ABL1\"]], \"hoverlabel\": {\"namelength\": 0}, \"hovertemplate\": \"Drug_Putative_Target=%{customdata[2]}<br>SE=%{x}<br>-logP=%{y}<br>F1=%{customdata[0]}<br>F2=%{customdata[1]}\", \"legendgroup\": \"SRC, ABL1\", \"marker\": {\"color\": \"#19d3f3\", \"symbol\": \"circle\"}, \"mode\": \"markers\", \"name\": \"SRC, ABL1\", \"showlegend\": true, \"type\": \"scatter\", \"x\": [0.6931151492925605, 0.6059213284367199], \"xaxis\": \"x\", \"y\": [1.28848251713315, 1.068110862539814], \"yaxis\": \"y\"}, {\"customdata\": [[\"PIK3CA\", 51, \"ABL, SRC, KIT, PDGFR\"]], \"hoverlabel\": {\"namelength\": 0}, \"hovertemplate\": \"Drug_Putative_Target=%{customdata[2]}<br>SE=%{x}<br>-logP=%{y}<br>F1=%{customdata[0]}<br>F2=%{customdata[1]}\", \"legendgroup\": \"ABL, SRC, KIT, PDGFR\", \"marker\": {\"color\": \"#FF6692\", \"symbol\": \"circle\"}, \"mode\": \"markers\", \"name\": \"ABL, SRC, KIT, PDGFR\", \"showlegend\": true, \"type\": \"scatter\", \"x\": [0.17624153394714392], \"xaxis\": \"x\", \"y\": [0.22638286568053656], \"yaxis\": \"y\"}, {\"customdata\": [[\"PIK3CA\", 52, \"ABL [T315I]\"]], \"hoverlabel\": {\"namelength\": 0}, \"hovertemplate\": \"Drug_Putative_Target=%{customdata[2]}<br>SE=%{x}<br>-logP=%{y}<br>F1=%{customdata[0]}<br>F2=%{customdata[1]}\", \"legendgroup\": \"ABL [T315I]\", \"marker\": {\"color\": \"#B6E880\", \"symbol\": \"circle\"}, \"mode\": \"markers\", \"name\": \"ABL [T315I]\", \"showlegend\": true, \"type\": \"scatter\", \"x\": [0.3717916510111928], \"xaxis\": \"x\", \"y\": [0.5346580993555407], \"yaxis\": \"y\"}, {\"customdata\": [[\"PIK3CA\", 53, \"CDK1,CDK2,CDK5,CDK7,CDK9\"]], \"hoverlabel\": {\"namelength\": 0}, \"hovertemplate\": \"Drug_Putative_Target=%{customdata[2]}<br>SE=%{x}<br>-logP=%{y}<br>F1=%{customdata[0]}<br>F2=%{customdata[1]}\", \"legendgroup\": \"CDK1,CDK2,CDK5,CDK7,CDK9\", \"marker\": {\"color\": \"#FF97FF\", \"symbol\": \"circle\"}, \"mode\": \"markers\", \"name\": \"CDK1,CDK2,CDK5,CDK7,CDK9\", \"showlegend\": true, \"type\": \"scatter\", \"x\": [1.0486771244404585], \"xaxis\": \"x\", \"y\": [2.2796536402626644], \"yaxis\": \"y\"}, {\"customdata\": [[\"PIK3CA\", 54, \"CDK4\"]], \"hoverlabel\": {\"namelength\": 0}, \"hovertemplate\": \"Drug_Putative_Target=%{customdata[2]}<br>SE=%{x}<br>-logP=%{y}<br>F1=%{customdata[0]}<br>F2=%{customdata[1]}\", \"legendgroup\": \"CDK4\", \"marker\": {\"color\": \"#FECB52\", \"symbol\": \"circle\"}, \"mode\": \"markers\", \"name\": \"CDK4\", \"showlegend\": true, \"type\": \"scatter\", \"x\": [0.4051836390990455], \"xaxis\": \"x\", \"y\": [0.594071207132379], \"yaxis\": \"y\"}, {\"customdata\": [[\"PIK3CA\", 55, \"SRC family\"]], \"hoverlabel\": {\"namelength\": 0}, \"hovertemplate\": \"Drug_Putative_Target=%{customdata[2]}<br>SE=%{x}<br>-logP=%{y}<br>F1=%{customdata[0]}<br>F2=%{customdata[1]}\", \"legendgroup\": \"SRC family\", \"marker\": {\"color\": \"#636efa\", \"symbol\": \"circle\"}, \"mode\": \"markers\", \"name\": \"SRC family\", \"showlegend\": true, \"type\": \"scatter\", \"x\": [0.4612676581783433], \"xaxis\": \"x\", \"y\": [0.6987304609096326], \"yaxis\": \"y\"}, {\"customdata\": [[\"PIK3CA\", 56, \"SRC family, ABL\"]], \"hoverlabel\": {\"namelength\": 0}, \"hovertemplate\": \"Drug_Putative_Target=%{customdata[2]}<br>SE=%{x}<br>-logP=%{y}<br>F1=%{customdata[0]}<br>F2=%{customdata[1]}\", \"legendgroup\": \"SRC family, ABL\", \"marker\": {\"color\": \"#EF553B\", \"symbol\": \"circle\"}, \"mode\": \"markers\", \"name\": \"SRC family, ABL\", \"showlegend\": true, \"type\": \"scatter\", \"x\": [0.5143889198164415], \"xaxis\": \"x\", \"y\": [0.8037760416978683], \"yaxis\": \"y\"}, {\"customdata\": [[\"PIK3CA\", 59, \"BMX\"]], \"hoverlabel\": {\"namelength\": 0}, \"hovertemplate\": \"Drug_Putative_Target=%{customdata[2]}<br>SE=%{x}<br>-logP=%{y}<br>F1=%{customdata[0]}<br>F2=%{customdata[1]}\", \"legendgroup\": \"BMX\", \"marker\": {\"color\": \"#00cc96\", \"symbol\": \"circle\"}, \"mode\": \"markers\", \"name\": \"BMX\", \"showlegend\": true, \"type\": \"scatter\", \"x\": [-0.6193844699440596], \"xaxis\": \"x\", \"y\": [1.0296987560936124], \"yaxis\": \"y\"}, {\"customdata\": [[\"PIK3CA\", 60, \"PLK1, PLK2, PLK3\"]], \"hoverlabel\": {\"namelength\": 0}, \"hovertemplate\": \"Drug_Putative_Target=%{customdata[2]}<br>SE=%{x}<br>-logP=%{y}<br>F1=%{customdata[0]}<br>F2=%{customdata[1]}\", \"legendgroup\": \"PLK1, PLK2, PLK3\", \"marker\": {\"color\": \"#ab63fa\", \"symbol\": \"circle\"}, \"mode\": \"markers\", \"name\": \"PLK1, PLK2, PLK3\", \"showlegend\": true, \"type\": \"scatter\", \"x\": [0.014663281042141424], \"xaxis\": \"x\", \"y\": [0.01715607302803989], \"yaxis\": \"y\"}, {\"customdata\": [[\"PIK3CA\", 63, \"ITK\"]], \"hoverlabel\": {\"namelength\": 0}, \"hovertemplate\": \"Drug_Putative_Target=%{customdata[2]}<br>SE=%{x}<br>-logP=%{y}<br>F1=%{customdata[0]}<br>F2=%{customdata[1]}\", \"legendgroup\": \"ITK\", \"marker\": {\"color\": \"#FFA15A\", \"symbol\": \"circle\"}, \"mode\": \"markers\", \"name\": \"ITK\", \"showlegend\": true, \"type\": \"scatter\", \"x\": [0.380515395759108], \"xaxis\": \"x\", \"y\": [0.5499766609033654], \"yaxis\": \"y\"}, {\"customdata\": [[\"PIK3CA\", 87, \"PLK1\"]], \"hoverlabel\": {\"namelength\": 0}, \"hovertemplate\": \"Drug_Putative_Target=%{customdata[2]}<br>SE=%{x}<br>-logP=%{y}<br>F1=%{customdata[0]}<br>F2=%{customdata[1]}\", \"legendgroup\": \"PLK1\", \"marker\": {\"color\": \"#19d3f3\", \"symbol\": \"circle\"}, \"mode\": \"markers\", \"name\": \"PLK1\", \"showlegend\": true, \"type\": \"scatter\", \"x\": [0.17848913014866966], \"xaxis\": \"x\", \"y\": [0.22956731060361255], \"yaxis\": \"y\"}, {\"customdata\": [[\"TP53\", 89, \"NFKB1\"], [\"PIK3CA\", 89, \"NFKB1\"]], \"hoverlabel\": {\"namelength\": 0}, \"hovertemplate\": \"Drug_Putative_Target=%{customdata[2]}<br>SE=%{x}<br>-logP=%{y}<br>F1=%{customdata[0]}<br>F2=%{customdata[1]}\", \"legendgroup\": \"NFKB1\", \"marker\": {\"color\": \"#FF6692\", \"symbol\": \"circle\"}, \"mode\": \"markers\", \"name\": \"NFKB1\", \"showlegend\": true, \"type\": \"scatter\", \"x\": [0.698118456533709, 0.3873060314819418], \"xaxis\": \"x\", \"y\": [1.3017667705773128, 0.5984617133838674], \"yaxis\": \"y\"}, {\"customdata\": [[\"TP53\", 91, \"IKKE\"], [\"PIK3CA\", 91, \"IKKE\"]], \"hoverlabel\": {\"namelength\": 0}, \"hovertemplate\": \"Drug_Putative_Target=%{customdata[2]}<br>SE=%{x}<br>-logP=%{y}<br>F1=%{customdata[0]}<br>F2=%{customdata[1]}\", \"legendgroup\": \"IKKE\", \"marker\": {\"color\": \"#B6E880\", \"symbol\": \"circle\"}, \"mode\": \"markers\", \"name\": \"IKKE\", \"showlegend\": true, \"type\": \"scatter\", \"x\": [-0.19781678465609207, 0.22447632213832971], \"xaxis\": \"x\", \"y\": [0.2727584538881529, 0.3145291723184413], \"yaxis\": \"y\"}],\n",
       "                        {\"legend\": {\"title\": {\"text\": \"Drug_Putative_Target\"}, \"tracegroupgap\": 0}, \"margin\": {\"t\": 60}, \"template\": {\"data\": {\"bar\": [{\"error_x\": {\"color\": \"#2a3f5f\"}, \"error_y\": {\"color\": \"#2a3f5f\"}, \"marker\": {\"line\": {\"color\": \"#E5ECF6\", \"width\": 0.5}}, \"type\": \"bar\"}], \"barpolar\": [{\"marker\": {\"line\": {\"color\": \"#E5ECF6\", \"width\": 0.5}}, \"type\": \"barpolar\"}], \"carpet\": [{\"aaxis\": {\"endlinecolor\": \"#2a3f5f\", \"gridcolor\": \"white\", \"linecolor\": \"white\", \"minorgridcolor\": \"white\", \"startlinecolor\": \"#2a3f5f\"}, \"baxis\": {\"endlinecolor\": \"#2a3f5f\", \"gridcolor\": \"white\", \"linecolor\": \"white\", \"minorgridcolor\": \"white\", \"startlinecolor\": \"#2a3f5f\"}, \"type\": \"carpet\"}], \"choropleth\": [{\"colorbar\": {\"outlinewidth\": 0, \"ticks\": \"\"}, \"type\": \"choropleth\"}], \"contour\": [{\"colorbar\": {\"outlinewidth\": 0, \"ticks\": \"\"}, \"colorscale\": [[0.0, \"#0d0887\"], [0.1111111111111111, \"#46039f\"], [0.2222222222222222, \"#7201a8\"], [0.3333333333333333, \"#9c179e\"], [0.4444444444444444, \"#bd3786\"], [0.5555555555555556, \"#d8576b\"], [0.6666666666666666, \"#ed7953\"], [0.7777777777777778, \"#fb9f3a\"], [0.8888888888888888, \"#fdca26\"], [1.0, \"#f0f921\"]], \"type\": \"contour\"}], \"contourcarpet\": [{\"colorbar\": {\"outlinewidth\": 0, \"ticks\": \"\"}, \"type\": \"contourcarpet\"}], \"heatmap\": [{\"colorbar\": {\"outlinewidth\": 0, \"ticks\": \"\"}, \"colorscale\": [[0.0, \"#0d0887\"], [0.1111111111111111, \"#46039f\"], [0.2222222222222222, \"#7201a8\"], [0.3333333333333333, \"#9c179e\"], [0.4444444444444444, \"#bd3786\"], [0.5555555555555556, \"#d8576b\"], [0.6666666666666666, \"#ed7953\"], [0.7777777777777778, \"#fb9f3a\"], [0.8888888888888888, \"#fdca26\"], [1.0, \"#f0f921\"]], \"type\": \"heatmap\"}], \"heatmapgl\": [{\"colorbar\": {\"outlinewidth\": 0, \"ticks\": \"\"}, \"colorscale\": [[0.0, \"#0d0887\"], [0.1111111111111111, \"#46039f\"], [0.2222222222222222, \"#7201a8\"], [0.3333333333333333, \"#9c179e\"], [0.4444444444444444, \"#bd3786\"], [0.5555555555555556, \"#d8576b\"], [0.6666666666666666, \"#ed7953\"], [0.7777777777777778, \"#fb9f3a\"], [0.8888888888888888, \"#fdca26\"], [1.0, \"#f0f921\"]], \"type\": \"heatmapgl\"}], \"histogram\": [{\"marker\": {\"colorbar\": {\"outlinewidth\": 0, \"ticks\": \"\"}}, \"type\": \"histogram\"}], \"histogram2d\": [{\"colorbar\": {\"outlinewidth\": 0, \"ticks\": \"\"}, \"colorscale\": [[0.0, \"#0d0887\"], [0.1111111111111111, \"#46039f\"], [0.2222222222222222, \"#7201a8\"], [0.3333333333333333, \"#9c179e\"], [0.4444444444444444, \"#bd3786\"], [0.5555555555555556, \"#d8576b\"], [0.6666666666666666, \"#ed7953\"], [0.7777777777777778, \"#fb9f3a\"], [0.8888888888888888, \"#fdca26\"], [1.0, \"#f0f921\"]], \"type\": \"histogram2d\"}], \"histogram2dcontour\": [{\"colorbar\": {\"outlinewidth\": 0, \"ticks\": \"\"}, \"colorscale\": [[0.0, \"#0d0887\"], [0.1111111111111111, \"#46039f\"], [0.2222222222222222, \"#7201a8\"], [0.3333333333333333, \"#9c179e\"], [0.4444444444444444, \"#bd3786\"], [0.5555555555555556, \"#d8576b\"], [0.6666666666666666, \"#ed7953\"], [0.7777777777777778, \"#fb9f3a\"], [0.8888888888888888, \"#fdca26\"], [1.0, \"#f0f921\"]], \"type\": \"histogram2dcontour\"}], \"mesh3d\": [{\"colorbar\": {\"outlinewidth\": 0, \"ticks\": \"\"}, \"type\": \"mesh3d\"}], \"parcoords\": [{\"line\": {\"colorbar\": {\"outlinewidth\": 0, \"ticks\": \"\"}}, \"type\": \"parcoords\"}], \"pie\": [{\"automargin\": true, \"type\": \"pie\"}], \"scatter\": [{\"marker\": {\"colorbar\": {\"outlinewidth\": 0, \"ticks\": \"\"}}, \"type\": \"scatter\"}], \"scatter3d\": [{\"line\": {\"colorbar\": {\"outlinewidth\": 0, \"ticks\": \"\"}}, \"marker\": {\"colorbar\": {\"outlinewidth\": 0, \"ticks\": \"\"}}, \"type\": \"scatter3d\"}], \"scattercarpet\": [{\"marker\": {\"colorbar\": {\"outlinewidth\": 0, \"ticks\": \"\"}}, \"type\": \"scattercarpet\"}], \"scattergeo\": [{\"marker\": {\"colorbar\": {\"outlinewidth\": 0, \"ticks\": \"\"}}, \"type\": \"scattergeo\"}], \"scattergl\": [{\"marker\": {\"colorbar\": {\"outlinewidth\": 0, \"ticks\": \"\"}}, \"type\": \"scattergl\"}], \"scattermapbox\": [{\"marker\": {\"colorbar\": {\"outlinewidth\": 0, \"ticks\": \"\"}}, \"type\": \"scattermapbox\"}], \"scatterpolar\": [{\"marker\": {\"colorbar\": {\"outlinewidth\": 0, \"ticks\": \"\"}}, \"type\": \"scatterpolar\"}], \"scatterpolargl\": [{\"marker\": {\"colorbar\": {\"outlinewidth\": 0, \"ticks\": \"\"}}, \"type\": \"scatterpolargl\"}], \"scatterternary\": [{\"marker\": {\"colorbar\": {\"outlinewidth\": 0, \"ticks\": \"\"}}, \"type\": \"scatterternary\"}], \"surface\": [{\"colorbar\": {\"outlinewidth\": 0, \"ticks\": \"\"}, \"colorscale\": [[0.0, \"#0d0887\"], [0.1111111111111111, \"#46039f\"], [0.2222222222222222, \"#7201a8\"], [0.3333333333333333, \"#9c179e\"], [0.4444444444444444, \"#bd3786\"], [0.5555555555555556, \"#d8576b\"], [0.6666666666666666, \"#ed7953\"], [0.7777777777777778, \"#fb9f3a\"], [0.8888888888888888, \"#fdca26\"], [1.0, \"#f0f921\"]], \"type\": \"surface\"}], \"table\": [{\"cells\": {\"fill\": {\"color\": \"#EBF0F8\"}, \"line\": {\"color\": \"white\"}}, \"header\": {\"fill\": {\"color\": \"#C8D4E3\"}, \"line\": {\"color\": \"white\"}}, \"type\": \"table\"}]}, \"layout\": {\"annotationdefaults\": {\"arrowcolor\": \"#2a3f5f\", \"arrowhead\": 0, \"arrowwidth\": 1}, \"coloraxis\": {\"colorbar\": {\"outlinewidth\": 0, \"ticks\": \"\"}}, \"colorscale\": {\"diverging\": [[0, \"#8e0152\"], [0.1, \"#c51b7d\"], [0.2, \"#de77ae\"], [0.3, \"#f1b6da\"], [0.4, \"#fde0ef\"], [0.5, \"#f7f7f7\"], [0.6, \"#e6f5d0\"], [0.7, \"#b8e186\"], [0.8, \"#7fbc41\"], [0.9, \"#4d9221\"], [1, \"#276419\"]], \"sequential\": [[0.0, \"#0d0887\"], [0.1111111111111111, \"#46039f\"], [0.2222222222222222, \"#7201a8\"], [0.3333333333333333, \"#9c179e\"], [0.4444444444444444, \"#bd3786\"], [0.5555555555555556, \"#d8576b\"], [0.6666666666666666, \"#ed7953\"], [0.7777777777777778, \"#fb9f3a\"], [0.8888888888888888, \"#fdca26\"], [1.0, \"#f0f921\"]], \"sequentialminus\": [[0.0, \"#0d0887\"], [0.1111111111111111, \"#46039f\"], [0.2222222222222222, \"#7201a8\"], [0.3333333333333333, \"#9c179e\"], [0.4444444444444444, \"#bd3786\"], [0.5555555555555556, \"#d8576b\"], [0.6666666666666666, \"#ed7953\"], [0.7777777777777778, \"#fb9f3a\"], [0.8888888888888888, \"#fdca26\"], [1.0, \"#f0f921\"]]}, \"colorway\": [\"#636efa\", \"#EF553B\", \"#00cc96\", \"#ab63fa\", \"#FFA15A\", \"#19d3f3\", \"#FF6692\", \"#B6E880\", \"#FF97FF\", \"#FECB52\"], \"font\": {\"color\": \"#2a3f5f\"}, \"geo\": {\"bgcolor\": \"white\", \"lakecolor\": \"white\", \"landcolor\": \"#E5ECF6\", \"showlakes\": true, \"showland\": true, \"subunitcolor\": \"white\"}, \"hoverlabel\": {\"align\": \"left\"}, \"hovermode\": \"closest\", \"mapbox\": {\"style\": \"light\"}, \"paper_bgcolor\": \"white\", \"plot_bgcolor\": \"#E5ECF6\", \"polar\": {\"angularaxis\": {\"gridcolor\": \"white\", \"linecolor\": \"white\", \"ticks\": \"\"}, \"bgcolor\": \"#E5ECF6\", \"radialaxis\": {\"gridcolor\": \"white\", \"linecolor\": \"white\", \"ticks\": \"\"}}, \"scene\": {\"xaxis\": {\"backgroundcolor\": \"#E5ECF6\", \"gridcolor\": \"white\", \"gridwidth\": 2, \"linecolor\": \"white\", \"showbackground\": true, \"ticks\": \"\", \"zerolinecolor\": \"white\"}, \"yaxis\": {\"backgroundcolor\": \"#E5ECF6\", \"gridcolor\": \"white\", \"gridwidth\": 2, \"linecolor\": \"white\", \"showbackground\": true, \"ticks\": \"\", \"zerolinecolor\": \"white\"}, \"zaxis\": {\"backgroundcolor\": \"#E5ECF6\", \"gridcolor\": \"white\", \"gridwidth\": 2, \"linecolor\": \"white\", \"showbackground\": true, \"ticks\": \"\", \"zerolinecolor\": \"white\"}}, \"shapedefaults\": {\"line\": {\"color\": \"#2a3f5f\"}}, \"ternary\": {\"aaxis\": {\"gridcolor\": \"white\", \"linecolor\": \"white\", \"ticks\": \"\"}, \"baxis\": {\"gridcolor\": \"white\", \"linecolor\": \"white\", \"ticks\": \"\"}, \"bgcolor\": \"#E5ECF6\", \"caxis\": {\"gridcolor\": \"white\", \"linecolor\": \"white\", \"ticks\": \"\"}}, \"title\": {\"x\": 0.05}, \"xaxis\": {\"automargin\": true, \"gridcolor\": \"white\", \"linecolor\": \"white\", \"ticks\": \"\", \"title\": {\"standoff\": 15}, \"zerolinecolor\": \"white\", \"zerolinewidth\": 2}, \"yaxis\": {\"automargin\": true, \"gridcolor\": \"white\", \"linecolor\": \"white\", \"ticks\": \"\", \"title\": {\"standoff\": 15}, \"zerolinecolor\": \"white\", \"zerolinewidth\": 2}}}, \"xaxis\": {\"anchor\": \"y\", \"domain\": [0.0, 1.0], \"title\": {\"text\": \"SE\"}}, \"yaxis\": {\"anchor\": \"x\", \"domain\": [0.0, 1.0], \"title\": {\"text\": \"-logP\"}}},\n",
       "                        {\"responsive\": true}\n",
       "                    ).then(function(){\n",
       "                            \n",
       "var gd = document.getElementById('7c1b4387-366d-4606-befe-b7807dd2ea77');\n",
       "var x = new MutationObserver(function (mutations, observer) {{\n",
       "        var display = window.getComputedStyle(gd).display;\n",
       "        if (!display || display === 'none') {{\n",
       "            console.log([gd, 'removed!']);\n",
       "            Plotly.purge(gd);\n",
       "            observer.disconnect();\n",
       "        }}\n",
       "}});\n",
       "\n",
       "// Listen for the removal of the full notebook cells\n",
       "var notebookContainer = gd.closest('#notebook-container');\n",
       "if (notebookContainer) {{\n",
       "    x.observe(notebookContainer, {childList: true});\n",
       "}}\n",
       "\n",
       "// Listen for the clearing of the current output cell\n",
       "var outputEl = gd.closest('.output');\n",
       "if (outputEl) {{\n",
       "    x.observe(outputEl, {childList: true});\n",
       "}}\n",
       "\n",
       "                        })\n",
       "                };\n",
       "                });\n",
       "            </script>\n",
       "        </div>"
      ]
     },
     "metadata": {},
     "output_type": "display_data"
    },
    {
     "data": {
      "application/vnd.plotly.v1+json": {
       "config": {
        "plotlyServerURL": "https://plot.ly"
       },
       "data": [
        {
         "customdata": [
          [
           "TP53",
           1001,
           "metabolism"
          ],
          [
           "BRAF",
           1001,
           "metabolism"
          ],
          [
           "PIK3CA",
           1001,
           "metabolism"
          ],
          [
           "TP53",
           1248,
           "metabolism"
          ],
          [
           "BRAF",
           1248,
           "metabolism"
          ],
          [
           "PIK3CA",
           1248,
           "metabolism"
          ],
          [
           "TP53",
           196,
           "metabolism"
          ],
          [
           "PIK3CA",
           196,
           "metabolism"
          ]
         ],
         "hoverlabel": {
          "namelength": 0
         },
         "hovertemplate": "Drug_Targeted_process_or_pathway=%{customdata[2]}<br>SE=%{x}<br>-logP=%{y}<br>F1=%{customdata[0]}<br>F2=%{customdata[1]}",
         "legendgroup": "metabolism",
         "marker": {
          "color": "#636efa",
          "symbol": "circle"
         },
         "mode": "markers",
         "name": "metabolism",
         "showlegend": true,
         "type": "scatter",
         "x": [
          0.2164671889350487,
          0.1836705671367028,
          0.09885130145768066,
          0.5546735731126051,
          -0.5412897853513478,
          -0.034446170934199265,
          0.31631280865130235,
          0.03472650429845354
         ],
         "xaxis": "x",
         "y": [
          0.5591548756653676,
          0.3104695981497278,
          0.27762719543379805,
          1.9538528889350888,
          1.1660925107477862,
          0.09011701063480347,
          0.9604789007453842,
          0.09404047737045083
         ],
         "yaxis": "y"
        },
        {
         "customdata": [
          [
           "TP53",
           1003,
           "DNA replication"
          ],
          [
           "BRAF",
           1003,
           "DNA replication"
          ],
          [
           "PIK3CA",
           1003,
           "DNA replication"
          ],
          [
           "TP53",
           1005,
           "DNA replication"
          ],
          [
           "BRAF",
           1005,
           "DNA replication"
          ],
          [
           "PIK3CA",
           1005,
           "DNA replication"
          ],
          [
           "TP53",
           1006,
           "DNA replication"
          ],
          [
           "BRAF",
           1006,
           "DNA replication"
          ],
          [
           "PIK3CA",
           1006,
           "DNA replication"
          ],
          [
           "TP53",
           1008,
           "DNA replication"
          ],
          [
           "BRAF",
           1008,
           "DNA replication"
          ],
          [
           "PIK3CA",
           1008,
           "DNA replication"
          ],
          [
           "TP53",
           133,
           "DNA replication"
          ],
          [
           "PIK3CA",
           133,
           "DNA replication"
          ],
          [
           "TP53",
           134,
           "DNA replication"
          ],
          [
           "PIK3CA",
           134,
           "DNA replication"
          ],
          [
           "TP53",
           135,
           "DNA replication"
          ],
          [
           "PIK3CA",
           135,
           "DNA replication"
          ],
          [
           "TP53",
           136,
           "DNA replication"
          ],
          [
           "PIK3CA",
           136,
           "DNA replication"
          ],
          [
           "TP53",
           1375,
           "DNA replication"
          ],
          [
           "BRAF",
           1375,
           "DNA replication"
          ],
          [
           "PIK3CA",
           1375,
           "DNA replication"
          ],
          [
           "TP53",
           1378,
           "DNA replication"
          ],
          [
           "BRAF",
           1378,
           "DNA replication"
          ],
          [
           "PIK3CA",
           1378,
           "DNA replication"
          ],
          [
           "TP53",
           1494,
           "DNA replication"
          ],
          [
           "BRAF",
           1494,
           "DNA replication"
          ],
          [
           "PIK3CA",
           1494,
           "DNA replication"
          ],
          [
           "TP53",
           179,
           "DNA replication"
          ],
          [
           "PIK3CA",
           179,
           "DNA replication"
          ],
          [
           "TP53",
           190,
           "DNA replication"
          ],
          [
           "PIK3CA",
           190,
           "DNA replication"
          ],
          [
           "TP53",
           71,
           "DNA replication"
          ],
          [
           "PIK3CA",
           71,
           "DNA replication"
          ]
         ],
         "hoverlabel": {
          "namelength": 0
         },
         "hovertemplate": "Drug_Targeted_process_or_pathway=%{customdata[2]}<br>SE=%{x}<br>-logP=%{y}<br>F1=%{customdata[0]}<br>F2=%{customdata[1]}",
         "legendgroup": "DNA replication",
         "marker": {
          "color": "#EF553B",
          "symbol": "circle"
         },
         "mode": "markers",
         "name": "DNA replication",
         "showlegend": true,
         "type": "scatter",
         "x": [
          0.2303200689985821,
          0.23721488931129456,
          0.16840761890954775,
          -0.38561441871278396,
          0.24715375741205345,
          0.3564167637637551,
          0.13577959454504826,
          -0.32038019507329746,
          0.5023153345686648,
          0.2838913437485846,
          -0.2630463638583418,
          0.30649077822134657,
          0.4417547711187964,
          -0.1377821429253306,
          0.3208110007821713,
          -0.3058570489423049,
          0.4183692506363973,
          -0.16599839626427487,
          0.5858697406668021,
          -0.3198691518102364,
          0.06979143425128867,
          -0.18292795468502568,
          0.3203607977675331,
          -0.0562540789913586,
          0.564773118450848,
          -0.018542226219512372,
          0.3528118547802795,
          0.4178007116307277,
          0.021912558337805168,
          0.16585421214692614,
          -0.056181396468577886,
          0.43137661458604,
          -0.013999870547482873,
          0.49668017885963106,
          0.9666100174314766
         ],
         "xaxis": "x",
         "y": [
          0.6028724863027771,
          0.4162839084296125,
          0.5131594943757254,
          1.1657206845516472,
          0.43672576310683575,
          1.3375342427282018,
          0.32423405971283353,
          0.5952798128192859,
          2.1928137228181117,
          0.7816635758681034,
          0.4699424460402954,
          1.090036808592457,
          1.4219582586829602,
          0.4210947379743735,
          0.92169728817515,
          1.1054641482391765,
          1.31886599334575,
          0.5247646434899808,
          2.1372636178835616,
          1.2065155460055226,
          0.1565646408562439,
          0.3096396507898379,
          1.1667277713874171,
          0.12528929761941945,
          1.2399826313145694,
          0.04816006437283607,
          1.048025493109813,
          0.8336192529288543,
          0.05715549747149368,
          0.4336401977274874,
          0.1563347805789008,
          1.3757782145847968,
          0.03668993607310605,
          0.8196199205877773,
          2.1328866976840217
         ],
         "yaxis": "y"
        },
        {
         "customdata": [
          [
           "TP53",
           1004,
           "cytoskeleton"
          ],
          [
           "BRAF",
           1004,
           "cytoskeleton"
          ],
          [
           "PIK3CA",
           1004,
           "cytoskeleton"
          ],
          [
           "TP53",
           1007,
           "cytoskeleton"
          ],
          [
           "BRAF",
           1007,
           "cytoskeleton"
          ],
          [
           "PIK3CA",
           1007,
           "cytoskeleton"
          ],
          [
           "TP53",
           1069,
           "cytoskeleton"
          ],
          [
           "BRAF",
           1069,
           "cytoskeleton"
          ],
          [
           "PIK3CA",
           1069,
           "cytoskeleton"
          ],
          [
           "PIK3CA",
           11,
           "cytoskeleton"
          ],
          [
           "TP53",
           1192,
           "cytoskeleton"
          ],
          [
           "BRAF",
           1192,
           "cytoskeleton"
          ],
          [
           "PIK3CA",
           1192,
           "cytoskeleton"
          ],
          [
           "TP53",
           127,
           "cytoskeleton"
          ],
          [
           "PIK3CA",
           127,
           "cytoskeleton"
          ],
          [
           "TP53",
           140,
           "cytoskeleton"
          ],
          [
           "PIK3CA",
           140,
           "cytoskeleton"
          ],
          [
           "TP53",
           158,
           "cytoskeleton"
          ],
          [
           "PIK3CA",
           158,
           "cytoskeleton"
          ],
          [
           "TP53",
           176,
           "cytoskeleton"
          ],
          [
           "PIK3CA",
           176,
           "cytoskeleton"
          ],
          [
           "TP53",
           201,
           "cytoskeleton"
          ],
          [
           "PIK3CA",
           201,
           "cytoskeleton"
          ],
          [
           "TP53",
           230,
           "cytoskeleton"
          ],
          [
           "PIK3CA",
           230,
           "cytoskeleton"
          ],
          [
           "TP53",
           309,
           "cytoskeleton"
          ],
          [
           "PIK3CA",
           309,
           "cytoskeleton"
          ]
         ],
         "hoverlabel": {
          "namelength": 0
         },
         "hovertemplate": "Drug_Targeted_process_or_pathway=%{customdata[2]}<br>SE=%{x}<br>-logP=%{y}<br>F1=%{customdata[0]}<br>F2=%{customdata[1]}",
         "legendgroup": "cytoskeleton",
         "marker": {
          "color": "#00cc96",
          "symbol": "circle"
         },
         "mode": "markers",
         "name": "cytoskeleton",
         "showlegend": true,
         "type": "scatter",
         "x": [
          -0.7258507100839087,
          0.8441156864545071,
          -0.266879386558866,
          -0.36189787756725056,
          0.5553787265646171,
          -0.1197894035743284,
          0.6952427064408601,
          0.18620833203966985,
          -0.6509027850859396,
          0.36529283441450544,
          0.14636210558260676,
          -0.1845558929863222,
          -0.12556590441293294,
          0.7883954673127965,
          0.26570206546498826,
          -0.31230131572865205,
          -0.018643098474157252,
          0.4033836820414215,
          0.04542704719431494,
          0.2318556965690517,
          -0.7038886132114489,
          0.04197457495500016,
          -0.1578498992363207,
          0.07143419188255343,
          0.3248154294048384,
          -0.3231980715055488,
          0.49737004362194204
         ],
         "xaxis": "x",
         "y": [
          2.9370871839329817,
          2.189683788254114,
          0.9088436741892346,
          1.0707719070201915,
          1.204763176775731,
          0.344885875359196,
          2.7558302314758905,
          0.3159225103002202,
          3.3236894196591145,
          0.5233386463467561,
          0.35580921340573063,
          0.3133226526111478,
          0.3693799366814588,
          1.5542636747396266,
          0.3816430679645907,
          0.8901914922591299,
          0.04813516740816074,
          1.2496620166397967,
          0.12125954532036505,
          0.6148309801467312,
          3.9473851409632266,
          0.09211986381430988,
          0.4941828416204305,
          0.16922153167046633,
          1.2419792028731171,
          0.9879175608542732,
          2.288094773524296
         ],
         "yaxis": "y"
        },
        {
         "customdata": [
          [
           "TP53",
           1009,
           "other"
          ],
          [
           "BRAF",
           1009,
           "other"
          ],
          [
           "PIK3CA",
           1009,
           "other"
          ],
          [
           "TP53",
           1020,
           "other"
          ],
          [
           "BRAF",
           1020,
           "other"
          ],
          [
           "PIK3CA",
           1020,
           "other"
          ],
          [
           "TP53",
           1026,
           "other"
          ],
          [
           "BRAF",
           1026,
           "other"
          ],
          [
           "PIK3CA",
           1026,
           "other"
          ],
          [
           "TP53",
           1031,
           "other"
          ],
          [
           "BRAF",
           1031,
           "other"
          ],
          [
           "PIK3CA",
           1031,
           "other"
          ],
          [
           "TP53",
           1033,
           "other"
          ],
          [
           "BRAF",
           1033,
           "other"
          ],
          [
           "PIK3CA",
           1033,
           "other"
          ],
          [
           "TP53",
           1037,
           "other"
          ],
          [
           "BRAF",
           1037,
           "other"
          ],
          [
           "PIK3CA",
           1037,
           "other"
          ],
          [
           "TP53",
           104,
           "other"
          ],
          [
           "PIK3CA",
           104,
           "other"
          ],
          [
           "PIK3CA",
           106,
           "other"
          ],
          [
           "TP53",
           1067,
           "other"
          ],
          [
           "BRAF",
           1067,
           "other"
          ],
          [
           "PIK3CA",
           1067,
           "other"
          ],
          [
           "TP53",
           1072,
           "other"
          ],
          [
           "BRAF",
           1072,
           "other"
          ],
          [
           "PIK3CA",
           1072,
           "other"
          ],
          [
           "PIK3CA",
           111,
           "other"
          ],
          [
           "PIK3CA",
           1158,
           "other"
          ],
          [
           "PIK3CA",
           1161,
           "other"
          ],
          [
           "PIK3CA",
           1164,
           "other"
          ],
          [
           "TP53",
           1170,
           "other"
          ],
          [
           "BRAF",
           1170,
           "other"
          ],
          [
           "PIK3CA",
           1170,
           "other"
          ],
          [
           "TP53",
           1194,
           "other"
          ],
          [
           "BRAF",
           1194,
           "other"
          ],
          [
           "PIK3CA",
           1194,
           "other"
          ],
          [
           "TP53",
           1199,
           "other"
          ],
          [
           "BRAF",
           1199,
           "other"
          ],
          [
           "PIK3CA",
           1199,
           "other"
          ],
          [
           "PIK3CA",
           1203,
           "other"
          ],
          [
           "TP53",
           1230,
           "other"
          ],
          [
           "BRAF",
           1230,
           "other"
          ],
          [
           "PIK3CA",
           1230,
           "other"
          ],
          [
           "TP53",
           1239,
           "other"
          ],
          [
           "PIK3CA",
           1239,
           "other"
          ],
          [
           "TP53",
           1242,
           "other"
          ],
          [
           "BRAF",
           1242,
           "other"
          ],
          [
           "PIK3CA",
           1242,
           "other"
          ],
          [
           "TP53",
           1243,
           "other"
          ],
          [
           "BRAF",
           1243,
           "other"
          ],
          [
           "PIK3CA",
           1243,
           "other"
          ],
          [
           "TP53",
           1262,
           "other"
          ],
          [
           "BRAF",
           1262,
           "other"
          ],
          [
           "PIK3CA",
           1262,
           "other"
          ],
          [
           "TP53",
           147,
           "other"
          ],
          [
           "PIK3CA",
           147,
           "other"
          ],
          [
           "TP53",
           150,
           "other"
          ],
          [
           "PIK3CA",
           150,
           "other"
          ],
          [
           "TP53",
           1502,
           "other"
          ],
          [
           "PIK3CA",
           1502,
           "other"
          ],
          [
           "TP53",
           151,
           "other"
          ],
          [
           "PIK3CA",
           151,
           "other"
          ],
          [
           "TP53",
           1529,
           "other"
          ],
          [
           "PIK3CA",
           1529,
           "other"
          ],
          [
           "TP53",
           165,
           "other"
          ],
          [
           "PIK3CA",
           165,
           "other"
          ],
          [
           "TP53",
           166,
           "other"
          ],
          [
           "PIK3CA",
           166,
           "other"
          ],
          [
           "PIK3CA",
           17,
           "other"
          ],
          [
           "TP53",
           170,
           "other"
          ],
          [
           "PIK3CA",
           170,
           "other"
          ],
          [
           "TP53",
           173,
           "other"
          ],
          [
           "PIK3CA",
           173,
           "other"
          ],
          [
           "TP53",
           177,
           "other"
          ],
          [
           "PIK3CA",
           177,
           "other"
          ],
          [
           "TP53",
           178,
           "other"
          ],
          [
           "PIK3CA",
           178,
           "other"
          ],
          [
           "TP53",
           180,
           "other"
          ],
          [
           "PIK3CA",
           180,
           "other"
          ],
          [
           "TP53",
           186,
           "other"
          ],
          [
           "PIK3CA",
           186,
           "other"
          ],
          [
           "TP53",
           192,
           "other"
          ],
          [
           "PIK3CA",
           192,
           "other"
          ],
          [
           "TP53",
           194,
           "other"
          ],
          [
           "PIK3CA",
           194,
           "other"
          ],
          [
           "TP53",
           197,
           "other"
          ],
          [
           "PIK3CA",
           197,
           "other"
          ],
          [
           "TP53",
           203,
           "other"
          ],
          [
           "PIK3CA",
           203,
           "other"
          ],
          [
           "TP53",
           204,
           "other"
          ],
          [
           "PIK3CA",
           204,
           "other"
          ],
          [
           "TP53",
           205,
           "other"
          ],
          [
           "PIK3CA",
           205,
           "other"
          ],
          [
           "TP53",
           206,
           "other"
          ],
          [
           "PIK3CA",
           206,
           "other"
          ],
          [
           "TP53",
           229,
           "other"
          ],
          [
           "PIK3CA",
           229,
           "other"
          ],
          [
           "TP53",
           235,
           "other"
          ],
          [
           "PIK3CA",
           235,
           "other"
          ],
          [
           "TP53",
           252,
           "other"
          ],
          [
           "PIK3CA",
           252,
           "other"
          ],
          [
           "TP53",
           256,
           "other"
          ],
          [
           "PIK3CA",
           256,
           "other"
          ],
          [
           "TP53",
           258,
           "other"
          ],
          [
           "PIK3CA",
           258,
           "other"
          ],
          [
           "TP53",
           260,
           "other"
          ],
          [
           "PIK3CA",
           260,
           "other"
          ],
          [
           "TP53",
           261,
           "other"
          ],
          [
           "PIK3CA",
           261,
           "other"
          ],
          [
           "TP53",
           266,
           "other"
          ],
          [
           "PIK3CA",
           266,
           "other"
          ],
          [
           "TP53",
           279,
           "other"
          ],
          [
           "PIK3CA",
           279,
           "other"
          ],
          [
           "TP53",
           286,
           "other"
          ],
          [
           "PIK3CA",
           286,
           "other"
          ],
          [
           "TP53",
           288,
           "other"
          ],
          [
           "PIK3CA",
           288,
           "other"
          ],
          [
           "TP53",
           290,
           "other"
          ],
          [
           "PIK3CA",
           290,
           "other"
          ],
          [
           "TP53",
           291,
           "other"
          ],
          [
           "PIK3CA",
           291,
           "other"
          ],
          [
           "TP53",
           300,
           "other"
          ],
          [
           "PIK3CA",
           300,
           "other"
          ],
          [
           "TP53",
           305,
           "other"
          ],
          [
           "PIK3CA",
           305,
           "other"
          ],
          [
           "TP53",
           306,
           "other"
          ],
          [
           "PIK3CA",
           306,
           "other"
          ],
          [
           "TP53",
           310,
           "other"
          ],
          [
           "PIK3CA",
           310,
           "other"
          ],
          [
           "TP53",
           328,
           "other"
          ],
          [
           "PIK3CA",
           328,
           "other"
          ],
          [
           "TP53",
           330,
           "other"
          ],
          [
           "PIK3CA",
           330,
           "other"
          ],
          [
           "TP53",
           331,
           "other"
          ],
          [
           "PIK3CA",
           331,
           "other"
          ],
          [
           "TP53",
           332,
           "other"
          ],
          [
           "PIK3CA",
           332,
           "other"
          ],
          [
           "TP53",
           333,
           "other"
          ],
          [
           "PIK3CA",
           333,
           "other"
          ],
          [
           "TP53",
           341,
           "other"
          ],
          [
           "PIK3CA",
           341,
           "other"
          ],
          [
           "PIK3CA",
           45,
           "other"
          ],
          [
           "PIK3CA",
           55,
           "other"
          ],
          [
           "PIK3CA",
           59,
           "other"
          ],
          [
           "PIK3CA",
           63,
           "other"
          ],
          [
           "TP53",
           89,
           "other"
          ],
          [
           "PIK3CA",
           89,
           "other"
          ],
          [
           "TP53",
           9,
           "other"
          ],
          [
           "PIK3CA",
           9,
           "other"
          ],
          [
           "TP53",
           91,
           "other"
          ],
          [
           "PIK3CA",
           91,
           "other"
          ]
         ],
         "hoverlabel": {
          "namelength": 0
         },
         "hovertemplate": "Drug_Targeted_process_or_pathway=%{customdata[2]}<br>SE=%{x}<br>-logP=%{y}<br>F1=%{customdata[0]}<br>F2=%{customdata[1]}",
         "legendgroup": "other",
         "marker": {
          "color": "#ab63fa",
          "symbol": "circle"
         },
         "mode": "markers",
         "name": "other",
         "showlegend": true,
         "type": "scatter",
         "x": [
          0.2932537463584444,
          0.2172881315521388,
          -0.10923780705740864,
          0.05516908173624351,
          0.10449369266340933,
          0.21068563402267965,
          0.010975533594567915,
          0.3396367005052868,
          -0.30433497610481564,
          -0.1656925516975306,
          -0.14830727532863394,
          -0.08561665673796587,
          0.10547295843841707,
          0.07800678225545049,
          -0.0487077559689116,
          -0.07786398004192042,
          0.2917495232032541,
          0.32672565302748896,
          -0.1159269305943876,
          -0.13907457275181165,
          0.5488984772396416,
          0.2884245966061276,
          0.4142063417131758,
          -0.4806350774176279,
          -0.27962476169245537,
          0.871443717890368,
          0.11684379812781745,
          0.7539363403048971,
          0.6043531858259571,
          0.5202957812465964,
          0.14757836359615514,
          0.2110880746387252,
          -0.7496155928901449,
          0.10062179627851138,
          0.16594571894006094,
          0.5188934353928767,
          -0.1514868830741444,
          0.19555653537416,
          0.20027857190384304,
          -0.43154045097913823,
          -0.4055897651243724,
          0.30138538228311923,
          0.20242671871224724,
          0.3439912468175366,
          -0.033466191045250684,
          -0.3004942544162996,
          0.1477956416217368,
          -0.5327786664778889,
          -0.09168445901353846,
          -0.19042944917275695,
          0.3404264225965796,
          -0.4465358777641187,
          0.404929750777443,
          -0.5254851094698842,
          0.20121884611806254,
          0.5665882543887963,
          -0.024500865311274343,
          0.9165176558662368,
          0.1857518869812493,
          0.17834799547995653,
          -0.0885201316479824,
          0.4401697439701043,
          -0.14099379828231573,
          0.3526421890799005,
          0.4073852133287041,
          -0.0810026579818422,
          0.3264195635068398,
          -0.07137910387522299,
          -0.2865109164822198,
          0.943773906274196,
          0.10926562166155053,
          0.019170091775023292,
          0.09735356847777303,
          0.1370679583674107,
          0.510336110406983,
          -0.4144634302519293,
          0.2547180334069145,
          -0.1198497988045117,
          0.08912877233893468,
          0.4128206488253775,
          0.35778554625481995,
          -0.012670176903384504,
          0.31253130217770825,
          0.007937712351118396,
          0.4370034975377688,
          -0.04135368703423042,
          0.2840473302632234,
          -0.2671054712645722,
          0.1574278570626889,
          -0.08871005601525002,
          -0.16534747719146992,
          -0.2244887503624504,
          0.2699920682169452,
          -0.04413186768592766,
          0.8032276368360859,
          0.21171147289675307,
          -0.08473247644991498,
          -0.1716820272790074,
          -0.19765224275245288,
          -0.8140696454180403,
          -0.2462552885481869,
          0.4448423058008899,
          -0.21861022148962125,
          -0.0007422368288004628,
          0.2327430050689911,
          0.3834915442967562,
          -0.10484948782260044,
          -0.2118776093993532,
          0.04537059324460632,
          0.17521380412230048,
          0.2906911481518341,
          -0.01692423069180095,
          -0.2240518566344098,
          0.05781691801883225,
          0.4134678358702568,
          -0.17536883544556206,
          0.06571943436496852,
          0.3940742866974382,
          0.2103171008976039,
          0.4348904312132988,
          0.15090634281648074,
          0.2195246253595004,
          0.1863671933637881,
          0.20505106755851865,
          -0.5481209584530626,
          -0.003045465513018061,
          -0.25689612352098506,
          0.27416961361609216,
          -0.3174837745884886,
          -0.15676481994072075,
          -0.09928862786839072,
          -0.14376625729682993,
          -0.1307036552869441,
          -0.04417118232253363,
          -0.09040687412882653,
          -0.2923934683535259,
          0.3691991459668675,
          0.08772838204728706,
          0.4174313674311538,
          -0.01420146466128758,
          0.3360529622486624,
          0.027268824023288105,
          1.1280858528660012,
          0.4612676581783433,
          -0.6193844699440596,
          0.380515395759108,
          0.698118456533709,
          0.3873060314819418,
          0.4550688669090628,
          -0.011289631906718368,
          -0.19781678465609207,
          0.22447632213832971
         ],
         "xaxis": "x",
         "y": [
          0.8145306725904617,
          0.3760597656877949,
          0.31060727205798805,
          0.12150054108287542,
          0.16694683086093334,
          0.6737719209944956,
          0.02192405461584039,
          0.6365821603313464,
          1.0401753152773332,
          0.4074706970427057,
          0.2444938228330341,
          0.23668598899839896,
          0.2443875804711597,
          0.1222672290081092,
          0.12877960548609144,
          0.1659936915437549,
          0.5293410652368594,
          1.1434897179706387,
          0.15212901205062093,
          0.18508018824599087,
          0.9072321531145946,
          0.8008344575006368,
          0.8213079891334257,
          2.0718586456199364,
          0.7700238995679506,
          2.302567708403956,
          0.33775840806797985,
          1.4106385803066162,
          1.931996921102052,
          1.5504303680298872,
          0.31823323508828283,
          0.5099747146870102,
          1.8280246933202984,
          0.27433739210462665,
          0.4112848907133325,
          1.1040479315285463,
          0.4595070779611001,
          0.49889831235847,
          0.34380391395569804,
          1.7839732989301067,
          1.0283160936760614,
          0.8503874957506828,
          0.34801668375569056,
          1.2959592507546822,
          0.06809664461574637,
          0.9919030700522584,
          0.35849906503427365,
          1.141494758465191,
          0.2571804876861649,
          0.4834024057593331,
          0.6437135444731419,
          1.8749690808416608,
          1.2509940310838032,
          1.120591582543703,
          0.6417648476799221,
          2.0249386269602403,
          0.06372396710879369,
          4.378060768910991,
          0.6011043842486788,
          0.42117243306018176,
          0.2455647471537556,
          1.414860742196961,
          0.4325806641524756,
          0.9437263656852608,
          1.4065240352618846,
          0.1844282578148425,
          1.2065734608785297,
          0.16093395754983575,
          1.0137105716950674,
          1.98916861250144,
          0.2559806322903918,
          0.049528451501387495,
          0.2261080651114871,
          0.4185514381492326,
          1.7447682646929663,
          1.7325343869048198,
          0.6903799362357361,
          0.35842229491352506,
          0.2052874230040453,
          1.7226478099875937,
          1.0676555046757097,
          0.033148734645329116,
          0.8944487584759052,
          0.020641772651513884,
          1.4007309352871824,
          0.11220983161166727,
          0.7915407861625428,
          0.9496168542517432,
          0.4080631726053032,
          0.2571044738726504,
          0.4110025167644613,
          0.7600713852369848,
          0.7805390896453961,
          0.11835166724318735,
          3.7607946175056703,
          0.7116240771997958,
          0.2035803259831601,
          0.5504283386537329,
          0.5337855020354593,
          5.125239971494211,
          0.6954653217503636,
          1.880133340164508,
          0.6006384965953753,
          0.0018849679537913985,
          0.6511025829401627,
          1.5637845759734694,
          0.2573190213162609,
          0.7123209167729517,
          0.10452020713949844,
          0.5641200585596564,
          0.8610215304571682,
          0.04479935774644205,
          0.6213699837299218,
          0.16121790571032246,
          1.3764897449055122,
          0.5647233958732769,
          0.1547376572386145,
          1.6254210824553104,
          0.5752937600762609,
          1.873809504149468,
          0.3885406897883302,
          0.7446482528182142,
          0.4975822360779205,
          0.6838793127540999,
          2.062225430944925,
          0.007918586462759614,
          0.7331807343191268,
          0.9641794889575708,
          0.9651239197531956,
          0.4937103906742426,
          0.2422501909538261,
          0.44573803985355803,
          0.3283537387338969,
          0.11846288924235035,
          0.21775045123773729,
          1.0493230031677132,
          1.1741975429084237,
          0.24823261444354885,
          1.3888654794570312,
          0.03668467279583811,
          1.0399628284386786,
          0.07314537270681752,
          2.5881863179262625,
          0.6987304609096326,
          1.0296987560936124,
          0.5499766609033654,
          1.3017667705773128,
          0.5984617133838674,
          0.7323845918195663,
          0.013901812511683265,
          0.2727584538881529,
          0.3145291723184413
         ],
         "yaxis": "y"
        },
        {
         "customdata": [
          [
           "TP53",
           1010,
           "EGFR signaling"
          ],
          [
           "BRAF",
           1010,
           "EGFR signaling"
          ],
          [
           "PIK3CA",
           1010,
           "EGFR signaling"
          ],
          [
           "TP53",
           1032,
           "EGFR signaling"
          ],
          [
           "BRAF",
           1032,
           "EGFR signaling"
          ],
          [
           "PIK3CA",
           1032,
           "EGFR signaling"
          ],
          [
           "TP53",
           1114,
           "EGFR signaling"
          ],
          [
           "PIK3CA",
           1114,
           "EGFR signaling"
          ],
          [
           "PIK3CA",
           1143,
           "EGFR signaling"
          ],
          [
           "PIK3CA",
           119,
           "EGFR signaling"
          ],
          [
           "TP53",
           1377,
           "EGFR signaling"
          ],
          [
           "BRAF",
           1377,
           "EGFR signaling"
          ],
          [
           "PIK3CA",
           1377,
           "EGFR signaling"
          ],
          [
           "TP53",
           255,
           "EGFR signaling"
          ],
          [
           "PIK3CA",
           255,
           "EGFR signaling"
          ],
          [
           "TP53",
           282,
           "EGFR signaling"
          ],
          [
           "PIK3CA",
           282,
           "EGFR signaling"
          ]
         ],
         "hoverlabel": {
          "namelength": 0
         },
         "hovertemplate": "Drug_Targeted_process_or_pathway=%{customdata[2]}<br>SE=%{x}<br>-logP=%{y}<br>F1=%{customdata[0]}<br>F2=%{customdata[1]}",
         "legendgroup": "EGFR signaling",
         "marker": {
          "color": "#FFA15A",
          "symbol": "circle"
         },
         "mode": "markers",
         "name": "EGFR signaling",
         "showlegend": true,
         "type": "scatter",
         "x": [
          0.2013495911037234,
          0.3854868648679641,
          0.05289068407648172,
          -0.13898763217609905,
          -0.5268965064048091,
          -0.021696931899550798,
          -0.03312962093982305,
          0.11299286749446745,
          0.5491146640198891,
          -0.55785807692026,
          -0.11775387541157635,
          -0.7292039454438056,
          -0.38099723266358504,
          0.20556574317237888,
          -0.2939745335358578,
          -0.2048242710365078,
          -0.14417454029621854
         ],
         "xaxis": "x",
         "y": [
          0.5125989295437111,
          0.7483540230961332,
          0.1405526791098737,
          0.33294821037876465,
          1.1222676420506832,
          0.05549701335228474,
          0.06808055031308498,
          0.3227163139825026,
          1.6763167517424225,
          0.9269896140102606,
          0.2782243265331751,
          1.7712273408077386,
          1.4934150388305576,
          0.5574550953809521,
          1.0568458000819354,
          0.5550301852680145,
          0.4365837803343101
         ],
         "yaxis": "y"
        },
        {
         "customdata": [
          [
           "TP53",
           1011,
           "apoptosis regulation"
          ],
          [
           "BRAF",
           1011,
           "apoptosis regulation"
          ],
          [
           "PIK3CA",
           1011,
           "apoptosis regulation"
          ],
          [
           "TP53",
           1149,
           "apoptosis regulation"
          ],
          [
           "BRAF",
           1149,
           "apoptosis regulation"
          ],
          [
           "PIK3CA",
           1149,
           "apoptosis regulation"
          ],
          [
           "TP53",
           1261,
           "apoptosis regulation"
          ],
          [
           "BRAF",
           1261,
           "apoptosis regulation"
          ],
          [
           "PIK3CA",
           1261,
           "apoptosis regulation"
          ],
          [
           "TP53",
           172,
           "apoptosis regulation"
          ],
          [
           "PIK3CA",
           172,
           "apoptosis regulation"
          ],
          [
           "TP53",
           175,
           "apoptosis regulation"
          ],
          [
           "PIK3CA",
           175,
           "apoptosis regulation"
          ],
          [
           "TP53",
           182,
           "apoptosis regulation"
          ],
          [
           "PIK3CA",
           182,
           "apoptosis regulation"
          ],
          [
           "TP53",
           268,
           "apoptosis regulation"
          ],
          [
           "PIK3CA",
           268,
           "apoptosis regulation"
          ]
         ],
         "hoverlabel": {
          "namelength": 0
         },
         "hovertemplate": "Drug_Targeted_process_or_pathway=%{customdata[2]}<br>SE=%{x}<br>-logP=%{y}<br>F1=%{customdata[0]}<br>F2=%{customdata[1]}",
         "legendgroup": "apoptosis regulation",
         "marker": {
          "color": "#19d3f3",
          "symbol": "circle"
         },
         "mode": "markers",
         "name": "apoptosis regulation",
         "showlegend": true,
         "type": "scatter",
         "x": [
          0.020628357718394826,
          0.5756926367372082,
          0.6979234378716055,
          -0.12440022814421595,
          -0.2902584811783416,
          0.35844117219366856,
          -0.2739215466361617,
          -0.2037354326502293,
          0.7619582523180098,
          -0.2129660502210399,
          0.21211463141030948,
          0.07636503295411244,
          0.06722766741616319,
          0.5111435373478846,
          -0.1447610604782195,
          -0.4425676766640653,
          -0.054036359242847366
         ],
         "xaxis": "x",
         "y": [
          0.04159864334917062,
          1.259423654919272,
          3.5301510352871652,
          0.27723413488526283,
          0.5260996880855549,
          1.2968714300887858,
          0.7532403518352981,
          0.35058892888277865,
          4.3697787544873545,
          0.5545536926746554,
          0.7079366243383097,
          0.1736195330751379,
          0.18843585031645885,
          1.7487552172560188,
          0.4461556992454883,
          1.5135710923421233,
          0.14995948182659305
         ],
         "yaxis": "y"
        },
        {
         "customdata": [
          [
           "TP53",
           1012,
           "chromain  histone acetylation"
          ],
          [
           "BRAF",
           1012,
           "chromain  histone acetylation"
          ],
          [
           "PIK3CA",
           1012,
           "chromain  histone acetylation"
          ],
          [
           "TP53",
           164,
           "chromain  histone acetylation"
          ],
          [
           "PIK3CA",
           164,
           "chromain  histone acetylation"
          ],
          [
           "TP53",
           200,
           "chromain  histone acetylation"
          ],
          [
           "PIK3CA",
           200,
           "chromain  histone acetylation"
          ],
          [
           "TP53",
           265,
           "chromain  histone acetylation"
          ],
          [
           "PIK3CA",
           265,
           "chromain  histone acetylation"
          ],
          [
           "TP53",
           271,
           "chromain  histone acetylation"
          ],
          [
           "PIK3CA",
           271,
           "chromain  histone acetylation"
          ],
          [
           "TP53",
           272,
           "chromain  histone acetylation"
          ],
          [
           "PIK3CA",
           272,
           "chromain  histone acetylation"
          ],
          [
           "TP53",
           273,
           "chromain  histone acetylation"
          ],
          [
           "PIK3CA",
           273,
           "chromain  histone acetylation"
          ],
          [
           "TP53",
           274,
           "chromain  histone acetylation"
          ],
          [
           "PIK3CA",
           274,
           "chromain  histone acetylation"
          ],
          [
           "TP53",
           276,
           "chromain  histone acetylation"
          ],
          [
           "PIK3CA",
           276,
           "chromain  histone acetylation"
          ],
          [
           "TP53",
           88,
           "chromain  histone acetylation"
          ],
          [
           "PIK3CA",
           88,
           "chromain  histone acetylation"
          ]
         ],
         "hoverlabel": {
          "namelength": 0
         },
         "hovertemplate": "Drug_Targeted_process_or_pathway=%{customdata[2]}<br>SE=%{x}<br>-logP=%{y}<br>F1=%{customdata[0]}<br>F2=%{customdata[1]}",
         "legendgroup": "chromain  histone acetylation",
         "marker": {
          "color": "#FF6692",
          "symbol": "circle"
         },
         "mode": "markers",
         "name": "chromain  histone acetylation",
         "showlegend": true,
         "type": "scatter",
         "x": [
          0.3109974004804897,
          -0.03283972995676917,
          0.17007907590403465,
          0.09649263092283246,
          -0.15601086925489385,
          0.048890700452150035,
          -0.2708395938546925,
          0.41672158622272987,
          -0.01021293219575655,
          0.4146026556382104,
          0.3616783012065089,
          0.10693678817307424,
          0.08257910907424719,
          -0.2177284977328936,
          0.020987226897190243,
          0.02918326706921468,
          -0.021980159014102787,
          -0.2857792905638569,
          -0.051379945300027235,
          -0.2071119551121688,
          0.06152100006686927
         ],
         "xaxis": "x",
         "y": [
          0.8781726150411341,
          0.0498045977970342,
          0.5192527668856798,
          0.2231683473464945,
          0.4757508531438108,
          0.10806722601004662,
          0.966977211679134,
          1.3915238351526762,
          0.0268017319183976,
          1.381724900737381,
          1.4402470490428143,
          0.2630177035524013,
          0.2375183020839586,
          0.6000189289684359,
          0.05584478885531684,
          0.06606408960323769,
          0.058561370547491484,
          0.8424268550047961,
          0.14210992406022135,
          0.2871793592060117,
          0.07811075127988851
         ],
         "yaxis": "y"
        },
        {
         "customdata": [
          [
           "TP53",
           1013,
           "ABL signaling"
          ],
          [
           "BRAF",
           1013,
           "ABL signaling"
          ],
          [
           "PIK3CA",
           1013,
           "ABL signaling"
          ],
          [
           "TP53",
           1019,
           "ABL signaling"
          ],
          [
           "BRAF",
           1019,
           "ABL signaling"
          ],
          [
           "PIK3CA",
           1019,
           "ABL signaling"
          ],
          [
           "PIK3CA",
           1142,
           "ABL signaling"
          ],
          [
           "TP53",
           155,
           "ABL signaling"
          ],
          [
           "PIK3CA",
           155,
           "ABL signaling"
          ],
          [
           "TP53",
           34,
           "ABL signaling"
          ],
          [
           "PIK3CA",
           34,
           "ABL signaling"
          ],
          [
           "TP53",
           38,
           "ABL signaling"
          ],
          [
           "PIK3CA",
           38,
           "ABL signaling"
          ],
          [
           "PIK3CA",
           51,
           "ABL signaling"
          ],
          [
           "PIK3CA",
           52,
           "ABL signaling"
          ],
          [
           "PIK3CA",
           56,
           "ABL signaling"
          ]
         ],
         "hoverlabel": {
          "namelength": 0
         },
         "hovertemplate": "Drug_Targeted_process_or_pathway=%{customdata[2]}<br>SE=%{x}<br>-logP=%{y}<br>F1=%{customdata[0]}<br>F2=%{customdata[1]}",
         "legendgroup": "ABL signaling",
         "marker": {
          "color": "#B6E880",
          "symbol": "circle"
         },
         "mode": "markers",
         "name": "ABL signaling",
         "showlegend": true,
         "type": "scatter",
         "x": [
          0.33988173156329604,
          -0.24373141994259745,
          0.4833862916669237,
          0.1201919801851552,
          -0.2254551289213639,
          0.07927978473924559,
          0.02163273456783392,
          0.40131446881145455,
          0.2770893732786763,
          1.5201581463981857,
          1.0131077114803857,
          0.6931151492925605,
          0.6059213284367199,
          0.17624153394714392,
          0.3717916510111928,
          0.5143889198164415
         ],
         "xaxis": "x",
         "y": [
          0.9090884130388078,
          0.4248381752343169,
          1.8816503258182289,
          0.2826102121919244,
          0.3924234911570115,
          0.2175078415997308,
          0.041546580517059783,
          1.2409388533821315,
          0.970192837232804,
          5.010132734769189,
          2.304051538620369,
          1.28848251713315,
          1.068110862539814,
          0.22638286568053656,
          0.5346580993555407,
          0.8037760416978683
         ],
         "yaxis": "y"
        },
        {
         "customdata": [
          [
           "TP53",
           1014,
           "ERK MAPK signaling"
          ],
          [
           "BRAF",
           1014,
           "ERK MAPK signaling"
          ],
          [
           "PIK3CA",
           1014,
           "ERK MAPK signaling"
          ],
          [
           "TP53",
           1015,
           "ERK MAPK signaling"
          ],
          [
           "BRAF",
           1015,
           "ERK MAPK signaling"
          ],
          [
           "PIK3CA",
           1015,
           "ERK MAPK signaling"
          ],
          [
           "TP53",
           1036,
           "ERK MAPK signaling"
          ],
          [
           "BRAF",
           1036,
           "ERK MAPK signaling"
          ],
          [
           "PIK3CA",
           1036,
           "ERK MAPK signaling"
          ],
          [
           "TP53",
           1039,
           "ERK MAPK signaling"
          ],
          [
           "BRAF",
           1039,
           "ERK MAPK signaling"
          ],
          [
           "PIK3CA",
           1039,
           "ERK MAPK signaling"
          ],
          [
           "TP53",
           1060,
           "ERK MAPK signaling"
          ],
          [
           "BRAF",
           1060,
           "ERK MAPK signaling"
          ],
          [
           "PIK3CA",
           1060,
           "ERK MAPK signaling"
          ],
          [
           "TP53",
           1061,
           "ERK MAPK signaling"
          ],
          [
           "BRAF",
           1061,
           "ERK MAPK signaling"
          ],
          [
           "PIK3CA",
           1061,
           "ERK MAPK signaling"
          ],
          [
           "TP53",
           1062,
           "ERK MAPK signaling"
          ],
          [
           "BRAF",
           1062,
           "ERK MAPK signaling"
          ],
          [
           "PIK3CA",
           1062,
           "ERK MAPK signaling"
          ],
          [
           "TP53",
           1371,
           "ERK MAPK signaling"
          ],
          [
           "BRAF",
           1371,
           "ERK MAPK signaling"
          ],
          [
           "PIK3CA",
           1371,
           "ERK MAPK signaling"
          ],
          [
           "TP53",
           1372,
           "ERK MAPK signaling"
          ],
          [
           "BRAF",
           1372,
           "ERK MAPK signaling"
          ],
          [
           "PIK3CA",
           1372,
           "ERK MAPK signaling"
          ],
          [
           "TP53",
           1373,
           "ERK MAPK signaling"
          ],
          [
           "BRAF",
           1373,
           "ERK MAPK signaling"
          ],
          [
           "PIK3CA",
           1373,
           "ERK MAPK signaling"
          ],
          [
           "TP53",
           1498,
           "ERK MAPK signaling"
          ],
          [
           "BRAF",
           1498,
           "ERK MAPK signaling"
          ],
          [
           "PIK3CA",
           1498,
           "ERK MAPK signaling"
          ],
          [
           "TP53",
           1526,
           "ERK MAPK signaling"
          ],
          [
           "PIK3CA",
           1526,
           "ERK MAPK signaling"
          ],
          [
           "TP53",
           159,
           "ERK MAPK signaling"
          ],
          [
           "PIK3CA",
           159,
           "ERK MAPK signaling"
          ],
          [
           "TP53",
           211,
           "ERK MAPK signaling"
          ],
          [
           "PIK3CA",
           211,
           "ERK MAPK signaling"
          ],
          [
           "TP53",
           231,
           "ERK MAPK signaling"
          ],
          [
           "PIK3CA",
           231,
           "ERK MAPK signaling"
          ],
          [
           "TP53",
           262,
           "ERK MAPK signaling"
          ],
          [
           "PIK3CA",
           262,
           "ERK MAPK signaling"
          ],
          [
           "TP53",
           263,
           "ERK MAPK signaling"
          ],
          [
           "PIK3CA",
           263,
           "ERK MAPK signaling"
          ],
          [
           "TP53",
           29,
           "ERK MAPK signaling"
          ],
          [
           "PIK3CA",
           29,
           "ERK MAPK signaling"
          ],
          [
           "PIK3CA",
           64,
           "ERK MAPK signaling"
          ]
         ],
         "hoverlabel": {
          "namelength": 0
         },
         "hovertemplate": "Drug_Targeted_process_or_pathway=%{customdata[2]}<br>SE=%{x}<br>-logP=%{y}<br>F1=%{customdata[0]}<br>F2=%{customdata[1]}",
         "legendgroup": "ERK MAPK signaling",
         "marker": {
          "color": "#FF97FF",
          "symbol": "circle"
         },
         "mode": "markers",
         "name": "ERK MAPK signaling",
         "showlegend": true,
         "type": "scatter",
         "x": [
          -0.13757128435055285,
          -0.6948969941125357,
          0.4560853436431832,
          0.3915269153117749,
          -0.8858515305708566,
          0.3373621196792346,
          0.7336673456325035,
          -0.8043440126552232,
          -0.02159150967642997,
          0.2883284880695083,
          0.3097184198972085,
          -0.21976841715553586,
          0.02919449018670003,
          -0.7294113590167515,
          0.5842705101126385,
          0.5360776741161664,
          -0.9062336924633724,
          0.0911385870805718,
          -0.24294576952016575,
          -0.06957230983508443,
          0.0429825786501618,
          0.3878516313579289,
          -0.904594347442828,
          0.2157747834726668,
          -0.012158310133068577,
          -0.6665681454714281,
          0.31783015941868525,
          0.8328633809129042,
          -1.2149809374606295,
          0.03152259626051896,
          0.14119742694865225,
          -0.6513579280925361,
          0.3644084918696247,
          0.2579701952358781,
          0.4258619307762863,
          -0.004070019884753889,
          0.2862543852776462,
          0.3664389725842435,
          -0.21665207728698305,
          0.2764568980686249,
          0.012366502678815948,
          0.4864548349455161,
          0.21257793624376006,
          0.3264267468789649,
          0.3250060103491939,
          0.8766370342623628,
          0.6928508547306641,
          0.6647505190930162
         ],
         "xaxis": "x",
         "y": [
          0.3104200723791245,
          1.6383815280830163,
          1.8235456314623903,
          1.1899181874450646,
          2.35607140084786,
          1.2405010504706908,
          2.7570725715893487,
          2.0280418272078133,
          0.05363129612419455,
          0.7470088916891474,
          0.5688650919116308,
          0.6854754464050734,
          0.05936894774871836,
          1.7568156463067428,
          2.650984406047576,
          1.7100277699714823,
          2.423576323691069,
          0.2394748903985723,
          0.6017383111911855,
          0.10774713713268146,
          0.10685910822886946,
          1.1848283735801437,
          2.4424697798281945,
          0.7051158918313086,
          0.025706080336789297,
          1.5544057387464023,
          1.1543347816839198,
          3.691963480360876,
          3.9187465642667454,
          0.08217127325334278,
          0.3402685863433288,
          1.5045783775330324,
          1.3915369311199564,
          0.6554637177732044,
          1.719129308477169,
          0.008560419726659118,
          1.0125156116201541,
          1.1672735609644929,
          0.7324465803485211,
          0.8075484483570592,
          0.032543485549924964,
          1.7317032498777822,
          0.7152609156021102,
          1.0008890918436268,
          1.24297094401909,
          1.8263927424920439,
          1.2877827838406009,
          1.135437600088685
         ],
         "yaxis": "y"
        },
        {
         "customdata": [
          [
           "TP53",
           1016,
           "TOR signaling"
          ],
          [
           "BRAF",
           1016,
           "TOR signaling"
          ],
          [
           "PIK3CA",
           1016,
           "TOR signaling"
          ],
          [
           "TP53",
           1059,
           "TOR signaling"
          ],
          [
           "BRAF",
           1059,
           "TOR signaling"
          ],
          [
           "PIK3CA",
           1059,
           "TOR signaling"
          ],
          [
           "TP53",
           1129,
           "TOR signaling"
          ],
          [
           "BRAF",
           1129,
           "TOR signaling"
          ],
          [
           "PIK3CA",
           1129,
           "TOR signaling"
          ],
          [
           "PIK3CA",
           1166,
           "TOR signaling"
          ],
          [
           "TP53",
           299,
           "TOR signaling"
          ],
          [
           "PIK3CA",
           299,
           "TOR signaling"
          ],
          [
           "TP53",
           3,
           "TOR signaling"
          ],
          [
           "PIK3CA",
           3,
           "TOR signaling"
          ],
          [
           "PIK3CA",
           83,
           "TOR signaling"
          ]
         ],
         "hoverlabel": {
          "namelength": 0
         },
         "hovertemplate": "Drug_Targeted_process_or_pathway=%{customdata[2]}<br>SE=%{x}<br>-logP=%{y}<br>F1=%{customdata[0]}<br>F2=%{customdata[1]}",
         "legendgroup": "TOR signaling",
         "marker": {
          "color": "#FECB52",
          "symbol": "circle"
         },
         "mode": "markers",
         "name": "TOR signaling",
         "showlegend": true,
         "type": "scatter",
         "x": [
          -0.08757790226834017,
          0.2955691013527655,
          -0.07738756300953208,
          0.37304890526153495,
          0.7126175226726176,
          -0.1896812393100995,
          0.6882866843017489,
          0.17647892856231642,
          -0.3171947402882332,
          -0.7111796158213498,
          0.15563791343646682,
          -0.2793191940973186,
          0.4854231381775856,
          -0.0603566788979512,
          0.5020362209517462
         ],
         "xaxis": "x",
         "y": [
          0.199312534347044,
          0.5399719153639282,
          0.21183408507064236,
          1.04134355686958,
          1.6986864295269593,
          0.5722373698117219,
          2.4952393460087015,
          0.2956016784513591,
          1.0990162045341971,
          2.484316771180796,
          0.4011821038698731,
          0.9879479184807672,
          0.7956329377424388,
          0.07657821098053158,
          0.7788177188135955
         ],
         "yaxis": "y"
        },
        {
         "customdata": [
          [
           "TP53",
           1017,
           "Genome integrity"
          ],
          [
           "BRAF",
           1017,
           "Genome integrity"
          ],
          [
           "PIK3CA",
           1017,
           "Genome integrity"
          ],
          [
           "TP53",
           1018,
           "Genome integrity"
          ],
          [
           "BRAF",
           1018,
           "Genome integrity"
          ],
          [
           "PIK3CA",
           1018,
           "Genome integrity"
          ],
          [
           "TP53",
           1022,
           "Genome integrity"
          ],
          [
           "BRAF",
           1022,
           "Genome integrity"
          ],
          [
           "PIK3CA",
           1022,
           "Genome integrity"
          ],
          [
           "TP53",
           1030,
           "Genome integrity"
          ],
          [
           "BRAF",
           1030,
           "Genome integrity"
          ],
          [
           "PIK3CA",
           1030,
           "Genome integrity"
          ],
          [
           "TP53",
           1038,
           "Genome integrity"
          ],
          [
           "BRAF",
           1038,
           "Genome integrity"
          ],
          [
           "PIK3CA",
           1038,
           "Genome integrity"
          ],
          [
           "TP53",
           1175,
           "Genome integrity"
          ],
          [
           "BRAF",
           1175,
           "Genome integrity"
          ],
          [
           "PIK3CA",
           1175,
           "Genome integrity"
          ],
          [
           "TP53",
           1259,
           "Genome integrity"
          ],
          [
           "BRAF",
           1259,
           "Genome integrity"
          ],
          [
           "PIK3CA",
           1259,
           "Genome integrity"
          ],
          [
           "TP53",
           1495,
           "Genome integrity"
          ],
          [
           "BRAF",
           1495,
           "Genome integrity"
          ],
          [
           "PIK3CA",
           1495,
           "Genome integrity"
          ],
          [
           "TP53",
           152,
           "Genome integrity"
          ],
          [
           "PIK3CA",
           152,
           "Genome integrity"
          ]
         ],
         "hoverlabel": {
          "namelength": 0
         },
         "hovertemplate": "Drug_Targeted_process_or_pathway=%{customdata[2]}<br>SE=%{x}<br>-logP=%{y}<br>F1=%{customdata[0]}<br>F2=%{customdata[1]}",
         "legendgroup": "Genome integrity",
         "marker": {
          "color": "#636efa",
          "symbol": "circle"
         },
         "mode": "markers",
         "name": "Genome integrity",
         "showlegend": true,
         "type": "scatter",
         "x": [
          0.4971445793554566,
          0.018596610972321133,
          -0.08478784873503731,
          0.3727864808626999,
          0.027262459267936856,
          0.16086792456775093,
          -0.2655415592017245,
          0.5332208266756888,
          0.5310504243729424,
          0.236123231714484,
          0.6121137259226166,
          0.41234659817648095,
          0.27708611049383963,
          0.5016905048778041,
          0.3027558805182448,
          0.3459078778258412,
          -0.09291286526018884,
          -0.17192589580940304,
          0.1737264170955257,
          0.27716190290982623,
          -0.0971684007275006,
          -0.10685414044745913,
          0.3613419096219465,
          -0.1236289732459075,
          0.06847601414258131,
          -0.21492866822839268
         ],
         "xaxis": "x",
         "y": [
          1.6589255940962508,
          0.027909758764933214,
          0.2341620926772423,
          1.113946231552215,
          0.041177142123152,
          0.4859317951375473,
          0.7186579768347908,
          1.1403713772140631,
          2.3862422664884955,
          0.5836479458297759,
          1.3703729255621038,
          1.5771776448996369,
          0.7106981138148192,
          1.0466073139083327,
          1.033041645532356,
          0.9429985536266614,
          0.1466407866212367,
          0.508468048125255,
          0.4338680019233165,
          0.501932877558024,
          0.2762821231230284,
          0.24884745213140155,
          0.6916316387683646,
          0.36026043170443217,
          0.16170311697140988,
          0.7251596935832548
         ],
         "yaxis": "y"
        },
        {
         "customdata": [
          [
           "TP53",
           1021,
           "RTK signaling"
          ],
          [
           "BRAF",
           1021,
           "RTK signaling"
          ],
          [
           "PIK3CA",
           1021,
           "RTK signaling"
          ],
          [
           "TP53",
           1023,
           "RTK signaling"
          ],
          [
           "BRAF",
           1023,
           "RTK signaling"
          ],
          [
           "PIK3CA",
           1023,
           "RTK signaling"
          ],
          [
           "TP53",
           1024,
           "RTK signaling"
          ],
          [
           "BRAF",
           1024,
           "RTK signaling"
          ],
          [
           "PIK3CA",
           1024,
           "RTK signaling"
          ],
          [
           "TP53",
           1029,
           "RTK signaling"
          ],
          [
           "BRAF",
           1029,
           "RTK signaling"
          ],
          [
           "PIK3CA",
           1029,
           "RTK signaling"
          ],
          [
           "TP53",
           1049,
           "RTK signaling"
          ],
          [
           "BRAF",
           1049,
           "RTK signaling"
          ],
          [
           "PIK3CA",
           1049,
           "RTK signaling"
          ],
          [
           "TP53",
           153,
           "RTK signaling"
          ],
          [
           "PIK3CA",
           153,
           "RTK signaling"
          ],
          [
           "TP53",
           193,
           "RTK signaling"
          ],
          [
           "PIK3CA",
           193,
           "RTK signaling"
          ],
          [
           "TP53",
           199,
           "RTK signaling"
          ],
          [
           "PIK3CA",
           199,
           "RTK signaling"
          ],
          [
           "TP53",
           249,
           "RTK signaling"
          ],
          [
           "PIK3CA",
           249,
           "RTK signaling"
          ],
          [
           "TP53",
           253,
           "RTK signaling"
          ],
          [
           "PIK3CA",
           253,
           "RTK signaling"
          ],
          [
           "TP53",
           254,
           "RTK signaling"
          ],
          [
           "PIK3CA",
           254,
           "RTK signaling"
          ],
          [
           "TP53",
           277,
           "RTK signaling"
          ],
          [
           "PIK3CA",
           277,
           "RTK signaling"
          ],
          [
           "TP53",
           281,
           "RTK signaling"
          ],
          [
           "PIK3CA",
           281,
           "RTK signaling"
          ],
          [
           "TP53",
           292,
           "RTK signaling"
          ],
          [
           "PIK3CA",
           292,
           "RTK signaling"
          ],
          [
           "TP53",
           293,
           "RTK signaling"
          ],
          [
           "PIK3CA",
           293,
           "RTK signaling"
          ],
          [
           "TP53",
           295,
           "RTK signaling"
          ],
          [
           "PIK3CA",
           295,
           "RTK signaling"
          ],
          [
           "TP53",
           298,
           "RTK signaling"
          ],
          [
           "PIK3CA",
           298,
           "RTK signaling"
          ],
          [
           "TP53",
           30,
           "RTK signaling"
          ],
          [
           "PIK3CA",
           30,
           "RTK signaling"
          ],
          [
           "TP53",
           304,
           "RTK signaling"
          ],
          [
           "PIK3CA",
           304,
           "RTK signaling"
          ],
          [
           "TP53",
           308,
           "RTK signaling"
          ],
          [
           "PIK3CA",
           308,
           "RTK signaling"
          ],
          [
           "TP53",
           312,
           "RTK signaling"
          ],
          [
           "PIK3CA",
           312,
           "RTK signaling"
          ],
          [
           "TP53",
           329,
           "RTK signaling"
          ],
          [
           "PIK3CA",
           329,
           "RTK signaling"
          ],
          [
           "TP53",
           35,
           "RTK signaling"
          ],
          [
           "PIK3CA",
           35,
           "RTK signaling"
          ],
          [
           "TP53",
           37,
           "RTK signaling"
          ],
          [
           "PIK3CA",
           37,
           "RTK signaling"
          ],
          [
           "PIK3CA",
           5,
           "RTK signaling"
          ],
          [
           "TP53",
           6,
           "RTK signaling"
          ],
          [
           "PIK3CA",
           6,
           "RTK signaling"
          ]
         ],
         "hoverlabel": {
          "namelength": 0
         },
         "hovertemplate": "Drug_Targeted_process_or_pathway=%{customdata[2]}<br>SE=%{x}<br>-logP=%{y}<br>F1=%{customdata[0]}<br>F2=%{customdata[1]}",
         "legendgroup": "RTK signaling",
         "marker": {
          "color": "#EF553B",
          "symbol": "circle"
         },
         "mode": "markers",
         "name": "RTK signaling",
         "showlegend": true,
         "type": "scatter",
         "x": [
          -0.16799099432903405,
          0.33964760658015786,
          0.2401341185299336,
          -0.0235811726478509,
          0.3485507996910047,
          0.26241808966223945,
          -0.06912434674801994,
          0.030322892501715895,
          0.15504605998669346,
          0.16847362548565956,
          0.3670554655664179,
          0.4918814892099061,
          -0.0022409013905336887,
          0.3831893228125297,
          -0.0572042239659886,
          0.2913667479554541,
          0.11499146296986885,
          0.18784419932421512,
          0.1466071268601812,
          -0.10940500165914437,
          -0.2647031130136361,
          -0.24791142695751975,
          0.021614571853437004,
          0.6215721717929981,
          -0.0271211874042366,
          0.2986761903986138,
          0.1714228368203831,
          0.7199757165530255,
          -0.02554737186311944,
          -0.4140814019192233,
          0.3749728632252376,
          0.3160325960441476,
          0.023280114599846188,
          0.5562900559810467,
          -0.41405576974087627,
          0.26984670916505715,
          0.18702491305367813,
          0.4253159504856191,
          -0.23812201584821424,
          0.5709576902286203,
          0.4232749329101763,
          -0.18417750064245525,
          -0.3966586317539437,
          -0.4238948586420177,
          0.2211721067965924,
          0.43272036216744814,
          0.32244726663308626,
          0.3145011999402654,
          0.07215816934558031,
          0.5966112181954762,
          0.755145531607577,
          0.43227331146124,
          0.29105488177083344,
          0.8068557545309262,
          1.187166361699289,
          0.5610406450561112
         ],
         "xaxis": "x",
         "y": [
          0.4140517050826173,
          0.6393716096483371,
          0.793815879577273,
          0.050278587632911785,
          0.6600864702485278,
          0.8892524367737218,
          0.1544095806844952,
          0.045902691184960064,
          0.4651952945992158,
          0.3913061222144649,
          0.700768713951488,
          2.038362424987998,
          0.004437911101997071,
          0.7395021817446492,
          0.1482402267578977,
          0.8144546070453155,
          0.33403246658091224,
          0.5003656280438715,
          0.4452317700482439,
          0.2572078917928667,
          0.9385129224757732,
          0.7040754363712015,
          0.05756036406451767,
          2.4833709239379598,
          0.07120511640598706,
          0.8879495498243762,
          0.536031947542932,
          3.129735804975561,
          0.06694097924266408,
          1.3734439016023858,
          1.4722211763938617,
          0.9554372705684232,
          0.060826905287078,
          2.098901503396221,
          1.6945129287927108,
          0.7831433590286923,
          0.6106481165004102,
          1.425468378770636,
          0.8041044140301985,
          0.9853852022011976,
          0.6683228800515372,
          0.4906423556900125,
          1.6406437936684093,
          1.4249278975755295,
          0.7516778921630423,
          1.4602354849825907,
          1.1960923028325705,
          0.9494060760244578,
          0.2003266408952676,
          1.0457784218999495,
          1.4583726356334918,
          0.6862306858306952,
          0.42447793221761615,
          1.5024296935506842,
          3.035774100786577,
          0.962480814272858
         ],
         "yaxis": "y"
        },
        {
         "customdata": [
          [
           "TP53",
           1025,
           "WNT signaling"
          ],
          [
           "BRAF",
           1025,
           "WNT signaling"
          ],
          [
           "PIK3CA",
           1025,
           "WNT signaling"
          ],
          [
           "TP53",
           1241,
           "WNT signaling"
          ],
          [
           "BRAF",
           1241,
           "WNT signaling"
          ],
          [
           "PIK3CA",
           1241,
           "WNT signaling"
          ],
          [
           "TP53",
           1268,
           "WNT signaling"
          ],
          [
           "BRAF",
           1268,
           "WNT signaling"
          ],
          [
           "PIK3CA",
           1268,
           "WNT signaling"
          ],
          [
           "TP53",
           154,
           "WNT signaling"
          ],
          [
           "PIK3CA",
           154,
           "WNT signaling"
          ]
         ],
         "hoverlabel": {
          "namelength": 0
         },
         "hovertemplate": "Drug_Targeted_process_or_pathway=%{customdata[2]}<br>SE=%{x}<br>-logP=%{y}<br>F1=%{customdata[0]}<br>F2=%{customdata[1]}",
         "legendgroup": "WNT signaling",
         "marker": {
          "color": "#00cc96",
          "symbol": "circle"
         },
         "mode": "markers",
         "name": "WNT signaling",
         "showlegend": true,
         "type": "scatter",
         "x": [
          0.9323290221452072,
          -1.0420822853966736,
          0.09731930089366952,
          -0.06837084065218475,
          0.1973200774530231,
          0.2260796105653309,
          -0.3904751572112895,
          0.5555932673536811,
          -0.1826257342142446,
          0.041203802371923115,
          0.3233071287416291
         ],
         "xaxis": "x",
         "y": [
          4.314417073107663,
          2.9976297208021263,
          0.2583984492186282,
          0.1531563564108923,
          0.33740401314162,
          0.7417249810619162,
          1.1956753434183292,
          1.2103603116070818,
          0.5744662420809641,
          0.09007004527233149,
          1.1910289198977964
         ],
         "yaxis": "y"
        },
        {
         "customdata": [
          [
           "TP53",
           1028,
           "JNK and p38 signaling"
          ],
          [
           "BRAF",
           1028,
           "JNK and p38 signaling"
          ],
          [
           "PIK3CA",
           1028,
           "JNK and p38 signaling"
          ],
          [
           "TP53",
           1042,
           "JNK and p38 signaling"
          ],
          [
           "BRAF",
           1042,
           "JNK and p38 signaling"
          ],
          [
           "PIK3CA",
           1042,
           "JNK and p38 signaling"
          ],
          [
           "TP53",
           1043,
           "JNK and p38 signaling"
          ],
          [
           "BRAF",
           1043,
           "JNK and p38 signaling"
          ],
          [
           "PIK3CA",
           1043,
           "JNK and p38 signaling"
          ],
          [
           "TP53",
           157,
           "JNK and p38 signaling"
          ],
          [
           "PIK3CA",
           157,
           "JNK and p38 signaling"
          ],
          [
           "TP53",
           207,
           "JNK and p38 signaling"
          ],
          [
           "PIK3CA",
           207,
           "JNK and p38 signaling"
          ],
          [
           "TP53",
           221,
           "JNK and p38 signaling"
          ],
          [
           "PIK3CA",
           221,
           "JNK and p38 signaling"
          ]
         ],
         "hoverlabel": {
          "namelength": 0
         },
         "hovertemplate": "Drug_Targeted_process_or_pathway=%{customdata[2]}<br>SE=%{x}<br>-logP=%{y}<br>F1=%{customdata[0]}<br>F2=%{customdata[1]}",
         "legendgroup": "JNK and p38 signaling",
         "marker": {
          "color": "#ab63fa",
          "symbol": "circle"
         },
         "mode": "markers",
         "name": "JNK and p38 signaling",
         "showlegend": true,
         "type": "scatter",
         "x": [
          0.6079401137069731,
          -0.2441120958817401,
          0.2815768604368734,
          -0.19973748077833944,
          0.09415431559159858,
          0.28735909562232115,
          0.3822540836774589,
          0.2416518028681908,
          0.2428146509348435,
          0.2921817150446868,
          0.04805433417664876,
          0.006744785204433652,
          0.1679375701700755,
          0.26535327567725553,
          -0.3432324577357656
         ],
         "xaxis": "x",
         "y": [
          2.2304758159860336,
          0.4304428476634764,
          0.974544952907699,
          0.47754559267998203,
          0.1487329400533628,
          0.9645258290782092,
          1.0755873569082062,
          0.4236031789510992,
          0.7767219069065456,
          0.8173562588994373,
          0.1286893314857678,
          0.014269611912263678,
          0.5321202234808148,
          0.7667069884538356,
          1.3394074072287276
         ],
         "yaxis": "y"
        },
        {
         "customdata": [
          [
           "TP53",
           1046,
           "cell cycle"
          ],
          [
           "BRAF",
           1046,
           "cell cycle"
          ],
          [
           "PIK3CA",
           1046,
           "cell cycle"
          ],
          [
           "TP53",
           1052,
           "cell cycle"
          ],
          [
           "BRAF",
           1052,
           "cell cycle"
          ],
          [
           "PIK3CA",
           1052,
           "cell cycle"
          ],
          [
           "TP53",
           1054,
           "cell cycle"
          ],
          [
           "BRAF",
           1054,
           "cell cycle"
          ],
          [
           "PIK3CA",
           1054,
           "cell cycle"
          ],
          [
           "PIK3CA",
           110,
           "cell cycle"
          ],
          [
           "TP53",
           219,
           "cell cycle"
          ],
          [
           "PIK3CA",
           219,
           "cell cycle"
          ],
          [
           "TP53",
           301,
           "cell cycle"
          ],
          [
           "PIK3CA",
           301,
           "cell cycle"
          ],
          [
           "TP53",
           344,
           "cell cycle"
          ],
          [
           "PIK3CA",
           344,
           "cell cycle"
          ],
          [
           "TP53",
           345,
           "cell cycle"
          ],
          [
           "PIK3CA",
           345,
           "cell cycle"
          ],
          [
           "TP53",
           346,
           "cell cycle"
          ],
          [
           "PIK3CA",
           346,
           "cell cycle"
          ],
          [
           "PIK3CA",
           53,
           "cell cycle"
          ],
          [
           "PIK3CA",
           54,
           "cell cycle"
          ]
         ],
         "hoverlabel": {
          "namelength": 0
         },
         "hovertemplate": "Drug_Targeted_process_or_pathway=%{customdata[2]}<br>SE=%{x}<br>-logP=%{y}<br>F1=%{customdata[0]}<br>F2=%{customdata[1]}",
         "legendgroup": "cell cycle",
         "marker": {
          "color": "#FFA15A",
          "symbol": "circle"
         },
         "mode": "markers",
         "name": "cell cycle",
         "showlegend": true,
         "type": "scatter",
         "x": [
          0.0433944894895263,
          0.23434508326568776,
          0.0797241802394248,
          0.09599136396314983,
          0.5041355355217452,
          0.28923867094106004,
          0.0565473834313777,
          0.4940181614783978,
          -0.327599775589658,
          0.6116235933184893,
          -0.4773893218284554,
          0.1796491486226521,
          -0.20987521991740266,
          0.2435773755440515,
          -0.5327176907131195,
          -0.009719546445641436,
          0.12637745657410182,
          0.310755289676477,
          -0.8473507672029894,
          0.4249409495450705,
          1.0486771244404585,
          0.4051836390990455
         ],
         "xaxis": "x",
         "y": [
          0.08683793402883516,
          0.4012639665245947,
          0.19295133840202786,
          0.20822436596225274,
          1.0533743164932512,
          0.9727893318206764,
          0.11766552607352875,
          1.0230208202057471,
          1.112261659426919,
          1.0496180331102538,
          1.6855025573718243,
          0.5814585363744563,
          0.5716119224319882,
          0.8276291338268948,
          1.9769696675315376,
          0.025490727248182018,
          0.3172178244143375,
          1.1697526413912178,
          4.114946521775595,
          1.81167910002297,
          2.2796536402626644,
          0.594071207132379
         ],
         "yaxis": "y"
        },
        {
         "customdata": [
          [
           "TP53",
           1047,
           "p53 pathway"
          ],
          [
           "BRAF",
           1047,
           "p53 pathway"
          ],
          [
           "PIK3CA",
           1047,
           "p53 pathway"
          ],
          [
           "TP53",
           1133,
           "p53 pathway"
          ],
          [
           "BRAF",
           1133,
           "p53 pathway"
          ],
          [
           "PIK3CA",
           1133,
           "p53 pathway"
          ],
          [
           "TP53",
           269,
           "p53 pathway"
          ],
          [
           "PIK3CA",
           269,
           "p53 pathway"
          ]
         ],
         "hoverlabel": {
          "namelength": 0
         },
         "hovertemplate": "Drug_Targeted_process_or_pathway=%{customdata[2]}<br>SE=%{x}<br>-logP=%{y}<br>F1=%{customdata[0]}<br>F2=%{customdata[1]}",
         "legendgroup": "p53 pathway",
         "marker": {
          "color": "#19d3f3",
          "symbol": "circle"
         },
         "mode": "markers",
         "name": "p53 pathway",
         "showlegend": true,
         "type": "scatter",
         "x": [
          0.95333122914582,
          -0.2633999866650979,
          -0.364071149657636,
          -0.5025251221289989,
          0.20250276188860503,
          0.14510725249201106,
          0.002395164691752365,
          0.2856074912155499
         ],
         "xaxis": "x",
         "y": [
          4.246050361746564,
          0.468707445705623,
          1.324978367608629,
          1.5661265099551798,
          0.3454412724477228,
          0.4163431872246653,
          0.0052661191147106035,
          1.0451335470418794
         ],
         "yaxis": "y"
        },
        {
         "customdata": [
          [
           "TP53",
           1050,
           "mitosis"
          ],
          [
           "BRAF",
           1050,
           "mitosis"
          ],
          [
           "PIK3CA",
           1050,
           "mitosis"
          ],
          [
           "TP53",
           208,
           "mitosis"
          ],
          [
           "PIK3CA",
           208,
           "mitosis"
          ],
          [
           "TP53",
           225,
           "mitosis"
          ],
          [
           "PIK3CA",
           225,
           "mitosis"
          ],
          [
           "TP53",
           226,
           "mitosis"
          ],
          [
           "PIK3CA",
           226,
           "mitosis"
          ],
          [
           "TP53",
           257,
           "mitosis"
          ],
          [
           "PIK3CA",
           257,
           "mitosis"
          ],
          [
           "TP53",
           294,
           "mitosis"
          ],
          [
           "PIK3CA",
           294,
           "mitosis"
          ],
          [
           "PIK3CA",
           32,
           "mitosis"
          ],
          [
           "PIK3CA",
           41,
           "mitosis"
          ],
          [
           "PIK3CA",
           60,
           "mitosis"
          ],
          [
           "PIK3CA",
           87,
           "mitosis"
          ]
         ],
         "hoverlabel": {
          "namelength": 0
         },
         "hovertemplate": "Drug_Targeted_process_or_pathway=%{customdata[2]}<br>SE=%{x}<br>-logP=%{y}<br>F1=%{customdata[0]}<br>F2=%{customdata[1]}",
         "legendgroup": "mitosis",
         "marker": {
          "color": "#FF6692",
          "symbol": "circle"
         },
         "mode": "markers",
         "name": "mitosis",
         "showlegend": true,
         "type": "scatter",
         "x": [
          -0.204665115202622,
          0.5399820225703053,
          0.25501262560678817,
          -0.4693821299195195,
          -0.0057329521071175895,
          -0.19074749359023385,
          -0.04508351059213562,
          -0.5159699788962246,
          0.11284539106017545,
          -0.3018355824244713,
          0.2143435423758997,
          0.08650815546513699,
          0.3720165304949079,
          0.13875731793617224,
          0.6152854235297491,
          0.014663281042141424,
          0.17848913014866966
         ],
         "xaxis": "x",
         "y": [
          0.4829580120978965,
          1.1426182958464015,
          0.7635151275664352,
          1.6451937647176924,
          0.01495824384615691,
          0.5115474565837614,
          0.12370503820915887,
          1.8863266636927556,
          0.3369420936732012,
          0.9037716325857872,
          0.7226913968310047,
          0.20823791899066826,
          1.4982120074735144,
          0.17442145875601126,
          1.0203957861501445,
          0.01715607302803989,
          0.22956731060361255
         ],
         "yaxis": "y"
        },
        {
         "customdata": [
          [
           "TP53",
           1053,
           "PI3K signaling"
          ],
          [
           "BRAF",
           1053,
           "PI3K signaling"
          ],
          [
           "PIK3CA",
           1053,
           "PI3K signaling"
          ],
          [
           "TP53",
           1057,
           "PI3K signaling"
          ],
          [
           "BRAF",
           1057,
           "PI3K signaling"
          ],
          [
           "PIK3CA",
           1057,
           "PI3K signaling"
          ],
          [
           "TP53",
           1058,
           "PI3K signaling"
          ],
          [
           "BRAF",
           1058,
           "PI3K signaling"
          ],
          [
           "PIK3CA",
           1058,
           "PI3K signaling"
          ],
          [
           "TP53",
           1066,
           "PI3K signaling"
          ],
          [
           "PIK3CA",
           1066,
           "PI3K signaling"
          ],
          [
           "TP53",
           1527,
           "PI3K signaling"
          ],
          [
           "PIK3CA",
           1527,
           "PI3K signaling"
          ],
          [
           "TP53",
           156,
           "PI3K signaling"
          ],
          [
           "PIK3CA",
           156,
           "PI3K signaling"
          ],
          [
           "TP53",
           167,
           "PI3K signaling"
          ],
          [
           "PIK3CA",
           167,
           "PI3K signaling"
          ],
          [
           "TP53",
           171,
           "PI3K signaling"
          ],
          [
           "PIK3CA",
           171,
           "PI3K signaling"
          ],
          [
           "TP53",
           222,
           "PI3K signaling"
          ],
          [
           "PIK3CA",
           222,
           "PI3K signaling"
          ],
          [
           "TP53",
           223,
           "PI3K signaling"
          ],
          [
           "PIK3CA",
           223,
           "PI3K signaling"
          ],
          [
           "TP53",
           224,
           "PI3K signaling"
          ],
          [
           "PIK3CA",
           224,
           "PI3K signaling"
          ],
          [
           "TP53",
           228,
           "PI3K signaling"
          ],
          [
           "PIK3CA",
           228,
           "PI3K signaling"
          ],
          [
           "TP53",
           238,
           "PI3K signaling"
          ],
          [
           "PIK3CA",
           238,
           "PI3K signaling"
          ],
          [
           "TP53",
           283,
           "PI3K signaling"
          ],
          [
           "PIK3CA",
           283,
           "PI3K signaling"
          ],
          [
           "TP53",
           287,
           "PI3K signaling"
          ],
          [
           "PIK3CA",
           287,
           "PI3K signaling"
          ],
          [
           "TP53",
           302,
           "PI3K signaling"
          ],
          [
           "PIK3CA",
           302,
           "PI3K signaling"
          ],
          [
           "TP53",
           303,
           "PI3K signaling"
          ],
          [
           "PIK3CA",
           303,
           "PI3K signaling"
          ],
          [
           "TP53",
           326,
           "PI3K signaling"
          ],
          [
           "PIK3CA",
           326,
           "PI3K signaling"
          ],
          [
           "PIK3CA",
           86,
           "PI3K signaling"
          ],
          [
           "TP53",
           94,
           "PI3K signaling"
          ],
          [
           "PIK3CA",
           94,
           "PI3K signaling"
          ]
         ],
         "hoverlabel": {
          "namelength": 0
         },
         "hovertemplate": "Drug_Targeted_process_or_pathway=%{customdata[2]}<br>SE=%{x}<br>-logP=%{y}<br>F1=%{customdata[0]}<br>F2=%{customdata[1]}",
         "legendgroup": "PI3K signaling",
         "marker": {
          "color": "#B6E880",
          "symbol": "circle"
         },
         "mode": "markers",
         "name": "PI3K signaling",
         "showlegend": true,
         "type": "scatter",
         "x": [
          -0.7199085618022034,
          0.5868078001817177,
          -0.4838350016311144,
          -0.12112447624983542,
          0.6994577849651239,
          0.08371968906958396,
          -0.6611797410990978,
          0.1822887867009466,
          -0.4412901788967598,
          0.059745953788860384,
          -0.5669853862245811,
          -0.6972162036297485,
          -0.9567417532528771,
          -0.7374877370653277,
          -0.15970237208456303,
          0.3652958528361305,
          -0.32794842534341084,
          -0.4903200682800158,
          -0.4438820346861469,
          -0.2012523108804169,
          0.21033410635480893,
          -0.2058323437669054,
          -0.594819581163545,
          0.3350367920154452,
          -0.4422936294034053,
          -0.3424386725325676,
          -0.4623999242890736,
          -0.11323025546455892,
          0.1595055726214326,
          -0.17257997183276094,
          -0.5490519684351627,
          -0.18769195169997907,
          0.18717523428258706,
          -0.07272178283168834,
          0.14170626403209444,
          -0.6104670105015879,
          -0.4634528581179856,
          -0.18179115129312587,
          -0.7569435611756532,
          -0.7521584199480401,
          -0.19693412818181816,
          0.6091878482492022
         ],
         "xaxis": "x",
         "y": [
          2.663786004924821,
          1.2897054501764176,
          1.9221607288532592,
          0.2690985513840494,
          1.6538017467142114,
          0.22381243277324828,
          2.3456671279222654,
          0.30658362393587874,
          1.7382585978286371,
          0.12516254799265522,
          2.5297395549154755,
          2.5675546349014513,
          6.463545069540375,
          3.0394965623302306,
          0.4891199930870194,
          1.0975786356930473,
          1.2480963527838744,
          1.6406757192717778,
          1.85870195623025,
          0.545489579367119,
          0.7058558488485285,
          0.5604884185361253,
          3.0222943057756795,
          1.0358097623077418,
          1.9207118538500971,
          1.06621482153072,
          2.0510248096717705,
          0.2803409908731386,
          0.5039971108083469,
          0.4526297566619991,
          2.5812707570358446,
          0.5017941903582194,
          0.6112476611588354,
          0.1719084538143628,
          0.4278545841792872,
          2.4262998124121675,
          2.05796827464206,
          0.48127782822967,
          4.359075057751369,
          1.3543788782883603,
          0.2713969602739342,
          1.0759994282997711
         ],
         "yaxis": "y"
        },
        {
         "customdata": [
          [
           "TP53",
           1091,
           "IGFR signaling"
          ],
          [
           "BRAF",
           1091,
           "IGFR signaling"
          ],
          [
           "PIK3CA",
           1091,
           "IGFR signaling"
          ],
          [
           "TP53",
           184,
           "IGFR signaling"
          ],
          [
           "PIK3CA",
           184,
           "IGFR signaling"
          ],
          [
           "TP53",
           185,
           "IGFR signaling"
          ],
          [
           "PIK3CA",
           185,
           "IGFR signaling"
          ],
          [
           "TP53",
           202,
           "IGFR signaling"
          ],
          [
           "PIK3CA",
           202,
           "IGFR signaling"
          ],
          [
           "PIK3CA",
           62,
           "IGFR signaling"
          ]
         ],
         "hoverlabel": {
          "namelength": 0
         },
         "hovertemplate": "Drug_Targeted_process_or_pathway=%{customdata[2]}<br>SE=%{x}<br>-logP=%{y}<br>F1=%{customdata[0]}<br>F2=%{customdata[1]}",
         "legendgroup": "IGFR signaling",
         "marker": {
          "color": "#FF97FF",
          "symbol": "circle"
         },
         "mode": "markers",
         "name": "IGFR signaling",
         "showlegend": true,
         "type": "scatter",
         "x": [
          0.18051197060757465,
          0.2259527012216142,
          -0.037780140425609086,
          0.3483066006457061,
          -0.04105976927919272,
          0.2484676355545193,
          0.14478564949987993,
          -0.01694117300545062,
          0.08030871383306303,
          0.4420578356009118
         ],
         "xaxis": "x",
         "y": [
          0.4538169355493537,
          0.3949187183704635,
          0.0998977202997428,
          1.0303720260985587,
          0.11137097615737064,
          0.6694404288303182,
          0.4462446667411164,
          0.03622580267335816,
          0.2287916798839557,
          0.6621785907137658
         ],
         "yaxis": "y"
        },
        {
         "customdata": [
          [
           "TP53",
           1218,
           "chromatin  other"
          ],
          [
           "BRAF",
           1218,
           "chromatin  other"
          ],
          [
           "PIK3CA",
           1218,
           "chromatin  other"
          ],
          [
           "TP53",
           1219,
           "chromatin  other"
          ],
          [
           "BRAF",
           1219,
           "chromatin  other"
          ],
          [
           "PIK3CA",
           1219,
           "chromatin  other"
          ],
          [
           "TP53",
           163,
           "chromatin  other"
          ],
          [
           "PIK3CA",
           163,
           "chromatin  other"
          ],
          [
           "TP53",
           275,
           "chromatin  other"
          ],
          [
           "PIK3CA",
           275,
           "chromatin  other"
          ]
         ],
         "hoverlabel": {
          "namelength": 0
         },
         "hovertemplate": "Drug_Targeted_process_or_pathway=%{customdata[2]}<br>SE=%{x}<br>-logP=%{y}<br>F1=%{customdata[0]}<br>F2=%{customdata[1]}",
         "legendgroup": "chromatin  other",
         "marker": {
          "color": "#FECB52",
          "symbol": "circle"
         },
         "mode": "markers",
         "name": "chromatin  other",
         "showlegend": true,
         "type": "scatter",
         "x": [
          0.3623137434832931,
          -0.27321070382728746,
          0.14989865332291386,
          -0.31208968768474143,
          0.31190651270590514,
          -0.02221210373156269,
          -0.10707563723064098,
          0.4797000671504309,
          0.2513808403660158,
          0.10422034225661413
         ],
         "xaxis": "x",
         "y": [
          1.07701695852526,
          0.4925020179489183,
          0.4505323426288866,
          0.889413301563465,
          0.5784660200720646,
          0.05760640381414831,
          0.2502987046500866,
          2.0842597340211357,
          0.7163863950071082,
          0.3079065795408557
         ],
         "yaxis": "y"
        },
        {
         "customdata": [
          [
           "TP53",
           1236,
           "chromatin  histone methylation"
          ],
          [
           "BRAF",
           1236,
           "chromatin  histone methylation"
          ],
          [
           "PIK3CA",
           1236,
           "chromatin  histone methylation"
          ],
          [
           "TP53",
           1264,
           "chromatin  histone methylation"
          ],
          [
           "BRAF",
           1264,
           "chromatin  histone methylation"
          ],
          [
           "PIK3CA",
           1264,
           "chromatin  histone methylation"
          ],
          [
           "TP53",
           245,
           "chromatin  histone methylation"
          ],
          [
           "PIK3CA",
           245,
           "chromatin  histone methylation"
          ]
         ],
         "hoverlabel": {
          "namelength": 0
         },
         "hovertemplate": "Drug_Targeted_process_or_pathway=%{customdata[2]}<br>SE=%{x}<br>-logP=%{y}<br>F1=%{customdata[0]}<br>F2=%{customdata[1]}",
         "legendgroup": "chromatin  histone methylation",
         "marker": {
          "color": "#636efa",
          "symbol": "circle"
         },
         "mode": "markers",
         "name": "chromatin  histone methylation",
         "showlegend": true,
         "type": "scatter",
         "x": [
          -0.15469694854304145,
          -0.40511893506630586,
          0.2094244143322593,
          0.130597326519373,
          -0.10843070641249106,
          0.1403738623757011,
          -0.28433016179116954,
          0.2211530789460648
         ],
         "xaxis": "x",
         "y": [
          0.3791823329469789,
          0.800026869136815,
          0.6794142690872703,
          0.31143381518469365,
          0.1740453438944954,
          0.4172180751244313,
          0.8369696889719235,
          0.7515965702808363
         ],
         "yaxis": "y"
        }
       ],
       "layout": {
        "legend": {
         "title": {
          "text": "Drug_Targeted_process_or_pathway"
         },
         "tracegroupgap": 0
        },
        "margin": {
         "t": 60
        },
        "template": {
         "data": {
          "bar": [
           {
            "error_x": {
             "color": "#2a3f5f"
            },
            "error_y": {
             "color": "#2a3f5f"
            },
            "marker": {
             "line": {
              "color": "#E5ECF6",
              "width": 0.5
             }
            },
            "type": "bar"
           }
          ],
          "barpolar": [
           {
            "marker": {
             "line": {
              "color": "#E5ECF6",
              "width": 0.5
             }
            },
            "type": "barpolar"
           }
          ],
          "carpet": [
           {
            "aaxis": {
             "endlinecolor": "#2a3f5f",
             "gridcolor": "white",
             "linecolor": "white",
             "minorgridcolor": "white",
             "startlinecolor": "#2a3f5f"
            },
            "baxis": {
             "endlinecolor": "#2a3f5f",
             "gridcolor": "white",
             "linecolor": "white",
             "minorgridcolor": "white",
             "startlinecolor": "#2a3f5f"
            },
            "type": "carpet"
           }
          ],
          "choropleth": [
           {
            "colorbar": {
             "outlinewidth": 0,
             "ticks": ""
            },
            "type": "choropleth"
           }
          ],
          "contour": [
           {
            "colorbar": {
             "outlinewidth": 0,
             "ticks": ""
            },
            "colorscale": [
             [
              0,
              "#0d0887"
             ],
             [
              0.1111111111111111,
              "#46039f"
             ],
             [
              0.2222222222222222,
              "#7201a8"
             ],
             [
              0.3333333333333333,
              "#9c179e"
             ],
             [
              0.4444444444444444,
              "#bd3786"
             ],
             [
              0.5555555555555556,
              "#d8576b"
             ],
             [
              0.6666666666666666,
              "#ed7953"
             ],
             [
              0.7777777777777778,
              "#fb9f3a"
             ],
             [
              0.8888888888888888,
              "#fdca26"
             ],
             [
              1,
              "#f0f921"
             ]
            ],
            "type": "contour"
           }
          ],
          "contourcarpet": [
           {
            "colorbar": {
             "outlinewidth": 0,
             "ticks": ""
            },
            "type": "contourcarpet"
           }
          ],
          "heatmap": [
           {
            "colorbar": {
             "outlinewidth": 0,
             "ticks": ""
            },
            "colorscale": [
             [
              0,
              "#0d0887"
             ],
             [
              0.1111111111111111,
              "#46039f"
             ],
             [
              0.2222222222222222,
              "#7201a8"
             ],
             [
              0.3333333333333333,
              "#9c179e"
             ],
             [
              0.4444444444444444,
              "#bd3786"
             ],
             [
              0.5555555555555556,
              "#d8576b"
             ],
             [
              0.6666666666666666,
              "#ed7953"
             ],
             [
              0.7777777777777778,
              "#fb9f3a"
             ],
             [
              0.8888888888888888,
              "#fdca26"
             ],
             [
              1,
              "#f0f921"
             ]
            ],
            "type": "heatmap"
           }
          ],
          "heatmapgl": [
           {
            "colorbar": {
             "outlinewidth": 0,
             "ticks": ""
            },
            "colorscale": [
             [
              0,
              "#0d0887"
             ],
             [
              0.1111111111111111,
              "#46039f"
             ],
             [
              0.2222222222222222,
              "#7201a8"
             ],
             [
              0.3333333333333333,
              "#9c179e"
             ],
             [
              0.4444444444444444,
              "#bd3786"
             ],
             [
              0.5555555555555556,
              "#d8576b"
             ],
             [
              0.6666666666666666,
              "#ed7953"
             ],
             [
              0.7777777777777778,
              "#fb9f3a"
             ],
             [
              0.8888888888888888,
              "#fdca26"
             ],
             [
              1,
              "#f0f921"
             ]
            ],
            "type": "heatmapgl"
           }
          ],
          "histogram": [
           {
            "marker": {
             "colorbar": {
              "outlinewidth": 0,
              "ticks": ""
             }
            },
            "type": "histogram"
           }
          ],
          "histogram2d": [
           {
            "colorbar": {
             "outlinewidth": 0,
             "ticks": ""
            },
            "colorscale": [
             [
              0,
              "#0d0887"
             ],
             [
              0.1111111111111111,
              "#46039f"
             ],
             [
              0.2222222222222222,
              "#7201a8"
             ],
             [
              0.3333333333333333,
              "#9c179e"
             ],
             [
              0.4444444444444444,
              "#bd3786"
             ],
             [
              0.5555555555555556,
              "#d8576b"
             ],
             [
              0.6666666666666666,
              "#ed7953"
             ],
             [
              0.7777777777777778,
              "#fb9f3a"
             ],
             [
              0.8888888888888888,
              "#fdca26"
             ],
             [
              1,
              "#f0f921"
             ]
            ],
            "type": "histogram2d"
           }
          ],
          "histogram2dcontour": [
           {
            "colorbar": {
             "outlinewidth": 0,
             "ticks": ""
            },
            "colorscale": [
             [
              0,
              "#0d0887"
             ],
             [
              0.1111111111111111,
              "#46039f"
             ],
             [
              0.2222222222222222,
              "#7201a8"
             ],
             [
              0.3333333333333333,
              "#9c179e"
             ],
             [
              0.4444444444444444,
              "#bd3786"
             ],
             [
              0.5555555555555556,
              "#d8576b"
             ],
             [
              0.6666666666666666,
              "#ed7953"
             ],
             [
              0.7777777777777778,
              "#fb9f3a"
             ],
             [
              0.8888888888888888,
              "#fdca26"
             ],
             [
              1,
              "#f0f921"
             ]
            ],
            "type": "histogram2dcontour"
           }
          ],
          "mesh3d": [
           {
            "colorbar": {
             "outlinewidth": 0,
             "ticks": ""
            },
            "type": "mesh3d"
           }
          ],
          "parcoords": [
           {
            "line": {
             "colorbar": {
              "outlinewidth": 0,
              "ticks": ""
             }
            },
            "type": "parcoords"
           }
          ],
          "pie": [
           {
            "automargin": true,
            "type": "pie"
           }
          ],
          "scatter": [
           {
            "marker": {
             "colorbar": {
              "outlinewidth": 0,
              "ticks": ""
             }
            },
            "type": "scatter"
           }
          ],
          "scatter3d": [
           {
            "line": {
             "colorbar": {
              "outlinewidth": 0,
              "ticks": ""
             }
            },
            "marker": {
             "colorbar": {
              "outlinewidth": 0,
              "ticks": ""
             }
            },
            "type": "scatter3d"
           }
          ],
          "scattercarpet": [
           {
            "marker": {
             "colorbar": {
              "outlinewidth": 0,
              "ticks": ""
             }
            },
            "type": "scattercarpet"
           }
          ],
          "scattergeo": [
           {
            "marker": {
             "colorbar": {
              "outlinewidth": 0,
              "ticks": ""
             }
            },
            "type": "scattergeo"
           }
          ],
          "scattergl": [
           {
            "marker": {
             "colorbar": {
              "outlinewidth": 0,
              "ticks": ""
             }
            },
            "type": "scattergl"
           }
          ],
          "scattermapbox": [
           {
            "marker": {
             "colorbar": {
              "outlinewidth": 0,
              "ticks": ""
             }
            },
            "type": "scattermapbox"
           }
          ],
          "scatterpolar": [
           {
            "marker": {
             "colorbar": {
              "outlinewidth": 0,
              "ticks": ""
             }
            },
            "type": "scatterpolar"
           }
          ],
          "scatterpolargl": [
           {
            "marker": {
             "colorbar": {
              "outlinewidth": 0,
              "ticks": ""
             }
            },
            "type": "scatterpolargl"
           }
          ],
          "scatterternary": [
           {
            "marker": {
             "colorbar": {
              "outlinewidth": 0,
              "ticks": ""
             }
            },
            "type": "scatterternary"
           }
          ],
          "surface": [
           {
            "colorbar": {
             "outlinewidth": 0,
             "ticks": ""
            },
            "colorscale": [
             [
              0,
              "#0d0887"
             ],
             [
              0.1111111111111111,
              "#46039f"
             ],
             [
              0.2222222222222222,
              "#7201a8"
             ],
             [
              0.3333333333333333,
              "#9c179e"
             ],
             [
              0.4444444444444444,
              "#bd3786"
             ],
             [
              0.5555555555555556,
              "#d8576b"
             ],
             [
              0.6666666666666666,
              "#ed7953"
             ],
             [
              0.7777777777777778,
              "#fb9f3a"
             ],
             [
              0.8888888888888888,
              "#fdca26"
             ],
             [
              1,
              "#f0f921"
             ]
            ],
            "type": "surface"
           }
          ],
          "table": [
           {
            "cells": {
             "fill": {
              "color": "#EBF0F8"
             },
             "line": {
              "color": "white"
             }
            },
            "header": {
             "fill": {
              "color": "#C8D4E3"
             },
             "line": {
              "color": "white"
             }
            },
            "type": "table"
           }
          ]
         },
         "layout": {
          "annotationdefaults": {
           "arrowcolor": "#2a3f5f",
           "arrowhead": 0,
           "arrowwidth": 1
          },
          "coloraxis": {
           "colorbar": {
            "outlinewidth": 0,
            "ticks": ""
           }
          },
          "colorscale": {
           "diverging": [
            [
             0,
             "#8e0152"
            ],
            [
             0.1,
             "#c51b7d"
            ],
            [
             0.2,
             "#de77ae"
            ],
            [
             0.3,
             "#f1b6da"
            ],
            [
             0.4,
             "#fde0ef"
            ],
            [
             0.5,
             "#f7f7f7"
            ],
            [
             0.6,
             "#e6f5d0"
            ],
            [
             0.7,
             "#b8e186"
            ],
            [
             0.8,
             "#7fbc41"
            ],
            [
             0.9,
             "#4d9221"
            ],
            [
             1,
             "#276419"
            ]
           ],
           "sequential": [
            [
             0,
             "#0d0887"
            ],
            [
             0.1111111111111111,
             "#46039f"
            ],
            [
             0.2222222222222222,
             "#7201a8"
            ],
            [
             0.3333333333333333,
             "#9c179e"
            ],
            [
             0.4444444444444444,
             "#bd3786"
            ],
            [
             0.5555555555555556,
             "#d8576b"
            ],
            [
             0.6666666666666666,
             "#ed7953"
            ],
            [
             0.7777777777777778,
             "#fb9f3a"
            ],
            [
             0.8888888888888888,
             "#fdca26"
            ],
            [
             1,
             "#f0f921"
            ]
           ],
           "sequentialminus": [
            [
             0,
             "#0d0887"
            ],
            [
             0.1111111111111111,
             "#46039f"
            ],
            [
             0.2222222222222222,
             "#7201a8"
            ],
            [
             0.3333333333333333,
             "#9c179e"
            ],
            [
             0.4444444444444444,
             "#bd3786"
            ],
            [
             0.5555555555555556,
             "#d8576b"
            ],
            [
             0.6666666666666666,
             "#ed7953"
            ],
            [
             0.7777777777777778,
             "#fb9f3a"
            ],
            [
             0.8888888888888888,
             "#fdca26"
            ],
            [
             1,
             "#f0f921"
            ]
           ]
          },
          "colorway": [
           "#636efa",
           "#EF553B",
           "#00cc96",
           "#ab63fa",
           "#FFA15A",
           "#19d3f3",
           "#FF6692",
           "#B6E880",
           "#FF97FF",
           "#FECB52"
          ],
          "font": {
           "color": "#2a3f5f"
          },
          "geo": {
           "bgcolor": "white",
           "lakecolor": "white",
           "landcolor": "#E5ECF6",
           "showlakes": true,
           "showland": true,
           "subunitcolor": "white"
          },
          "hoverlabel": {
           "align": "left"
          },
          "hovermode": "closest",
          "mapbox": {
           "style": "light"
          },
          "paper_bgcolor": "white",
          "plot_bgcolor": "#E5ECF6",
          "polar": {
           "angularaxis": {
            "gridcolor": "white",
            "linecolor": "white",
            "ticks": ""
           },
           "bgcolor": "#E5ECF6",
           "radialaxis": {
            "gridcolor": "white",
            "linecolor": "white",
            "ticks": ""
           }
          },
          "scene": {
           "xaxis": {
            "backgroundcolor": "#E5ECF6",
            "gridcolor": "white",
            "gridwidth": 2,
            "linecolor": "white",
            "showbackground": true,
            "ticks": "",
            "zerolinecolor": "white"
           },
           "yaxis": {
            "backgroundcolor": "#E5ECF6",
            "gridcolor": "white",
            "gridwidth": 2,
            "linecolor": "white",
            "showbackground": true,
            "ticks": "",
            "zerolinecolor": "white"
           },
           "zaxis": {
            "backgroundcolor": "#E5ECF6",
            "gridcolor": "white",
            "gridwidth": 2,
            "linecolor": "white",
            "showbackground": true,
            "ticks": "",
            "zerolinecolor": "white"
           }
          },
          "shapedefaults": {
           "line": {
            "color": "#2a3f5f"
           }
          },
          "ternary": {
           "aaxis": {
            "gridcolor": "white",
            "linecolor": "white",
            "ticks": ""
           },
           "baxis": {
            "gridcolor": "white",
            "linecolor": "white",
            "ticks": ""
           },
           "bgcolor": "#E5ECF6",
           "caxis": {
            "gridcolor": "white",
            "linecolor": "white",
            "ticks": ""
           }
          },
          "title": {
           "x": 0.05
          },
          "xaxis": {
           "automargin": true,
           "gridcolor": "white",
           "linecolor": "white",
           "ticks": "",
           "title": {
            "standoff": 15
           },
           "zerolinecolor": "white",
           "zerolinewidth": 2
          },
          "yaxis": {
           "automargin": true,
           "gridcolor": "white",
           "linecolor": "white",
           "ticks": "",
           "title": {
            "standoff": 15
           },
           "zerolinecolor": "white",
           "zerolinewidth": 2
          }
         }
        },
        "xaxis": {
         "anchor": "y",
         "domain": [
          0,
          1
         ],
         "title": {
          "text": "SE"
         }
        },
        "yaxis": {
         "anchor": "x",
         "domain": [
          0,
          1
         ],
         "title": {
          "text": "-logP"
         }
        }
       }
      },
      "text/html": [
       "<div>\n",
       "        \n",
       "        \n",
       "            <div id=\"edfbfdcc-ee24-4f64-9fa6-0604f022ad1c\" class=\"plotly-graph-div\" style=\"height:525px; width:100%;\"></div>\n",
       "            <script type=\"text/javascript\">\n",
       "                require([\"plotly\"], function(Plotly) {\n",
       "                    window.PLOTLYENV=window.PLOTLYENV || {};\n",
       "                    \n",
       "                if (document.getElementById(\"edfbfdcc-ee24-4f64-9fa6-0604f022ad1c\")) {\n",
       "                    Plotly.newPlot(\n",
       "                        'edfbfdcc-ee24-4f64-9fa6-0604f022ad1c',\n",
       "                        [{\"customdata\": [[\"TP53\", 1001, \"metabolism\"], [\"BRAF\", 1001, \"metabolism\"], [\"PIK3CA\", 1001, \"metabolism\"], [\"TP53\", 1248, \"metabolism\"], [\"BRAF\", 1248, \"metabolism\"], [\"PIK3CA\", 1248, \"metabolism\"], [\"TP53\", 196, \"metabolism\"], [\"PIK3CA\", 196, \"metabolism\"]], \"hoverlabel\": {\"namelength\": 0}, \"hovertemplate\": \"Drug_Targeted_process_or_pathway=%{customdata[2]}<br>SE=%{x}<br>-logP=%{y}<br>F1=%{customdata[0]}<br>F2=%{customdata[1]}\", \"legendgroup\": \"metabolism\", \"marker\": {\"color\": \"#636efa\", \"symbol\": \"circle\"}, \"mode\": \"markers\", \"name\": \"metabolism\", \"showlegend\": true, \"type\": \"scatter\", \"x\": [0.2164671889350487, 0.1836705671367028, 0.09885130145768066, 0.5546735731126051, -0.5412897853513478, -0.034446170934199265, 0.31631280865130235, 0.03472650429845354], \"xaxis\": \"x\", \"y\": [0.5591548756653676, 0.3104695981497278, 0.27762719543379805, 1.9538528889350888, 1.1660925107477862, 0.09011701063480347, 0.9604789007453842, 0.09404047737045083], \"yaxis\": \"y\"}, {\"customdata\": [[\"TP53\", 1003, \"DNA replication\"], [\"BRAF\", 1003, \"DNA replication\"], [\"PIK3CA\", 1003, \"DNA replication\"], [\"TP53\", 1005, \"DNA replication\"], [\"BRAF\", 1005, \"DNA replication\"], [\"PIK3CA\", 1005, \"DNA replication\"], [\"TP53\", 1006, \"DNA replication\"], [\"BRAF\", 1006, \"DNA replication\"], [\"PIK3CA\", 1006, \"DNA replication\"], [\"TP53\", 1008, \"DNA replication\"], [\"BRAF\", 1008, \"DNA replication\"], [\"PIK3CA\", 1008, \"DNA replication\"], [\"TP53\", 133, \"DNA replication\"], [\"PIK3CA\", 133, \"DNA replication\"], [\"TP53\", 134, \"DNA replication\"], [\"PIK3CA\", 134, \"DNA replication\"], [\"TP53\", 135, \"DNA replication\"], [\"PIK3CA\", 135, \"DNA replication\"], [\"TP53\", 136, \"DNA replication\"], [\"PIK3CA\", 136, \"DNA replication\"], [\"TP53\", 1375, \"DNA replication\"], [\"BRAF\", 1375, \"DNA replication\"], [\"PIK3CA\", 1375, \"DNA replication\"], [\"TP53\", 1378, \"DNA replication\"], [\"BRAF\", 1378, \"DNA replication\"], [\"PIK3CA\", 1378, \"DNA replication\"], [\"TP53\", 1494, \"DNA replication\"], [\"BRAF\", 1494, \"DNA replication\"], [\"PIK3CA\", 1494, \"DNA replication\"], [\"TP53\", 179, \"DNA replication\"], [\"PIK3CA\", 179, \"DNA replication\"], [\"TP53\", 190, \"DNA replication\"], [\"PIK3CA\", 190, \"DNA replication\"], [\"TP53\", 71, \"DNA replication\"], [\"PIK3CA\", 71, \"DNA replication\"]], \"hoverlabel\": {\"namelength\": 0}, \"hovertemplate\": \"Drug_Targeted_process_or_pathway=%{customdata[2]}<br>SE=%{x}<br>-logP=%{y}<br>F1=%{customdata[0]}<br>F2=%{customdata[1]}\", \"legendgroup\": \"DNA replication\", \"marker\": {\"color\": \"#EF553B\", \"symbol\": \"circle\"}, \"mode\": \"markers\", \"name\": \"DNA replication\", \"showlegend\": true, \"type\": \"scatter\", \"x\": [0.2303200689985821, 0.23721488931129456, 0.16840761890954775, -0.38561441871278396, 0.24715375741205345, 0.3564167637637551, 0.13577959454504826, -0.32038019507329746, 0.5023153345686648, 0.2838913437485846, -0.2630463638583418, 0.30649077822134657, 0.4417547711187964, -0.1377821429253306, 0.3208110007821713, -0.3058570489423049, 0.4183692506363973, -0.16599839626427487, 0.5858697406668021, -0.3198691518102364, 0.06979143425128867, -0.18292795468502568, 0.3203607977675331, -0.0562540789913586, 0.564773118450848, -0.018542226219512372, 0.3528118547802795, 0.4178007116307277, 0.021912558337805168, 0.16585421214692614, -0.056181396468577886, 0.43137661458604, -0.013999870547482873, 0.49668017885963106, 0.9666100174314766], \"xaxis\": \"x\", \"y\": [0.6028724863027771, 0.4162839084296125, 0.5131594943757254, 1.1657206845516472, 0.43672576310683575, 1.3375342427282018, 0.32423405971283353, 0.5952798128192859, 2.1928137228181117, 0.7816635758681034, 0.4699424460402954, 1.090036808592457, 1.4219582586829602, 0.4210947379743735, 0.92169728817515, 1.1054641482391765, 1.31886599334575, 0.5247646434899808, 2.1372636178835616, 1.2065155460055226, 0.1565646408562439, 0.3096396507898379, 1.1667277713874171, 0.12528929761941945, 1.2399826313145694, 0.04816006437283607, 1.048025493109813, 0.8336192529288543, 0.05715549747149368, 0.4336401977274874, 0.1563347805789008, 1.3757782145847968, 0.03668993607310605, 0.8196199205877773, 2.1328866976840217], \"yaxis\": \"y\"}, {\"customdata\": [[\"TP53\", 1004, \"cytoskeleton\"], [\"BRAF\", 1004, \"cytoskeleton\"], [\"PIK3CA\", 1004, \"cytoskeleton\"], [\"TP53\", 1007, \"cytoskeleton\"], [\"BRAF\", 1007, \"cytoskeleton\"], [\"PIK3CA\", 1007, \"cytoskeleton\"], [\"TP53\", 1069, \"cytoskeleton\"], [\"BRAF\", 1069, \"cytoskeleton\"], [\"PIK3CA\", 1069, \"cytoskeleton\"], [\"PIK3CA\", 11, \"cytoskeleton\"], [\"TP53\", 1192, \"cytoskeleton\"], [\"BRAF\", 1192, \"cytoskeleton\"], [\"PIK3CA\", 1192, \"cytoskeleton\"], [\"TP53\", 127, \"cytoskeleton\"], [\"PIK3CA\", 127, \"cytoskeleton\"], [\"TP53\", 140, \"cytoskeleton\"], [\"PIK3CA\", 140, \"cytoskeleton\"], [\"TP53\", 158, \"cytoskeleton\"], [\"PIK3CA\", 158, \"cytoskeleton\"], [\"TP53\", 176, \"cytoskeleton\"], [\"PIK3CA\", 176, \"cytoskeleton\"], [\"TP53\", 201, \"cytoskeleton\"], [\"PIK3CA\", 201, \"cytoskeleton\"], [\"TP53\", 230, \"cytoskeleton\"], [\"PIK3CA\", 230, \"cytoskeleton\"], [\"TP53\", 309, \"cytoskeleton\"], [\"PIK3CA\", 309, \"cytoskeleton\"]], \"hoverlabel\": {\"namelength\": 0}, \"hovertemplate\": \"Drug_Targeted_process_or_pathway=%{customdata[2]}<br>SE=%{x}<br>-logP=%{y}<br>F1=%{customdata[0]}<br>F2=%{customdata[1]}\", \"legendgroup\": \"cytoskeleton\", \"marker\": {\"color\": \"#00cc96\", \"symbol\": \"circle\"}, \"mode\": \"markers\", \"name\": \"cytoskeleton\", \"showlegend\": true, \"type\": \"scatter\", \"x\": [-0.7258507100839087, 0.8441156864545071, -0.266879386558866, -0.36189787756725056, 0.5553787265646171, -0.1197894035743284, 0.6952427064408601, 0.18620833203966985, -0.6509027850859396, 0.36529283441450544, 0.14636210558260676, -0.1845558929863222, -0.12556590441293294, 0.7883954673127965, 0.26570206546498826, -0.31230131572865205, -0.018643098474157252, 0.4033836820414215, 0.04542704719431494, 0.2318556965690517, -0.7038886132114489, 0.04197457495500016, -0.1578498992363207, 0.07143419188255343, 0.3248154294048384, -0.3231980715055488, 0.49737004362194204], \"xaxis\": \"x\", \"y\": [2.9370871839329817, 2.189683788254114, 0.9088436741892346, 1.0707719070201915, 1.204763176775731, 0.344885875359196, 2.7558302314758905, 0.3159225103002202, 3.3236894196591145, 0.5233386463467561, 0.35580921340573063, 0.3133226526111478, 0.3693799366814588, 1.5542636747396266, 0.3816430679645907, 0.8901914922591299, 0.04813516740816074, 1.2496620166397967, 0.12125954532036505, 0.6148309801467312, 3.9473851409632266, 0.09211986381430988, 0.4941828416204305, 0.16922153167046633, 1.2419792028731171, 0.9879175608542732, 2.288094773524296], \"yaxis\": \"y\"}, {\"customdata\": [[\"TP53\", 1009, \"other\"], [\"BRAF\", 1009, \"other\"], [\"PIK3CA\", 1009, \"other\"], [\"TP53\", 1020, \"other\"], [\"BRAF\", 1020, \"other\"], [\"PIK3CA\", 1020, \"other\"], [\"TP53\", 1026, \"other\"], [\"BRAF\", 1026, \"other\"], [\"PIK3CA\", 1026, \"other\"], [\"TP53\", 1031, \"other\"], [\"BRAF\", 1031, \"other\"], [\"PIK3CA\", 1031, \"other\"], [\"TP53\", 1033, \"other\"], [\"BRAF\", 1033, \"other\"], [\"PIK3CA\", 1033, \"other\"], [\"TP53\", 1037, \"other\"], [\"BRAF\", 1037, \"other\"], [\"PIK3CA\", 1037, \"other\"], [\"TP53\", 104, \"other\"], [\"PIK3CA\", 104, \"other\"], [\"PIK3CA\", 106, \"other\"], [\"TP53\", 1067, \"other\"], [\"BRAF\", 1067, \"other\"], [\"PIK3CA\", 1067, \"other\"], [\"TP53\", 1072, \"other\"], [\"BRAF\", 1072, \"other\"], [\"PIK3CA\", 1072, \"other\"], [\"PIK3CA\", 111, \"other\"], [\"PIK3CA\", 1158, \"other\"], [\"PIK3CA\", 1161, \"other\"], [\"PIK3CA\", 1164, \"other\"], [\"TP53\", 1170, \"other\"], [\"BRAF\", 1170, \"other\"], [\"PIK3CA\", 1170, \"other\"], [\"TP53\", 1194, \"other\"], [\"BRAF\", 1194, \"other\"], [\"PIK3CA\", 1194, \"other\"], [\"TP53\", 1199, \"other\"], [\"BRAF\", 1199, \"other\"], [\"PIK3CA\", 1199, \"other\"], [\"PIK3CA\", 1203, \"other\"], [\"TP53\", 1230, \"other\"], [\"BRAF\", 1230, \"other\"], [\"PIK3CA\", 1230, \"other\"], [\"TP53\", 1239, \"other\"], [\"PIK3CA\", 1239, \"other\"], [\"TP53\", 1242, \"other\"], [\"BRAF\", 1242, \"other\"], [\"PIK3CA\", 1242, \"other\"], [\"TP53\", 1243, \"other\"], [\"BRAF\", 1243, \"other\"], [\"PIK3CA\", 1243, \"other\"], [\"TP53\", 1262, \"other\"], [\"BRAF\", 1262, \"other\"], [\"PIK3CA\", 1262, \"other\"], [\"TP53\", 147, \"other\"], [\"PIK3CA\", 147, \"other\"], [\"TP53\", 150, \"other\"], [\"PIK3CA\", 150, \"other\"], [\"TP53\", 1502, \"other\"], [\"PIK3CA\", 1502, \"other\"], [\"TP53\", 151, \"other\"], [\"PIK3CA\", 151, \"other\"], [\"TP53\", 1529, \"other\"], [\"PIK3CA\", 1529, \"other\"], [\"TP53\", 165, \"other\"], [\"PIK3CA\", 165, \"other\"], [\"TP53\", 166, \"other\"], [\"PIK3CA\", 166, \"other\"], [\"PIK3CA\", 17, \"other\"], [\"TP53\", 170, \"other\"], [\"PIK3CA\", 170, \"other\"], [\"TP53\", 173, \"other\"], [\"PIK3CA\", 173, \"other\"], [\"TP53\", 177, \"other\"], [\"PIK3CA\", 177, \"other\"], [\"TP53\", 178, \"other\"], [\"PIK3CA\", 178, \"other\"], [\"TP53\", 180, \"other\"], [\"PIK3CA\", 180, \"other\"], [\"TP53\", 186, \"other\"], [\"PIK3CA\", 186, \"other\"], [\"TP53\", 192, \"other\"], [\"PIK3CA\", 192, \"other\"], [\"TP53\", 194, \"other\"], [\"PIK3CA\", 194, \"other\"], [\"TP53\", 197, \"other\"], [\"PIK3CA\", 197, \"other\"], [\"TP53\", 203, \"other\"], [\"PIK3CA\", 203, \"other\"], [\"TP53\", 204, \"other\"], [\"PIK3CA\", 204, \"other\"], [\"TP53\", 205, \"other\"], [\"PIK3CA\", 205, \"other\"], [\"TP53\", 206, \"other\"], [\"PIK3CA\", 206, \"other\"], [\"TP53\", 229, \"other\"], [\"PIK3CA\", 229, \"other\"], [\"TP53\", 235, \"other\"], [\"PIK3CA\", 235, \"other\"], [\"TP53\", 252, \"other\"], [\"PIK3CA\", 252, \"other\"], [\"TP53\", 256, \"other\"], [\"PIK3CA\", 256, \"other\"], [\"TP53\", 258, \"other\"], [\"PIK3CA\", 258, \"other\"], [\"TP53\", 260, \"other\"], [\"PIK3CA\", 260, \"other\"], [\"TP53\", 261, \"other\"], [\"PIK3CA\", 261, \"other\"], [\"TP53\", 266, \"other\"], [\"PIK3CA\", 266, \"other\"], [\"TP53\", 279, \"other\"], [\"PIK3CA\", 279, \"other\"], [\"TP53\", 286, \"other\"], [\"PIK3CA\", 286, \"other\"], [\"TP53\", 288, \"other\"], [\"PIK3CA\", 288, \"other\"], [\"TP53\", 290, \"other\"], [\"PIK3CA\", 290, \"other\"], [\"TP53\", 291, \"other\"], [\"PIK3CA\", 291, \"other\"], [\"TP53\", 300, \"other\"], [\"PIK3CA\", 300, \"other\"], [\"TP53\", 305, \"other\"], [\"PIK3CA\", 305, \"other\"], [\"TP53\", 306, \"other\"], [\"PIK3CA\", 306, \"other\"], [\"TP53\", 310, \"other\"], [\"PIK3CA\", 310, \"other\"], [\"TP53\", 328, \"other\"], [\"PIK3CA\", 328, \"other\"], [\"TP53\", 330, \"other\"], [\"PIK3CA\", 330, \"other\"], [\"TP53\", 331, \"other\"], [\"PIK3CA\", 331, \"other\"], [\"TP53\", 332, \"other\"], [\"PIK3CA\", 332, \"other\"], [\"TP53\", 333, \"other\"], [\"PIK3CA\", 333, \"other\"], [\"TP53\", 341, \"other\"], [\"PIK3CA\", 341, \"other\"], [\"PIK3CA\", 45, \"other\"], [\"PIK3CA\", 55, \"other\"], [\"PIK3CA\", 59, \"other\"], [\"PIK3CA\", 63, \"other\"], [\"TP53\", 89, \"other\"], [\"PIK3CA\", 89, \"other\"], [\"TP53\", 9, \"other\"], [\"PIK3CA\", 9, \"other\"], [\"TP53\", 91, \"other\"], [\"PIK3CA\", 91, \"other\"]], \"hoverlabel\": {\"namelength\": 0}, \"hovertemplate\": \"Drug_Targeted_process_or_pathway=%{customdata[2]}<br>SE=%{x}<br>-logP=%{y}<br>F1=%{customdata[0]}<br>F2=%{customdata[1]}\", \"legendgroup\": \"other\", \"marker\": {\"color\": \"#ab63fa\", \"symbol\": \"circle\"}, \"mode\": \"markers\", \"name\": \"other\", \"showlegend\": true, \"type\": \"scatter\", \"x\": [0.2932537463584444, 0.2172881315521388, -0.10923780705740864, 0.05516908173624351, 0.10449369266340933, 0.21068563402267965, 0.010975533594567915, 0.3396367005052868, -0.30433497610481564, -0.1656925516975306, -0.14830727532863394, -0.08561665673796587, 0.10547295843841707, 0.07800678225545049, -0.0487077559689116, -0.07786398004192042, 0.2917495232032541, 0.32672565302748896, -0.1159269305943876, -0.13907457275181165, 0.5488984772396416, 0.2884245966061276, 0.4142063417131758, -0.4806350774176279, -0.27962476169245537, 0.871443717890368, 0.11684379812781745, 0.7539363403048971, 0.6043531858259571, 0.5202957812465964, 0.14757836359615514, 0.2110880746387252, -0.7496155928901449, 0.10062179627851138, 0.16594571894006094, 0.5188934353928767, -0.1514868830741444, 0.19555653537416, 0.20027857190384304, -0.43154045097913823, -0.4055897651243724, 0.30138538228311923, 0.20242671871224724, 0.3439912468175366, -0.033466191045250684, -0.3004942544162996, 0.1477956416217368, -0.5327786664778889, -0.09168445901353846, -0.19042944917275695, 0.3404264225965796, -0.4465358777641187, 0.404929750777443, -0.5254851094698842, 0.20121884611806254, 0.5665882543887963, -0.024500865311274343, 0.9165176558662368, 0.1857518869812493, 0.17834799547995653, -0.0885201316479824, 0.4401697439701043, -0.14099379828231573, 0.3526421890799005, 0.4073852133287041, -0.0810026579818422, 0.3264195635068398, -0.07137910387522299, -0.2865109164822198, 0.943773906274196, 0.10926562166155053, 0.019170091775023292, 0.09735356847777303, 0.1370679583674107, 0.510336110406983, -0.4144634302519293, 0.2547180334069145, -0.1198497988045117, 0.08912877233893468, 0.4128206488253775, 0.35778554625481995, -0.012670176903384504, 0.31253130217770825, 0.007937712351118396, 0.4370034975377688, -0.04135368703423042, 0.2840473302632234, -0.2671054712645722, 0.1574278570626889, -0.08871005601525002, -0.16534747719146992, -0.2244887503624504, 0.2699920682169452, -0.04413186768592766, 0.8032276368360859, 0.21171147289675307, -0.08473247644991498, -0.1716820272790074, -0.19765224275245288, -0.8140696454180403, -0.2462552885481869, 0.4448423058008899, -0.21861022148962125, -0.0007422368288004628, 0.2327430050689911, 0.3834915442967562, -0.10484948782260044, -0.2118776093993532, 0.04537059324460632, 0.17521380412230048, 0.2906911481518341, -0.01692423069180095, -0.2240518566344098, 0.05781691801883225, 0.4134678358702568, -0.17536883544556206, 0.06571943436496852, 0.3940742866974382, 0.2103171008976039, 0.4348904312132988, 0.15090634281648074, 0.2195246253595004, 0.1863671933637881, 0.20505106755851865, -0.5481209584530626, -0.003045465513018061, -0.25689612352098506, 0.27416961361609216, -0.3174837745884886, -0.15676481994072075, -0.09928862786839072, -0.14376625729682993, -0.1307036552869441, -0.04417118232253363, -0.09040687412882653, -0.2923934683535259, 0.3691991459668675, 0.08772838204728706, 0.4174313674311538, -0.01420146466128758, 0.3360529622486624, 0.027268824023288105, 1.1280858528660012, 0.4612676581783433, -0.6193844699440596, 0.380515395759108, 0.698118456533709, 0.3873060314819418, 0.4550688669090628, -0.011289631906718368, -0.19781678465609207, 0.22447632213832971], \"xaxis\": \"x\", \"y\": [0.8145306725904617, 0.3760597656877949, 0.31060727205798805, 0.12150054108287542, 0.16694683086093334, 0.6737719209944956, 0.02192405461584039, 0.6365821603313464, 1.0401753152773332, 0.4074706970427057, 0.2444938228330341, 0.23668598899839896, 0.2443875804711597, 0.1222672290081092, 0.12877960548609144, 0.1659936915437549, 0.5293410652368594, 1.1434897179706387, 0.15212901205062093, 0.18508018824599087, 0.9072321531145946, 0.8008344575006368, 0.8213079891334257, 2.0718586456199364, 0.7700238995679506, 2.302567708403956, 0.33775840806797985, 1.4106385803066162, 1.931996921102052, 1.5504303680298872, 0.31823323508828283, 0.5099747146870102, 1.8280246933202984, 0.27433739210462665, 0.4112848907133325, 1.1040479315285463, 0.4595070779611001, 0.49889831235847, 0.34380391395569804, 1.7839732989301067, 1.0283160936760614, 0.8503874957506828, 0.34801668375569056, 1.2959592507546822, 0.06809664461574637, 0.9919030700522584, 0.35849906503427365, 1.141494758465191, 0.2571804876861649, 0.4834024057593331, 0.6437135444731419, 1.8749690808416608, 1.2509940310838032, 1.120591582543703, 0.6417648476799221, 2.0249386269602403, 0.06372396710879369, 4.378060768910991, 0.6011043842486788, 0.42117243306018176, 0.2455647471537556, 1.414860742196961, 0.4325806641524756, 0.9437263656852608, 1.4065240352618846, 0.1844282578148425, 1.2065734608785297, 0.16093395754983575, 1.0137105716950674, 1.98916861250144, 0.2559806322903918, 0.049528451501387495, 0.2261080651114871, 0.4185514381492326, 1.7447682646929663, 1.7325343869048198, 0.6903799362357361, 0.35842229491352506, 0.2052874230040453, 1.7226478099875937, 1.0676555046757097, 0.033148734645329116, 0.8944487584759052, 0.020641772651513884, 1.4007309352871824, 0.11220983161166727, 0.7915407861625428, 0.9496168542517432, 0.4080631726053032, 0.2571044738726504, 0.4110025167644613, 0.7600713852369848, 0.7805390896453961, 0.11835166724318735, 3.7607946175056703, 0.7116240771997958, 0.2035803259831601, 0.5504283386537329, 0.5337855020354593, 5.125239971494211, 0.6954653217503636, 1.880133340164508, 0.6006384965953753, 0.0018849679537913985, 0.6511025829401627, 1.5637845759734694, 0.2573190213162609, 0.7123209167729517, 0.10452020713949844, 0.5641200585596564, 0.8610215304571682, 0.04479935774644205, 0.6213699837299218, 0.16121790571032246, 1.3764897449055122, 0.5647233958732769, 0.1547376572386145, 1.6254210824553104, 0.5752937600762609, 1.873809504149468, 0.3885406897883302, 0.7446482528182142, 0.4975822360779205, 0.6838793127540999, 2.062225430944925, 0.007918586462759614, 0.7331807343191268, 0.9641794889575708, 0.9651239197531956, 0.4937103906742426, 0.2422501909538261, 0.44573803985355803, 0.3283537387338969, 0.11846288924235035, 0.21775045123773729, 1.0493230031677132, 1.1741975429084237, 0.24823261444354885, 1.3888654794570312, 0.03668467279583811, 1.0399628284386786, 0.07314537270681752, 2.5881863179262625, 0.6987304609096326, 1.0296987560936124, 0.5499766609033654, 1.3017667705773128, 0.5984617133838674, 0.7323845918195663, 0.013901812511683265, 0.2727584538881529, 0.3145291723184413], \"yaxis\": \"y\"}, {\"customdata\": [[\"TP53\", 1010, \"EGFR signaling\"], [\"BRAF\", 1010, \"EGFR signaling\"], [\"PIK3CA\", 1010, \"EGFR signaling\"], [\"TP53\", 1032, \"EGFR signaling\"], [\"BRAF\", 1032, \"EGFR signaling\"], [\"PIK3CA\", 1032, \"EGFR signaling\"], [\"TP53\", 1114, \"EGFR signaling\"], [\"PIK3CA\", 1114, \"EGFR signaling\"], [\"PIK3CA\", 1143, \"EGFR signaling\"], [\"PIK3CA\", 119, \"EGFR signaling\"], [\"TP53\", 1377, \"EGFR signaling\"], [\"BRAF\", 1377, \"EGFR signaling\"], [\"PIK3CA\", 1377, \"EGFR signaling\"], [\"TP53\", 255, \"EGFR signaling\"], [\"PIK3CA\", 255, \"EGFR signaling\"], [\"TP53\", 282, \"EGFR signaling\"], [\"PIK3CA\", 282, \"EGFR signaling\"]], \"hoverlabel\": {\"namelength\": 0}, \"hovertemplate\": \"Drug_Targeted_process_or_pathway=%{customdata[2]}<br>SE=%{x}<br>-logP=%{y}<br>F1=%{customdata[0]}<br>F2=%{customdata[1]}\", \"legendgroup\": \"EGFR signaling\", \"marker\": {\"color\": \"#FFA15A\", \"symbol\": \"circle\"}, \"mode\": \"markers\", \"name\": \"EGFR signaling\", \"showlegend\": true, \"type\": \"scatter\", \"x\": [0.2013495911037234, 0.3854868648679641, 0.05289068407648172, -0.13898763217609905, -0.5268965064048091, -0.021696931899550798, -0.03312962093982305, 0.11299286749446745, 0.5491146640198891, -0.55785807692026, -0.11775387541157635, -0.7292039454438056, -0.38099723266358504, 0.20556574317237888, -0.2939745335358578, -0.2048242710365078, -0.14417454029621854], \"xaxis\": \"x\", \"y\": [0.5125989295437111, 0.7483540230961332, 0.1405526791098737, 0.33294821037876465, 1.1222676420506832, 0.05549701335228474, 0.06808055031308498, 0.3227163139825026, 1.6763167517424225, 0.9269896140102606, 0.2782243265331751, 1.7712273408077386, 1.4934150388305576, 0.5574550953809521, 1.0568458000819354, 0.5550301852680145, 0.4365837803343101], \"yaxis\": \"y\"}, {\"customdata\": [[\"TP53\", 1011, \"apoptosis regulation\"], [\"BRAF\", 1011, \"apoptosis regulation\"], [\"PIK3CA\", 1011, \"apoptosis regulation\"], [\"TP53\", 1149, \"apoptosis regulation\"], [\"BRAF\", 1149, \"apoptosis regulation\"], [\"PIK3CA\", 1149, \"apoptosis regulation\"], [\"TP53\", 1261, \"apoptosis regulation\"], [\"BRAF\", 1261, \"apoptosis regulation\"], [\"PIK3CA\", 1261, \"apoptosis regulation\"], [\"TP53\", 172, \"apoptosis regulation\"], [\"PIK3CA\", 172, \"apoptosis regulation\"], [\"TP53\", 175, \"apoptosis regulation\"], [\"PIK3CA\", 175, \"apoptosis regulation\"], [\"TP53\", 182, \"apoptosis regulation\"], [\"PIK3CA\", 182, \"apoptosis regulation\"], [\"TP53\", 268, \"apoptosis regulation\"], [\"PIK3CA\", 268, \"apoptosis regulation\"]], \"hoverlabel\": {\"namelength\": 0}, \"hovertemplate\": \"Drug_Targeted_process_or_pathway=%{customdata[2]}<br>SE=%{x}<br>-logP=%{y}<br>F1=%{customdata[0]}<br>F2=%{customdata[1]}\", \"legendgroup\": \"apoptosis regulation\", \"marker\": {\"color\": \"#19d3f3\", \"symbol\": \"circle\"}, \"mode\": \"markers\", \"name\": \"apoptosis regulation\", \"showlegend\": true, \"type\": \"scatter\", \"x\": [0.020628357718394826, 0.5756926367372082, 0.6979234378716055, -0.12440022814421595, -0.2902584811783416, 0.35844117219366856, -0.2739215466361617, -0.2037354326502293, 0.7619582523180098, -0.2129660502210399, 0.21211463141030948, 0.07636503295411244, 0.06722766741616319, 0.5111435373478846, -0.1447610604782195, -0.4425676766640653, -0.054036359242847366], \"xaxis\": \"x\", \"y\": [0.04159864334917062, 1.259423654919272, 3.5301510352871652, 0.27723413488526283, 0.5260996880855549, 1.2968714300887858, 0.7532403518352981, 0.35058892888277865, 4.3697787544873545, 0.5545536926746554, 0.7079366243383097, 0.1736195330751379, 0.18843585031645885, 1.7487552172560188, 0.4461556992454883, 1.5135710923421233, 0.14995948182659305], \"yaxis\": \"y\"}, {\"customdata\": [[\"TP53\", 1012, \"chromain  histone acetylation\"], [\"BRAF\", 1012, \"chromain  histone acetylation\"], [\"PIK3CA\", 1012, \"chromain  histone acetylation\"], [\"TP53\", 164, \"chromain  histone acetylation\"], [\"PIK3CA\", 164, \"chromain  histone acetylation\"], [\"TP53\", 200, \"chromain  histone acetylation\"], [\"PIK3CA\", 200, \"chromain  histone acetylation\"], [\"TP53\", 265, \"chromain  histone acetylation\"], [\"PIK3CA\", 265, \"chromain  histone acetylation\"], [\"TP53\", 271, \"chromain  histone acetylation\"], [\"PIK3CA\", 271, \"chromain  histone acetylation\"], [\"TP53\", 272, \"chromain  histone acetylation\"], [\"PIK3CA\", 272, \"chromain  histone acetylation\"], [\"TP53\", 273, \"chromain  histone acetylation\"], [\"PIK3CA\", 273, \"chromain  histone acetylation\"], [\"TP53\", 274, \"chromain  histone acetylation\"], [\"PIK3CA\", 274, \"chromain  histone acetylation\"], [\"TP53\", 276, \"chromain  histone acetylation\"], [\"PIK3CA\", 276, \"chromain  histone acetylation\"], [\"TP53\", 88, \"chromain  histone acetylation\"], [\"PIK3CA\", 88, \"chromain  histone acetylation\"]], \"hoverlabel\": {\"namelength\": 0}, \"hovertemplate\": \"Drug_Targeted_process_or_pathway=%{customdata[2]}<br>SE=%{x}<br>-logP=%{y}<br>F1=%{customdata[0]}<br>F2=%{customdata[1]}\", \"legendgroup\": \"chromain  histone acetylation\", \"marker\": {\"color\": \"#FF6692\", \"symbol\": \"circle\"}, \"mode\": \"markers\", \"name\": \"chromain  histone acetylation\", \"showlegend\": true, \"type\": \"scatter\", \"x\": [0.3109974004804897, -0.03283972995676917, 0.17007907590403465, 0.09649263092283246, -0.15601086925489385, 0.048890700452150035, -0.2708395938546925, 0.41672158622272987, -0.01021293219575655, 0.4146026556382104, 0.3616783012065089, 0.10693678817307424, 0.08257910907424719, -0.2177284977328936, 0.020987226897190243, 0.02918326706921468, -0.021980159014102787, -0.2857792905638569, -0.051379945300027235, -0.2071119551121688, 0.06152100006686927], \"xaxis\": \"x\", \"y\": [0.8781726150411341, 0.0498045977970342, 0.5192527668856798, 0.2231683473464945, 0.4757508531438108, 0.10806722601004662, 0.966977211679134, 1.3915238351526762, 0.0268017319183976, 1.381724900737381, 1.4402470490428143, 0.2630177035524013, 0.2375183020839586, 0.6000189289684359, 0.05584478885531684, 0.06606408960323769, 0.058561370547491484, 0.8424268550047961, 0.14210992406022135, 0.2871793592060117, 0.07811075127988851], \"yaxis\": \"y\"}, {\"customdata\": [[\"TP53\", 1013, \"ABL signaling\"], [\"BRAF\", 1013, \"ABL signaling\"], [\"PIK3CA\", 1013, \"ABL signaling\"], [\"TP53\", 1019, \"ABL signaling\"], [\"BRAF\", 1019, \"ABL signaling\"], [\"PIK3CA\", 1019, \"ABL signaling\"], [\"PIK3CA\", 1142, \"ABL signaling\"], [\"TP53\", 155, \"ABL signaling\"], [\"PIK3CA\", 155, \"ABL signaling\"], [\"TP53\", 34, \"ABL signaling\"], [\"PIK3CA\", 34, \"ABL signaling\"], [\"TP53\", 38, \"ABL signaling\"], [\"PIK3CA\", 38, \"ABL signaling\"], [\"PIK3CA\", 51, \"ABL signaling\"], [\"PIK3CA\", 52, \"ABL signaling\"], [\"PIK3CA\", 56, \"ABL signaling\"]], \"hoverlabel\": {\"namelength\": 0}, \"hovertemplate\": \"Drug_Targeted_process_or_pathway=%{customdata[2]}<br>SE=%{x}<br>-logP=%{y}<br>F1=%{customdata[0]}<br>F2=%{customdata[1]}\", \"legendgroup\": \"ABL signaling\", \"marker\": {\"color\": \"#B6E880\", \"symbol\": \"circle\"}, \"mode\": \"markers\", \"name\": \"ABL signaling\", \"showlegend\": true, \"type\": \"scatter\", \"x\": [0.33988173156329604, -0.24373141994259745, 0.4833862916669237, 0.1201919801851552, -0.2254551289213639, 0.07927978473924559, 0.02163273456783392, 0.40131446881145455, 0.2770893732786763, 1.5201581463981857, 1.0131077114803857, 0.6931151492925605, 0.6059213284367199, 0.17624153394714392, 0.3717916510111928, 0.5143889198164415], \"xaxis\": \"x\", \"y\": [0.9090884130388078, 0.4248381752343169, 1.8816503258182289, 0.2826102121919244, 0.3924234911570115, 0.2175078415997308, 0.041546580517059783, 1.2409388533821315, 0.970192837232804, 5.010132734769189, 2.304051538620369, 1.28848251713315, 1.068110862539814, 0.22638286568053656, 0.5346580993555407, 0.8037760416978683], \"yaxis\": \"y\"}, {\"customdata\": [[\"TP53\", 1014, \"ERK MAPK signaling\"], [\"BRAF\", 1014, \"ERK MAPK signaling\"], [\"PIK3CA\", 1014, \"ERK MAPK signaling\"], [\"TP53\", 1015, \"ERK MAPK signaling\"], [\"BRAF\", 1015, \"ERK MAPK signaling\"], [\"PIK3CA\", 1015, \"ERK MAPK signaling\"], [\"TP53\", 1036, \"ERK MAPK signaling\"], [\"BRAF\", 1036, \"ERK MAPK signaling\"], [\"PIK3CA\", 1036, \"ERK MAPK signaling\"], [\"TP53\", 1039, \"ERK MAPK signaling\"], [\"BRAF\", 1039, \"ERK MAPK signaling\"], [\"PIK3CA\", 1039, \"ERK MAPK signaling\"], [\"TP53\", 1060, \"ERK MAPK signaling\"], [\"BRAF\", 1060, \"ERK MAPK signaling\"], [\"PIK3CA\", 1060, \"ERK MAPK signaling\"], [\"TP53\", 1061, \"ERK MAPK signaling\"], [\"BRAF\", 1061, \"ERK MAPK signaling\"], [\"PIK3CA\", 1061, \"ERK MAPK signaling\"], [\"TP53\", 1062, \"ERK MAPK signaling\"], [\"BRAF\", 1062, \"ERK MAPK signaling\"], [\"PIK3CA\", 1062, \"ERK MAPK signaling\"], [\"TP53\", 1371, \"ERK MAPK signaling\"], [\"BRAF\", 1371, \"ERK MAPK signaling\"], [\"PIK3CA\", 1371, \"ERK MAPK signaling\"], [\"TP53\", 1372, \"ERK MAPK signaling\"], [\"BRAF\", 1372, \"ERK MAPK signaling\"], [\"PIK3CA\", 1372, \"ERK MAPK signaling\"], [\"TP53\", 1373, \"ERK MAPK signaling\"], [\"BRAF\", 1373, \"ERK MAPK signaling\"], [\"PIK3CA\", 1373, \"ERK MAPK signaling\"], [\"TP53\", 1498, \"ERK MAPK signaling\"], [\"BRAF\", 1498, \"ERK MAPK signaling\"], [\"PIK3CA\", 1498, \"ERK MAPK signaling\"], [\"TP53\", 1526, \"ERK MAPK signaling\"], [\"PIK3CA\", 1526, \"ERK MAPK signaling\"], [\"TP53\", 159, \"ERK MAPK signaling\"], [\"PIK3CA\", 159, \"ERK MAPK signaling\"], [\"TP53\", 211, \"ERK MAPK signaling\"], [\"PIK3CA\", 211, \"ERK MAPK signaling\"], [\"TP53\", 231, \"ERK MAPK signaling\"], [\"PIK3CA\", 231, \"ERK MAPK signaling\"], [\"TP53\", 262, \"ERK MAPK signaling\"], [\"PIK3CA\", 262, \"ERK MAPK signaling\"], [\"TP53\", 263, \"ERK MAPK signaling\"], [\"PIK3CA\", 263, \"ERK MAPK signaling\"], [\"TP53\", 29, \"ERK MAPK signaling\"], [\"PIK3CA\", 29, \"ERK MAPK signaling\"], [\"PIK3CA\", 64, \"ERK MAPK signaling\"]], \"hoverlabel\": {\"namelength\": 0}, \"hovertemplate\": \"Drug_Targeted_process_or_pathway=%{customdata[2]}<br>SE=%{x}<br>-logP=%{y}<br>F1=%{customdata[0]}<br>F2=%{customdata[1]}\", \"legendgroup\": \"ERK MAPK signaling\", \"marker\": {\"color\": \"#FF97FF\", \"symbol\": \"circle\"}, \"mode\": \"markers\", \"name\": \"ERK MAPK signaling\", \"showlegend\": true, \"type\": \"scatter\", \"x\": [-0.13757128435055285, -0.6948969941125357, 0.4560853436431832, 0.3915269153117749, -0.8858515305708566, 0.3373621196792346, 0.7336673456325035, -0.8043440126552232, -0.02159150967642997, 0.2883284880695083, 0.3097184198972085, -0.21976841715553586, 0.02919449018670003, -0.7294113590167515, 0.5842705101126385, 0.5360776741161664, -0.9062336924633724, 0.0911385870805718, -0.24294576952016575, -0.06957230983508443, 0.0429825786501618, 0.3878516313579289, -0.904594347442828, 0.2157747834726668, -0.012158310133068577, -0.6665681454714281, 0.31783015941868525, 0.8328633809129042, -1.2149809374606295, 0.03152259626051896, 0.14119742694865225, -0.6513579280925361, 0.3644084918696247, 0.2579701952358781, 0.4258619307762863, -0.004070019884753889, 0.2862543852776462, 0.3664389725842435, -0.21665207728698305, 0.2764568980686249, 0.012366502678815948, 0.4864548349455161, 0.21257793624376006, 0.3264267468789649, 0.3250060103491939, 0.8766370342623628, 0.6928508547306641, 0.6647505190930162], \"xaxis\": \"x\", \"y\": [0.3104200723791245, 1.6383815280830163, 1.8235456314623903, 1.1899181874450646, 2.35607140084786, 1.2405010504706908, 2.7570725715893487, 2.0280418272078133, 0.05363129612419455, 0.7470088916891474, 0.5688650919116308, 0.6854754464050734, 0.05936894774871836, 1.7568156463067428, 2.650984406047576, 1.7100277699714823, 2.423576323691069, 0.2394748903985723, 0.6017383111911855, 0.10774713713268146, 0.10685910822886946, 1.1848283735801437, 2.4424697798281945, 0.7051158918313086, 0.025706080336789297, 1.5544057387464023, 1.1543347816839198, 3.691963480360876, 3.9187465642667454, 0.08217127325334278, 0.3402685863433288, 1.5045783775330324, 1.3915369311199564, 0.6554637177732044, 1.719129308477169, 0.008560419726659118, 1.0125156116201541, 1.1672735609644929, 0.7324465803485211, 0.8075484483570592, 0.032543485549924964, 1.7317032498777822, 0.7152609156021102, 1.0008890918436268, 1.24297094401909, 1.8263927424920439, 1.2877827838406009, 1.135437600088685], \"yaxis\": \"y\"}, {\"customdata\": [[\"TP53\", 1016, \"TOR signaling\"], [\"BRAF\", 1016, \"TOR signaling\"], [\"PIK3CA\", 1016, \"TOR signaling\"], [\"TP53\", 1059, \"TOR signaling\"], [\"BRAF\", 1059, \"TOR signaling\"], [\"PIK3CA\", 1059, \"TOR signaling\"], [\"TP53\", 1129, \"TOR signaling\"], [\"BRAF\", 1129, \"TOR signaling\"], [\"PIK3CA\", 1129, \"TOR signaling\"], [\"PIK3CA\", 1166, \"TOR signaling\"], [\"TP53\", 299, \"TOR signaling\"], [\"PIK3CA\", 299, \"TOR signaling\"], [\"TP53\", 3, \"TOR signaling\"], [\"PIK3CA\", 3, \"TOR signaling\"], [\"PIK3CA\", 83, \"TOR signaling\"]], \"hoverlabel\": {\"namelength\": 0}, \"hovertemplate\": \"Drug_Targeted_process_or_pathway=%{customdata[2]}<br>SE=%{x}<br>-logP=%{y}<br>F1=%{customdata[0]}<br>F2=%{customdata[1]}\", \"legendgroup\": \"TOR signaling\", \"marker\": {\"color\": \"#FECB52\", \"symbol\": \"circle\"}, \"mode\": \"markers\", \"name\": \"TOR signaling\", \"showlegend\": true, \"type\": \"scatter\", \"x\": [-0.08757790226834017, 0.2955691013527655, -0.07738756300953208, 0.37304890526153495, 0.7126175226726176, -0.1896812393100995, 0.6882866843017489, 0.17647892856231642, -0.3171947402882332, -0.7111796158213498, 0.15563791343646682, -0.2793191940973186, 0.4854231381775856, -0.0603566788979512, 0.5020362209517462], \"xaxis\": \"x\", \"y\": [0.199312534347044, 0.5399719153639282, 0.21183408507064236, 1.04134355686958, 1.6986864295269593, 0.5722373698117219, 2.4952393460087015, 0.2956016784513591, 1.0990162045341971, 2.484316771180796, 0.4011821038698731, 0.9879479184807672, 0.7956329377424388, 0.07657821098053158, 0.7788177188135955], \"yaxis\": \"y\"}, {\"customdata\": [[\"TP53\", 1017, \"Genome integrity\"], [\"BRAF\", 1017, \"Genome integrity\"], [\"PIK3CA\", 1017, \"Genome integrity\"], [\"TP53\", 1018, \"Genome integrity\"], [\"BRAF\", 1018, \"Genome integrity\"], [\"PIK3CA\", 1018, \"Genome integrity\"], [\"TP53\", 1022, \"Genome integrity\"], [\"BRAF\", 1022, \"Genome integrity\"], [\"PIK3CA\", 1022, \"Genome integrity\"], [\"TP53\", 1030, \"Genome integrity\"], [\"BRAF\", 1030, \"Genome integrity\"], [\"PIK3CA\", 1030, \"Genome integrity\"], [\"TP53\", 1038, \"Genome integrity\"], [\"BRAF\", 1038, \"Genome integrity\"], [\"PIK3CA\", 1038, \"Genome integrity\"], [\"TP53\", 1175, \"Genome integrity\"], [\"BRAF\", 1175, \"Genome integrity\"], [\"PIK3CA\", 1175, \"Genome integrity\"], [\"TP53\", 1259, \"Genome integrity\"], [\"BRAF\", 1259, \"Genome integrity\"], [\"PIK3CA\", 1259, \"Genome integrity\"], [\"TP53\", 1495, \"Genome integrity\"], [\"BRAF\", 1495, \"Genome integrity\"], [\"PIK3CA\", 1495, \"Genome integrity\"], [\"TP53\", 152, \"Genome integrity\"], [\"PIK3CA\", 152, \"Genome integrity\"]], \"hoverlabel\": {\"namelength\": 0}, \"hovertemplate\": \"Drug_Targeted_process_or_pathway=%{customdata[2]}<br>SE=%{x}<br>-logP=%{y}<br>F1=%{customdata[0]}<br>F2=%{customdata[1]}\", \"legendgroup\": \"Genome integrity\", \"marker\": {\"color\": \"#636efa\", \"symbol\": \"circle\"}, \"mode\": \"markers\", \"name\": \"Genome integrity\", \"showlegend\": true, \"type\": \"scatter\", \"x\": [0.4971445793554566, 0.018596610972321133, -0.08478784873503731, 0.3727864808626999, 0.027262459267936856, 0.16086792456775093, -0.2655415592017245, 0.5332208266756888, 0.5310504243729424, 0.236123231714484, 0.6121137259226166, 0.41234659817648095, 0.27708611049383963, 0.5016905048778041, 0.3027558805182448, 0.3459078778258412, -0.09291286526018884, -0.17192589580940304, 0.1737264170955257, 0.27716190290982623, -0.0971684007275006, -0.10685414044745913, 0.3613419096219465, -0.1236289732459075, 0.06847601414258131, -0.21492866822839268], \"xaxis\": \"x\", \"y\": [1.6589255940962508, 0.027909758764933214, 0.2341620926772423, 1.113946231552215, 0.041177142123152, 0.4859317951375473, 0.7186579768347908, 1.1403713772140631, 2.3862422664884955, 0.5836479458297759, 1.3703729255621038, 1.5771776448996369, 0.7106981138148192, 1.0466073139083327, 1.033041645532356, 0.9429985536266614, 0.1466407866212367, 0.508468048125255, 0.4338680019233165, 0.501932877558024, 0.2762821231230284, 0.24884745213140155, 0.6916316387683646, 0.36026043170443217, 0.16170311697140988, 0.7251596935832548], \"yaxis\": \"y\"}, {\"customdata\": [[\"TP53\", 1021, \"RTK signaling\"], [\"BRAF\", 1021, \"RTK signaling\"], [\"PIK3CA\", 1021, \"RTK signaling\"], [\"TP53\", 1023, \"RTK signaling\"], [\"BRAF\", 1023, \"RTK signaling\"], [\"PIK3CA\", 1023, \"RTK signaling\"], [\"TP53\", 1024, \"RTK signaling\"], [\"BRAF\", 1024, \"RTK signaling\"], [\"PIK3CA\", 1024, \"RTK signaling\"], [\"TP53\", 1029, \"RTK signaling\"], [\"BRAF\", 1029, \"RTK signaling\"], [\"PIK3CA\", 1029, \"RTK signaling\"], [\"TP53\", 1049, \"RTK signaling\"], [\"BRAF\", 1049, \"RTK signaling\"], [\"PIK3CA\", 1049, \"RTK signaling\"], [\"TP53\", 153, \"RTK signaling\"], [\"PIK3CA\", 153, \"RTK signaling\"], [\"TP53\", 193, \"RTK signaling\"], [\"PIK3CA\", 193, \"RTK signaling\"], [\"TP53\", 199, \"RTK signaling\"], [\"PIK3CA\", 199, \"RTK signaling\"], [\"TP53\", 249, \"RTK signaling\"], [\"PIK3CA\", 249, \"RTK signaling\"], [\"TP53\", 253, \"RTK signaling\"], [\"PIK3CA\", 253, \"RTK signaling\"], [\"TP53\", 254, \"RTK signaling\"], [\"PIK3CA\", 254, \"RTK signaling\"], [\"TP53\", 277, \"RTK signaling\"], [\"PIK3CA\", 277, \"RTK signaling\"], [\"TP53\", 281, \"RTK signaling\"], [\"PIK3CA\", 281, \"RTK signaling\"], [\"TP53\", 292, \"RTK signaling\"], [\"PIK3CA\", 292, \"RTK signaling\"], [\"TP53\", 293, \"RTK signaling\"], [\"PIK3CA\", 293, \"RTK signaling\"], [\"TP53\", 295, \"RTK signaling\"], [\"PIK3CA\", 295, \"RTK signaling\"], [\"TP53\", 298, \"RTK signaling\"], [\"PIK3CA\", 298, \"RTK signaling\"], [\"TP53\", 30, \"RTK signaling\"], [\"PIK3CA\", 30, \"RTK signaling\"], [\"TP53\", 304, \"RTK signaling\"], [\"PIK3CA\", 304, \"RTK signaling\"], [\"TP53\", 308, \"RTK signaling\"], [\"PIK3CA\", 308, \"RTK signaling\"], [\"TP53\", 312, \"RTK signaling\"], [\"PIK3CA\", 312, \"RTK signaling\"], [\"TP53\", 329, \"RTK signaling\"], [\"PIK3CA\", 329, \"RTK signaling\"], [\"TP53\", 35, \"RTK signaling\"], [\"PIK3CA\", 35, \"RTK signaling\"], [\"TP53\", 37, \"RTK signaling\"], [\"PIK3CA\", 37, \"RTK signaling\"], [\"PIK3CA\", 5, \"RTK signaling\"], [\"TP53\", 6, \"RTK signaling\"], [\"PIK3CA\", 6, \"RTK signaling\"]], \"hoverlabel\": {\"namelength\": 0}, \"hovertemplate\": \"Drug_Targeted_process_or_pathway=%{customdata[2]}<br>SE=%{x}<br>-logP=%{y}<br>F1=%{customdata[0]}<br>F2=%{customdata[1]}\", \"legendgroup\": \"RTK signaling\", \"marker\": {\"color\": \"#EF553B\", \"symbol\": \"circle\"}, \"mode\": \"markers\", \"name\": \"RTK signaling\", \"showlegend\": true, \"type\": \"scatter\", \"x\": [-0.16799099432903405, 0.33964760658015786, 0.2401341185299336, -0.0235811726478509, 0.3485507996910047, 0.26241808966223945, -0.06912434674801994, 0.030322892501715895, 0.15504605998669346, 0.16847362548565956, 0.3670554655664179, 0.4918814892099061, -0.0022409013905336887, 0.3831893228125297, -0.0572042239659886, 0.2913667479554541, 0.11499146296986885, 0.18784419932421512, 0.1466071268601812, -0.10940500165914437, -0.2647031130136361, -0.24791142695751975, 0.021614571853437004, 0.6215721717929981, -0.0271211874042366, 0.2986761903986138, 0.1714228368203831, 0.7199757165530255, -0.02554737186311944, -0.4140814019192233, 0.3749728632252376, 0.3160325960441476, 0.023280114599846188, 0.5562900559810467, -0.41405576974087627, 0.26984670916505715, 0.18702491305367813, 0.4253159504856191, -0.23812201584821424, 0.5709576902286203, 0.4232749329101763, -0.18417750064245525, -0.3966586317539437, -0.4238948586420177, 0.2211721067965924, 0.43272036216744814, 0.32244726663308626, 0.3145011999402654, 0.07215816934558031, 0.5966112181954762, 0.755145531607577, 0.43227331146124, 0.29105488177083344, 0.8068557545309262, 1.187166361699289, 0.5610406450561112], \"xaxis\": \"x\", \"y\": [0.4140517050826173, 0.6393716096483371, 0.793815879577273, 0.050278587632911785, 0.6600864702485278, 0.8892524367737218, 0.1544095806844952, 0.045902691184960064, 0.4651952945992158, 0.3913061222144649, 0.700768713951488, 2.038362424987998, 0.004437911101997071, 0.7395021817446492, 0.1482402267578977, 0.8144546070453155, 0.33403246658091224, 0.5003656280438715, 0.4452317700482439, 0.2572078917928667, 0.9385129224757732, 0.7040754363712015, 0.05756036406451767, 2.4833709239379598, 0.07120511640598706, 0.8879495498243762, 0.536031947542932, 3.129735804975561, 0.06694097924266408, 1.3734439016023858, 1.4722211763938617, 0.9554372705684232, 0.060826905287078, 2.098901503396221, 1.6945129287927108, 0.7831433590286923, 0.6106481165004102, 1.425468378770636, 0.8041044140301985, 0.9853852022011976, 0.6683228800515372, 0.4906423556900125, 1.6406437936684093, 1.4249278975755295, 0.7516778921630423, 1.4602354849825907, 1.1960923028325705, 0.9494060760244578, 0.2003266408952676, 1.0457784218999495, 1.4583726356334918, 0.6862306858306952, 0.42447793221761615, 1.5024296935506842, 3.035774100786577, 0.962480814272858], \"yaxis\": \"y\"}, {\"customdata\": [[\"TP53\", 1025, \"WNT signaling\"], [\"BRAF\", 1025, \"WNT signaling\"], [\"PIK3CA\", 1025, \"WNT signaling\"], [\"TP53\", 1241, \"WNT signaling\"], [\"BRAF\", 1241, \"WNT signaling\"], [\"PIK3CA\", 1241, \"WNT signaling\"], [\"TP53\", 1268, \"WNT signaling\"], [\"BRAF\", 1268, \"WNT signaling\"], [\"PIK3CA\", 1268, \"WNT signaling\"], [\"TP53\", 154, \"WNT signaling\"], [\"PIK3CA\", 154, \"WNT signaling\"]], \"hoverlabel\": {\"namelength\": 0}, \"hovertemplate\": \"Drug_Targeted_process_or_pathway=%{customdata[2]}<br>SE=%{x}<br>-logP=%{y}<br>F1=%{customdata[0]}<br>F2=%{customdata[1]}\", \"legendgroup\": \"WNT signaling\", \"marker\": {\"color\": \"#00cc96\", \"symbol\": \"circle\"}, \"mode\": \"markers\", \"name\": \"WNT signaling\", \"showlegend\": true, \"type\": \"scatter\", \"x\": [0.9323290221452072, -1.0420822853966736, 0.09731930089366952, -0.06837084065218475, 0.1973200774530231, 0.2260796105653309, -0.3904751572112895, 0.5555932673536811, -0.1826257342142446, 0.041203802371923115, 0.3233071287416291], \"xaxis\": \"x\", \"y\": [4.314417073107663, 2.9976297208021263, 0.2583984492186282, 0.1531563564108923, 0.33740401314162, 0.7417249810619162, 1.1956753434183292, 1.2103603116070818, 0.5744662420809641, 0.09007004527233149, 1.1910289198977964], \"yaxis\": \"y\"}, {\"customdata\": [[\"TP53\", 1028, \"JNK and p38 signaling\"], [\"BRAF\", 1028, \"JNK and p38 signaling\"], [\"PIK3CA\", 1028, \"JNK and p38 signaling\"], [\"TP53\", 1042, \"JNK and p38 signaling\"], [\"BRAF\", 1042, \"JNK and p38 signaling\"], [\"PIK3CA\", 1042, \"JNK and p38 signaling\"], [\"TP53\", 1043, \"JNK and p38 signaling\"], [\"BRAF\", 1043, \"JNK and p38 signaling\"], [\"PIK3CA\", 1043, \"JNK and p38 signaling\"], [\"TP53\", 157, \"JNK and p38 signaling\"], [\"PIK3CA\", 157, \"JNK and p38 signaling\"], [\"TP53\", 207, \"JNK and p38 signaling\"], [\"PIK3CA\", 207, \"JNK and p38 signaling\"], [\"TP53\", 221, \"JNK and p38 signaling\"], [\"PIK3CA\", 221, \"JNK and p38 signaling\"]], \"hoverlabel\": {\"namelength\": 0}, \"hovertemplate\": \"Drug_Targeted_process_or_pathway=%{customdata[2]}<br>SE=%{x}<br>-logP=%{y}<br>F1=%{customdata[0]}<br>F2=%{customdata[1]}\", \"legendgroup\": \"JNK and p38 signaling\", \"marker\": {\"color\": \"#ab63fa\", \"symbol\": \"circle\"}, \"mode\": \"markers\", \"name\": \"JNK and p38 signaling\", \"showlegend\": true, \"type\": \"scatter\", \"x\": [0.6079401137069731, -0.2441120958817401, 0.2815768604368734, -0.19973748077833944, 0.09415431559159858, 0.28735909562232115, 0.3822540836774589, 0.2416518028681908, 0.2428146509348435, 0.2921817150446868, 0.04805433417664876, 0.006744785204433652, 0.1679375701700755, 0.26535327567725553, -0.3432324577357656], \"xaxis\": \"x\", \"y\": [2.2304758159860336, 0.4304428476634764, 0.974544952907699, 0.47754559267998203, 0.1487329400533628, 0.9645258290782092, 1.0755873569082062, 0.4236031789510992, 0.7767219069065456, 0.8173562588994373, 0.1286893314857678, 0.014269611912263678, 0.5321202234808148, 0.7667069884538356, 1.3394074072287276], \"yaxis\": \"y\"}, {\"customdata\": [[\"TP53\", 1046, \"cell cycle\"], [\"BRAF\", 1046, \"cell cycle\"], [\"PIK3CA\", 1046, \"cell cycle\"], [\"TP53\", 1052, \"cell cycle\"], [\"BRAF\", 1052, \"cell cycle\"], [\"PIK3CA\", 1052, \"cell cycle\"], [\"TP53\", 1054, \"cell cycle\"], [\"BRAF\", 1054, \"cell cycle\"], [\"PIK3CA\", 1054, \"cell cycle\"], [\"PIK3CA\", 110, \"cell cycle\"], [\"TP53\", 219, \"cell cycle\"], [\"PIK3CA\", 219, \"cell cycle\"], [\"TP53\", 301, \"cell cycle\"], [\"PIK3CA\", 301, \"cell cycle\"], [\"TP53\", 344, \"cell cycle\"], [\"PIK3CA\", 344, \"cell cycle\"], [\"TP53\", 345, \"cell cycle\"], [\"PIK3CA\", 345, \"cell cycle\"], [\"TP53\", 346, \"cell cycle\"], [\"PIK3CA\", 346, \"cell cycle\"], [\"PIK3CA\", 53, \"cell cycle\"], [\"PIK3CA\", 54, \"cell cycle\"]], \"hoverlabel\": {\"namelength\": 0}, \"hovertemplate\": \"Drug_Targeted_process_or_pathway=%{customdata[2]}<br>SE=%{x}<br>-logP=%{y}<br>F1=%{customdata[0]}<br>F2=%{customdata[1]}\", \"legendgroup\": \"cell cycle\", \"marker\": {\"color\": \"#FFA15A\", \"symbol\": \"circle\"}, \"mode\": \"markers\", \"name\": \"cell cycle\", \"showlegend\": true, \"type\": \"scatter\", \"x\": [0.0433944894895263, 0.23434508326568776, 0.0797241802394248, 0.09599136396314983, 0.5041355355217452, 0.28923867094106004, 0.0565473834313777, 0.4940181614783978, -0.327599775589658, 0.6116235933184893, -0.4773893218284554, 0.1796491486226521, -0.20987521991740266, 0.2435773755440515, -0.5327176907131195, -0.009719546445641436, 0.12637745657410182, 0.310755289676477, -0.8473507672029894, 0.4249409495450705, 1.0486771244404585, 0.4051836390990455], \"xaxis\": \"x\", \"y\": [0.08683793402883516, 0.4012639665245947, 0.19295133840202786, 0.20822436596225274, 1.0533743164932512, 0.9727893318206764, 0.11766552607352875, 1.0230208202057471, 1.112261659426919, 1.0496180331102538, 1.6855025573718243, 0.5814585363744563, 0.5716119224319882, 0.8276291338268948, 1.9769696675315376, 0.025490727248182018, 0.3172178244143375, 1.1697526413912178, 4.114946521775595, 1.81167910002297, 2.2796536402626644, 0.594071207132379], \"yaxis\": \"y\"}, {\"customdata\": [[\"TP53\", 1047, \"p53 pathway\"], [\"BRAF\", 1047, \"p53 pathway\"], [\"PIK3CA\", 1047, \"p53 pathway\"], [\"TP53\", 1133, \"p53 pathway\"], [\"BRAF\", 1133, \"p53 pathway\"], [\"PIK3CA\", 1133, \"p53 pathway\"], [\"TP53\", 269, \"p53 pathway\"], [\"PIK3CA\", 269, \"p53 pathway\"]], \"hoverlabel\": {\"namelength\": 0}, \"hovertemplate\": \"Drug_Targeted_process_or_pathway=%{customdata[2]}<br>SE=%{x}<br>-logP=%{y}<br>F1=%{customdata[0]}<br>F2=%{customdata[1]}\", \"legendgroup\": \"p53 pathway\", \"marker\": {\"color\": \"#19d3f3\", \"symbol\": \"circle\"}, \"mode\": \"markers\", \"name\": \"p53 pathway\", \"showlegend\": true, \"type\": \"scatter\", \"x\": [0.95333122914582, -0.2633999866650979, -0.364071149657636, -0.5025251221289989, 0.20250276188860503, 0.14510725249201106, 0.002395164691752365, 0.2856074912155499], \"xaxis\": \"x\", \"y\": [4.246050361746564, 0.468707445705623, 1.324978367608629, 1.5661265099551798, 0.3454412724477228, 0.4163431872246653, 0.0052661191147106035, 1.0451335470418794], \"yaxis\": \"y\"}, {\"customdata\": [[\"TP53\", 1050, \"mitosis\"], [\"BRAF\", 1050, \"mitosis\"], [\"PIK3CA\", 1050, \"mitosis\"], [\"TP53\", 208, \"mitosis\"], [\"PIK3CA\", 208, \"mitosis\"], [\"TP53\", 225, \"mitosis\"], [\"PIK3CA\", 225, \"mitosis\"], [\"TP53\", 226, \"mitosis\"], [\"PIK3CA\", 226, \"mitosis\"], [\"TP53\", 257, \"mitosis\"], [\"PIK3CA\", 257, \"mitosis\"], [\"TP53\", 294, \"mitosis\"], [\"PIK3CA\", 294, \"mitosis\"], [\"PIK3CA\", 32, \"mitosis\"], [\"PIK3CA\", 41, \"mitosis\"], [\"PIK3CA\", 60, \"mitosis\"], [\"PIK3CA\", 87, \"mitosis\"]], \"hoverlabel\": {\"namelength\": 0}, \"hovertemplate\": \"Drug_Targeted_process_or_pathway=%{customdata[2]}<br>SE=%{x}<br>-logP=%{y}<br>F1=%{customdata[0]}<br>F2=%{customdata[1]}\", \"legendgroup\": \"mitosis\", \"marker\": {\"color\": \"#FF6692\", \"symbol\": \"circle\"}, \"mode\": \"markers\", \"name\": \"mitosis\", \"showlegend\": true, \"type\": \"scatter\", \"x\": [-0.204665115202622, 0.5399820225703053, 0.25501262560678817, -0.4693821299195195, -0.0057329521071175895, -0.19074749359023385, -0.04508351059213562, -0.5159699788962246, 0.11284539106017545, -0.3018355824244713, 0.2143435423758997, 0.08650815546513699, 0.3720165304949079, 0.13875731793617224, 0.6152854235297491, 0.014663281042141424, 0.17848913014866966], \"xaxis\": \"x\", \"y\": [0.4829580120978965, 1.1426182958464015, 0.7635151275664352, 1.6451937647176924, 0.01495824384615691, 0.5115474565837614, 0.12370503820915887, 1.8863266636927556, 0.3369420936732012, 0.9037716325857872, 0.7226913968310047, 0.20823791899066826, 1.4982120074735144, 0.17442145875601126, 1.0203957861501445, 0.01715607302803989, 0.22956731060361255], \"yaxis\": \"y\"}, {\"customdata\": [[\"TP53\", 1053, \"PI3K signaling\"], [\"BRAF\", 1053, \"PI3K signaling\"], [\"PIK3CA\", 1053, \"PI3K signaling\"], [\"TP53\", 1057, \"PI3K signaling\"], [\"BRAF\", 1057, \"PI3K signaling\"], [\"PIK3CA\", 1057, \"PI3K signaling\"], [\"TP53\", 1058, \"PI3K signaling\"], [\"BRAF\", 1058, \"PI3K signaling\"], [\"PIK3CA\", 1058, \"PI3K signaling\"], [\"TP53\", 1066, \"PI3K signaling\"], [\"PIK3CA\", 1066, \"PI3K signaling\"], [\"TP53\", 1527, \"PI3K signaling\"], [\"PIK3CA\", 1527, \"PI3K signaling\"], [\"TP53\", 156, \"PI3K signaling\"], [\"PIK3CA\", 156, \"PI3K signaling\"], [\"TP53\", 167, \"PI3K signaling\"], [\"PIK3CA\", 167, \"PI3K signaling\"], [\"TP53\", 171, \"PI3K signaling\"], [\"PIK3CA\", 171, \"PI3K signaling\"], [\"TP53\", 222, \"PI3K signaling\"], [\"PIK3CA\", 222, \"PI3K signaling\"], [\"TP53\", 223, \"PI3K signaling\"], [\"PIK3CA\", 223, \"PI3K signaling\"], [\"TP53\", 224, \"PI3K signaling\"], [\"PIK3CA\", 224, \"PI3K signaling\"], [\"TP53\", 228, \"PI3K signaling\"], [\"PIK3CA\", 228, \"PI3K signaling\"], [\"TP53\", 238, \"PI3K signaling\"], [\"PIK3CA\", 238, \"PI3K signaling\"], [\"TP53\", 283, \"PI3K signaling\"], [\"PIK3CA\", 283, \"PI3K signaling\"], [\"TP53\", 287, \"PI3K signaling\"], [\"PIK3CA\", 287, \"PI3K signaling\"], [\"TP53\", 302, \"PI3K signaling\"], [\"PIK3CA\", 302, \"PI3K signaling\"], [\"TP53\", 303, \"PI3K signaling\"], [\"PIK3CA\", 303, \"PI3K signaling\"], [\"TP53\", 326, \"PI3K signaling\"], [\"PIK3CA\", 326, \"PI3K signaling\"], [\"PIK3CA\", 86, \"PI3K signaling\"], [\"TP53\", 94, \"PI3K signaling\"], [\"PIK3CA\", 94, \"PI3K signaling\"]], \"hoverlabel\": {\"namelength\": 0}, \"hovertemplate\": \"Drug_Targeted_process_or_pathway=%{customdata[2]}<br>SE=%{x}<br>-logP=%{y}<br>F1=%{customdata[0]}<br>F2=%{customdata[1]}\", \"legendgroup\": \"PI3K signaling\", \"marker\": {\"color\": \"#B6E880\", \"symbol\": \"circle\"}, \"mode\": \"markers\", \"name\": \"PI3K signaling\", \"showlegend\": true, \"type\": \"scatter\", \"x\": [-0.7199085618022034, 0.5868078001817177, -0.4838350016311144, -0.12112447624983542, 0.6994577849651239, 0.08371968906958396, -0.6611797410990978, 0.1822887867009466, -0.4412901788967598, 0.059745953788860384, -0.5669853862245811, -0.6972162036297485, -0.9567417532528771, -0.7374877370653277, -0.15970237208456303, 0.3652958528361305, -0.32794842534341084, -0.4903200682800158, -0.4438820346861469, -0.2012523108804169, 0.21033410635480893, -0.2058323437669054, -0.594819581163545, 0.3350367920154452, -0.4422936294034053, -0.3424386725325676, -0.4623999242890736, -0.11323025546455892, 0.1595055726214326, -0.17257997183276094, -0.5490519684351627, -0.18769195169997907, 0.18717523428258706, -0.07272178283168834, 0.14170626403209444, -0.6104670105015879, -0.4634528581179856, -0.18179115129312587, -0.7569435611756532, -0.7521584199480401, -0.19693412818181816, 0.6091878482492022], \"xaxis\": \"x\", \"y\": [2.663786004924821, 1.2897054501764176, 1.9221607288532592, 0.2690985513840494, 1.6538017467142114, 0.22381243277324828, 2.3456671279222654, 0.30658362393587874, 1.7382585978286371, 0.12516254799265522, 2.5297395549154755, 2.5675546349014513, 6.463545069540375, 3.0394965623302306, 0.4891199930870194, 1.0975786356930473, 1.2480963527838744, 1.6406757192717778, 1.85870195623025, 0.545489579367119, 0.7058558488485285, 0.5604884185361253, 3.0222943057756795, 1.0358097623077418, 1.9207118538500971, 1.06621482153072, 2.0510248096717705, 0.2803409908731386, 0.5039971108083469, 0.4526297566619991, 2.5812707570358446, 0.5017941903582194, 0.6112476611588354, 0.1719084538143628, 0.4278545841792872, 2.4262998124121675, 2.05796827464206, 0.48127782822967, 4.359075057751369, 1.3543788782883603, 0.2713969602739342, 1.0759994282997711], \"yaxis\": \"y\"}, {\"customdata\": [[\"TP53\", 1091, \"IGFR signaling\"], [\"BRAF\", 1091, \"IGFR signaling\"], [\"PIK3CA\", 1091, \"IGFR signaling\"], [\"TP53\", 184, \"IGFR signaling\"], [\"PIK3CA\", 184, \"IGFR signaling\"], [\"TP53\", 185, \"IGFR signaling\"], [\"PIK3CA\", 185, \"IGFR signaling\"], [\"TP53\", 202, \"IGFR signaling\"], [\"PIK3CA\", 202, \"IGFR signaling\"], [\"PIK3CA\", 62, \"IGFR signaling\"]], \"hoverlabel\": {\"namelength\": 0}, \"hovertemplate\": \"Drug_Targeted_process_or_pathway=%{customdata[2]}<br>SE=%{x}<br>-logP=%{y}<br>F1=%{customdata[0]}<br>F2=%{customdata[1]}\", \"legendgroup\": \"IGFR signaling\", \"marker\": {\"color\": \"#FF97FF\", \"symbol\": \"circle\"}, \"mode\": \"markers\", \"name\": \"IGFR signaling\", \"showlegend\": true, \"type\": \"scatter\", \"x\": [0.18051197060757465, 0.2259527012216142, -0.037780140425609086, 0.3483066006457061, -0.04105976927919272, 0.2484676355545193, 0.14478564949987993, -0.01694117300545062, 0.08030871383306303, 0.4420578356009118], \"xaxis\": \"x\", \"y\": [0.4538169355493537, 0.3949187183704635, 0.0998977202997428, 1.0303720260985587, 0.11137097615737064, 0.6694404288303182, 0.4462446667411164, 0.03622580267335816, 0.2287916798839557, 0.6621785907137658], \"yaxis\": \"y\"}, {\"customdata\": [[\"TP53\", 1218, \"chromatin  other\"], [\"BRAF\", 1218, \"chromatin  other\"], [\"PIK3CA\", 1218, \"chromatin  other\"], [\"TP53\", 1219, \"chromatin  other\"], [\"BRAF\", 1219, \"chromatin  other\"], [\"PIK3CA\", 1219, \"chromatin  other\"], [\"TP53\", 163, \"chromatin  other\"], [\"PIK3CA\", 163, \"chromatin  other\"], [\"TP53\", 275, \"chromatin  other\"], [\"PIK3CA\", 275, \"chromatin  other\"]], \"hoverlabel\": {\"namelength\": 0}, \"hovertemplate\": \"Drug_Targeted_process_or_pathway=%{customdata[2]}<br>SE=%{x}<br>-logP=%{y}<br>F1=%{customdata[0]}<br>F2=%{customdata[1]}\", \"legendgroup\": \"chromatin  other\", \"marker\": {\"color\": \"#FECB52\", \"symbol\": \"circle\"}, \"mode\": \"markers\", \"name\": \"chromatin  other\", \"showlegend\": true, \"type\": \"scatter\", \"x\": [0.3623137434832931, -0.27321070382728746, 0.14989865332291386, -0.31208968768474143, 0.31190651270590514, -0.02221210373156269, -0.10707563723064098, 0.4797000671504309, 0.2513808403660158, 0.10422034225661413], \"xaxis\": \"x\", \"y\": [1.07701695852526, 0.4925020179489183, 0.4505323426288866, 0.889413301563465, 0.5784660200720646, 0.05760640381414831, 0.2502987046500866, 2.0842597340211357, 0.7163863950071082, 0.3079065795408557], \"yaxis\": \"y\"}, {\"customdata\": [[\"TP53\", 1236, \"chromatin  histone methylation\"], [\"BRAF\", 1236, \"chromatin  histone methylation\"], [\"PIK3CA\", 1236, \"chromatin  histone methylation\"], [\"TP53\", 1264, \"chromatin  histone methylation\"], [\"BRAF\", 1264, \"chromatin  histone methylation\"], [\"PIK3CA\", 1264, \"chromatin  histone methylation\"], [\"TP53\", 245, \"chromatin  histone methylation\"], [\"PIK3CA\", 245, \"chromatin  histone methylation\"]], \"hoverlabel\": {\"namelength\": 0}, \"hovertemplate\": \"Drug_Targeted_process_or_pathway=%{customdata[2]}<br>SE=%{x}<br>-logP=%{y}<br>F1=%{customdata[0]}<br>F2=%{customdata[1]}\", \"legendgroup\": \"chromatin  histone methylation\", \"marker\": {\"color\": \"#636efa\", \"symbol\": \"circle\"}, \"mode\": \"markers\", \"name\": \"chromatin  histone methylation\", \"showlegend\": true, \"type\": \"scatter\", \"x\": [-0.15469694854304145, -0.40511893506630586, 0.2094244143322593, 0.130597326519373, -0.10843070641249106, 0.1403738623757011, -0.28433016179116954, 0.2211530789460648], \"xaxis\": \"x\", \"y\": [0.3791823329469789, 0.800026869136815, 0.6794142690872703, 0.31143381518469365, 0.1740453438944954, 0.4172180751244313, 0.8369696889719235, 0.7515965702808363], \"yaxis\": \"y\"}],\n",
       "                        {\"legend\": {\"title\": {\"text\": \"Drug_Targeted_process_or_pathway\"}, \"tracegroupgap\": 0}, \"margin\": {\"t\": 60}, \"template\": {\"data\": {\"bar\": [{\"error_x\": {\"color\": \"#2a3f5f\"}, \"error_y\": {\"color\": \"#2a3f5f\"}, \"marker\": {\"line\": {\"color\": \"#E5ECF6\", \"width\": 0.5}}, \"type\": \"bar\"}], \"barpolar\": [{\"marker\": {\"line\": {\"color\": \"#E5ECF6\", \"width\": 0.5}}, \"type\": \"barpolar\"}], \"carpet\": [{\"aaxis\": {\"endlinecolor\": \"#2a3f5f\", \"gridcolor\": \"white\", \"linecolor\": \"white\", \"minorgridcolor\": \"white\", \"startlinecolor\": \"#2a3f5f\"}, \"baxis\": {\"endlinecolor\": \"#2a3f5f\", \"gridcolor\": \"white\", \"linecolor\": \"white\", \"minorgridcolor\": \"white\", \"startlinecolor\": \"#2a3f5f\"}, \"type\": \"carpet\"}], \"choropleth\": [{\"colorbar\": {\"outlinewidth\": 0, \"ticks\": \"\"}, \"type\": \"choropleth\"}], \"contour\": [{\"colorbar\": {\"outlinewidth\": 0, \"ticks\": \"\"}, \"colorscale\": [[0.0, \"#0d0887\"], [0.1111111111111111, \"#46039f\"], [0.2222222222222222, \"#7201a8\"], [0.3333333333333333, \"#9c179e\"], [0.4444444444444444, \"#bd3786\"], [0.5555555555555556, \"#d8576b\"], [0.6666666666666666, \"#ed7953\"], [0.7777777777777778, \"#fb9f3a\"], [0.8888888888888888, \"#fdca26\"], [1.0, \"#f0f921\"]], \"type\": \"contour\"}], \"contourcarpet\": [{\"colorbar\": {\"outlinewidth\": 0, \"ticks\": \"\"}, \"type\": \"contourcarpet\"}], \"heatmap\": [{\"colorbar\": {\"outlinewidth\": 0, \"ticks\": \"\"}, \"colorscale\": [[0.0, \"#0d0887\"], [0.1111111111111111, \"#46039f\"], [0.2222222222222222, \"#7201a8\"], [0.3333333333333333, \"#9c179e\"], [0.4444444444444444, \"#bd3786\"], [0.5555555555555556, \"#d8576b\"], [0.6666666666666666, \"#ed7953\"], [0.7777777777777778, \"#fb9f3a\"], [0.8888888888888888, \"#fdca26\"], [1.0, \"#f0f921\"]], \"type\": \"heatmap\"}], \"heatmapgl\": [{\"colorbar\": {\"outlinewidth\": 0, \"ticks\": \"\"}, \"colorscale\": [[0.0, \"#0d0887\"], [0.1111111111111111, \"#46039f\"], [0.2222222222222222, \"#7201a8\"], [0.3333333333333333, \"#9c179e\"], [0.4444444444444444, \"#bd3786\"], [0.5555555555555556, \"#d8576b\"], [0.6666666666666666, \"#ed7953\"], [0.7777777777777778, \"#fb9f3a\"], [0.8888888888888888, \"#fdca26\"], [1.0, \"#f0f921\"]], \"type\": \"heatmapgl\"}], \"histogram\": [{\"marker\": {\"colorbar\": {\"outlinewidth\": 0, \"ticks\": \"\"}}, \"type\": \"histogram\"}], \"histogram2d\": [{\"colorbar\": {\"outlinewidth\": 0, \"ticks\": \"\"}, \"colorscale\": [[0.0, \"#0d0887\"], [0.1111111111111111, \"#46039f\"], [0.2222222222222222, \"#7201a8\"], [0.3333333333333333, \"#9c179e\"], [0.4444444444444444, \"#bd3786\"], [0.5555555555555556, \"#d8576b\"], [0.6666666666666666, \"#ed7953\"], [0.7777777777777778, \"#fb9f3a\"], [0.8888888888888888, \"#fdca26\"], [1.0, \"#f0f921\"]], \"type\": \"histogram2d\"}], \"histogram2dcontour\": [{\"colorbar\": {\"outlinewidth\": 0, \"ticks\": \"\"}, \"colorscale\": [[0.0, \"#0d0887\"], [0.1111111111111111, \"#46039f\"], [0.2222222222222222, \"#7201a8\"], [0.3333333333333333, \"#9c179e\"], [0.4444444444444444, \"#bd3786\"], [0.5555555555555556, \"#d8576b\"], [0.6666666666666666, \"#ed7953\"], [0.7777777777777778, \"#fb9f3a\"], [0.8888888888888888, \"#fdca26\"], [1.0, \"#f0f921\"]], \"type\": \"histogram2dcontour\"}], \"mesh3d\": [{\"colorbar\": {\"outlinewidth\": 0, \"ticks\": \"\"}, \"type\": \"mesh3d\"}], \"parcoords\": [{\"line\": {\"colorbar\": {\"outlinewidth\": 0, \"ticks\": \"\"}}, \"type\": \"parcoords\"}], \"pie\": [{\"automargin\": true, \"type\": \"pie\"}], \"scatter\": [{\"marker\": {\"colorbar\": {\"outlinewidth\": 0, \"ticks\": \"\"}}, \"type\": \"scatter\"}], \"scatter3d\": [{\"line\": {\"colorbar\": {\"outlinewidth\": 0, \"ticks\": \"\"}}, \"marker\": {\"colorbar\": {\"outlinewidth\": 0, \"ticks\": \"\"}}, \"type\": \"scatter3d\"}], \"scattercarpet\": [{\"marker\": {\"colorbar\": {\"outlinewidth\": 0, \"ticks\": \"\"}}, \"type\": \"scattercarpet\"}], \"scattergeo\": [{\"marker\": {\"colorbar\": {\"outlinewidth\": 0, \"ticks\": \"\"}}, \"type\": \"scattergeo\"}], \"scattergl\": [{\"marker\": {\"colorbar\": {\"outlinewidth\": 0, \"ticks\": \"\"}}, \"type\": \"scattergl\"}], \"scattermapbox\": [{\"marker\": {\"colorbar\": {\"outlinewidth\": 0, \"ticks\": \"\"}}, \"type\": \"scattermapbox\"}], \"scatterpolar\": [{\"marker\": {\"colorbar\": {\"outlinewidth\": 0, \"ticks\": \"\"}}, \"type\": \"scatterpolar\"}], \"scatterpolargl\": [{\"marker\": {\"colorbar\": {\"outlinewidth\": 0, \"ticks\": \"\"}}, \"type\": \"scatterpolargl\"}], \"scatterternary\": [{\"marker\": {\"colorbar\": {\"outlinewidth\": 0, \"ticks\": \"\"}}, \"type\": \"scatterternary\"}], \"surface\": [{\"colorbar\": {\"outlinewidth\": 0, \"ticks\": \"\"}, \"colorscale\": [[0.0, \"#0d0887\"], [0.1111111111111111, \"#46039f\"], [0.2222222222222222, \"#7201a8\"], [0.3333333333333333, \"#9c179e\"], [0.4444444444444444, \"#bd3786\"], [0.5555555555555556, \"#d8576b\"], [0.6666666666666666, \"#ed7953\"], [0.7777777777777778, \"#fb9f3a\"], [0.8888888888888888, \"#fdca26\"], [1.0, \"#f0f921\"]], \"type\": \"surface\"}], \"table\": [{\"cells\": {\"fill\": {\"color\": \"#EBF0F8\"}, \"line\": {\"color\": \"white\"}}, \"header\": {\"fill\": {\"color\": \"#C8D4E3\"}, \"line\": {\"color\": \"white\"}}, \"type\": \"table\"}]}, \"layout\": {\"annotationdefaults\": {\"arrowcolor\": \"#2a3f5f\", \"arrowhead\": 0, \"arrowwidth\": 1}, \"coloraxis\": {\"colorbar\": {\"outlinewidth\": 0, \"ticks\": \"\"}}, \"colorscale\": {\"diverging\": [[0, \"#8e0152\"], [0.1, \"#c51b7d\"], [0.2, \"#de77ae\"], [0.3, \"#f1b6da\"], [0.4, \"#fde0ef\"], [0.5, \"#f7f7f7\"], [0.6, \"#e6f5d0\"], [0.7, \"#b8e186\"], [0.8, \"#7fbc41\"], [0.9, \"#4d9221\"], [1, \"#276419\"]], \"sequential\": [[0.0, \"#0d0887\"], [0.1111111111111111, \"#46039f\"], [0.2222222222222222, \"#7201a8\"], [0.3333333333333333, \"#9c179e\"], [0.4444444444444444, \"#bd3786\"], [0.5555555555555556, \"#d8576b\"], [0.6666666666666666, \"#ed7953\"], [0.7777777777777778, \"#fb9f3a\"], [0.8888888888888888, \"#fdca26\"], [1.0, \"#f0f921\"]], \"sequentialminus\": [[0.0, \"#0d0887\"], [0.1111111111111111, \"#46039f\"], [0.2222222222222222, \"#7201a8\"], [0.3333333333333333, \"#9c179e\"], [0.4444444444444444, \"#bd3786\"], [0.5555555555555556, \"#d8576b\"], [0.6666666666666666, \"#ed7953\"], [0.7777777777777778, \"#fb9f3a\"], [0.8888888888888888, \"#fdca26\"], [1.0, \"#f0f921\"]]}, \"colorway\": [\"#636efa\", \"#EF553B\", \"#00cc96\", \"#ab63fa\", \"#FFA15A\", \"#19d3f3\", \"#FF6692\", \"#B6E880\", \"#FF97FF\", \"#FECB52\"], \"font\": {\"color\": \"#2a3f5f\"}, \"geo\": {\"bgcolor\": \"white\", \"lakecolor\": \"white\", \"landcolor\": \"#E5ECF6\", \"showlakes\": true, \"showland\": true, \"subunitcolor\": \"white\"}, \"hoverlabel\": {\"align\": \"left\"}, \"hovermode\": \"closest\", \"mapbox\": {\"style\": \"light\"}, \"paper_bgcolor\": \"white\", \"plot_bgcolor\": \"#E5ECF6\", \"polar\": {\"angularaxis\": {\"gridcolor\": \"white\", \"linecolor\": \"white\", \"ticks\": \"\"}, \"bgcolor\": \"#E5ECF6\", \"radialaxis\": {\"gridcolor\": \"white\", \"linecolor\": \"white\", \"ticks\": \"\"}}, \"scene\": {\"xaxis\": {\"backgroundcolor\": \"#E5ECF6\", \"gridcolor\": \"white\", \"gridwidth\": 2, \"linecolor\": \"white\", \"showbackground\": true, \"ticks\": \"\", \"zerolinecolor\": \"white\"}, \"yaxis\": {\"backgroundcolor\": \"#E5ECF6\", \"gridcolor\": \"white\", \"gridwidth\": 2, \"linecolor\": \"white\", \"showbackground\": true, \"ticks\": \"\", \"zerolinecolor\": \"white\"}, \"zaxis\": {\"backgroundcolor\": \"#E5ECF6\", \"gridcolor\": \"white\", \"gridwidth\": 2, \"linecolor\": \"white\", \"showbackground\": true, \"ticks\": \"\", \"zerolinecolor\": \"white\"}}, \"shapedefaults\": {\"line\": {\"color\": \"#2a3f5f\"}}, \"ternary\": {\"aaxis\": {\"gridcolor\": \"white\", \"linecolor\": \"white\", \"ticks\": \"\"}, \"baxis\": {\"gridcolor\": \"white\", \"linecolor\": \"white\", \"ticks\": \"\"}, \"bgcolor\": \"#E5ECF6\", \"caxis\": {\"gridcolor\": \"white\", \"linecolor\": \"white\", \"ticks\": \"\"}}, \"title\": {\"x\": 0.05}, \"xaxis\": {\"automargin\": true, \"gridcolor\": \"white\", \"linecolor\": \"white\", \"ticks\": \"\", \"title\": {\"standoff\": 15}, \"zerolinecolor\": \"white\", \"zerolinewidth\": 2}, \"yaxis\": {\"automargin\": true, \"gridcolor\": \"white\", \"linecolor\": \"white\", \"ticks\": \"\", \"title\": {\"standoff\": 15}, \"zerolinecolor\": \"white\", \"zerolinewidth\": 2}}}, \"xaxis\": {\"anchor\": \"y\", \"domain\": [0.0, 1.0], \"title\": {\"text\": \"SE\"}}, \"yaxis\": {\"anchor\": \"x\", \"domain\": [0.0, 1.0], \"title\": {\"text\": \"-logP\"}}},\n",
       "                        {\"responsive\": true}\n",
       "                    ).then(function(){\n",
       "                            \n",
       "var gd = document.getElementById('edfbfdcc-ee24-4f64-9fa6-0604f022ad1c');\n",
       "var x = new MutationObserver(function (mutations, observer) {{\n",
       "        var display = window.getComputedStyle(gd).display;\n",
       "        if (!display || display === 'none') {{\n",
       "            console.log([gd, 'removed!']);\n",
       "            Plotly.purge(gd);\n",
       "            observer.disconnect();\n",
       "        }}\n",
       "}});\n",
       "\n",
       "// Listen for the removal of the full notebook cells\n",
       "var notebookContainer = gd.closest('#notebook-container');\n",
       "if (notebookContainer) {{\n",
       "    x.observe(notebookContainer, {childList: true});\n",
       "}}\n",
       "\n",
       "// Listen for the clearing of the current output cell\n",
       "var outputEl = gd.closest('.output');\n",
       "if (outputEl) {{\n",
       "    x.observe(outputEl, {childList: true});\n",
       "}}\n",
       "\n",
       "                        })\n",
       "                };\n",
       "                });\n",
       "            </script>\n",
       "        </div>"
      ]
     },
     "metadata": {},
     "output_type": "display_data"
    }
   ],
   "source": [
    "result = pd.read_csv(directories['output_dir']+'/'+input_data['Association_file'])\n",
    "Drug_annotation = pd.read_csv(directories['input_dir']+'/'+input_data['Annotation_file'])\n",
    "\n",
    "list_forAnnotate = input_data['list_forAnnotate1']\n",
    "result_annotate = Docket_integration.Annotation_feature(result, input_data['obj_for_annotation'], Drug_annotation, list_forAnnotate, input_data['obj1'],input_data['obj2'],input_data['SizeEffect'],input_data['pvalue'])\n",
    "\n",
    "list_forAnnotate = input_data['list_forAnnotate2']\n",
    "result_annotate = Docket_integration.Annotation_feature(result_annotate, input_data['obj_for_annotation'], Drug_annotation, list_forAnnotate, input_data['obj1'],input_data['obj2'],input_data['SizeEffect'],input_data['pvalue'])\n",
    "\n",
    "list_forAnnotate = input_data['list_forAnnotate3']\n",
    "result_annotate = Docket_integration.Annotation_feature(result_annotate, input_data['obj_for_annotation'], Drug_annotation, list_forAnnotate, input_data['obj1'],input_data['obj2'],input_data['SizeEffect'],input_data['pvalue'])\n"
   ]
  },
  {
   "cell_type": "code",
   "execution_count": 14,
   "metadata": {},
   "outputs": [
    {
     "data": {
      "text/html": [
       "<div>\n",
       "<style scoped>\n",
       "    .dataframe tbody tr th:only-of-type {\n",
       "        vertical-align: middle;\n",
       "    }\n",
       "\n",
       "    .dataframe tbody tr th {\n",
       "        vertical-align: top;\n",
       "    }\n",
       "\n",
       "    .dataframe thead th {\n",
       "        text-align: right;\n",
       "    }\n",
       "</style>\n",
       "<table border=\"1\" class=\"dataframe\">\n",
       "  <thead>\n",
       "    <tr style=\"text-align: right;\">\n",
       "      <th></th>\n",
       "      <th>Unnamed: 0</th>\n",
       "      <th>F1</th>\n",
       "      <th>F2</th>\n",
       "      <th>p</th>\n",
       "      <th>SE</th>\n",
       "      <th>FDR</th>\n",
       "      <th>-logP</th>\n",
       "      <th>Drug_Name</th>\n",
       "      <th>Drug_Putative_Target</th>\n",
       "      <th>Drug_Targeted_process_or_pathway</th>\n",
       "    </tr>\n",
       "  </thead>\n",
       "  <tbody>\n",
       "    <tr>\n",
       "      <td>0</td>\n",
       "      <td>0</td>\n",
       "      <td>TP53</td>\n",
       "      <td>1001</td>\n",
       "      <td>0.571692</td>\n",
       "      <td>0.216467</td>\n",
       "      <td>0.971249</td>\n",
       "      <td>0.559155</td>\n",
       "      <td>AICAR</td>\n",
       "      <td>AAPK1 (AMPK) agonist</td>\n",
       "      <td>metabolism</td>\n",
       "    </tr>\n",
       "    <tr>\n",
       "      <td>1</td>\n",
       "      <td>1</td>\n",
       "      <td>BRAF</td>\n",
       "      <td>1001</td>\n",
       "      <td>0.733103</td>\n",
       "      <td>0.183671</td>\n",
       "      <td>0.976235</td>\n",
       "      <td>0.310470</td>\n",
       "      <td>AICAR</td>\n",
       "      <td>AAPK1 (AMPK) agonist</td>\n",
       "      <td>metabolism</td>\n",
       "    </tr>\n",
       "    <tr>\n",
       "      <td>2</td>\n",
       "      <td>2</td>\n",
       "      <td>PIK3CA</td>\n",
       "      <td>1001</td>\n",
       "      <td>0.757579</td>\n",
       "      <td>0.098851</td>\n",
       "      <td>0.980566</td>\n",
       "      <td>0.277627</td>\n",
       "      <td>AICAR</td>\n",
       "      <td>AAPK1 (AMPK) agonist</td>\n",
       "      <td>metabolism</td>\n",
       "    </tr>\n",
       "    <tr>\n",
       "      <td>3</td>\n",
       "      <td>3</td>\n",
       "      <td>TP53</td>\n",
       "      <td>1003</td>\n",
       "      <td>0.547237</td>\n",
       "      <td>0.230320</td>\n",
       "      <td>0.971249</td>\n",
       "      <td>0.602872</td>\n",
       "      <td>Camptothecin</td>\n",
       "      <td>TOP1</td>\n",
       "      <td>DNA replication</td>\n",
       "    </tr>\n",
       "    <tr>\n",
       "      <td>4</td>\n",
       "      <td>4</td>\n",
       "      <td>BRAF</td>\n",
       "      <td>1003</td>\n",
       "      <td>0.659493</td>\n",
       "      <td>0.237215</td>\n",
       "      <td>0.971249</td>\n",
       "      <td>0.416284</td>\n",
       "      <td>Camptothecin</td>\n",
       "      <td>TOP1</td>\n",
       "      <td>DNA replication</td>\n",
       "    </tr>\n",
       "    <tr>\n",
       "      <td>...</td>\n",
       "      <td>...</td>\n",
       "      <td>...</td>\n",
       "      <td>...</td>\n",
       "      <td>...</td>\n",
       "      <td>...</td>\n",
       "      <td>...</td>\n",
       "      <td>...</td>\n",
       "      <td>...</td>\n",
       "      <td>...</td>\n",
       "      <td>...</td>\n",
       "    </tr>\n",
       "    <tr>\n",
       "      <td>576</td>\n",
       "      <td>576</td>\n",
       "      <td>PIK3CA</td>\n",
       "      <td>9</td>\n",
       "      <td>0.986194</td>\n",
       "      <td>-0.011290</td>\n",
       "      <td>0.994755</td>\n",
       "      <td>0.013902</td>\n",
       "      <td>MG-132</td>\n",
       "      <td>Proteasome</td>\n",
       "      <td>other</td>\n",
       "    </tr>\n",
       "    <tr>\n",
       "      <td>577</td>\n",
       "      <td>577</td>\n",
       "      <td>TP53</td>\n",
       "      <td>91</td>\n",
       "      <td>0.761277</td>\n",
       "      <td>-0.197817</td>\n",
       "      <td>0.980566</td>\n",
       "      <td>0.272758</td>\n",
       "      <td>KIN001-135</td>\n",
       "      <td>IKKE</td>\n",
       "      <td>other</td>\n",
       "    </tr>\n",
       "    <tr>\n",
       "      <td>578</td>\n",
       "      <td>578</td>\n",
       "      <td>PIK3CA</td>\n",
       "      <td>91</td>\n",
       "      <td>0.730133</td>\n",
       "      <td>0.224476</td>\n",
       "      <td>0.976235</td>\n",
       "      <td>0.314529</td>\n",
       "      <td>KIN001-135</td>\n",
       "      <td>IKKE</td>\n",
       "      <td>other</td>\n",
       "    </tr>\n",
       "    <tr>\n",
       "      <td>579</td>\n",
       "      <td>579</td>\n",
       "      <td>TP53</td>\n",
       "      <td>94</td>\n",
       "      <td>0.762314</td>\n",
       "      <td>-0.196934</td>\n",
       "      <td>0.980566</td>\n",
       "      <td>0.271397</td>\n",
       "      <td>TGX221</td>\n",
       "      <td>PI3Kbeta</td>\n",
       "      <td>PI3K signaling</td>\n",
       "    </tr>\n",
       "    <tr>\n",
       "      <td>580</td>\n",
       "      <td>580</td>\n",
       "      <td>PIK3CA</td>\n",
       "      <td>94</td>\n",
       "      <td>0.340957</td>\n",
       "      <td>0.609188</td>\n",
       "      <td>0.971249</td>\n",
       "      <td>1.075999</td>\n",
       "      <td>TGX221</td>\n",
       "      <td>PI3Kbeta</td>\n",
       "      <td>PI3K signaling</td>\n",
       "    </tr>\n",
       "  </tbody>\n",
       "</table>\n",
       "<p>581 rows × 10 columns</p>\n",
       "</div>"
      ],
      "text/plain": [
       "     Unnamed: 0      F1    F2         p        SE       FDR     -logP  \\\n",
       "0             0    TP53  1001  0.571692  0.216467  0.971249  0.559155   \n",
       "1             1    BRAF  1001  0.733103  0.183671  0.976235  0.310470   \n",
       "2             2  PIK3CA  1001  0.757579  0.098851  0.980566  0.277627   \n",
       "3             3    TP53  1003  0.547237  0.230320  0.971249  0.602872   \n",
       "4             4    BRAF  1003  0.659493  0.237215  0.971249  0.416284   \n",
       "..          ...     ...   ...       ...       ...       ...       ...   \n",
       "576         576  PIK3CA     9  0.986194 -0.011290  0.994755  0.013902   \n",
       "577         577    TP53    91  0.761277 -0.197817  0.980566  0.272758   \n",
       "578         578  PIK3CA    91  0.730133  0.224476  0.976235  0.314529   \n",
       "579         579    TP53    94  0.762314 -0.196934  0.980566  0.271397   \n",
       "580         580  PIK3CA    94  0.340957  0.609188  0.971249  1.075999   \n",
       "\n",
       "        Drug_Name  Drug_Putative_Target Drug_Targeted_process_or_pathway  \n",
       "0           AICAR  AAPK1 (AMPK) agonist                       metabolism  \n",
       "1           AICAR  AAPK1 (AMPK) agonist                       metabolism  \n",
       "2           AICAR  AAPK1 (AMPK) agonist                       metabolism  \n",
       "3    Camptothecin                  TOP1                  DNA replication  \n",
       "4    Camptothecin                  TOP1                  DNA replication  \n",
       "..            ...                   ...                              ...  \n",
       "576        MG-132            Proteasome                            other  \n",
       "577    KIN001-135                  IKKE                            other  \n",
       "578    KIN001-135                  IKKE                            other  \n",
       "579        TGX221              PI3Kbeta                   PI3K signaling  \n",
       "580        TGX221              PI3Kbeta                   PI3K signaling  \n",
       "\n",
       "[581 rows x 10 columns]"
      ]
     },
     "execution_count": 14,
     "metadata": {},
     "output_type": "execute_result"
    }
   ],
   "source": [
    "result"
   ]
  },
  {
   "cell_type": "code",
   "execution_count": 15,
   "metadata": {},
   "outputs": [],
   "source": [
    "result_annotate.to_csv(directories['output_dir']+'/'+input_data['output_file'])\n"
   ]
  },
  {
   "cell_type": "code",
   "execution_count": 16,
   "metadata": {},
   "outputs": [],
   "source": [
    "sen = Docket_integration.enrichment_forSignificance_sen_all(result_annotate, input_data2['Feature1'],input_data2['Feature2'], 0.05)\n",
    "res = Docket_integration.enrichment_forSignificance_res_all(result_annotate, input_data2['Feature1'],input_data2['Feature2'], 0.05)"
   ]
  },
  {
   "cell_type": "code",
   "execution_count": 17,
   "metadata": {},
   "outputs": [],
   "source": [
    "sen.to_csv(directories['output_dir'] + '/' + input_data2['output_sen'])\n",
    "res.to_csv(directories['output_dir'] + '/' + input_data2['output_res'])"
   ]
  },
  {
   "cell_type": "code",
   "execution_count": 18,
   "metadata": {},
   "outputs": [
    {
     "name": "stdout",
     "output_type": "stream",
     "text": [
      "Sensitivity pairs:\n",
      "     Gene      mol_action         p\n",
      "0  PIK3CA  PI3K signaling  0.026504\n",
      "1  PIK3CA    cytoskeleton  0.046326\n",
      "\n",
      "Resistance pairs:\n",
      "     Gene            mol_action         p\n",
      "0  PIK3CA  apoptosis regulation  0.000849\n"
     ]
    }
   ],
   "source": [
    "print(\"Sensitivity pairs:\")\n",
    "print(sen)\n",
    "print(\"\\nResistance pairs:\")\n",
    "print(res)"
   ]
  }
 ],
 "metadata": {
  "kernelspec": {
   "display_name": "Python 3",
   "language": "python",
   "name": "python3"
  },
  "language_info": {
   "codemirror_mode": {
    "name": "ipython",
    "version": 3
   },
   "file_extension": ".py",
   "mimetype": "text/x-python",
   "name": "python",
   "nbconvert_exporter": "python",
   "pygments_lexer": "ipython3",
   "version": "3.7.4"
  }
 },
 "nbformat": 4,
 "nbformat_minor": 2
}
