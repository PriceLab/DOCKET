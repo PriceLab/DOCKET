{
 "cells": [
  {
   "cell_type": "code",
   "execution_count": null,
   "metadata": {},
   "outputs": [],
   "source": [
    "import sys\n",
    "import matplotlib.pyplot as plt\n",
    "import pandas as pd\n",
    "import scipy\n",
    "from scipy import stats \n",
    "import numpy as np\n",
    "import json\n",
    "import statsmodels.stats.multitest as multi\n",
    "import matplotlib.pyplot as plt\n",
    "import math\n",
    "sys.path.append('../scripts/')\n",
    "import Docket_integration\n"
   ]
  },
  {
   "cell_type": "code",
   "execution_count": null,
   "metadata": {},
   "outputs": [],
   "source": [
    "input_data = {'Association_file': \"../Output/LUAD_GDSC_mut_drug_pair.csv\",\n",
    "              'Annotation_file': \"../Data/GDSC_Drug_anno.csv\",\n",
    "              'list_forAnnotate1':['Drug_identifier','Drug_Name'],\n",
    "              'list_forAnnotate2':['Drug_identifier','Drug_Putative_Target'],\n",
    "              'list_forAnnotate3':['Drug_identifier','Drug_Targeted_process_or_pathway'],\n",
    "              'obj_for_annotation':'F2',\n",
    "              'obj1':'F1',\n",
    "              'obj2':'F2',\n",
    "              'SizeEffect':'SE',\n",
    "              'pvalue':'-logP',\n",
    "              'output_file':\"../Output/LUAD_GDSC_mut_drug_pair_annotated.csv\"\n",
    "             }"
   ]
  },
  {
   "cell_type": "code",
   "execution_count": null,
   "metadata": {},
   "outputs": [],
   "source": [
    "input_data2 = {'Feature1': 'F1',\n",
    "               'Feature2': 'Drug_Targeted_process_or_pathway',\n",
    "               'Threshold_p': \"0.05\",\n",
    "               'output_sen':\"../Output/LUAD_GDSC_mut_drug_pair_annotated_enriched_sen.csv\",\n",
    "               'output_res':\"../Output/LUAD_GDSC_mut_drug_pair_annotated_enriched_res.csv\"\n",
    "              }"
   ]
  },
  {
   "cell_type": "code",
   "execution_count": null,
   "metadata": {},
   "outputs": [],
   "source": [
    "result = pd.read_csv(input_data['Association_file'])\n",
    "Drug_annotation = pd.read_csv(input_data['Annotation_file'])\n",
    "\n",
    "list_forAnnotate = input_data['list_forAnnotate1']\n",
    "result_annotate = Docket_integration.Annotation_feature(result, input_data['obj_for_annotation'], Drug_annotation, list_forAnnotate, input_data['obj1'],input_data['obj2'],input_data['SizeEffect'],input_data['pvalue'])\n",
    "\n",
    "list_forAnnotate = input_data['list_forAnnotate2']\n",
    "result_annotate = Docket_integration.Annotation_feature(result_annotate, input_data['obj_for_annotation'], Drug_annotation, list_forAnnotate, input_data['obj1'],input_data['obj2'],input_data['SizeEffect'],input_data['pvalue'])\n",
    "\n",
    "list_forAnnotate = input_data['list_forAnnotate3']\n",
    "result_annotate = Docket_integration.Annotation_feature(result_annotate, input_data['obj_for_annotation'], Drug_annotation, list_forAnnotate, input_data['obj1'],input_data['obj2'],input_data['SizeEffect'],input_data['pvalue'])\n"
   ]
  },
  {
   "cell_type": "code",
   "execution_count": null,
   "metadata": {},
   "outputs": [],
   "source": [
    "result"
   ]
  },
  {
   "cell_type": "code",
   "execution_count": null,
   "metadata": {},
   "outputs": [],
   "source": [
    "result_annotate.to_csv(input_data['output_file'])\n"
   ]
  },
  {
   "cell_type": "code",
   "execution_count": null,
   "metadata": {},
   "outputs": [],
   "source": [
    "sen = Docket_integration.enrichment_forSignificance_sen_all(result_annotate, input_data2['Feature1'],input_data2['Feature2'], 0.05)\n",
    "res = Docket_integration.enrichment_forSignificance_res_all(result_annotate, input_data2['Feature1'],input_data2['Feature2'], 0.05)"
   ]
  },
  {
   "cell_type": "code",
   "execution_count": null,
   "metadata": {},
   "outputs": [],
   "source": [
    "sen.to_csv(input_data2['output_sen'])\n",
    "res.to_csv(input_data2['output_res'])"
   ]
  },
  {
   "cell_type": "code",
   "execution_count": null,
   "metadata": {},
   "outputs": [],
   "source": [
    "print(\"Sensitivity pairs:\")\n",
    "print(sen)\n",
    "print(\"\\nResistance pairs:\")\n",
    "print(res)"
   ]
  }
 ],
 "metadata": {
  "kernelspec": {
   "display_name": "Python 3",
   "language": "python",
   "name": "python3"
  },
  "language_info": {
   "codemirror_mode": {
    "name": "ipython",
    "version": 3
   },
   "file_extension": ".py",
   "mimetype": "text/x-python",
   "name": "python",
   "nbconvert_exporter": "python",
   "pygments_lexer": "ipython3",
   "version": "3.7.4"
  }
 },
 "nbformat": 4,
 "nbformat_minor": 2
}
