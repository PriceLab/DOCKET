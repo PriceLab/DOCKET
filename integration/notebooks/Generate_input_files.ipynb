{
 "cells": [
  {
   "cell_type": "code",
   "execution_count": 1,
   "metadata": {},
   "outputs": [],
   "source": [
    "import Query\n",
    "import Docket_OverView\n",
    "import Docket_integration\n",
    "import pandas as pd\n",
    "import scipy.stats as stats\n",
    "import os"
   ]
  },
  {
   "cell_type": "code",
   "execution_count": 2,
   "metadata": {},
   "outputs": [],
   "source": [
    "output_dir = \"../Data_input_for_BRCA/\"\n",
    "if os.path.isdir(output_dir) == False:\n",
    "    os.mkdir(output_dir)"
   ]
  },
  {
   "cell_type": "code",
   "execution_count": 3,
   "metadata": {},
   "outputs": [],
   "source": [
    "Query_WES = \"\"\"\n",
    "select COSMIC_identifier, HGNC_gene_symbol , AA_change,  Variant_Classification from `isb-cgc-04-0002.GDSC_v0.WES_variants` \n",
    "where COSMIC_identifier in \n",
    "(select COSMIC_identifier from `isb-cgc-04-0002.GDSC_v0.Cell_Line_Details`\n",
    "where TCGA_Cancer_Type = 'BRCA' and Whole_Exome_Sequencing = 'Y' )\n",
    "\"\"\"\n",
    "\n",
    "mut = Query.Query_FromGCloud(Query_WES)\n",
    "mut.to_csv(output_dir+\"GDSC_MUT.csv\")"
   ]
  },
  {
   "cell_type": "code",
   "execution_count": 4,
   "metadata": {},
   "outputs": [],
   "source": [
    "Query_Mut_TCGA = \"\"\"\n",
    "select sample_barcode_tumor,Hugo_Symbol, HGVSp_Short,Variant_Type \n",
    "from `pancancer-atlas.Annotated.mc3_v0_2_8_PUBLIC_maf`\n",
    "where project_short_name = 'TCGA-BRCA' and Variant_Classification in ('Frame_Shift_Ins','Nonsense_Mutation','Translation_Start_Site','In_Frame_Ins','Missense_Mutation','Splice_Site','Nonstop_Mutation')\n",
    "\"\"\"\n",
    "Mut_TCGA = Query.Query_FromGCloud(Query_Mut_TCGA)\n",
    "Mut_TCGA.to_csv(output_dir+ \"TCGA_mut.csv\")"
   ]
  },
  {
   "cell_type": "code",
   "execution_count": 5,
   "metadata": {},
   "outputs": [],
   "source": [
    "Query_Drug = \"\"\"\n",
    "select COSMIC_identifier, Cell_Line_Name, Drug_identifier, IC50, AUC from `isb-cgc-04-0002.GDSC_v0.Drug_Response`\n",
    "where COSMIC_identifier in \n",
    "(select COSMIC_identifier from `isb-cgc-04-0002.GDSC_v0.Cell_Line_Details`\n",
    "where TCGA_Cancer_Type = 'BRCA' and Whole_Exome_Sequencing = 'Y' and Drug_Response = 'Y')\n",
    "\"\"\"\n",
    "\n",
    "drug = Query.Query_FromGCloud(Query_Drug)\n",
    "drug.to_csv(output_dir+ \"GDSC_drug.csv\")"
   ]
  },
  {
   "cell_type": "code",
   "execution_count": 6,
   "metadata": {},
   "outputs": [],
   "source": [
    "query_EXP = '''\n",
    "select COSMIC_identifier, gene_symbol, RMA_proc_basalExp from `isb-cgc-04-0002.GDSC_v0.Basal_Gene_Exp`\n",
    "where COSMIC_identifier in \n",
    "(select COSMIC_identifier from `isb-cgc-04-0002.GDSC_v0.Cell_Line_Details`\n",
    "where TCGA_Cancer_Type = 'BRCA' and Whole_Exome_Sequencing = 'Y' )\n",
    "'''\n",
    "\n",
    "Expr = Query.Query_FromGCloud(query_EXP)\n",
    "Expr.to_csv(output_dir+\"GDSC_Expr.csv\")"
   ]
  },
  {
   "cell_type": "code",
   "execution_count": 7,
   "metadata": {},
   "outputs": [],
   "source": [
    "Mut_TCGA['new_id'] = Mut_TCGA['Hugo_Symbol'] + Mut_TCGA['HGVSp_Short']\n",
    "mut['new_id'] = mut['HGNC_gene_symbol'] + mut['AA_change']\n"
   ]
  },
  {
   "cell_type": "code",
   "execution_count": 8,
   "metadata": {},
   "outputs": [],
   "source": [
    "mut.to_csv(output_dir+\"Mut_site_GDSC.csv\")\n",
    "Mut_TCGA.to_csv(output_dir+ \"Mut_site_TCGA.csv\")"
   ]
  },
  {
   "cell_type": "code",
   "execution_count": 9,
   "metadata": {},
   "outputs": [],
   "source": [
    "Mut_TCGA_matrix = Docket_integration.generate_mutation_matrix(Mut_TCGA,\"sample_barcode_tumor\",\"Hugo_Symbol\",\"\")\n",
    "Mut_TCGA_matrix.to_csv(output_dir+ \"Mut_TCGA_matrix.csv\")"
   ]
  },
  {
   "cell_type": "code",
   "execution_count": 10,
   "metadata": {},
   "outputs": [],
   "source": [
    "Mut_GDSC_matrix = Docket_integration.generate_mutation_matrix(mut,\"COSMIC_identifier\",\"HGNC_gene_symbol\",\"\")\n",
    "Mut_GDSC_matrix.to_csv(output_dir+ \"Mut_GDSC_matrix.csv\")"
   ]
  },
  {
   "cell_type": "code",
   "execution_count": 11,
   "metadata": {},
   "outputs": [],
   "source": [
    "Drug_GDSC_matrix = Docket_integration.generate_countious_matrix(drug,\"COSMIC_identifier\",\"Drug_identifier\",\"IC50\",\"\")\n",
    "Drug_GDSC_matrix.to_csv(output_dir+ \"Drug_GDSC_matrix.csv\")"
   ]
  },
  {
   "cell_type": "code",
   "execution_count": 12,
   "metadata": {},
   "outputs": [],
   "source": [
    "Exp_GDSC_matrix = Docket_integration.generate_countious_matrix(Expr,\"COSMIC_identifier\",\"gene_symbol\",\"RMA_proc_basalExp\",\"Exp\")\n",
    "Exp_GDSC_matrix.to_csv(output_dir + \"Exp_GDSC_matrix.csv\" )"
   ]
  }
 ],
 "metadata": {
  "kernelspec": {
   "display_name": "Python 3",
   "language": "python",
   "name": "python3"
  },
  "language_info": {
   "codemirror_mode": {
    "name": "ipython",
    "version": 3
   },
   "file_extension": ".py",
   "mimetype": "text/x-python",
   "name": "python",
   "nbconvert_exporter": "python",
   "pygments_lexer": "ipython3",
   "version": "3.7.3"
  }
 },
 "nbformat": 4,
 "nbformat_minor": 2
}
