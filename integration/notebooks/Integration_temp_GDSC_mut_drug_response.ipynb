{
 "cells": [
  {
   "cell_type": "code",
   "execution_count": null,
   "metadata": {},
   "outputs": [],
   "source": [
    "import sys\n",
    "import matplotlib.pyplot as plt\n",
    "import pandas as pd\n",
    "import scipy\n",
    "from scipy import stats \n",
    "import numpy as np\n",
    "import json\n",
    "import statsmodels.stats.multitest as multi\n",
    "import matplotlib.pyplot as plt\n",
    "import math\n",
    "sys.path.append('../scripts/')\n",
    "import Docket_integration"
   ]
  },
  {
   "cell_type": "code",
   "execution_count": null,
   "metadata": {},
   "outputs": [],
   "source": [
    "input_data = {\n",
    "         \"input_file_1\": \"../Output/LUAD_GDSC_mut_matrix.csv\",\n",
    "         \"input_file_2\": \"../Output/LUAD_GDSC_drugResponse_matrix.csv\",\n",
    "         \"output_file\": \"../Output/LUAD_GDSC_mut_drug_merge.csv\"\n",
    "        }"
   ]
  },
  {
   "cell_type": "code",
   "execution_count": null,
   "metadata": {},
   "outputs": [],
   "source": [
    "input_data2 = {\"Genelist\": ['PIK3CA','TP53','KRAS','EGFR'],   #Select the genes mutations for analysis\n",
    "             \"Druglist\":[],                                                        #If no drug is selected, all drugs will be used!\n",
    "             \"Output\": \"../Output/LUAD_GDSC_mut_drug_pair.csv\"                      #The output file for drugs which show sensitivity or resistance to the gene mutations\n",
    "            }"
   ]
  },
  {
   "cell_type": "code",
   "execution_count": null,
   "metadata": {},
   "outputs": [],
   "source": [
    "Mut_mat = pd.read_csv(input_data['input_file_1'], index_col = \"Unnamed: 0\")\n",
    "drug_matrix = pd.read_csv(input_data['input_file_2'], index_col = \"Unnamed: 0\")"
   ]
  },
  {
   "cell_type": "code",
   "execution_count": null,
   "metadata": {},
   "outputs": [],
   "source": [
    "label_for_merge = Docket_integration.matrix_comp(Mut_mat,drug_matrix )   "
   ]
  },
  {
   "cell_type": "code",
   "execution_count": null,
   "metadata": {},
   "outputs": [],
   "source": [
    "if label_for_merge[0] == 1:\n",
    "    Merged_mat = Docket_integration.merge_matrix(Mut_mat, drug_matrix, 'Row','Row')\n",
    "elif label_for_merge[1] == 1:\n",
    "    Merged_mat = Docket_integration.merge_matrix(Mut_mat, drug_matrix, 'Col','Col')\n",
    "    \n",
    "Merged_mat.to_csv(input_data['output_file'])"
   ]
  },
  {
   "cell_type": "code",
   "execution_count": null,
   "metadata": {},
   "outputs": [],
   "source": [
    "if len(input_data2['Genelist']) > 0:\n",
    "    Features_groupA = input_data2['Genelist']\n",
    "else:\n",
    "    Features_groupA = list(Mut_mat.columns.values)\n",
    "\n",
    "if len(input_data2['Druglist']) > 0:\n",
    "    Features_groupB = input_data2['Druglist']\n",
    "else:\n",
    "    Features_groupB = list(drug_matrix.columns.values)\n",
    "\n",
    "\n",
    "result = Docket_integration.Integration_category_numeric(Merged_mat, Features_groupA, Features_groupB)"
   ]
  },
  {
   "cell_type": "code",
   "execution_count": null,
   "metadata": {},
   "outputs": [],
   "source": [
    "result.to_csv(input_data2['Output'])"
   ]
  },
  {
   "cell_type": "code",
   "execution_count": null,
   "metadata": {},
   "outputs": [],
   "source": [
    "result.loc[result['FDR'] < 0.05].sort_values(by = ['FDR'])"
   ]
  },
  {
   "cell_type": "code",
   "execution_count": null,
   "metadata": {},
   "outputs": [],
   "source": []
  }
 ],
 "metadata": {
  "kernelspec": {
   "display_name": "Python 3",
   "language": "python",
   "name": "python3"
  },
  "language_info": {
   "codemirror_mode": {
    "name": "ipython",
    "version": 3
   },
   "file_extension": ".py",
   "mimetype": "text/x-python",
   "name": "python",
   "nbconvert_exporter": "python",
   "pygments_lexer": "ipython3",
   "version": "3.7.4"
  }
 },
 "nbformat": 4,
 "nbformat_minor": 2
}
