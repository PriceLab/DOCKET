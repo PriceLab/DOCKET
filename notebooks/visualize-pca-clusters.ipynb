{
 "cells": [
  {
   "cell_type": "code",
   "execution_count": null,
   "metadata": {},
   "outputs": [],
   "source": [
    "import json\n",
    "import numpy as np\n",
    "import pandas as pd\n",
    "import matplotlib.pyplot as plt\n",
    "from mpl_toolkits.mplot3d import Axes3D"
   ]
  },
  {
   "cell_type": "markdown",
   "metadata": {},
   "source": [
    "### Load PCA Clustering Results (Row- and Column-wise)"
   ]
  },
  {
   "cell_type": "code",
   "execution_count": null,
   "metadata": {},
   "outputs": [],
   "source": [
    "# Import row-wise PCA and clustering results\n",
    "rows_pca = pd.read_json('rows_pca.pca.gz')\n",
    "rows_hier_cluster = pd.read_csv('rows_hier_clusters.txt', sep='\\t', index_col=0)\n",
    "rows_labels, rows_index, rows_data = list(json.loads(rows_hier_cluster.to_json(orient='split')).values())\n",
    "\n",
    "# Import columne-wise PCA and clustering results\n",
    "cols_pca = pd.read_json('cols_pca.pca.gz')\n",
    "cols_hier_cluster = pd.read_csv('cols_hier_clusters.txt', sep='\\t', index_col=0)\n",
    "cols_labels, cols_index, cols_data = list(json.loads(cols_hier_cluster.to_json(orient='split')).values())"
   ]
  },
  {
   "cell_type": "code",
   "execution_count": null,
   "metadata": {},
   "outputs": [],
   "source": [
    "def plot_scatter_projections(data, labels):\n",
    "    c1, c2, c3, c4 = data\n",
    "    c1lab, c2lab, c3lab, c4lab = labels\n",
    "    size = 20\n",
    "    \n",
    "    fig = plt.figure(figsize=(15,9))\n",
    "    cm = plt.cm.get_cmap('RdYlBu')\n",
    "    ax1 = fig.add_subplot(221, projection='3d')\n",
    "    scat1 = ax1.scatter(c1, c2, c3, zdir='z', c=c4, marker='o', s=size, depthshade=False, cmap=cm)\n",
    "    ax1.set_xlabel(c1lab); ax1.set_ylabel(c2lab); ax1.set_zlabel(c3lab)\n",
    "\n",
    "    ax2 = plt.subplot(222)\n",
    "    scat2 = plt.scatter(c2, c3, s=size, c=c4, cmap=cm)\n",
    "    ax2.set_xlabel(c2lab); ax2.set_ylabel(c3lab)\n",
    "\n",
    "    ax3 = plt.subplot(223)\n",
    "    scat3 = plt.scatter(c1, c3, s=size, c=c4, cmap=cm)\n",
    "    ax3.set_xlabel(c1lab); ax3.set_ylabel(c3lab)\n",
    "\n",
    "    ax4 = plt.subplot(224)\n",
    "    scat4 = plt.scatter(c1, c2, s=size, c=c4, cmap=cm)\n",
    "    ax4.set_xlabel(c1lab); ax4.set_ylabel(c2lab)\n",
    "\n",
    "    plt.show()"
   ]
  },
  {
   "cell_type": "markdown",
   "metadata": {},
   "source": [
    "## Row Results\n",
    "### Visualization with 2 Clusters"
   ]
  },
  {
   "cell_type": "code",
   "execution_count": null,
   "metadata": {},
   "outputs": [],
   "source": [
    "c1, c2, c3 = rows_pca.iloc[:3].values\n",
    "c4 = rows_data[-1]\n",
    "pca_comp = (c1, c2, c3, c4)\n",
    "comp_labels = ('PC1', 'PC2', 'PC3', 'Cluster')\n",
    "plot_scatter_projections(pca_comp, comp_labels)"
   ]
  },
  {
   "cell_type": "markdown",
   "metadata": {},
   "source": [
    "### Visualization with 3 Clusters"
   ]
  },
  {
   "cell_type": "code",
   "execution_count": null,
   "metadata": {},
   "outputs": [],
   "source": [
    "c1, c2, c3 = rows_pca.iloc[:3].values\n",
    "c4 = rows_data[-2]\n",
    "pca_comp = (c1, c2, c3, c4)\n",
    "comp_labels = ('PC1', 'PC2', 'PC3', 'Cluster')\n",
    "plot_scatter_projections(pca_comp, comp_labels)"
   ]
  },
  {
   "cell_type": "markdown",
   "metadata": {},
   "source": [
    "### Visualization with 4 Clusters"
   ]
  },
  {
   "cell_type": "code",
   "execution_count": null,
   "metadata": {},
   "outputs": [],
   "source": [
    "c1, c2, c3 = rows_pca.iloc[:3].values\n",
    "c4 = rows_data[-3]\n",
    "pca_comp = (c1, c2, c3, c4)\n",
    "comp_labels = ('PC1', 'PC2', 'PC3', 'Cluster')\n",
    "plot_scatter_projections(pca_comp, comp_labels)"
   ]
  },
  {
   "cell_type": "markdown",
   "metadata": {},
   "source": [
    "## Column Results\n",
    "### Visualization with 2 Clusters"
   ]
  },
  {
   "cell_type": "code",
   "execution_count": null,
   "metadata": {},
   "outputs": [],
   "source": [
    "c1, c2, c3 = cols_pca.iloc[:3].values\n",
    "c4 = cols_data[-1]\n",
    "pca_comp = (c1, c2, c3, c4)\n",
    "comp_labels = ('PC1', 'PC2', 'PC3', 'Cluster')\n",
    "plot_scatter_projections(pca_comp, comp_labels)"
   ]
  },
  {
   "cell_type": "markdown",
   "metadata": {},
   "source": [
    "### Visualization with 3 Clusters"
   ]
  },
  {
   "cell_type": "code",
   "execution_count": null,
   "metadata": {},
   "outputs": [],
   "source": [
    "c1, c2, c3 = cols_pca.iloc[:3].values\n",
    "c4 = cols_data[-2]\n",
    "pca_comp = (c1, c2, c3, c4)\n",
    "comp_labels = ('PC1', 'PC2', 'PC3', 'Cluster')\n",
    "plot_scatter_projections(pca_comp, comp_labels)"
   ]
  },
  {
   "cell_type": "markdown",
   "metadata": {},
   "source": [
    "### Visualization with 4 Clusters"
   ]
  },
  {
   "cell_type": "code",
   "execution_count": null,
   "metadata": {},
   "outputs": [],
   "source": [
    "c1, c2, c3 = cols_pca.iloc[:3].values\n",
    "c4 = cols_data[-3]\n",
    "pca_comp = (c1, c2, c3, c4)\n",
    "comp_labels = ('PC1', 'PC2', 'PC3', 'Cluster')\n",
    "plot_scatter_projections(pca_comp, comp_labels)"
   ]
  },
  {
   "cell_type": "code",
   "execution_count": null,
   "metadata": {},
   "outputs": [],
   "source": []
  }
 ],
 "metadata": {
  "kernelspec": {
   "display_name": "Python 3",
   "language": "python",
   "name": "python3"
  },
  "language_info": {
   "codemirror_mode": {
    "name": "ipython",
    "version": 3
   },
   "file_extension": ".py",
   "mimetype": "text/x-python",
   "name": "python",
   "nbconvert_exporter": "python",
   "pygments_lexer": "ipython3",
   "version": "3.7.4"
  }
 },
 "nbformat": 4,
 "nbformat_minor": 2
}
