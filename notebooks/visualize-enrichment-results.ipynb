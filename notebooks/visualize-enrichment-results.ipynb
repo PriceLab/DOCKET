{
 "cells": [
  {
   "cell_type": "code",
   "execution_count": null,
   "metadata": {},
   "outputs": [],
   "source": [
    "import json\n",
    "import numpy as np\n",
    "import pandas as pd\n",
    "import matplotlib.pyplot as plt\n",
    "from mpl_toolkits.mplot3d import Axes3D\n",
    "import results"
   ]
  },
  {
   "cell_type": "markdown",
   "metadata": {},
   "source": [
    "## Clustered PCA Results"
   ]
  },
  {
   "cell_type": "code",
   "execution_count": null,
   "metadata": {},
   "outputs": [],
   "source": [
    "# Import row-wise PCA and clustering results\n",
    "rows_pca = pd.read_table('rows_numeric_pca.pca.gz', index_col=0, header=None)\n",
    "rows_hier_cluster = pd.read_csv('cluster_labels.txt.gz', sep='\\t', index_col=0)\n",
    "rows_labels, rows_index, rows_data = list(json.loads(rows_hier_cluster.to_json(orient='split')).values())"
   ]
  },
  {
   "cell_type": "markdown",
   "metadata": {},
   "source": [
    "### Visualization with 2 Clusters"
   ]
  },
  {
   "cell_type": "code",
   "execution_count": null,
   "metadata": {},
   "outputs": [],
   "source": [
    "c1, c2, c3 = rows_pca.iloc[:,:3].T.values\n",
    "c4 = rows_data[1]\n",
    "pca_comp = (c1, c2, c3, c4)\n",
    "comp_labels = ('PC1', 'PC2', 'PC3', 'Cluster')\n",
    "results.plot_scatter_projections(pca_comp, comp_labels)"
   ]
  },
  {
   "cell_type": "markdown",
   "metadata": {},
   "source": [
    "### Visualization with 3 Clusters"
   ]
  },
  {
   "cell_type": "code",
   "execution_count": null,
   "metadata": {},
   "outputs": [],
   "source": [
    "c1, c2, c3 = rows_pca.iloc[:,:3].T.values\n",
    "c4 = rows_data[2]\n",
    "pca_comp = (c1, c2, c3, c4)\n",
    "comp_labels = ('PC1', 'PC2', 'PC3', 'Cluster')\n",
    "results.plot_scatter_projections(pca_comp, comp_labels)"
   ]
  },
  {
   "cell_type": "markdown",
   "metadata": {},
   "source": [
    "### Visualization with 4 Clusters"
   ]
  },
  {
   "cell_type": "code",
   "execution_count": null,
   "metadata": {},
   "outputs": [],
   "source": [
    "c1, c2, c3 = rows_pca.iloc[:,:3].T.values\n",
    "c4 = rows_data[3]\n",
    "pca_comp = (c1, c2, c3, c4)\n",
    "comp_labels = ('PC1', 'PC2', 'PC3', 'Cluster')\n",
    "results.plot_scatter_projections(pca_comp, comp_labels)"
   ]
  },
  {
   "cell_type": "markdown",
   "metadata": {},
   "source": [
    "## Enrichment Results"
   ]
  },
  {
   "cell_type": "code",
   "execution_count": null,
   "metadata": {},
   "outputs": [],
   "source": [
    "enrich_results = results.load_enrichment_results('enrichment_results.txt')"
   ]
  },
  {
   "cell_type": "code",
   "execution_count": null,
   "metadata": {},
   "outputs": [],
   "source": [
    "enrich_results.sort_values(by='quantile').head(10)"
   ]
  },
  {
   "cell_type": "code",
   "execution_count": null,
   "metadata": {},
   "outputs": [],
   "source": []
  }
 ],
 "metadata": {
  "kernelspec": {
   "display_name": "Python 3",
   "language": "python",
   "name": "python3"
  },
  "language_info": {
   "codemirror_mode": {
    "name": "ipython",
    "version": 3
   },
   "file_extension": ".py",
   "mimetype": "text/x-python",
   "name": "python",
   "nbconvert_exporter": "python",
   "pygments_lexer": "ipython3",
   "version": "3.7.4"
  }
 },
 "nbformat": 4,
 "nbformat_minor": 2
}
