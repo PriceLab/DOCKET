{
 "cells": [
  {
   "cell_type": "markdown",
   "metadata": {},
   "source": [
    "### Docket_overview_PCA_plot\n",
    "#### The PCA_plot jupyter notebook is used to visualize the principle conponents which has been calculated by Docket.OverView.FingerPrint module. User selected principle components as shown in  <font color='red'>PC_sele_1</font> and  <font color='red'>PC_sele_2</font> will be actively shown in this brower. The data are sourced in the <font color='blue'>PCA_File</font>  as listed in the <font color='green'>Parameters</font>  section. "
   ]
  },
  {
   "cell_type": "code",
   "execution_count": null,
   "metadata": {},
   "outputs": [],
   "source": [
    "import sys\n",
    "sys.path.append('../integration/scripts/')\n",
    "import Docket_OverView"
   ]
  },
  {
   "cell_type": "markdown",
   "metadata": {},
   "source": [
    "### <font color='green'>Parameters</font> "
   ]
  },
  {
   "cell_type": "code",
   "execution_count": null,
   "metadata": {},
   "outputs": [],
   "source": [
    "PCA_File = \"rows_fp.pca\"\n",
    "PC_sele_1 = \"PC1\"\n",
    "PC_sele_2 = \"PC2\"\n"
   ]
  },
  {
   "cell_type": "markdown",
   "metadata": {},
   "source": [
    "### Run function"
   ]
  },
  {
   "cell_type": "code",
   "execution_count": null,
   "metadata": {},
   "outputs": [],
   "source": [
    "Docket_OverView.pca_plot(PCA_File, PC_sele_1,PC_sele_2)"
   ]
  }
 ],
 "metadata": {
  "kernelspec": {
   "display_name": "Python 3",
   "language": "python",
   "name": "python3"
  },
  "language_info": {
   "codemirror_mode": {
    "name": "ipython",
    "version": 3
   },
   "file_extension": ".py",
   "mimetype": "text/x-python",
   "name": "python",
   "nbconvert_exporter": "python",
   "pygments_lexer": "ipython3",
   "version": "3.7.3"
  }
 },
 "nbformat": 4,
 "nbformat_minor": 2
}
