{
 "cells": [
  {
   "cell_type": "code",
   "execution_count": null,
   "metadata": {},
   "outputs": [],
   "source": [
    "import json\n",
    "import numpy as np\n",
    "import pandas as pd\n",
    "import results"
   ]
  },
  {
   "cell_type": "markdown",
   "metadata": {},
   "source": [
    "## Clustered PCA Results"
   ]
  },
  {
   "cell_type": "code",
   "execution_count": null,
   "metadata": {},
   "outputs": [],
   "source": [
    "# Import row-wise PCA and clustering results\n",
    "rows_pca = pd.read_table('../analyses/rows_fp.pca.gz', index_col=0, header=None)\n",
    "rows_hier_cluster = pd.read_csv('../analyses/rows_hier_clusters.txt.gz', sep='\\t', index_col=0)\n",
    "rows_labels, rows_index, rows_data = list(json.loads(rows_hier_cluster.to_json(orient='split')).values())"
   ]
  },
  {
   "cell_type": "markdown",
   "metadata": {},
   "source": [
    "### Visualization with 2 Clusters"
   ]
  },
  {
   "cell_type": "code",
   "execution_count": null,
   "metadata": {},
   "outputs": [],
   "source": [
    "c1, c2, c3 = rows_pca.iloc[:,:3].T.values\n",
    "c4 = rows_data[1]\n",
    "pca_comp = (c1, c2, c3, c4)\n",
    "comp_labels = ('PC1', 'PC2', 'PC3', 'Cluster')\n",
    "results.plot_scatter_projections(pca_comp, comp_labels)"
   ]
  },
  {
   "cell_type": "markdown",
   "metadata": {},
   "source": [
    "### Visualization with 3 Clusters"
   ]
  },
  {
   "cell_type": "code",
   "execution_count": null,
   "metadata": {},
   "outputs": [],
   "source": [
    "c1, c2, c3 = rows_pca.iloc[:,:3].T.values\n",
    "c4 = rows_data[2]\n",
    "pca_comp = (c1, c2, c3, c4)\n",
    "comp_labels = ('PC1', 'PC2', 'PC3', 'Cluster')\n",
    "results.plot_scatter_projections(pca_comp, comp_labels)"
   ]
  },
  {
   "cell_type": "markdown",
   "metadata": {},
   "source": [
    "### Visualization with 4 Clusters"
   ]
  },
  {
   "cell_type": "code",
   "execution_count": null,
   "metadata": {},
   "outputs": [],
   "source": [
    "c1, c2, c3 = rows_pca.iloc[:,:3].T.values\n",
    "c4 = rows_data[3]\n",
    "pca_comp = (c1, c2, c3, c4)\n",
    "comp_labels = ('PC1', 'PC2', 'PC3', 'Cluster')\n",
    "results.plot_scatter_projections(pca_comp, comp_labels)"
   ]
  },
  {
   "cell_type": "markdown",
   "metadata": {},
   "source": [
    "## Enrichment Results"
   ]
  },
  {
   "cell_type": "markdown",
   "metadata": {},
   "source": [
    "Enrichment analysis is performed on cluster pairs at each branch point in a clustering hierarchy"
   ]
  },
  {
   "cell_type": "markdown",
   "metadata": {},
   "source": [
    "### Level 1 clusters"
   ]
  },
  {
   "cell_type": "code",
   "execution_count": null,
   "metadata": {},
   "outputs": [],
   "source": [
    "enrich_results = pd.read_table('../analyses/enrichment/enrich_results_0.txt.gz', index_col=False)\n",
    "enrich_results.head(20)"
   ]
  },
  {
   "cell_type": "markdown",
   "metadata": {},
   "source": [
    "### Level 2 clusters"
   ]
  },
  {
   "cell_type": "code",
   "execution_count": null,
   "metadata": {},
   "outputs": [],
   "source": [
    "enrich_results = pd.read_table('../analyses/enrichment/enrich_results_1.txt.gz', index_col=False)\n",
    "enrich_results.head(20)"
   ]
  },
  {
   "cell_type": "code",
   "execution_count": null,
   "metadata": {},
   "outputs": [],
   "source": []
  },
  {
   "cell_type": "code",
   "execution_count": null,
   "metadata": {},
   "outputs": [],
   "source": []
  }
 ],
 "metadata": {
  "kernelspec": {
   "display_name": "Python 3",
   "language": "python",
   "name": "python3"
  },
  "language_info": {
   "codemirror_mode": {
    "name": "ipython",
    "version": 3
   },
   "file_extension": ".py",
   "mimetype": "text/x-python",
   "name": "python",
   "nbconvert_exporter": "python",
   "pygments_lexer": "ipython3",
   "version": "3.7.6"
  }
 },
 "nbformat": 4,
 "nbformat_minor": 2
}
