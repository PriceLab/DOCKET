{
 "cells": [
  {
   "cell_type": "code",
   "execution_count": null,
   "metadata": {},
   "outputs": [],
   "source": [
    "import pandas as pd\n",
    "import plotly.express as px\n",
    "import results"
   ]
  },
  {
   "cell_type": "code",
   "execution_count": null,
   "metadata": {},
   "outputs": [],
   "source": [
    "# Load data showing similarity of mutation sites between two data sets\n",
    "similarity = pd.read_csv('similar_mutation_sites.csv')\n",
    "\n",
    "# Filter for high-similarity data\n",
    "similarity = similarity.loc[similarity.sim2 > 0.25]\n",
    "similarity = similarity.loc[similarity.sim3 > 0.05]\n",
    "\n",
    "# Print similarity table\n",
    "similarity"
   ]
  },
  {
   "cell_type": "code",
   "execution_count": null,
   "metadata": {
    "scrolled": false
   },
   "outputs": [],
   "source": [
    "# Load data showing drug sensitivity and resistance associated with gene mutations\n",
    "sensitivity = pd.read_csv('mutation_drug_pairs.csv')\n",
    "\n",
    "# Plot drug sensitivity/resistance scores\n",
    "fig = px.scatter(sensitivity, 'SE', '-logP', hover_data=['F1', 'F2'], color='F1')\n",
    "fig.show()"
   ]
  },
  {
   "cell_type": "code",
   "execution_count": null,
   "metadata": {},
   "outputs": [],
   "source": [
    "# Filter for high-significance results\n",
    "sensitivity = sensitivity.loc[sensitivity.FDR < 0.05]\n",
    "\n",
    "# Print drug sensitivity/resistance table\n",
    "sensitivity"
   ]
  },
  {
   "cell_type": "code",
   "execution_count": null,
   "metadata": {},
   "outputs": [],
   "source": [
    "# Load data with annotated drug sensitivity/resistance data\n",
    "annotated = pd.read_csv('mutation_drug_pairs_annotated.csv')\n",
    "\n",
    "# Plot drug sensitivity/resistance data with drug name annotations\n",
    "annotate_with = 'Drug_Name'\n",
    "fig = px.scatter(annotated, 'SE', '-logP', hover_data=['F1', 'F2', annotate_with], color=annotate_with)\n",
    "fig.show()"
   ]
  },
  {
   "cell_type": "code",
   "execution_count": null,
   "metadata": {},
   "outputs": [],
   "source": [
    "# Plot drug sensitivity/resistance data with drug putative target annotations\n",
    "annotate_with = 'Drug_Putative_Target'\n",
    "fig = px.scatter(annotated, 'SE', '-logP', hover_data=['F1', 'F2', annotate_with], color=annotate_with)\n",
    "fig.show()"
   ]
  },
  {
   "cell_type": "code",
   "execution_count": null,
   "metadata": {},
   "outputs": [],
   "source": [
    "# Plot drug sensitivity/resistance data with drug targeted process or pathway annotations\n",
    "annotate_with = 'Drug_Targeted_process_or_pathway'\n",
    "fig = px.scatter(annotated, 'SE', '-logP', hover_data=['F1', 'F2', annotate_with], color=annotate_with)\n",
    "fig.show()"
   ]
  },
  {
   "cell_type": "code",
   "execution_count": null,
   "metadata": {},
   "outputs": [],
   "source": [
    "# Load data showing pathway-related enrichment of sensitive and resistant gene mutations\n",
    "enrichment = pd.read_csv('mutation_drug_pair_enrichment.csv')"
   ]
  },
  {
   "cell_type": "code",
   "execution_count": null,
   "metadata": {},
   "outputs": [],
   "source": [
    "# Show sensitivity pairs\n",
    "enrichment[enrichment.p_val_sen < 0.05][['F1', 'F2', 'p_val_sen']]"
   ]
  },
  {
   "cell_type": "code",
   "execution_count": null,
   "metadata": {},
   "outputs": [],
   "source": [
    "# Show resistance pairs\n",
    "enrichment[enrichment.p_val_res < 0.05][['F1', 'F2', 'p_val_res']]"
   ]
  },
  {
   "cell_type": "code",
   "execution_count": null,
   "metadata": {},
   "outputs": [],
   "source": [
    "# Trim for low-p-value results and display graph visualizations\n",
    "p_val_threshold = 0.05\n",
    "trimmed = annotated.loc[annotated['p'] <= p_val_threshold]"
   ]
  },
  {
   "cell_type": "code",
   "execution_count": null,
   "metadata": {},
   "outputs": [],
   "source": [
    "# Show graph annotated with drug names\n",
    "results.generate_graph_visualization(trimmed, annotate='Drug_Name')"
   ]
  },
  {
   "cell_type": "code",
   "execution_count": null,
   "metadata": {},
   "outputs": [],
   "source": [
    "# Show graph annotated with drug putative targets\n",
    "results.generate_graph_visualization(trimmed, annotate='Drug_Putative_Target')"
   ]
  },
  {
   "cell_type": "code",
   "execution_count": null,
   "metadata": {},
   "outputs": [],
   "source": [
    "# Show graph annotated with drug targeted processes or pathways\n",
    "results.generate_graph_visualization(trimmed, annotate='Drug_Targeted_process_or_pathway')"
   ]
  },
  {
   "cell_type": "code",
   "execution_count": null,
   "metadata": {},
   "outputs": [],
   "source": []
  }
 ],
 "metadata": {
  "kernelspec": {
   "display_name": "Python 3",
   "language": "python",
   "name": "python3"
  },
  "language_info": {
   "codemirror_mode": {
    "name": "ipython",
    "version": 3
   },
   "file_extension": ".py",
   "mimetype": "text/x-python",
   "name": "python",
   "nbconvert_exporter": "python",
   "pygments_lexer": "ipython3",
   "version": "3.7.4"
  }
 },
 "nbformat": 4,
 "nbformat_minor": 2
}
